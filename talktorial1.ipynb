{
 "cells": [
  {
   "cell_type": "markdown",
   "metadata": {},
   "source": [
    "# Talktorial 1\n",
    "\n",
    "# Compound data acquisition (ChEMBL)\n",
    "\n",
    "#### Developed in the CADD seminars 2017 and 2018, AG Volkamer, Charité/FU Berlin \n",
    "\n",
    "Paula Junge and Svetlana Leng"
   ]
  },
  {
   "cell_type": "markdown",
   "metadata": {},
   "source": [
    "## Aim of this talktorial\n",
    "\n",
    "We learn how to extract data from ChEMBL:\n",
    "\n",
    "* Find ligands which were tested on a certain target\n",
    "* Filter by available bioactivity data\n",
    "* Calculate pIC50 values\n",
    "* Merge dataframes and draw extracted molecules\n",
    "\n",
    "## Learning goals\n",
    "\n",
    "\n",
    "### Theory\n",
    "\n",
    "* ChEMBL database\n",
    "    * ChEMBL web services\n",
    "    * ChEMBL webresource client\n",
    "* Compound activity measures\n",
    "    * IC50\n",
    "    * pIC50\n",
    "\n",
    "### Practical\n",
    "    \n",
    "Goal: Get list of compounds with bioactivity data for a given target\n",
    "\n",
    "* Connect to ChEMBL database\n",
    "* Get target data (EGFR kinase)\n",
    "* Bioactivity data\n",
    "    * Download and filter bioactivities\n",
    "    * Clean and convert\n",
    "* Compound data\n",
    "    * Get list of compounds\n",
    "    * Prepare output data\n",
    "* Output\n",
    "    * Draw molecules with highest pIC50\n",
    "    * Write output file\n",
    "\n",
    "\n",
    "## References\n",
    "\n",
    "* ChEMBL bioactivity database (https://www.ncbi.nlm.nih.gov/pmc/articles/PMC5210557/)\n",
    "* ChEMBL web services: <i>Nucleic Acids Res.</i> (2015), <b>43</b>, 612-620 (https://academic.oup.com/nar/article/43/W1/W612/2467881) \n",
    "* ChEMBL webrescource client GitHub (https://github.com/chembl/chembl_webresource_client)\n",
    "* myChEMBL webservices version 2.x (https://github.com/chembl/mychembl/blob/master/ipython_notebooks/09_myChEMBL_web_services.ipynb)\n",
    "* ChEMBL web-interface (https://www.ebi.ac.uk/chembl/)\n",
    "* EBI-RDF platform (https://www.ncbi.nlm.nih.gov/pubmed/24413672)\n",
    "* IC50 and pIC50 (https://en.wikipedia.org/wiki/IC50)\n",
    "* UniProt website (https://www.uniprot.org/)"
   ]
  },
  {
   "cell_type": "markdown",
   "metadata": {},
   "source": [
    "_____________________________________________________________________________________________________________________\n",
    "\n",
    "\n",
    "## Theory\n",
    "\n",
    "### ChEMBL database\n",
    "\n",
    "* Open large-scale bioactivity database\n",
    "* **Current data content (as of 10.2018):**\n",
    "    * \\>1.8 million distinct compound structures\n",
    "    * \\>15 million activity values from 1 million assays\n",
    "    * Assays are mapped to ∼12 000 targets\n",
    "* **Data sources** include scientific literature, PubChem bioassays, Drugs for Neglected Diseases Initiative (DNDi), BindingDB database, ...\n",
    "* ChEMBL data can be accessed via a [web-interface](https://www.ebi.ac.uk/chembl/), the [EBI-RDF platform](https://www.ncbi.nlm.nih.gov/pubmed/24413672) and the [ChEMBL web services](https://www.ncbi.nlm.nih.gov/pmc/articles/PMC4489243/#B5)\n",
    " \n",
    "    \n",
    "#### ChEMBL web services\n",
    "\n",
    "* RESTful web service\n",
    "* ChEMBL web service version 2.x resource schema: \n",
    "\n",
    "[![ChEMBL web service schema](images/chembl_webservices_schema_diagram.jpg)](https://www.ncbi.nlm.nih.gov/pmc/articles/PMC4489243/figure/F2/)\n",
    "\n",
    "*Figure 1:* \n",
    "\"ChEMBL web service schema diagram. The oval shapes represent ChEMBL web service resources and the line between two resources indicates that they share a common attribute. The arrow direction shows where the primary information about a resource type can be found. A dashed line indicates the relationship between two resources behaves differently. For example, the `Image` resource provides a graphical based representation of a `Molecule`.\"\n",
    "Figure and description taken from: [<i>Nucleic Acids Res.</i> (2015), <b>43</b>, 612-620](https://academic.oup.com/nar/article/43/W1/W612/2467881).\n",
    "\n",
    "\n",
    "#### ChEMBL webresource client\n",
    "\n",
    "* Python client library for accessing ChEMBL data\n",
    "* Handles interaction with the HTTPS protocol\n",
    "* Lazy evaluation of results -> reduced number of network requests\n",
    "\n",
    "### Compound activity measures\n",
    "\n",
    "#### IC50 \n",
    "\n",
    "* [Half maximal inhibitory concentration](https://en.wikipedia.org/wiki/IC50)\n",
    "* Indicates how much of a particular drug or other substance is needed to inhibit a given biological process by half\n",
    "\n",
    "[<img src=\"https://upload.wikimedia.org/wikipedia/commons/8/81/Example_IC50_curve_demonstrating_visually_how_IC50_is_derived.png\" width=\"450\" align=\"center\" >](https://commons.wikimedia.org/wiki/File:Example_IC50_curve_demonstrating_visually_how_IC50_is_derived.png)\n",
    "\n",
    "*Figure 2:* Visual demonstration of how to derive an IC50 value: Arrange data with inhibition on vertical axis and log(concentration) on horizontal axis; then identify max and min inhibition; then the IC50 is the concentration at which the curve passes through the 50% inhibition level.\n",
    "\n",
    "#### pIC50\n",
    "\n",
    "* To facilitate the comparison of IC50 values, we define pIC50 values on a logarithmic scale, such that <br />\n",
    "    $ pIC_{50} = -log_{10}(IC_{50}) $ where $ IC_{50}$ is specified in units of M.\n",
    "* Higher pIC50 values indicate exponentially greater potency of the drug\n",
    "* pIC50 is given in terms of molar concentration (mol/L or M) <br />\n",
    "    * IC50 should be specified in M to convert to pIC50  \n",
    "    * For nM: $pIC_{50} = -log_{10}(IC_{50}*10^{-9})= 9-log_{10}(IC_{50}) $\n",
    "    \n",
    "Besides, IC50 and pIC50, other bioactivity measures are used, such as the equilibrium constant [KI](https://en.wikipedia.org/wiki/Equilibrium_constant) and the half maximal effective concentration  [EC50](https://en.wikipedia.org/wiki/EC50)."
   ]
  },
  {
   "cell_type": "markdown",
   "metadata": {},
   "source": [
    "## Practical\n",
    "\n",
    "In the following, we want to download all molecules that have been tested against our target of interest, the EGFR kinase.\n",
    "\n",
    "### Connect to ChEMBL database"
   ]
  },
  {
   "cell_type": "markdown",
   "metadata": {},
   "source": [
    "First, the ChEMBL webresource client as well as other python libraries are imported."
   ]
  },
  {
   "cell_type": "code",
   "execution_count": 2,
   "metadata": {},
   "outputs": [],
   "source": [
    "from chembl_webresource_client.new_client import new_client\n",
    "import pandas as pd\n",
    "import math\n",
    "from rdkit.Chem import PandasTools"
   ]
  },
  {
   "cell_type": "markdown",
   "metadata": {},
   "source": [
    "Create resource objects for API access."
   ]
  },
  {
   "cell_type": "code",
   "execution_count": 3,
   "metadata": {},
   "outputs": [],
   "source": [
    "targets = new_client.target\n",
    "compounds = new_client.molecule\n",
    "bioactivities = new_client.activity"
   ]
  },
  {
   "cell_type": "markdown",
   "metadata": {},
   "source": [
    "## Target data\n",
    "\n",
    "* Get UniProt-ID (http://www.uniprot.org/uniprot/P00533) of the target of interest (EGFR kinase) from UniProt website (https://www.uniprot.org/)\n",
    "* Use UniProt-ID to get target information\n",
    "* Select a different UniProt-ID if you are interested into another target"
   ]
  },
  {
   "cell_type": "code",
   "execution_count": 4,
   "metadata": {},
   "outputs": [
    {
     "name": "stdout",
     "output_type": "stream",
     "text": [
      "<class 'chembl_webresource_client.query_set.QuerySet'>\n"
     ]
    },
    {
     "data": {
      "text/html": [
       "<div>\n",
       "<style scoped>\n",
       "    .dataframe tbody tr th:only-of-type {\n",
       "        vertical-align: middle;\n",
       "    }\n",
       "\n",
       "    .dataframe tbody tr th {\n",
       "        vertical-align: top;\n",
       "    }\n",
       "\n",
       "    .dataframe thead th {\n",
       "        text-align: right;\n",
       "    }\n",
       "</style>\n",
       "<table border=\"1\" class=\"dataframe\">\n",
       "  <thead>\n",
       "    <tr style=\"text-align: right;\">\n",
       "      <th></th>\n",
       "      <th>organism</th>\n",
       "      <th>pref_name</th>\n",
       "      <th>target_chembl_id</th>\n",
       "      <th>target_type</th>\n",
       "    </tr>\n",
       "  </thead>\n",
       "  <tbody>\n",
       "    <tr>\n",
       "      <th>0</th>\n",
       "      <td>Homo sapiens</td>\n",
       "      <td>Leukocyte elastase</td>\n",
       "      <td>CHEMBL248</td>\n",
       "      <td>SINGLE PROTEIN</td>\n",
       "    </tr>\n",
       "    <tr>\n",
       "      <th>1</th>\n",
       "      <td>Homo sapiens</td>\n",
       "      <td>Leukocyte elastase</td>\n",
       "      <td>CHEMBL248</td>\n",
       "      <td>SINGLE PROTEIN</td>\n",
       "    </tr>\n",
       "  </tbody>\n",
       "</table>\n",
       "</div>"
      ],
      "text/plain": [
       "       organism           pref_name target_chembl_id     target_type\n",
       "0  Homo sapiens  Leukocyte elastase        CHEMBL248  SINGLE PROTEIN\n",
       "1  Homo sapiens  Leukocyte elastase        CHEMBL248  SINGLE PROTEIN"
      ]
     },
     "execution_count": 4,
     "metadata": {},
     "output_type": "execute_result"
    }
   ],
   "source": [
    "# uniprot_id = 'P00533'\n",
    "\n",
    "uniprot_id = \"P08246\"\n",
    "\n",
    "# Get target information from ChEMBL but restrict to specified values only\n",
    "target_P00533 = targets.get(target_components__accession=uniprot_id) \\\n",
    "                       .only('target_chembl_id', 'organism', 'pref_name', 'target_type')\n",
    "print(type(target_P00533))\n",
    "pd.DataFrame.from_records(target_P00533)"
   ]
  },
  {
   "cell_type": "markdown",
   "metadata": {},
   "source": [
    "### After checking the entries, we select the first entry as our target of interest\n",
    "`CHEMBL203`: It is a single protein and represents the human Epidermal growth factor receptor (EGFR, also named erbB1) "
   ]
  },
  {
   "cell_type": "code",
   "execution_count": 5,
   "metadata": {},
   "outputs": [
    {
     "data": {
      "text/plain": [
       "{'organism': 'Homo sapiens',\n",
       " 'pref_name': 'Leukocyte elastase',\n",
       " 'target_chembl_id': 'CHEMBL248',\n",
       " 'target_type': 'SINGLE PROTEIN'}"
      ]
     },
     "execution_count": 5,
     "metadata": {},
     "output_type": "execute_result"
    }
   ],
   "source": [
    "target = target_P00533[0]\n",
    "target"
   ]
  },
  {
   "cell_type": "markdown",
   "metadata": {},
   "source": [
    "Save selected ChEMBL-ID."
   ]
  },
  {
   "cell_type": "code",
   "execution_count": 6,
   "metadata": {},
   "outputs": [
    {
     "data": {
      "text/plain": [
       "'CHEMBL248'"
      ]
     },
     "execution_count": 6,
     "metadata": {},
     "output_type": "execute_result"
    }
   ],
   "source": [
    "chembl_id = target['target_chembl_id']\n",
    "chembl_id"
   ]
  },
  {
   "cell_type": "markdown",
   "metadata": {},
   "source": [
    "### Bioactivity data\n",
    "\n",
    "Now, we want to query bioactivity data for the target of interest.\n",
    "\n",
    "#### Download and filter bioactivities for the target"
   ]
  },
  {
   "cell_type": "markdown",
   "metadata": {},
   "source": [
    "In this step, we download and filter the bioactivity data and only consider\n",
    "\n",
    "* human proteins\n",
    "* bioactivity type IC50\n",
    "* exact measurements (relation '=')    \n",
    "* binding data (assay type 'B')"
   ]
  },
  {
   "cell_type": "code",
   "execution_count": 16,
   "metadata": {},
   "outputs": [
    {
     "data": {
      "text/plain": [
       "(1494, 11, chembl_webresource_client.query_set.QuerySet, dict)"
      ]
     },
     "execution_count": 16,
     "metadata": {},
     "output_type": "execute_result"
    }
   ],
   "source": [
    "bioact = bioactivities.filter(target_chembl_id = chembl_id) \\\n",
    "                      .filter(type = 'IC50') \\\n",
    "                      .filter(relation = '=') \\\n",
    "                      .filter(assay_type = 'B') \\\n",
    "                      .only('activity_id','assay_chembl_id', 'assay_description', 'assay_type', \\\n",
    "                            'molecule_chembl_id', 'type', 'units', 'relation', 'value', \\\n",
    "                            'target_chembl_id', 'target_organism')\n",
    "len(bioact), len(bioact[0]), type(bioact), type(bioact[0])"
   ]
  },
  {
   "cell_type": "markdown",
   "metadata": {},
   "source": [
    "If you experience difficulties to query the ChEMBL database, we provide here a file containing the results for the query in the previous cell (11 April 2019). We do this using the Python package pickle which serializes Python objects so they can be saved to a file, and loaded in a program again later on.\n",
    "(Learn more about object serialization on [DataCamp](https://www.datacamp.com/community/tutorials/pickle-python-tutorial))\n",
    "\n",
    "You can load the \"pickled\" compounds by uncommenting and running the next cell."
   ]
  },
  {
   "cell_type": "code",
   "execution_count": 8,
   "metadata": {},
   "outputs": [],
   "source": [
    "#import pickle\n",
    "#bioact = pickle.load(open(\"../data/T1/EGFR_compounds_from_chembl_query_20190411.p\", \"rb\"))"
   ]
  },
  {
   "cell_type": "markdown",
   "metadata": {},
   "source": [
    "#### Clean and convert bioactivity data\n",
    "\n",
    "The data is stored as a list of dictionaries"
   ]
  },
  {
   "cell_type": "code",
   "execution_count": 17,
   "metadata": {},
   "outputs": [
    {
     "data": {
      "text/plain": [
       "{'activity_id': 35188,\n",
       " 'assay_chembl_id': 'CHEMBL676202',\n",
       " 'assay_description': 'The compound was evaluated for its inhibitory activity against human neutrophil elastase (HNE)',\n",
       " 'assay_type': 'B',\n",
       " 'molecule_chembl_id': 'CHEMBL543416',\n",
       " 'relation': '=',\n",
       " 'target_chembl_id': 'CHEMBL248',\n",
       " 'target_organism': 'Homo sapiens',\n",
       " 'type': 'IC50',\n",
       " 'units': 'uM',\n",
       " 'value': '0.011'}"
      ]
     },
     "execution_count": 17,
     "metadata": {},
     "output_type": "execute_result"
    }
   ],
   "source": [
    "bioact[0]"
   ]
  },
  {
   "cell_type": "markdown",
   "metadata": {},
   "source": [
    "Convert to pandas dataframe (this might take some minutes)."
   ]
  },
  {
   "cell_type": "code",
   "execution_count": 18,
   "metadata": {},
   "outputs": [
    {
     "data": {
      "text/html": [
       "<div>\n",
       "<style scoped>\n",
       "    .dataframe tbody tr th:only-of-type {\n",
       "        vertical-align: middle;\n",
       "    }\n",
       "\n",
       "    .dataframe tbody tr th {\n",
       "        vertical-align: top;\n",
       "    }\n",
       "\n",
       "    .dataframe thead th {\n",
       "        text-align: right;\n",
       "    }\n",
       "</style>\n",
       "<table border=\"1\" class=\"dataframe\">\n",
       "  <thead>\n",
       "    <tr style=\"text-align: right;\">\n",
       "      <th></th>\n",
       "      <th>activity_id</th>\n",
       "      <th>assay_chembl_id</th>\n",
       "      <th>assay_description</th>\n",
       "      <th>assay_type</th>\n",
       "      <th>molecule_chembl_id</th>\n",
       "      <th>relation</th>\n",
       "      <th>target_chembl_id</th>\n",
       "      <th>target_organism</th>\n",
       "      <th>type</th>\n",
       "      <th>units</th>\n",
       "      <th>value</th>\n",
       "    </tr>\n",
       "  </thead>\n",
       "  <tbody>\n",
       "    <tr>\n",
       "      <th>0</th>\n",
       "      <td>35188</td>\n",
       "      <td>CHEMBL676202</td>\n",
       "      <td>The compound was evaluated for its inhibitory ...</td>\n",
       "      <td>B</td>\n",
       "      <td>CHEMBL543416</td>\n",
       "      <td>=</td>\n",
       "      <td>CHEMBL248</td>\n",
       "      <td>Homo sapiens</td>\n",
       "      <td>IC50</td>\n",
       "      <td>uM</td>\n",
       "      <td>0.011</td>\n",
       "    </tr>\n",
       "    <tr>\n",
       "      <th>1</th>\n",
       "      <td>35188</td>\n",
       "      <td>CHEMBL676202</td>\n",
       "      <td>The compound was evaluated for its inhibitory ...</td>\n",
       "      <td>B</td>\n",
       "      <td>CHEMBL543416</td>\n",
       "      <td>=</td>\n",
       "      <td>CHEMBL248</td>\n",
       "      <td>Homo sapiens</td>\n",
       "      <td>IC50</td>\n",
       "      <td>uM</td>\n",
       "      <td>0.011</td>\n",
       "    </tr>\n",
       "    <tr>\n",
       "      <th>2</th>\n",
       "      <td>35192</td>\n",
       "      <td>CHEMBL676203</td>\n",
       "      <td>The compound was evaluated for its inhibitory ...</td>\n",
       "      <td>B</td>\n",
       "      <td>CHEMBL543416</td>\n",
       "      <td>=</td>\n",
       "      <td>CHEMBL248</td>\n",
       "      <td>Homo sapiens</td>\n",
       "      <td>IC50</td>\n",
       "      <td>uM</td>\n",
       "      <td>0.15</td>\n",
       "    </tr>\n",
       "    <tr>\n",
       "      <th>3</th>\n",
       "      <td>35193</td>\n",
       "      <td>CHEMBL752072</td>\n",
       "      <td>The compound was evaluated for its inhibitory ...</td>\n",
       "      <td>B</td>\n",
       "      <td>CHEMBL543416</td>\n",
       "      <td>=</td>\n",
       "      <td>CHEMBL248</td>\n",
       "      <td>Homo sapiens</td>\n",
       "      <td>IC50</td>\n",
       "      <td>uM</td>\n",
       "      <td>0.26</td>\n",
       "    </tr>\n",
       "    <tr>\n",
       "      <th>4</th>\n",
       "      <td>46161</td>\n",
       "      <td>CHEMBL675350</td>\n",
       "      <td>Compound was tested for its activity against h...</td>\n",
       "      <td>B</td>\n",
       "      <td>CHEMBL95813</td>\n",
       "      <td>=</td>\n",
       "      <td>CHEMBL248</td>\n",
       "      <td>Homo sapiens</td>\n",
       "      <td>IC50</td>\n",
       "      <td>uM</td>\n",
       "      <td>0.3</td>\n",
       "    </tr>\n",
       "    <tr>\n",
       "      <th>5</th>\n",
       "      <td>46174</td>\n",
       "      <td>CHEMBL675350</td>\n",
       "      <td>Compound was tested for its activity against h...</td>\n",
       "      <td>B</td>\n",
       "      <td>CHEMBL330647</td>\n",
       "      <td>=</td>\n",
       "      <td>CHEMBL248</td>\n",
       "      <td>Homo sapiens</td>\n",
       "      <td>IC50</td>\n",
       "      <td>uM</td>\n",
       "      <td>25.0</td>\n",
       "    </tr>\n",
       "    <tr>\n",
       "      <th>6</th>\n",
       "      <td>50141</td>\n",
       "      <td>CHEMBL675350</td>\n",
       "      <td>Compound was tested for its activity against h...</td>\n",
       "      <td>B</td>\n",
       "      <td>CHEMBL318052</td>\n",
       "      <td>=</td>\n",
       "      <td>CHEMBL248</td>\n",
       "      <td>Homo sapiens</td>\n",
       "      <td>IC50</td>\n",
       "      <td>uM</td>\n",
       "      <td>36.0</td>\n",
       "    </tr>\n",
       "    <tr>\n",
       "      <th>7</th>\n",
       "      <td>51352</td>\n",
       "      <td>CHEMBL675350</td>\n",
       "      <td>Compound was tested for its activity against h...</td>\n",
       "      <td>B</td>\n",
       "      <td>CHEMBL319173</td>\n",
       "      <td>=</td>\n",
       "      <td>CHEMBL248</td>\n",
       "      <td>Homo sapiens</td>\n",
       "      <td>IC50</td>\n",
       "      <td>uM</td>\n",
       "      <td>1.2</td>\n",
       "    </tr>\n",
       "    <tr>\n",
       "      <th>8</th>\n",
       "      <td>54831</td>\n",
       "      <td>CHEMBL676202</td>\n",
       "      <td>The compound was evaluated for its inhibitory ...</td>\n",
       "      <td>B</td>\n",
       "      <td>CHEMBL2368616</td>\n",
       "      <td>=</td>\n",
       "      <td>CHEMBL248</td>\n",
       "      <td>Homo sapiens</td>\n",
       "      <td>IC50</td>\n",
       "      <td>uM</td>\n",
       "      <td>0.022</td>\n",
       "    </tr>\n",
       "    <tr>\n",
       "      <th>9</th>\n",
       "      <td>54835</td>\n",
       "      <td>CHEMBL878396</td>\n",
       "      <td>The compound was evaluated for its inhibitory ...</td>\n",
       "      <td>B</td>\n",
       "      <td>CHEMBL2368616</td>\n",
       "      <td>=</td>\n",
       "      <td>CHEMBL248</td>\n",
       "      <td>Homo sapiens</td>\n",
       "      <td>IC50</td>\n",
       "      <td>uM</td>\n",
       "      <td>0.67</td>\n",
       "    </tr>\n",
       "  </tbody>\n",
       "</table>\n",
       "</div>"
      ],
      "text/plain": [
       "   activity_id assay_chembl_id  \\\n",
       "0        35188    CHEMBL676202   \n",
       "1        35188    CHEMBL676202   \n",
       "2        35192    CHEMBL676203   \n",
       "3        35193    CHEMBL752072   \n",
       "4        46161    CHEMBL675350   \n",
       "5        46174    CHEMBL675350   \n",
       "6        50141    CHEMBL675350   \n",
       "7        51352    CHEMBL675350   \n",
       "8        54831    CHEMBL676202   \n",
       "9        54835    CHEMBL878396   \n",
       "\n",
       "                                   assay_description assay_type  \\\n",
       "0  The compound was evaluated for its inhibitory ...          B   \n",
       "1  The compound was evaluated for its inhibitory ...          B   \n",
       "2  The compound was evaluated for its inhibitory ...          B   \n",
       "3  The compound was evaluated for its inhibitory ...          B   \n",
       "4  Compound was tested for its activity against h...          B   \n",
       "5  Compound was tested for its activity against h...          B   \n",
       "6  Compound was tested for its activity against h...          B   \n",
       "7  Compound was tested for its activity against h...          B   \n",
       "8  The compound was evaluated for its inhibitory ...          B   \n",
       "9  The compound was evaluated for its inhibitory ...          B   \n",
       "\n",
       "  molecule_chembl_id relation target_chembl_id target_organism  type units  \\\n",
       "0       CHEMBL543416        =        CHEMBL248    Homo sapiens  IC50    uM   \n",
       "1       CHEMBL543416        =        CHEMBL248    Homo sapiens  IC50    uM   \n",
       "2       CHEMBL543416        =        CHEMBL248    Homo sapiens  IC50    uM   \n",
       "3       CHEMBL543416        =        CHEMBL248    Homo sapiens  IC50    uM   \n",
       "4        CHEMBL95813        =        CHEMBL248    Homo sapiens  IC50    uM   \n",
       "5       CHEMBL330647        =        CHEMBL248    Homo sapiens  IC50    uM   \n",
       "6       CHEMBL318052        =        CHEMBL248    Homo sapiens  IC50    uM   \n",
       "7       CHEMBL319173        =        CHEMBL248    Homo sapiens  IC50    uM   \n",
       "8      CHEMBL2368616        =        CHEMBL248    Homo sapiens  IC50    uM   \n",
       "9      CHEMBL2368616        =        CHEMBL248    Homo sapiens  IC50    uM   \n",
       "\n",
       "   value  \n",
       "0  0.011  \n",
       "1  0.011  \n",
       "2   0.15  \n",
       "3   0.26  \n",
       "4    0.3  \n",
       "5   25.0  \n",
       "6   36.0  \n",
       "7    1.2  \n",
       "8  0.022  \n",
       "9   0.67  "
      ]
     },
     "execution_count": 18,
     "metadata": {},
     "output_type": "execute_result"
    }
   ],
   "source": [
    "bioact_df = pd.DataFrame.from_records(bioact)\n",
    "bioact_df.head(10)"
   ]
  },
  {
   "cell_type": "code",
   "execution_count": 19,
   "metadata": {},
   "outputs": [
    {
     "data": {
      "text/plain": [
       "(1495, 11)"
      ]
     },
     "execution_count": 19,
     "metadata": {},
     "output_type": "execute_result"
    }
   ],
   "source": [
    "bioact_df.shape"
   ]
  },
  {
   "cell_type": "markdown",
   "metadata": {},
   "source": [
    "Delete entries with missing values."
   ]
  },
  {
   "cell_type": "code",
   "execution_count": 20,
   "metadata": {},
   "outputs": [
    {
     "data": {
      "text/plain": [
       "(1491, 11)"
      ]
     },
     "execution_count": 20,
     "metadata": {},
     "output_type": "execute_result"
    }
   ],
   "source": [
    "bioact_df = bioact_df.dropna(axis=0, how = 'any')\n",
    "bioact_df.shape"
   ]
  },
  {
   "cell_type": "markdown",
   "metadata": {},
   "source": [
    "Delete duplicates:\n",
    "Sometimes the same molecule (`molecule_chembl_id`) has been tested more than once, in this case, we only keep the first one."
   ]
  },
  {
   "cell_type": "code",
   "execution_count": 21,
   "metadata": {},
   "outputs": [
    {
     "data": {
      "text/plain": [
       "(1400, 11)"
      ]
     },
     "execution_count": 21,
     "metadata": {},
     "output_type": "execute_result"
    }
   ],
   "source": [
    "bioact_df = bioact_df.drop_duplicates('molecule_chembl_id', keep = 'first')\n",
    "bioact_df.shape"
   ]
  },
  {
   "cell_type": "markdown",
   "metadata": {},
   "source": [
    "We would like to only keep bioactivity data measured in molar units. The following print statements will help us to see what units are contained and to control what is kept after dropping some rows."
   ]
  },
  {
   "cell_type": "code",
   "execution_count": 22,
   "metadata": {},
   "outputs": [
    {
     "name": "stdout",
     "output_type": "stream",
     "text": [
      "['uM' 'nM' 'M' 'mM' 'ug ml-1']\n",
      "['uM' 'nM' 'M' 'mM']\n"
     ]
    },
    {
     "data": {
      "text/plain": [
       "(1398, 11)"
      ]
     },
     "execution_count": 22,
     "metadata": {},
     "output_type": "execute_result"
    }
   ],
   "source": [
    "print(bioact_df.units.unique())\n",
    "bioact_df = bioact_df.drop(bioact_df.index[~bioact_df.units.str.contains('M')])\n",
    "print(bioact_df.units.unique())\n",
    "bioact_df.shape"
   ]
  },
  {
   "cell_type": "markdown",
   "metadata": {},
   "source": [
    "Since we deleted some rows, but we want to iterate over the index later, we reset index to be continuous."
   ]
  },
  {
   "cell_type": "code",
   "execution_count": 23,
   "metadata": {},
   "outputs": [
    {
     "data": {
      "text/html": [
       "<div>\n",
       "<style scoped>\n",
       "    .dataframe tbody tr th:only-of-type {\n",
       "        vertical-align: middle;\n",
       "    }\n",
       "\n",
       "    .dataframe tbody tr th {\n",
       "        vertical-align: top;\n",
       "    }\n",
       "\n",
       "    .dataframe thead th {\n",
       "        text-align: right;\n",
       "    }\n",
       "</style>\n",
       "<table border=\"1\" class=\"dataframe\">\n",
       "  <thead>\n",
       "    <tr style=\"text-align: right;\">\n",
       "      <th></th>\n",
       "      <th>activity_id</th>\n",
       "      <th>assay_chembl_id</th>\n",
       "      <th>assay_description</th>\n",
       "      <th>assay_type</th>\n",
       "      <th>molecule_chembl_id</th>\n",
       "      <th>relation</th>\n",
       "      <th>target_chembl_id</th>\n",
       "      <th>target_organism</th>\n",
       "      <th>type</th>\n",
       "      <th>units</th>\n",
       "      <th>value</th>\n",
       "    </tr>\n",
       "  </thead>\n",
       "  <tbody>\n",
       "    <tr>\n",
       "      <th>0</th>\n",
       "      <td>35188</td>\n",
       "      <td>CHEMBL676202</td>\n",
       "      <td>The compound was evaluated for its inhibitory ...</td>\n",
       "      <td>B</td>\n",
       "      <td>CHEMBL543416</td>\n",
       "      <td>=</td>\n",
       "      <td>CHEMBL248</td>\n",
       "      <td>Homo sapiens</td>\n",
       "      <td>IC50</td>\n",
       "      <td>uM</td>\n",
       "      <td>0.011</td>\n",
       "    </tr>\n",
       "    <tr>\n",
       "      <th>1</th>\n",
       "      <td>46161</td>\n",
       "      <td>CHEMBL675350</td>\n",
       "      <td>Compound was tested for its activity against h...</td>\n",
       "      <td>B</td>\n",
       "      <td>CHEMBL95813</td>\n",
       "      <td>=</td>\n",
       "      <td>CHEMBL248</td>\n",
       "      <td>Homo sapiens</td>\n",
       "      <td>IC50</td>\n",
       "      <td>uM</td>\n",
       "      <td>0.3</td>\n",
       "    </tr>\n",
       "    <tr>\n",
       "      <th>2</th>\n",
       "      <td>46174</td>\n",
       "      <td>CHEMBL675350</td>\n",
       "      <td>Compound was tested for its activity against h...</td>\n",
       "      <td>B</td>\n",
       "      <td>CHEMBL330647</td>\n",
       "      <td>=</td>\n",
       "      <td>CHEMBL248</td>\n",
       "      <td>Homo sapiens</td>\n",
       "      <td>IC50</td>\n",
       "      <td>uM</td>\n",
       "      <td>25.0</td>\n",
       "    </tr>\n",
       "    <tr>\n",
       "      <th>3</th>\n",
       "      <td>50141</td>\n",
       "      <td>CHEMBL675350</td>\n",
       "      <td>Compound was tested for its activity against h...</td>\n",
       "      <td>B</td>\n",
       "      <td>CHEMBL318052</td>\n",
       "      <td>=</td>\n",
       "      <td>CHEMBL248</td>\n",
       "      <td>Homo sapiens</td>\n",
       "      <td>IC50</td>\n",
       "      <td>uM</td>\n",
       "      <td>36.0</td>\n",
       "    </tr>\n",
       "    <tr>\n",
       "      <th>4</th>\n",
       "      <td>51352</td>\n",
       "      <td>CHEMBL675350</td>\n",
       "      <td>Compound was tested for its activity against h...</td>\n",
       "      <td>B</td>\n",
       "      <td>CHEMBL319173</td>\n",
       "      <td>=</td>\n",
       "      <td>CHEMBL248</td>\n",
       "      <td>Homo sapiens</td>\n",
       "      <td>IC50</td>\n",
       "      <td>uM</td>\n",
       "      <td>1.2</td>\n",
       "    </tr>\n",
       "  </tbody>\n",
       "</table>\n",
       "</div>"
      ],
      "text/plain": [
       "   activity_id assay_chembl_id  \\\n",
       "0        35188    CHEMBL676202   \n",
       "1        46161    CHEMBL675350   \n",
       "2        46174    CHEMBL675350   \n",
       "3        50141    CHEMBL675350   \n",
       "4        51352    CHEMBL675350   \n",
       "\n",
       "                                   assay_description assay_type  \\\n",
       "0  The compound was evaluated for its inhibitory ...          B   \n",
       "1  Compound was tested for its activity against h...          B   \n",
       "2  Compound was tested for its activity against h...          B   \n",
       "3  Compound was tested for its activity against h...          B   \n",
       "4  Compound was tested for its activity against h...          B   \n",
       "\n",
       "  molecule_chembl_id relation target_chembl_id target_organism  type units  \\\n",
       "0       CHEMBL543416        =        CHEMBL248    Homo sapiens  IC50    uM   \n",
       "1        CHEMBL95813        =        CHEMBL248    Homo sapiens  IC50    uM   \n",
       "2       CHEMBL330647        =        CHEMBL248    Homo sapiens  IC50    uM   \n",
       "3       CHEMBL318052        =        CHEMBL248    Homo sapiens  IC50    uM   \n",
       "4       CHEMBL319173        =        CHEMBL248    Homo sapiens  IC50    uM   \n",
       "\n",
       "   value  \n",
       "0  0.011  \n",
       "1    0.3  \n",
       "2   25.0  \n",
       "3   36.0  \n",
       "4    1.2  "
      ]
     },
     "execution_count": 23,
     "metadata": {},
     "output_type": "execute_result"
    }
   ],
   "source": [
    "bioact_df = bioact_df.reset_index(drop=True) \n",
    "bioact_df.head()"
   ]
  },
  {
   "cell_type": "markdown",
   "metadata": {},
   "source": [
    "To allow further comparison of the IC50 values, we convert all units to nM. First, we write a helper function, which can be applied to the whole dataframe in the next step."
   ]
  },
  {
   "cell_type": "code",
   "execution_count": 24,
   "metadata": {},
   "outputs": [],
   "source": [
    "def convert_to_NM(unit, bioactivity):\n",
    "#     c=0\n",
    "# for i, unit in enumerate(bioact_df.units):\n",
    "    if unit != \"nM\":        \n",
    "        if unit == \"pM\":\n",
    "            value = float(bioactivity)/1000\n",
    "        elif unit == \"10'-11M\":\n",
    "            value = float(bioactivity)/100\n",
    "        elif unit == \"10'-10M\":\n",
    "            value = float(bioactivity)/10\n",
    "        elif unit == \"10'-8M\":\n",
    "            value = float(bioactivity)*10\n",
    "        elif unit == \"10'-1microM\" or unit == \"10'-7M\":\n",
    "            value = float(bioactivity)*100\n",
    "        elif unit == \"uM\" or unit == \"/uM\" or unit == \"10'-6M\":\n",
    "            value = float(bioactivity)*1000\n",
    "        elif unit == \"10'1 uM\":\n",
    "            value = float(bioactivity)*10000\n",
    "        elif unit == \"10'2 uM\":\n",
    "            value = float(bioactivity)*100000\n",
    "        elif unit == \"mM\":\n",
    "            value = float(bioactivity)*1000000\n",
    "        elif unit == \"M\":\n",
    "            value = float(bioactivity)*1000000000\n",
    "        else:\n",
    "            print ('unit not recognized...', unit)\n",
    "        return value\n",
    "    else: return bioactivity"
   ]
  },
  {
   "cell_type": "code",
   "execution_count": 25,
   "metadata": {},
   "outputs": [
    {
     "data": {
      "text/html": [
       "<div>\n",
       "<style scoped>\n",
       "    .dataframe tbody tr th:only-of-type {\n",
       "        vertical-align: middle;\n",
       "    }\n",
       "\n",
       "    .dataframe tbody tr th {\n",
       "        vertical-align: top;\n",
       "    }\n",
       "\n",
       "    .dataframe thead th {\n",
       "        text-align: right;\n",
       "    }\n",
       "</style>\n",
       "<table border=\"1\" class=\"dataframe\">\n",
       "  <thead>\n",
       "    <tr style=\"text-align: right;\">\n",
       "      <th></th>\n",
       "      <th>activity_id</th>\n",
       "      <th>assay_chembl_id</th>\n",
       "      <th>assay_description</th>\n",
       "      <th>assay_type</th>\n",
       "      <th>molecule_chembl_id</th>\n",
       "      <th>relation</th>\n",
       "      <th>target_chembl_id</th>\n",
       "      <th>target_organism</th>\n",
       "      <th>type</th>\n",
       "      <th>units</th>\n",
       "      <th>value</th>\n",
       "    </tr>\n",
       "  </thead>\n",
       "  <tbody>\n",
       "    <tr>\n",
       "      <th>0</th>\n",
       "      <td>35188</td>\n",
       "      <td>CHEMBL676202</td>\n",
       "      <td>The compound was evaluated for its inhibitory ...</td>\n",
       "      <td>B</td>\n",
       "      <td>CHEMBL543416</td>\n",
       "      <td>=</td>\n",
       "      <td>CHEMBL248</td>\n",
       "      <td>Homo sapiens</td>\n",
       "      <td>IC50</td>\n",
       "      <td>nM</td>\n",
       "      <td>11</td>\n",
       "    </tr>\n",
       "    <tr>\n",
       "      <th>1</th>\n",
       "      <td>46161</td>\n",
       "      <td>CHEMBL675350</td>\n",
       "      <td>Compound was tested for its activity against h...</td>\n",
       "      <td>B</td>\n",
       "      <td>CHEMBL95813</td>\n",
       "      <td>=</td>\n",
       "      <td>CHEMBL248</td>\n",
       "      <td>Homo sapiens</td>\n",
       "      <td>IC50</td>\n",
       "      <td>nM</td>\n",
       "      <td>300</td>\n",
       "    </tr>\n",
       "    <tr>\n",
       "      <th>2</th>\n",
       "      <td>46174</td>\n",
       "      <td>CHEMBL675350</td>\n",
       "      <td>Compound was tested for its activity against h...</td>\n",
       "      <td>B</td>\n",
       "      <td>CHEMBL330647</td>\n",
       "      <td>=</td>\n",
       "      <td>CHEMBL248</td>\n",
       "      <td>Homo sapiens</td>\n",
       "      <td>IC50</td>\n",
       "      <td>nM</td>\n",
       "      <td>25000</td>\n",
       "    </tr>\n",
       "    <tr>\n",
       "      <th>3</th>\n",
       "      <td>50141</td>\n",
       "      <td>CHEMBL675350</td>\n",
       "      <td>Compound was tested for its activity against h...</td>\n",
       "      <td>B</td>\n",
       "      <td>CHEMBL318052</td>\n",
       "      <td>=</td>\n",
       "      <td>CHEMBL248</td>\n",
       "      <td>Homo sapiens</td>\n",
       "      <td>IC50</td>\n",
       "      <td>nM</td>\n",
       "      <td>36000</td>\n",
       "    </tr>\n",
       "    <tr>\n",
       "      <th>4</th>\n",
       "      <td>51352</td>\n",
       "      <td>CHEMBL675350</td>\n",
       "      <td>Compound was tested for its activity against h...</td>\n",
       "      <td>B</td>\n",
       "      <td>CHEMBL319173</td>\n",
       "      <td>=</td>\n",
       "      <td>CHEMBL248</td>\n",
       "      <td>Homo sapiens</td>\n",
       "      <td>IC50</td>\n",
       "      <td>nM</td>\n",
       "      <td>1200</td>\n",
       "    </tr>\n",
       "  </tbody>\n",
       "</table>\n",
       "</div>"
      ],
      "text/plain": [
       "   activity_id assay_chembl_id  \\\n",
       "0        35188    CHEMBL676202   \n",
       "1        46161    CHEMBL675350   \n",
       "2        46174    CHEMBL675350   \n",
       "3        50141    CHEMBL675350   \n",
       "4        51352    CHEMBL675350   \n",
       "\n",
       "                                   assay_description assay_type  \\\n",
       "0  The compound was evaluated for its inhibitory ...          B   \n",
       "1  Compound was tested for its activity against h...          B   \n",
       "2  Compound was tested for its activity against h...          B   \n",
       "3  Compound was tested for its activity against h...          B   \n",
       "4  Compound was tested for its activity against h...          B   \n",
       "\n",
       "  molecule_chembl_id relation target_chembl_id target_organism  type units  \\\n",
       "0       CHEMBL543416        =        CHEMBL248    Homo sapiens  IC50    nM   \n",
       "1        CHEMBL95813        =        CHEMBL248    Homo sapiens  IC50    nM   \n",
       "2       CHEMBL330647        =        CHEMBL248    Homo sapiens  IC50    nM   \n",
       "3       CHEMBL318052        =        CHEMBL248    Homo sapiens  IC50    nM   \n",
       "4       CHEMBL319173        =        CHEMBL248    Homo sapiens  IC50    nM   \n",
       "\n",
       "   value  \n",
       "0     11  \n",
       "1    300  \n",
       "2  25000  \n",
       "3  36000  \n",
       "4   1200  "
      ]
     },
     "execution_count": 25,
     "metadata": {},
     "output_type": "execute_result"
    }
   ],
   "source": [
    "bioactivity_nM = []\n",
    "for i, row in bioact_df.iterrows():\n",
    "    bioact_nM = convert_to_NM(row['units'], row['value'])\n",
    "    bioactivity_nM.append(bioact_nM)\n",
    "bioact_df['value'] = bioactivity_nM\n",
    "bioact_df['units'] = 'nM'\n",
    "bioact_df.head()"
   ]
  },
  {
   "cell_type": "markdown",
   "metadata": {},
   "source": [
    "### Compound data\n",
    "\n",
    "We have a data frame containing all molecules tested (with the respective measure) against EGFR. Now, we want to get the molecules that are stored behind the respective ChEMBL IDs. "
   ]
  },
  {
   "cell_type": "markdown",
   "metadata": {},
   "source": [
    "#### Get list of compounds\n",
    "\n",
    "Let's have a look at the compounds from ChEMBL we have defined bioactivity data for. First, we retrieve ChEMBL ID and structures for the compounds with desired bioactivity data."
   ]
  },
  {
   "cell_type": "code",
   "execution_count": 26,
   "metadata": {},
   "outputs": [],
   "source": [
    "cmpd_id_list = list(bioact_df['molecule_chembl_id'])\n",
    "compound_list = compounds.filter(molecule_chembl_id__in = cmpd_id_list) \\\n",
    "                         .only('molecule_chembl_id','molecule_structures')"
   ]
  },
  {
   "cell_type": "markdown",
   "metadata": {},
   "source": [
    "Then, we convert the list to a pandas dataframe and delete duplicates (again, the pandas from_records function might take some time)."
   ]
  },
  {
   "cell_type": "code",
   "execution_count": 27,
   "metadata": {},
   "outputs": [
    {
     "name": "stdout",
     "output_type": "stream",
     "text": [
      "(1398, 2)\n",
      "(1398, 11)\n"
     ]
    },
    {
     "data": {
      "text/html": [
       "<div>\n",
       "<style scoped>\n",
       "    .dataframe tbody tr th:only-of-type {\n",
       "        vertical-align: middle;\n",
       "    }\n",
       "\n",
       "    .dataframe tbody tr th {\n",
       "        vertical-align: top;\n",
       "    }\n",
       "\n",
       "    .dataframe thead th {\n",
       "        text-align: right;\n",
       "    }\n",
       "</style>\n",
       "<table border=\"1\" class=\"dataframe\">\n",
       "  <thead>\n",
       "    <tr style=\"text-align: right;\">\n",
       "      <th></th>\n",
       "      <th>molecule_chembl_id</th>\n",
       "      <th>molecule_structures</th>\n",
       "    </tr>\n",
       "  </thead>\n",
       "  <tbody>\n",
       "    <tr>\n",
       "      <th>0</th>\n",
       "      <td>CHEMBL28</td>\n",
       "      <td>{'canonical_smiles': 'O=c1cc(-c2ccc(O)cc2)oc2c...</td>\n",
       "    </tr>\n",
       "    <tr>\n",
       "      <th>2</th>\n",
       "      <td>CHEMBL7424</td>\n",
       "      <td>{'canonical_smiles': 'CCCCCCCCCCCc1cc(O)cc(=O)...</td>\n",
       "    </tr>\n",
       "    <tr>\n",
       "      <th>3</th>\n",
       "      <td>CHEMBL7839</td>\n",
       "      <td>{'canonical_smiles': 'CCCCCCCCCCCC(=O)c1c(O)cc...</td>\n",
       "    </tr>\n",
       "    <tr>\n",
       "      <th>4</th>\n",
       "      <td>CHEMBL50</td>\n",
       "      <td>{'canonical_smiles': 'O=c1c(O)c(-c2ccc(O)c(O)c...</td>\n",
       "    </tr>\n",
       "    <tr>\n",
       "      <th>5</th>\n",
       "      <td>CHEMBL9702</td>\n",
       "      <td>{'canonical_smiles': 'CC(C)(C)C(=O)Oc1ccccc1C(...</td>\n",
       "    </tr>\n",
       "  </tbody>\n",
       "</table>\n",
       "</div>"
      ],
      "text/plain": [
       "  molecule_chembl_id                                molecule_structures\n",
       "0           CHEMBL28  {'canonical_smiles': 'O=c1cc(-c2ccc(O)cc2)oc2c...\n",
       "2         CHEMBL7424  {'canonical_smiles': 'CCCCCCCCCCCc1cc(O)cc(=O)...\n",
       "3         CHEMBL7839  {'canonical_smiles': 'CCCCCCCCCCCC(=O)c1c(O)cc...\n",
       "4           CHEMBL50  {'canonical_smiles': 'O=c1c(O)c(-c2ccc(O)c(O)c...\n",
       "5         CHEMBL9702  {'canonical_smiles': 'CC(C)(C)C(=O)Oc1ccccc1C(..."
      ]
     },
     "execution_count": 27,
     "metadata": {},
     "output_type": "execute_result"
    }
   ],
   "source": [
    "compound_df = pd.DataFrame.from_records(compound_list)\n",
    "compound_df = compound_df.drop_duplicates('molecule_chembl_id', keep = 'first')\n",
    "print(compound_df.shape)\n",
    "print(bioact_df.shape)\n",
    "compound_df.head()"
   ]
  },
  {
   "cell_type": "markdown",
   "metadata": {},
   "source": [
    "So far, we have multiple different molecular structure representations. We only want to keep the canonical SMILES."
   ]
  },
  {
   "cell_type": "code",
   "execution_count": 28,
   "metadata": {},
   "outputs": [
    {
     "name": "stdout",
     "output_type": "stream",
     "text": [
      "(1398, 2)\n"
     ]
    }
   ],
   "source": [
    "for i, cmpd in compound_df.iterrows():\n",
    "    if compound_df.loc[i]['molecule_structures'] != None:\n",
    "        compound_df.loc[i]['molecule_structures'] = cmpd['molecule_structures']['canonical_smiles']\n",
    "\n",
    "print (compound_df.shape)"
   ]
  },
  {
   "cell_type": "markdown",
   "metadata": {},
   "source": [
    "#### Prepare output data"
   ]
  },
  {
   "cell_type": "markdown",
   "metadata": {},
   "source": [
    "Merge values of interest in one dataframe on ChEMBL-IDs:\n",
    "* ChEMBL-IDs\n",
    "* SMILES\n",
    "* units\n",
    "* IC50"
   ]
  },
  {
   "cell_type": "code",
   "execution_count": 29,
   "metadata": {},
   "outputs": [
    {
     "name": "stdout",
     "output_type": "stream",
     "text": [
      "(1398, 4)\n"
     ]
    },
    {
     "data": {
      "text/html": [
       "<div>\n",
       "<style scoped>\n",
       "    .dataframe tbody tr th:only-of-type {\n",
       "        vertical-align: middle;\n",
       "    }\n",
       "\n",
       "    .dataframe tbody tr th {\n",
       "        vertical-align: top;\n",
       "    }\n",
       "\n",
       "    .dataframe thead th {\n",
       "        text-align: right;\n",
       "    }\n",
       "</style>\n",
       "<table border=\"1\" class=\"dataframe\">\n",
       "  <thead>\n",
       "    <tr style=\"text-align: right;\">\n",
       "      <th></th>\n",
       "      <th>molecule_chembl_id</th>\n",
       "      <th>units</th>\n",
       "      <th>value</th>\n",
       "      <th>molecule_structures</th>\n",
       "    </tr>\n",
       "  </thead>\n",
       "  <tbody>\n",
       "    <tr>\n",
       "      <th>0</th>\n",
       "      <td>CHEMBL543416</td>\n",
       "      <td>nM</td>\n",
       "      <td>11</td>\n",
       "      <td>CC(C)[C@@H]1C(=O)N(S(C)(=O)=O)[C@@H]2CCN(C(=O)...</td>\n",
       "    </tr>\n",
       "    <tr>\n",
       "      <th>1</th>\n",
       "      <td>CHEMBL95813</td>\n",
       "      <td>nM</td>\n",
       "      <td>300</td>\n",
       "      <td>C=CC[C@@H]1C(=O)N(C(=O)NCc2ccncc2)[C@H]1Cc1ccccc1</td>\n",
       "    </tr>\n",
       "    <tr>\n",
       "      <th>2</th>\n",
       "      <td>CHEMBL330647</td>\n",
       "      <td>nM</td>\n",
       "      <td>25000</td>\n",
       "      <td>C[C@@H]1C(=O)N(C(=O)NCc2ccncc2)[C@H]1Cc1ccccc1</td>\n",
       "    </tr>\n",
       "    <tr>\n",
       "      <th>3</th>\n",
       "      <td>CHEMBL318052</td>\n",
       "      <td>nM</td>\n",
       "      <td>36000</td>\n",
       "      <td>C[C@H]1C(=O)N(C(=O)NCc2ccncc2)[C@H]1Cc1ccccc1</td>\n",
       "    </tr>\n",
       "    <tr>\n",
       "      <th>4</th>\n",
       "      <td>CHEMBL319173</td>\n",
       "      <td>nM</td>\n",
       "      <td>1200</td>\n",
       "      <td>CC[C@@H]1C(=O)N(C(=O)NCc2ccncc2)[C@H]1Cc1ccccc1</td>\n",
       "    </tr>\n",
       "  </tbody>\n",
       "</table>\n",
       "</div>"
      ],
      "text/plain": [
       "  molecule_chembl_id units  value  \\\n",
       "0       CHEMBL543416    nM     11   \n",
       "1        CHEMBL95813    nM    300   \n",
       "2       CHEMBL330647    nM  25000   \n",
       "3       CHEMBL318052    nM  36000   \n",
       "4       CHEMBL319173    nM   1200   \n",
       "\n",
       "                                 molecule_structures  \n",
       "0  CC(C)[C@@H]1C(=O)N(S(C)(=O)=O)[C@@H]2CCN(C(=O)...  \n",
       "1  C=CC[C@@H]1C(=O)N(C(=O)NCc2ccncc2)[C@H]1Cc1ccccc1  \n",
       "2     C[C@@H]1C(=O)N(C(=O)NCc2ccncc2)[C@H]1Cc1ccccc1  \n",
       "3      C[C@H]1C(=O)N(C(=O)NCc2ccncc2)[C@H]1Cc1ccccc1  \n",
       "4    CC[C@@H]1C(=O)N(C(=O)NCc2ccncc2)[C@H]1Cc1ccccc1  "
      ]
     },
     "execution_count": 29,
     "metadata": {},
     "output_type": "execute_result"
    }
   ],
   "source": [
    "output_df = pd.merge(bioact_df[['molecule_chembl_id','units','value']], compound_df, on='molecule_chembl_id')\n",
    "print(output_df.shape)\n",
    "output_df.head()"
   ]
  },
  {
   "cell_type": "markdown",
   "metadata": {},
   "source": [
    "For distinct column names, we rename IC50 and SMILES columns."
   ]
  },
  {
   "cell_type": "code",
   "execution_count": 30,
   "metadata": {},
   "outputs": [
    {
     "data": {
      "text/plain": [
       "(1398, 4)"
      ]
     },
     "execution_count": 30,
     "metadata": {},
     "output_type": "execute_result"
    }
   ],
   "source": [
    "output_df = output_df.rename(columns= {'molecule_structures':'smiles', 'value':'IC50'})\n",
    "output_df.shape"
   ]
  },
  {
   "cell_type": "markdown",
   "metadata": {},
   "source": [
    "If we do not have a SMILES representation of a compound, we can not further use it in the following talktorials. Therefore, we delete compounds without SMILES column."
   ]
  },
  {
   "cell_type": "code",
   "execution_count": 31,
   "metadata": {},
   "outputs": [
    {
     "name": "stdout",
     "output_type": "stream",
     "text": [
      "(1398, 4)\n"
     ]
    },
    {
     "data": {
      "text/html": [
       "<div>\n",
       "<style scoped>\n",
       "    .dataframe tbody tr th:only-of-type {\n",
       "        vertical-align: middle;\n",
       "    }\n",
       "\n",
       "    .dataframe tbody tr th {\n",
       "        vertical-align: top;\n",
       "    }\n",
       "\n",
       "    .dataframe thead th {\n",
       "        text-align: right;\n",
       "    }\n",
       "</style>\n",
       "<table border=\"1\" class=\"dataframe\">\n",
       "  <thead>\n",
       "    <tr style=\"text-align: right;\">\n",
       "      <th></th>\n",
       "      <th>molecule_chembl_id</th>\n",
       "      <th>units</th>\n",
       "      <th>IC50</th>\n",
       "      <th>smiles</th>\n",
       "    </tr>\n",
       "  </thead>\n",
       "  <tbody>\n",
       "    <tr>\n",
       "      <th>0</th>\n",
       "      <td>CHEMBL543416</td>\n",
       "      <td>nM</td>\n",
       "      <td>11</td>\n",
       "      <td>CC(C)[C@@H]1C(=O)N(S(C)(=O)=O)[C@@H]2CCN(C(=O)...</td>\n",
       "    </tr>\n",
       "    <tr>\n",
       "      <th>1</th>\n",
       "      <td>CHEMBL95813</td>\n",
       "      <td>nM</td>\n",
       "      <td>300</td>\n",
       "      <td>C=CC[C@@H]1C(=O)N(C(=O)NCc2ccncc2)[C@H]1Cc1ccccc1</td>\n",
       "    </tr>\n",
       "    <tr>\n",
       "      <th>2</th>\n",
       "      <td>CHEMBL330647</td>\n",
       "      <td>nM</td>\n",
       "      <td>25000</td>\n",
       "      <td>C[C@@H]1C(=O)N(C(=O)NCc2ccncc2)[C@H]1Cc1ccccc1</td>\n",
       "    </tr>\n",
       "    <tr>\n",
       "      <th>3</th>\n",
       "      <td>CHEMBL318052</td>\n",
       "      <td>nM</td>\n",
       "      <td>36000</td>\n",
       "      <td>C[C@H]1C(=O)N(C(=O)NCc2ccncc2)[C@H]1Cc1ccccc1</td>\n",
       "    </tr>\n",
       "    <tr>\n",
       "      <th>4</th>\n",
       "      <td>CHEMBL319173</td>\n",
       "      <td>nM</td>\n",
       "      <td>1200</td>\n",
       "      <td>CC[C@@H]1C(=O)N(C(=O)NCc2ccncc2)[C@H]1Cc1ccccc1</td>\n",
       "    </tr>\n",
       "  </tbody>\n",
       "</table>\n",
       "</div>"
      ],
      "text/plain": [
       "  molecule_chembl_id units   IC50  \\\n",
       "0       CHEMBL543416    nM     11   \n",
       "1        CHEMBL95813    nM    300   \n",
       "2       CHEMBL330647    nM  25000   \n",
       "3       CHEMBL318052    nM  36000   \n",
       "4       CHEMBL319173    nM   1200   \n",
       "\n",
       "                                              smiles  \n",
       "0  CC(C)[C@@H]1C(=O)N(S(C)(=O)=O)[C@@H]2CCN(C(=O)...  \n",
       "1  C=CC[C@@H]1C(=O)N(C(=O)NCc2ccncc2)[C@H]1Cc1ccccc1  \n",
       "2     C[C@@H]1C(=O)N(C(=O)NCc2ccncc2)[C@H]1Cc1ccccc1  \n",
       "3      C[C@H]1C(=O)N(C(=O)NCc2ccncc2)[C@H]1Cc1ccccc1  \n",
       "4    CC[C@@H]1C(=O)N(C(=O)NCc2ccncc2)[C@H]1Cc1ccccc1  "
      ]
     },
     "execution_count": 31,
     "metadata": {},
     "output_type": "execute_result"
    }
   ],
   "source": [
    "output_df = output_df[~output_df['smiles'].isnull()]\n",
    "print(output_df.shape)\n",
    "output_df.head()"
   ]
  },
  {
   "cell_type": "markdown",
   "metadata": {},
   "source": [
    "In the next cell, you see that the low IC50 values are difficult to read. Therefore, we prefer to convert the IC50 values to pIC50."
   ]
  },
  {
   "cell_type": "code",
   "execution_count": 32,
   "metadata": {},
   "outputs": [
    {
     "name": "stdout",
     "output_type": "stream",
     "text": [
      "1398\n",
      "0       11.0\n",
      "1      300.0\n",
      "2    25000.0\n",
      "3    36000.0\n",
      "4     1200.0\n",
      "5       22.0\n",
      "6       37.0\n",
      "7       10.0\n",
      "8     3000.0\n",
      "9      900.0\n",
      "Name: IC50, dtype: float64\n"
     ]
    }
   ],
   "source": [
    "output_df = output_df.reset_index(drop=True)\n",
    "ic50 = output_df.IC50.astype(float) \n",
    "print(len(ic50))\n",
    "print(ic50.head(10))"
   ]
  },
  {
   "cell_type": "code",
   "execution_count": 33,
   "metadata": {},
   "outputs": [
    {
     "name": "stderr",
     "output_type": "stream",
     "text": [
      "/apps/anaconda3/envs/teachmm/lib/python3.6/site-packages/ipykernel_launcher.py:2: DeprecationWarning: The default dtype for empty Series will be 'object' instead of 'float64' in a future version. Specify a dtype explicitly to silence this warning.\n",
      "  \n"
     ]
    },
    {
     "data": {
      "text/html": [
       "<div>\n",
       "<style scoped>\n",
       "    .dataframe tbody tr th:only-of-type {\n",
       "        vertical-align: middle;\n",
       "    }\n",
       "\n",
       "    .dataframe tbody tr th {\n",
       "        vertical-align: top;\n",
       "    }\n",
       "\n",
       "    .dataframe thead th {\n",
       "        text-align: right;\n",
       "    }\n",
       "</style>\n",
       "<table border=\"1\" class=\"dataframe\">\n",
       "  <thead>\n",
       "    <tr style=\"text-align: right;\">\n",
       "      <th></th>\n",
       "      <th>molecule_chembl_id</th>\n",
       "      <th>units</th>\n",
       "      <th>IC50</th>\n",
       "      <th>smiles</th>\n",
       "      <th>pIC50</th>\n",
       "    </tr>\n",
       "  </thead>\n",
       "  <tbody>\n",
       "    <tr>\n",
       "      <th>0</th>\n",
       "      <td>CHEMBL543416</td>\n",
       "      <td>nM</td>\n",
       "      <td>11</td>\n",
       "      <td>CC(C)[C@@H]1C(=O)N(S(C)(=O)=O)[C@@H]2CCN(C(=O)...</td>\n",
       "      <td>7.958607</td>\n",
       "    </tr>\n",
       "    <tr>\n",
       "      <th>1</th>\n",
       "      <td>CHEMBL95813</td>\n",
       "      <td>nM</td>\n",
       "      <td>300</td>\n",
       "      <td>C=CC[C@@H]1C(=O)N(C(=O)NCc2ccncc2)[C@H]1Cc1ccccc1</td>\n",
       "      <td>6.522879</td>\n",
       "    </tr>\n",
       "    <tr>\n",
       "      <th>2</th>\n",
       "      <td>CHEMBL330647</td>\n",
       "      <td>nM</td>\n",
       "      <td>25000</td>\n",
       "      <td>C[C@@H]1C(=O)N(C(=O)NCc2ccncc2)[C@H]1Cc1ccccc1</td>\n",
       "      <td>4.602060</td>\n",
       "    </tr>\n",
       "    <tr>\n",
       "      <th>3</th>\n",
       "      <td>CHEMBL318052</td>\n",
       "      <td>nM</td>\n",
       "      <td>36000</td>\n",
       "      <td>C[C@H]1C(=O)N(C(=O)NCc2ccncc2)[C@H]1Cc1ccccc1</td>\n",
       "      <td>4.443697</td>\n",
       "    </tr>\n",
       "    <tr>\n",
       "      <th>4</th>\n",
       "      <td>CHEMBL319173</td>\n",
       "      <td>nM</td>\n",
       "      <td>1200</td>\n",
       "      <td>CC[C@@H]1C(=O)N(C(=O)NCc2ccncc2)[C@H]1Cc1ccccc1</td>\n",
       "      <td>5.920819</td>\n",
       "    </tr>\n",
       "  </tbody>\n",
       "</table>\n",
       "</div>"
      ],
      "text/plain": [
       "  molecule_chembl_id units   IC50  \\\n",
       "0       CHEMBL543416    nM     11   \n",
       "1        CHEMBL95813    nM    300   \n",
       "2       CHEMBL330647    nM  25000   \n",
       "3       CHEMBL318052    nM  36000   \n",
       "4       CHEMBL319173    nM   1200   \n",
       "\n",
       "                                              smiles     pIC50  \n",
       "0  CC(C)[C@@H]1C(=O)N(S(C)(=O)=O)[C@@H]2CCN(C(=O)...  7.958607  \n",
       "1  C=CC[C@@H]1C(=O)N(C(=O)NCc2ccncc2)[C@H]1Cc1ccccc1  6.522879  \n",
       "2     C[C@@H]1C(=O)N(C(=O)NCc2ccncc2)[C@H]1Cc1ccccc1  4.602060  \n",
       "3      C[C@H]1C(=O)N(C(=O)NCc2ccncc2)[C@H]1Cc1ccccc1  4.443697  \n",
       "4    CC[C@@H]1C(=O)N(C(=O)NCc2ccncc2)[C@H]1Cc1ccccc1  5.920819  "
      ]
     },
     "execution_count": 33,
     "metadata": {},
     "output_type": "execute_result"
    }
   ],
   "source": [
    "# Convert IC50 to pIC50 and add pIC50 column:\n",
    "pIC50 = pd.Series() \n",
    "i = 0\n",
    "while i < len(output_df.IC50):\n",
    "    value = 9 - math.log10(ic50[i]) # pIC50=-log10(IC50 mol/l) --> for nM: -log10(IC50*10**-9)= 9-log10(IC50)\n",
    "    if value < 0:\n",
    "        print(\"Negative pIC50 value at index\"+str(i))\n",
    "    pIC50.at[i] = value\n",
    "    i += 1\n",
    "    \n",
    "output_df['pIC50'] = pIC50\n",
    "output_df.head()"
   ]
  },
  {
   "cell_type": "markdown",
   "metadata": {},
   "source": [
    "### Collected bioactivity data for EGFR"
   ]
  },
  {
   "cell_type": "markdown",
   "metadata": {},
   "source": [
    "Let's have a look at our collected data set.\n",
    "#### Draw molecules\n",
    "In the next steps, we add a molecule column to our datafame and look at the structures of the molecules with the highest pIC50 values. "
   ]
  },
  {
   "cell_type": "code",
   "execution_count": 34,
   "metadata": {},
   "outputs": [],
   "source": [
    "PandasTools.AddMoleculeColumnToFrame(output_df, smilesCol='smiles')"
   ]
  },
  {
   "cell_type": "markdown",
   "metadata": {},
   "source": [
    "Sort molecules by pIC50."
   ]
  },
  {
   "cell_type": "code",
   "execution_count": 35,
   "metadata": {},
   "outputs": [],
   "source": [
    "output_df.sort_values(by=\"pIC50\", ascending=False, inplace=True)\n",
    "output_df.reset_index(drop=True, inplace=True)"
   ]
  },
  {
   "cell_type": "markdown",
   "metadata": {},
   "source": [
    "Show the most active molecules = molecules with the highest pIC50 values."
   ]
  },
  {
   "cell_type": "code",
   "execution_count": 36,
   "metadata": {},
   "outputs": [
    {
     "data": {
      "text/html": [
       "<div>\n",
       "<style scoped>\n",
       "    .dataframe tbody tr th:only-of-type {\n",
       "        vertical-align: middle;\n",
       "    }\n",
       "\n",
       "    .dataframe tbody tr th {\n",
       "        vertical-align: top;\n",
       "    }\n",
       "\n",
       "    .dataframe thead th {\n",
       "        text-align: right;\n",
       "    }\n",
       "</style>\n",
       "<table border=\"1\" class=\"dataframe\">\n",
       "  <thead>\n",
       "    <tr style=\"text-align: right;\">\n",
       "      <th></th>\n",
       "      <th>molecule_chembl_id</th>\n",
       "      <th>units</th>\n",
       "      <th>IC50</th>\n",
       "      <th>pIC50</th>\n",
       "      <th>ROMol</th>\n",
       "    </tr>\n",
       "  </thead>\n",
       "  <tbody>\n",
       "    <tr>\n",
       "      <th>0</th>\n",
       "      <td>CHEMBL2367667</td>\n",
       "      <td>nM</td>\n",
       "      <td>0.036</td>\n",
       "      <td>10.443697</td>\n",
       "      <td><img data-content=\"rdkit/molecule\" src=\"data:image/png;base64,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\" alt=\"Mol\"/></td>\n",
       "    </tr>\n",
       "    <tr>\n",
       "      <th>1</th>\n",
       "      <td>CHEMBL3617973</td>\n",
       "      <td>nM</td>\n",
       "      <td>0.065</td>\n",
       "      <td>10.187087</td>\n",
       "      <td><img data-content=\"rdkit/molecule\" src=\"data:image/png;base64,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\" alt=\"Mol\"/></td>\n",
       "    </tr>\n",
       "    <tr>\n",
       "      <th>2</th>\n",
       "      <td>CHEMBL293138</td>\n",
       "      <td>nM</td>\n",
       "      <td>0.1</td>\n",
       "      <td>10.000000</td>\n",
       "      <td><img data-content=\"rdkit/molecule\" src=\"data:image/png;base64,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\" alt=\"Mol\"/></td>\n",
       "    </tr>\n",
       "    <tr>\n",
       "      <th>3</th>\n",
       "      <td>CHEMBL3617966</td>\n",
       "      <td>nM</td>\n",
       "      <td>0.21</td>\n",
       "      <td>9.677781</td>\n",
       "      <td><img data-content=\"rdkit/molecule\" src=\"data:image/png;base64,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\" alt=\"Mol\"/></td>\n",
       "    </tr>\n",
       "    <tr>\n",
       "      <th>4</th>\n",
       "      <td>CHEMBL3912018</td>\n",
       "      <td>nM</td>\n",
       "      <td>0.3</td>\n",
       "      <td>9.522879</td>\n",
       "      <td><img data-content=\"rdkit/molecule\" src=\"data:image/png;base64,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\" alt=\"Mol\"/></td>\n",
       "    </tr>\n",
       "  </tbody>\n",
       "</table>\n",
       "</div>"
      ],
      "text/plain": [
       "  molecule_chembl_id units   IC50      pIC50  \\\n",
       "0      CHEMBL2367667    nM  0.036  10.443697   \n",
       "1      CHEMBL3617973    nM  0.065  10.187087   \n",
       "2       CHEMBL293138    nM    0.1  10.000000   \n",
       "3      CHEMBL3617966    nM   0.21   9.677781   \n",
       "4      CHEMBL3912018    nM    0.3   9.522879   \n",
       "\n",
       "                                               ROMol  \n",
       "0  <img data-content=\"rdkit/molecule\" src=\"data:i...  \n",
       "1  <img data-content=\"rdkit/molecule\" src=\"data:i...  \n",
       "2  <img data-content=\"rdkit/molecule\" src=\"data:i...  \n",
       "3  <img data-content=\"rdkit/molecule\" src=\"data:i...  \n",
       "4  <img data-content=\"rdkit/molecule\" src=\"data:i...  "
      ]
     },
     "execution_count": 36,
     "metadata": {},
     "output_type": "execute_result"
    }
   ],
   "source": [
    "output_df.drop(\"smiles\", axis=1).head()"
   ]
  },
  {
   "cell_type": "markdown",
   "metadata": {},
   "source": [
    "#### Write output file\n",
    "To use the data for the following talktorials, we save the data as csv file. Note that it is advisable to drop the molecule column (only contains an image of the molecules) when saving the data."
   ]
  },
  {
   "cell_type": "code",
   "execution_count": 37,
   "metadata": {
    "scrolled": true
   },
   "outputs": [],
   "source": [
    "output_df.drop(\"ROMol\", axis=1).to_csv(\"data/EGFR_compounds.csv\")"
   ]
  },
  {
   "cell_type": "markdown",
   "metadata": {},
   "source": [
    "## Discussion"
   ]
  },
  {
   "cell_type": "markdown",
   "metadata": {},
   "source": [
    "In this tutorial, we collected all available bioactivity data for our target of interest from the ChEMBL database. We filtered the data set to only contain molecules with measured IC50 or pIC50 bioactivity values. \n",
    "\n",
    "Be aware that ChEMBL data originates from various sources. Compound data has been generated in different labs by different people all over the world. Therefore, we have to be cautious with the predictions we make using this dataset. It is always important to consider the source of the data and consistency of data production assays when interpreting the results and determining how much confidence we have in our predictions.\n",
    "\n",
    "In the next tutorials we will filter our acquired data by the Lipinski rule of five and by unwanted substructures. Another important step would be to clean the data and remove duplicates. As this is not shown in any of our talktorials (yet), we would like to refer to the standardiser library ([github Francis Atkinson](https://github.com/flatkinson/standardiser)) or [MolVS](https://molvs.readthedocs.io/en/latest/) as possible tools for this task."
   ]
  },
  {
   "cell_type": "markdown",
   "metadata": {},
   "source": [
    "## Quiz"
   ]
  },
  {
   "cell_type": "markdown",
   "metadata": {},
   "source": [
    "* We have downloaded in this talktorial molecules and bioactivity data from ChEMBL. What else is the ChEMBL database useful for?\n",
    "* What is the difference between IC50 and EC50?\n",
    "* What can we use the data extracted from ChEMBL for?"
   ]
  }
 ],
 "metadata": {
  "kernelspec": {
   "display_name": "teachmm",
   "language": "python",
   "name": "teachmm"
  },
  "language_info": {
   "codemirror_mode": {
    "name": "ipython",
    "version": 3
   },
   "file_extension": ".py",
   "mimetype": "text/x-python",
   "name": "python",
   "nbconvert_exporter": "python",
   "pygments_lexer": "ipython3",
   "version": "3.6.11"
  }
 },
 "nbformat": 4,
 "nbformat_minor": 4
}
