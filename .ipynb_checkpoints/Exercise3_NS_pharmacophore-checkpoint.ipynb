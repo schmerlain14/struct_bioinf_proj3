{
 "cells": [
  {
   "cell_type": "markdown",
   "metadata": {},
   "source": [
    "## Pharmacophore\n",
    "Extracting and applying pharmacophore hypothesis<br><br>\n",
    "here, we use rdkit; for more details see<br>\n",
    "https://www.rdkit.org/docs/GettingStartedInPython.html"
   ]
  },
  {
   "cell_type": "code",
   "execution_count": 1,
   "metadata": {},
   "outputs": [],
   "source": [
    "# importing \n",
    "import os\n",
    "import requests\n",
    "import xml.etree.ElementTree as ET\n",
    "#from chembl_webresource_client.new_client import new_client\n",
    "import pandas as pd\n",
    "import math\n",
    "from rdkit import Chem, RDConfig, Geometry\n",
    "from rdkit.Chem import Draw, PandasTools, AllChem\n",
    "from rdkit.Chem.Draw import IPythonConsole\n",
    "from rdkit.Chem import Descriptors, ChemicalFeatures\n",
    "from rdkit.Chem.Pharm2D import Generate, Gobbi_Pharm2D\n",
    "from rdkit.Chem.Pharm2D.SigFactory import SigFactory\n",
    "import rdkit.Chem.Pharm3D.Pharmacophore as Ph\n",
    "from rdkit.ML.InfoTheory import InfoBitRanker\n",
    "import numpy as np\n",
    "from matplotlib import pyplot as plt"
   ]
  },
  {
   "cell_type": "code",
   "execution_count": 4,
   "metadata": {},
   "outputs": [
    {
     "data": {
      "text/plain": [
       "'/home/113600/structural_bioinformatics'"
      ]
     },
     "execution_count": 4,
     "metadata": {},
     "output_type": "execute_result"
    }
   ],
   "source": [
    "os.getcwd()"
   ]
  },
  {
   "cell_type": "code",
   "execution_count": 2,
   "metadata": {},
   "outputs": [
    {
     "ename": "FileNotFoundError",
     "evalue": "[Errno 2] No such file or directory: 'data/EGFR_compounds.csv'",
     "output_type": "error",
     "traceback": [
      "\u001b[0;31m---------------------------------------------------------------------------\u001b[0m",
      "\u001b[0;31mFileNotFoundError\u001b[0m                         Traceback (most recent call last)",
      "\u001b[0;32m<ipython-input-2-27e9514982d8>\u001b[0m in \u001b[0;36m<module>\u001b[0;34m\u001b[0m\n\u001b[1;32m      1\u001b[0m \u001b[0;31m# read in the data from Exercise 2\u001b[0m\u001b[0;34m\u001b[0m\u001b[0;34m\u001b[0m\u001b[0;34m\u001b[0m\u001b[0m\n\u001b[1;32m      2\u001b[0m \u001b[0;31m# mol_data = pd.read_csv('ABL_comp_IC50.csv')\u001b[0m\u001b[0;34m\u001b[0m\u001b[0;34m\u001b[0m\u001b[0;34m\u001b[0m\u001b[0m\n\u001b[0;32m----> 3\u001b[0;31m \u001b[0mmol_data\u001b[0m \u001b[0;34m=\u001b[0m \u001b[0mpd\u001b[0m\u001b[0;34m.\u001b[0m\u001b[0mread_csv\u001b[0m\u001b[0;34m(\u001b[0m\u001b[0;34m'data/EGFR_compounds.csv'\u001b[0m\u001b[0;34m)\u001b[0m\u001b[0;34m\u001b[0m\u001b[0;34m\u001b[0m\u001b[0m\n\u001b[0m",
      "\u001b[0;32m/apps/anaconda3/envs/opencadd/lib/python3.8/site-packages/pandas/io/parsers.py\u001b[0m in \u001b[0;36mread_csv\u001b[0;34m(filepath_or_buffer, sep, delimiter, header, names, index_col, usecols, squeeze, prefix, mangle_dupe_cols, dtype, engine, converters, true_values, false_values, skipinitialspace, skiprows, skipfooter, nrows, na_values, keep_default_na, na_filter, verbose, skip_blank_lines, parse_dates, infer_datetime_format, keep_date_col, date_parser, dayfirst, cache_dates, iterator, chunksize, compression, thousands, decimal, lineterminator, quotechar, quoting, doublequote, escapechar, comment, encoding, dialect, error_bad_lines, warn_bad_lines, delim_whitespace, low_memory, memory_map, float_precision)\u001b[0m\n\u001b[1;32m    686\u001b[0m     )\n\u001b[1;32m    687\u001b[0m \u001b[0;34m\u001b[0m\u001b[0m\n\u001b[0;32m--> 688\u001b[0;31m     \u001b[0;32mreturn\u001b[0m \u001b[0m_read\u001b[0m\u001b[0;34m(\u001b[0m\u001b[0mfilepath_or_buffer\u001b[0m\u001b[0;34m,\u001b[0m \u001b[0mkwds\u001b[0m\u001b[0;34m)\u001b[0m\u001b[0;34m\u001b[0m\u001b[0;34m\u001b[0m\u001b[0m\n\u001b[0m\u001b[1;32m    689\u001b[0m \u001b[0;34m\u001b[0m\u001b[0m\n\u001b[1;32m    690\u001b[0m \u001b[0;34m\u001b[0m\u001b[0m\n",
      "\u001b[0;32m/apps/anaconda3/envs/opencadd/lib/python3.8/site-packages/pandas/io/parsers.py\u001b[0m in \u001b[0;36m_read\u001b[0;34m(filepath_or_buffer, kwds)\u001b[0m\n\u001b[1;32m    452\u001b[0m \u001b[0;34m\u001b[0m\u001b[0m\n\u001b[1;32m    453\u001b[0m     \u001b[0;31m# Create the parser.\u001b[0m\u001b[0;34m\u001b[0m\u001b[0;34m\u001b[0m\u001b[0;34m\u001b[0m\u001b[0m\n\u001b[0;32m--> 454\u001b[0;31m     \u001b[0mparser\u001b[0m \u001b[0;34m=\u001b[0m \u001b[0mTextFileReader\u001b[0m\u001b[0;34m(\u001b[0m\u001b[0mfp_or_buf\u001b[0m\u001b[0;34m,\u001b[0m \u001b[0;34m**\u001b[0m\u001b[0mkwds\u001b[0m\u001b[0;34m)\u001b[0m\u001b[0;34m\u001b[0m\u001b[0;34m\u001b[0m\u001b[0m\n\u001b[0m\u001b[1;32m    455\u001b[0m \u001b[0;34m\u001b[0m\u001b[0m\n\u001b[1;32m    456\u001b[0m     \u001b[0;32mif\u001b[0m \u001b[0mchunksize\u001b[0m \u001b[0;32mor\u001b[0m \u001b[0miterator\u001b[0m\u001b[0;34m:\u001b[0m\u001b[0;34m\u001b[0m\u001b[0;34m\u001b[0m\u001b[0m\n",
      "\u001b[0;32m/apps/anaconda3/envs/opencadd/lib/python3.8/site-packages/pandas/io/parsers.py\u001b[0m in \u001b[0;36m__init__\u001b[0;34m(self, f, engine, **kwds)\u001b[0m\n\u001b[1;32m    946\u001b[0m             \u001b[0mself\u001b[0m\u001b[0;34m.\u001b[0m\u001b[0moptions\u001b[0m\u001b[0;34m[\u001b[0m\u001b[0;34m\"has_index_names\"\u001b[0m\u001b[0;34m]\u001b[0m \u001b[0;34m=\u001b[0m \u001b[0mkwds\u001b[0m\u001b[0;34m[\u001b[0m\u001b[0;34m\"has_index_names\"\u001b[0m\u001b[0;34m]\u001b[0m\u001b[0;34m\u001b[0m\u001b[0;34m\u001b[0m\u001b[0m\n\u001b[1;32m    947\u001b[0m \u001b[0;34m\u001b[0m\u001b[0m\n\u001b[0;32m--> 948\u001b[0;31m         \u001b[0mself\u001b[0m\u001b[0;34m.\u001b[0m\u001b[0m_make_engine\u001b[0m\u001b[0;34m(\u001b[0m\u001b[0mself\u001b[0m\u001b[0;34m.\u001b[0m\u001b[0mengine\u001b[0m\u001b[0;34m)\u001b[0m\u001b[0;34m\u001b[0m\u001b[0;34m\u001b[0m\u001b[0m\n\u001b[0m\u001b[1;32m    949\u001b[0m \u001b[0;34m\u001b[0m\u001b[0m\n\u001b[1;32m    950\u001b[0m     \u001b[0;32mdef\u001b[0m \u001b[0mclose\u001b[0m\u001b[0;34m(\u001b[0m\u001b[0mself\u001b[0m\u001b[0;34m)\u001b[0m\u001b[0;34m:\u001b[0m\u001b[0;34m\u001b[0m\u001b[0;34m\u001b[0m\u001b[0m\n",
      "\u001b[0;32m/apps/anaconda3/envs/opencadd/lib/python3.8/site-packages/pandas/io/parsers.py\u001b[0m in \u001b[0;36m_make_engine\u001b[0;34m(self, engine)\u001b[0m\n\u001b[1;32m   1178\u001b[0m     \u001b[0;32mdef\u001b[0m \u001b[0m_make_engine\u001b[0m\u001b[0;34m(\u001b[0m\u001b[0mself\u001b[0m\u001b[0;34m,\u001b[0m \u001b[0mengine\u001b[0m\u001b[0;34m=\u001b[0m\u001b[0;34m\"c\"\u001b[0m\u001b[0;34m)\u001b[0m\u001b[0;34m:\u001b[0m\u001b[0;34m\u001b[0m\u001b[0;34m\u001b[0m\u001b[0m\n\u001b[1;32m   1179\u001b[0m         \u001b[0;32mif\u001b[0m \u001b[0mengine\u001b[0m \u001b[0;34m==\u001b[0m \u001b[0;34m\"c\"\u001b[0m\u001b[0;34m:\u001b[0m\u001b[0;34m\u001b[0m\u001b[0;34m\u001b[0m\u001b[0m\n\u001b[0;32m-> 1180\u001b[0;31m             \u001b[0mself\u001b[0m\u001b[0;34m.\u001b[0m\u001b[0m_engine\u001b[0m \u001b[0;34m=\u001b[0m \u001b[0mCParserWrapper\u001b[0m\u001b[0;34m(\u001b[0m\u001b[0mself\u001b[0m\u001b[0;34m.\u001b[0m\u001b[0mf\u001b[0m\u001b[0;34m,\u001b[0m \u001b[0;34m**\u001b[0m\u001b[0mself\u001b[0m\u001b[0;34m.\u001b[0m\u001b[0moptions\u001b[0m\u001b[0;34m)\u001b[0m\u001b[0;34m\u001b[0m\u001b[0;34m\u001b[0m\u001b[0m\n\u001b[0m\u001b[1;32m   1181\u001b[0m         \u001b[0;32melse\u001b[0m\u001b[0;34m:\u001b[0m\u001b[0;34m\u001b[0m\u001b[0;34m\u001b[0m\u001b[0m\n\u001b[1;32m   1182\u001b[0m             \u001b[0;32mif\u001b[0m \u001b[0mengine\u001b[0m \u001b[0;34m==\u001b[0m \u001b[0;34m\"python\"\u001b[0m\u001b[0;34m:\u001b[0m\u001b[0;34m\u001b[0m\u001b[0;34m\u001b[0m\u001b[0m\n",
      "\u001b[0;32m/apps/anaconda3/envs/opencadd/lib/python3.8/site-packages/pandas/io/parsers.py\u001b[0m in \u001b[0;36m__init__\u001b[0;34m(self, src, **kwds)\u001b[0m\n\u001b[1;32m   2008\u001b[0m         \u001b[0mkwds\u001b[0m\u001b[0;34m[\u001b[0m\u001b[0;34m\"usecols\"\u001b[0m\u001b[0;34m]\u001b[0m \u001b[0;34m=\u001b[0m \u001b[0mself\u001b[0m\u001b[0;34m.\u001b[0m\u001b[0musecols\u001b[0m\u001b[0;34m\u001b[0m\u001b[0;34m\u001b[0m\u001b[0m\n\u001b[1;32m   2009\u001b[0m \u001b[0;34m\u001b[0m\u001b[0m\n\u001b[0;32m-> 2010\u001b[0;31m         \u001b[0mself\u001b[0m\u001b[0;34m.\u001b[0m\u001b[0m_reader\u001b[0m \u001b[0;34m=\u001b[0m \u001b[0mparsers\u001b[0m\u001b[0;34m.\u001b[0m\u001b[0mTextReader\u001b[0m\u001b[0;34m(\u001b[0m\u001b[0msrc\u001b[0m\u001b[0;34m,\u001b[0m \u001b[0;34m**\u001b[0m\u001b[0mkwds\u001b[0m\u001b[0;34m)\u001b[0m\u001b[0;34m\u001b[0m\u001b[0;34m\u001b[0m\u001b[0m\n\u001b[0m\u001b[1;32m   2011\u001b[0m         \u001b[0mself\u001b[0m\u001b[0;34m.\u001b[0m\u001b[0munnamed_cols\u001b[0m \u001b[0;34m=\u001b[0m \u001b[0mself\u001b[0m\u001b[0;34m.\u001b[0m\u001b[0m_reader\u001b[0m\u001b[0;34m.\u001b[0m\u001b[0munnamed_cols\u001b[0m\u001b[0;34m\u001b[0m\u001b[0;34m\u001b[0m\u001b[0m\n\u001b[1;32m   2012\u001b[0m \u001b[0;34m\u001b[0m\u001b[0m\n",
      "\u001b[0;32mpandas/_libs/parsers.pyx\u001b[0m in \u001b[0;36mpandas._libs.parsers.TextReader.__cinit__\u001b[0;34m()\u001b[0m\n",
      "\u001b[0;32mpandas/_libs/parsers.pyx\u001b[0m in \u001b[0;36mpandas._libs.parsers.TextReader._setup_parser_source\u001b[0;34m()\u001b[0m\n",
      "\u001b[0;31mFileNotFoundError\u001b[0m: [Errno 2] No such file or directory: 'data/EGFR_compounds.csv'"
     ]
    }
   ],
   "source": [
    "# read in the data from Exercise 2\n",
    "# mol_data = pd.read_csv('ABL_comp_IC50.csv')\n",
    "mol_data = pd.read_csv('data/EGFR_compounds.csv')"
   ]
  },
  {
   "cell_type": "code",
   "execution_count": 4,
   "metadata": {},
   "outputs": [
    {
     "data": {
      "text/html": [
       "<div>\n",
       "<style scoped>\n",
       "    .dataframe tbody tr th:only-of-type {\n",
       "        vertical-align: middle;\n",
       "    }\n",
       "\n",
       "    .dataframe tbody tr th {\n",
       "        vertical-align: top;\n",
       "    }\n",
       "\n",
       "    .dataframe thead th {\n",
       "        text-align: right;\n",
       "    }\n",
       "</style>\n",
       "<table border=\"1\" class=\"dataframe\">\n",
       "  <thead>\n",
       "    <tr style=\"text-align: right;\">\n",
       "      <th></th>\n",
       "      <th>Unnamed: 0</th>\n",
       "      <th>molecule_chembl_id</th>\n",
       "      <th>units</th>\n",
       "      <th>IC50</th>\n",
       "      <th>smiles</th>\n",
       "    </tr>\n",
       "  </thead>\n",
       "  <tbody>\n",
       "    <tr>\n",
       "      <th>0</th>\n",
       "      <td>0</td>\n",
       "      <td>CHEMBL2347725</td>\n",
       "      <td>nM</td>\n",
       "      <td>0.015</td>\n",
       "      <td>COc1ccccc1-c1ccc2nc(NC(=O)NCCN3CCN(C)CC3)sc2c1</td>\n",
       "    </tr>\n",
       "    <tr>\n",
       "      <th>1</th>\n",
       "      <td>1</td>\n",
       "      <td>CHEMBL2347722</td>\n",
       "      <td>nM</td>\n",
       "      <td>0.021</td>\n",
       "      <td>COc1ccccc1-c1ccc2nc(NC(=O)NCCN3CCOCC3)sc2c1</td>\n",
       "    </tr>\n",
       "    <tr>\n",
       "      <th>2</th>\n",
       "      <td>2</td>\n",
       "      <td>CHEMBL2347723</td>\n",
       "      <td>nM</td>\n",
       "      <td>0.064</td>\n",
       "      <td>COc1ccccc1-c1ccc2nc(NC(=O)NCCO)sc2c1</td>\n",
       "    </tr>\n",
       "    <tr>\n",
       "      <th>3</th>\n",
       "      <td>3</td>\n",
       "      <td>CHEMBL2347711</td>\n",
       "      <td>nM</td>\n",
       "      <td>0.064</td>\n",
       "      <td>CCNC(=O)Nc1nc2ccc(-c3ccccc3OCC)cc2s1</td>\n",
       "    </tr>\n",
       "    <tr>\n",
       "      <th>4</th>\n",
       "      <td>4</td>\n",
       "      <td>CHEMBL2347710</td>\n",
       "      <td>nM</td>\n",
       "      <td>0.110</td>\n",
       "      <td>CCNC(=O)Nc1nc2ccc(-c3ccccc3OC)cc2s1</td>\n",
       "    </tr>\n",
       "  </tbody>\n",
       "</table>\n",
       "</div>"
      ],
      "text/plain": [
       "   Unnamed: 0 molecule_chembl_id units   IC50  \\\n",
       "0           0      CHEMBL2347725    nM  0.015   \n",
       "1           1      CHEMBL2347722    nM  0.021   \n",
       "2           2      CHEMBL2347723    nM  0.064   \n",
       "3           3      CHEMBL2347711    nM  0.064   \n",
       "4           4      CHEMBL2347710    nM  0.110   \n",
       "\n",
       "                                           smiles  \n",
       "0  COc1ccccc1-c1ccc2nc(NC(=O)NCCN3CCN(C)CC3)sc2c1  \n",
       "1     COc1ccccc1-c1ccc2nc(NC(=O)NCCN3CCOCC3)sc2c1  \n",
       "2            COc1ccccc1-c1ccc2nc(NC(=O)NCCO)sc2c1  \n",
       "3            CCNC(=O)Nc1nc2ccc(-c3ccccc3OCC)cc2s1  \n",
       "4             CCNC(=O)Nc1nc2ccc(-c3ccccc3OC)cc2s1  "
      ]
     },
     "execution_count": 4,
     "metadata": {},
     "output_type": "execute_result"
    }
   ],
   "source": [
    "mol_data.head()"
   ]
  },
  {
   "cell_type": "code",
   "execution_count": 5,
   "metadata": {},
   "outputs": [
    {
     "data": {
      "text/html": [
       "<div>\n",
       "<style scoped>\n",
       "    .dataframe tbody tr th:only-of-type {\n",
       "        vertical-align: middle;\n",
       "    }\n",
       "\n",
       "    .dataframe tbody tr th {\n",
       "        vertical-align: top;\n",
       "    }\n",
       "\n",
       "    .dataframe thead th {\n",
       "        text-align: right;\n",
       "    }\n",
       "</style>\n",
       "<table border=\"1\" class=\"dataframe\">\n",
       "  <thead>\n",
       "    <tr style=\"text-align: right;\">\n",
       "      <th></th>\n",
       "      <th>Unnamed: 0</th>\n",
       "      <th>molecule_chembl_id</th>\n",
       "      <th>units</th>\n",
       "      <th>IC50</th>\n",
       "      <th>smiles</th>\n",
       "      <th>ROMol</th>\n",
       "    </tr>\n",
       "  </thead>\n",
       "  <tbody>\n",
       "    <tr>\n",
       "      <th>0</th>\n",
       "      <td>0</td>\n",
       "      <td>CHEMBL2347725</td>\n",
       "      <td>nM</td>\n",
       "      <td>0.015</td>\n",
       "      <td>COc1ccccc1-c1ccc2nc(NC(=O)NCCN3CCN(C)CC3)sc2c1</td>\n",
       "      <td><img data-content=\"rdkit/molecule\" src=\"data:image/png;base64,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\" alt=\"Mol\"/></td>\n",
       "    </tr>\n",
       "    <tr>\n",
       "      <th>1</th>\n",
       "      <td>1</td>\n",
       "      <td>CHEMBL2347722</td>\n",
       "      <td>nM</td>\n",
       "      <td>0.021</td>\n",
       "      <td>COc1ccccc1-c1ccc2nc(NC(=O)NCCN3CCOCC3)sc2c1</td>\n",
       "      <td><img data-content=\"rdkit/molecule\" src=\"data:image/png;base64,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\" alt=\"Mol\"/></td>\n",
       "    </tr>\n",
       "    <tr>\n",
       "      <th>2</th>\n",
       "      <td>2</td>\n",
       "      <td>CHEMBL2347723</td>\n",
       "      <td>nM</td>\n",
       "      <td>0.064</td>\n",
       "      <td>COc1ccccc1-c1ccc2nc(NC(=O)NCCO)sc2c1</td>\n",
       "      <td><img data-content=\"rdkit/molecule\" src=\"data:image/png;base64,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\" alt=\"Mol\"/></td>\n",
       "    </tr>\n",
       "    <tr>\n",
       "      <th>3</th>\n",
       "      <td>3</td>\n",
       "      <td>CHEMBL2347711</td>\n",
       "      <td>nM</td>\n",
       "      <td>0.064</td>\n",
       "      <td>CCNC(=O)Nc1nc2ccc(-c3ccccc3OCC)cc2s1</td>\n",
       "      <td><img data-content=\"rdkit/molecule\" src=\"data:image/png;base64,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\" alt=\"Mol\"/></td>\n",
       "    </tr>\n",
       "    <tr>\n",
       "      <th>4</th>\n",
       "      <td>4</td>\n",
       "      <td>CHEMBL2347710</td>\n",
       "      <td>nM</td>\n",
       "      <td>0.110</td>\n",
       "      <td>CCNC(=O)Nc1nc2ccc(-c3ccccc3OC)cc2s1</td>\n",
       "      <td><img data-content=\"rdkit/molecule\" src=\"data:image/png;base64,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\" alt=\"Mol\"/></td>\n",
       "    </tr>\n",
       "  </tbody>\n",
       "</table>\n",
       "</div>"
      ],
      "text/plain": [
       "   Unnamed: 0 molecule_chembl_id units   IC50  \\\n",
       "0           0      CHEMBL2347725    nM  0.015   \n",
       "1           1      CHEMBL2347722    nM  0.021   \n",
       "2           2      CHEMBL2347723    nM  0.064   \n",
       "3           3      CHEMBL2347711    nM  0.064   \n",
       "4           4      CHEMBL2347710    nM  0.110   \n",
       "\n",
       "                                           smiles  \\\n",
       "0  COc1ccccc1-c1ccc2nc(NC(=O)NCCN3CCN(C)CC3)sc2c1   \n",
       "1     COc1ccccc1-c1ccc2nc(NC(=O)NCCN3CCOCC3)sc2c1   \n",
       "2            COc1ccccc1-c1ccc2nc(NC(=O)NCCO)sc2c1   \n",
       "3            CCNC(=O)Nc1nc2ccc(-c3ccccc3OCC)cc2s1   \n",
       "4             CCNC(=O)Nc1nc2ccc(-c3ccccc3OC)cc2s1   \n",
       "\n",
       "                                               ROMol  \n",
       "0  <img data-content=\"rdkit/molecule\" src=\"data:i...  \n",
       "1  <img data-content=\"rdkit/molecule\" src=\"data:i...  \n",
       "2  <img data-content=\"rdkit/molecule\" src=\"data:i...  \n",
       "3  <img data-content=\"rdkit/molecule\" src=\"data:i...  \n",
       "4  <img data-content=\"rdkit/molecule\" src=\"data:i...  "
      ]
     },
     "execution_count": 5,
     "metadata": {},
     "output_type": "execute_result"
    }
   ],
   "source": [
    "# add the chemical structures - same as in the Exercise 2\n",
    "PandasTools.AddMoleculeColumnToFrame(mol_data, smilesCol='smiles')\n",
    "mol_data.head()"
   ]
  },
  {
   "cell_type": "code",
   "execution_count": 6,
   "metadata": {},
   "outputs": [
    {
     "data": {
      "image/png": "[encoded data removed]",
      "text/plain": [
       "<IPython.core.display.Image object>"
      ]
     },
     "execution_count": 6,
     "metadata": {},
     "output_type": "execute_result"
    }
   ],
   "source": [
    "Draw.MolsToGridImage(mol_data.ROMol[:3])"
   ]
  },
  {
   "cell_type": "code",
   "execution_count": 7,
   "metadata": {},
   "outputs": [
    {
     "data": {
      "image/png": "[encoded data removed]",
      "text/plain": [
       "<IPython.core.display.Image object>"
      ]
     },
     "execution_count": 7,
     "metadata": {},
     "output_type": "execute_result"
    }
   ],
   "source": [
    "# make a 3D model structure of one of the molecules\n",
    "m = mol_data.ROMol[0]\n",
    "m_3D = Chem.AddHs(m)\n",
    "AllChem.EmbedMolecule(m_3D)\n",
    "AllChem.UFFOptimizeMolecule(m_3D)\n",
    "Draw.MolsToGridImage([m,m_3D])"
   ]
  },
  {
   "cell_type": "code",
   "execution_count": 8,
   "metadata": {},
   "outputs": [
    {
     "data": {
      "text/plain": [
       "array([[<AxesSubplot:title={'center':'log_IC50'}>]], dtype=object)"
      ]
     },
     "execution_count": 8,
     "metadata": {},
     "output_type": "execute_result"
    },
    {
     "data": {
      "image/png": "[encoded data removed]",
      "text/plain": [
       "<Figure size 432x288 with 1 Axes>"
      ]
     },
     "metadata": {
      "needs_background": "light"
     },
     "output_type": "display_data"
    }
   ],
   "source": [
    "# as IC50 has a very large range of values, we look at log(IC50)\n",
    "# note that the order stays the same\n",
    "mol_data['log_IC50']=np.log(mol_data.IC50)\n",
    "mol_data.hist(column = 'log_IC50') # plot histogram"
   ]
  },
  {
   "cell_type": "code",
   "execution_count": 9,
   "metadata": {},
   "outputs": [
    {
     "data": {
      "text/plain": [
       "(array([  4.,  38., 181., 320., 197., 151., 201., 147.,  88.,  22.]),\n",
       " array([-4.19970508, -2.49183286, -0.78396064,  0.92391158,  2.6317838 ,\n",
       "         4.33965602,  6.04752824,  7.75540046,  9.46327268, 11.1711449 ,\n",
       "        12.87901712]),\n",
       " <BarContainer object of 10 artists>)"
      ]
     },
     "execution_count": 9,
     "metadata": {},
     "output_type": "execute_result"
    },
    {
     "data": {
      "image/png": "[encoded data removed]",
      "text/plain": [
       "<Figure size 432x288 with 1 Axes>"
      ]
     },
     "metadata": {
      "needs_background": "light"
     },
     "output_type": "display_data"
    }
   ],
   "source": [
    "plt.hist(mol_data.log_IC50[:-1])#histogram excluding one outlier"
   ]
  },
  {
   "cell_type": "code",
   "execution_count": 10,
   "metadata": {},
   "outputs": [
    {
     "data": {
      "text/html": [
       "<div>\n",
       "<style scoped>\n",
       "    .dataframe tbody tr th:only-of-type {\n",
       "        vertical-align: middle;\n",
       "    }\n",
       "\n",
       "    .dataframe tbody tr th {\n",
       "        vertical-align: top;\n",
       "    }\n",
       "\n",
       "    .dataframe thead th {\n",
       "        text-align: right;\n",
       "    }\n",
       "</style>\n",
       "<table border=\"1\" class=\"dataframe\">\n",
       "  <thead>\n",
       "    <tr style=\"text-align: right;\">\n",
       "      <th></th>\n",
       "      <th>Unnamed: 0</th>\n",
       "      <th>molecule_chembl_id</th>\n",
       "      <th>units</th>\n",
       "      <th>IC50</th>\n",
       "      <th>smiles</th>\n",
       "      <th>ROMol</th>\n",
       "      <th>log_IC50</th>\n",
       "    </tr>\n",
       "  </thead>\n",
       "  <tbody>\n",
       "    <tr>\n",
       "      <th>0</th>\n",
       "      <td>0</td>\n",
       "      <td>CHEMBL2347725</td>\n",
       "      <td>nM</td>\n",
       "      <td>0.015</td>\n",
       "      <td>COc1ccccc1-c1ccc2nc(NC(=O)NCCN3CCN(C)CC3)sc2c1</td>\n",
       "      <td><img data-content=\"rdkit/molecule\" src=\"data:image/png;base64,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\" alt=\"Mol\"/></td>\n",
       "      <td>-4.199705</td>\n",
       "    </tr>\n",
       "    <tr>\n",
       "      <th>1</th>\n",
       "      <td>1</td>\n",
       "      <td>CHEMBL2347722</td>\n",
       "      <td>nM</td>\n",
       "      <td>0.021</td>\n",
       "      <td>COc1ccccc1-c1ccc2nc(NC(=O)NCCN3CCOCC3)sc2c1</td>\n",
       "      <td><img data-content=\"rdkit/molecule\" src=\"data:image/png;base64,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\" alt=\"Mol\"/></td>\n",
       "      <td>-3.863233</td>\n",
       "    </tr>\n",
       "    <tr>\n",
       "      <th>2</th>\n",
       "      <td>2</td>\n",
       "      <td>CHEMBL2347723</td>\n",
       "      <td>nM</td>\n",
       "      <td>0.064</td>\n",
       "      <td>COc1ccccc1-c1ccc2nc(NC(=O)NCCO)sc2c1</td>\n",
       "      <td><img data-content=\"rdkit/molecule\" src=\"data:image/png;base64,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\" alt=\"Mol\"/></td>\n",
       "      <td>-2.748872</td>\n",
       "    </tr>\n",
       "    <tr>\n",
       "      <th>3</th>\n",
       "      <td>3</td>\n",
       "      <td>CHEMBL2347711</td>\n",
       "      <td>nM</td>\n",
       "      <td>0.064</td>\n",
       "      <td>CCNC(=O)Nc1nc2ccc(-c3ccccc3OCC)cc2s1</td>\n",
       "      <td><img data-content=\"rdkit/molecule\" src=\"data:image/png;base64,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\" alt=\"Mol\"/></td>\n",
       "      <td>-2.748872</td>\n",
       "    </tr>\n",
       "    <tr>\n",
       "      <th>4</th>\n",
       "      <td>4</td>\n",
       "      <td>CHEMBL2347710</td>\n",
       "      <td>nM</td>\n",
       "      <td>0.110</td>\n",
       "      <td>CCNC(=O)Nc1nc2ccc(-c3ccccc3OC)cc2s1</td>\n",
       "      <td><img data-content=\"rdkit/molecule\" src=\"data:image/png;base64,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\" alt=\"Mol\"/></td>\n",
       "      <td>-2.207275</td>\n",
       "    </tr>\n",
       "    <tr>\n",
       "      <th>...</th>\n",
       "      <td>...</td>\n",
       "      <td>...</td>\n",
       "      <td>...</td>\n",
       "      <td>...</td>\n",
       "      <td>...</td>\n",
       "      <td>...</td>\n",
       "      <td>...</td>\n",
       "    </tr>\n",
       "    <tr>\n",
       "      <th>87</th>\n",
       "      <td>87</td>\n",
       "      <td>CHEMBL4110855</td>\n",
       "      <td>nM</td>\n",
       "      <td>0.900</td>\n",
       "      <td>Cc1ncncc1-c1cc(C(=O)Nc2ccc(OC(F)(F)Cl)cc2)cnc1...</td>\n",
       "      <td><img data-content=\"rdkit/molecule\" src=\"data:image/png;base64,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\" alt=\"Mol\"/></td>\n",
       "      <td>-0.105361</td>\n",
       "    </tr>\n",
       "    <tr>\n",
       "      <th>88</th>\n",
       "      <td>88</td>\n",
       "      <td>CHEMBL3980913</td>\n",
       "      <td>nM</td>\n",
       "      <td>0.900</td>\n",
       "      <td>Nc1ncc(-c2cc(C(=O)Nc3ccc(OC(F)(F)F)cc3)cnc2N2C...</td>\n",
       "      <td><img data-content=\"rdkit/molecule\" src=\"data:image/png;base64,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\" alt=\"Mol\"/></td>\n",
       "      <td>-0.105361</td>\n",
       "    </tr>\n",
       "    <tr>\n",
       "      <th>89</th>\n",
       "      <td>89</td>\n",
       "      <td>CHEMBL566515</td>\n",
       "      <td>nM</td>\n",
       "      <td>0.920</td>\n",
       "      <td>COc1ccccc1-n1c(-c2cc(O)ccc2C)cn2c3c(=O)[nH]c(=...</td>\n",
       "      <td><img data-content=\"rdkit/molecule\" src=\"data:image/png;base64,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\" alt=\"Mol\"/></td>\n",
       "      <td>-0.083382</td>\n",
       "    </tr>\n",
       "    <tr>\n",
       "      <th>90</th>\n",
       "      <td>90</td>\n",
       "      <td>CHEMBL2178268</td>\n",
       "      <td>nM</td>\n",
       "      <td>0.940</td>\n",
       "      <td>Cc1ccc(C(=O)Nc2ccc(CN3CCCN(C)CC3)c(C(F)(F)F)c2...</td>\n",
       "      <td><img data-content=\"rdkit/molecule\" src=\"data:image/png;base64,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\" alt=\"Mol\"/></td>\n",
       "      <td>-0.061875</td>\n",
       "    </tr>\n",
       "    <tr>\n",
       "      <th>91</th>\n",
       "      <td>91</td>\n",
       "      <td>CHEMBL2178277</td>\n",
       "      <td>nM</td>\n",
       "      <td>0.980</td>\n",
       "      <td>CN1CCN(Cc2ccc(NC(=O)c3ccc(Cl)c(-n4cc(-c5cnc6[n...</td>\n",
       "      <td><img data-content=\"rdkit/molecule\" src=\"data:image/png;base64,iVBORw0KGgoAAAANSUhEUgAAAMgAAADICAIAAAAiOjnJAAAABmJLR0QA/wD/AP+gvaeTAAAZ/0lEQVR4nO3de0AU5foH8Gd22WWX5Y7cL97gAIK3DBIJSUg9EnlMA/RnmBwFLAuvoR3TzVKPpKZmaoSXkCgPZCrH0iLNjiSGCZKiIgmJy01uIqyyyO7z++PFjVCWZdlxWXg//zHMvPuOfpmZnXnedxhEBIrSNo6uO0D1TTRYFCtosChW0GBRrKDBolhBg0WxggaLYgUNFsUKGiyKFTRYFCtosChW0GBRrKDBolhBg0WxggaLYgUNFsUKGiyKFTRYFCtosChW0GBRrKDBolhBg0WxggaLYgUNFsUKGiyKFTRYFCtosChW0GBRrKDBolhBg0WxggaLYgUNFsUKGiyKFTRYFCtosChW0GBRrKDBolhBg0WxggaLYgUNFsUKGiyKFTRYFCtosChW0GBRrKDBolhBg0WxggaLYgUNFsUKGiyKFTRYFCtosChW6FmwELBJ0aTrXlBdM9B1B9Rytfnq3tq9fIYfYRHx9Z2v19qv1XWPqC7oR7C2VG3Z6bKTz/Dvyu8CQLGseIjhEA3aqaur27t37+DBgwcOHOjj46PtblJ/0ptToSFjyADDZbjVrdXuV9xfvPFiSUuJ+pu3trZ++umnHh4e8fHxUVFRzzzzTHh4eGlpKXsd7uf0I1gWBha/3f+trrVOqpBWPqjkM/xjDce8rniJK8T3FPe63DwzM3PUqFGxsbHV1dUTJkyYOXMmn89PT0/39vbeuHGjTCZ7ArvQ76A+aFY0J1YnJlQmSFokWY1ZpbLSmcUzmQsMXADnS86HCg8pFIrHblhUVBQWFkb21NXVdffu3efOnUPE0tLSyMhIstzZ2Tk5OfnJ7lDfpx/BeqwcaY7fNT+TPBMbTxsfH5+zZ8+2/21TU5NYLBYIBAAgEolWrVq1bt06Y2PjIUOG3L9/n6xz6tSpESNGkHhNmDAhPz9fF/vRN+lxsBBRjvIvfvnCzs4OADgcTlRUVEVFhUKhSE5OJgsZhomMjNy9e7eLiwv5MSIiora29s8W5PLk5GQbGxvSQmRkZFVVlQ73qM/Q72ARDQ0N8fHxhoaGAGBsbDx48GByEPL3909JSQkICCA/jh49+qeffnpsC7W1tW+++aaBgQEAWFhYHDly5AnvQt/TF4JFkMsphmFsbGzs7Ow+/vjjefPmcTgcALC1tU1KSpLL5apbuHbtWkhICIfDiYuLa39UozTQd4JFDBs2DACysrKqqqrMzMx4PF5cXNydO3fUb4GcNAsLC9nrZH+gHzdI1ScUCgFAIBDY2Njs37/f29vbzc1NnQ2zs7NTU1PHjRtHTqlUD/W1YLX30ksvqb/ylStXdu7cef/+ffb606/oxw1SSu/QYFGsoMGiWEGDRbGCBotiBQ0WxQoaLIoVffk+1tKlS93d3efPn8/lcrtcedKkSceOHXNxcTlz5kyPPvXcOTh0CAQC8PaGiIgeNaXXdH3r/0+zZ6NMhtnZmJurYQv19fVOTk4AsH///kuXLpEHhSNHjjx16pSaLdTU1FhbWwPA4cOHu/fZCgWSJ9zz5yMpDps3r3st9C29KFgvvogJCZiRgT/80O1t21e/iEQihmHCwsL27NkzZEhbaXxoaOiNGzdUtPDgwYPExMQBAwYAgEAgICU0lZWVan38hQsYEIAA+P33GBvbtnDhQnzwoNt70lf0omAtXYrvvovbtuH+/bhpE6r/4Pj06Z9GjhxJAhQQEDB//nxlfd/atWs3bdpkamoKAHw+Py4urqGh4dEWTpw44enpSVoICgqaO3cuj8cDADMzsy1btrS0tHT62RUVGBWFHA4CoK0tpqaiWIyZmZifj6+9ptE/Qx/RK4LV2opSKS5dik1NOGYMhoQgABobY0wMXrumasNbtzAyEp977jQAODk5JScnkxrlW7duRUZGMgxDlm/btk35o4ODQ1lZmbKF69evt69dTktLe3S5m5ubcrlSc3NzQkJC+sSJCIB8Pi5fjtu3o7U17t6N336LaWnY3Kzlfya90iuCtXAh+vjgoUOIiGfPYkoKPv88AiAAcrk4Ywb+/HPHTZqacNUqFAgQAAcMUPz739vu3bvXYZ0ff/xReSQLDAxMTU319/cPDg4mv21sbBSLxaSWQSQSicXi5keikJmZ6e3tTVoIDg6+dOkSWX706FFXV1cA4HO5d6KiMDkZvbzaejxzprb/efSS7oO1Zg0CoJER/vLLX5bn5+PcuWho2Pb/9cwzuHUrHj+OiPjRR+joiADIMPjKKyiRdNr4o5XHhYWFZKGtra1yYUVFRWcttLS0KK+9DAwMYmJiXnjhBRI1Ly+vzz77bEdMTFsXhw7F7l7y9106DtYnn7QdlvbswYQEfHSsTVUVisU4YAAC4Lx5GBqK9fW4aBH6+uKYMXjmjFqfUl9fv3jxYnLZZGpqqqxdDggIuHDhgjot3L59OzY2lty2EIlExsbG77333jvvvEMu5oonTMCNG/v5ua8DXQbr6FHkcpFhcMeOtjPJpk2PX1MqxaQkTEzE77/HlStx0SKsqnpMClUrLCwMDQ3lcDiurq6Ojo7KCzL1XblyZfLkyRwOZ/LkycoDHhnB0b2u9AM6C1Z2NhoZIQCuXdv2Vd3LC+vqVG2ydy9evozbt+Pf/6755+bn5xcVFT16QaY+Mv4HAB4dc0YpPek770VFIBCAszOUl4OVFcyZA3l5cOYMuLjAd9+BhYWqbQcNgpYWeP11qKvTvAPKgYQa4/P5AHDgwIFXXnmFfNOkHvWkg/XNN5CTA6mp8L//wfnzYG0NBw5AdjacOAGOjl1sO2wY2NuDoyNIJE+kryqNHz+epkoFHTyEnjQJUlIAAGxtgcOBuXOhqAge3p5UpawMAMDamt3uUVqhg2AFB0NuLjQ2/rnExEStDUmwujywsW3EiGnjxv0fh2Os4370bk86WAIBcDgQHw81NVBd3b1tSbAcHNjoVzf89tv2s2dTFQorHfejd3vSwVqwABwdgc8HmQzGjoVuzSBUWdkKvSBYlDp0U+hnYQEVFVBcDFu3dmMriSTW2Nh00KA01vpFaY1ugsXltkVq/XooL1d3K4lE0tTUaGur3hUZpVM6K00OCoJp06CpCVatevwKN2/eTE9PX758eWBg4IEDBwCgrKwMABx1ffXu6wvPPgsCgW570dvpsjR582YoKZFevLgyJyfS19e3qanp7NmzOQ9VVVUp13Rzc5szZ46ugnX8OBgbQ0AArFoFZmYQGAhvvAH/+hds2PCEO6JPdBmsoUNhypR1Gzd+vGjRr2fPns3NzZ08ebLyt2ZmZt7e3v7+/i4uLnK5PDo6+s6dOwKBwNLS8gn3UyaDO3egtBQqKoDHg7IykEhA40keKioqjhw5YmJi4uvr+7e//U2rPVVXcXFxVlaWTCYLCQnR7A+1sLAwNzd31qxZna6h2ydKjY2N9vb2APD55583NTUFBAQsWbJk165dSUlJYrE4NDS0fYwMDQ11Mpvj4cO4ciUeOICTJqFYjDdv4ptv4uLFeOIEdmsWrZaWlm3btinLWTWYYqnnlDNoGhgYcDgcIyMjsVjcrSen9fX1K1asMDQ0FAqFf/zxR2er6b4ea9++fQBgY2Ozdu3al1566dE/oEGDBkVERGzZsuXMmTOtra1PvoeHD7eV4cfFoViM9fX4xRc4aRIaG6OFBW7ciDJZ1418/fXXygL8KVOmREREkLEeNjY26kwK13NyuXz//v3kz5hhmBkzZigLywYNGpSent5lC62t8sTERDLYhMvlxsTEVFdXd7ay7oMll8tdXV2t2z2pMTU19ff3j4uLS0tLU3c4A5vKy/H2bUTEixexoABJBfxXX/1Z5urlhd9/3+nmV69enTJlCtk1Dw+PPXv2FBQUIGJubu748ePJchXTWGpFTk7OuHHjyGc9/fTTPz8syT19+vSoUaMAwM8vPDAQ8/I6beH0aRw9Gr28ogAgMDAwT8WqiNgbgiWTycif0YwZM1JSUgoLC7tbJqVDR46gqysCoIfHvWnTXioqKmr/29ra2ri4OOXUph988MHq1asNDQ39/PyU+5iRkaEsPAwNDS0uLtZuD8vKymJiYsjR0cHBITExscPRsbW19ZNPPhk+vIRUXMbGtv0VKZWU4Msvt/0JBQfXPlr+/1i6D1ZycjIAeHt761Ge2mtuxoQE9PN7i1wFxsfHNzQ0kMFk5DBsYGAQHR394YcfKmsD582b1/6y5t69exs3bjQxMQEAoVC4YsWKu3fv9rxj7ZslI5RUNFtfj4sXI4+HAGhujsuWYVkZtrbikiVtAwtEInz/fVT/Ykz3wRo9ejQA7Nu3T9cd6ZGKioqoqChyYBgwYMDAgQPJQWjixIkHDx4cO3Ys+dHX1zc7O/uxLZSWls6aNYuU4jg7O//86ACS7vjll1+UfQgLCyspKVFnq8JCDA1FGxucPx8XL8aWFoyNRZEIw8Kw88v0x9NxsE6ePEkuYJWT+uu1CxcuBAQEGBgYmJqaDhkyZPfu3RERESQrLi4uBw8e7PKonJOT4+fnx+fz33777QeajndVKBSrV68WCASjRo06ffp0dzcvK8NlyzA1FTMycPlybDdYrht0HKzQ0FAAeO+993TbDS1SKBRWVlYAUFpaeuXKFR6PR85ujY2NarYgl8vJoDSpVKpZH1pbW8k5V+Mv0cuWISLGxODy5Zo1oNNZk69fv/7tt98KhcLXXntNh93QLoZhyNU6j8fz9PRMSkoKCgpydnZWZ9uTJ09mZmYGBweTU2rPqTMbymONGAGtrfDmm5CXp+FH6zJYW7duVSgUc+bMIaP2+qRXX31V/ZWzsrISEhIEveAx5IsvAo8H5uZQX69hCzp7CF1XV5eSksIwzKJFi3TVB4o9Ojti7dq1SyqVvvDCC57qlLtT3cEwHD+/7Vo6nWpIN8FqaWnZtWsXACxZskQnHejbEJns7Lh+Eay7d+9KJJLy8vLy8nKJRHL69OmKiorhw4cHBwc/mQ5QT5j2g1VaWnr06NHy8vKysjKJRFJRUXHr1i2pVNphNVtbW4FAgIh0dF4vxDANNjYepqbmAFc1a0HLwTpz5kxqampiYmKH5UZGRk5OTvb29s7Ozg4ODsbGxh9++OH58+d37NgRFxen3T5QPYeouH27sqWlWeMWtBysDRs2nDhxws/PLyQkxNnZ2d7e3tHR0dHR0dzcvP1qiOjp6RkeHh4fHx8QEECe6lDawjAwbhxoeg9LSzS8sfo4ly9fZhjGyMiopqZGxWo1NTVTp04NCgoi90Xd3Ny08sy19yAPm8kUNPPnz1en1IkoKChIS0u7fPkyeTmexnfe33gDMzIQEd9+W7MGsK6uDgDMzc013B5Rm98ctm7dioj//Oc/Z82atWHDhnv37j12NYVCcf78+VOnTtnZ2Y0cObKoqGjp0qVa7EYvcePGjczMzD179oSFhZE3mXe5ybBhw8LCwiwsLMgzmZKSEs0+ms+HzEyQSjWvny4uLtZwSyWNI9lBVVUVmWw4KSkJABwdHVXMCfvjjz9yOBwDA4PU1FQjIyMA+OKLL7TVE507ceKEUCjk8XjR0dEff/xx+6kDVdctymQyUrvMMAyPx1MxG29nmprwv//FpUvxxg18911cvBgzMrpR64Ltapd5PF635yRvR2vBEovFADBt2rRJkyYBQEJCgur14+PjAcDZ2XnLli0AYGZmpvUaN12prq6OiYkhz+msra23bt2qfBe6ubn5xo0bH53sFBG/+uorZcVfSEjI9OnTlbPxqjlHXEYGDhyIXC5GRiIiJiRgeDhyOOjoiMnJXc9TJ5fL9+7dS2b/IhPKVVVVabL/iKitYDU3N5O/y88++4xhGJFI1OXLuh88eECqlF5++eWIiAgA8PX1VTXxtb4h0/+RoJCn0coCZU9Pz/bXT+3X9PDwOE4mWkX89ddf/f39yfIxY8ZkZWV19lnnz+O4cW1Fnk8/jaTGs7kZU1Jw9Oi25ePHq3ozAynXIZ+llQnltBMscvobM2ZMVFQUAMTFxamz1Y0bN8iQlR07dpCqtHfeeUcr/ek9OlQep6SkeHl5zZ07l/yW1C6TY5ulpeW2bds61GApFIq0tDTy/nPyVoQOA2NIgaGPz3EAtLPDffuww7AMuRw//RRtbBAAx449Gh0d3eE4JJFIlHOVazaD5mNpJ1hkmrzdu3eTy6zff/9dzQ1TUlIAQCQSpaamcrlcDofzgwbvpejdyJWTskT4jTfekEgk7V+EQSZjVjHiRSqVkuseAFAO2GpublZWHru7j1yxAlV8t75zB5ctUwwd6kmuOjZv3iyTyUjtsrGxMWi1JJrQQrCOHz9Owr5q1SoAmD59erc2nzNnTlhYWH19fVRUlJ2dHauDVXTo1q1bs2fPJgcGW1tbZd3w5MmTr1y5ok4LxcXFM2bMIFs5OjqStwYBwD/+8Y8Ogzg6c+3aNeWQL3KXkRwIw8PDb9682bP960gLwSJX6+vXryeXWWfUnCP7IeXBn+zz+++/3/Mu9VpkGBaPxzM2Nm7/Igz1kbciGBsbW1hYuLu7f/PNN91t4YcffvD29jY3NzcyMmJv2FmPglVcXLxy5UpyU7S8vHzz5s3dPVwpFRYWcjgcoVCo4ozQN8jlcnL+0njIZGtr68WLFy9evKhxUXxLS0t+fn5eXh57A2U1CVZxcfG2bdv8/f3JgX3AgAEmJiZlmtXcP7RgwQIAWLBgQU8a0RfkAVed6snH9Vw3gpWfn79mzRovLy/lzVUzM7PZs2f7+PgAQGBgoMal+9XV962snBmGuXr1qmYt6BcaLETEy5cvi8ViDw8PZZ4sLCwiIyMzMjLIjb7bt2+Ty8ANGzZo1ol169DSUrFwYX+ZjJ8GC2NiYpR5srOzW7BgQWZm5qOn9u+++448otHgxlpzM9rbIwCePNndTfVVfw/Wnj177O3tzczMYmJiMjIyVF8qvvXWWwDg4uLS3X+vffsQAIcP7/a7cfRXfwiWquqGurq6ioqK6OjoadOmyeVyhUKhYuX169ePHTu2tLQ0NjZWxWqP2r4dAGD5cqCVpH2JWoV+kZGRtbW11dXVKgYA8ni8zz///KmnnkpPT9+/fz95tlNQUFBYWCiRSMrKyqqr3y8p4VdUgK0t/PRT21ZSKTz1FDQ0wMyZ2tgbqvdQcTT74IMPAGD58uVkzLg6d5j+85//AIBIJCLf72a2y4uTUwl5Gmpn17aytzfW1OC33/ajqyuiP5wKtVyaHB4efuzYsZSUlPDwcPLA/N69e87OznZ2dlZWhgCACDIZiMXg4gJjxkBCAvj7g6GhdntB6Z6qYIlE4aNHjzYzG+Tl9WJjYwvDmKnT4s6dO7Ozsy9duuTv7z948OCampq8vLzKysqnn3bPzg5Trvb88zByJAwZAufOwcSJPd2NXmJlcbGrUDhEKAz6a42/BvZVVrYqFFyGmWdvr5W+PWGqgiWVDszLGxgcDAUFrrW1gKhWiyYmJmvWrImOji4oKMjNzVUut7CoGT4cnJ3B3h6cnMDbG86dg5gYCAzsO8EScblTLC1FXO6r1661X259/fqZ9euVPzY2NgJAUFCQctKOsTExTQ+njSQ8jIzCbWxMdTwiQnPaH1fY0NDw7rvvymSyKVOmzJkzx8nJycHBwcHB4dG5LkaOBA4HvvwSjIy03gvdaGxtzZdK3YTCgr+Oo3Rvbs7JyWm/hMvlXrx4UfmjS1NT6V83cRMKf2tqsuHzB/B4rPaZJWoFy9UVrKzAQL0QLly4sLi4eMyYMUeOHCEvI+2MmxsAwMPqj77Ams8PsbREgM/aPagAALSxiTt3TvnjxIkTGxsbT506ReocAYBvZdXhRYyn6usnW1oKdTtOvgfUCku7f5MupKQcSk1NNTExOXjwoOpU9UlTrawAgAHwFon+8guRCNpNkUXOgKNGjbLo/F3FQg7HUJ/v7HUarJYWsLODvXvBwgIaG9V6V+Xvv8PSpdPHjv3y9dcfuLq6arObesJdeyd1V6FQW03pRKdHWqkUVq+GwECorGx7A6VqMhmEh0NNDePiMjMyMlKbfaT0kKpT4ezZsHkzjBgBRUUgkcBzz6m6zFqxAvLyYOhQSErSfi/7mOlHj8oAuH3mO8vjqAqWUAhTpsCuXWBqCunpYGEBoaEQFgaTJnW8pfnrr/DRR8Dnw5dfwsPrUapTxaamjXI5o+a3If3U6amQYUAohKlTwcQEXF1h2DCor4eUFJg6FWxtITISDh8GqRSOHgUAMDODLVtg0ybw8XlyXad6MwbVvO8JcO0aHDoEhw79OZOutzc0NkJaGly/Du7uNFXqmnDxYqNc/uOoUSZ6e/+zS90IltLNm3DkCKSnw7hxgAh37sCzz8KwYTRY6uoPwdLk/tvAgbBoEWRlwbp1wOVCdDTs3av1jvVZ9xWKECurGdbWzSrr2/Rdj64fuVywtARfX/DxoRUK6vqjuVnI4fiZmhro8/3PLvXoicH9++DgAADwcIAupZYymaxAKjXU28c16ujREevBA7h+HQCgshJ6XCfSjzxjahpiacnv08Hq6b5lZcH69XDokFY6018YMEzfThX0vGzm2Wdh1Sr4+mutdKZf8DQy8ujT99yJHgVLIICAAAAAd3foBW8W0ht9+aL9IU3uY1FUl/r4mZ7SFRosihU0WBQraLAoVtBgUaygwaJYQYNFsYIGi2IFDRbFChosihU0WBQraLAoVtBgUaygwaJYQYNFsYIGi2IFDRbFChosihU0WBQraLAoVtBgUaygwaJYQYNFsYIGi2IFDRbFChosihU0WBQraLAoVtBgUaygwaJYQYNFsYIGi2IFDRbFChosihU0WBQraLAoVtBgUaygwaJYQYNFsYIGi2IFDRbFChosihU0WBQraLAoVtBgUaygwaJYQYNFsYIGi2IFDRbFChosihU0WBQr/h+JEljjHLJnBwAAAsp6VFh0cmRraXRQS0wgcmRraXQgMjAyMC4wOS4xAAB4nI2SX0hTURzHzz13u9vc5ua9++Pcv7s/2eZLBCVCmGdvZQ/Zm1HUwWxc3wIha2Q4LSUKX/QhSjIoiAozIZBAtzMqQa2WBYURQi+KPqQPSRnmuvccxJoFHTj8Pud7f7/v+d3fvcuZoTmgLou6OcBWlbp3qbuDEwDWdN4AZDXy7AjhZiyWUUw76gSkaJHnfgP2xACoAFVjJhhZ/I/SMnrXlhOL/La8bU5bmZuVNVpUX+rfFkWlf8ksLqHd6UysyT9D8dTM6qA5CCCv1gGdHugFIBgUaDBio0mBphK5xCybLTFotsrWUgWW2rDNrkB7GbCLWJRkyYEdTgU6XbLLrUB3OS73KNBTgSu82OtToM+P/QH1cRAHZQWKIdUxjMMRBUaiILoDRCtBdCfQxUAsDuIciAg4ZMWyhAMu7PdghyBw8ZhO/R4GoykcEYRSm10MWfUOSQ46BXe5xx9w6Ss8fp/XvfmzgKrdLdWJd0vpOu3gvx1KNI727Nf43AdLYnaF6ZO+FdSaZ/qSdwVFLLeyGj+7MoFk0wbl1PcB5BOY3rg2gHoXWH7gTRItrDOf/EMJ3S8wPSWm677ATqqvOtN1bVwIaVw/LKHVQgPl8bH+zBo8Qvnto/7MhfR1yrNnprO1nY8pj32qIRudTL9XuEyyXUw/P1dD1vWstpnrJhcNzP+JcJXc9HXRe4//eEraWqopR9KvyGcco/2HD42Qgz3LlBdnnpN9Zw8TjYd7v5Lm9qOULaeMuaa+Psp7qoO5Y+OXKL/YG8yNpuKUG5uMuW8zZsqLtT9Jd3sD9RxYmyFDGUD7Gf44QkqcByi/bpvOpnSsT/GBhFyAzfPuyyTy8GzO81NJdI07ST3jk0k00TFIufX0HVTPM31+SkD5wgnKN95bEpU2Vjs0GEpUiczT9QsNW9Q2Pxy1awAAAoV6VFh0TU9MIHJka2l0IDIwMjAuMDkuMQAAeJylV0GO2zAMvOcV+kAEkqIo6by7vRTdAj30DwV67P/RkWUzzqIFNkxgBEPIngyHlOhc0vz8eP3660/yj7xeLkklaUuJ/nmNMdJPIaILbmfOStTmk5yJK01EGauUXtL/KM7XxkKZiW09K1b5xPL+aZbUcycx1yIhLanlSqW6lvIEiwJcOUvRFsvIspCWxTL6HcsDWjQPqsW12BMs6r5ojKVkI6teoxpjkVyo3bQEM4IC6upagjXaWOpSVe9ZHs3IlkMfMvr+aZYr3ECRnKWHtCwWXTVvYRbOtY+NpU5fRoxFcu/L3anFKMaimXurhxY7ny8vvx/T4jV6Sks7+sViZx1Yiupx1onGTqlrzZ15r29jie3Gq2UVodU5VltsB0BLVdpPzN44mJFlDKHpyxU1UraYuy2bii6WMnpQS89VVFa1jDl2vlxHHnWbsLNztAf7ZWOx1cV2z/JoRrRYODqP4O7g0le/dNbYJEGlq/G+j4ijlUbX1TbWnmaxEmPZzjrzGRA769YMuM3pZyaspOOdIThhNxZeO0CfY6HVux+0fPk8S8Xb4UmLxVjknkVjLNs7prq7sdm43nerVzrUL0hFtu8ZABUPgNQDoOoBkHkA1DwA6hvNDICGrwzIPVaAmI8VIHYFQPPIFg9cAdBMdV+piV0B0NzA+0pLcxKxB64AaE6XFQCJKwASOQiAxD0AmlXaVzSJewA0/yPsK5bEPQASVwAkw28bqbgCoMKnHy3uAVC5eYBn9ORbcQVAxRUAFVcAVPo5GKdA6VRGdQ+A1BWonJqinAsMLbeSQOXNUSRz8w3JyVGfbym9vb9e/gIO+TBFEgukgwAAAbl6VFh0U01JTEVTIHJka2l0IDIwMjAuMDkuMQAAeJxNks2K3TAMhV+lywQcoX/LhK4CQ1e3D1C68rbkCebhK9u5zEAW4fORdHys60XX9dquzr337XVtP3/vXcb/9W/v23Fr/h7d+t39z/3r7927d9vvW1O2987X9rHn97FfF/343IhAEWshQNIW5SQEQvKCwG5YqZwBgexTYXlwVjAUo6Vgs4colYOARWsSB0YVHqSFehKFhibyaMwforr6qLRyCji62hplUk4GwSqPGWdOe4AYEksy3E2gURhsgVljtciqKeeR1TkJeaGgN5LmRaE+iMCiZWcbjdLMwRARWpekDaJAUdWnxDHeGovV+UvjdfpZGgVRtRkxq4xRBkEUI8FKbDniPByUGTNCBLdaOabMFHWGGJWEp4wM81JHDtRls4Ir60TSYhYGWJ5GydFOVDVRg5avKQOR5vQ38kScHRaahcMF5y3UV/tGEtNYkObM6cKcKucdkch1WbXaNHMg9ulhxpkG+YlzPkuu0Xr/zHm9NuuzIyOFSUjGVfQbwWn70Viu55cmo8/O30luy9rYXKjVOfS91fZMb1L2z/9HhqzoONec9AAAAABJRU5ErkJggg==\" alt=\"Mol\"/></td>\n",
       "      <td>-0.020203</td>\n",
       "    </tr>\n",
       "  </tbody>\n",
       "</table>\n",
       "<p>92 rows × 7 columns</p>\n",
       "</div>"
      ],
      "text/plain": [
       "    Unnamed: 0 molecule_chembl_id units   IC50  \\\n",
       "0            0      CHEMBL2347725    nM  0.015   \n",
       "1            1      CHEMBL2347722    nM  0.021   \n",
       "2            2      CHEMBL2347723    nM  0.064   \n",
       "3            3      CHEMBL2347711    nM  0.064   \n",
       "4            4      CHEMBL2347710    nM  0.110   \n",
       "..         ...                ...   ...    ...   \n",
       "87          87      CHEMBL4110855    nM  0.900   \n",
       "88          88      CHEMBL3980913    nM  0.900   \n",
       "89          89       CHEMBL566515    nM  0.920   \n",
       "90          90      CHEMBL2178268    nM  0.940   \n",
       "91          91      CHEMBL2178277    nM  0.980   \n",
       "\n",
       "                                               smiles  \\\n",
       "0      COc1ccccc1-c1ccc2nc(NC(=O)NCCN3CCN(C)CC3)sc2c1   \n",
       "1         COc1ccccc1-c1ccc2nc(NC(=O)NCCN3CCOCC3)sc2c1   \n",
       "2                COc1ccccc1-c1ccc2nc(NC(=O)NCCO)sc2c1   \n",
       "3                CCNC(=O)Nc1nc2ccc(-c3ccccc3OCC)cc2s1   \n",
       "4                 CCNC(=O)Nc1nc2ccc(-c3ccccc3OC)cc2s1   \n",
       "..                                                ...   \n",
       "87  Cc1ncncc1-c1cc(C(=O)Nc2ccc(OC(F)(F)Cl)cc2)cnc1...   \n",
       "88  Nc1ncc(-c2cc(C(=O)Nc3ccc(OC(F)(F)F)cc3)cnc2N2C...   \n",
       "89  COc1ccccc1-n1c(-c2cc(O)ccc2C)cn2c3c(=O)[nH]c(=...   \n",
       "90  Cc1ccc(C(=O)Nc2ccc(CN3CCCN(C)CC3)c(C(F)(F)F)c2...   \n",
       "91  CN1CCN(Cc2ccc(NC(=O)c3ccc(Cl)c(-n4cc(-c5cnc6[n...   \n",
       "\n",
       "                                                ROMol  log_IC50  \n",
       "0   <img data-content=\"rdkit/molecule\" src=\"data:i... -4.199705  \n",
       "1   <img data-content=\"rdkit/molecule\" src=\"data:i... -3.863233  \n",
       "2   <img data-content=\"rdkit/molecule\" src=\"data:i... -2.748872  \n",
       "3   <img data-content=\"rdkit/molecule\" src=\"data:i... -2.748872  \n",
       "4   <img data-content=\"rdkit/molecule\" src=\"data:i... -2.207275  \n",
       "..                                                ...       ...  \n",
       "87  <img data-content=\"rdkit/molecule\" src=\"data:i... -0.105361  \n",
       "88  <img data-content=\"rdkit/molecule\" src=\"data:i... -0.105361  \n",
       "89  <img data-content=\"rdkit/molecule\" src=\"data:i... -0.083382  \n",
       "90  <img data-content=\"rdkit/molecule\" src=\"data:i... -0.061875  \n",
       "91  <img data-content=\"rdkit/molecule\" src=\"data:i... -0.020203  \n",
       "\n",
       "[92 rows x 7 columns]"
      ]
     },
     "execution_count": 10,
     "metadata": {},
     "output_type": "execute_result"
    }
   ],
   "source": [
    "# filtering out only the most active compounds with IC50 < 1nM\n",
    "mol_data[mol_data.IC50<1]"
   ]
  },
  {
   "cell_type": "code",
   "execution_count": 11,
   "metadata": {},
   "outputs": [],
   "source": [
    "# calculating properties needed to apply Lipinski’s rule of 5\n",
    "mol_list = mol_data.ROMol\n",
    "MWs = [Descriptors.ExactMolWt(mol) for mol in mol_list]\n",
    "HBAs = [Descriptors.NumHAcceptors(mol) for mol in mol_list]\n",
    "HBDs = [Descriptors.NumHDonors(mol) for mol in mol_list]\n",
    "LogPs = [Descriptors.MolLogP(mol) for mol in mol_list]\n",
    "parameters = [MWs, HBAs, HBDs, LogPs]"
   ]
  },
  {
   "cell_type": "code",
   "execution_count": 12,
   "metadata": {},
   "outputs": [
    {
     "data": {
      "text/html": [
       "<div>\n",
       "<style scoped>\n",
       "    .dataframe tbody tr th:only-of-type {\n",
       "        vertical-align: middle;\n",
       "    }\n",
       "\n",
       "    .dataframe tbody tr th {\n",
       "        vertical-align: top;\n",
       "    }\n",
       "\n",
       "    .dataframe thead th {\n",
       "        text-align: right;\n",
       "    }\n",
       "</style>\n",
       "<table border=\"1\" class=\"dataframe\">\n",
       "  <thead>\n",
       "    <tr style=\"text-align: right;\">\n",
       "      <th></th>\n",
       "      <th>Unnamed: 0</th>\n",
       "      <th>molecule_chembl_id</th>\n",
       "      <th>units</th>\n",
       "      <th>IC50</th>\n",
       "      <th>smiles</th>\n",
       "      <th>ROMol</th>\n",
       "      <th>log_IC50</th>\n",
       "      <th>MW</th>\n",
       "      <th>HBA</th>\n",
       "      <th>HBD</th>\n",
       "      <th>LP</th>\n",
       "    </tr>\n",
       "  </thead>\n",
       "  <tbody>\n",
       "    <tr>\n",
       "      <th>0</th>\n",
       "      <td>0</td>\n",
       "      <td>CHEMBL2347725</td>\n",
       "      <td>nM</td>\n",
       "      <td>0.015</td>\n",
       "      <td>COc1ccccc1-c1ccc2nc(NC(=O)NCCN3CCN(C)CC3)sc2c1</td>\n",
       "      <td><img data-content=\"rdkit/molecule\" src=\"data:image/png;base64,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\" alt=\"Mol\"/></td>\n",
       "      <td>-4.199705</td>\n",
       "      <td>425.188546</td>\n",
       "      <td>6</td>\n",
       "      <td>2</td>\n",
       "      <td>3.3408</td>\n",
       "    </tr>\n",
       "    <tr>\n",
       "      <th>1</th>\n",
       "      <td>1</td>\n",
       "      <td>CHEMBL2347722</td>\n",
       "      <td>nM</td>\n",
       "      <td>0.021</td>\n",
       "      <td>COc1ccccc1-c1ccc2nc(NC(=O)NCCN3CCOCC3)sc2c1</td>\n",
       "      <td><img data-content=\"rdkit/molecule\" src=\"data:image/png;base64,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\" alt=\"Mol\"/></td>\n",
       "      <td>-3.863233</td>\n",
       "      <td>412.156912</td>\n",
       "      <td>6</td>\n",
       "      <td>2</td>\n",
       "      <td>3.4256</td>\n",
       "    </tr>\n",
       "    <tr>\n",
       "      <th>2</th>\n",
       "      <td>2</td>\n",
       "      <td>CHEMBL2347723</td>\n",
       "      <td>nM</td>\n",
       "      <td>0.064</td>\n",
       "      <td>COc1ccccc1-c1ccc2nc(NC(=O)NCCO)sc2c1</td>\n",
       "      <td><img data-content=\"rdkit/molecule\" src=\"data:image/png;base64,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\" alt=\"Mol\"/></td>\n",
       "      <td>-2.748872</td>\n",
       "      <td>343.099062</td>\n",
       "      <td>5</td>\n",
       "      <td>3</td>\n",
       "      <td>3.0857</td>\n",
       "    </tr>\n",
       "    <tr>\n",
       "      <th>3</th>\n",
       "      <td>3</td>\n",
       "      <td>CHEMBL2347711</td>\n",
       "      <td>nM</td>\n",
       "      <td>0.064</td>\n",
       "      <td>CCNC(=O)Nc1nc2ccc(-c3ccccc3OCC)cc2s1</td>\n",
       "      <td><img data-content=\"rdkit/molecule\" src=\"data:image/png;base64,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\" alt=\"Mol\"/></td>\n",
       "      <td>-2.748872</td>\n",
       "      <td>341.119798</td>\n",
       "      <td>4</td>\n",
       "      <td>2</td>\n",
       "      <td>4.5034</td>\n",
       "    </tr>\n",
       "    <tr>\n",
       "      <th>4</th>\n",
       "      <td>4</td>\n",
       "      <td>CHEMBL2347710</td>\n",
       "      <td>nM</td>\n",
       "      <td>0.110</td>\n",
       "      <td>CCNC(=O)Nc1nc2ccc(-c3ccccc3OC)cc2s1</td>\n",
       "      <td><img data-content=\"rdkit/molecule\" src=\"data:image/png;base64,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\" alt=\"Mol\"/></td>\n",
       "      <td>-2.207275</td>\n",
       "      <td>327.104148</td>\n",
       "      <td>4</td>\n",
       "      <td>2</td>\n",
       "      <td>4.1133</td>\n",
       "    </tr>\n",
       "  </tbody>\n",
       "</table>\n",
       "</div>"
      ],
      "text/plain": [
       "   Unnamed: 0 molecule_chembl_id units   IC50  \\\n",
       "0           0      CHEMBL2347725    nM  0.015   \n",
       "1           1      CHEMBL2347722    nM  0.021   \n",
       "2           2      CHEMBL2347723    nM  0.064   \n",
       "3           3      CHEMBL2347711    nM  0.064   \n",
       "4           4      CHEMBL2347710    nM  0.110   \n",
       "\n",
       "                                           smiles  \\\n",
       "0  COc1ccccc1-c1ccc2nc(NC(=O)NCCN3CCN(C)CC3)sc2c1   \n",
       "1     COc1ccccc1-c1ccc2nc(NC(=O)NCCN3CCOCC3)sc2c1   \n",
       "2            COc1ccccc1-c1ccc2nc(NC(=O)NCCO)sc2c1   \n",
       "3            CCNC(=O)Nc1nc2ccc(-c3ccccc3OCC)cc2s1   \n",
       "4             CCNC(=O)Nc1nc2ccc(-c3ccccc3OC)cc2s1   \n",
       "\n",
       "                                               ROMol  log_IC50          MW  \\\n",
       "0  <img data-content=\"rdkit/molecule\" src=\"data:i... -4.199705  425.188546   \n",
       "1  <img data-content=\"rdkit/molecule\" src=\"data:i... -3.863233  412.156912   \n",
       "2  <img data-content=\"rdkit/molecule\" src=\"data:i... -2.748872  343.099062   \n",
       "3  <img data-content=\"rdkit/molecule\" src=\"data:i... -2.748872  341.119798   \n",
       "4  <img data-content=\"rdkit/molecule\" src=\"data:i... -2.207275  327.104148   \n",
       "\n",
       "   HBA  HBD      LP  \n",
       "0    6    2  3.3408  \n",
       "1    6    2  3.4256  \n",
       "2    5    3  3.0857  \n",
       "3    4    2  4.5034  \n",
       "4    4    2  4.1133  "
      ]
     },
     "execution_count": 12,
     "metadata": {},
     "output_type": "execute_result"
    }
   ],
   "source": [
    "# same as above, just written in a nicer way\n",
    "lip_prop = dict(MW = Descriptors.ExactMolWt, HBA = Descriptors.NumHAcceptors, HBD = Descriptors.NumHDonors, LP = Descriptors.MolLogP)\n",
    "for lp in lip_prop:\n",
    "    mol_data[lp] = [lip_prop[lp](mol) for mol in mol_data.ROMol] # here we store the values\n",
    "mol_data.head()# dataframe with the calculated properties"
   ]
  },
  {
   "cell_type": "code",
   "execution_count": 13,
   "metadata": {},
   "outputs": [
    {
     "data": {
      "text/plain": [
       "array([[<AxesSubplot:title={'center':'MW'}>,\n",
       "        <AxesSubplot:title={'center':'HBA'}>],\n",
       "       [<AxesSubplot:title={'center':'HBD'}>,\n",
       "        <AxesSubplot:title={'center':'LP'}>]], dtype=object)"
      ]
     },
     "execution_count": 13,
     "metadata": {},
     "output_type": "execute_result"
    },
    {
     "data": {
      "image/png": "[encoded data removed]",
      "text/plain": [
       "<Figure size 432x288 with 4 Axes>"
      ]
     },
     "metadata": {
      "needs_background": "light"
     },
     "output_type": "display_data"
    }
   ],
   "source": [
    "mol_data.hist(column = ['MW', 'HBA', 'HBD', 'LP']) # plot histograms"
   ]
  },
  {
   "cell_type": "code",
   "execution_count": 14,
   "metadata": {},
   "outputs": [
    {
     "name": "stdout",
     "output_type": "stream",
     "text": [
      "1350 874 66\n"
     ]
    }
   ],
   "source": [
    "cutoff = 1. # as above, am arbitrary cutoff of 1nM to filter out the most active compounds\n",
    "# let’s first filter out the compounds that satisfy the Lipinski’s rule of 5\n",
    "lip = mol_data[(mol_data.MW<500) & (mol_data.HBA<10) & (mol_data.HBD<5) & (mol_data.LP<5)]\n",
    "# and here we filter out the active compounds that satisfy the Lipinski’s rule of 5\n",
    "active_lip = mol_data[(mol_data.IC50 < cutoff) & (mol_data.MW<500) & (mol_data.HBA<10) & (mol_data.HBD<5) & (mol_data.LP<5)]\n",
    "print(len(mol_data), len(lip), len(active_lip))"
   ]
  },
  {
   "cell_type": "code",
   "execution_count": 15,
   "metadata": {},
   "outputs": [
    {
     "name": "stdout",
     "output_type": "stream",
     "text": [
      "True\n"
     ]
    }
   ],
   "source": [
    "# importing some additional features needed to build a pharmacophore model\n",
    "fdefName = os.path.join(RDConfig.RDDataDir,'BaseFeatures.fdef')\n",
    "print(os.path.isfile(fdefName))\n",
    "factory = Ph.ChemicalFeatures.BuildFeatureFactory(fdefName)   "
   ]
  },
  {
   "cell_type": "code",
   "execution_count": 16,
   "metadata": {},
   "outputs": [
    {
     "name": "stdout",
     "output_type": "stream",
     "text": [
      "Donor SingleAtomDonor [1.2075838112364843, 1.9158144731919062, 0.0]\n",
      "Donor SingleAtomDonor [3.78972681581056, 1.628521062322175, 0.0]\n",
      "Donor SingleAtomDonor [7.580006858620651, 0.45218046662910405, 0.0]\n",
      "Donor SingleAtomDonor [9.996280935092685, -1.3259139030175793, 0.0]\n",
      "Acceptor SingleAtomAcceptor [-6.739619326614969, -2.383482345963725, 0.0]\n",
      "Acceptor SingleAtomAcceptor [-0.48721356911922514, -0.1512354717430379, 0.0]\n",
      "Acceptor SingleAtomAcceptor [2.2498519213704546, -0.4640336704083877, 0.0]\n",
      "PosIonizable BasicGroup [7.580006858620651, 0.45218046662910405, 0.0]\n",
      "PosIonizable BasicGroup [9.996280935092685, -1.3259139030175793, 0.0]\n",
      "Aromatic Arom5 [-1.3352214410475731, 0.8021783649957669, 0.0]\n",
      "Aromatic Arom6 [-7.943126874522191, 0.3645295867123958, 0.0]\n",
      "Aromatic Arom6 [-3.470723998191334, -0.13307719759374137, 0.0]\n",
      "Hydrophobe ThreeWayAttach [-6.45232591574524, 0.1986606586103492, 0.0]\n",
      "Hydrophobe ThreeWayAttach [-4.961524956968287, 0.032791730508304084, 0.0]\n",
      "Hydrophobe ThreeWayAttach [-2.5816768133679933, 1.0750598406422744, 0.0]\n",
      "LumpedHydrophobe RH6_6 [-7.943126874522191, 0.3645295867123958, 0.0]\n",
      "LumpedHydrophobe RH6_6 [-3.470723998191334, -0.13307719759374137, 0.0]\n"
     ]
    }
   ],
   "source": [
    "AllChem.Compute2DCoords(m) # get 2D coordinates of a molecules (first molecules from the list)\n",
    "feats = factory.GetFeaturesForMol(m) # calculates a set of features\n",
    "# here we output the list of fetures calculated for this molecule\n",
    "for f in feats:\n",
    "    print(f.GetFamily(), f.GetType(), list(f.GetPos()))"
   ]
  },
  {
   "cell_type": "code",
   "execution_count": 17,
   "metadata": {},
   "outputs": [
    {
     "data": {
      "text/plain": [
       "(17, 24)"
      ]
     },
     "execution_count": 17,
     "metadata": {},
     "output_type": "execute_result"
    }
   ],
   "source": [
    "# we can do the same calculation, but now using the 3D representation of the same molecule\n",
    "feats_3D = factory.GetFeaturesForMol(m_3D)\n",
    "len(feats), len(feats_3D)# getting a bit more information using this approach"
   ]
  },
  {
   "cell_type": "code",
   "execution_count": 18,
   "metadata": {},
   "outputs": [
    {
     "name": "stdout",
     "output_type": "stream",
     "text": [
      "Donor SingleAtomDonor [-0.934692250332992, 0.4655800603574516, -2.0053905824200497]\n",
      "Donor SingleAtomDonor [-3.3465764718693656, -0.1755141023289569, -2.2252396625420934]\n",
      "Donor SingleAtomDonor [-4.745441155614246, 1.2789938217928039, 0.2703320254727436]\n",
      "Donor SingleAtomDonor [-6.882632847583131, -0.7353043438420405, 0.6725273681231021]\n",
      "Acceptor SingleAtomAcceptor [6.570274961505446, 0.8610910337595665, 1.7156569274108096]\n",
      "Acceptor SingleAtomAcceptor [1.386514662735338, 1.1548453159434715, -1.7132219299161]\n",
      "Acceptor SingleAtomAcceptor [-1.6621837574256424, -1.7594437388042066, -2.0516562383952603]\n",
      "PosIonizable BasicGroup [-4.745441155614246, 1.2789938217928039, 0.2703320254727436]\n",
      "PosIonizable BasicGroup [-6.882632847583131, -0.7353043438420405, 0.6725273681231021]\n",
      "Aromatic Arom5 [1.5813373788169987, 0.04963438681014644, -1.2337468178589055]\n",
      "Aromatic Arom6 [7.285098847849745, -1.7256515760417634, 0.851272028303178]\n",
      "Aromatic Arom6 [3.722510162264981, 0.10926482635830281, -0.7175056003184928]\n",
      "Hydrophobe ThreeWayAttach [8.116807874312684, -1.0483459875385372, 1.753021892479694]\n",
      "Hydrophobe ThreeWayAttach [8.448889362727126, -2.338122246032507, 1.3338064480010494]\n",
      "Hydrophobe ThreeWayAttach [7.621895161171362, -3.020196093578207, 0.4386777462301294]\n",
      "Hydrophobe ThreeWayAttach [6.462500265313957, -2.4133064492853853, -0.048864887984107305]\n",
      "Hydrophobe ThreeWayAttach [6.115573542897562, -1.1111608203208043, 0.3541190560430468]\n",
      "Hydrophobe ThreeWayAttach [4.882508908227876, -0.48599587010496786, -0.1858511744130028]\n",
      "Hydrophobe ThreeWayAttach [4.912771739181222, 0.8315106877287471, -0.7091271861942038]\n",
      "Hydrophobe ThreeWayAttach [3.753232659578755, 1.4275743682164443, -1.2289407359909605]\n",
      "Hydrophobe ThreeWayAttach [2.5433622350579137, -0.59830156254612, -0.7368057164585701]\n",
      "Hydrophobe ThreeWayAttach [3.6743995993984804, -1.211494795037379, -0.20786440723203417]\n",
      "LumpedHydrophobe RH6_6 [7.285098847849745, -1.7256515760417634, 0.851272028303178]\n",
      "LumpedHydrophobe RH6_6 [3.722510162264981, 0.10926482635830281, -0.7175056003184928]\n"
     ]
    }
   ],
   "source": [
    "# output a set of features calculated for the molecule based on its 3D representation\n",
    "for f in feats_3D:\n",
    "    print(f.GetFamily(), f.GetType(), list(f.GetPos()))"
   ]
  },
  {
   "cell_type": "code",
   "execution_count": 19,
   "metadata": {},
   "outputs": [
    {
     "name": "stdout",
     "output_type": "stream",
     "text": [
      "[(0, 2.5), (2.5, 5), (5, 8)]\n"
     ]
    },
    {
     "data": {
      "text/plain": [
       "3348"
      ]
     },
     "execution_count": 19,
     "metadata": {},
     "output_type": "execute_result"
    }
   ],
   "source": [
    "#let’s get pharmacophore fingerprints of our molecule (combination of features and their distance)\n",
    "# to do that, we need to prepare a list of some objects\n",
    "sigFactory = SigFactory(factory,minPointCount=2,maxPointCount=3)\n",
    "dist_bin = (0,2.5,5,8)\n",
    "#dist_bin = (0,2,4,6,8)\n",
    "dbins = []\n",
    "for i in range(len(dist_bin)-1):\n",
    "    dbins.append((dist_bin[i], dist_bin[i+1]))\n",
    "print(dbins)\n",
    "sigFactory.SetBins(dbins)\n",
    "sigFactory.Init()\n",
    "sigFactory.GetSigSize()"
   ]
  },
  {
   "cell_type": "code",
   "execution_count": 20,
   "metadata": {},
   "outputs": [
    {
     "name": "stdout",
     "output_type": "stream",
     "text": [
      "144 194\n"
     ]
    }
   ],
   "source": [
    "# now we generate a fingerprint of our molecule, based on its 2D structure\n",
    "fp_m = Generate.Gen2DFingerprint(m,sigFactory)\n",
    "# and its 3D structure\n",
    "fp_m3D = Generate.Gen2DFingerprint(m_3D,sigFactory)\n",
    "print(fp_m.GetNumOnBits(), fp_m3D.GetNumOnBits())"
   ]
  },
  {
   "cell_type": "code",
   "execution_count": 21,
   "metadata": {},
   "outputs": [
    {
     "name": "stdout",
     "output_type": "stream",
     "text": [
      "[1, 2, 3, 4, 5, 6, 7, 8, 9, 10, 11, 12, 13, 14, 20, 24, 25, 27, 28, 29]\n",
      "[1, 2, 3, 4, 5, 6, 7, 8, 9, 10, 11, 12, 13, 14, 20, 24, 25, 27, 28, 29]\n"
     ]
    }
   ],
   "source": [
    "print(list(fp_m.GetOnBits())[:20])\n",
    "print(list(fp_m3D.GetOnBits())[:20])\n",
    "# expectedly, we get very similar fingerprints using 2D and 3D structures, but still different"
   ]
  },
  {
   "cell_type": "markdown",
   "metadata": {},
   "source": [
    "a fingerprint of a molecule is essentially a list of zeros and ones, where 1s represent that a given feature is present in a molecule, and 0s represent the absence of the respective feature"
   ]
  },
  {
   "cell_type": "code",
   "execution_count": 22,
   "metadata": {},
   "outputs": [
    {
     "data": {
      "text/plain": [
       "'011111111111111000001000110111110110000001000111011011000011000110110000000000100000000000000000000010000000000000000000000000000000000000000000000000100000100100000000000100100001000000000000000000000000110000010100000000000000000100000100100000000000000000000000000000000000000000000001000000000000000000000000000000000000000000000100000000110000000010001000110000001011000000000100110100000100010100000000100100100000000110000000000000000000000000000000000000000000000000001000000000000000000000000000000000000100000000100000000011010000010001011001001000000000000010000011001000000000000000000000000000000000000000000000000011000000010000000000000000000000000000000000000000000000100000000010100100000100010100000100110000000000000000000000000000000000000000000000000000000000000000000000000000000000000000000000000100000000100000000000000000000000000000000000000000000000000000000000000000000000000000000000000000000000000000000000000000000000000000000000000000000000000000000000000000000000000000000000000000000000000000000000000000000000000000000000000000000000000000000000000000000000000000000000000000000010000000100000000000000000000100000000000000000000000000000000000000000000000000000000000000000000000000000000000000000000000000000000000000000000000000000000000000100000000001110000001001000001000000001010000000001000001000000010000000000000000000000000000000000000000001000000010000000000000000000000000000000000000000000000100000000000000000000100000000000000000000000000000000000000000000000000000000000000000000000000000000000000000000000000000000000000000000000000000000000000000000000000000000000000000000000000000000000000000000000000000000000000000000000000000000000000000000000000000000000000000000000000000000000000000000000000000000000000000000000000000000000000000000000000000000000000000000000000000000000000000000000000000000000110000000000011000000000000000000000000010000000000000000000000000000000000000000000000000000010000000010000010000000000000000000000000000000000000000000000000000110100000000000000000010000100100000000000000000000000000000000000000000000000000000000000000000000000000000000000000000000000000000000100000000000000000000000000000000000000000000000000000000000000000000000000000000000000000000000000000000000000000000000000000000000000000000000000000000000000000000000000000000000000000000010000000000000000000000000000000000000000000000000000000000000000000100000000000000000000100000000000000000000000000000000000000000000000000000000000000000000000000000000000000000000000000000000000000000000000000000000000000000000000000000000000000000000000000000000000000000000000000000000000000000000000000000000000000000000000000000000000000000000000000000000000000000000000000000000000000000000000000000000000000000000000000000000000000000000000000000000000000000000000000000000000000000000000000000000000000000000000000000000000000000000000000000000000000000000000000000000000000000000000000000000000000000000000000000000000000000000000000000000000000000000000000000000000000000000000000000000000000000000000000000000000000000000000000000000000000000000000000000000000000000000000000000000000000000000000000000000000000000000000000000000000000000000000000000000000000000000000000000000000000000000000000000000000000000000000000000000000000000000000000000000000000000000000000000000000000000000000000'"
      ]
     },
     "execution_count": 22,
     "metadata": {},
     "output_type": "execute_result"
    }
   ],
   "source": [
    "fp_m.ToBitString()# this is how it looks like"
   ]
  },
  {
   "cell_type": "markdown",
   "metadata": {},
   "source": [
    "let’s build a pharmacophore hypothesis, based on 10 most active and 100 least active compounds\n",
    "note that this is an arbitrary set. One could choose it differently"
   ]
  },
  {
   "cell_type": "code",
   "execution_count": 23,
   "metadata": {},
   "outputs": [],
   "source": [
    "# fingerprints of 10 most active compounds\n",
    "fp_a = []\n",
    "for m in lip.ROMol[:10]:\n",
    "    temp_fp = Generate.Gen2DFingerprint(m,sigFactory)\n",
    "    fp_a.append(temp_fp)\n",
    "# and fingerprints of 100 least active compounds (inactive)\n",
    "fp_ina = []\n",
    "for m in lip.ROMol[-100:]:\n",
    "    temp_fp = Generate.Gen2DFingerprint(m,sigFactory)\n",
    "    fp_ina.append(temp_fp)\n"
   ]
  },
  {
   "cell_type": "code",
   "execution_count": 24,
   "metadata": {},
   "outputs": [],
   "source": [
    "# and now we extract most relevant features that differ between the two sets\n",
    "# of active and inactive compounds\n",
    "ranker = InfoBitRanker(len(fp_a[0]),2)\n",
    "for fp in fp_a:\n",
    "    ranker.AccumulateVotes(fp,1)\n",
    "for fp in fp_ina:\n",
    "    ranker.AccumulateVotes(fp,0)\n"
   ]
  },
  {
   "cell_type": "code",
   "execution_count": 25,
   "metadata": {},
   "outputs": [
    {
     "name": "stdout",
     "output_type": "stream",
     "text": [
      "819 0.439 0 10\n",
      "2154 0.396 1 10\n",
      "828 0.396 1 10\n",
      "78 0.347 3 10\n",
      "1342 0.347 3 10\n",
      "2046 0.330 4 10\n",
      "1897 0.330 4 10\n",
      "711 0.314 5 10\n",
      "568 0.314 5 10\n",
      "721 0.301 6 10\n"
     ]
    }
   ],
   "source": [
    "# Let’s print the top 10 such features\n",
    "top_f = ranker.GetTopN(10)\n",
    "for fid,gain,n0,n1 in top_f:\n",
    "    print(int(fid),'%.3f'%gain,int(n0),int(n1))"
   ]
  },
  {
   "cell_type": "code",
   "execution_count": 26,
   "metadata": {},
   "outputs": [
    {
     "data": {
      "text/plain": [
       "3348"
      ]
     },
     "execution_count": 26,
     "metadata": {},
     "output_type": "execute_result"
    }
   ],
   "source": [
    "sigFactory.GetSigSize() # overall size of all features (combinations thereof) considered"
   ]
  },
  {
   "cell_type": "code",
   "execution_count": 27,
   "metadata": {},
   "outputs": [
    {
     "data": {
      "text/plain": [
       "'Acceptor Aromatic |0 0|0 0|'"
      ]
     },
     "execution_count": 27,
     "metadata": {},
     "output_type": "execute_result"
    }
   ],
   "source": [
    "# feature 3 for instance is a combination of H-bond acceptor and aromatic ring\n",
    "sigFactory.GetBitDescription(3)"
   ]
  },
  {
   "cell_type": "markdown",
   "metadata": {},
   "source": [
    "To perform virtual screening using one of such proposed pharmacophore hypothesis, one could for instance\n",
    "  - use the Tanimoto similarity to identify the positive hits (talktarial 4 from https://jcheminf.biomedcentral.com/articles/10.1186/s13321-019-0351-x)\n",
    "  - search for all compounds that satisfy all or most of the top N ranked features"
   ]
  },
  {
   "cell_type": "markdown",
   "metadata": {},
   "source": [
    "## Project tasks\n",
    "Start with a protein of choice (Exercise 1 and 2)\n",
    "* extract ligands (Exercise 1 and 2)\n",
    "* extract pharmacophore hypothesis\n",
    "  - use 2D or 3D fingerprints as described here\n",
    "  - or chemical similarity (talktarial 4 from https://jcheminf.biomedcentral.com/articles/10.1186/s13321-019-0351-x)\n",
    "  - or machine learning (talktarial 7 from https://jcheminf.biomedcentral.com/articles/10.1186/s13321-019-0351-x)\n",
    "  - or ligand-based approach (talktarial 9 from https://jcheminf.biomedcentral.com/articles/10.1186/s13321-019-0351-x)\n",
    "* perform the screening, i.e. apply the hypothesis on a set of compounds (Exercise 1 and 2)\n",
    "* discuss results\n",
    "  - is the applied approach able to identify active compounds and differentiate between active and inactive molecules. What are potential pitfalls of the approach and how could one address them.\n"
   ]
  },
  {
   "cell_type": "code",
   "execution_count": 28,
   "metadata": {},
   "outputs": [
    {
     "data": {
      "application/vnd.jupyter.widget-view+json": {
       "model_id": "985f1325f8b9459791642030f80b8dec",
       "version_major": 2,
       "version_minor": 0
      },
      "text/plain": []
     },
     "metadata": {},
     "output_type": "display_data"
    }
   ],
   "source": [
    "# import needed libraries\n",
    "import math\n",
    "import pypdb\n",
    "#import pymol\n",
    "\n",
    "from rdkit import Chem\n",
    "from rdkit.Chem.Draw import IPythonConsole\n",
    "from rdkit.Chem import Draw\n",
    "from rdkit.Chem import PandasTools\n",
    "IPythonConsole.ipython_useSVG=True\n",
    "\n",
    "import pandas as pd\n",
    "import numpy as np\n",
    "\n",
    "import matplotlib.pyplot as plt\n",
    "%matplotlib inline\n",
    "\n",
    "import collections\n",
    "import glob\n",
    "import logging\n",
    "import time\n",
    "\n",
    "from tqdm import tqdm\n",
    "import nglview\n",
    "\n",
    "from opencadd.structure.superposition.api import align, METHODS\n",
    "from opencadd.structure.core import Structure\n",
    "\n",
    "%matplotlib inline\n",
    "IPythonConsole.ipython_useSVG=True"
   ]
  },
  {
   "cell_type": "code",
   "execution_count": 29,
   "metadata": {},
   "outputs": [],
   "source": [
    "# For talktorial 9\n",
    "\n",
    "import os, glob\n",
    "\n",
    "# RDKit\n",
    "from rdkit import RDConfig, Chem, Geometry, DistanceGeometry\n",
    "from rdkit.Chem import ChemicalFeatures, rdDistGeom, Draw, rdMolTransforms, AllChem\n",
    "from rdkit.Chem.Draw import IPythonConsole, DrawingOptions\n",
    "from rdkit.Chem.Pharm3D import Pharmacophore, EmbedLib\n",
    "from rdkit.Numerics import rdAlignment\n",
    "IPythonConsole.ipython_useSVG=True\n",
    "\n",
    "import collections\n",
    "import pandas as pd\n",
    "import math\n",
    "\n",
    "from sklearn import datasets, cluster\n",
    "import matplotlib.pyplot as plt\n",
    "from mpl_toolkits.mplot3d import Axes3D\n",
    "from collections import Counter # For handling the labels\n",
    "import operator"
   ]
  },
  {
   "cell_type": "markdown",
   "metadata": {},
   "source": [
    "## Start with extracting the ligands"
   ]
  },
  {
   "cell_type": "markdown",
   "metadata": {},
   "source": [
    "So the second ID I used for my analysis was this one:"
   ]
  },
  {
   "cell_type": "code",
   "execution_count": 30,
   "metadata": {},
   "outputs": [],
   "source": [
    "uniprot_id = \"P08246\" # Neutrophil elastase \n",
    "# https://www.uniprot.org/uniprot/P08246"
   ]
  },
  {
   "cell_type": "markdown",
   "metadata": {},
   "source": [
    "### From exercise 1 I use the code we were given to search in the pdb database "
   ]
  },
  {
   "cell_type": "code",
   "execution_count": 31,
   "metadata": {},
   "outputs": [
    {
     "name": "stdout",
     "output_type": "stream",
     "text": [
      "23\n"
     ]
    }
   ],
   "source": [
    "search_dict = pypdb.make_query(uniprot_id)\n",
    "# now we submit the query\n",
    "found_pdb_ids = pypdb.do_search(search_dict)\n",
    "# here we look at how many hits we got\n",
    "print(len(found_pdb_ids))"
   ]
  },
  {
   "cell_type": "code",
   "execution_count": 32,
   "metadata": {},
   "outputs": [
    {
     "name": "stdout",
     "output_type": "stream",
     "text": [
      "['1B0F', '1H1B', '1HNE', '1PPF', '1PPG']\n",
      "structureId 1BBZ\n",
      "title CRYSTAL STRUCTURE OF THE ABL-SH3 DOMAIN COMPLEXED WITH A DESIGNED HIGH-AFFINITY PEPTIDE LIGAND: IMPLICATIONS FOR SH3-LIGAND INTERACTIONS\n",
      "pubmedId 9698566\n",
      "expMethod X-RAY DIFFRACTION\n",
      "resolution 1.65\n",
      "keywords COMPLEX (TRANSFERASE/PEPTIDE)\n",
      "nr_entities 2\n",
      "nr_residues 276\n",
      "nr_atoms 2146\n",
      "deposition_date 1998-04-28\n",
      "release_date 1998-11-25\n",
      "last_modification_date 2011-07-13\n",
      "structure_authors Pisabarro, M.T., Serrano, L., Wilmanns, M.\n",
      "citation_authors Pisabarro, M.T., Serrano, L., Wilmanns, M.\n",
      "status CURRENT\n"
     ]
    }
   ],
   "source": [
    "# here we look at the first 5 pdb codes\n",
    "print(found_pdb_ids[:5])\n",
    "# let's take a look at some information about the third structure\n",
    "pdb_info = pypdb.describe_pdb('1BBZ')\n",
    "\n",
    "for k in pdb_info:\n",
    "    print(k,pdb_info[k])\n"
   ]
  },
  {
   "cell_type": "code",
   "execution_count": 33,
   "metadata": {},
   "outputs": [
    {
     "data": {
      "text/html": [
       "<div>\n",
       "<style scoped>\n",
       "    .dataframe tbody tr th:only-of-type {\n",
       "        vertical-align: middle;\n",
       "    }\n",
       "\n",
       "    .dataframe tbody tr th {\n",
       "        vertical-align: top;\n",
       "    }\n",
       "\n",
       "    .dataframe thead th {\n",
       "        text-align: right;\n",
       "    }\n",
       "</style>\n",
       "<table border=\"1\" class=\"dataframe\">\n",
       "  <thead>\n",
       "    <tr style=\"text-align: right;\">\n",
       "      <th></th>\n",
       "      <th>structureId</th>\n",
       "      <th>title</th>\n",
       "      <th>pubmedId</th>\n",
       "      <th>expMethod</th>\n",
       "      <th>resolution</th>\n",
       "      <th>keywords</th>\n",
       "      <th>nr_entities</th>\n",
       "      <th>nr_residues</th>\n",
       "      <th>nr_atoms</th>\n",
       "      <th>deposition_date</th>\n",
       "      <th>release_date</th>\n",
       "      <th>last_modification_date</th>\n",
       "      <th>structure_authors</th>\n",
       "      <th>citation_authors</th>\n",
       "      <th>status</th>\n",
       "      <th>relatedPDB</th>\n",
       "      <th>pubmedCentralId</th>\n",
       "    </tr>\n",
       "  </thead>\n",
       "  <tbody>\n",
       "    <tr>\n",
       "      <th>0</th>\n",
       "      <td>1B0F</td>\n",
       "      <td>CRYSTAL STRUCTURE OF HUMAN NEUTROPHIL ELASTASE...</td>\n",
       "      <td>9651152</td>\n",
       "      <td>X-RAY DIFFRACTION</td>\n",
       "      <td>3.00</td>\n",
       "      <td>HYDROLASE</td>\n",
       "      <td>1</td>\n",
       "      <td>218</td>\n",
       "      <td>1750</td>\n",
       "      <td>1998-11-09</td>\n",
       "      <td>1998-11-09</td>\n",
       "      <td>2020-07-29</td>\n",
       "      <td>Schreuder, H.A., Metz, W.A., Peet, N.P., Pelto...</td>\n",
       "      <td>Cregge, R.J., Durham, S.L., Farr, R.A., Gallio...</td>\n",
       "      <td>CURRENT</td>\n",
       "      <td>NaN</td>\n",
       "      <td>NaN</td>\n",
       "    </tr>\n",
       "    <tr>\n",
       "      <th>1</th>\n",
       "      <td>1H1B</td>\n",
       "      <td>Crystal structure of human neutrophil elastase...</td>\n",
       "      <td>12190311</td>\n",
       "      <td>X-RAY DIFFRACTION</td>\n",
       "      <td>2.00</td>\n",
       "      <td>HYDROLASE</td>\n",
       "      <td>1</td>\n",
       "      <td>436</td>\n",
       "      <td>3426</td>\n",
       "      <td>2002-07-05</td>\n",
       "      <td>2002-08-29</td>\n",
       "      <td>2020-07-29</td>\n",
       "      <td>Macdonald, S.J.F., Dowle, M.D., Harrison, L.A....</td>\n",
       "      <td>Macdonald, S.J.F., Dowle, M.D., Harrison, L.A....</td>\n",
       "      <td>CURRENT</td>\n",
       "      <td>[{'@pdbId': '1B0F', '@details': 'CRYSTAL STRUC...</td>\n",
       "      <td>NaN</td>\n",
       "    </tr>\n",
       "    <tr>\n",
       "      <th>2</th>\n",
       "      <td>1HNE</td>\n",
       "      <td>Structure of human neutrophil elastase in comp...</td>\n",
       "      <td>2911584</td>\n",
       "      <td>X-RAY DIFFRACTION</td>\n",
       "      <td>1.84</td>\n",
       "      <td>HYDROLASE/HYDROLASE INHIBITOR</td>\n",
       "      <td>2</td>\n",
       "      <td>224</td>\n",
       "      <td>1667</td>\n",
       "      <td>1989-04-10</td>\n",
       "      <td>1989-10-15</td>\n",
       "      <td>2012-12-12</td>\n",
       "      <td>Navia, M.A., Mckeever, B.M., Springer, J.P., L...</td>\n",
       "      <td>Navia, M.A., McKeever, B.M., Springer, J.P., L...</td>\n",
       "      <td>CURRENT</td>\n",
       "      <td>NaN</td>\n",
       "      <td>NaN</td>\n",
       "    </tr>\n",
       "    <tr>\n",
       "      <th>3</th>\n",
       "      <td>1PPF</td>\n",
       "      <td>X-RAY CRYSTAL STRUCTURE OF THE COMPLEX OF HUMA...</td>\n",
       "      <td>3640709</td>\n",
       "      <td>X-RAY DIFFRACTION</td>\n",
       "      <td>1.80</td>\n",
       "      <td>HYDROLASE/HYDROLASE INHIBITOR</td>\n",
       "      <td>2</td>\n",
       "      <td>274</td>\n",
       "      <td>2246</td>\n",
       "      <td>1991-10-24</td>\n",
       "      <td>1994-01-31</td>\n",
       "      <td>2020-07-29</td>\n",
       "      <td>Bode, W., Wei, A-Z.</td>\n",
       "      <td>Bode, W., Wei, A.Z., Huber, R., Meyer, E., Tra...</td>\n",
       "      <td>CURRENT</td>\n",
       "      <td>NaN</td>\n",
       "      <td>NaN</td>\n",
       "    </tr>\n",
       "    <tr>\n",
       "      <th>4</th>\n",
       "      <td>1PPG</td>\n",
       "      <td>The refined 2.3 angstroms crystal structure of...</td>\n",
       "      <td>3391280</td>\n",
       "      <td>X-RAY DIFFRACTION</td>\n",
       "      <td>2.30</td>\n",
       "      <td>HYDROLASE/HYDROLASE INHIBITOR</td>\n",
       "      <td>2</td>\n",
       "      <td>224</td>\n",
       "      <td>1861</td>\n",
       "      <td>1991-10-24</td>\n",
       "      <td>1994-01-31</td>\n",
       "      <td>2020-07-29</td>\n",
       "      <td>Bode, W., Wei, A-Z.</td>\n",
       "      <td>Wei, A.Z., Mayr, I., Bode, W.</td>\n",
       "      <td>CURRENT</td>\n",
       "      <td>NaN</td>\n",
       "      <td>NaN</td>\n",
       "    </tr>\n",
       "  </tbody>\n",
       "</table>\n",
       "</div>"
      ],
      "text/plain": [
       "  structureId                                              title  pubmedId  \\\n",
       "0        1B0F  CRYSTAL STRUCTURE OF HUMAN NEUTROPHIL ELASTASE...   9651152   \n",
       "1        1H1B  Crystal structure of human neutrophil elastase...  12190311   \n",
       "2        1HNE  Structure of human neutrophil elastase in comp...   2911584   \n",
       "3        1PPF  X-RAY CRYSTAL STRUCTURE OF THE COMPLEX OF HUMA...   3640709   \n",
       "4        1PPG  The refined 2.3 angstroms crystal structure of...   3391280   \n",
       "\n",
       "           expMethod resolution                       keywords nr_entities  \\\n",
       "0  X-RAY DIFFRACTION       3.00                      HYDROLASE           1   \n",
       "1  X-RAY DIFFRACTION       2.00                      HYDROLASE           1   \n",
       "2  X-RAY DIFFRACTION       1.84  HYDROLASE/HYDROLASE INHIBITOR           2   \n",
       "3  X-RAY DIFFRACTION       1.80  HYDROLASE/HYDROLASE INHIBITOR           2   \n",
       "4  X-RAY DIFFRACTION       2.30  HYDROLASE/HYDROLASE INHIBITOR           2   \n",
       "\n",
       "  nr_residues nr_atoms deposition_date release_date last_modification_date  \\\n",
       "0         218     1750      1998-11-09   1998-11-09             2020-07-29   \n",
       "1         436     3426      2002-07-05   2002-08-29             2020-07-29   \n",
       "2         224     1667      1989-04-10   1989-10-15             2012-12-12   \n",
       "3         274     2246      1991-10-24   1994-01-31             2020-07-29   \n",
       "4         224     1861      1991-10-24   1994-01-31             2020-07-29   \n",
       "\n",
       "                                   structure_authors  \\\n",
       "0  Schreuder, H.A., Metz, W.A., Peet, N.P., Pelto...   \n",
       "1  Macdonald, S.J.F., Dowle, M.D., Harrison, L.A....   \n",
       "2  Navia, M.A., Mckeever, B.M., Springer, J.P., L...   \n",
       "3                                Bode, W., Wei, A-Z.   \n",
       "4                                Bode, W., Wei, A-Z.   \n",
       "\n",
       "                                    citation_authors   status  \\\n",
       "0  Cregge, R.J., Durham, S.L., Farr, R.A., Gallio...  CURRENT   \n",
       "1  Macdonald, S.J.F., Dowle, M.D., Harrison, L.A....  CURRENT   \n",
       "2  Navia, M.A., McKeever, B.M., Springer, J.P., L...  CURRENT   \n",
       "3  Bode, W., Wei, A.Z., Huber, R., Meyer, E., Tra...  CURRENT   \n",
       "4                      Wei, A.Z., Mayr, I., Bode, W.  CURRENT   \n",
       "\n",
       "                                          relatedPDB pubmedCentralId  \n",
       "0                                                NaN             NaN  \n",
       "1  [{'@pdbId': '1B0F', '@details': 'CRYSTAL STRUC...             NaN  \n",
       "2                                                NaN             NaN  \n",
       "3                                                NaN             NaN  \n",
       "4                                                NaN             NaN  "
      ]
     },
     "execution_count": 33,
     "metadata": {},
     "output_type": "execute_result"
    }
   ],
   "source": [
    "# let’s collect data for all retrieved pdb codes\n",
    "pdb_data = []\n",
    "for pdb_id in found_pdb_ids:\n",
    "    pdb_data.append(pypdb.describe_pdb(pdb_id))\n",
    "\n",
    "# now we store this data in a pandas dataframe\n",
    "pdbs = pd.DataFrame(pdb_data)\n",
    "pdbs.head()# this function outputs first 5 lines of a dataframe"
   ]
  },
  {
   "cell_type": "code",
   "execution_count": 34,
   "metadata": {},
   "outputs": [],
   "source": [
    "ligand_dict = pypdb.get_ligands(found_pdb_ids[0]) # This gives the information about the ligand of the first pdb_id"
   ]
  },
  {
   "cell_type": "code",
   "execution_count": 35,
   "metadata": {},
   "outputs": [
    {
     "data": {
      "text/plain": [
       "{'ligandInfo': {'ligand': {'@structureId': '1B0F',\n",
       "   '@chemicalID': 'SEI',\n",
       "   '@type': 'non-polymer',\n",
       "   '@molecularWeight': '632.619',\n",
       "   'chemicalName': '1-{3-METHYL-2-[4-(MORPHOLINE-4-CARBONYL)-BENZOYLAMINO]-BUTYRYL}-PYRROLIDINE-2-CARBOXYLIC ACID (3,3,4,4,4-PENTAFLUORO-1-ISOPROPYL-2-OXO-BUTYL)-AMIDE',\n",
       "   'formula': 'C29 H37 F5 N4 O6',\n",
       "   'InChIKey': 'XQAMVCHQGHAELT-FKBYEOEOSA-N',\n",
       "   'InChI': 'InChI=1S/C29H37F5N4O6/c1-16(2)21(23(39)28(30,31)29(32,33)34)35-25(41)20-6-5-11-38(20)27(43)22(17(3)4)36-24(40)18-7-9-19(10-8-18)26(42)37-12-14-44-15-13-37/h7-10,16-17,20-22H,5-6,11-15H2,1-4H3,(H,35,41)(H,36,40)/t20-,21-,22-/m0/s1',\n",
       "   'smiles': 'CC(C)[C@@H](C(=O)C(C(F)(F)F)(F)F)NC(=O)[C@@H]1CCCN1C(=O)[C@H](C(C)C)NC(=O)c2ccc(cc2)C(=O)N3CCOCC3'}},\n",
       " 'id': '1B0F'}"
      ]
     },
     "execution_count": 35,
     "metadata": {},
     "output_type": "execute_result"
    }
   ],
   "source": [
    "ligand_dict"
   ]
  },
  {
   "cell_type": "markdown",
   "metadata": {},
   "source": [
    "### Using Talktorial 8: \n",
    "\n",
    " https://github.com/volkamerlab/teachopencadd/blob/master/talktorials/8_PDB/T8_PDB.ipynb"
   ]
  },
  {
   "cell_type": "code",
   "execution_count": 36,
   "metadata": {},
   "outputs": [],
   "source": [
    "# first sort after resolution\n",
    "pdbs_resolution = [float(i) for i in pdbs.resolution.tolist()]\n",
    "pdbs = pdbs[[i <= 3.0 for i in pdbs_resolution]]  # keep only structures with resolution higher than 3 angström\n",
    "\n",
    "pdbs = pdbs.sort_values([\"resolution\"], \n",
    "                        ascending=True, \n",
    "                        na_position='last')"
   ]
  },
  {
   "cell_type": "code",
   "execution_count": 37,
   "metadata": {},
   "outputs": [
    {
     "data": {
      "text/html": [
       "<div>\n",
       "<style scoped>\n",
       "    .dataframe tbody tr th:only-of-type {\n",
       "        vertical-align: middle;\n",
       "    }\n",
       "\n",
       "    .dataframe tbody tr th {\n",
       "        vertical-align: top;\n",
       "    }\n",
       "\n",
       "    .dataframe thead th {\n",
       "        text-align: right;\n",
       "    }\n",
       "</style>\n",
       "<table border=\"1\" class=\"dataframe\">\n",
       "  <thead>\n",
       "    <tr style=\"text-align: right;\">\n",
       "      <th></th>\n",
       "      <th>structureId</th>\n",
       "      <th>resolution</th>\n",
       "    </tr>\n",
       "  </thead>\n",
       "  <tbody>\n",
       "    <tr>\n",
       "      <th>18</th>\n",
       "      <td>5ABW</td>\n",
       "      <td>1.60</td>\n",
       "    </tr>\n",
       "    <tr>\n",
       "      <th>10</th>\n",
       "      <td>4WVP</td>\n",
       "      <td>1.63</td>\n",
       "    </tr>\n",
       "    <tr>\n",
       "      <th>6</th>\n",
       "      <td>2Z7F</td>\n",
       "      <td>1.70</td>\n",
       "    </tr>\n",
       "    <tr>\n",
       "      <th>12</th>\n",
       "      <td>5A0A</td>\n",
       "      <td>1.78</td>\n",
       "    </tr>\n",
       "    <tr>\n",
       "      <th>3</th>\n",
       "      <td>1PPF</td>\n",
       "      <td>1.80</td>\n",
       "    </tr>\n",
       "  </tbody>\n",
       "</table>\n",
       "</div>"
      ],
      "text/plain": [
       "   structureId resolution\n",
       "18        5ABW       1.60\n",
       "10        4WVP       1.63\n",
       "6         2Z7F       1.70\n",
       "12        5A0A       1.78\n",
       "3         1PPF       1.80"
      ]
     },
     "execution_count": 37,
     "metadata": {},
     "output_type": "execute_result"
    }
   ],
   "source": [
    "pdbs.head()[[\"structureId\", \"resolution\"]]"
   ]
  },
  {
   "cell_type": "markdown",
   "metadata": {},
   "source": [
    "3. Ligand-bound structures\n",
    "\n",
    "Since we will create ensemble ligand-based pharmacophores in the next talktorial, we remove all PDB structures from our DataFrame, which do not contain a bound ligand: we use the pypdb function get_ligands to check/retrieve the ligand(s) from a PDB structure. PDB-annotated ligands can be ligands, cofactors, but also solvents and ions. In order to filter only ligand-bound structures, we (i) remove all structures without any annotated ligand and (ii) remove all structures that do not contain any ligands with a molecular weight (MW) greater than 100 Da (Dalton), since many solvents and ions weight less. Note: this is a simple, but not comprehensive exclusion of solvents and ions.\n"
   ]
  },
  {
   "cell_type": "code",
   "execution_count": 38,
   "metadata": {},
   "outputs": [
    {
     "data": {
      "text/plain": [
       "['5ABW',\n",
       " '4WVP',\n",
       " '2Z7F',\n",
       " '5A0A',\n",
       " '1PPF',\n",
       " '2RG3',\n",
       " '5A09',\n",
       " '1HNE',\n",
       " '4NZL',\n",
       " '3Q76',\n",
       " '5A8Y',\n",
       " '1H1B',\n",
       " '5A8Z',\n",
       " '3Q77',\n",
       " '5A0C',\n",
       " '5A0B',\n",
       " '5A8X',\n",
       " '1PPG',\n",
       " '6E69',\n",
       " '6SMA',\n",
       " '7CBK',\n",
       " '6F5M',\n",
       " '1B0F']"
      ]
     },
     "execution_count": 38,
     "metadata": {},
     "output_type": "execute_result"
    }
   ],
   "source": [
    "# Get all PDB IDs from DataFrame\n",
    "pdb_ids = pdbs[\"structureId\"].values.tolist()\n",
    "pdb_ids"
   ]
  },
  {
   "cell_type": "code",
   "execution_count": 39,
   "metadata": {},
   "outputs": [
    {
     "name": "stderr",
     "output_type": "stream",
     "text": [
      "Processing 1B0F...:  87%|████████▋ | 20/23 [00:05<00:00,  3.87it/s]"
     ]
    },
    {
     "name": "stdout",
     "output_type": "stream",
     "text": [
      "PDB structures without a ligand (removed from our data set): 2Z7F 1PPF 4NZL\n"
     ]
    },
    {
     "name": "stderr",
     "output_type": "stream",
     "text": [
      "\n"
     ]
    }
   ],
   "source": [
    "# Remove structures \n",
    "# (i) without ligand and \n",
    "# (ii) without any ligands with molecular weight (MW) greater than 100 Da (Dalton)\n",
    "\n",
    "mw_cutoff = 100.0  # Molecular weight cutoff in Da\n",
    "\n",
    "# This database query may take a moment\n",
    "removed_pdb_ids = []\n",
    "progressbar =  tqdm(pdb_ids, desc=\"Processing...\")\n",
    "for i in progressbar:\n",
    "    # Try 5 times to avoid connection errors\n",
    "    for retry in range(5):\n",
    "        progressbar.set_description(f\"Processing {i}...\")\n",
    "        try: \n",
    "            ligand_dict = pypdb.get_ligands(i)\n",
    "            break\n",
    "        except Exception as exc:\n",
    "            time.sleep(0.5)\n",
    "            continue\n",
    "    else:  # if we didn't break (no success), then raise exception\n",
    "        raise exc\n",
    "            \n",
    "    # (i) Remove structure if no ligand present\n",
    "    if ligand_dict[\"ligandInfo\"] is None:\n",
    "        pdb_ids.remove(i) # Remove ligand-free PDB IDs from list\n",
    "        removed_pdb_ids.append(i) # Store ligand-free PDB IDs\n",
    "\n",
    "    # (ii) Remove structure if not a single annotated ligand has a MW above mw_cutoff\n",
    "    else:\n",
    "        # Get ligand information\n",
    "        ligs = ligand_dict[\"ligandInfo\"][\"ligand\"]\n",
    "        # Technicality: if only one ligand, cast dict to list (for the subsequent list comprehension)\n",
    "        if type(ligs) == dict:\n",
    "            ligs = [ligs]\n",
    "        # Get MW per annotated ligand\n",
    "        mw_list = [float(i[\"@molecularWeight\"]) for i in ligs]\n",
    "        # Remove structure if not a single annotated ligand has a MW above mw_cutoff\n",
    "        if sum([mw > mw_cutoff for mw in mw_list]) == 0:\n",
    "            pdb_ids.remove(i) # Remove ligand-free PDB IDs from list\n",
    "            removed_pdb_ids.append(i) # Store ligand-free PDB IDs\n",
    "\n",
    "print(\"PDB structures without a ligand (removed from our data set):\", *removed_pdb_ids)"
   ]
  },
  {
   "cell_type": "code",
   "execution_count": 40,
   "metadata": {},
   "outputs": [
    {
     "name": "stdout",
     "output_type": "stream",
     "text": [
      "Number of structures with ligand: 20\n"
     ]
    }
   ],
   "source": [
    "print(f\"Number of structures with ligand: {len(pdb_ids)}\")"
   ]
  },
  {
   "cell_type": "markdown",
   "metadata": {},
   "source": [
    "\n",
    "#### Get meta information of ligands from top structures\n",
    "\n",
    "In the next talktorial, we will build ligand-based ensemble pharmacophores from the top top_num structures with the highest resolution.\n"
   ]
  },
  {
   "cell_type": "code",
   "execution_count": 41,
   "metadata": {},
   "outputs": [
    {
     "data": {
      "text/plain": [
       "['5ABW', '4WVP', '5A0A', '2RG3']"
      ]
     },
     "execution_count": 41,
     "metadata": {},
     "output_type": "execute_result"
    }
   ],
   "source": [
    "top_num = 4  # Number of top structures\n",
    "pdb_ids = pdb_ids[0:top_num]\n",
    "pdb_ids"
   ]
  },
  {
   "cell_type": "markdown",
   "metadata": {},
   "source": [
    "We fetch the PDB information about the top top_num ligands using get_ligands, to be stored as csv file (as dictionary per ligand).\n",
    "\n",
    "If a structure contains several ligands, we select the largest ligand. Note: this is a simple, but not comprehensive method to select ligand binding the binding site of a protein. This approach may also select a cofactor bound to the protein. Therefore, please check the automatically selected top ligands visually before further usage.\n"
   ]
  },
  {
   "cell_type": "code",
   "execution_count": 42,
   "metadata": {},
   "outputs": [
    {
     "data": {
      "text/html": [
       "<div>\n",
       "<style scoped>\n",
       "    .dataframe tbody tr th:only-of-type {\n",
       "        vertical-align: middle;\n",
       "    }\n",
       "\n",
       "    .dataframe tbody tr th {\n",
       "        vertical-align: top;\n",
       "    }\n",
       "\n",
       "    .dataframe thead th {\n",
       "        text-align: right;\n",
       "    }\n",
       "</style>\n",
       "<table border=\"1\" class=\"dataframe\">\n",
       "  <thead>\n",
       "    <tr style=\"text-align: right;\">\n",
       "      <th></th>\n",
       "      <th>@structureId</th>\n",
       "      <th>@chemicalID</th>\n",
       "      <th>@type</th>\n",
       "      <th>@molecularWeight</th>\n",
       "      <th>chemicalName</th>\n",
       "      <th>formula</th>\n",
       "      <th>InChIKey</th>\n",
       "      <th>InChI</th>\n",
       "      <th>smiles</th>\n",
       "    </tr>\n",
       "  </thead>\n",
       "  <tbody>\n",
       "    <tr>\n",
       "      <th>0</th>\n",
       "      <td>5ABW</td>\n",
       "      <td>WQQ</td>\n",
       "      <td>non-polymer</td>\n",
       "      <td>526.004</td>\n",
       "      <td>1-(3-CHLOROPHENYL)-5-(3,5-DIMETHYLISOXAZOL-4-Y...</td>\n",
       "      <td>C26 H24 Cl N3 O5 S</td>\n",
       "      <td>QYWSDDYRNPGJNA-UHFFFAOYSA-N</td>\n",
       "      <td>InChI=1S/C26H24ClN3O5S/c1-15-24(17(3)35-29-15)...</td>\n",
       "      <td>Cc1c(c(on1)C)C2=C(N(C(=O)C(=C2)C(=O)NCc3ccc(cc...</td>\n",
       "    </tr>\n",
       "    <tr>\n",
       "      <th>1</th>\n",
       "      <td>4WVP</td>\n",
       "      <td>3V3</td>\n",
       "      <td>non-polymer</td>\n",
       "      <td>265.303</td>\n",
       "      <td>1-amino-3,6,9,12-tetraoxapentadecan-15-oic acid</td>\n",
       "      <td>C11 H23 N O6</td>\n",
       "      <td>DKUZHSDZSMQOGQ-UHFFFAOYSA-N</td>\n",
       "      <td>InChI=1S/C11H23NO6/c12-2-4-16-6-8-18-10-9-17-7...</td>\n",
       "      <td>C(COCCOCCOCCOCCN)C(=O)O</td>\n",
       "    </tr>\n",
       "    <tr>\n",
       "      <th>2</th>\n",
       "      <td>5A0A</td>\n",
       "      <td>JJS</td>\n",
       "      <td>non-polymer</td>\n",
       "      <td>400.354</td>\n",
       "      <td>5-[(6R)-5-ethanoyl-4-methyl-2-oxidanylidene-3-...</td>\n",
       "      <td>C20 H15 F3 N4 O2</td>\n",
       "      <td>PGIVGIFOWOVINL-GOSISDBHSA-N</td>\n",
       "      <td>InChI=1S/C20H15F3N4O2/c1-11-17(12(2)28)18(13-6...</td>\n",
       "      <td>CC1=C([C@H](NC(=O)N1c2cccc(c2)C(F)(F)F)c3ccc(n...</td>\n",
       "    </tr>\n",
       "    <tr>\n",
       "      <th>3</th>\n",
       "      <td>2RG3</td>\n",
       "      <td>BG1</td>\n",
       "      <td>L-peptide linking</td>\n",
       "      <td>311.355</td>\n",
       "      <td>O-[(2S)-2-{methyl[(methylamino)sulfonyl]amino}...</td>\n",
       "      <td>C10 H21 N3 O6 S</td>\n",
       "      <td>ORANEODMBGJMSF-YUMQZZPRSA-N</td>\n",
       "      <td>InChI=1S/C10H21N3O6S/c1-4-5-8(13(3)20(17,18)12...</td>\n",
       "      <td>CCC[C@@H](C(=O)OC[C@@H](C(=O)O)N)[N@](C)S(=O)(...</td>\n",
       "    </tr>\n",
       "  </tbody>\n",
       "</table>\n",
       "</div>"
      ],
      "text/plain": [
       "  @structureId @chemicalID              @type @molecularWeight  \\\n",
       "0         5ABW         WQQ        non-polymer          526.004   \n",
       "1         4WVP         3V3        non-polymer          265.303   \n",
       "2         5A0A         JJS        non-polymer          400.354   \n",
       "3         2RG3         BG1  L-peptide linking          311.355   \n",
       "\n",
       "                                        chemicalName             formula  \\\n",
       "0  1-(3-CHLOROPHENYL)-5-(3,5-DIMETHYLISOXAZOL-4-Y...  C26 H24 Cl N3 O5 S   \n",
       "1    1-amino-3,6,9,12-tetraoxapentadecan-15-oic acid        C11 H23 N O6   \n",
       "2  5-[(6R)-5-ethanoyl-4-methyl-2-oxidanylidene-3-...    C20 H15 F3 N4 O2   \n",
       "3  O-[(2S)-2-{methyl[(methylamino)sulfonyl]amino}...     C10 H21 N3 O6 S   \n",
       "\n",
       "                      InChIKey  \\\n",
       "0  QYWSDDYRNPGJNA-UHFFFAOYSA-N   \n",
       "1  DKUZHSDZSMQOGQ-UHFFFAOYSA-N   \n",
       "2  PGIVGIFOWOVINL-GOSISDBHSA-N   \n",
       "3  ORANEODMBGJMSF-YUMQZZPRSA-N   \n",
       "\n",
       "                                               InChI  \\\n",
       "0  InChI=1S/C26H24ClN3O5S/c1-15-24(17(3)35-29-15)...   \n",
       "1  InChI=1S/C11H23NO6/c12-2-4-16-6-8-18-10-9-17-7...   \n",
       "2  InChI=1S/C20H15F3N4O2/c1-11-17(12(2)28)18(13-6...   \n",
       "3  InChI=1S/C10H21N3O6S/c1-4-5-8(13(3)20(17,18)12...   \n",
       "\n",
       "                                              smiles  \n",
       "0  Cc1c(c(on1)C)C2=C(N(C(=O)C(=C2)C(=O)NCc3ccc(cc...  \n",
       "1                            C(COCCOCCOCCOCCN)C(=O)O  \n",
       "2  CC1=C([C@H](NC(=O)N1c2cccc(c2)C(F)(F)F)c3ccc(n...  \n",
       "3  CCC[C@@H](C(=O)OC[C@@H](C(=O)O)N)[N@](C)S(=O)(...  "
      ]
     },
     "execution_count": 42,
     "metadata": {},
     "output_type": "execute_result"
    }
   ],
   "source": [
    "ligands_list = []\n",
    "\n",
    "for i in pdb_ids:\n",
    "    # Try 5 times to avoid connection errors\n",
    "    for retry in range(5):\n",
    "        progressbar.set_description(f\"Processing {i}...\")\n",
    "        try: \n",
    "            ligands = pypdb.get_ligands(i)[\"ligandInfo\"][\"ligand\"]\n",
    "            break\n",
    "        except Exception as exc:\n",
    "            time.sleep(0.5)\n",
    "            continue\n",
    "    else:  # if we didn't break (no success), then raise exception\n",
    "        raise exc\n",
    "    \n",
    "    # Technicality: if only one ligand, cast dict to list (for the subsequent list comprehension)\n",
    "    if isinstance(ligands, dict):\n",
    "        ligands = [ligands]\n",
    "\n",
    "    weight = 0\n",
    "    this_lig = {}\n",
    "    \n",
    "    # If several ligands contained, take largest\n",
    "    for lig in ligands:\n",
    "        if float(lig[\"@molecularWeight\"]) > weight:\n",
    "            this_lig = lig\n",
    "            weight = float(lig[\"@molecularWeight\"])\n",
    "            \n",
    "    ligands_list.append(this_lig)\n",
    "\n",
    "# Change the format to DataFrame\n",
    "ligs = pd.DataFrame(ligands_list)\n",
    "ligs"
   ]
  },
  {
   "cell_type": "code",
   "execution_count": 43,
   "metadata": {},
   "outputs": [],
   "source": [
    "#import os\n",
    "#os.chdir('/home/113600/structural_bioinformatics')\n",
    "#os.getcwd()"
   ]
  },
  {
   "cell_type": "code",
   "execution_count": 44,
   "metadata": {},
   "outputs": [],
   "source": [
    "ligs.to_csv(\"data/PDB_top_ligands.csv\", header=True, index=False, sep=\"\\t\") "
   ]
  },
  {
   "cell_type": "markdown",
   "metadata": {},
   "source": [
    "#### Draw top ligand molecules"
   ]
  },
  {
   "cell_type": "code",
   "execution_count": 45,
   "metadata": {},
   "outputs": [
    {
     "data": {
      "image/svg+xml": [
       "<svg xmlns=\"http://www.w3.org/2000/svg\" xmlns:rdkit=\"http://www.rdkit.org/xml\" xmlns:xlink=\"http://www.w3.org/1999/xlink\" version=\"1.1\" baseProfile=\"full\" xml:space=\"preserve\" width=\"800px\" height=\"200px\" viewBox=\"0 0 800 200\">\n",
       "<!-- END OF HEADER -->\n",
       "<rect style=\"opacity:1.0;fill:#FFFFFF;stroke:none\" width=\"800\" height=\"200\" x=\"0\" y=\"0\"> </rect>\n",
       "<rect style=\"opacity:1.0;fill:#FFFFFF;stroke:none\" width=\"800\" height=\"200\" x=\"0\" y=\"0\"> </rect>\n",
       "<rect style=\"opacity:1.0;fill:#FFFFFF;stroke:none\" width=\"800\" height=\"200\" x=\"0\" y=\"0\"> </rect>\n",
       "<rect style=\"opacity:1.0;fill:#FFFFFF;stroke:none\" width=\"800\" height=\"200\" x=\"0\" y=\"0\"> </rect>\n",
       "<rect style=\"opacity:1.0;fill:#FFFFFF;stroke:none\" width=\"800\" height=\"200\" x=\"0\" y=\"0\"> </rect>\n",
       "<path class=\"bond-0\" d=\"M 51.6234,79.298 L 52.9918,67.1195\" style=\"fill:none;fill-rule:evenodd;stroke:#000000;stroke-width:2.0px;stroke-linecap:butt;stroke-linejoin:miter;stroke-opacity:1\"/>\n",
       "<path class=\"bond-1\" d=\"M 52.9918,67.1195 L 63.6488,61.0682\" style=\"fill:none;fill-rule:evenodd;stroke:#000000;stroke-width:2.0px;stroke-linecap:butt;stroke-linejoin:miter;stroke-opacity:1\"/>\n",
       "<path class=\"bond-35\" d=\"M 52.9918,67.1195 L 49.4264,63.8625\" style=\"fill:none;fill-rule:evenodd;stroke:#000000;stroke-width:2.0px;stroke-linecap:butt;stroke-linejoin:miter;stroke-opacity:1\"/>\n",
       "<path class=\"bond-35\" d=\"M 49.4264,63.8625 L 45.8609,60.6055\" style=\"fill:none;fill-rule:evenodd;stroke:#0000FF;stroke-width:2.0px;stroke-linecap:butt;stroke-linejoin:miter;stroke-opacity:1\"/>\n",
       "<path class=\"bond-35\" d=\"M 53.5753,64.3327 L 51.0795,62.0529\" style=\"fill:none;fill-rule:evenodd;stroke:#000000;stroke-width:2.0px;stroke-linecap:butt;stroke-linejoin:miter;stroke-opacity:1\"/>\n",
       "<path class=\"bond-35\" d=\"M 51.0795,62.0529 L 48.5836,59.773\" style=\"fill:none;fill-rule:evenodd;stroke:#0000FF;stroke-width:2.0px;stroke-linecap:butt;stroke-linejoin:miter;stroke-opacity:1\"/>\n",
       "<path class=\"bond-2\" d=\"M 63.6488,61.0682 L 61.1869,49.0629\" style=\"fill:none;fill-rule:evenodd;stroke:#000000;stroke-width:2.0px;stroke-linecap:butt;stroke-linejoin:miter;stroke-opacity:1\"/>\n",
       "<path class=\"bond-2\" d=\"M 60.8785,59.7598 L 59.1551,51.3561\" style=\"fill:none;fill-rule:evenodd;stroke:#000000;stroke-width:2.0px;stroke-linecap:butt;stroke-linejoin:miter;stroke-opacity:1\"/>\n",
       "<path class=\"bond-6\" d=\"M 63.6488,61.0682 L 74.8084,66.133\" style=\"fill:none;fill-rule:evenodd;stroke:#000000;stroke-width:2.0px;stroke-linecap:butt;stroke-linejoin:miter;stroke-opacity:1\"/>\n",
       "<path class=\"bond-3\" d=\"M 61.1869,49.0629 L 56.2258,48.5054\" style=\"fill:none;fill-rule:evenodd;stroke:#000000;stroke-width:2.0px;stroke-linecap:butt;stroke-linejoin:miter;stroke-opacity:1\"/>\n",
       "<path class=\"bond-3\" d=\"M 56.2258,48.5054 L 51.2647,47.948\" style=\"fill:none;fill-rule:evenodd;stroke:#FF0000;stroke-width:2.0px;stroke-linecap:butt;stroke-linejoin:miter;stroke-opacity:1\"/>\n",
       "<path class=\"bond-5\" d=\"M 61.1869,49.0629 L 69.4523,40.0146\" style=\"fill:none;fill-rule:evenodd;stroke:#000000;stroke-width:2.0px;stroke-linecap:butt;stroke-linejoin:miter;stroke-opacity:1\"/>\n",
       "<path class=\"bond-4\" d=\"M 47.8645,50.2148 L 46.4398,53.3539\" style=\"fill:none;fill-rule:evenodd;stroke:#FF0000;stroke-width:2.0px;stroke-linecap:butt;stroke-linejoin:miter;stroke-opacity:1\"/>\n",
       "<path class=\"bond-4\" d=\"M 46.4398,53.3539 L 45.0152,56.4929\" style=\"fill:none;fill-rule:evenodd;stroke:#0000FF;stroke-width:2.0px;stroke-linecap:butt;stroke-linejoin:miter;stroke-opacity:1\"/>\n",
       "<path class=\"bond-7\" d=\"M 74.8084,66.133 L 76.002,78.3299\" style=\"fill:none;fill-rule:evenodd;stroke:#000000;stroke-width:2.0px;stroke-linecap:butt;stroke-linejoin:miter;stroke-opacity:1\"/>\n",
       "<path class=\"bond-7\" d=\"M 77.4268,67.7238 L 78.2623,76.2617\" style=\"fill:none;fill-rule:evenodd;stroke:#000000;stroke-width:2.0px;stroke-linecap:butt;stroke-linejoin:miter;stroke-opacity:1\"/>\n",
       "<path class=\"bond-36\" d=\"M 74.8084,66.133 L 84.7745,59.0009\" style=\"fill:none;fill-rule:evenodd;stroke:#000000;stroke-width:2.0px;stroke-linecap:butt;stroke-linejoin:miter;stroke-opacity:1\"/>\n",
       "<path class=\"bond-8\" d=\"M 76.002,78.3299 L 80.6231,80.4272\" style=\"fill:none;fill-rule:evenodd;stroke:#000000;stroke-width:2.0px;stroke-linecap:butt;stroke-linejoin:miter;stroke-opacity:1\"/>\n",
       "<path class=\"bond-8\" d=\"M 80.6231,80.4272 L 85.2442,82.5245\" style=\"fill:none;fill-rule:evenodd;stroke:#0000FF;stroke-width:2.0px;stroke-linecap:butt;stroke-linejoin:miter;stroke-opacity:1\"/>\n",
       "<path class=\"bond-34\" d=\"M 76.002,78.3299 L 66.0359,85.462\" style=\"fill:none;fill-rule:evenodd;stroke:#000000;stroke-width:2.0px;stroke-linecap:butt;stroke-linejoin:miter;stroke-opacity:1\"/>\n",
       "<path class=\"bond-9\" d=\"M 89.079,82.0226 L 93.1033,79.1426\" style=\"fill:none;fill-rule:evenodd;stroke:#0000FF;stroke-width:2.0px;stroke-linecap:butt;stroke-linejoin:miter;stroke-opacity:1\"/>\n",
       "<path class=\"bond-9\" d=\"M 93.1033,79.1426 L 97.1276,76.2626\" style=\"fill:none;fill-rule:evenodd;stroke:#000000;stroke-width:2.0px;stroke-linecap:butt;stroke-linejoin:miter;stroke-opacity:1\"/>\n",
       "<path class=\"bond-27\" d=\"M 87.3994,85.8251 L 87.8773,90.7084\" style=\"fill:none;fill-rule:evenodd;stroke:#0000FF;stroke-width:2.0px;stroke-linecap:butt;stroke-linejoin:miter;stroke-opacity:1\"/>\n",
       "<path class=\"bond-27\" d=\"M 87.8773,90.7084 L 88.3551,95.5916\" style=\"fill:none;fill-rule:evenodd;stroke:#000000;stroke-width:2.0px;stroke-linecap:butt;stroke-linejoin:miter;stroke-opacity:1\"/>\n",
       "<path class=\"bond-10\" d=\"M 96.6212,77.3786 L 101.073,79.399\" style=\"fill:none;fill-rule:evenodd;stroke:#000000;stroke-width:2.0px;stroke-linecap:butt;stroke-linejoin:miter;stroke-opacity:1\"/>\n",
       "<path class=\"bond-10\" d=\"M 101.073,79.399 L 105.524,81.4193\" style=\"fill:none;fill-rule:evenodd;stroke:#FF0000;stroke-width:2.0px;stroke-linecap:butt;stroke-linejoin:miter;stroke-opacity:1\"/>\n",
       "<path class=\"bond-10\" d=\"M 97.6341,75.1467 L 102.086,77.167\" style=\"fill:none;fill-rule:evenodd;stroke:#000000;stroke-width:2.0px;stroke-linecap:butt;stroke-linejoin:miter;stroke-opacity:1\"/>\n",
       "<path class=\"bond-10\" d=\"M 102.086,77.167 L 106.537,79.1874\" style=\"fill:none;fill-rule:evenodd;stroke:#FF0000;stroke-width:2.0px;stroke-linecap:butt;stroke-linejoin:miter;stroke-opacity:1\"/>\n",
       "<path class=\"bond-11\" d=\"M 97.1276,76.2626 L 95.9341,64.0657\" style=\"fill:none;fill-rule:evenodd;stroke:#000000;stroke-width:2.0px;stroke-linecap:butt;stroke-linejoin:miter;stroke-opacity:1\"/>\n",
       "<path class=\"bond-12\" d=\"M 95.9341,64.0657 L 84.7745,59.0009\" style=\"fill:none;fill-rule:evenodd;stroke:#000000;stroke-width:2.0px;stroke-linecap:butt;stroke-linejoin:miter;stroke-opacity:1\"/>\n",
       "<path class=\"bond-12\" d=\"M 93.2472,65.5379 L 85.4355,61.9925\" style=\"fill:none;fill-rule:evenodd;stroke:#000000;stroke-width:2.0px;stroke-linecap:butt;stroke-linejoin:miter;stroke-opacity:1\"/>\n",
       "<path class=\"bond-13\" d=\"M 95.9341,64.0657 L 105.9,56.9336\" style=\"fill:none;fill-rule:evenodd;stroke:#000000;stroke-width:2.0px;stroke-linecap:butt;stroke-linejoin:miter;stroke-opacity:1\"/>\n",
       "<path class=\"bond-14\" d=\"M 107.12,56.8143 L 106.646,51.976\" style=\"fill:none;fill-rule:evenodd;stroke:#000000;stroke-width:2.0px;stroke-linecap:butt;stroke-linejoin:miter;stroke-opacity:1\"/>\n",
       "<path class=\"bond-14\" d=\"M 106.646,51.976 L 106.173,47.1377\" style=\"fill:none;fill-rule:evenodd;stroke:#FF0000;stroke-width:2.0px;stroke-linecap:butt;stroke-linejoin:miter;stroke-opacity:1\"/>\n",
       "<path class=\"bond-14\" d=\"M 104.68,57.053 L 104.207,52.2147\" style=\"fill:none;fill-rule:evenodd;stroke:#000000;stroke-width:2.0px;stroke-linecap:butt;stroke-linejoin:miter;stroke-opacity:1\"/>\n",
       "<path class=\"bond-14\" d=\"M 104.207,52.2147 L 103.734,47.3764\" style=\"fill:none;fill-rule:evenodd;stroke:#FF0000;stroke-width:2.0px;stroke-linecap:butt;stroke-linejoin:miter;stroke-opacity:1\"/>\n",
       "<path class=\"bond-15\" d=\"M 105.9,56.9336 L 110.521,59.0309\" style=\"fill:none;fill-rule:evenodd;stroke:#000000;stroke-width:2.0px;stroke-linecap:butt;stroke-linejoin:miter;stroke-opacity:1\"/>\n",
       "<path class=\"bond-15\" d=\"M 110.521,59.0309 L 115.142,61.1282\" style=\"fill:none;fill-rule:evenodd;stroke:#0000FF;stroke-width:2.0px;stroke-linecap:butt;stroke-linejoin:miter;stroke-opacity:1\"/>\n",
       "<path class=\"bond-16\" d=\"M 118.977,60.6263 L 123.001,57.7463\" style=\"fill:none;fill-rule:evenodd;stroke:#0000FF;stroke-width:2.0px;stroke-linecap:butt;stroke-linejoin:miter;stroke-opacity:1\"/>\n",
       "<path class=\"bond-16\" d=\"M 123.001,57.7463 L 127.026,54.8663\" style=\"fill:none;fill-rule:evenodd;stroke:#000000;stroke-width:2.0px;stroke-linecap:butt;stroke-linejoin:miter;stroke-opacity:1\"/>\n",
       "<path class=\"bond-17\" d=\"M 127.026,54.8663 L 138.185,59.9311\" style=\"fill:none;fill-rule:evenodd;stroke:#000000;stroke-width:2.0px;stroke-linecap:butt;stroke-linejoin:miter;stroke-opacity:1\"/>\n",
       "<path class=\"bond-18\" d=\"M 138.185,59.9311 L 139.379,72.128\" style=\"fill:none;fill-rule:evenodd;stroke:#000000;stroke-width:2.0px;stroke-linecap:butt;stroke-linejoin:miter;stroke-opacity:1\"/>\n",
       "<path class=\"bond-18\" d=\"M 140.804,61.522 L 141.639,70.0598\" style=\"fill:none;fill-rule:evenodd;stroke:#000000;stroke-width:2.0px;stroke-linecap:butt;stroke-linejoin:miter;stroke-opacity:1\"/>\n",
       "<path class=\"bond-37\" d=\"M 138.185,59.9311 L 148.151,52.799\" style=\"fill:none;fill-rule:evenodd;stroke:#000000;stroke-width:2.0px;stroke-linecap:butt;stroke-linejoin:miter;stroke-opacity:1\"/>\n",
       "<path class=\"bond-19\" d=\"M 139.379,72.128 L 150.539,77.1928\" style=\"fill:none;fill-rule:evenodd;stroke:#000000;stroke-width:2.0px;stroke-linecap:butt;stroke-linejoin:miter;stroke-opacity:1\"/>\n",
       "<path class=\"bond-20\" d=\"M 150.539,77.1928 L 160.505,70.0607\" style=\"fill:none;fill-rule:evenodd;stroke:#000000;stroke-width:2.0px;stroke-linecap:butt;stroke-linejoin:miter;stroke-opacity:1\"/>\n",
       "<path class=\"bond-20\" d=\"M 150.607,74.1298 L 157.583,69.1373\" style=\"fill:none;fill-rule:evenodd;stroke:#000000;stroke-width:2.0px;stroke-linecap:butt;stroke-linejoin:miter;stroke-opacity:1\"/>\n",
       "<path class=\"bond-21\" d=\"M 160.505,70.0607 L 159.311,57.8638\" style=\"fill:none;fill-rule:evenodd;stroke:#000000;stroke-width:2.0px;stroke-linecap:butt;stroke-linejoin:miter;stroke-opacity:1\"/>\n",
       "<path class=\"bond-23\" d=\"M 160.505,70.0607 L 165.25,72.2145\" style=\"fill:none;fill-rule:evenodd;stroke:#000000;stroke-width:2.0px;stroke-linecap:butt;stroke-linejoin:miter;stroke-opacity:1\"/>\n",
       "<path class=\"bond-23\" d=\"M 165.25,72.2145 L 169.996,74.3684\" style=\"fill:none;fill-rule:evenodd;stroke:#CCCC00;stroke-width:2.0px;stroke-linecap:butt;stroke-linejoin:miter;stroke-opacity:1\"/>\n",
       "<path class=\"bond-22\" d=\"M 159.311,57.8638 L 148.151,52.799\" style=\"fill:none;fill-rule:evenodd;stroke:#000000;stroke-width:2.0px;stroke-linecap:butt;stroke-linejoin:miter;stroke-opacity:1\"/>\n",
       "<path class=\"bond-22\" d=\"M 156.624,59.336 L 148.812,55.7907\" style=\"fill:none;fill-rule:evenodd;stroke:#000000;stroke-width:2.0px;stroke-linecap:butt;stroke-linejoin:miter;stroke-opacity:1\"/>\n",
       "<path class=\"bond-24\" d=\"M 173.88,73.2077 L 175.306,70.0669\" style=\"fill:none;fill-rule:evenodd;stroke:#CCCC00;stroke-width:2.0px;stroke-linecap:butt;stroke-linejoin:miter;stroke-opacity:1\"/>\n",
       "<path class=\"bond-24\" d=\"M 175.306,70.0669 L 176.731,66.9262\" style=\"fill:none;fill-rule:evenodd;stroke:#FF0000;stroke-width:2.0px;stroke-linecap:butt;stroke-linejoin:miter;stroke-opacity:1\"/>\n",
       "<path class=\"bond-24\" d=\"M 171.649,72.1947 L 173.074,69.054\" style=\"fill:none;fill-rule:evenodd;stroke:#CCCC00;stroke-width:2.0px;stroke-linecap:butt;stroke-linejoin:miter;stroke-opacity:1\"/>\n",
       "<path class=\"bond-24\" d=\"M 173.074,69.054 L 174.499,65.9133\" style=\"fill:none;fill-rule:evenodd;stroke:#FF0000;stroke-width:2.0px;stroke-linecap:butt;stroke-linejoin:miter;stroke-opacity:1\"/>\n",
       "<path class=\"bond-25\" d=\"M 169.396,77.1574 L 167.981,80.2757\" style=\"fill:none;fill-rule:evenodd;stroke:#CCCC00;stroke-width:2.0px;stroke-linecap:butt;stroke-linejoin:miter;stroke-opacity:1\"/>\n",
       "<path class=\"bond-25\" d=\"M 167.981,80.2757 L 166.566,83.394\" style=\"fill:none;fill-rule:evenodd;stroke:#FF0000;stroke-width:2.0px;stroke-linecap:butt;stroke-linejoin:miter;stroke-opacity:1\"/>\n",
       "<path class=\"bond-25\" d=\"M 171.628,78.1704 L 170.213,81.2887\" style=\"fill:none;fill-rule:evenodd;stroke:#CCCC00;stroke-width:2.0px;stroke-linecap:butt;stroke-linejoin:miter;stroke-opacity:1\"/>\n",
       "<path class=\"bond-25\" d=\"M 170.213,81.2887 L 168.798,84.4069\" style=\"fill:none;fill-rule:evenodd;stroke:#FF0000;stroke-width:2.0px;stroke-linecap:butt;stroke-linejoin:miter;stroke-opacity:1\"/>\n",
       "<path class=\"bond-26\" d=\"M 173.333,75.8827 L 178.078,78.0366\" style=\"fill:none;fill-rule:evenodd;stroke:#CCCC00;stroke-width:2.0px;stroke-linecap:butt;stroke-linejoin:miter;stroke-opacity:1\"/>\n",
       "<path class=\"bond-26\" d=\"M 178.078,78.0366 L 182.824,80.1904\" style=\"fill:none;fill-rule:evenodd;stroke:#000000;stroke-width:2.0px;stroke-linecap:butt;stroke-linejoin:miter;stroke-opacity:1\"/>\n",
       "<path class=\"bond-28\" d=\"M 88.3551,95.5916 L 78.3891,102.724\" style=\"fill:none;fill-rule:evenodd;stroke:#000000;stroke-width:2.0px;stroke-linecap:butt;stroke-linejoin:miter;stroke-opacity:1\"/>\n",
       "<path class=\"bond-28\" d=\"M 88.2866,98.6547 L 81.3104,103.647\" style=\"fill:none;fill-rule:evenodd;stroke:#000000;stroke-width:2.0px;stroke-linecap:butt;stroke-linejoin:miter;stroke-opacity:1\"/>\n",
       "<path class=\"bond-38\" d=\"M 88.3551,95.5916 L 99.5147,100.656\" style=\"fill:none;fill-rule:evenodd;stroke:#000000;stroke-width:2.0px;stroke-linecap:butt;stroke-linejoin:miter;stroke-opacity:1\"/>\n",
       "<path class=\"bond-29\" d=\"M 78.3891,102.724 L 79.5826,114.921\" style=\"fill:none;fill-rule:evenodd;stroke:#000000;stroke-width:2.0px;stroke-linecap:butt;stroke-linejoin:miter;stroke-opacity:1\"/>\n",
       "<path class=\"bond-30\" d=\"M 79.5826,114.921 L 90.7422,119.985\" style=\"fill:none;fill-rule:evenodd;stroke:#000000;stroke-width:2.0px;stroke-linecap:butt;stroke-linejoin:miter;stroke-opacity:1\"/>\n",
       "<path class=\"bond-30\" d=\"M 82.2695,113.448 L 90.0813,116.994\" style=\"fill:none;fill-rule:evenodd;stroke:#000000;stroke-width:2.0px;stroke-linecap:butt;stroke-linejoin:miter;stroke-opacity:1\"/>\n",
       "<path class=\"bond-31\" d=\"M 90.7422,119.985 L 100.708,112.853\" style=\"fill:none;fill-rule:evenodd;stroke:#000000;stroke-width:2.0px;stroke-linecap:butt;stroke-linejoin:miter;stroke-opacity:1\"/>\n",
       "<path class=\"bond-32\" d=\"M 100.708,112.853 L 99.5147,100.656\" style=\"fill:none;fill-rule:evenodd;stroke:#000000;stroke-width:2.0px;stroke-linecap:butt;stroke-linejoin:miter;stroke-opacity:1\"/>\n",
       "<path class=\"bond-32\" d=\"M 98.0899,111.263 L 97.2544,102.725\" style=\"fill:none;fill-rule:evenodd;stroke:#000000;stroke-width:2.0px;stroke-linecap:butt;stroke-linejoin:miter;stroke-opacity:1\"/>\n",
       "<path class=\"bond-33\" d=\"M 100.708,112.853 L 105.316,114.945\" style=\"fill:none;fill-rule:evenodd;stroke:#000000;stroke-width:2.0px;stroke-linecap:butt;stroke-linejoin:miter;stroke-opacity:1\"/>\n",
       "<path class=\"bond-33\" d=\"M 105.316,114.945 L 109.924,117.036\" style=\"fill:none;fill-rule:evenodd;stroke:#00CC00;stroke-width:2.0px;stroke-linecap:butt;stroke-linejoin:miter;stroke-opacity:1\"/>\n",
       "<path class=\"atom-4\" d=\"M 47.0583 47.7065 Q 47.0583 46.6865, 47.5623 46.1165 Q 48.0663 45.5465, 49.0083 45.5465 Q 49.9503 45.5465, 50.4543 46.1165 Q 50.9583 46.6865, 50.9583 47.7065 Q 50.9583 48.7385, 50.4483 49.3265 Q 49.9383 49.9085, 49.0083 49.9085 Q 48.0723 49.9085, 47.5623 49.3265 Q 47.0583 48.7445, 47.0583 47.7065 M 49.0083 49.4285 Q 49.6563 49.4285, 50.0043 48.9965 Q 50.3583 48.5585, 50.3583 47.7065 Q 50.3583 46.8725, 50.0043 46.4525 Q 49.6563 46.0265, 49.0083 46.0265 Q 48.3603 46.0265, 48.0063 46.4465 Q 47.6583 46.8665, 47.6583 47.7065 Q 47.6583 48.5645, 48.0063 48.9965 Q 48.3603 49.4285, 49.0083 49.4285 \" fill=\"#FF0000\"/>\n",
       "<path class=\"atom-5\" d=\"M 43.0045 56.7301 L 44.3965 58.9801 Q 44.5345 59.2021, 44.7565 59.6041 Q 44.9785 60.0061, 44.9905 60.0301 L 44.9905 56.7301 L 45.5545 56.7301 L 45.5545 60.9781 L 44.9725 60.9781 L 43.4785 58.5181 Q 43.3045 58.2301, 43.1185 57.9001 Q 42.9385 57.5701, 42.8845 57.4681 L 42.8845 60.9781 L 42.3325 60.9781 L 42.3325 56.7301 L 43.0045 56.7301 \" fill=\"#0000FF\"/>\n",
       "<path class=\"atom-9\" d=\"M 86.2226 81.2707 L 87.6146 83.5207 Q 87.7526 83.7427, 87.9746 84.1447 Q 88.1966 84.5467, 88.2086 84.5707 L 88.2086 81.2707 L 88.7726 81.2707 L 88.7726 85.5187 L 88.1906 85.5187 L 86.6966 83.0587 Q 86.5226 82.7707, 86.3366 82.4407 Q 86.1566 82.1107, 86.1026 82.0087 L 86.1026 85.5187 L 85.5506 85.5187 L 85.5506 81.2707 L 86.2226 81.2707 \" fill=\"#0000FF\"/>\n",
       "<path class=\"atom-11\" d=\"M 106.337 81.3394 Q 106.337 80.3194, 106.841 79.7494 Q 107.345 79.1794, 108.287 79.1794 Q 109.229 79.1794, 109.733 79.7494 Q 110.237 80.3194, 110.237 81.3394 Q 110.237 82.3714, 109.727 82.9594 Q 109.217 83.5414, 108.287 83.5414 Q 107.351 83.5414, 106.841 82.9594 Q 106.337 82.3774, 106.337 81.3394 M 108.287 83.0614 Q 108.935 83.0614, 109.283 82.6294 Q 109.637 82.1914, 109.637 81.3394 Q 109.637 80.5054, 109.283 80.0854 Q 108.935 79.6594, 108.287 79.6594 Q 107.639 79.6594, 107.285 80.0794 Q 106.937 80.4994, 106.937 81.3394 Q 106.937 82.1974, 107.285 82.6294 Q 107.639 83.0614, 108.287 83.0614 \" fill=\"#FF0000\"/>\n",
       "<path class=\"atom-15\" d=\"M 102.757 44.7487 Q 102.757 43.7287, 103.261 43.1587 Q 103.765 42.5887, 104.707 42.5887 Q 105.649 42.5887, 106.153 43.1587 Q 106.657 43.7287, 106.657 44.7487 Q 106.657 45.7807, 106.147 46.3687 Q 105.637 46.9507, 104.707 46.9507 Q 103.771 46.9507, 103.261 46.3687 Q 102.757 45.7867, 102.757 44.7487 M 104.707 46.4707 Q 105.355 46.4707, 105.703 46.0387 Q 106.057 45.6007, 106.057 44.7487 Q 106.057 43.9147, 105.703 43.4947 Q 105.355 43.0687, 104.707 43.0687 Q 104.059 43.0687, 103.705 43.4887 Q 103.357 43.9087, 103.357 44.7487 Q 103.357 45.6067, 103.705 46.0387 Q 104.059 46.4707, 104.707 46.4707 \" fill=\"#FF0000\"/>\n",
       "<path class=\"atom-16\" d=\"M 116.121 59.8744 L 117.513 62.1244 Q 117.651 62.3464, 117.873 62.7484 Q 118.095 63.1504, 118.107 63.1744 L 118.107 59.8744 L 118.671 59.8744 L 118.671 64.1224 L 118.089 64.1224 L 116.595 61.6624 Q 116.421 61.3744, 116.235 61.0444 Q 116.055 60.7144, 116.001 60.6124 L 116.001 64.1224 L 115.449 64.1224 L 115.449 59.8744 L 116.121 59.8744 \" fill=\"#0000FF\"/>\n",
       "<path class=\"atom-16\" d=\"M 115.398 64.5472 L 115.974 64.5472 L 115.974 66.3532 L 118.146 66.3532 L 118.146 64.5472 L 118.722 64.5472 L 118.722 68.7952 L 118.146 68.7952 L 118.146 66.8332 L 115.974 66.8332 L 115.974 68.7952 L 115.398 68.7952 L 115.398 64.5472 \" fill=\"#0000FF\"/>\n",
       "<path class=\"atom-24\" d=\"M 170.464 76.5835 Q 170.512 76.6015, 170.71 76.6855 Q 170.908 76.7695, 171.124 76.8235 Q 171.346 76.8715, 171.562 76.8715 Q 171.964 76.8715, 172.198 76.6795 Q 172.432 76.4815, 172.432 76.1395 Q 172.432 75.9055, 172.312 75.7615 Q 172.198 75.6175, 172.018 75.5395 Q 171.838 75.4615, 171.538 75.3715 Q 171.16 75.2575, 170.932 75.1495 Q 170.71 75.0415, 170.548 74.8135 Q 170.392 74.5855, 170.392 74.2015 Q 170.392 73.6675, 170.752 73.3375 Q 171.118 73.0075, 171.838 73.0075 Q 172.33 73.0075, 172.888 73.2415 L 172.75 73.7035 Q 172.24 73.4935, 171.856 73.4935 Q 171.442 73.4935, 171.214 73.6675 Q 170.986 73.8355, 170.992 74.1295 Q 170.992 74.3575, 171.106 74.4955 Q 171.226 74.6335, 171.394 74.7115 Q 171.568 74.7895, 171.856 74.8795 Q 172.24 74.9995, 172.468 75.1195 Q 172.696 75.2395, 172.858 75.4855 Q 173.026 75.7255, 173.026 76.1395 Q 173.026 76.7275, 172.63 77.0455 Q 172.24 77.3575, 171.586 77.3575 Q 171.208 77.3575, 170.92 77.2735 Q 170.638 77.1955, 170.302 77.0575 L 170.464 76.5835 \" fill=\"#CCCC00\"/>\n",
       "<path class=\"atom-25\" d=\"M 174.779 63.9779 Q 174.779 62.9579, 175.283 62.3879 Q 175.787 61.8179, 176.729 61.8179 Q 177.671 61.8179, 178.175 62.3879 Q 178.679 62.9579, 178.679 63.9779 Q 178.679 65.0099, 178.169 65.5979 Q 177.659 66.1799, 176.729 66.1799 Q 175.793 66.1799, 175.283 65.5979 Q 174.779 65.0159, 174.779 63.9779 M 176.729 65.6999 Q 177.377 65.6999, 177.725 65.2679 Q 178.079 64.8299, 178.079 63.9779 Q 178.079 63.1439, 177.725 62.7239 Q 177.377 62.2979, 176.729 62.2979 Q 176.081 62.2979, 175.727 62.7179 Q 175.379 63.1379, 175.379 63.9779 Q 175.379 64.8359, 175.727 65.2679 Q 176.081 65.6999, 176.729 65.6999 \" fill=\"#FF0000\"/>\n",
       "<path class=\"atom-26\" d=\"M 164.649 86.2972 Q 164.649 85.2772, 165.153 84.7072 Q 165.657 84.1372, 166.599 84.1372 Q 167.541 84.1372, 168.045 84.7072 Q 168.549 85.2772, 168.549 86.2972 Q 168.549 87.3292, 168.039 87.9172 Q 167.529 88.4992, 166.599 88.4992 Q 165.663 88.4992, 165.153 87.9172 Q 164.649 87.3352, 164.649 86.2972 M 166.599 88.0192 Q 167.247 88.0192, 167.595 87.5872 Q 167.949 87.1492, 167.949 86.2972 Q 167.949 85.4632, 167.595 85.0432 Q 167.247 84.6172, 166.599 84.6172 Q 165.951 84.6172, 165.597 85.0372 Q 165.249 85.4572, 165.249 86.2972 Q 165.249 87.1552, 165.597 87.5872 Q 165.951 88.0192, 166.599 88.0192 \" fill=\"#FF0000\"/>\n",
       "<path class=\"atom-34\" d=\"M 110.23 118.065 Q 110.23 117.009, 110.722 116.457 Q 111.22 115.899, 112.162 115.899 Q 113.038 115.899, 113.506 116.517 L 113.11 116.841 Q 112.768 116.391, 112.162 116.391 Q 111.52 116.391, 111.178 116.823 Q 110.842 117.249, 110.842 118.065 Q 110.842 118.905, 111.19 119.337 Q 111.544 119.769, 112.228 119.769 Q 112.696 119.769, 113.242 119.487 L 113.41 119.937 Q 113.188 120.081, 112.852 120.165 Q 112.516 120.249, 112.144 120.249 Q 111.22 120.249, 110.722 119.685 Q 110.23 119.121, 110.23 118.065 \" fill=\"#00CC00\"/>\n",
       "<path class=\"atom-34\" d=\"M 114.022 115.641 L 114.574 115.641 L 114.574 120.195 L 114.022 120.195 L 114.022 115.641 \" fill=\"#00CC00\"/>\n",
       "<path d=\"M 65.1733 179.536 L 66.7093 179.536 L 63.6853 190.848 L 61.3653 190.848 L 58.9013 181.408 L 56.4213 190.848 L 54.1013 190.848 L 51.0773 179.536 L 52.6293 179.536 L 55.2853 189.44 L 57.8933 179.536 L 59.8933 179.536 L 62.5013 189.472 L 65.1733 179.536 \" fill=\"#000000\"/>\n",
       "<path d=\"M 75.3173 192.88 Q 75.8773 192.88, 76.4853 192.672 L 76.9333 193.984 Q 76.0373 194.272, 75.2213 194.272 Q 73.8133 194.272, 72.8853 193.424 Q 71.9573 192.576, 71.7973 190.96 Q 69.7173 190.688, 68.6133 189.168 Q 67.5093 187.648, 67.5093 185.152 Q 67.5093 182.432, 68.8533 180.912 Q 70.1973 179.392, 72.7093 179.392 Q 75.2213 179.392, 76.5653 180.912 Q 77.9093 182.432, 77.9093 185.152 Q 77.9093 187.808, 76.6453 189.36 Q 75.3973 190.896, 73.0933 191.008 Q 73.2533 191.888, 73.8453 192.384 Q 74.4533 192.88, 75.3173 192.88 M 69.1093 185.152 Q 69.1093 187.44, 70.0373 188.592 Q 70.9813 189.744, 72.7093 189.744 Q 74.4373 189.744, 75.3653 188.592 Q 76.3093 187.424, 76.3093 185.152 Q 76.3093 182.928, 75.3653 181.808 Q 74.4373 180.672, 72.7093 180.672 Q 70.9813 180.672, 70.0373 181.792 Q 69.1093 182.912, 69.1093 185.152 \" fill=\"#000000\"/>\n",
       "<path d=\"M 86.5173 192.88 Q 87.0773 192.88, 87.6853 192.672 L 88.1333 193.984 Q 87.2373 194.272, 86.4213 194.272 Q 85.0133 194.272, 84.0853 193.424 Q 83.1573 192.576, 82.9973 190.96 Q 80.9173 190.688, 79.8133 189.168 Q 78.7093 187.648, 78.7093 185.152 Q 78.7093 182.432, 80.0533 180.912 Q 81.3973 179.392, 83.9093 179.392 Q 86.4213 179.392, 87.7653 180.912 Q 89.1093 182.432, 89.1093 185.152 Q 89.1093 187.808, 87.8453 189.36 Q 86.5973 190.896, 84.2933 191.008 Q 84.4533 191.888, 85.0453 192.384 Q 85.6533 192.88, 86.5173 192.88 M 80.3093 185.152 Q 80.3093 187.44, 81.2373 188.592 Q 82.1813 189.744, 83.9093 189.744 Q 85.6373 189.744, 86.5653 188.592 Q 87.5093 187.424, 87.5093 185.152 Q 87.5093 182.928, 86.5653 181.808 Q 85.6373 180.672, 83.9093 180.672 Q 82.1813 180.672, 81.2373 181.792 Q 80.3093 182.912, 80.3093 185.152 \" fill=\"#000000\"/>\n",
       "<path d=\"M 90.1493 189.248 L 91.7493 189.248 L 91.7493 190.528 L 91.4453 192.736 L 90.8693 192.736 L 90.8693 190.848 L 90.1493 190.848 L 90.1493 189.248 \" fill=\"#000000\"/>\n",
       "<path d=\"\" fill=\"#000000\"/>\n",
       "<path d=\"M 100.597 183.76 Q 101.589 183.76, 102.405 184.192 Q 103.221 184.608, 103.685 185.408 Q 104.149 186.192, 104.149 187.264 Q 104.149 188.432, 103.573 189.28 Q 103.013 190.112, 102.085 190.544 Q 101.157 190.976, 100.101 190.976 Q 99.0613 190.976, 98.1013 190.592 Q 97.1413 190.208, 96.4853 189.472 L 97.4453 188.48 Q 97.9733 189.056, 98.6933 189.376 Q 99.4133 189.68, 100.149 189.68 Q 101.157 189.68, 101.845 189.056 Q 102.549 188.432, 102.549 187.296 Q 102.549 186.096, 101.845 185.536 Q 101.157 184.96, 100.053 184.96 Q 99.0613 184.96, 97.9573 185.392 L 97.0773 184.976 L 97.6213 179.52 L 103.445 179.52 L 103.285 180.8 L 98.9333 180.8 L 98.5973 184.16 Q 99.6053 183.76, 100.597 183.76 \" fill=\"#000000\"/>\n",
       "<path d=\"M 112.693 190.848 L 111.509 187.52 L 107.013 187.52 L 105.877 190.848 L 104.341 190.848 L 108.245 179.52 L 110.133 179.52 L 114.181 190.848 L 112.693 190.848 M 107.461 186.24 L 111.045 186.24 L 109.221 181.104 L 107.461 186.24 \" fill=\"#000000\"/>\n",
       "<path d=\"M 121.045 184.896 Q 122.133 185.2, 122.677 185.872 Q 123.237 186.528, 123.237 187.504 Q 123.237 189.072, 122.229 189.968 Q 121.237 190.848, 119.349 190.848 L 115.541 190.848 L 115.541 179.52 L 118.885 179.52 Q 120.821 179.52, 121.797 180.304 Q 122.773 181.088, 122.773 182.528 Q 122.773 184.24, 121.045 184.896 M 117.061 180.8 L 117.061 184.352 L 118.885 184.352 Q 120.005 184.352, 120.581 183.904 Q 121.173 183.44, 121.173 182.528 Q 121.173 180.8, 118.885 180.8 L 117.061 180.8 M 119.349 189.568 Q 120.453 189.568, 121.045 189.04 Q 121.637 188.512, 121.637 187.504 Q 121.637 186.576, 120.981 186.112 Q 120.341 185.632, 119.109 185.632 L 117.061 185.632 L 117.061 189.568 L 119.349 189.568 \" fill=\"#000000\"/>\n",
       "<path d=\"M 137.781 179.536 L 139.317 179.536 L 136.293 190.848 L 133.973 190.848 L 131.509 181.408 L 129.029 190.848 L 126.709 190.848 L 123.685 179.536 L 125.237 179.536 L 127.893 189.44 L 130.501 179.536 L 132.501 179.536 L 135.109 189.472 L 137.781 179.536 \" fill=\"#000000\"/>\n",
       "<path class=\"bond-0\" d=\"M 364.451,69.31 L 353.971,75.6633\" style=\"fill:none;fill-rule:evenodd;stroke:#000000;stroke-width:2.0px;stroke-linecap:butt;stroke-linejoin:miter;stroke-opacity:1\"/>\n",
       "<path class=\"bond-14\" d=\"M 364.451,69.31 L 375.193,75.2091\" style=\"fill:none;fill-rule:evenodd;stroke:#000000;stroke-width:2.0px;stroke-linecap:butt;stroke-linejoin:miter;stroke-opacity:1\"/>\n",
       "<path class=\"bond-1\" d=\"M 353.971,75.6633 L 349.728,73.3334\" style=\"fill:none;fill-rule:evenodd;stroke:#000000;stroke-width:2.0px;stroke-linecap:butt;stroke-linejoin:miter;stroke-opacity:1\"/>\n",
       "<path class=\"bond-1\" d=\"M 349.728,73.3334 L 345.486,71.0034\" style=\"fill:none;fill-rule:evenodd;stroke:#FF0000;stroke-width:2.0px;stroke-linecap:butt;stroke-linejoin:miter;stroke-opacity:1\"/>\n",
       "<path class=\"bond-2\" d=\"M 340.973,71.1322 L 336.861,73.6249\" style=\"fill:none;fill-rule:evenodd;stroke:#FF0000;stroke-width:2.0px;stroke-linecap:butt;stroke-linejoin:miter;stroke-opacity:1\"/>\n",
       "<path class=\"bond-2\" d=\"M 336.861,73.6249 L 332.749,76.1176\" style=\"fill:none;fill-rule:evenodd;stroke:#000000;stroke-width:2.0px;stroke-linecap:butt;stroke-linejoin:miter;stroke-opacity:1\"/>\n",
       "<path class=\"bond-3\" d=\"M 332.749,76.1176 L 322.008,70.2185\" style=\"fill:none;fill-rule:evenodd;stroke:#000000;stroke-width:2.0px;stroke-linecap:butt;stroke-linejoin:miter;stroke-opacity:1\"/>\n",
       "<path class=\"bond-4\" d=\"M 322.008,70.2185 L 317.896,72.7112\" style=\"fill:none;fill-rule:evenodd;stroke:#000000;stroke-width:2.0px;stroke-linecap:butt;stroke-linejoin:miter;stroke-opacity:1\"/>\n",
       "<path class=\"bond-4\" d=\"M 317.896,72.7112 L 313.784,75.2039\" style=\"fill:none;fill-rule:evenodd;stroke:#FF0000;stroke-width:2.0px;stroke-linecap:butt;stroke-linejoin:miter;stroke-opacity:1\"/>\n",
       "<path class=\"bond-5\" d=\"M 309.271,75.3327 L 305.029,73.0027\" style=\"fill:none;fill-rule:evenodd;stroke:#FF0000;stroke-width:2.0px;stroke-linecap:butt;stroke-linejoin:miter;stroke-opacity:1\"/>\n",
       "<path class=\"bond-5\" d=\"M 305.029,73.0027 L 300.786,70.6727\" style=\"fill:none;fill-rule:evenodd;stroke:#000000;stroke-width:2.0px;stroke-linecap:butt;stroke-linejoin:miter;stroke-opacity:1\"/>\n",
       "<path class=\"bond-6\" d=\"M 300.786,70.6727 L 290.306,77.026\" style=\"fill:none;fill-rule:evenodd;stroke:#000000;stroke-width:2.0px;stroke-linecap:butt;stroke-linejoin:miter;stroke-opacity:1\"/>\n",
       "<path class=\"bond-7\" d=\"M 290.306,77.026 L 286.063,74.6961\" style=\"fill:none;fill-rule:evenodd;stroke:#000000;stroke-width:2.0px;stroke-linecap:butt;stroke-linejoin:miter;stroke-opacity:1\"/>\n",
       "<path class=\"bond-7\" d=\"M 286.063,74.6961 L 281.82,72.3661\" style=\"fill:none;fill-rule:evenodd;stroke:#FF0000;stroke-width:2.0px;stroke-linecap:butt;stroke-linejoin:miter;stroke-opacity:1\"/>\n",
       "<path class=\"bond-8\" d=\"M 277.308,72.4949 L 273.196,74.9876\" style=\"fill:none;fill-rule:evenodd;stroke:#FF0000;stroke-width:2.0px;stroke-linecap:butt;stroke-linejoin:miter;stroke-opacity:1\"/>\n",
       "<path class=\"bond-8\" d=\"M 273.196,74.9876 L 269.084,77.4803\" style=\"fill:none;fill-rule:evenodd;stroke:#000000;stroke-width:2.0px;stroke-linecap:butt;stroke-linejoin:miter;stroke-opacity:1\"/>\n",
       "<path class=\"bond-9\" d=\"M 269.084,77.4803 L 258.342,71.5812\" style=\"fill:none;fill-rule:evenodd;stroke:#000000;stroke-width:2.0px;stroke-linecap:butt;stroke-linejoin:miter;stroke-opacity:1\"/>\n",
       "<path class=\"bond-10\" d=\"M 258.342,71.5812 L 254.231,74.0739\" style=\"fill:none;fill-rule:evenodd;stroke:#000000;stroke-width:2.0px;stroke-linecap:butt;stroke-linejoin:miter;stroke-opacity:1\"/>\n",
       "<path class=\"bond-10\" d=\"M 254.231,74.0739 L 250.119,76.5666\" style=\"fill:none;fill-rule:evenodd;stroke:#FF0000;stroke-width:2.0px;stroke-linecap:butt;stroke-linejoin:miter;stroke-opacity:1\"/>\n",
       "<path class=\"bond-11\" d=\"M 245.606,76.6954 L 241.363,74.3654\" style=\"fill:none;fill-rule:evenodd;stroke:#FF0000;stroke-width:2.0px;stroke-linecap:butt;stroke-linejoin:miter;stroke-opacity:1\"/>\n",
       "<path class=\"bond-11\" d=\"M 241.363,74.3654 L 237.121,72.0354\" style=\"fill:none;fill-rule:evenodd;stroke:#000000;stroke-width:2.0px;stroke-linecap:butt;stroke-linejoin:miter;stroke-opacity:1\"/>\n",
       "<path class=\"bond-12\" d=\"M 237.121,72.0354 L 226.641,78.3887\" style=\"fill:none;fill-rule:evenodd;stroke:#000000;stroke-width:2.0px;stroke-linecap:butt;stroke-linejoin:miter;stroke-opacity:1\"/>\n",
       "<path class=\"bond-13\" d=\"M 226.641,78.3887 L 222.229,75.9657\" style=\"fill:none;fill-rule:evenodd;stroke:#000000;stroke-width:2.0px;stroke-linecap:butt;stroke-linejoin:miter;stroke-opacity:1\"/>\n",
       "<path class=\"bond-13\" d=\"M 222.229,75.9657 L 217.816,73.5426\" style=\"fill:none;fill-rule:evenodd;stroke:#0000FF;stroke-width:2.0px;stroke-linecap:butt;stroke-linejoin:miter;stroke-opacity:1\"/>\n",
       "<path class=\"bond-15\" d=\"M 373.968,75.2353 L 374.073,80.1343\" style=\"fill:none;fill-rule:evenodd;stroke:#000000;stroke-width:2.0px;stroke-linecap:butt;stroke-linejoin:miter;stroke-opacity:1\"/>\n",
       "<path class=\"bond-15\" d=\"M 374.073,80.1343 L 374.177,85.0333\" style=\"fill:none;fill-rule:evenodd;stroke:#FF0000;stroke-width:2.0px;stroke-linecap:butt;stroke-linejoin:miter;stroke-opacity:1\"/>\n",
       "<path class=\"bond-15\" d=\"M 376.418,75.1829 L 376.523,80.0819\" style=\"fill:none;fill-rule:evenodd;stroke:#000000;stroke-width:2.0px;stroke-linecap:butt;stroke-linejoin:miter;stroke-opacity:1\"/>\n",
       "<path class=\"bond-15\" d=\"M 376.523,80.0819 L 376.628,84.9809\" style=\"fill:none;fill-rule:evenodd;stroke:#FF0000;stroke-width:2.0px;stroke-linecap:butt;stroke-linejoin:miter;stroke-opacity:1\"/>\n",
       "<path class=\"bond-16\" d=\"M 375.193,75.2091 L 379.305,72.7164\" style=\"fill:none;fill-rule:evenodd;stroke:#000000;stroke-width:2.0px;stroke-linecap:butt;stroke-linejoin:miter;stroke-opacity:1\"/>\n",
       "<path class=\"bond-16\" d=\"M 379.305,72.7164 L 383.416,70.2237\" style=\"fill:none;fill-rule:evenodd;stroke:#FF0000;stroke-width:2.0px;stroke-linecap:butt;stroke-linejoin:miter;stroke-opacity:1\"/>\n",
       "<path class=\"atom-2\" d=\"M 341.279 69.7763 Q 341.279 68.7563, 341.783 68.1863 Q 342.287 67.6163, 343.229 67.6163 Q 344.171 67.6163, 344.675 68.1863 Q 345.179 68.7563, 345.179 69.7763 Q 345.179 70.8083, 344.669 71.3963 Q 344.159 71.9783, 343.229 71.9783 Q 342.293 71.9783, 341.783 71.3963 Q 341.279 70.8143, 341.279 69.7763 M 343.229 71.4983 Q 343.877 71.4983, 344.225 71.0663 Q 344.579 70.6283, 344.579 69.7763 Q 344.579 68.9423, 344.225 68.5223 Q 343.877 68.0963, 343.229 68.0963 Q 342.581 68.0963, 342.227 68.5163 Q 341.879 68.9363, 341.879 69.7763 Q 341.879 70.6343, 342.227 71.0663 Q 342.581 71.4983, 343.229 71.4983 \" fill=\"#FF0000\"/>\n",
       "<path class=\"atom-5\" d=\"M 309.578 76.5838 Q 309.578 75.5638, 310.082 74.9938 Q 310.586 74.4238, 311.528 74.4238 Q 312.47 74.4238, 312.974 74.9938 Q 313.478 75.5638, 313.478 76.5838 Q 313.478 77.6158, 312.968 78.2038 Q 312.458 78.7858, 311.528 78.7858 Q 310.592 78.7858, 310.082 78.2038 Q 309.578 77.6218, 309.578 76.5838 M 311.528 78.3058 Q 312.176 78.3058, 312.524 77.8738 Q 312.878 77.4358, 312.878 76.5838 Q 312.878 75.7498, 312.524 75.3298 Q 312.176 74.9038, 311.528 74.9038 Q 310.88 74.9038, 310.526 75.3238 Q 310.178 75.7438, 310.178 76.5838 Q 310.178 77.4418, 310.526 77.8738 Q 310.88 78.3058, 311.528 78.3058 \" fill=\"#FF0000\"/>\n",
       "<path class=\"atom-8\" d=\"M 277.614 71.139 Q 277.614 70.119, 278.118 69.549 Q 278.622 68.979, 279.564 68.979 Q 280.506 68.979, 281.01 69.549 Q 281.514 70.119, 281.514 71.139 Q 281.514 72.171, 281.004 72.759 Q 280.494 73.341, 279.564 73.341 Q 278.628 73.341, 278.118 72.759 Q 277.614 72.177, 277.614 71.139 M 279.564 72.861 Q 280.212 72.861, 280.56 72.429 Q 280.914 71.991, 280.914 71.139 Q 280.914 70.305, 280.56 69.885 Q 280.212 69.459, 279.564 69.459 Q 278.916 69.459, 278.562 69.879 Q 278.214 70.299, 278.214 71.139 Q 278.214 71.997, 278.562 72.429 Q 278.916 72.861, 279.564 72.861 \" fill=\"#FF0000\"/>\n",
       "<path class=\"atom-11\" d=\"M 245.913 77.9465 Q 245.913 76.9265, 246.417 76.3565 Q 246.921 75.7865, 247.863 75.7865 Q 248.805 75.7865, 249.309 76.3565 Q 249.813 76.9265, 249.813 77.9465 Q 249.813 78.9785, 249.303 79.5665 Q 248.793 80.1485, 247.863 80.1485 Q 246.927 80.1485, 246.417 79.5665 Q 245.913 78.9845, 245.913 77.9465 M 247.863 79.6685 Q 248.511 79.6685, 248.859 79.2365 Q 249.213 78.7985, 249.213 77.9465 Q 249.213 77.1125, 248.859 76.6925 Q 248.511 76.2665, 247.863 76.2665 Q 247.215 76.2665, 246.861 76.6865 Q 246.513 77.1065, 246.513 77.9465 Q 246.513 78.8045, 246.861 79.2365 Q 247.215 79.6685, 247.863 79.6685 \" fill=\"#FF0000\"/>\n",
       "<path class=\"atom-14\" d=\"M 208.379 70.3657 L 208.955 70.3657 L 208.955 72.1717 L 211.127 72.1717 L 211.127 70.3657 L 211.703 70.3657 L 211.703 74.6137 L 211.127 74.6137 L 211.127 72.6517 L 208.955 72.6517 L 208.955 74.6137 L 208.379 74.6137 L 208.379 70.3657 \" fill=\"#0000FF\"/>\n",
       "<path class=\"atom-14\" d=\"M 211.909 74.4646 Q 212.012 74.1993, 212.257 74.0528 Q 212.503 73.9023, 212.844 73.9023 Q 213.267 73.9023, 213.505 74.132 Q 213.742 74.3617, 213.742 74.7696 Q 213.742 75.1854, 213.434 75.5734 Q 213.129 75.9615, 212.495 76.4209 L 213.79 76.4209 L 213.79 76.7377 L 211.901 76.7377 L 211.901 76.4724 Q 212.424 76.1001, 212.733 75.8229 Q 213.045 75.5457, 213.196 75.2962 Q 213.346 75.0468, 213.346 74.7894 Q 213.346 74.5201, 213.212 74.3696 Q 213.077 74.2191, 212.844 74.2191 Q 212.618 74.2191, 212.467 74.3102 Q 212.317 74.4013, 212.21 74.6032 L 211.909 74.4646 \" fill=\"#0000FF\"/>\n",
       "<path class=\"atom-14\" d=\"M 214.96 70.3657 L 216.352 72.6157 Q 216.49 72.8377, 216.712 73.2397 Q 216.934 73.6417, 216.946 73.6657 L 216.946 70.3657 L 217.51 70.3657 L 217.51 74.6137 L 216.928 74.6137 L 215.434 72.1537 Q 215.26 71.8657, 215.074 71.5357 Q 214.894 71.2057, 214.84 71.1037 L 214.84 74.6137 L 214.288 74.6137 L 214.288 70.3657 L 214.96 70.3657 \" fill=\"#0000FF\"/>\n",
       "<path class=\"atom-16\" d=\"M 373.505 87.4735 Q 373.505 86.4535, 374.009 85.8835 Q 374.513 85.3135, 375.455 85.3135 Q 376.397 85.3135, 376.901 85.8835 Q 377.405 86.4535, 377.405 87.4735 Q 377.405 88.5055, 376.895 89.0935 Q 376.385 89.6755, 375.455 89.6755 Q 374.519 89.6755, 374.009 89.0935 Q 373.505 88.5115, 373.505 87.4735 M 375.455 89.1955 Q 376.103 89.1955, 376.451 88.7635 Q 376.805 88.3255, 376.805 87.4735 Q 376.805 86.6395, 376.451 86.2195 Q 376.103 85.7935, 375.455 85.7935 Q 374.807 85.7935, 374.453 86.2135 Q 374.105 86.6335, 374.105 87.4735 Q 374.105 88.3315, 374.453 88.7635 Q 374.807 89.1955, 375.455 89.1955 \" fill=\"#FF0000\"/>\n",
       "<path class=\"atom-17\" d=\"M 383.723 68.8678 Q 383.723 67.8478, 384.227 67.2778 Q 384.731 66.7078, 385.673 66.7078 Q 386.615 66.7078, 387.119 67.2778 Q 387.623 67.8478, 387.623 68.8678 Q 387.623 69.8998, 387.113 70.4878 Q 386.603 71.0698, 385.673 71.0698 Q 384.737 71.0698, 384.227 70.4878 Q 383.723 69.9058, 383.723 68.8678 M 385.673 70.5898 Q 386.321 70.5898, 386.669 70.1578 Q 387.023 69.7198, 387.023 68.8678 Q 387.023 68.0338, 386.669 67.6138 Q 386.321 67.1878, 385.673 67.1878 Q 385.025 67.1878, 384.671 67.6078 Q 384.323 68.0278, 384.323 68.8678 Q 384.323 69.7258, 384.671 70.1578 Q 385.025 70.5898, 385.673 70.5898 \" fill=\"#FF0000\"/>\n",
       "<path class=\"atom-17\" d=\"M 388.133 66.7558 L 388.709 66.7558 L 388.709 68.5618 L 390.881 68.5618 L 390.881 66.7558 L 391.457 66.7558 L 391.457 71.0038 L 390.881 71.0038 L 390.881 69.0418 L 388.709 69.0418 L 388.709 71.0038 L 388.133 71.0038 L 388.133 66.7558 \" fill=\"#FF0000\"/>\n",
       "<path d=\"M 263.823 186.416 Q 264.927 186.736, 265.455 187.456 Q 265.999 188.16, 265.999 189.28 Q 265.999 190.24, 265.519 190.992 Q 265.039 191.728, 264.159 192.144 Q 263.279 192.544, 262.127 192.544 Q 260.911 192.544, 259.999 192.128 Q 259.103 191.696, 258.383 190.832 L 259.295 189.904 Q 259.999 190.672, 260.591 190.976 Q 261.183 191.264, 262.127 191.264 Q 263.151 191.264, 263.775 190.72 Q 264.399 190.16, 264.399 189.264 Q 264.399 188.112, 263.743 187.6 Q 263.103 187.072, 261.711 187.072 L 260.895 187.072 L 260.895 185.92 L 261.615 185.92 Q 262.847 185.904, 263.503 185.376 Q 264.159 184.832, 264.159 183.824 Q 264.159 183.088, 263.615 182.656 Q 263.071 182.208, 262.143 182.208 Q 261.199 182.208, 260.607 182.544 Q 260.031 182.88, 259.583 183.728 L 258.479 183.136 Q 258.879 182.192, 259.839 181.568 Q 260.799 180.928, 262.143 180.928 Q 263.807 180.928, 264.783 181.712 Q 265.759 182.496, 265.759 183.824 Q 265.759 184.736, 265.263 185.392 Q 264.767 186.048, 263.823 186.416 \" fill=\"#000000\"/>\n",
       "<path d=\"M 274.287 181.056 L 275.775 181.056 L 271.919 192.384 L 270.031 192.384 L 266.319 181.056 L 267.855 181.056 L 271.007 190.72 L 274.287 181.056 \" fill=\"#000000\"/>\n",
       "<path d=\"M 281.887 186.416 Q 282.991 186.736, 283.519 187.456 Q 284.063 188.16, 284.063 189.28 Q 284.063 190.24, 283.583 190.992 Q 283.103 191.728, 282.223 192.144 Q 281.343 192.544, 280.191 192.544 Q 278.975 192.544, 278.063 192.128 Q 277.167 191.696, 276.447 190.832 L 277.359 189.904 Q 278.063 190.672, 278.655 190.976 Q 279.247 191.264, 280.191 191.264 Q 281.215 191.264, 281.839 190.72 Q 282.463 190.16, 282.463 189.264 Q 282.463 188.112, 281.807 187.6 Q 281.167 187.072, 279.775 187.072 L 278.959 187.072 L 278.959 185.92 L 279.679 185.92 Q 280.911 185.904, 281.567 185.376 Q 282.223 184.832, 282.223 183.824 Q 282.223 183.088, 281.679 182.656 Q 281.135 182.208, 280.207 182.208 Q 279.263 182.208, 278.671 182.544 Q 278.095 182.88, 277.647 183.728 L 276.543 183.136 Q 276.943 182.192, 277.903 181.568 Q 278.863 180.928, 280.207 180.928 Q 281.871 180.928, 282.847 181.712 Q 283.823 182.496, 283.823 183.824 Q 283.823 184.736, 283.327 185.392 Q 282.831 186.048, 281.887 186.416 \" fill=\"#000000\"/>\n",
       "<path d=\"M 285.103 190.784 L 286.703 190.784 L 286.703 192.064 L 286.399 194.272 L 285.823 194.272 L 285.823 192.384 L 285.103 192.384 L 285.103 190.784 \" fill=\"#000000\"/>\n",
       "<path d=\"\" fill=\"#000000\"/>\n",
       "<path d=\"M 298.543 188.496 L 299.903 188.496 L 299.903 189.776 L 298.543 189.776 L 298.543 192.384 L 297.039 192.384 L 297.039 189.776 L 291.183 189.776 L 291.183 188.768 L 296.143 181.056 L 298.543 181.056 L 298.543 188.496 M 293.039 188.496 L 297.039 188.496 L 297.039 182.08 L 293.039 188.496 \" fill=\"#000000\"/>\n",
       "<path d=\"M 314.447 181.072 L 315.983 181.072 L 312.959 192.384 L 310.639 192.384 L 308.175 182.944 L 305.695 192.384 L 303.375 192.384 L 300.351 181.072 L 301.903 181.072 L 304.559 190.976 L 307.167 181.072 L 309.167 181.072 L 311.775 191.008 L 314.447 181.072 \" fill=\"#000000\"/>\n",
       "<path d=\"M 324.271 181.056 L 325.759 181.056 L 321.903 192.384 L 320.015 192.384 L 316.303 181.056 L 317.839 181.056 L 320.991 190.72 L 324.271 181.056 \" fill=\"#000000\"/>\n",
       "<path d=\"M 330.463 181.056 Q 332.399 181.056, 333.375 181.936 Q 334.351 182.8, 334.351 184.384 Q 334.351 185.952, 333.343 186.848 Q 332.351 187.728, 330.463 187.728 L 328.655 187.728 L 328.655 192.384 L 327.119 192.384 L 327.119 181.056 L 330.463 181.056 M 330.463 186.448 Q 331.567 186.448, 332.159 185.92 Q 332.751 185.392, 332.751 184.384 Q 332.751 183.376, 332.159 182.864 Q 331.583 182.336, 330.463 182.336 L 328.655 182.336 L 328.655 186.448 L 330.463 186.448 \" fill=\"#000000\"/>\n",
       "<path class=\"bond-0\" d=\"M 511.628,97.7751 L 507.415,86.267\" style=\"fill:none;fill-rule:evenodd;stroke:#000000;stroke-width:2.0px;stroke-linecap:butt;stroke-linejoin:miter;stroke-opacity:1\"/>\n",
       "<path class=\"bond-1\" d=\"M 507.415,86.267 L 495.342,84.1618\" style=\"fill:none;fill-rule:evenodd;stroke:#000000;stroke-width:2.0px;stroke-linecap:butt;stroke-linejoin:miter;stroke-opacity:1\"/>\n",
       "<path class=\"bond-1\" d=\"M 506.025,83.5366 L 497.574,82.063\" style=\"fill:none;fill-rule:evenodd;stroke:#000000;stroke-width:2.0px;stroke-linecap:butt;stroke-linejoin:miter;stroke-opacity:1\"/>\n",
       "<path class=\"bond-28\" d=\"M 507.415,86.267 L 510.386,82.7125\" style=\"fill:none;fill-rule:evenodd;stroke:#000000;stroke-width:2.0px;stroke-linecap:butt;stroke-linejoin:miter;stroke-opacity:1\"/>\n",
       "<path class=\"bond-28\" d=\"M 510.386,82.7125 L 513.357,79.158\" style=\"fill:none;fill-rule:evenodd;stroke:#0000FF;stroke-width:2.0px;stroke-linecap:butt;stroke-linejoin:miter;stroke-opacity:1\"/>\n",
       "<path class=\"bond-2\" d=\"M 495.342,84.1618 L 491.128,72.6537\" style=\"fill:none;fill-rule:evenodd;stroke:#000000;stroke-width:2.0px;stroke-linecap:butt;stroke-linejoin:miter;stroke-opacity:1\"/>\n",
       "<path class=\"bond-25\" d=\"M 495.342,84.1618 L 487.482,93.5647\" style=\"fill:none;fill-rule:evenodd;stroke:#000000;stroke-width:2.0px;stroke-linecap:butt;stroke-linejoin:miter;stroke-opacity:1\"/>\n",
       "<path class=\"bond-3\" d=\"M 491.128,72.6537 L 494.042,69.1674\" style=\"fill:none;fill-rule:evenodd;stroke:#000000;stroke-width:2.0px;stroke-linecap:butt;stroke-linejoin:miter;stroke-opacity:1\"/>\n",
       "<path class=\"bond-3\" d=\"M 494.042,69.1674 L 496.957,65.6811\" style=\"fill:none;fill-rule:evenodd;stroke:#0000FF;stroke-width:2.0px;stroke-linecap:butt;stroke-linejoin:miter;stroke-opacity:1\"/>\n",
       "<path class=\"bond-17\" d=\"M 491.128,72.6537 L 479.266,69.3411 L 478.845,71.7557 Z\" style=\"fill:#000000;fill-rule:evenodd;fill-opacity:1;stroke:#000000;stroke-width:2px;stroke-linecap:butt;stroke-linejoin:miter;stroke-opacity:1;\"/>\n",
       "<path class=\"bond-4\" d=\"M 500.905,63.5851 L 505.983,64.4705\" style=\"fill:none;fill-rule:evenodd;stroke:#0000FF;stroke-width:2.0px;stroke-linecap:butt;stroke-linejoin:miter;stroke-opacity:1\"/>\n",
       "<path class=\"bond-4\" d=\"M 505.983,64.4705 L 511.061,65.356\" style=\"fill:none;fill-rule:evenodd;stroke:#000000;stroke-width:2.0px;stroke-linecap:butt;stroke-linejoin:miter;stroke-opacity:1\"/>\n",
       "<path class=\"bond-5\" d=\"M 512.001,66.1419 L 514.878,62.7007\" style=\"fill:none;fill-rule:evenodd;stroke:#000000;stroke-width:2.0px;stroke-linecap:butt;stroke-linejoin:miter;stroke-opacity:1\"/>\n",
       "<path class=\"bond-5\" d=\"M 514.878,62.7007 L 517.754,59.2594\" style=\"fill:none;fill-rule:evenodd;stroke:#FF0000;stroke-width:2.0px;stroke-linecap:butt;stroke-linejoin:miter;stroke-opacity:1\"/>\n",
       "<path class=\"bond-5\" d=\"M 510.121,64.57 L 512.997,61.1287\" style=\"fill:none;fill-rule:evenodd;stroke:#000000;stroke-width:2.0px;stroke-linecap:butt;stroke-linejoin:miter;stroke-opacity:1\"/>\n",
       "<path class=\"bond-5\" d=\"M 512.997,61.1287 L 515.874,57.6875\" style=\"fill:none;fill-rule:evenodd;stroke:#FF0000;stroke-width:2.0px;stroke-linecap:butt;stroke-linejoin:miter;stroke-opacity:1\"/>\n",
       "<path class=\"bond-6\" d=\"M 511.061,65.356 L 512.723,69.8949\" style=\"fill:none;fill-rule:evenodd;stroke:#000000;stroke-width:2.0px;stroke-linecap:butt;stroke-linejoin:miter;stroke-opacity:1\"/>\n",
       "<path class=\"bond-6\" d=\"M 512.723,69.8949 L 514.385,74.4337\" style=\"fill:none;fill-rule:evenodd;stroke:#0000FF;stroke-width:2.0px;stroke-linecap:butt;stroke-linejoin:miter;stroke-opacity:1\"/>\n",
       "<path class=\"bond-7\" d=\"M 517.192,77.1985 L 522.27,78.0839\" style=\"fill:none;fill-rule:evenodd;stroke:#0000FF;stroke-width:2.0px;stroke-linecap:butt;stroke-linejoin:miter;stroke-opacity:1\"/>\n",
       "<path class=\"bond-7\" d=\"M 522.27,78.0839 L 527.347,78.9693\" style=\"fill:none;fill-rule:evenodd;stroke:#000000;stroke-width:2.0px;stroke-linecap:butt;stroke-linejoin:miter;stroke-opacity:1\"/>\n",
       "<path class=\"bond-8\" d=\"M 527.347,78.9693 L 531.561,90.4775\" style=\"fill:none;fill-rule:evenodd;stroke:#000000;stroke-width:2.0px;stroke-linecap:butt;stroke-linejoin:miter;stroke-opacity:1\"/>\n",
       "<path class=\"bond-8\" d=\"M 530.281,79.8529 L 533.23,87.9086\" style=\"fill:none;fill-rule:evenodd;stroke:#000000;stroke-width:2.0px;stroke-linecap:butt;stroke-linejoin:miter;stroke-opacity:1\"/>\n",
       "<path class=\"bond-29\" d=\"M 527.347,78.9693 L 535.207,69.5664\" style=\"fill:none;fill-rule:evenodd;stroke:#000000;stroke-width:2.0px;stroke-linecap:butt;stroke-linejoin:miter;stroke-opacity:1\"/>\n",
       "<path class=\"bond-9\" d=\"M 531.561,90.4775 L 543.634,92.5827\" style=\"fill:none;fill-rule:evenodd;stroke:#000000;stroke-width:2.0px;stroke-linecap:butt;stroke-linejoin:miter;stroke-opacity:1\"/>\n",
       "<path class=\"bond-10\" d=\"M 543.634,92.5827 L 551.493,83.1798\" style=\"fill:none;fill-rule:evenodd;stroke:#000000;stroke-width:2.0px;stroke-linecap:butt;stroke-linejoin:miter;stroke-opacity:1\"/>\n",
       "<path class=\"bond-10\" d=\"M 542.932,89.6003 L 548.434,83.0183\" style=\"fill:none;fill-rule:evenodd;stroke:#000000;stroke-width:2.0px;stroke-linecap:butt;stroke-linejoin:miter;stroke-opacity:1\"/>\n",
       "<path class=\"bond-11\" d=\"M 551.493,83.1798 L 547.28,71.6716\" style=\"fill:none;fill-rule:evenodd;stroke:#000000;stroke-width:2.0px;stroke-linecap:butt;stroke-linejoin:miter;stroke-opacity:1\"/>\n",
       "<path class=\"bond-12\" d=\"M 547.28,71.6716 L 535.207,69.5664\" style=\"fill:none;fill-rule:evenodd;stroke:#000000;stroke-width:2.0px;stroke-linecap:butt;stroke-linejoin:miter;stroke-opacity:1\"/>\n",
       "<path class=\"bond-12\" d=\"M 545.048,73.7705 L 536.597,72.2968\" style=\"fill:none;fill-rule:evenodd;stroke:#000000;stroke-width:2.0px;stroke-linecap:butt;stroke-linejoin:miter;stroke-opacity:1\"/>\n",
       "<path class=\"bond-13\" d=\"M 547.28,71.6716 L 555.14,62.2687\" style=\"fill:none;fill-rule:evenodd;stroke:#000000;stroke-width:2.0px;stroke-linecap:butt;stroke-linejoin:miter;stroke-opacity:1\"/>\n",
       "<path class=\"bond-14\" d=\"M 555.14,62.2687 L 558.285,58.506\" style=\"fill:none;fill-rule:evenodd;stroke:#000000;stroke-width:2.0px;stroke-linecap:butt;stroke-linejoin:miter;stroke-opacity:1\"/>\n",
       "<path class=\"bond-14\" d=\"M 558.285,58.506 L 561.43,54.7434\" style=\"fill:none;fill-rule:evenodd;stroke:#33CCCC;stroke-width:2.0px;stroke-linecap:butt;stroke-linejoin:miter;stroke-opacity:1\"/>\n",
       "<path class=\"bond-15\" d=\"M 555.14,62.2687 L 559.056,65.5427\" style=\"fill:none;fill-rule:evenodd;stroke:#000000;stroke-width:2.0px;stroke-linecap:butt;stroke-linejoin:miter;stroke-opacity:1\"/>\n",
       "<path class=\"bond-15\" d=\"M 559.056,65.5427 L 562.973,68.8166\" style=\"fill:none;fill-rule:evenodd;stroke:#33CCCC;stroke-width:2.0px;stroke-linecap:butt;stroke-linejoin:miter;stroke-opacity:1\"/>\n",
       "<path class=\"bond-16\" d=\"M 555.14,62.2687 L 551.223,58.9948\" style=\"fill:none;fill-rule:evenodd;stroke:#000000;stroke-width:2.0px;stroke-linecap:butt;stroke-linejoin:miter;stroke-opacity:1\"/>\n",
       "<path class=\"bond-16\" d=\"M 551.223,58.9948 L 547.306,55.7209\" style=\"fill:none;fill-rule:evenodd;stroke:#33CCCC;stroke-width:2.0px;stroke-linecap:butt;stroke-linejoin:miter;stroke-opacity:1\"/>\n",
       "<path class=\"bond-18\" d=\"M 479.055,70.5484 L 474.842,59.0403\" style=\"fill:none;fill-rule:evenodd;stroke:#000000;stroke-width:2.0px;stroke-linecap:butt;stroke-linejoin:miter;stroke-opacity:1\"/>\n",
       "<path class=\"bond-18\" d=\"M 476.122,69.6649 L 473.172,61.6092\" style=\"fill:none;fill-rule:evenodd;stroke:#000000;stroke-width:2.0px;stroke-linecap:butt;stroke-linejoin:miter;stroke-opacity:1\"/>\n",
       "<path class=\"bond-30\" d=\"M 479.055,70.5484 L 471.196,79.9514\" style=\"fill:none;fill-rule:evenodd;stroke:#000000;stroke-width:2.0px;stroke-linecap:butt;stroke-linejoin:miter;stroke-opacity:1\"/>\n",
       "<path class=\"bond-19\" d=\"M 474.842,59.0403 L 462.769,56.9351\" style=\"fill:none;fill-rule:evenodd;stroke:#000000;stroke-width:2.0px;stroke-linecap:butt;stroke-linejoin:miter;stroke-opacity:1\"/>\n",
       "<path class=\"bond-20\" d=\"M 462.769,56.9351 L 454.909,66.338\" style=\"fill:none;fill-rule:evenodd;stroke:#000000;stroke-width:2.0px;stroke-linecap:butt;stroke-linejoin:miter;stroke-opacity:1\"/>\n",
       "<path class=\"bond-20\" d=\"M 463.471,59.9175 L 457.969,66.4995\" style=\"fill:none;fill-rule:evenodd;stroke:#000000;stroke-width:2.0px;stroke-linecap:butt;stroke-linejoin:miter;stroke-opacity:1\"/>\n",
       "<path class=\"bond-21\" d=\"M 454.909,66.338 L 456.571,70.8769\" style=\"fill:none;fill-rule:evenodd;stroke:#000000;stroke-width:2.0px;stroke-linecap:butt;stroke-linejoin:miter;stroke-opacity:1\"/>\n",
       "<path class=\"bond-21\" d=\"M 456.571,70.8769 L 458.233,75.4158\" style=\"fill:none;fill-rule:evenodd;stroke:#0000FF;stroke-width:2.0px;stroke-linecap:butt;stroke-linejoin:miter;stroke-opacity:1\"/>\n",
       "<path class=\"bond-23\" d=\"M 454.909,66.338 L 442.836,64.2328\" style=\"fill:none;fill-rule:evenodd;stroke:#000000;stroke-width:2.0px;stroke-linecap:butt;stroke-linejoin:miter;stroke-opacity:1\"/>\n",
       "<path class=\"bond-22\" d=\"M 461.04,78.1805 L 466.118,79.0659\" style=\"fill:none;fill-rule:evenodd;stroke:#0000FF;stroke-width:2.0px;stroke-linecap:butt;stroke-linejoin:miter;stroke-opacity:1\"/>\n",
       "<path class=\"bond-22\" d=\"M 466.118,79.0659 L 471.196,79.9514\" style=\"fill:none;fill-rule:evenodd;stroke:#000000;stroke-width:2.0px;stroke-linecap:butt;stroke-linejoin:miter;stroke-opacity:1\"/>\n",
       "<path class=\"bond-22\" d=\"M 462.985,76.0315 L 466.539,76.6513\" style=\"fill:none;fill-rule:evenodd;stroke:#0000FF;stroke-width:2.0px;stroke-linecap:butt;stroke-linejoin:miter;stroke-opacity:1\"/>\n",
       "<path class=\"bond-22\" d=\"M 466.539,76.6513 L 470.093,77.2711\" style=\"fill:none;fill-rule:evenodd;stroke:#000000;stroke-width:2.0px;stroke-linecap:butt;stroke-linejoin:miter;stroke-opacity:1\"/>\n",
       "<path class=\"bond-24\" d=\"M 442.836,64.2328 L 437.759,63.3473\" style=\"fill:none;fill-rule:evenodd;stroke:#000000;stroke-width:2.0px;stroke-linecap:butt;stroke-linejoin:miter;stroke-opacity:1\"/>\n",
       "<path class=\"bond-24\" d=\"M 437.759,63.3473 L 432.681,62.4619\" style=\"fill:none;fill-rule:evenodd;stroke:#0000FF;stroke-width:2.0px;stroke-linecap:butt;stroke-linejoin:miter;stroke-opacity:1\"/>\n",
       "<path class=\"bond-24\" d=\"M 441.734,61.5526 L 437.418,60.7999\" style=\"fill:none;fill-rule:evenodd;stroke:#000000;stroke-width:2.0px;stroke-linecap:butt;stroke-linejoin:miter;stroke-opacity:1\"/>\n",
       "<path class=\"bond-24\" d=\"M 437.418,60.7999 L 433.102,60.0473\" style=\"fill:none;fill-rule:evenodd;stroke:#0000FF;stroke-width:2.0px;stroke-linecap:butt;stroke-linejoin:miter;stroke-opacity:1\"/>\n",
       "<path class=\"bond-24\" d=\"M 440.892,66.3817 L 436.576,65.6291\" style=\"fill:none;fill-rule:evenodd;stroke:#000000;stroke-width:2.0px;stroke-linecap:butt;stroke-linejoin:miter;stroke-opacity:1\"/>\n",
       "<path class=\"bond-24\" d=\"M 436.576,65.6291 L 432.26,64.8765\" style=\"fill:none;fill-rule:evenodd;stroke:#0000FF;stroke-width:2.0px;stroke-linecap:butt;stroke-linejoin:miter;stroke-opacity:1\"/>\n",
       "<path class=\"bond-26\" d=\"M 486.331,93.986 L 487.989,98.5129\" style=\"fill:none;fill-rule:evenodd;stroke:#000000;stroke-width:2.0px;stroke-linecap:butt;stroke-linejoin:miter;stroke-opacity:1\"/>\n",
       "<path class=\"bond-26\" d=\"M 487.989,98.5129 L 489.646,103.04\" style=\"fill:none;fill-rule:evenodd;stroke:#FF0000;stroke-width:2.0px;stroke-linecap:butt;stroke-linejoin:miter;stroke-opacity:1\"/>\n",
       "<path class=\"bond-26\" d=\"M 488.633,93.1434 L 490.29,97.6702\" style=\"fill:none;fill-rule:evenodd;stroke:#000000;stroke-width:2.0px;stroke-linecap:butt;stroke-linejoin:miter;stroke-opacity:1\"/>\n",
       "<path class=\"bond-26\" d=\"M 490.29,97.6702 L 491.948,102.197\" style=\"fill:none;fill-rule:evenodd;stroke:#FF0000;stroke-width:2.0px;stroke-linecap:butt;stroke-linejoin:miter;stroke-opacity:1\"/>\n",
       "<path class=\"bond-27\" d=\"M 487.482,93.5647 L 475.409,91.4595\" style=\"fill:none;fill-rule:evenodd;stroke:#000000;stroke-width:2.0px;stroke-linecap:butt;stroke-linejoin:miter;stroke-opacity:1\"/>\n",
       "<path class=\"atom-4\" d=\"M 493.555 61.1268 L 494.131 61.1268 L 494.131 62.9328 L 496.303 62.9328 L 496.303 61.1268 L 496.879 61.1268 L 496.879 65.3748 L 496.303 65.3748 L 496.303 63.4128 L 494.131 63.4128 L 494.131 65.3748 L 493.555 65.3748 L 493.555 61.1268 \" fill=\"#0000FF\"/>\n",
       "<path class=\"atom-4\" d=\"M 498.049 61.1268 L 499.441 63.3768 Q 499.579 63.5988, 499.801 64.0008 Q 500.023 64.4028, 500.035 64.4268 L 500.035 61.1268 L 500.599 61.1268 L 500.599 65.3748 L 500.017 65.3748 L 498.523 62.9148 Q 498.349 62.6268, 498.163 62.2968 Q 497.983 61.9668, 497.929 61.8648 L 497.929 65.3748 L 497.377 65.3748 L 497.377 61.1268 L 498.049 61.1268 \" fill=\"#0000FF\"/>\n",
       "<path class=\"atom-6\" d=\"M 516.971 55.9651 Q 516.971 54.9451, 517.475 54.3751 Q 517.979 53.8051, 518.921 53.8051 Q 519.863 53.8051, 520.367 54.3751 Q 520.871 54.9451, 520.871 55.9651 Q 520.871 56.9971, 520.361 57.5851 Q 519.851 58.1671, 518.921 58.1671 Q 517.985 58.1671, 517.475 57.5851 Q 516.971 57.0031, 516.971 55.9651 M 518.921 57.6871 Q 519.569 57.6871, 519.917 57.2551 Q 520.271 56.8171, 520.271 55.9651 Q 520.271 55.1311, 519.917 54.7111 Q 519.569 54.2851, 518.921 54.2851 Q 518.273 54.2851, 517.919 54.7051 Q 517.571 55.1251, 517.571 55.9651 Q 517.571 56.8231, 517.919 57.2551 Q 518.273 57.6871, 518.921 57.6871 \" fill=\"#FF0000\"/>\n",
       "<path class=\"atom-7\" d=\"M 514.335 74.7401 L 515.727 76.9901 Q 515.865 77.2121, 516.087 77.6141 Q 516.309 78.0161, 516.321 78.0401 L 516.321 74.7401 L 516.885 74.7401 L 516.885 78.9881 L 516.303 78.9881 L 514.809 76.5281 Q 514.635 76.2401, 514.449 75.9101 Q 514.269 75.5801, 514.215 75.4781 L 514.215 78.9881 L 513.663 78.9881 L 513.663 74.7401 L 514.335 74.7401 \" fill=\"#0000FF\"/>\n",
       "<path class=\"atom-15\" d=\"M 561.736 50.7418 L 564.262 50.7418 L 564.262 51.2278 L 562.306 51.2278 L 562.306 52.5178 L 564.046 52.5178 L 564.046 53.0098 L 562.306 53.0098 L 562.306 54.9898 L 561.736 54.9898 L 561.736 50.7418 \" fill=\"#33CCCC\"/>\n",
       "<path class=\"atom-16\" d=\"M 563.28 68.0044 L 565.806 68.0044 L 565.806 68.4904 L 563.85 68.4904 L 563.85 69.7804 L 565.59 69.7804 L 565.59 70.2724 L 563.85 70.2724 L 563.85 72.2524 L 563.28 72.2524 L 563.28 68.0044 \" fill=\"#33CCCC\"/>\n",
       "<path class=\"atom-17\" d=\"M 544.474 52.2851 L 547 52.2851 L 547 52.7711 L 545.044 52.7711 L 545.044 54.0611 L 546.784 54.0611 L 546.784 54.5531 L 545.044 54.5531 L 545.044 56.5331 L 544.474 56.5331 L 544.474 52.2851 \" fill=\"#33CCCC\"/>\n",
       "<path class=\"atom-22\" d=\"M 458.184 75.7221 L 459.576 77.9721 Q 459.714 78.1941, 459.936 78.5961 Q 460.158 78.9981, 460.17 79.0221 L 460.17 75.7221 L 460.734 75.7221 L 460.734 79.9701 L 460.152 79.9701 L 458.658 77.5101 Q 458.484 77.2221, 458.298 76.8921 Q 458.118 76.5621, 458.064 76.4601 L 458.064 79.9701 L 457.512 79.9701 L 457.512 75.7221 L 458.184 75.7221 \" fill=\"#0000FF\"/>\n",
       "<path class=\"atom-25\" d=\"M 429.824 60.0036 L 431.216 62.2536 Q 431.354 62.4756, 431.576 62.8776 Q 431.798 63.2796, 431.81 63.3036 L 431.81 60.0036 L 432.374 60.0036 L 432.374 64.2516 L 431.792 64.2516 L 430.298 61.7916 Q 430.124 61.5036, 429.938 61.1736 Q 429.758 60.8436, 429.704 60.7416 L 429.704 64.2516 L 429.152 64.2516 L 429.152 60.0036 L 429.824 60.0036 \" fill=\"#0000FF\"/>\n",
       "<path class=\"atom-27\" d=\"M 489.745 105.085 Q 489.745 104.065, 490.249 103.495 Q 490.753 102.925, 491.695 102.925 Q 492.637 102.925, 493.141 103.495 Q 493.645 104.065, 493.645 105.085 Q 493.645 106.117, 493.135 106.705 Q 492.625 107.287, 491.695 107.287 Q 490.759 107.287, 490.249 106.705 Q 489.745 106.123, 489.745 105.085 M 491.695 106.807 Q 492.343 106.807, 492.691 106.375 Q 493.045 105.937, 493.045 105.085 Q 493.045 104.251, 492.691 103.831 Q 492.343 103.405, 491.695 103.405 Q 491.047 103.405, 490.693 103.825 Q 490.345 104.245, 490.345 105.085 Q 490.345 105.943, 490.693 106.375 Q 491.047 106.807, 491.695 106.807 \" fill=\"#FF0000\"/>\n",
       "<path d=\"M 467.672 193.056 Q 467.672 193.104, 468.376 192.688 Q 469.08 192.272, 469.64 191.616 Q 470.2 190.96, 470.2 190.096 L 470.2 182 L 467.976 182 L 467.976 180.704 L 471.704 180.704 L 471.704 190.096 Q 471.704 191.392, 470.952 192.32 Q 470.2 193.248, 469.256 193.792 Q 468.328 194.336, 468.328 194.256 L 467.672 193.056 \" fill=\"#000000\"/>\n",
       "<path d=\"M 472.056 193.056 Q 472.056 193.104, 472.76 192.688 Q 473.464 192.272, 474.024 191.616 Q 474.584 190.96, 474.584 190.096 L 474.584 182 L 472.36 182 L 472.36 180.704 L 476.088 180.704 L 476.088 190.096 Q 476.088 191.392, 475.336 192.32 Q 474.584 193.248, 473.64 193.792 Q 472.712 194.336, 472.712 194.256 L 472.056 193.056 \" fill=\"#000000\"/>\n",
       "<path d=\"M 477.272 190.272 Q 477.4 190.32, 477.928 190.544 Q 478.456 190.768, 479.032 190.912 Q 479.624 191.04, 480.2 191.04 Q 481.272 191.04, 481.896 190.528 Q 482.52 190, 482.52 189.088 Q 482.52 188.464, 482.2 188.08 Q 481.896 187.696, 481.416 187.488 Q 480.936 187.28, 480.136 187.04 Q 479.128 186.736, 478.52 186.448 Q 477.928 186.16, 477.496 185.552 Q 477.08 184.944, 477.08 183.92 Q 477.08 182.496, 478.04 181.616 Q 479.016 180.736, 480.936 180.736 Q 482.248 180.736, 483.736 181.36 L 483.368 182.592 Q 482.008 182.032, 480.984 182.032 Q 479.88 182.032, 479.272 182.496 Q 478.664 182.944, 478.68 183.728 Q 478.68 184.336, 478.984 184.704 Q 479.304 185.072, 479.752 185.28 Q 480.216 185.488, 480.984 185.728 Q 482.008 186.048, 482.616 186.368 Q 483.224 186.688, 483.656 187.344 Q 484.104 187.984, 484.104 189.088 Q 484.104 190.656, 483.048 191.504 Q 482.008 192.336, 480.264 192.336 Q 479.256 192.336, 478.488 192.112 Q 477.736 191.904, 476.84 191.536 L 477.272 190.272 \" fill=\"#000000\"/>\n",
       "<path d=\"M 485.144 190.432 L 486.744 190.432 L 486.744 191.712 L 486.44 193.92 L 485.864 193.92 L 485.864 192.032 L 485.144 192.032 L 485.144 190.432 \" fill=\"#000000\"/>\n",
       "<path d=\"\" fill=\"#000000\"/>\n",
       "<path d=\"M 495.592 184.944 Q 496.584 184.944, 497.4 185.376 Q 498.216 185.792, 498.68 186.592 Q 499.144 187.376, 499.144 188.448 Q 499.144 189.616, 498.568 190.464 Q 498.008 191.296, 497.08 191.728 Q 496.152 192.16, 495.096 192.16 Q 494.056 192.16, 493.096 191.776 Q 492.136 191.392, 491.48 190.656 L 492.44 189.664 Q 492.968 190.24, 493.688 190.56 Q 494.408 190.864, 495.144 190.864 Q 496.152 190.864, 496.84 190.24 Q 497.544 189.616, 497.544 188.48 Q 497.544 187.28, 496.84 186.72 Q 496.152 186.144, 495.048 186.144 Q 494.056 186.144, 492.952 186.576 L 492.072 186.16 L 492.616 180.704 L 498.44 180.704 L 498.28 181.984 L 493.928 181.984 L 493.592 185.344 Q 494.6 184.944, 495.592 184.944 \" fill=\"#000000\"/>\n",
       "<path d=\"M 507.688 192.032 L 506.504 188.704 L 502.008 188.704 L 500.872 192.032 L 499.336 192.032 L 503.24 180.704 L 505.128 180.704 L 509.176 192.032 L 507.688 192.032 M 502.456 187.424 L 506.04 187.424 L 504.216 182.288 L 502.456 187.424 \" fill=\"#000000\"/>\n",
       "<path d=\"M 514.296 192.16 Q 512.216 192.16, 511.176 190.624 Q 510.152 189.088, 510.152 186.352 Q 510.152 183.616, 511.176 182.096 Q 512.2 180.576, 514.296 180.576 Q 516.392 180.576, 517.416 182.096 Q 518.44 183.616, 518.44 186.352 Q 518.44 189.088, 517.4 190.624 Q 516.376 192.16, 514.296 192.16 M 514.296 190.88 Q 515.528 190.88, 516.184 189.744 Q 516.84 188.592, 516.84 186.352 Q 516.84 184.128, 516.184 182.992 Q 515.528 181.856, 514.296 181.856 Q 513.08 181.856, 512.408 182.992 Q 511.752 184.128, 511.752 186.352 Q 511.752 188.592, 512.408 189.744 Q 513.08 190.88, 514.296 190.88 \" fill=\"#000000\"/>\n",
       "<path d=\"M 526.984 192.032 L 525.8 188.704 L 521.304 188.704 L 520.168 192.032 L 518.632 192.032 L 522.536 180.704 L 524.424 180.704 L 528.472 192.032 L 526.984 192.032 M 521.752 187.424 L 525.336 187.424 L 523.512 182.288 L 521.752 187.424 \" fill=\"#000000\"/>\n",
       "<path class=\"bond-0\" d=\"M 742.587,52.9013 L 733.972,61.6172\" style=\"fill:none;fill-rule:evenodd;stroke:#000000;stroke-width:2.0px;stroke-linecap:butt;stroke-linejoin:miter;stroke-opacity:1\"/>\n",
       "<path class=\"bond-1\" d=\"M 733.972,61.6172 L 722.116,58.5141\" style=\"fill:none;fill-rule:evenodd;stroke:#000000;stroke-width:2.0px;stroke-linecap:butt;stroke-linejoin:miter;stroke-opacity:1\"/>\n",
       "<path class=\"bond-2\" d=\"M 716.663,64.6119 L 716.082,64.0375\" style=\"fill:none;fill-rule:evenodd;stroke:#000000;stroke-width:1.0px;stroke-linecap:butt;stroke-linejoin:miter;stroke-opacity:1\"/>\n",
       "<path class=\"bond-2\" d=\"M 719.825,61.9938 L 718.663,60.8451\" style=\"fill:none;fill-rule:evenodd;stroke:#000000;stroke-width:1.0px;stroke-linecap:butt;stroke-linejoin:miter;stroke-opacity:1\"/>\n",
       "<path class=\"bond-2\" d=\"M 722.988,59.3756 L 721.245,57.6526\" style=\"fill:none;fill-rule:evenodd;stroke:#000000;stroke-width:1.0px;stroke-linecap:butt;stroke-linejoin:miter;stroke-opacity:1\"/>\n",
       "<path class=\"bond-3\" d=\"M 713.501,67.23 L 701.645,64.1269\" style=\"fill:none;fill-rule:evenodd;stroke:#000000;stroke-width:2.0px;stroke-linecap:butt;stroke-linejoin:miter;stroke-opacity:1\"/>\n",
       "<path class=\"bond-12\" d=\"M 713.501,67.23 L 714.788,71.9243\" style=\"fill:none;fill-rule:evenodd;stroke:#000000;stroke-width:2.0px;stroke-linecap:butt;stroke-linejoin:miter;stroke-opacity:1\"/>\n",
       "<path class=\"bond-12\" d=\"M 714.788,71.9243 L 716.075,76.6186\" style=\"fill:none;fill-rule:evenodd;stroke:#0000FF;stroke-width:2.0px;stroke-linecap:butt;stroke-linejoin:miter;stroke-opacity:1\"/>\n",
       "<path class=\"bond-4\" d=\"M 702.827,63.8029 L 701.552,59.1536\" style=\"fill:none;fill-rule:evenodd;stroke:#000000;stroke-width:2.0px;stroke-linecap:butt;stroke-linejoin:miter;stroke-opacity:1\"/>\n",
       "<path class=\"bond-4\" d=\"M 701.552,59.1536 L 700.278,54.5043\" style=\"fill:none;fill-rule:evenodd;stroke:#FF0000;stroke-width:2.0px;stroke-linecap:butt;stroke-linejoin:miter;stroke-opacity:1\"/>\n",
       "<path class=\"bond-4\" d=\"M 700.463,64.451 L 699.188,59.8017\" style=\"fill:none;fill-rule:evenodd;stroke:#000000;stroke-width:2.0px;stroke-linecap:butt;stroke-linejoin:miter;stroke-opacity:1\"/>\n",
       "<path class=\"bond-4\" d=\"M 699.188,59.8017 L 697.914,55.1524\" style=\"fill:none;fill-rule:evenodd;stroke:#FF0000;stroke-width:2.0px;stroke-linecap:butt;stroke-linejoin:miter;stroke-opacity:1\"/>\n",
       "<path class=\"bond-5\" d=\"M 701.645,64.1269 L 698.466,67.3435\" style=\"fill:none;fill-rule:evenodd;stroke:#000000;stroke-width:2.0px;stroke-linecap:butt;stroke-linejoin:miter;stroke-opacity:1\"/>\n",
       "<path class=\"bond-5\" d=\"M 698.466,67.3435 L 695.286,70.5601\" style=\"fill:none;fill-rule:evenodd;stroke:#FF0000;stroke-width:2.0px;stroke-linecap:butt;stroke-linejoin:miter;stroke-opacity:1\"/>\n",
       "<path class=\"bond-6\" d=\"M 690.773,72.2522 L 685.974,70.996\" style=\"fill:none;fill-rule:evenodd;stroke:#FF0000;stroke-width:2.0px;stroke-linecap:butt;stroke-linejoin:miter;stroke-opacity:1\"/>\n",
       "<path class=\"bond-6\" d=\"M 685.974,70.996 L 681.174,69.7397\" style=\"fill:none;fill-rule:evenodd;stroke:#000000;stroke-width:2.0px;stroke-linecap:butt;stroke-linejoin:miter;stroke-opacity:1\"/>\n",
       "<path class=\"bond-7\" d=\"M 681.174,69.7397 L 672.559,78.4556\" style=\"fill:none;fill-rule:evenodd;stroke:#000000;stroke-width:2.0px;stroke-linecap:butt;stroke-linejoin:miter;stroke-opacity:1\"/>\n",
       "<path class=\"bond-8\" d=\"M 672.559,78.4556 L 660.703,75.3525\" style=\"fill:none;fill-rule:evenodd;stroke:#000000;stroke-width:2.0px;stroke-linecap:butt;stroke-linejoin:miter;stroke-opacity:1\"/>\n",
       "<path class=\"bond-11\" d=\"M 673.023,81.6931 L 673.811,81.4771\" style=\"fill:none;fill-rule:evenodd;stroke:#000000;stroke-width:1.0px;stroke-linecap:butt;stroke-linejoin:miter;stroke-opacity:1\"/>\n",
       "<path class=\"bond-11\" d=\"M 673.487,84.9307 L 675.063,84.4986\" style=\"fill:none;fill-rule:evenodd;stroke:#0000FF;stroke-width:1.0px;stroke-linecap:butt;stroke-linejoin:miter;stroke-opacity:1\"/>\n",
       "<path class=\"bond-11\" d=\"M 673.951,88.1682 L 676.315,87.5201\" style=\"fill:none;fill-rule:evenodd;stroke:#0000FF;stroke-width:1.0px;stroke-linecap:butt;stroke-linejoin:miter;stroke-opacity:1\"/>\n",
       "<path class=\"bond-9\" d=\"M 661.885,75.0285 L 660.61,70.3792\" style=\"fill:none;fill-rule:evenodd;stroke:#000000;stroke-width:2.0px;stroke-linecap:butt;stroke-linejoin:miter;stroke-opacity:1\"/>\n",
       "<path class=\"bond-9\" d=\"M 660.61,70.3792 L 659.335,65.7299\" style=\"fill:none;fill-rule:evenodd;stroke:#FF0000;stroke-width:2.0px;stroke-linecap:butt;stroke-linejoin:miter;stroke-opacity:1\"/>\n",
       "<path class=\"bond-9\" d=\"M 659.521,75.6766 L 658.246,71.0273\" style=\"fill:none;fill-rule:evenodd;stroke:#000000;stroke-width:2.0px;stroke-linecap:butt;stroke-linejoin:miter;stroke-opacity:1\"/>\n",
       "<path class=\"bond-9\" d=\"M 658.246,71.0273 L 656.972,66.378\" style=\"fill:none;fill-rule:evenodd;stroke:#FF0000;stroke-width:2.0px;stroke-linecap:butt;stroke-linejoin:miter;stroke-opacity:1\"/>\n",
       "<path class=\"bond-10\" d=\"M 660.703,75.3525 L 657.524,78.5691\" style=\"fill:none;fill-rule:evenodd;stroke:#000000;stroke-width:2.0px;stroke-linecap:butt;stroke-linejoin:miter;stroke-opacity:1\"/>\n",
       "<path class=\"bond-10\" d=\"M 657.524,78.5691 L 654.344,81.7857\" style=\"fill:none;fill-rule:evenodd;stroke:#FF0000;stroke-width:2.0px;stroke-linecap:butt;stroke-linejoin:miter;stroke-opacity:1\"/>\n",
       "<path class=\"bond-13\" d=\"M 714.824,80.9887 L 711.475,84.3768\" style=\"fill:none;fill-rule:evenodd;stroke:#0000FF;stroke-width:2.0px;stroke-linecap:butt;stroke-linejoin:miter;stroke-opacity:1\"/>\n",
       "<path class=\"bond-13\" d=\"M 711.475,84.3768 L 708.126,87.7648\" style=\"fill:none;fill-rule:evenodd;stroke:#000000;stroke-width:2.0px;stroke-linecap:butt;stroke-linejoin:miter;stroke-opacity:1\"/>\n",
       "<path class=\"bond-14\" d=\"M 718.659,79.5508 L 722.819,80.6396\" style=\"fill:none;fill-rule:evenodd;stroke:#0000FF;stroke-width:2.0px;stroke-linecap:butt;stroke-linejoin:miter;stroke-opacity:1\"/>\n",
       "<path class=\"bond-14\" d=\"M 722.819,80.6396 L 726.978,81.7283\" style=\"fill:none;fill-rule:evenodd;stroke:#CCCC00;stroke-width:2.0px;stroke-linecap:butt;stroke-linejoin:miter;stroke-opacity:1\"/>\n",
       "<path class=\"bond-15\" d=\"M 730.417,80.038 L 731.33,76.5511\" style=\"fill:none;fill-rule:evenodd;stroke:#CCCC00;stroke-width:2.0px;stroke-linecap:butt;stroke-linejoin:miter;stroke-opacity:1\"/>\n",
       "<path class=\"bond-15\" d=\"M 731.33,76.5511 L 732.243,73.0643\" style=\"fill:none;fill-rule:evenodd;stroke:#FF0000;stroke-width:2.0px;stroke-linecap:butt;stroke-linejoin:miter;stroke-opacity:1\"/>\n",
       "<path class=\"bond-15\" d=\"M 728.046,79.4174 L 728.959,75.9305\" style=\"fill:none;fill-rule:evenodd;stroke:#CCCC00;stroke-width:2.0px;stroke-linecap:butt;stroke-linejoin:miter;stroke-opacity:1\"/>\n",
       "<path class=\"bond-15\" d=\"M 728.959,75.9305 L 729.871,72.4437\" style=\"fill:none;fill-rule:evenodd;stroke:#FF0000;stroke-width:2.0px;stroke-linecap:butt;stroke-linejoin:miter;stroke-opacity:1\"/>\n",
       "<path class=\"bond-16\" d=\"M 726.747,84.3801 L 725.841,87.8444\" style=\"fill:none;fill-rule:evenodd;stroke:#CCCC00;stroke-width:2.0px;stroke-linecap:butt;stroke-linejoin:miter;stroke-opacity:1\"/>\n",
       "<path class=\"bond-16\" d=\"M 725.841,87.8444 L 724.934,91.3088\" style=\"fill:none;fill-rule:evenodd;stroke:#FF0000;stroke-width:2.0px;stroke-linecap:butt;stroke-linejoin:miter;stroke-opacity:1\"/>\n",
       "<path class=\"bond-16\" d=\"M 729.118,85.0007 L 728.212,88.4651\" style=\"fill:none;fill-rule:evenodd;stroke:#CCCC00;stroke-width:2.0px;stroke-linecap:butt;stroke-linejoin:miter;stroke-opacity:1\"/>\n",
       "<path class=\"bond-16\" d=\"M 728.212,88.4651 L 727.305,91.9294\" style=\"fill:none;fill-rule:evenodd;stroke:#FF0000;stroke-width:2.0px;stroke-linecap:butt;stroke-linejoin:miter;stroke-opacity:1\"/>\n",
       "<path class=\"bond-17\" d=\"M 730.266,82.5887 L 734.422,83.6766\" style=\"fill:none;fill-rule:evenodd;stroke:#CCCC00;stroke-width:2.0px;stroke-linecap:butt;stroke-linejoin:miter;stroke-opacity:1\"/>\n",
       "<path class=\"bond-17\" d=\"M 734.422,83.6766 L 738.579,84.7646\" style=\"fill:none;fill-rule:evenodd;stroke:#0000FF;stroke-width:2.0px;stroke-linecap:butt;stroke-linejoin:miter;stroke-opacity:1\"/>\n",
       "<path class=\"bond-18\" d=\"M 741.119,87.6855 L 742.407,92.3798\" style=\"fill:none;fill-rule:evenodd;stroke:#0000FF;stroke-width:2.0px;stroke-linecap:butt;stroke-linejoin:miter;stroke-opacity:1\"/>\n",
       "<path class=\"bond-18\" d=\"M 742.407,92.3798 L 743.694,97.0741\" style=\"fill:none;fill-rule:evenodd;stroke:#000000;stroke-width:2.0px;stroke-linecap:butt;stroke-linejoin:miter;stroke-opacity:1\"/>\n",
       "<path class=\"atom-5\" d=\"M 696.455 52.32 Q 696.455 51.3, 696.959 50.73 Q 697.463 50.16, 698.405 50.16 Q 699.347 50.16, 699.851 50.73 Q 700.355 51.3, 700.355 52.32 Q 700.355 53.352, 699.845 53.94 Q 699.335 54.522, 698.405 54.522 Q 697.469 54.522, 696.959 53.94 Q 696.455 53.358, 696.455 52.32 M 698.405 54.042 Q 699.053 54.042, 699.401 53.61 Q 699.755 53.172, 699.755 52.32 Q 699.755 51.486, 699.401 51.066 Q 699.053 50.64, 698.405 50.64 Q 697.757 50.64, 697.403 51.06 Q 697.055 51.48, 697.055 52.32 Q 697.055 53.178, 697.403 53.61 Q 697.757 54.042, 698.405 54.042 \" fill=\"#FF0000\"/>\n",
       "<path class=\"atom-6\" d=\"M 691.08 72.8548 Q 691.08 71.8348, 691.584 71.2648 Q 692.088 70.6948, 693.03 70.6948 Q 693.972 70.6948, 694.476 71.2648 Q 694.98 71.8348, 694.98 72.8548 Q 694.98 73.8868, 694.47 74.4748 Q 693.96 75.0568, 693.03 75.0568 Q 692.094 75.0568, 691.584 74.4748 Q 691.08 73.8928, 691.08 72.8548 M 693.03 74.5768 Q 693.678 74.5768, 694.026 74.1448 Q 694.38 73.7068, 694.38 72.8548 Q 694.38 72.0208, 694.026 71.6008 Q 693.678 71.1748, 693.03 71.1748 Q 692.382 71.1748, 692.028 71.5948 Q 691.68 72.0148, 691.68 72.8548 Q 691.68 73.7128, 692.028 74.1448 Q 692.382 74.5768, 693.03 74.5768 \" fill=\"#FF0000\"/>\n",
       "<path class=\"atom-10\" d=\"M 655.512 63.5456 Q 655.512 62.5256, 656.016 61.9556 Q 656.52 61.3856, 657.462 61.3856 Q 658.404 61.3856, 658.908 61.9556 Q 659.412 62.5256, 659.412 63.5456 Q 659.412 64.5776, 658.902 65.1656 Q 658.392 65.7476, 657.462 65.7476 Q 656.526 65.7476, 656.016 65.1656 Q 655.512 64.5836, 655.512 63.5456 M 657.462 65.2676 Q 658.11 65.2676, 658.458 64.8356 Q 658.812 64.3976, 658.812 63.5456 Q 658.812 62.7116, 658.458 62.2916 Q 658.11 61.8656, 657.462 61.8656 Q 656.814 61.8656, 656.46 62.2856 Q 656.112 62.7056, 656.112 63.5456 Q 656.112 64.4036, 656.46 64.8356 Q 656.814 65.2676, 657.462 65.2676 \" fill=\"#FF0000\"/>\n",
       "<path class=\"atom-11\" d=\"M 646.514 81.9684 L 647.09 81.9684 L 647.09 83.7744 L 649.262 83.7744 L 649.262 81.9684 L 649.838 81.9684 L 649.838 86.2164 L 649.262 86.2164 L 649.262 84.2544 L 647.09 84.2544 L 647.09 86.2164 L 646.514 86.2164 L 646.514 81.9684 \" fill=\"#FF0000\"/>\n",
       "<path class=\"atom-11\" d=\"M 650.138 84.0804 Q 650.138 83.0604, 650.642 82.4904 Q 651.146 81.9204, 652.088 81.9204 Q 653.03 81.9204, 653.534 82.4904 Q 654.038 83.0604, 654.038 84.0804 Q 654.038 85.1124, 653.528 85.7004 Q 653.018 86.2824, 652.088 86.2824 Q 651.152 86.2824, 650.642 85.7004 Q 650.138 85.1184, 650.138 84.0804 M 652.088 85.8024 Q 652.736 85.8024, 653.084 85.3704 Q 653.438 84.9324, 653.438 84.0804 Q 653.438 83.2464, 653.084 82.8264 Q 652.736 82.4004, 652.088 82.4004 Q 651.44 82.4004, 651.086 82.8204 Q 650.738 83.2404, 650.738 84.0804 Q 650.738 84.9384, 651.086 85.3704 Q 651.44 85.8024, 652.088 85.8024 \" fill=\"#FF0000\"/>\n",
       "<path class=\"atom-12\" d=\"M 674.86 88.1506 L 676.252 90.4006 Q 676.39 90.6226, 676.612 91.0246 Q 676.834 91.4266, 676.846 91.4506 L 676.846 88.1506 L 677.41 88.1506 L 677.41 92.3986 L 676.828 92.3986 L 675.334 89.9386 Q 675.16 89.6506, 674.974 89.3206 Q 674.794 88.9906, 674.74 88.8886 L 674.74 92.3986 L 674.188 92.3986 L 674.188 88.1506 L 674.86 88.1506 \" fill=\"#0000FF\"/>\n",
       "<path class=\"atom-12\" d=\"M 677.92 88.1506 L 678.496 88.1506 L 678.496 89.9566 L 680.668 89.9566 L 680.668 88.1506 L 681.244 88.1506 L 681.244 92.3986 L 680.668 92.3986 L 680.668 90.4366 L 678.496 90.4366 L 678.496 92.3986 L 677.92 92.3986 L 677.92 88.1506 \" fill=\"#0000FF\"/>\n",
       "<path class=\"atom-12\" d=\"M 681.45 92.2495 Q 681.553 91.9842, 681.799 91.8377 Q 682.044 91.6872, 682.385 91.6872 Q 682.809 91.6872, 683.046 91.9169 Q 683.284 92.1466, 683.284 92.5544 Q 683.284 92.9702, 682.975 93.3583 Q 682.67 93.7464, 682.036 94.2058 L 683.331 94.2058 L 683.331 94.5226 L 681.442 94.5226 L 681.442 94.2572 Q 681.965 93.885, 682.274 93.6078 Q 682.587 93.3306, 682.737 93.0811 Q 682.888 92.8316, 682.888 92.5742 Q 682.888 92.305, 682.753 92.1545 Q 682.618 92.004, 682.385 92.004 Q 682.159 92.004, 682.009 92.0951 Q 681.858 92.1862, 681.751 92.3881 L 681.45 92.2495 \" fill=\"#0000FF\"/>\n",
       "<path class=\"atom-13\" d=\"M 715.802 76.925 L 717.194 79.175 Q 717.332 79.397, 717.554 79.799 Q 717.776 80.201, 717.788 80.225 L 717.788 76.925 L 718.352 76.925 L 718.352 81.173 L 717.77 81.173 L 716.276 78.713 Q 716.102 78.425, 715.916 78.095 Q 715.736 77.765, 715.682 77.663 L 715.682 81.173 L 715.13 81.173 L 715.13 76.925 L 715.802 76.925 \" fill=\"#0000FF\"/>\n",
       "<path class=\"atom-15\" d=\"M 727.397 83.6101 Q 727.445 83.6281, 727.643 83.7121 Q 727.841 83.7961, 728.057 83.8501 Q 728.279 83.8981, 728.495 83.8981 Q 728.897 83.8981, 729.131 83.7061 Q 729.365 83.5081, 729.365 83.1661 Q 729.365 82.9321, 729.245 82.7881 Q 729.131 82.6441, 728.951 82.5661 Q 728.771 82.4881, 728.471 82.3981 Q 728.093 82.2841, 727.865 82.1761 Q 727.643 82.0681, 727.481 81.8401 Q 727.325 81.6121, 727.325 81.2281 Q 727.325 80.6941, 727.685 80.3641 Q 728.051 80.0341, 728.771 80.0341 Q 729.263 80.0341, 729.821 80.2681 L 729.683 80.7301 Q 729.173 80.5201, 728.789 80.5201 Q 728.375 80.5201, 728.147 80.6941 Q 727.919 80.8621, 727.925 81.1561 Q 727.925 81.3841, 728.039 81.5221 Q 728.159 81.6601, 728.327 81.7381 Q 728.501 81.8161, 728.789 81.9061 Q 729.173 82.0261, 729.401 82.1461 Q 729.629 82.2661, 729.791 82.5121 Q 729.959 82.7521, 729.959 83.1661 Q 729.959 83.7541, 729.563 84.0721 Q 729.173 84.3841, 728.519 84.3841 Q 728.141 84.3841, 727.853 84.3001 Q 727.571 84.2221, 727.235 84.0841 L 727.397 83.6101 \" fill=\"#CCCC00\"/>\n",
       "<path class=\"atom-16\" d=\"M 729.75 70.3083 Q 729.75 69.2883, 730.254 68.7183 Q 730.758 68.1483, 731.7 68.1483 Q 732.642 68.1483, 733.146 68.7183 Q 733.65 69.2883, 733.65 70.3083 Q 733.65 71.3403, 733.14 71.9283 Q 732.63 72.5103, 731.7 72.5103 Q 730.764 72.5103, 730.254 71.9283 Q 729.75 71.3463, 729.75 70.3083 M 731.7 72.0303 Q 732.348 72.0303, 732.696 71.5983 Q 733.05 71.1603, 733.05 70.3083 Q 733.05 69.4743, 732.696 69.0543 Q 732.348 68.6283, 731.7 68.6283 Q 731.052 68.6283, 730.698 69.0483 Q 730.35 69.4683, 730.35 70.3083 Q 730.35 71.1663, 730.698 71.5983 Q 731.052 72.0303, 731.7 72.0303 \" fill=\"#FF0000\"/>\n",
       "<path class=\"atom-17\" d=\"M 723.544 94.0199 Q 723.544 92.9999, 724.048 92.4299 Q 724.552 91.8599, 725.494 91.8599 Q 726.436 91.8599, 726.94 92.4299 Q 727.444 92.9999, 727.444 94.0199 Q 727.444 95.0519, 726.934 95.6399 Q 726.424 96.2219, 725.494 96.2219 Q 724.558 96.2219, 724.048 95.6399 Q 723.544 95.0579, 723.544 94.0199 M 725.494 95.7419 Q 726.142 95.7419, 726.49 95.3099 Q 726.844 94.8719, 726.844 94.0199 Q 726.844 93.1859, 726.49 92.7659 Q 726.142 92.3399, 725.494 92.3399 Q 724.846 92.3399, 724.492 92.7599 Q 724.144 93.1799, 724.144 94.0199 Q 724.144 94.8779, 724.492 95.3099 Q 724.846 95.7419, 725.494 95.7419 \" fill=\"#FF0000\"/>\n",
       "<path class=\"atom-18\" d=\"M 739.514 83.1311 L 740.906 85.3811 Q 741.044 85.6031, 741.266 86.0051 Q 741.488 86.4071, 741.5 86.4311 L 741.5 83.1311 L 742.064 83.1311 L 742.064 87.3791 L 741.482 87.3791 L 739.988 84.9191 Q 739.814 84.6311, 739.628 84.3011 Q 739.448 83.9711, 739.394 83.8691 L 739.394 87.3791 L 738.842 87.3791 L 738.842 83.1311 L 739.514 83.1311 \" fill=\"#0000FF\"/>\n",
       "<path class=\"atom-18\" d=\"M 742.574 83.1311 L 743.15 83.1311 L 743.15 84.9371 L 745.322 84.9371 L 745.322 83.1311 L 745.898 83.1311 L 745.898 87.3791 L 745.322 87.3791 L 745.322 85.4171 L 743.15 85.4171 L 743.15 87.3791 L 742.574 87.3791 L 742.574 83.1311 \" fill=\"#0000FF\"/>\n",
       "<path d=\"M 668.379 186.432 Q 669.467 186.736, 670.011 187.408 Q 670.571 188.064, 670.571 189.04 Q 670.571 190.608, 669.563 191.504 Q 668.571 192.384, 666.683 192.384 L 662.875 192.384 L 662.875 181.056 L 666.219 181.056 Q 668.155 181.056, 669.131 181.84 Q 670.107 182.624, 670.107 184.064 Q 670.107 185.776, 668.379 186.432 M 664.395 182.336 L 664.395 185.888 L 666.219 185.888 Q 667.339 185.888, 667.915 185.44 Q 668.507 184.976, 668.507 184.064 Q 668.507 182.336, 666.219 182.336 L 664.395 182.336 M 666.683 191.104 Q 667.787 191.104, 668.379 190.576 Q 668.971 190.048, 668.971 189.04 Q 668.971 188.112, 668.315 187.648 Q 667.675 187.168, 666.443 187.168 L 664.395 187.168 L 664.395 191.104 L 666.683 191.104 \" fill=\"#000000\"/>\n",
       "<path d=\"M 680.475 186.832 L 680.475 191.616 Q 678.859 192.528, 676.475 192.528 Q 674.011 192.528, 672.683 191.024 Q 671.371 189.52, 671.371 186.704 Q 671.371 183.888, 672.683 182.416 Q 674.011 180.928, 676.523 180.928 Q 677.835 180.928, 678.795 181.344 Q 679.755 181.744, 680.427 182.576 L 679.387 183.44 Q 678.331 182.208, 676.523 182.208 Q 674.811 182.208, 673.899 183.36 Q 673.003 184.512, 673.003 186.704 Q 673.003 188.944, 673.931 190.096 Q 674.875 191.248, 676.699 191.248 Q 677.883 191.248, 678.939 190.864 L 678.939 186.832 L 680.475 186.832 \" fill=\"#000000\"/>\n",
       "<path d=\"M 681.963 191.104 L 684.443 191.104 L 684.443 182.64 L 681.707 183.488 L 681.339 182.544 L 684.811 180.992 L 685.947 181.184 L 685.947 191.104 L 688.171 191.104 L 688.171 192.384 L 681.963 192.384 L 681.963 191.104 \" fill=\"#000000\"/>\n",
       "<path d=\"M 689.211 190.784 L 690.811 190.784 L 690.811 192.064 L 690.507 194.272 L 689.931 194.272 L 689.931 192.384 L 689.211 192.384 L 689.211 190.784 \" fill=\"#000000\"/>\n",
       "<path d=\"\" fill=\"#000000\"/>\n",
       "<path d=\"M 695.643 183.2 Q 696.059 182.128, 697.051 181.536 Q 698.043 180.928, 699.419 180.928 Q 701.131 180.928, 702.091 181.856 Q 703.051 182.784, 703.051 184.432 Q 703.051 186.112, 701.803 187.68 Q 700.571 189.248, 698.011 191.104 L 703.243 191.104 L 703.243 192.384 L 695.611 192.384 L 695.611 191.312 Q 697.723 189.808, 698.971 188.688 Q 700.235 187.568, 700.843 186.56 Q 701.451 185.552, 701.451 184.512 Q 701.451 183.424, 700.907 182.816 Q 700.363 182.208, 699.419 182.208 Q 698.507 182.208, 697.899 182.576 Q 697.291 182.944, 696.859 183.76 L 695.643 183.2 \" fill=\"#000000\"/>\n",
       "<path d=\"M 710.715 192.384 L 707.979 187.728 L 707.947 187.728 L 706.139 187.728 L 706.139 192.384 L 704.603 192.384 L 704.603 181.056 L 707.947 181.056 Q 709.883 181.056, 710.859 181.936 Q 711.835 182.8, 711.835 184.384 Q 711.835 185.584, 711.243 186.4 Q 710.667 187.2, 709.531 187.52 L 712.395 192.384 L 710.715 192.384 M 706.139 186.448 L 707.947 186.448 Q 709.051 186.448, 709.643 185.92 Q 710.235 185.392, 710.235 184.384 Q 710.235 183.376, 709.643 182.864 Q 709.067 182.336, 707.947 182.336 L 706.139 182.336 L 706.139 186.448 \" fill=\"#000000\"/>\n",
       "<path d=\"M 722.299 186.832 L 722.299 191.616 Q 720.683 192.528, 718.299 192.528 Q 715.835 192.528, 714.507 191.024 Q 713.195 189.52, 713.195 186.704 Q 713.195 183.888, 714.507 182.416 Q 715.835 180.928, 718.347 180.928 Q 719.659 180.928, 720.619 181.344 Q 721.579 181.744, 722.251 182.576 L 721.211 183.44 Q 720.155 182.208, 718.347 182.208 Q 716.635 182.208, 715.723 183.36 Q 714.827 184.512, 714.827 186.704 Q 714.827 188.944, 715.755 190.096 Q 716.699 191.248, 718.523 191.248 Q 719.707 191.248, 720.763 190.864 L 720.763 186.832 L 722.299 186.832 \" fill=\"#000000\"/>\n",
       "<path d=\"M 728.411 186.416 Q 729.515 186.736, 730.043 187.456 Q 730.587 188.16, 730.587 189.28 Q 730.587 190.24, 730.107 190.992 Q 729.627 191.728, 728.747 192.144 Q 727.867 192.544, 726.715 192.544 Q 725.499 192.544, 724.587 192.128 Q 723.691 191.696, 722.971 190.832 L 723.883 189.904 Q 724.587 190.672, 725.179 190.976 Q 725.771 191.264, 726.715 191.264 Q 727.739 191.264, 728.363 190.72 Q 728.987 190.16, 728.987 189.264 Q 728.987 188.112, 728.331 187.6 Q 727.691 187.072, 726.299 187.072 L 725.483 187.072 L 725.483 185.92 L 726.203 185.92 Q 727.435 185.904, 728.091 185.376 Q 728.747 184.832, 728.747 183.824 Q 728.747 183.088, 728.203 182.656 Q 727.659 182.208, 726.731 182.208 Q 725.787 182.208, 725.195 182.544 Q 724.619 182.88, 724.171 183.728 L 723.067 183.136 Q 723.467 182.192, 724.427 181.568 Q 725.387 180.928, 726.731 180.928 Q 728.395 180.928, 729.371 181.712 Q 730.347 182.496, 730.347 183.824 Q 730.347 184.736, 729.851 185.392 Q 729.355 186.048, 728.411 186.416 \" fill=\"#000000\"/>\n",
       "</svg>"
      ],
      "text/plain": [
       "<IPython.core.display.SVG object>"
      ]
     },
     "execution_count": 45,
     "metadata": {},
     "output_type": "execute_result"
    }
   ],
   "source": [
    "PandasTools.AddMoleculeColumnToFrame(ligs, \"smiles\")\n",
    "Draw.MolsToGridImage(\n",
    "    mols=list(ligs.ROMol), \n",
    "    legends=list(ligs[\"@chemicalID\"]+', '+ligs[\"@structureId\"]), \n",
    "    molsPerRow=top_num\n",
    ")"
   ]
  },
  {
   "cell_type": "markdown",
   "metadata": {},
   "source": [
    "\n",
    "#### Create protein-ligand ID pairs"
   ]
  },
  {
   "cell_type": "code",
   "execution_count": 46,
   "metadata": {},
   "outputs": [
    {
     "name": "stdout",
     "output_type": "stream",
     "text": [
      "OrderedDict([('5ABW', 'WQQ'), ('4WVP', '3V3'), ('5A0A', 'JJS'), ('2RG3', 'BG1')])\n"
     ]
    }
   ],
   "source": [
    "pairs = collections.OrderedDict()\n",
    "\n",
    "for idx, row in ligs.iterrows():\n",
    "    pairs[str(row[\"@structureId\"])] = str(row[\"@chemicalID\"])\n",
    "\n",
    "print(pairs)\n"
   ]
  },
  {
   "cell_type": "markdown",
   "metadata": {},
   "source": [
    "#### Align PDB structures\n",
    "\n",
    "Since we want to build ligand-based ensemble pharmacophores in the next talktorial, it is necessary to align all structures to each other in 3D.\n",
    "\n",
    "We will use one of our packages, opencadd, which includes a 3D superposition subpackage to guide the structural alignment of the proteins. The approach is based on superposition guided by sequence alignment provided matched residues. There are other methods in the package, but this simple one will be enough for the task at hand.\n"
   ]
  },
  {
   "cell_type": "markdown",
   "metadata": {},
   "source": [
    "\n",
    "##### 1. Get the PDB structure files\n",
    "\n",
    "We now fetch the PDB structure files, i.e. 3D coordinates of the protein, ligand (and if available other atomic or molecular entities such as cofactors, water molecules, and ions) from the PDB using opencadd.structure.superposition.\n",
    "\n",
    "Available file formats are pdb and cif, which store the 3D coordinations of atoms of the protein (and ligand, cofactors, water molecules, and ions) as well as information on bonds between atoms. Here, we work with pdb files.\n"
   ]
  },
  {
   "cell_type": "code",
   "execution_count": 47,
   "metadata": {},
   "outputs": [
    {
     "data": {
      "text/plain": [
       "[<Universe with 2067 atoms>,\n",
       " <Universe with 2051 atoms>,\n",
       " <Universe with 1905 atoms>,\n",
       " <Universe with 1823 atoms>]"
      ]
     },
     "execution_count": 47,
     "metadata": {},
     "output_type": "execute_result"
    }
   ],
   "source": [
    "# Download PDB structures\n",
    "from opencadd.structure.superposition.api import align, METHODS\n",
    "from opencadd.structure.core import Structure\n",
    "structures = [Structure.from_pdbid(pdb_id) for pdb_id in pairs]\n",
    "structures"
   ]
  },
  {
   "cell_type": "markdown",
   "metadata": {},
   "source": [
    "##### 2. Extract protein and ligand\n",
    "\n",
    "Extract protein and ligand from the structure in order to remove solvent and other artifacts of crystallography.\n"
   ]
  },
  {
   "cell_type": "code",
   "execution_count": 48,
   "metadata": {},
   "outputs": [
    {
     "name": "stderr",
     "output_type": "stream",
     "text": [
      "/apps/anaconda3/envs/opencadd/lib/python3.8/site-packages/MDAnalysis/core/topologyattrs.py:2011: VisibleDeprecationWarning: Creating an ndarray from ragged nested sequences (which is a list-or-tuple of lists-or-tuples-or ndarrays with different lengths or shapes) is deprecated. If you meant to do this, you must specify 'dtype=object' when creating the ndarray\n",
      "  np.array(sorted(unique_bonds)), 4)\n"
     ]
    },
    {
     "data": {
      "text/plain": [
       "[<Universe with 1663 atoms>,\n",
       " <Universe with 1664 atoms>,\n",
       " <Universe with 1646 atoms>,\n",
       " <Universe with 1649 atoms>]"
      ]
     },
     "execution_count": 48,
     "metadata": {},
     "output_type": "execute_result"
    }
   ],
   "source": [
    "complexes = [Structure.from_atomgroup(structure.select_atoms(f\"protein or resname {ligand}\")) for structure, ligand in zip(structures, pairs.values())]\n",
    "complexes"
   ]
  },
  {
   "cell_type": "code",
   "execution_count": 49,
   "metadata": {},
   "outputs": [
    {
     "name": "stderr",
     "output_type": "stream",
     "text": [
      "/apps/anaconda3/envs/opencadd/lib/python3.8/site-packages/MDAnalysis/coordinates/PDB.py:722: UserWarning: Unit cell dimensions not found. CRYST1 record set to unitary values.\n",
      "  warnings.warn(\"Unit cell dimensions not found. \"\n",
      "/apps/anaconda3/envs/opencadd/lib/python3.8/site-packages/MDAnalysis/coordinates/PDB.py:1026: UserWarning: Found no information for attr: 'tempfactors' Using default value of '0.0'\n",
      "  warnings.warn(\"Found no information for attr: '{}'\"\n"
     ]
    }
   ],
   "source": [
    "# Write complex to file\n",
    "for complex_, pdb_id in zip(complexes, pairs.keys()):\n",
    "    complex_.write(f\"data/{pdb_id}.pdb\")"
   ]
  },
  {
   "cell_type": "markdown",
   "metadata": {},
   "source": [
    "\n",
    "##### 3. Align proteins\n",
    "\n",
    "Align complexes (based on protein atoms).\n"
   ]
  },
  {
   "cell_type": "code",
   "execution_count": 50,
   "metadata": {},
   "outputs": [
    {
     "data": {
      "application/vnd.jupyter.widget-view+json": {
       "model_id": "fa9bf7bccefc4196a7a84ce9d19ed012",
       "version_major": 2,
       "version_minor": 0
      },
      "text/plain": [
       "NGLWidget()"
      ]
     },
     "metadata": {},
     "output_type": "display_data"
    }
   ],
   "source": [
    "results = align(complexes, method=METHODS[\"mda\"])\n",
    "\n",
    "v = nglview.NGLWidget()\n",
    "for complex_ in complexes:\n",
    "    v.add_component(complex_.atoms)\n",
    "v"
   ]
  },
  {
   "cell_type": "code",
   "execution_count": 51,
   "metadata": {},
   "outputs": [
    {
     "data": {
      "application/vnd.jupyter.widget-view+json": {
       "model_id": "fa9bf7bccefc4196a7a84ce9d19ed012",
       "version_major": 2,
       "version_minor": 0
      },
      "text/plain": [
       "NGLWidget()"
      ]
     },
     "metadata": {},
     "output_type": "display_data"
    }
   ],
   "source": [
    "v"
   ]
  },
  {
   "cell_type": "code",
   "execution_count": 52,
   "metadata": {},
   "outputs": [],
   "source": [
    "v.render_image();"
   ]
  },
  {
   "cell_type": "code",
   "execution_count": 53,
   "metadata": {},
   "outputs": [
    {
     "data": {
      "image/png": "\n",
      "text/plain": [
       "<IPython.core.display.Image object>"
      ]
     },
     "execution_count": 53,
     "metadata": {},
     "output_type": "execute_result"
    }
   ],
   "source": [
    "v._display_image()"
   ]
  },
  {
   "cell_type": "markdown",
   "metadata": {},
   "source": [
    "##### _4. Extract ligands_"
   ]
  },
  {
   "cell_type": "code",
   "execution_count": 54,
   "metadata": {},
   "outputs": [
    {
     "name": "stderr",
     "output_type": "stream",
     "text": [
      "/apps/anaconda3/envs/opencadd/lib/python3.8/site-packages/MDAnalysis/core/topologyattrs.py:2011: VisibleDeprecationWarning: Creating an ndarray from ragged nested sequences (which is a list-or-tuple of lists-or-tuples-or ndarrays with different lengths or shapes) is deprecated. If you meant to do this, you must specify 'dtype=object' when creating the ndarray\n",
      "  np.array(sorted(unique_bonds)), 4)\n"
     ]
    },
    {
     "data": {
      "text/plain": [
       "[<Universe with 36 atoms>,\n",
       " <Universe with 17 atoms>,\n",
       " <Universe with 29 atoms>,\n",
       " <Universe with 19 atoms>]"
      ]
     },
     "execution_count": 54,
     "metadata": {},
     "output_type": "execute_result"
    }
   ],
   "source": [
    "ligands = [Structure.from_atomgroup(complex.select_atoms(f\"resname {ligand}\")) for complex, ligand in zip(complexes, pairs.values())]\n",
    "ligands"
   ]
  },
  {
   "cell_type": "code",
   "execution_count": 55,
   "metadata": {},
   "outputs": [
    {
     "name": "stderr",
     "output_type": "stream",
     "text": [
      "/apps/anaconda3/envs/opencadd/lib/python3.8/site-packages/MDAnalysis/coordinates/PDB.py:722: UserWarning: Unit cell dimensions not found. CRYST1 record set to unitary values.\n",
      "  warnings.warn(\"Unit cell dimensions not found. \"\n",
      "/apps/anaconda3/envs/opencadd/lib/python3.8/site-packages/MDAnalysis/coordinates/PDB.py:1026: UserWarning: Found no information for attr: 'tempfactors' Using default value of '0.0'\n",
      "  warnings.warn(\"Found no information for attr: '{}'\"\n"
     ]
    }
   ],
   "source": [
    "for ligand, pdb_id in zip(ligands, pairs.keys()):\n",
    "    ligand.write(f\"data/{pdb_id}_lig.pdb\")"
   ]
  },
  {
   "cell_type": "code",
   "execution_count": 56,
   "metadata": {},
   "outputs": [
    {
     "data": {
      "text/plain": [
       "['data/5ABW_lig.pdb',\n",
       " 'data/4WVP_lig.pdb',\n",
       " 'data/5A0A_lig.pdb',\n",
       " 'data/2RG3_lig.pdb']"
      ]
     },
     "execution_count": 56,
     "metadata": {},
     "output_type": "execute_result"
    }
   ],
   "source": [
    "mol_files = []\n",
    "for file in glob.glob(\"data/*_lig.pdb\"):\n",
    "    mol_files.append(file)\n",
    "mol_files"
   ]
  },
  {
   "cell_type": "code",
   "execution_count": 57,
   "metadata": {},
   "outputs": [
    {
     "data": {
      "application/vnd.jupyter.widget-view+json": {
       "model_id": "85258ea204a743888e19930f5ec76c30",
       "version_major": 2,
       "version_minor": 0
      },
      "text/plain": [
       "NGLWidget()"
      ]
     },
     "metadata": {},
     "output_type": "display_data"
    }
   ],
   "source": [
    "v = nglview.NGLWidget()\n",
    "\n",
    "ligand_colors = {0: 'magenta', 1: 'cyan', 2: 'yellow', 3: 'grey'}\n",
    "\n",
    "for component_id, ligand in enumerate(ligands):\n",
    "    v.add_component(ligand.atoms)\n",
    "    v.remove_ball_and_stick(component=component_id)\n",
    "    v.add_licorice(component=component_id, colorScheme=\"element\", colorValue=ligand_colors[component_id])\n",
    "v"
   ]
  },
  {
   "cell_type": "code",
   "execution_count": 58,
   "metadata": {},
   "outputs": [],
   "source": [
    "v.render_image();"
   ]
  },
  {
   "cell_type": "code",
   "execution_count": 59,
   "metadata": {},
   "outputs": [
    {
     "data": {
      "image/png": "\n",
      "text/plain": [
       "<IPython.core.display.Image object>"
      ]
     },
     "execution_count": 59,
     "metadata": {},
     "output_type": "execute_result"
    }
   ],
   "source": [
    "v._display_image()"
   ]
  },
  {
   "cell_type": "markdown",
   "metadata": {},
   "source": [
    "## Extract pharmacophore hypothesis\n",
    "\n",
    "### Ligand-based approach (talktorial 9)"
   ]
  },
  {
   "cell_type": "code",
   "execution_count": 60,
   "metadata": {},
   "outputs": [
    {
     "data": {
      "text/plain": [
       "['data/5ABW_lig.pdb',\n",
       " 'data/4WVP_lig.pdb',\n",
       " 'data/5A0A_lig.pdb',\n",
       " 'data/2RG3_lig.pdb']"
      ]
     },
     "execution_count": 60,
     "metadata": {},
     "output_type": "execute_result"
    }
   ],
   "source": [
    "mol_files = list(glob.glob(\"data/*_lig.pdb\"))\n",
    "mol_files"
   ]
  },
  {
   "cell_type": "code",
   "execution_count": 61,
   "metadata": {},
   "outputs": [
    {
     "data": {
      "text/plain": [
       "['5ABW', '4WVP', '5A0A', '2RG3']"
      ]
     },
     "execution_count": 61,
     "metadata": {},
     "output_type": "execute_result"
    }
   ],
   "source": [
    "pdb_ids = [os.path.basename(i).split(\"_\")[0] for i in mol_files]\n",
    "pdb_ids"
   ]
  },
  {
   "cell_type": "code",
   "execution_count": 62,
   "metadata": {},
   "outputs": [
    {
     "name": "stdout",
     "output_type": "stream",
     "text": [
      "CC1NOC(C)C1C1CC(C(O)NCC2CCC(S(C)(O)O)CC2)C(O)N(C2CCCC(Cl)C2)C1C\n",
      "NCCOCCOCCOCCOCCCO\n",
      "CC(O)C1C(C2CCC(CN)NC2)NC(O)N(C2CCCC(C(F)(F)F)C2)C1C\n",
      "CCCC(C(O)OCC(N)CO)N(C)S(O)(O)NC\n",
      "Number of molecules:  4\n"
     ]
    }
   ],
   "source": [
    "# read all ligands from these PDB files using RDKit\n",
    "mols = []\n",
    "for mol_file in mol_files:\n",
    "    mol = Chem.MolFromPDBFile(mol_file, removeHs=False)\n",
    "    if mol is None:\n",
    "        print(mol_file, 'could not be read')\n",
    "    else:\n",
    "        Chem.SanitizeMol(mol)\n",
    "        print(Chem.MolToSmiles(mol))\n",
    "        mols.append(mol)\n",
    "rangeMols = range(1, len(mols)+1)\n",
    "print('Number of molecules: ', len(mols))"
   ]
  },
  {
   "cell_type": "code",
   "execution_count": 63,
   "metadata": {},
   "outputs": [
    {
     "data": {
      "image/svg+xml": [
       "<svg xmlns=\"http://www.w3.org/2000/svg\" xmlns:rdkit=\"http://www.rdkit.org/xml\" xmlns:xlink=\"http://www.w3.org/1999/xlink\" version=\"1.1\" baseProfile=\"full\" xml:space=\"preserve\" width=\"800px\" height=\"200px\" viewBox=\"0 0 800 200\">\n",
       "<!-- END OF HEADER -->\n",
       "<rect style=\"opacity:1.0;fill:#FFFFFF;stroke:none\" width=\"800\" height=\"200\" x=\"0\" y=\"0\"> </rect>\n",
       "<rect style=\"opacity:1.0;fill:#FFFFFF;stroke:none\" width=\"800\" height=\"200\" x=\"0\" y=\"0\"> </rect>\n",
       "<rect style=\"opacity:1.0;fill:#FFFFFF;stroke:none\" width=\"800\" height=\"200\" x=\"0\" y=\"0\"> </rect>\n",
       "<rect style=\"opacity:1.0;fill:#FFFFFF;stroke:none\" width=\"800\" height=\"200\" x=\"0\" y=\"0\"> </rect>\n",
       "<rect style=\"opacity:1.0;fill:#FFFFFF;stroke:none\" width=\"800\" height=\"200\" x=\"0\" y=\"0\"> </rect>\n",
       "<path class=\"bond-0\" d=\"M 86.1327,33.6904 L 87.3453,22.9932\" style=\"fill:none;fill-rule:evenodd;stroke:#000000;stroke-width:2.0px;stroke-linecap:butt;stroke-linejoin:miter;stroke-opacity:1\"/>\n",
       "<path class=\"bond-1\" d=\"M 87.3453,22.9932 L 86.2812,18.4164\" style=\"fill:none;fill-rule:evenodd;stroke:#000000;stroke-width:2.0px;stroke-linecap:butt;stroke-linejoin:miter;stroke-opacity:1\"/>\n",
       "<path class=\"bond-1\" d=\"M 86.2812,18.4164 L 85.2171,13.8395\" style=\"fill:none;fill-rule:evenodd;stroke:#FF0000;stroke-width:2.0px;stroke-linecap:butt;stroke-linejoin:miter;stroke-opacity:1\"/>\n",
       "<path class=\"bond-2\" d=\"M 87.3453,22.9932 L 91.0637,23.2806\" style=\"fill:none;fill-rule:evenodd;stroke:#000000;stroke-width:2.0px;stroke-linecap:butt;stroke-linejoin:miter;stroke-opacity:1\"/>\n",
       "<path class=\"bond-3\" d=\"M 85.3856,8.98672 L 85.8186,7.64123\" style=\"fill:none;fill-rule:evenodd;stroke:#FF0000;stroke-width:2.0px;stroke-linecap:butt;stroke-linejoin:miter;stroke-opacity:1\"/>\n",
       "<path class=\"bond-3\" d=\"M 85.8186,7.64123 L 86.2517,6.29574\" style=\"fill:none;fill-rule:evenodd;stroke:#0000FF;stroke-width:2.0px;stroke-linecap:butt;stroke-linejoin:miter;stroke-opacity:1\"/>\n",
       "<path class=\"bond-4\" d=\"M 88.1204,6.36631 L 89.3181,8.80126\" style=\"fill:none;fill-rule:evenodd;stroke:#0000FF;stroke-width:2.0px;stroke-linecap:butt;stroke-linejoin:miter;stroke-opacity:1\"/>\n",
       "<path class=\"bond-4\" d=\"M 89.3181,8.80126 L 90.5158,11.2362\" style=\"fill:none;fill-rule:evenodd;stroke:#000000;stroke-width:2.0px;stroke-linecap:butt;stroke-linejoin:miter;stroke-opacity:1\"/>\n",
       "<path class=\"bond-5\" d=\"M 90.5158,11.2362 L 93.4708,5.91006\" style=\"fill:none;fill-rule:evenodd;stroke:#000000;stroke-width:2.0px;stroke-linecap:butt;stroke-linejoin:miter;stroke-opacity:1\"/>\n",
       "<path class=\"bond-6\" d=\"M 90.5158,11.2362 L 91.0637,23.2806\" style=\"fill:none;fill-rule:evenodd;stroke:#000000;stroke-width:2.0px;stroke-linecap:butt;stroke-linejoin:miter;stroke-opacity:1\"/>\n",
       "<path class=\"bond-7\" d=\"M 91.0637,23.2806 L 94.3959,33.9599\" style=\"fill:none;fill-rule:evenodd;stroke:#000000;stroke-width:2.0px;stroke-linecap:butt;stroke-linejoin:miter;stroke-opacity:1\"/>\n",
       "<path class=\"bond-8\" d=\"M 94.3959,33.9599 L 104.581,40.4357\" style=\"fill:none;fill-rule:evenodd;stroke:#000000;stroke-width:2.0px;stroke-linecap:butt;stroke-linejoin:miter;stroke-opacity:1\"/>\n",
       "<path class=\"bond-9\" d=\"M 94.3959,33.9599 L 87.8752,38.6573\" style=\"fill:none;fill-rule:evenodd;stroke:#000000;stroke-width:2.0px;stroke-linecap:butt;stroke-linejoin:miter;stroke-opacity:1\"/>\n",
       "<path class=\"bond-10\" d=\"M 104.581,40.4357 L 108.111,51.3574\" style=\"fill:none;fill-rule:evenodd;stroke:#000000;stroke-width:2.0px;stroke-linecap:butt;stroke-linejoin:miter;stroke-opacity:1\"/>\n",
       "<path class=\"bond-11\" d=\"M 87.8752,38.6573 L 76.675,32.433\" style=\"fill:none;fill-rule:evenodd;stroke:#000000;stroke-width:2.0px;stroke-linecap:butt;stroke-linejoin:miter;stroke-opacity:1\"/>\n",
       "<path class=\"bond-12\" d=\"M 87.8752,38.6573 L 89.3296,42.7978\" style=\"fill:none;fill-rule:evenodd;stroke:#000000;stroke-width:2.0px;stroke-linecap:butt;stroke-linejoin:miter;stroke-opacity:1\"/>\n",
       "<path class=\"bond-12\" d=\"M 89.3296,42.7978 L 90.784,46.9383\" style=\"fill:none;fill-rule:evenodd;stroke:#0000FF;stroke-width:2.0px;stroke-linecap:butt;stroke-linejoin:miter;stroke-opacity:1\"/>\n",
       "<path class=\"bond-13\" d=\"M 89.8155,50.7123 L 87.4801,52.4719\" style=\"fill:none;fill-rule:evenodd;stroke:#0000FF;stroke-width:2.0px;stroke-linecap:butt;stroke-linejoin:miter;stroke-opacity:1\"/>\n",
       "<path class=\"bond-13\" d=\"M 87.4801,52.4719 L 85.1447,54.2315\" style=\"fill:none;fill-rule:evenodd;stroke:#000000;stroke-width:2.0px;stroke-linecap:butt;stroke-linejoin:miter;stroke-opacity:1\"/>\n",
       "<path class=\"bond-14\" d=\"M 93.5393,50.5552 L 97.6321,53.1478\" style=\"fill:none;fill-rule:evenodd;stroke:#0000FF;stroke-width:2.0px;stroke-linecap:butt;stroke-linejoin:miter;stroke-opacity:1\"/>\n",
       "<path class=\"bond-14\" d=\"M 97.6321,53.1478 L 101.725,55.7404\" style=\"fill:none;fill-rule:evenodd;stroke:#000000;stroke-width:2.0px;stroke-linecap:butt;stroke-linejoin:miter;stroke-opacity:1\"/>\n",
       "<path class=\"bond-15\" d=\"M 85.1447,54.2315 L 76.6777,59.3892\" style=\"fill:none;fill-rule:evenodd;stroke:#000000;stroke-width:2.0px;stroke-linecap:butt;stroke-linejoin:miter;stroke-opacity:1\"/>\n",
       "<path class=\"bond-16\" d=\"M 85.1447,54.2315 L 89.4829,53.001\" style=\"fill:none;fill-rule:evenodd;stroke:#000000;stroke-width:2.0px;stroke-linecap:butt;stroke-linejoin:miter;stroke-opacity:1\"/>\n",
       "<path class=\"bond-17\" d=\"M 72.8984,61.9637 L 68.4029,65.3688\" style=\"fill:none;fill-rule:evenodd;stroke:#000000;stroke-width:2.0px;stroke-linecap:butt;stroke-linejoin:miter;stroke-opacity:1\"/>\n",
       "<path class=\"bond-18\" d=\"M 68.4029,65.3688 L 62.2651,69.2347\" style=\"fill:none;fill-rule:evenodd;stroke:#000000;stroke-width:2.0px;stroke-linecap:butt;stroke-linejoin:miter;stroke-opacity:1\"/>\n",
       "<path class=\"bond-18\" d=\"M 62.2651,69.2347 L 56.1274,73.1007\" style=\"fill:none;fill-rule:evenodd;stroke:#00CC00;stroke-width:2.0px;stroke-linecap:butt;stroke-linejoin:miter;stroke-opacity:1\"/>\n",
       "<path class=\"bond-19\" d=\"M 68.4029,65.3688 L 70.6837,64.6917\" style=\"fill:none;fill-rule:evenodd;stroke:#000000;stroke-width:2.0px;stroke-linecap:butt;stroke-linejoin:miter;stroke-opacity:1\"/>\n",
       "<path class=\"bond-20\" d=\"M 74.3739,63.0622 L 81.2776,59.1198\" style=\"fill:none;fill-rule:evenodd;stroke:#000000;stroke-width:2.0px;stroke-linecap:butt;stroke-linejoin:miter;stroke-opacity:1\"/>\n",
       "<path class=\"bond-21\" d=\"M 85.0087,56.5715 L 89.4829,53.001\" style=\"fill:none;fill-rule:evenodd;stroke:#000000;stroke-width:2.0px;stroke-linecap:butt;stroke-linejoin:miter;stroke-opacity:1\"/>\n",
       "<path class=\"bond-22\" d=\"M 101.725,55.7404 L 102.658,59.2336\" style=\"fill:none;fill-rule:evenodd;stroke:#000000;stroke-width:2.0px;stroke-linecap:butt;stroke-linejoin:miter;stroke-opacity:1\"/>\n",
       "<path class=\"bond-22\" d=\"M 102.658,59.2336 L 103.592,62.7267\" style=\"fill:none;fill-rule:evenodd;stroke:#FF0000;stroke-width:2.0px;stroke-linecap:butt;stroke-linejoin:miter;stroke-opacity:1\"/>\n",
       "<path class=\"bond-23\" d=\"M 101.725,55.7404 L 108.111,51.3574\" style=\"fill:none;fill-rule:evenodd;stroke:#000000;stroke-width:2.0px;stroke-linecap:butt;stroke-linejoin:miter;stroke-opacity:1\"/>\n",
       "<path class=\"bond-24\" d=\"M 108.111,51.3574 L 119.581,57.0877\" style=\"fill:none;fill-rule:evenodd;stroke:#000000;stroke-width:2.0px;stroke-linecap:butt;stroke-linejoin:miter;stroke-opacity:1\"/>\n",
       "<path class=\"bond-25\" d=\"M 119.581,57.0877 L 121.279,55.7154\" style=\"fill:none;fill-rule:evenodd;stroke:#000000;stroke-width:2.0px;stroke-linecap:butt;stroke-linejoin:miter;stroke-opacity:1\"/>\n",
       "<path class=\"bond-25\" d=\"M 121.279,55.7154 L 122.977,54.3431\" style=\"fill:none;fill-rule:evenodd;stroke:#FF0000;stroke-width:2.0px;stroke-linecap:butt;stroke-linejoin:miter;stroke-opacity:1\"/>\n",
       "<path class=\"bond-26\" d=\"M 119.581,57.0877 L 121.107,60.5687\" style=\"fill:none;fill-rule:evenodd;stroke:#000000;stroke-width:2.0px;stroke-linecap:butt;stroke-linejoin:miter;stroke-opacity:1\"/>\n",
       "<path class=\"bond-26\" d=\"M 121.107,60.5687 L 122.633,64.0497\" style=\"fill:none;fill-rule:evenodd;stroke:#0000FF;stroke-width:2.0px;stroke-linecap:butt;stroke-linejoin:miter;stroke-opacity:1\"/>\n",
       "<path class=\"bond-27\" d=\"M 125.606,67.2702 L 130.479,69.3957\" style=\"fill:none;fill-rule:evenodd;stroke:#0000FF;stroke-width:2.0px;stroke-linecap:butt;stroke-linejoin:miter;stroke-opacity:1\"/>\n",
       "<path class=\"bond-27\" d=\"M 130.479,69.3957 L 135.352,71.5213\" style=\"fill:none;fill-rule:evenodd;stroke:#000000;stroke-width:2.0px;stroke-linecap:butt;stroke-linejoin:miter;stroke-opacity:1\"/>\n",
       "<path class=\"bond-28\" d=\"M 135.352,71.5213 L 135.694,81.5538\" style=\"fill:none;fill-rule:evenodd;stroke:#000000;stroke-width:2.0px;stroke-linecap:butt;stroke-linejoin:miter;stroke-opacity:1\"/>\n",
       "<path class=\"bond-29\" d=\"M 135.694,81.5538 L 125.598,85.892\" style=\"fill:none;fill-rule:evenodd;stroke:#000000;stroke-width:2.0px;stroke-linecap:butt;stroke-linejoin:miter;stroke-opacity:1\"/>\n",
       "<path class=\"bond-30\" d=\"M 135.694,81.5538 L 147.073,86.3141\" style=\"fill:none;fill-rule:evenodd;stroke:#000000;stroke-width:2.0px;stroke-linecap:butt;stroke-linejoin:miter;stroke-opacity:1\"/>\n",
       "<path class=\"bond-31\" d=\"M 125.598,85.892 L 126.901,95.2868\" style=\"fill:none;fill-rule:evenodd;stroke:#000000;stroke-width:2.0px;stroke-linecap:butt;stroke-linejoin:miter;stroke-opacity:1\"/>\n",
       "<path class=\"bond-32\" d=\"M 126.901,95.2868 L 138.191,100.101\" style=\"fill:none;fill-rule:evenodd;stroke:#000000;stroke-width:2.0px;stroke-linecap:butt;stroke-linejoin:miter;stroke-opacity:1\"/>\n",
       "<path class=\"bond-33\" d=\"M 138.191,100.101 L 138.61,104.856\" style=\"fill:none;fill-rule:evenodd;stroke:#000000;stroke-width:2.0px;stroke-linecap:butt;stroke-linejoin:miter;stroke-opacity:1\"/>\n",
       "<path class=\"bond-33\" d=\"M 138.61,104.856 L 139.028,109.611\" style=\"fill:none;fill-rule:evenodd;stroke:#CCCC00;stroke-width:2.0px;stroke-linecap:butt;stroke-linejoin:miter;stroke-opacity:1\"/>\n",
       "<path class=\"bond-34\" d=\"M 138.191,100.101 L 148.322,95.5652\" style=\"fill:none;fill-rule:evenodd;stroke:#000000;stroke-width:2.0px;stroke-linecap:butt;stroke-linejoin:miter;stroke-opacity:1\"/>\n",
       "<path class=\"bond-35\" d=\"M 137.629,111.284 L 133.895,109.559\" style=\"fill:none;fill-rule:evenodd;stroke:#CCCC00;stroke-width:2.0px;stroke-linecap:butt;stroke-linejoin:miter;stroke-opacity:1\"/>\n",
       "<path class=\"bond-35\" d=\"M 133.895,109.559 L 130.161,107.834\" style=\"fill:none;fill-rule:evenodd;stroke:#000000;stroke-width:2.0px;stroke-linecap:butt;stroke-linejoin:miter;stroke-opacity:1\"/>\n",
       "<path class=\"bond-36\" d=\"M 140.926,112.316 L 145.337,113.069\" style=\"fill:none;fill-rule:evenodd;stroke:#CCCC00;stroke-width:2.0px;stroke-linecap:butt;stroke-linejoin:miter;stroke-opacity:1\"/>\n",
       "<path class=\"bond-36\" d=\"M 145.337,113.069 L 149.747,113.822\" style=\"fill:none;fill-rule:evenodd;stroke:#FF0000;stroke-width:2.0px;stroke-linecap:butt;stroke-linejoin:miter;stroke-opacity:1\"/>\n",
       "<path class=\"bond-37\" d=\"M 138.035,114.565 L 136.591,117.603\" style=\"fill:none;fill-rule:evenodd;stroke:#CCCC00;stroke-width:2.0px;stroke-linecap:butt;stroke-linejoin:miter;stroke-opacity:1\"/>\n",
       "<path class=\"bond-37\" d=\"M 136.591,117.603 L 135.147,120.64\" style=\"fill:none;fill-rule:evenodd;stroke:#FF0000;stroke-width:2.0px;stroke-linecap:butt;stroke-linejoin:miter;stroke-opacity:1\"/>\n",
       "<path class=\"bond-38\" d=\"M 148.322,95.5652 L 147.073,86.3141\" style=\"fill:none;fill-rule:evenodd;stroke:#000000;stroke-width:2.0px;stroke-linecap:butt;stroke-linejoin:miter;stroke-opacity:1\"/>\n",
       "<path class=\"atom-2\" d=\"M 82.6828 11.338 Q 82.6828 10.318, 83.1868 9.74802 Q 83.6908 9.17802, 84.6328 9.17802 Q 85.5748 9.17802, 86.0788 9.74802 Q 86.5828 10.318, 86.5828 11.338 Q 86.5828 12.37, 86.0728 12.958 Q 85.5628 13.54, 84.6328 13.54 Q 83.6968 13.54, 83.1868 12.958 Q 82.6828 12.376, 82.6828 11.338 M 84.6328 13.06 Q 85.2808 13.06, 85.6288 12.628 Q 85.9828 12.19, 85.9828 11.338 Q 85.9828 10.504, 85.6288 10.084 Q 85.2808 9.65802, 84.6328 9.65802 Q 83.9848 9.65802, 83.6308 10.078 Q 83.2828 10.498, 83.2828 11.338 Q 83.2828 12.196, 83.6308 12.628 Q 83.9848 13.06, 84.6328 13.06 \" fill=\"#FF0000\"/>\n",
       "<path class=\"atom-3\" d=\"M 86.038 1.91787 L 87.43 4.16787 Q 87.568 4.38987, 87.79 4.79187 Q 88.012 5.19387, 88.024 5.21787 L 88.024 1.91787 L 88.588 1.91787 L 88.588 6.16587 L 88.006 6.16587 L 86.512 3.70587 Q 86.338 3.41787, 86.152 3.08787 Q 85.972 2.75787, 85.918 2.65587 L 85.918 6.16587 L 85.366 6.16587 L 85.366 1.91787 L 86.038 1.91787 \" fill=\"#0000FF\"/>\n",
       "<path class=\"atom-3\" d=\"M 85.315 -2.75493 L 85.891 -2.75493 L 85.891 -0.948926 L 88.063 -0.948926 L 88.063 -2.75493 L 88.639 -2.75493 L 88.639 1.49307 L 88.063 1.49307 L 88.063 -0.468926 L 85.891 -0.468926 L 85.891 1.49307 L 85.315 1.49307 L 85.315 -2.75493 \" fill=\"#0000FF\"/>\n",
       "<path class=\"atom-11\" d=\"M 90.6905 47.2215 L 92.0825 49.4715 Q 92.2205 49.6935, 92.4425 50.0955 Q 92.6645 50.4975, 92.6765 50.5215 L 92.6765 47.2215 L 93.2405 47.2215 L 93.2405 51.4695 L 92.6585 51.4695 L 91.1645 49.0095 Q 90.9905 48.7215, 90.8045 48.3915 Q 90.6245 48.0615, 90.5705 47.9595 L 90.5705 51.4695 L 90.0185 51.4695 L 90.0185 47.2215 L 90.6905 47.2215 \" fill=\"#0000FF\"/>\n",
       "<path class=\"atom-13\" d=\"M 73.097 60.5906 Q 73.097 59.5346, 73.589 58.9826 Q 74.087 58.4246, 75.029 58.4246 Q 75.905 58.4246, 76.373 59.0426 L 75.977 59.3666 Q 75.635 58.9166, 75.029 58.9166 Q 74.387 58.9166, 74.045 59.3486 Q 73.709 59.7746, 73.709 60.5906 Q 73.709 61.4306, 74.057 61.8626 Q 74.411 62.2946, 75.095 62.2946 Q 75.563 62.2946, 76.109 62.0126 L 76.277 62.4626 Q 76.055 62.6066, 75.719 62.6906 Q 75.383 62.7746, 75.011 62.7746 Q 74.087 62.7746, 73.589 62.2106 Q 73.097 61.6466, 73.097 60.5906 \" fill=\"#000000\"/>\n",
       "<path class=\"atom-15\" d=\"M 51.4013 73.6622 Q 51.4013 72.6062, 51.8933 72.0542 Q 52.3913 71.4962, 53.3333 71.4962 Q 54.2093 71.4962, 54.6773 72.1142 L 54.2813 72.4382 Q 53.9393 71.9882, 53.3333 71.9882 Q 52.6913 71.9882, 52.3493 72.4202 Q 52.0133 72.8462, 52.0133 73.6622 Q 52.0133 74.5022, 52.3613 74.9342 Q 52.7153 75.3662, 53.3993 75.3662 Q 53.8673 75.3662, 54.4133 75.0842 L 54.5813 75.5342 Q 54.3593 75.6782, 54.0233 75.7622 Q 53.6873 75.8462, 53.3153 75.8462 Q 52.3913 75.8462, 51.8933 75.2822 Q 51.4013 74.7182, 51.4013 73.6622 \" fill=\"#00CC00\"/>\n",
       "<path class=\"atom-15\" d=\"M 55.1933 71.2382 L 55.7453 71.2382 L 55.7453 75.7922 L 55.1933 75.7922 L 55.1933 71.2382 \" fill=\"#00CC00\"/>\n",
       "<path class=\"atom-16\" d=\"M 70.7887 64.1922 Q 70.7887 63.1362, 71.2807 62.5842 Q 71.7787 62.0262, 72.7207 62.0262 Q 73.5967 62.0262, 74.0647 62.6442 L 73.6687 62.9682 Q 73.3267 62.5182, 72.7207 62.5182 Q 72.0787 62.5182, 71.7367 62.9502 Q 71.4007 63.3762, 71.4007 64.1922 Q 71.4007 65.0322, 71.7487 65.4642 Q 72.1027 65.8962, 72.7867 65.8962 Q 73.2547 65.8962, 73.8007 65.6142 L 73.9687 66.0642 Q 73.7467 66.2082, 73.4107 66.2922 Q 73.0747 66.3762, 72.7027 66.3762 Q 71.7787 66.3762, 71.2807 65.8122 Q 70.7887 65.2482, 70.7887 64.1922 \" fill=\"#000000\"/>\n",
       "<path class=\"atom-17\" d=\"M 81.5308 58.0578 Q 81.5308 57.0018, 82.0228 56.4498 Q 82.5208 55.8918, 83.4628 55.8918 Q 84.3388 55.8918, 84.8068 56.5098 L 84.4108 56.8338 Q 84.0688 56.3838, 83.4628 56.3838 Q 82.8208 56.3838, 82.4788 56.8158 Q 82.1428 57.2418, 82.1428 58.0578 Q 82.1428 58.8978, 82.4908 59.3298 Q 82.8448 59.7618, 83.5288 59.7618 Q 83.9968 59.7618, 84.5428 59.4798 L 84.7108 59.9298 Q 84.4888 60.0738, 84.1528 60.1578 Q 83.8168 60.2418, 83.4448 60.2418 Q 82.5208 60.2418, 82.0228 59.6778 Q 81.5308 59.1138, 81.5308 58.0578 \" fill=\"#000000\"/>\n",
       "<path class=\"atom-20\" d=\"M 102.281 65.1293 Q 102.281 64.1093, 102.785 63.5393 Q 103.289 62.9693, 104.231 62.9693 Q 105.173 62.9693, 105.677 63.5393 Q 106.181 64.1093, 106.181 65.1293 Q 106.181 66.1613, 105.671 66.7493 Q 105.161 67.3313, 104.231 67.3313 Q 103.295 67.3313, 102.785 66.7493 Q 102.281 66.1673, 102.281 65.1293 M 104.231 66.8513 Q 104.879 66.8513, 105.227 66.4193 Q 105.581 65.9813, 105.581 65.1293 Q 105.581 64.2953, 105.227 63.8753 Q 104.879 63.4493, 104.231 63.4493 Q 103.583 63.4493, 103.229 63.8693 Q 102.881 64.2893, 102.881 65.1293 Q 102.881 65.9873, 103.229 66.4193 Q 103.583 66.8513, 104.231 66.8513 \" fill=\"#FF0000\"/>\n",
       "<path class=\"atom-20\" d=\"M 106.691 63.0173 L 107.267 63.0173 L 107.267 64.8233 L 109.439 64.8233 L 109.439 63.0173 L 110.015 63.0173 L 110.015 67.2653 L 109.439 67.2653 L 109.439 65.3033 L 107.267 65.3033 L 107.267 67.2653 L 106.691 67.2653 L 106.691 63.0173 \" fill=\"#FF0000\"/>\n",
       "<path class=\"atom-23\" d=\"M 123.154 52.6358 Q 123.154 51.6158, 123.658 51.0458 Q 124.162 50.4758, 125.104 50.4758 Q 126.046 50.4758, 126.55 51.0458 Q 127.054 51.6158, 127.054 52.6358 Q 127.054 53.6678, 126.544 54.2558 Q 126.034 54.8378, 125.104 54.8378 Q 124.168 54.8378, 123.658 54.2558 Q 123.154 53.6738, 123.154 52.6358 M 125.104 54.3578 Q 125.752 54.3578, 126.1 53.9258 Q 126.454 53.4878, 126.454 52.6358 Q 126.454 51.8018, 126.1 51.3818 Q 125.752 50.9558, 125.104 50.9558 Q 124.456 50.9558, 124.102 51.3758 Q 123.754 51.7958, 123.754 52.6358 Q 123.754 53.4938, 124.102 53.9258 Q 124.456 54.3578, 125.104 54.3578 \" fill=\"#FF0000\"/>\n",
       "<path class=\"atom-23\" d=\"M 127.564 50.5238 L 128.14 50.5238 L 128.14 52.3298 L 130.312 52.3298 L 130.312 50.5238 L 130.888 50.5238 L 130.888 54.7718 L 130.312 54.7718 L 130.312 52.8098 L 128.14 52.8098 L 128.14 54.7718 L 127.564 54.7718 L 127.564 50.5238 \" fill=\"#FF0000\"/>\n",
       "<path class=\"atom-24\" d=\"M 118.243 64.3046 L 118.819 64.3046 L 118.819 66.1106 L 120.991 66.1106 L 120.991 64.3046 L 121.567 64.3046 L 121.567 68.5526 L 120.991 68.5526 L 120.991 66.5906 L 118.819 66.5906 L 118.819 68.5526 L 118.243 68.5526 L 118.243 64.3046 \" fill=\"#0000FF\"/>\n",
       "<path class=\"atom-24\" d=\"M 122.737 64.3046 L 124.129 66.5546 Q 124.267 66.7766, 124.489 67.1786 Q 124.711 67.5806, 124.723 67.6046 L 124.723 64.3046 L 125.287 64.3046 L 125.287 68.5526 L 124.705 68.5526 L 123.211 66.0926 Q 123.037 65.8046, 122.851 65.4746 Q 122.671 65.1446, 122.617 65.0426 L 122.617 68.5526 L 122.065 68.5526 L 122.065 64.3046 L 122.737 64.3046 \" fill=\"#0000FF\"/>\n",
       "<path class=\"atom-30\" d=\"M 138.041 113.487 Q 138.089 113.505, 138.287 113.589 Q 138.485 113.673, 138.701 113.727 Q 138.923 113.775, 139.139 113.775 Q 139.541 113.775, 139.775 113.583 Q 140.009 113.385, 140.009 113.043 Q 140.009 112.809, 139.889 112.665 Q 139.775 112.521, 139.595 112.443 Q 139.415 112.365, 139.115 112.275 Q 138.737 112.161, 138.509 112.053 Q 138.287 111.945, 138.125 111.717 Q 137.969 111.489, 137.969 111.105 Q 137.969 110.571, 138.329 110.241 Q 138.695 109.911, 139.415 109.911 Q 139.907 109.911, 140.465 110.145 L 140.327 110.607 Q 139.817 110.397, 139.433 110.397 Q 139.019 110.397, 138.791 110.571 Q 138.563 110.739, 138.569 111.033 Q 138.569 111.261, 138.683 111.399 Q 138.803 111.537, 138.971 111.615 Q 139.145 111.693, 139.433 111.783 Q 139.817 111.903, 140.045 112.023 Q 140.273 112.143, 140.435 112.389 Q 140.603 112.629, 140.603 113.043 Q 140.603 113.631, 140.207 113.949 Q 139.817 114.261, 139.163 114.261 Q 138.785 114.261, 138.497 114.177 Q 138.215 114.099, 137.879 113.961 L 138.041 113.487 \" fill=\"#CCCC00\"/>\n",
       "<path class=\"atom-32\" d=\"M 150.027 114.214 Q 150.027 113.194, 150.531 112.624 Q 151.035 112.054, 151.977 112.054 Q 152.919 112.054, 153.423 112.624 Q 153.927 113.194, 153.927 114.214 Q 153.927 115.246, 153.417 115.834 Q 152.907 116.416, 151.977 116.416 Q 151.041 116.416, 150.531 115.834 Q 150.027 115.252, 150.027 114.214 M 151.977 115.936 Q 152.625 115.936, 152.973 115.504 Q 153.327 115.066, 153.327 114.214 Q 153.327 113.38, 152.973 112.96 Q 152.625 112.534, 151.977 112.534 Q 151.329 112.534, 150.975 112.954 Q 150.627 113.374, 150.627 114.214 Q 150.627 115.072, 150.975 115.504 Q 151.329 115.936, 151.977 115.936 \" fill=\"#FF0000\"/>\n",
       "<path class=\"atom-32\" d=\"M 154.437 112.102 L 155.013 112.102 L 155.013 113.908 L 157.185 113.908 L 157.185 112.102 L 157.761 112.102 L 157.761 116.35 L 157.185 116.35 L 157.185 114.388 L 155.013 114.388 L 155.013 116.35 L 154.437 116.35 L 154.437 112.102 \" fill=\"#FF0000\"/>\n",
       "<path class=\"atom-33\" d=\"M 128.44 120.922 L 129.016 120.922 L 129.016 122.728 L 131.188 122.728 L 131.188 120.922 L 131.764 120.922 L 131.764 125.17 L 131.188 125.17 L 131.188 123.208 L 129.016 123.208 L 129.016 125.17 L 128.44 125.17 L 128.44 120.922 \" fill=\"#FF0000\"/>\n",
       "<path class=\"atom-33\" d=\"M 132.064 123.034 Q 132.064 122.014, 132.568 121.444 Q 133.072 120.874, 134.014 120.874 Q 134.956 120.874, 135.46 121.444 Q 135.964 122.014, 135.964 123.034 Q 135.964 124.066, 135.454 124.654 Q 134.944 125.236, 134.014 125.236 Q 133.078 125.236, 132.568 124.654 Q 132.064 124.072, 132.064 123.034 M 134.014 124.756 Q 134.662 124.756, 135.01 124.324 Q 135.364 123.886, 135.364 123.034 Q 135.364 122.2, 135.01 121.78 Q 134.662 121.354, 134.014 121.354 Q 133.366 121.354, 133.012 121.774 Q 132.664 122.194, 132.664 123.034 Q 132.664 123.892, 133.012 124.324 Q 133.366 124.756, 134.014 124.756 \" fill=\"#FF0000\"/>\n",
       "<path d=\"M 31.4946 182.856 L 38.2306 182.856 L 38.2306 184.152 L 33.0146 184.152 L 33.0146 187.592 L 37.6546 187.592 L 37.6546 188.904 L 33.0146 188.904 L 33.0146 194.184 L 31.4946 194.184 L 31.4946 182.856 \" fill=\"#000000\"/>\n",
       "<path d=\"M 40.8066 185.96 L 40.9826 187.096 Q 41.8466 185.816, 43.2546 185.816 Q 43.7026 185.816, 44.3106 185.976 L 44.0706 187.32 Q 43.3826 187.16, 42.9986 187.16 Q 42.3266 187.16, 41.8786 187.432 Q 41.4466 187.688, 41.0946 188.312 L 41.0946 194.184 L 39.5906 194.184 L 39.5906 185.96 L 40.8066 185.96 \" fill=\"#000000\"/>\n",
       "<path d=\"M 45.0466 190.056 Q 45.0466 188.056, 46.0546 186.936 Q 47.0786 185.816, 48.9506 185.816 Q 50.8226 185.816, 51.8306 186.936 Q 52.8546 188.056, 52.8546 190.056 Q 52.8546 192.056, 51.8306 193.192 Q 50.8226 194.312, 48.9506 194.312 Q 47.0786 194.312, 46.0546 193.192 Q 45.0466 192.056, 45.0466 190.056 M 46.5826 190.056 Q 46.5826 191.56, 47.1906 192.344 Q 47.8146 193.128, 48.9506 193.128 Q 50.0866 193.128, 50.6946 192.344 Q 51.3186 191.56, 51.3186 190.056 Q 51.3186 188.552, 50.6946 187.784 Q 50.0866 187, 48.9506 187 Q 47.8146 187, 47.1906 187.784 Q 46.5826 188.552, 46.5826 190.056 \" fill=\"#000000\"/>\n",
       "<path d=\"M 63.6706 185.816 Q 65.0626 185.816, 65.7666 186.568 Q 66.4706 187.304, 66.4706 188.744 L 66.4706 194.184 L 64.9666 194.184 L 64.9666 188.856 Q 64.9666 187.88, 64.5826 187.448 Q 64.2146 187, 63.3826 187 Q 62.6626 187, 62.0386 187.352 Q 61.4306 187.688, 61.0626 188.296 Q 61.0786 188.44, 61.0786 188.744 L 61.0786 194.184 L 59.5746 194.184 L 59.5746 188.856 Q 59.5746 187.88, 59.1906 187.448 Q 58.8226 187, 57.9906 187 Q 57.2706 187, 56.6626 187.352 Q 56.0546 187.688, 55.6706 188.28 L 55.6706 194.184 L 54.1666 194.184 L 54.1666 185.96 L 55.3986 185.96 L 55.5586 187.08 Q 56.6306 185.816, 58.2786 185.816 Q 60.2146 185.816, 60.8226 187.256 Q 61.9106 185.816, 63.6706 185.816 \" fill=\"#000000\"/>\n",
       "<path d=\"\" fill=\"#000000\"/>\n",
       "<path d=\"M 75.1746 182.856 Q 77.1106 182.856, 78.0866 183.736 Q 79.0626 184.6, 79.0626 186.184 Q 79.0626 187.752, 78.0546 188.648 Q 77.0626 189.528, 75.1746 189.528 L 73.3666 189.528 L 73.3666 194.184 L 71.8306 194.184 L 71.8306 182.856 L 75.1746 182.856 M 75.1746 188.248 Q 76.2786 188.248, 76.8706 187.72 Q 77.4626 187.192, 77.4626 186.184 Q 77.4626 185.176, 76.8706 184.664 Q 76.2946 184.136, 75.1746 184.136 L 73.3666 184.136 L 73.3666 188.248 L 75.1746 188.248 \" fill=\"#000000\"/>\n",
       "<path d=\"M 84.0866 182.856 Q 86.5986 182.856, 87.9426 184.344 Q 89.2866 185.816, 89.2866 188.488 Q 89.2866 191.176, 87.9266 192.68 Q 86.5826 194.184, 84.0866 194.184 L 80.4226 194.184 L 80.4226 182.856 L 84.0866 182.856 M 84.0866 192.904 Q 85.8146 192.904, 86.7426 191.8 Q 87.6866 190.696, 87.6866 188.488 Q 87.6866 186.296, 86.7426 185.224 Q 85.8146 184.136, 84.0866 184.136 L 81.9586 184.136 L 81.9586 192.904 L 84.0866 192.904 \" fill=\"#000000\"/>\n",
       "<path d=\"M 96.1506 188.232 Q 97.2386 188.536, 97.7826 189.208 Q 98.3426 189.864, 98.3426 190.84 Q 98.3426 192.408, 97.3346 193.304 Q 96.3426 194.184, 94.4546 194.184 L 90.6466 194.184 L 90.6466 182.856 L 93.9906 182.856 Q 95.9266 182.856, 96.9026 183.64 Q 97.8786 184.424, 97.8786 185.864 Q 97.8786 187.576, 96.1506 188.232 M 92.1666 184.136 L 92.1666 187.688 L 93.9906 187.688 Q 95.1106 187.688, 95.6866 187.24 Q 96.2786 186.776, 96.2786 185.864 Q 96.2786 184.136, 93.9906 184.136 L 92.1666 184.136 M 94.4546 192.904 Q 95.5586 192.904, 96.1506 192.376 Q 96.7426 191.848, 96.7426 190.84 Q 96.7426 189.912, 96.0866 189.448 Q 95.4466 188.968, 94.2146 188.968 L 92.1666 188.968 L 92.1666 192.904 L 94.4546 192.904 \" fill=\"#000000\"/>\n",
       "<path d=\"\" fill=\"#000000\"/>\n",
       "<path d=\"M 103.751 182.808 L 105.271 182.808 L 105.271 194.184 L 103.751 194.184 L 103.751 182.808 \" fill=\"#000000\"/>\n",
       "<path d=\"M 110.295 182.856 Q 112.807 182.856, 114.151 184.344 Q 115.495 185.816, 115.495 188.488 Q 115.495 191.176, 114.135 192.68 Q 112.791 194.184, 110.295 194.184 L 106.631 194.184 L 106.631 182.856 L 110.295 182.856 M 110.295 192.904 Q 112.023 192.904, 112.951 191.8 Q 113.895 190.696, 113.895 188.488 Q 113.895 186.296, 112.951 185.224 Q 112.023 184.136, 110.295 184.136 L 108.167 184.136 L 108.167 192.904 L 110.295 192.904 \" fill=\"#000000\"/>\n",
       "<path d=\"M 116.695 192.312 L 118.295 192.312 L 118.295 193.912 L 116.695 193.912 L 116.695 192.312 M 116.695 186.808 L 118.295 186.808 L 118.295 188.408 L 116.695 188.408 L 116.695 186.808 \" fill=\"#000000\"/>\n",
       "<path d=\"\" fill=\"#000000\"/>\n",
       "<path d=\"M 127.143 187.096 Q 128.135 187.096, 128.951 187.528 Q 129.767 187.944, 130.231 188.744 Q 130.695 189.528, 130.695 190.6 Q 130.695 191.768, 130.119 192.616 Q 129.559 193.448, 128.631 193.88 Q 127.703 194.312, 126.647 194.312 Q 125.607 194.312, 124.647 193.928 Q 123.687 193.544, 123.031 192.808 L 123.991 191.816 Q 124.519 192.392, 125.239 192.712 Q 125.959 193.016, 126.695 193.016 Q 127.703 193.016, 128.391 192.392 Q 129.095 191.768, 129.095 190.632 Q 129.095 189.432, 128.391 188.872 Q 127.703 188.296, 126.599 188.296 Q 125.607 188.296, 124.503 188.728 L 123.623 188.312 L 124.167 182.856 L 129.991 182.856 L 129.831 184.136 L 125.479 184.136 L 125.143 187.496 Q 126.151 187.096, 127.143 187.096 \" fill=\"#000000\"/>\n",
       "<path d=\"M 139.239 194.184 L 138.055 190.856 L 133.559 190.856 L 132.423 194.184 L 130.887 194.184 L 134.791 182.856 L 136.679 182.856 L 140.727 194.184 L 139.239 194.184 M 134.007 189.576 L 137.591 189.576 L 135.767 184.44 L 134.007 189.576 \" fill=\"#000000\"/>\n",
       "<path d=\"M 147.591 188.232 Q 148.679 188.536, 149.223 189.208 Q 149.783 189.864, 149.783 190.84 Q 149.783 192.408, 148.775 193.304 Q 147.783 194.184, 145.895 194.184 L 142.087 194.184 L 142.087 182.856 L 145.431 182.856 Q 147.367 182.856, 148.343 183.64 Q 149.319 184.424, 149.319 185.864 Q 149.319 187.576, 147.591 188.232 M 143.607 184.136 L 143.607 187.688 L 145.431 187.688 Q 146.551 187.688, 147.127 187.24 Q 147.719 186.776, 147.719 185.864 Q 147.719 184.136, 145.431 184.136 L 143.607 184.136 M 145.895 192.904 Q 146.999 192.904, 147.591 192.376 Q 148.183 191.848, 148.183 190.84 Q 148.183 189.912, 147.527 189.448 Q 146.887 188.968, 145.655 188.968 L 143.607 188.968 L 143.607 192.904 L 145.895 192.904 \" fill=\"#000000\"/>\n",
       "<path d=\"M 164.327 182.872 L 165.863 182.872 L 162.839 194.184 L 160.519 194.184 L 158.055 184.744 L 155.575 194.184 L 153.255 194.184 L 150.231 182.872 L 151.783 182.872 L 154.439 192.776 L 157.047 182.872 L 159.047 182.872 L 161.655 192.808 L 164.327 182.872 \" fill=\"#000000\"/>\n",
       "<path class=\"bond-0\" d=\"M 366.321,156.668 L 375.842,163.997\" style=\"fill:none;fill-rule:evenodd;stroke:#000000;stroke-width:2.0px;stroke-linecap:butt;stroke-linejoin:miter;stroke-opacity:1\"/>\n",
       "<path class=\"bond-1\" d=\"M 366.321,156.668 L 368.341,152.376\" style=\"fill:none;fill-rule:evenodd;stroke:#000000;stroke-width:2.0px;stroke-linecap:butt;stroke-linejoin:miter;stroke-opacity:1\"/>\n",
       "<path class=\"bond-1\" d=\"M 368.341,152.376 L 370.361,148.084\" style=\"fill:none;fill-rule:evenodd;stroke:#0000FF;stroke-width:2.0px;stroke-linecap:butt;stroke-linejoin:miter;stroke-opacity:1\"/>\n",
       "<path class=\"bond-2\" d=\"M 375.842,163.997 L 376.817,162.145\" style=\"fill:none;fill-rule:evenodd;stroke:#000000;stroke-width:2.0px;stroke-linecap:butt;stroke-linejoin:miter;stroke-opacity:1\"/>\n",
       "<path class=\"bond-2\" d=\"M 376.817,162.145 L 377.792,160.293\" style=\"fill:none;fill-rule:evenodd;stroke:#FF0000;stroke-width:2.0px;stroke-linecap:butt;stroke-linejoin:miter;stroke-opacity:1\"/>\n",
       "<path class=\"bond-3\" d=\"M 390.293,162.048 L 385.796,160.392\" style=\"fill:none;fill-rule:evenodd;stroke:#000000;stroke-width:2.0px;stroke-linecap:butt;stroke-linejoin:miter;stroke-opacity:1\"/>\n",
       "<path class=\"bond-3\" d=\"M 385.796,160.392 L 381.298,158.735\" style=\"fill:none;fill-rule:evenodd;stroke:#FF0000;stroke-width:2.0px;stroke-linecap:butt;stroke-linejoin:miter;stroke-opacity:1\"/>\n",
       "<path class=\"bond-4\" d=\"M 390.293,162.048 L 392.638,155.635\" style=\"fill:none;fill-rule:evenodd;stroke:#000000;stroke-width:2.0px;stroke-linecap:butt;stroke-linejoin:miter;stroke-opacity:1\"/>\n",
       "<path class=\"bond-5\" d=\"M 392.638,155.635 L 392.702,150.673\" style=\"fill:none;fill-rule:evenodd;stroke:#000000;stroke-width:2.0px;stroke-linecap:butt;stroke-linejoin:miter;stroke-opacity:1\"/>\n",
       "<path class=\"bond-5\" d=\"M 392.702,150.673 L 392.766,145.711\" style=\"fill:none;fill-rule:evenodd;stroke:#FF0000;stroke-width:2.0px;stroke-linecap:butt;stroke-linejoin:miter;stroke-opacity:1\"/>\n",
       "<path class=\"bond-6\" d=\"M 397.47,136.019 L 396.383,122.6\" style=\"fill:none;fill-rule:evenodd;stroke:#000000;stroke-width:2.0px;stroke-linecap:butt;stroke-linejoin:miter;stroke-opacity:1\"/>\n",
       "<path class=\"bond-7\" d=\"M 397.47,136.019 L 395.904,138.421\" style=\"fill:none;fill-rule:evenodd;stroke:#000000;stroke-width:2.0px;stroke-linecap:butt;stroke-linejoin:miter;stroke-opacity:1\"/>\n",
       "<path class=\"bond-7\" d=\"M 395.904,138.421 L 394.338,140.824\" style=\"fill:none;fill-rule:evenodd;stroke:#FF0000;stroke-width:2.0px;stroke-linecap:butt;stroke-linejoin:miter;stroke-opacity:1\"/>\n",
       "<path class=\"bond-8\" d=\"M 396.383,122.6 L 391.469,120.922\" style=\"fill:none;fill-rule:evenodd;stroke:#000000;stroke-width:2.0px;stroke-linecap:butt;stroke-linejoin:miter;stroke-opacity:1\"/>\n",
       "<path class=\"bond-8\" d=\"M 391.469,120.922 L 386.554,119.244\" style=\"fill:none;fill-rule:evenodd;stroke:#FF0000;stroke-width:2.0px;stroke-linecap:butt;stroke-linejoin:miter;stroke-opacity:1\"/>\n",
       "<path class=\"bond-9\" d=\"M 377.656,117.651 L 378.887,105.499\" style=\"fill:none;fill-rule:evenodd;stroke:#000000;stroke-width:2.0px;stroke-linecap:butt;stroke-linejoin:miter;stroke-opacity:1\"/>\n",
       "<path class=\"bond-10\" d=\"M 377.656,117.651 L 379.912,117.929\" style=\"fill:none;fill-rule:evenodd;stroke:#000000;stroke-width:2.0px;stroke-linecap:butt;stroke-linejoin:miter;stroke-opacity:1\"/>\n",
       "<path class=\"bond-10\" d=\"M 379.912,117.929 L 382.168,118.207\" style=\"fill:none;fill-rule:evenodd;stroke:#FF0000;stroke-width:2.0px;stroke-linecap:butt;stroke-linejoin:miter;stroke-opacity:1\"/>\n",
       "<path class=\"bond-11\" d=\"M 378.887,105.499 L 376.991,102.527\" style=\"fill:none;fill-rule:evenodd;stroke:#000000;stroke-width:2.0px;stroke-linecap:butt;stroke-linejoin:miter;stroke-opacity:1\"/>\n",
       "<path class=\"bond-11\" d=\"M 376.991,102.527 L 375.096,99.5554\" style=\"fill:none;fill-rule:evenodd;stroke:#FF0000;stroke-width:2.0px;stroke-linecap:butt;stroke-linejoin:miter;stroke-opacity:1\"/>\n",
       "<path class=\"bond-12\" d=\"M 376.075,85.2093 L 370.39,76.9642\" style=\"fill:none;fill-rule:evenodd;stroke:#000000;stroke-width:2.0px;stroke-linecap:butt;stroke-linejoin:miter;stroke-opacity:1\"/>\n",
       "<path class=\"bond-13\" d=\"M 376.075,85.2093 L 375.063,89.9248\" style=\"fill:none;fill-rule:evenodd;stroke:#000000;stroke-width:2.0px;stroke-linecap:butt;stroke-linejoin:miter;stroke-opacity:1\"/>\n",
       "<path class=\"bond-13\" d=\"M 375.063,89.9248 L 374.051,94.6403\" style=\"fill:none;fill-rule:evenodd;stroke:#FF0000;stroke-width:2.0px;stroke-linecap:butt;stroke-linejoin:miter;stroke-opacity:1\"/>\n",
       "<path class=\"bond-14\" d=\"M 370.39,76.9642 L 358.894,78.0065\" style=\"fill:none;fill-rule:evenodd;stroke:#000000;stroke-width:2.0px;stroke-linecap:butt;stroke-linejoin:miter;stroke-opacity:1\"/>\n",
       "<path class=\"bond-15\" d=\"M 355.152,77.9564 L 354.527,77.8752\" style=\"fill:none;fill-rule:evenodd;stroke:#000000;stroke-width:2.0px;stroke-linecap:butt;stroke-linejoin:miter;stroke-opacity:1\"/>\n",
       "<path class=\"bond-15\" d=\"M 354.527,77.8752 L 353.902,77.7941\" style=\"fill:none;fill-rule:evenodd;stroke:#FF0000;stroke-width:2.0px;stroke-linecap:butt;stroke-linejoin:miter;stroke-opacity:1\"/>\n",
       "<path class=\"atom-3\" d=\"M 377.098 157.919 Q 377.098 156.899, 377.602 156.329 Q 378.106 155.759, 379.048 155.759 Q 379.99 155.759, 380.494 156.329 Q 380.998 156.899, 380.998 157.919 Q 380.998 158.951, 380.488 159.539 Q 379.978 160.121, 379.048 160.121 Q 378.112 160.121, 377.602 159.539 Q 377.098 158.957, 377.098 157.919 M 379.048 159.641 Q 379.696 159.641, 380.044 159.209 Q 380.398 158.771, 380.398 157.919 Q 380.398 157.085, 380.044 156.665 Q 379.696 156.239, 379.048 156.239 Q 378.4 156.239, 378.046 156.659 Q 377.698 157.079, 377.698 157.919 Q 377.698 158.777, 378.046 159.209 Q 378.4 159.641, 379.048 159.641 \" fill=\"#FF0000\"/>\n",
       "<path class=\"atom-8\" d=\"M 390.849 143.198 Q 390.849 142.178, 391.353 141.608 Q 391.857 141.038, 392.799 141.038 Q 393.741 141.038, 394.245 141.608 Q 394.749 142.178, 394.749 143.198 Q 394.749 144.23, 394.239 144.818 Q 393.729 145.4, 392.799 145.4 Q 391.863 145.4, 391.353 144.818 Q 390.849 144.236, 390.849 143.198 M 392.799 144.92 Q 393.447 144.92, 393.795 144.488 Q 394.149 144.05, 394.149 143.198 Q 394.149 142.364, 393.795 141.944 Q 393.447 141.518, 392.799 141.518 Q 392.151 141.518, 391.797 141.938 Q 391.449 142.358, 391.449 143.198 Q 391.449 144.056, 391.797 144.488 Q 392.151 144.92, 392.799 144.92 \" fill=\"#FF0000\"/>\n",
       "<path class=\"atom-12\" d=\"M 355.279 78.2037 Q 355.279 77.1477, 355.771 76.5957 Q 356.269 76.0377, 357.211 76.0377 Q 358.087 76.0377, 358.555 76.6557 L 358.159 76.9797 Q 357.817 76.5297, 357.211 76.5297 Q 356.569 76.5297, 356.227 76.9617 Q 355.891 77.3877, 355.891 78.2037 Q 355.891 79.0437, 356.239 79.4757 Q 356.593 79.9077, 357.277 79.9077 Q 357.745 79.9077, 358.291 79.6257 L 358.459 80.0757 Q 358.237 80.2197, 357.901 80.3037 Q 357.565 80.3877, 357.193 80.3877 Q 356.269 80.3877, 355.771 79.8237 Q 355.279 79.2597, 355.279 78.2037 \" fill=\"#000000\"/>\n",
       "<path class=\"atom-13\" d=\"M 370.565 143.532 L 371.957 145.782 Q 372.095 146.004, 372.317 146.406 Q 372.539 146.808, 372.551 146.832 L 372.551 143.532 L 373.115 143.532 L 373.115 147.78 L 372.533 147.78 L 371.039 145.32 Q 370.865 145.032, 370.679 144.702 Q 370.499 144.372, 370.445 144.27 L 370.445 147.78 L 369.893 147.78 L 369.893 143.532 L 370.565 143.532 \" fill=\"#0000FF\"/>\n",
       "<path class=\"atom-13\" d=\"M 373.625 143.532 L 374.201 143.532 L 374.201 145.338 L 376.373 145.338 L 376.373 143.532 L 376.949 143.532 L 376.949 147.78 L 376.373 147.78 L 376.373 145.818 L 374.201 145.818 L 374.201 147.78 L 373.625 147.78 L 373.625 143.532 \" fill=\"#0000FF\"/>\n",
       "<path class=\"atom-13\" d=\"M 377.155 147.631 Q 377.258 147.366, 377.503 147.219 Q 377.749 147.069, 378.089 147.069 Q 378.513 147.069, 378.75 147.298 Q 378.988 147.528, 378.988 147.936 Q 378.988 148.352, 378.679 148.74 Q 378.374 149.128, 377.741 149.587 L 379.036 149.587 L 379.036 149.904 L 377.147 149.904 L 377.147 149.639 Q 377.669 149.267, 377.978 148.989 Q 378.291 148.712, 378.442 148.463 Q 378.592 148.213, 378.592 147.956 Q 378.592 147.686, 378.457 147.536 Q 378.323 147.386, 378.089 147.386 Q 377.863 147.386, 377.713 147.477 Q 377.562 147.568, 377.456 147.77 L 377.155 147.631 \" fill=\"#0000FF\"/>\n",
       "<path class=\"atom-14\" d=\"M 382.335 118.481 Q 382.335 117.461, 382.839 116.891 Q 383.343 116.321, 384.285 116.321 Q 385.227 116.321, 385.731 116.891 Q 386.235 117.461, 386.235 118.481 Q 386.235 119.513, 385.725 120.101 Q 385.215 120.683, 384.285 120.683 Q 383.349 120.683, 382.839 120.101 Q 382.335 119.519, 382.335 118.481 M 384.285 120.203 Q 384.933 120.203, 385.281 119.771 Q 385.635 119.333, 385.635 118.481 Q 385.635 117.647, 385.281 117.227 Q 384.933 116.801, 384.285 116.801 Q 383.637 116.801, 383.283 117.221 Q 382.935 117.641, 382.935 118.481 Q 382.935 119.339, 383.283 119.771 Q 383.637 120.203, 384.285 120.203 \" fill=\"#FF0000\"/>\n",
       "<path class=\"atom-15\" d=\"M 371.575 97.1041 Q 371.575 96.0841, 372.079 95.5141 Q 372.583 94.9441, 373.525 94.9441 Q 374.467 94.9441, 374.971 95.5141 Q 375.475 96.0841, 375.475 97.1041 Q 375.475 98.1361, 374.965 98.7241 Q 374.455 99.3061, 373.525 99.3061 Q 372.589 99.3061, 372.079 98.7241 Q 371.575 98.1421, 371.575 97.1041 M 373.525 98.8261 Q 374.173 98.8261, 374.521 98.3941 Q 374.875 97.9561, 374.875 97.1041 Q 374.875 96.2701, 374.521 95.8501 Q 374.173 95.4241, 373.525 95.4241 Q 372.877 95.4241, 372.523 95.8441 Q 372.175 96.2641, 372.175 97.1041 Q 372.175 97.9621, 372.523 98.3941 Q 372.877 98.8261, 373.525 98.8261 \" fill=\"#FF0000\"/>\n",
       "<path class=\"atom-16\" d=\"M 346.296 75.43 L 346.872 75.43 L 346.872 77.236 L 349.044 77.236 L 349.044 75.43 L 349.62 75.43 L 349.62 79.678 L 349.044 79.678 L 349.044 77.716 L 346.872 77.716 L 346.872 79.678 L 346.296 79.678 L 346.296 75.43 \" fill=\"#FF0000\"/>\n",
       "<path class=\"atom-16\" d=\"M 349.92 77.542 Q 349.92 76.522, 350.424 75.952 Q 350.928 75.382, 351.87 75.382 Q 352.812 75.382, 353.316 75.952 Q 353.82 76.522, 353.82 77.542 Q 353.82 78.574, 353.31 79.162 Q 352.8 79.744, 351.87 79.744 Q 350.934 79.744, 350.424 79.162 Q 349.92 78.58, 349.92 77.542 M 351.87 79.264 Q 352.518 79.264, 352.866 78.832 Q 353.22 78.394, 353.22 77.542 Q 353.22 76.708, 352.866 76.288 Q 352.518 75.862, 351.87 75.862 Q 351.222 75.862, 350.868 76.282 Q 350.52 76.702, 350.52 77.542 Q 350.52 78.4, 350.868 78.832 Q 351.222 79.264, 351.87 79.264 \" fill=\"#FF0000\"/>\n",
       "<path d=\"M 229.812 182.856 L 236.548 182.856 L 236.548 184.152 L 231.332 184.152 L 231.332 187.592 L 235.972 187.592 L 235.972 188.904 L 231.332 188.904 L 231.332 194.184 L 229.812 194.184 L 229.812 182.856 \" fill=\"#000000\"/>\n",
       "<path d=\"M 239.124 185.96 L 239.3 187.096 Q 240.164 185.816, 241.572 185.816 Q 242.02 185.816, 242.628 185.976 L 242.388 187.32 Q 241.7 187.16, 241.316 187.16 Q 240.644 187.16, 240.196 187.432 Q 239.764 187.688, 239.412 188.312 L 239.412 194.184 L 237.908 194.184 L 237.908 185.96 L 239.124 185.96 \" fill=\"#000000\"/>\n",
       "<path d=\"M 243.364 190.056 Q 243.364 188.056, 244.372 186.936 Q 245.396 185.816, 247.268 185.816 Q 249.14 185.816, 250.148 186.936 Q 251.172 188.056, 251.172 190.056 Q 251.172 192.056, 250.148 193.192 Q 249.14 194.312, 247.268 194.312 Q 245.396 194.312, 244.372 193.192 Q 243.364 192.056, 243.364 190.056 M 244.9 190.056 Q 244.9 191.56, 245.508 192.344 Q 246.132 193.128, 247.268 193.128 Q 248.404 193.128, 249.012 192.344 Q 249.636 191.56, 249.636 190.056 Q 249.636 188.552, 249.012 187.784 Q 248.404 187, 247.268 187 Q 246.132 187, 245.508 187.784 Q 244.9 188.552, 244.9 190.056 \" fill=\"#000000\"/>\n",
       "<path d=\"M 261.988 185.816 Q 263.38 185.816, 264.084 186.568 Q 264.788 187.304, 264.788 188.744 L 264.788 194.184 L 263.284 194.184 L 263.284 188.856 Q 263.284 187.88, 262.9 187.448 Q 262.532 187, 261.7 187 Q 260.98 187, 260.356 187.352 Q 259.748 187.688, 259.38 188.296 Q 259.396 188.44, 259.396 188.744 L 259.396 194.184 L 257.892 194.184 L 257.892 188.856 Q 257.892 187.88, 257.508 187.448 Q 257.14 187, 256.308 187 Q 255.588 187, 254.98 187.352 Q 254.372 187.688, 253.988 188.28 L 253.988 194.184 L 252.484 194.184 L 252.484 185.96 L 253.716 185.96 L 253.876 187.08 Q 254.948 185.816, 256.596 185.816 Q 258.532 185.816, 259.14 187.256 Q 260.228 185.816, 261.988 185.816 \" fill=\"#000000\"/>\n",
       "<path d=\"\" fill=\"#000000\"/>\n",
       "<path d=\"M 273.492 182.856 Q 275.428 182.856, 276.404 183.736 Q 277.38 184.6, 277.38 186.184 Q 277.38 187.752, 276.372 188.648 Q 275.38 189.528, 273.492 189.528 L 271.684 189.528 L 271.684 194.184 L 270.148 194.184 L 270.148 182.856 L 273.492 182.856 M 273.492 188.248 Q 274.596 188.248, 275.188 187.72 Q 275.78 187.192, 275.78 186.184 Q 275.78 185.176, 275.188 184.664 Q 274.612 184.136, 273.492 184.136 L 271.684 184.136 L 271.684 188.248 L 273.492 188.248 \" fill=\"#000000\"/>\n",
       "<path d=\"M 282.404 182.856 Q 284.916 182.856, 286.26 184.344 Q 287.604 185.816, 287.604 188.488 Q 287.604 191.176, 286.244 192.68 Q 284.9 194.184, 282.404 194.184 L 278.74 194.184 L 278.74 182.856 L 282.404 182.856 M 282.404 192.904 Q 284.132 192.904, 285.06 191.8 Q 286.004 190.696, 286.004 188.488 Q 286.004 186.296, 285.06 185.224 Q 284.132 184.136, 282.404 184.136 L 280.276 184.136 L 280.276 192.904 L 282.404 192.904 \" fill=\"#000000\"/>\n",
       "<path d=\"M 294.468 188.232 Q 295.556 188.536, 296.1 189.208 Q 296.66 189.864, 296.66 190.84 Q 296.66 192.408, 295.652 193.304 Q 294.66 194.184, 292.772 194.184 L 288.964 194.184 L 288.964 182.856 L 292.308 182.856 Q 294.244 182.856, 295.22 183.64 Q 296.196 184.424, 296.196 185.864 Q 296.196 187.576, 294.468 188.232 M 290.484 184.136 L 290.484 187.688 L 292.308 187.688 Q 293.428 187.688, 294.004 187.24 Q 294.596 186.776, 294.596 185.864 Q 294.596 184.136, 292.308 184.136 L 290.484 184.136 M 292.772 192.904 Q 293.876 192.904, 294.468 192.376 Q 295.06 191.848, 295.06 190.84 Q 295.06 189.912, 294.404 189.448 Q 293.764 188.968, 292.532 188.968 L 290.484 188.968 L 290.484 192.904 L 292.772 192.904 \" fill=\"#000000\"/>\n",
       "<path d=\"\" fill=\"#000000\"/>\n",
       "<path d=\"M 302.068 182.808 L 303.588 182.808 L 303.588 194.184 L 302.068 194.184 L 302.068 182.808 \" fill=\"#000000\"/>\n",
       "<path d=\"M 308.612 182.856 Q 311.124 182.856, 312.468 184.344 Q 313.812 185.816, 313.812 188.488 Q 313.812 191.176, 312.452 192.68 Q 311.108 194.184, 308.612 194.184 L 304.948 194.184 L 304.948 182.856 L 308.612 182.856 M 308.612 192.904 Q 310.34 192.904, 311.268 191.8 Q 312.212 190.696, 312.212 188.488 Q 312.212 186.296, 311.268 185.224 Q 310.34 184.136, 308.612 184.136 L 306.484 184.136 L 306.484 192.904 L 308.612 192.904 \" fill=\"#000000\"/>\n",
       "<path d=\"M 315.012 192.312 L 316.612 192.312 L 316.612 193.912 L 315.012 193.912 L 315.012 192.312 M 315.012 186.808 L 316.612 186.808 L 316.612 188.408 L 315.012 188.408 L 315.012 186.808 \" fill=\"#000000\"/>\n",
       "<path d=\"\" fill=\"#000000\"/>\n",
       "<path d=\"M 328.452 190.296 L 329.812 190.296 L 329.812 191.576 L 328.452 191.576 L 328.452 194.184 L 326.948 194.184 L 326.948 191.576 L 321.092 191.576 L 321.092 190.568 L 326.052 182.856 L 328.452 182.856 L 328.452 190.296 M 322.948 190.296 L 326.948 190.296 L 326.948 183.88 L 322.948 190.296 \" fill=\"#000000\"/>\n",
       "<path d=\"M 344.356 182.872 L 345.892 182.872 L 342.868 194.184 L 340.548 194.184 L 338.084 184.744 L 335.604 194.184 L 333.284 194.184 L 330.26 182.872 L 331.812 182.872 L 334.468 192.776 L 337.076 182.872 L 339.076 182.872 L 341.684 192.808 L 344.356 182.872 \" fill=\"#000000\"/>\n",
       "<path d=\"M 354.18 182.856 L 355.668 182.856 L 351.812 194.184 L 349.924 194.184 L 346.212 182.856 L 347.748 182.856 L 350.9 192.52 L 354.18 182.856 \" fill=\"#000000\"/>\n",
       "<path d=\"M 360.372 182.856 Q 362.308 182.856, 363.284 183.736 Q 364.26 184.6, 364.26 186.184 Q 364.26 187.752, 363.252 188.648 Q 362.26 189.528, 360.372 189.528 L 358.564 189.528 L 358.564 194.184 L 357.028 194.184 L 357.028 182.856 L 360.372 182.856 M 360.372 188.248 Q 361.476 188.248, 362.068 187.72 Q 362.66 187.192, 362.66 186.184 Q 362.66 185.176, 362.068 184.664 Q 361.492 184.136, 360.372 184.136 L 358.564 184.136 L 358.564 188.248 L 360.372 188.248 \" fill=\"#000000\"/>\n",
       "<path class=\"bond-0\" d=\"M 451.878,73.6699 L 454.644,74.0192\" style=\"fill:none;fill-rule:evenodd;stroke:#33CCCC;stroke-width:2.0px;stroke-linecap:butt;stroke-linejoin:miter;stroke-opacity:1\"/>\n",
       "<path class=\"bond-0\" d=\"M 454.644,74.0192 L 457.409,74.3685\" style=\"fill:none;fill-rule:evenodd;stroke:#000000;stroke-width:2.0px;stroke-linecap:butt;stroke-linejoin:miter;stroke-opacity:1\"/>\n",
       "<path class=\"bond-1\" d=\"M 457.409,74.3685 L 458.922,78.7497\" style=\"fill:none;fill-rule:evenodd;stroke:#000000;stroke-width:2.0px;stroke-linecap:butt;stroke-linejoin:miter;stroke-opacity:1\"/>\n",
       "<path class=\"bond-1\" d=\"M 458.922,78.7497 L 460.436,83.1309\" style=\"fill:none;fill-rule:evenodd;stroke:#33CCCC;stroke-width:2.0px;stroke-linecap:butt;stroke-linejoin:miter;stroke-opacity:1\"/>\n",
       "<path class=\"bond-2\" d=\"M 457.409,74.3685 L 454.864,73.367\" style=\"fill:none;fill-rule:evenodd;stroke:#000000;stroke-width:2.0px;stroke-linecap:butt;stroke-linejoin:miter;stroke-opacity:1\"/>\n",
       "<path class=\"bond-2\" d=\"M 454.864,73.367 L 452.318,72.3656\" style=\"fill:none;fill-rule:evenodd;stroke:#33CCCC;stroke-width:2.0px;stroke-linecap:butt;stroke-linejoin:miter;stroke-opacity:1\"/>\n",
       "<path class=\"bond-3\" d=\"M 457.409,74.3685 L 468.322,66.0963\" style=\"fill:none;fill-rule:evenodd;stroke:#000000;stroke-width:2.0px;stroke-linecap:butt;stroke-linejoin:miter;stroke-opacity:1\"/>\n",
       "<path class=\"bond-4\" d=\"M 468.322,66.0963 L 471.696,64.4504\" style=\"fill:none;fill-rule:evenodd;stroke:#000000;stroke-width:2.0px;stroke-linecap:butt;stroke-linejoin:miter;stroke-opacity:1\"/>\n",
       "<path class=\"bond-5\" d=\"M 468.322,66.0963 L 471.369,62.9595\" style=\"fill:none;fill-rule:evenodd;stroke:#000000;stroke-width:2.0px;stroke-linecap:butt;stroke-linejoin:miter;stroke-opacity:1\"/>\n",
       "<path class=\"bond-6\" d=\"M 475.428,62.1744 L 481.736,57.625\" style=\"fill:none;fill-rule:evenodd;stroke:#000000;stroke-width:2.0px;stroke-linecap:butt;stroke-linejoin:miter;stroke-opacity:1\"/>\n",
       "<path class=\"bond-7\" d=\"M 485.439,54.5274 L 488.648,51.4562\" style=\"fill:none;fill-rule:evenodd;stroke:#000000;stroke-width:2.0px;stroke-linecap:butt;stroke-linejoin:miter;stroke-opacity:1\"/>\n",
       "<path class=\"bond-8\" d=\"M 488.648,51.4562 L 483.456,53.7106\" style=\"fill:none;fill-rule:evenodd;stroke:#000000;stroke-width:2.0px;stroke-linecap:butt;stroke-linejoin:miter;stroke-opacity:1\"/>\n",
       "<path class=\"bond-9\" d=\"M 475.135,59.6893 L 483.456,53.7106\" style=\"fill:none;fill-rule:evenodd;stroke:#000000;stroke-width:2.0px;stroke-linecap:butt;stroke-linejoin:miter;stroke-opacity:1\"/>\n",
       "<path class=\"bond-10\" d=\"M 483.456,53.7106 L 485.009,52.0693\" style=\"fill:none;fill-rule:evenodd;stroke:#000000;stroke-width:2.0px;stroke-linecap:butt;stroke-linejoin:miter;stroke-opacity:1\"/>\n",
       "<path class=\"bond-10\" d=\"M 485.009,52.0693 L 486.562,50.428\" style=\"fill:none;fill-rule:evenodd;stroke:#0000FF;stroke-width:2.0px;stroke-linecap:butt;stroke-linejoin:miter;stroke-opacity:1\"/>\n",
       "<path class=\"bond-11\" d=\"M 490.242,49.6234 L 494.142,51.8646\" style=\"fill:none;fill-rule:evenodd;stroke:#0000FF;stroke-width:2.0px;stroke-linecap:butt;stroke-linejoin:miter;stroke-opacity:1\"/>\n",
       "<path class=\"bond-11\" d=\"M 494.142,51.8646 L 498.042,54.1058\" style=\"fill:none;fill-rule:evenodd;stroke:#000000;stroke-width:2.0px;stroke-linecap:butt;stroke-linejoin:miter;stroke-opacity:1\"/>\n",
       "<path class=\"bond-12\" d=\"M 487.409,46.1284 L 485.805,42.0291\" style=\"fill:none;fill-rule:evenodd;stroke:#0000FF;stroke-width:2.0px;stroke-linecap:butt;stroke-linejoin:miter;stroke-opacity:1\"/>\n",
       "<path class=\"bond-12\" d=\"M 485.805,42.0291 L 484.202,37.9298\" style=\"fill:none;fill-rule:evenodd;stroke:#000000;stroke-width:2.0px;stroke-linecap:butt;stroke-linejoin:miter;stroke-opacity:1\"/>\n",
       "<path class=\"bond-13\" d=\"M 498.042,54.1058 L 499.5,57.3559\" style=\"fill:none;fill-rule:evenodd;stroke:#000000;stroke-width:2.0px;stroke-linecap:butt;stroke-linejoin:miter;stroke-opacity:1\"/>\n",
       "<path class=\"bond-13\" d=\"M 499.5,57.3559 L 500.958,60.606\" style=\"fill:none;fill-rule:evenodd;stroke:#FF0000;stroke-width:2.0px;stroke-linecap:butt;stroke-linejoin:miter;stroke-opacity:1\"/>\n",
       "<path class=\"bond-14\" d=\"M 498.042,54.1058 L 499.691,52.7138\" style=\"fill:none;fill-rule:evenodd;stroke:#000000;stroke-width:2.0px;stroke-linecap:butt;stroke-linejoin:miter;stroke-opacity:1\"/>\n",
       "<path class=\"bond-14\" d=\"M 499.691,52.7138 L 501.34,51.3218\" style=\"fill:none;fill-rule:evenodd;stroke:#0000FF;stroke-width:2.0px;stroke-linecap:butt;stroke-linejoin:miter;stroke-opacity:1\"/>\n",
       "<path class=\"bond-15\" d=\"M 484.202,37.9298 L 475.588,30.5917\" style=\"fill:none;fill-rule:evenodd;stroke:#000000;stroke-width:2.0px;stroke-linecap:butt;stroke-linejoin:miter;stroke-opacity:1\"/>\n",
       "<path class=\"bond-16\" d=\"M 484.202,37.9298 L 487.803,34.1215\" style=\"fill:none;fill-rule:evenodd;stroke:#000000;stroke-width:2.0px;stroke-linecap:butt;stroke-linejoin:miter;stroke-opacity:1\"/>\n",
       "<path class=\"bond-17\" d=\"M 487.803,34.1215 L 483.977,22.6968\" style=\"fill:none;fill-rule:evenodd;stroke:#000000;stroke-width:2.0px;stroke-linecap:butt;stroke-linejoin:miter;stroke-opacity:1\"/>\n",
       "<path class=\"bond-18\" d=\"M 487.803,34.1215 L 496.309,41.747\" style=\"fill:none;fill-rule:evenodd;stroke:#000000;stroke-width:2.0px;stroke-linecap:butt;stroke-linejoin:miter;stroke-opacity:1\"/>\n",
       "<path class=\"bond-19\" d=\"M 483.977,22.6968 L 482.129,20.0198\" style=\"fill:none;fill-rule:evenodd;stroke:#000000;stroke-width:2.0px;stroke-linecap:butt;stroke-linejoin:miter;stroke-opacity:1\"/>\n",
       "<path class=\"bond-19\" d=\"M 482.129,20.0198 L 480.28,17.3429\" style=\"fill:none;fill-rule:evenodd;stroke:#FF0000;stroke-width:2.0px;stroke-linecap:butt;stroke-linejoin:miter;stroke-opacity:1\"/>\n",
       "<path class=\"bond-20\" d=\"M 483.977,22.6968 L 486.941,20.7209\" style=\"fill:none;fill-rule:evenodd;stroke:#000000;stroke-width:2.0px;stroke-linecap:butt;stroke-linejoin:miter;stroke-opacity:1\"/>\n",
       "<path class=\"bond-21\" d=\"M 496.309,41.747 L 498.776,44.6723\" style=\"fill:none;fill-rule:evenodd;stroke:#000000;stroke-width:2.0px;stroke-linecap:butt;stroke-linejoin:miter;stroke-opacity:1\"/>\n",
       "<path class=\"bond-21\" d=\"M 498.776,44.6723 L 501.242,47.5977\" style=\"fill:none;fill-rule:evenodd;stroke:#0000FF;stroke-width:2.0px;stroke-linecap:butt;stroke-linejoin:miter;stroke-opacity:1\"/>\n",
       "<path class=\"bond-22\" d=\"M 496.309,41.747 L 490.318,49.7586\" style=\"fill:none;fill-rule:evenodd;stroke:#000000;stroke-width:2.0px;stroke-linecap:butt;stroke-linejoin:miter;stroke-opacity:1\"/>\n",
       "<path class=\"bond-23\" d=\"M 490.318,49.7586 L 496.219,52.1657\" style=\"fill:none;fill-rule:evenodd;stroke:#000000;stroke-width:2.0px;stroke-linecap:butt;stroke-linejoin:miter;stroke-opacity:1\"/>\n",
       "<path class=\"bond-24\" d=\"M 490.318,49.7586 L 479.109,55.0309\" style=\"fill:none;fill-rule:evenodd;stroke:#000000;stroke-width:2.0px;stroke-linecap:butt;stroke-linejoin:miter;stroke-opacity:1\"/>\n",
       "<path class=\"bond-25\" d=\"M 496.219,52.1657 L 494.497,54.9085\" style=\"fill:none;fill-rule:evenodd;stroke:#000000;stroke-width:2.0px;stroke-linecap:butt;stroke-linejoin:miter;stroke-opacity:1\"/>\n",
       "<path class=\"bond-25\" d=\"M 494.497,54.9085 L 492.776,57.6513\" style=\"fill:none;fill-rule:evenodd;stroke:#0000FF;stroke-width:2.0px;stroke-linecap:butt;stroke-linejoin:miter;stroke-opacity:1\"/>\n",
       "<path class=\"bond-26\" d=\"M 489.379,60.898 L 484.76,63.0436\" style=\"fill:none;fill-rule:evenodd;stroke:#0000FF;stroke-width:2.0px;stroke-linecap:butt;stroke-linejoin:miter;stroke-opacity:1\"/>\n",
       "<path class=\"bond-26\" d=\"M 484.76,63.0436 L 480.142,65.1892\" style=\"fill:none;fill-rule:evenodd;stroke:#000000;stroke-width:2.0px;stroke-linecap:butt;stroke-linejoin:miter;stroke-opacity:1\"/>\n",
       "<path class=\"bond-27\" d=\"M 480.142,65.1892 L 477.085,69.9786\" style=\"fill:none;fill-rule:evenodd;stroke:#000000;stroke-width:2.0px;stroke-linecap:butt;stroke-linejoin:miter;stroke-opacity:1\"/>\n",
       "<path class=\"bond-28\" d=\"M 480.142,65.1892 L 474.097,62.5935\" style=\"fill:none;fill-rule:evenodd;stroke:#000000;stroke-width:2.0px;stroke-linecap:butt;stroke-linejoin:miter;stroke-opacity:1\"/>\n",
       "<path class=\"bond-29\" d=\"M 474.086,74.7283 L 473.543,75.5968\" style=\"fill:none;fill-rule:evenodd;stroke:#000000;stroke-width:2.0px;stroke-linecap:butt;stroke-linejoin:miter;stroke-opacity:1\"/>\n",
       "<path class=\"bond-29\" d=\"M 473.543,75.5968 L 473.001,76.4653\" style=\"fill:none;fill-rule:evenodd;stroke:#0000FF;stroke-width:2.0px;stroke-linecap:butt;stroke-linejoin:miter;stroke-opacity:1\"/>\n",
       "<path class=\"bond-30\" d=\"M 474.097,62.5935 L 479.109,55.0309\" style=\"fill:none;fill-rule:evenodd;stroke:#000000;stroke-width:2.0px;stroke-linecap:butt;stroke-linejoin:miter;stroke-opacity:1\"/>\n",
       "<path class=\"atom-0\" d=\"M 449.177 71.3643 L 451.703 71.3643 L 451.703 71.8503 L 449.747 71.8503 L 449.747 73.1403 L 451.487 73.1403 L 451.487 73.6323 L 449.747 73.6323 L 449.747 75.6123 L 449.177 75.6123 L 449.177 71.3643 \" fill=\"#33CCCC\"/>\n",
       "<path class=\"atom-2\" d=\"M 460.008 83.4267 L 462.534 83.4267 L 462.534 83.9127 L 460.578 83.9127 L 460.578 85.2027 L 462.318 85.2027 L 462.318 85.6947 L 460.578 85.6947 L 460.578 87.6747 L 460.008 87.6747 L 460.008 83.4267 \" fill=\"#33CCCC\"/>\n",
       "<path class=\"atom-3\" d=\"M 449.617 69.6757 L 452.143 69.6757 L 452.143 70.1617 L 450.187 70.1617 L 450.187 71.4517 L 451.927 71.4517 L 451.927 71.9437 L 450.187 71.9437 L 450.187 73.9237 L 449.617 73.9237 L 449.617 69.6757 \" fill=\"#33CCCC\"/>\n",
       "<path class=\"atom-5\" d=\"M 471.84 63.5995 Q 471.84 62.5435, 472.332 61.9915 Q 472.83 61.4335, 473.772 61.4335 Q 474.648 61.4335, 475.116 62.0515 L 474.72 62.3755 Q 474.378 61.9255, 473.772 61.9255 Q 473.13 61.9255, 472.788 62.3575 Q 472.452 62.7835, 472.452 63.5995 Q 472.452 64.4395, 472.8 64.8715 Q 473.154 65.3035, 473.838 65.3035 Q 474.306 65.3035, 474.852 65.0215 L 475.02 65.4715 Q 474.798 65.6155, 474.462 65.6995 Q 474.126 65.7835, 473.754 65.7835 Q 472.83 65.7835, 472.332 65.2195 Q 471.84 64.6555, 471.84 63.5995 \" fill=\"#000000\"/>\n",
       "<path class=\"atom-6\" d=\"M 481.989 56.2794 Q 481.989 55.2234, 482.481 54.6714 Q 482.979 54.1134, 483.921 54.1134 Q 484.797 54.1134, 485.265 54.7314 L 484.869 55.0554 Q 484.527 54.6054, 483.921 54.6054 Q 483.279 54.6054, 482.937 55.0374 Q 482.601 55.4634, 482.601 56.2794 Q 482.601 57.1194, 482.949 57.5514 Q 483.303 57.9834, 483.987 57.9834 Q 484.455 57.9834, 485.001 57.7014 L 485.169 58.1514 Q 484.947 58.2954, 484.611 58.3794 Q 484.275 58.4634, 483.903 58.4634 Q 482.979 58.4634, 482.481 57.8994 Q 481.989 57.3354, 481.989 56.2794 \" fill=\"#000000\"/>\n",
       "<path class=\"atom-8\" d=\"M 471.543 61.1115 Q 471.543 60.0555, 472.035 59.5035 Q 472.533 58.9455, 473.475 58.9455 Q 474.351 58.9455, 474.819 59.5635 L 474.423 59.8875 Q 474.081 59.4375, 473.475 59.4375 Q 472.833 59.4375, 472.491 59.8695 Q 472.155 60.2955, 472.155 61.1115 Q 472.155 61.9515, 472.503 62.3835 Q 472.857 62.8155, 473.541 62.8155 Q 474.009 62.8155, 474.555 62.5335 L 474.723 62.9835 Q 474.501 63.1275, 474.165 63.2115 Q 473.829 63.2955, 473.457 63.2955 Q 472.533 63.2955, 472.035 62.7315 Q 471.543 62.1675, 471.543 61.1115 \" fill=\"#000000\"/>\n",
       "<path class=\"atom-10\" d=\"M 487.412 46.4131 L 488.804 48.6631 Q 488.942 48.8851, 489.164 49.2871 Q 489.386 49.6891, 489.398 49.7131 L 489.398 46.4131 L 489.962 46.4131 L 489.962 50.6611 L 489.38 50.6611 L 487.886 48.2011 Q 487.712 47.9131, 487.526 47.5831 Q 487.346 47.2531, 487.292 47.1511 L 487.292 50.6611 L 486.74 50.6611 L 486.74 46.4131 L 487.412 46.4131 \" fill=\"#0000FF\"/>\n",
       "<path class=\"atom-12\" d=\"M 500.08 63.0096 Q 500.08 61.9896, 500.584 61.4196 Q 501.088 60.8496, 502.03 60.8496 Q 502.972 60.8496, 503.476 61.4196 Q 503.98 61.9896, 503.98 63.0096 Q 503.98 64.0416, 503.47 64.6296 Q 502.96 65.2116, 502.03 65.2116 Q 501.094 65.2116, 500.584 64.6296 Q 500.08 64.0476, 500.08 63.0096 M 502.03 64.7316 Q 502.678 64.7316, 503.026 64.2996 Q 503.38 63.8616, 503.38 63.0096 Q 503.38 62.1756, 503.026 61.7556 Q 502.678 61.3296, 502.03 61.3296 Q 501.382 61.3296, 501.028 61.7496 Q 500.68 62.1696, 500.68 63.0096 Q 500.68 63.8676, 501.028 64.2996 Q 501.382 64.7316, 502.03 64.7316 \" fill=\"#FF0000\"/>\n",
       "<path class=\"atom-12\" d=\"M 504.49 60.8976 L 505.066 60.8976 L 505.066 62.7036 L 507.238 62.7036 L 507.238 60.8976 L 507.814 60.8976 L 507.814 65.1456 L 507.238 65.1456 L 507.238 63.1836 L 505.066 63.1836 L 505.066 65.1456 L 504.49 65.1456 L 504.49 60.8976 \" fill=\"#FF0000\"/>\n",
       "<path class=\"atom-17\" d=\"M 473.014 12.7917 L 473.59 12.7917 L 473.59 14.5977 L 475.762 14.5977 L 475.762 12.7917 L 476.338 12.7917 L 476.338 17.0397 L 475.762 17.0397 L 475.762 15.0777 L 473.59 15.0777 L 473.59 17.0397 L 473.014 17.0397 L 473.014 12.7917 \" fill=\"#FF0000\"/>\n",
       "<path class=\"atom-17\" d=\"M 476.638 14.9037 Q 476.638 13.8837, 477.142 13.3137 Q 477.646 12.7437, 478.588 12.7437 Q 479.53 12.7437, 480.034 13.3137 Q 480.538 13.8837, 480.538 14.9037 Q 480.538 15.9357, 480.028 16.5237 Q 479.518 17.1057, 478.588 17.1057 Q 477.652 17.1057, 477.142 16.5237 Q 476.638 15.9417, 476.638 14.9037 M 478.588 16.6257 Q 479.236 16.6257, 479.584 16.1937 Q 479.938 15.7557, 479.938 14.9037 Q 479.938 14.0697, 479.584 13.6497 Q 479.236 13.2237, 478.588 13.2237 Q 477.94 13.2237, 477.586 13.6437 Q 477.238 14.0637, 477.238 14.9037 Q 477.238 15.7617, 477.586 16.1937 Q 477.94 16.6257, 478.588 16.6257 \" fill=\"#FF0000\"/>\n",
       "<path class=\"atom-20\" d=\"M 502.178 47.6975 L 503.57 49.9475 Q 503.708 50.1695, 503.93 50.5715 Q 504.152 50.9735, 504.164 50.9975 L 504.164 47.6975 L 504.728 47.6975 L 504.728 51.9455 L 504.146 51.9455 L 502.652 49.4855 Q 502.478 49.1975, 502.292 48.8675 Q 502.112 48.5375, 502.058 48.4355 L 502.058 51.9455 L 501.506 51.9455 L 501.506 47.6975 L 502.178 47.6975 \" fill=\"#0000FF\"/>\n",
       "<path class=\"atom-20\" d=\"M 505.238 47.6975 L 505.814 47.6975 L 505.814 49.5035 L 507.986 49.5035 L 507.986 47.6975 L 508.562 47.6975 L 508.562 51.9455 L 507.986 51.9455 L 507.986 49.9835 L 505.814 49.9835 L 505.814 51.9455 L 505.238 51.9455 L 505.238 47.6975 \" fill=\"#0000FF\"/>\n",
       "<path class=\"atom-23\" d=\"M 490.358 57.8827 L 491.75 60.1327 Q 491.888 60.3547, 492.11 60.7567 Q 492.332 61.1587, 492.344 61.1827 L 492.344 57.8827 L 492.908 57.8827 L 492.908 62.1307 L 492.326 62.1307 L 490.832 59.6707 Q 490.658 59.3827, 490.472 59.0527 Q 490.292 58.7227, 490.238 58.6207 L 490.238 62.1307 L 489.686 62.1307 L 489.686 57.8827 L 490.358 57.8827 \" fill=\"#0000FF\"/>\n",
       "<path class=\"atom-23\" d=\"M 493.418 57.8827 L 493.994 57.8827 L 493.994 59.6887 L 496.166 59.6887 L 496.166 57.8827 L 496.742 57.8827 L 496.742 62.1307 L 496.166 62.1307 L 496.166 60.1687 L 493.994 60.1687 L 493.994 62.1307 L 493.418 62.1307 L 493.418 57.8827 \" fill=\"#0000FF\"/>\n",
       "<path class=\"atom-25\" d=\"M 473.941 72.3566 Q 473.941 71.3006, 474.433 70.7486 Q 474.931 70.1906, 475.873 70.1906 Q 476.749 70.1906, 477.217 70.8086 L 476.821 71.1326 Q 476.479 70.6826, 475.873 70.6826 Q 475.231 70.6826, 474.889 71.1146 Q 474.553 71.5406, 474.553 72.3566 Q 474.553 73.1966, 474.901 73.6286 Q 475.255 74.0606, 475.939 74.0606 Q 476.407 74.0606, 476.953 73.7786 L 477.121 74.2286 Q 476.899 74.3726, 476.563 74.4566 Q 476.227 74.5406, 475.855 74.5406 Q 474.931 74.5406, 474.433 73.9766 Q 473.941 73.4126, 473.941 72.3566 \" fill=\"#000000\"/>\n",
       "<path class=\"atom-26\" d=\"M 464.08 76.5826 L 464.656 76.5826 L 464.656 78.3886 L 466.828 78.3886 L 466.828 76.5826 L 467.404 76.5826 L 467.404 80.8306 L 466.828 80.8306 L 466.828 78.8686 L 464.656 78.8686 L 464.656 80.8306 L 464.08 80.8306 L 464.08 76.5826 \" fill=\"#0000FF\"/>\n",
       "<path class=\"atom-26\" d=\"M 467.61 80.6816 Q 467.713 80.4163, 467.959 80.2697 Q 468.204 80.1193, 468.545 80.1193 Q 468.969 80.1193, 469.206 80.3489 Q 469.444 80.5786, 469.444 80.9865 Q 469.444 81.4023, 469.135 81.7904 Q 468.83 82.1785, 468.196 82.6378 L 469.491 82.6378 L 469.491 82.9546 L 467.602 82.9546 L 467.602 82.6893 Q 468.125 82.3171, 468.434 82.0399 Q 468.747 81.7627, 468.897 81.5132 Q 469.048 81.2637, 469.048 81.0063 Q 469.048 80.737, 468.913 80.5865 Q 468.779 80.4361, 468.545 80.4361 Q 468.319 80.4361, 468.169 80.5271 Q 468.018 80.6182, 467.911 80.8202 L 467.61 80.6816 \" fill=\"#0000FF\"/>\n",
       "<path class=\"atom-26\" d=\"M 470.661 76.5826 L 472.053 78.8326 Q 472.191 79.0546, 472.413 79.4566 Q 472.635 79.8586, 472.647 79.8826 L 472.647 76.5826 L 473.211 76.5826 L 473.211 80.8306 L 472.629 80.8306 L 471.135 78.3706 Q 470.961 78.0826, 470.775 77.7526 Q 470.595 77.4226, 470.541 77.3206 L 470.541 80.8306 L 469.989 80.8306 L 469.989 76.5826 L 470.661 76.5826 \" fill=\"#0000FF\"/>\n",
       "<path d=\"M 449.541,74.3864 L 449.541,72.5901 L 451.338,72.5901 L 451.338,74.3864 L 449.541,74.3864\" style=\"fill:none;stroke:#FF0000;stroke-width:2px;stroke-linecap:butt;stroke-linejoin:miter;stroke-opacity:1;\"/>\n",
       "<path d=\"M 472.579,64.4796 L 472.579,62.6833 L 474.376,62.6833 L 474.376,64.4796 L 472.579,64.4796\" style=\"fill:none;stroke:#FF0000;stroke-width:2px;stroke-linecap:butt;stroke-linejoin:miter;stroke-opacity:1;\"/>\n",
       "<path d=\"M 482.729,57.1596 L 482.729,55.3632 L 484.525,55.3632 L 484.525,57.1596 L 482.729,57.1596\" style=\"fill:none;stroke:#FF0000;stroke-width:2px;stroke-linecap:butt;stroke-linejoin:miter;stroke-opacity:1;\"/>\n",
       "<path d=\"M 487.749,52.3544 L 487.749,50.558 L 489.546,50.558 L 489.546,52.3544 L 487.749,52.3544\" style=\"fill:none;stroke:#FF0000;stroke-width:2px;stroke-linecap:butt;stroke-linejoin:miter;stroke-opacity:1;\"/>\n",
       "<path d=\"M 497.144,55.0039 L 497.144,53.2076 L 498.941,53.2076 L 498.941,55.0039 L 497.144,55.0039\" style=\"fill:none;stroke:#FF0000;stroke-width:2px;stroke-linecap:butt;stroke-linejoin:miter;stroke-opacity:1;\"/>\n",
       "<path d=\"M 433.029 182.816 L 439.765 182.816 L 439.765 184.112 L 434.549 184.112 L 434.549 187.552 L 439.189 187.552 L 439.189 188.864 L 434.549 188.864 L 434.549 194.144 L 433.029 194.144 L 433.029 182.816 \" fill=\"#000000\"/>\n",
       "<path d=\"M 442.341 185.92 L 442.517 187.056 Q 443.381 185.776, 444.789 185.776 Q 445.237 185.776, 445.845 185.936 L 445.605 187.28 Q 444.917 187.12, 444.533 187.12 Q 443.861 187.12, 443.413 187.392 Q 442.981 187.648, 442.629 188.272 L 442.629 194.144 L 441.125 194.144 L 441.125 185.92 L 442.341 185.92 \" fill=\"#000000\"/>\n",
       "<path d=\"M 446.581 190.016 Q 446.581 188.016, 447.589 186.896 Q 448.613 185.776, 450.485 185.776 Q 452.357 185.776, 453.365 186.896 Q 454.389 188.016, 454.389 190.016 Q 454.389 192.016, 453.365 193.152 Q 452.357 194.272, 450.485 194.272 Q 448.613 194.272, 447.589 193.152 Q 446.581 192.016, 446.581 190.016 M 448.117 190.016 Q 448.117 191.52, 448.725 192.304 Q 449.349 193.088, 450.485 193.088 Q 451.621 193.088, 452.229 192.304 Q 452.853 191.52, 452.853 190.016 Q 452.853 188.512, 452.229 187.744 Q 451.621 186.96, 450.485 186.96 Q 449.349 186.96, 448.725 187.744 Q 448.117 188.512, 448.117 190.016 \" fill=\"#000000\"/>\n",
       "<path d=\"M 465.205 185.776 Q 466.597 185.776, 467.301 186.528 Q 468.005 187.264, 468.005 188.704 L 468.005 194.144 L 466.501 194.144 L 466.501 188.816 Q 466.501 187.84, 466.117 187.408 Q 465.749 186.96, 464.917 186.96 Q 464.197 186.96, 463.573 187.312 Q 462.965 187.648, 462.597 188.256 Q 462.613 188.4, 462.613 188.704 L 462.613 194.144 L 461.109 194.144 L 461.109 188.816 Q 461.109 187.84, 460.725 187.408 Q 460.357 186.96, 459.525 186.96 Q 458.805 186.96, 458.197 187.312 Q 457.589 187.648, 457.205 188.24 L 457.205 194.144 L 455.701 194.144 L 455.701 185.92 L 456.933 185.92 L 457.093 187.04 Q 458.165 185.776, 459.813 185.776 Q 461.749 185.776, 462.357 187.216 Q 463.445 185.776, 465.205 185.776 \" fill=\"#000000\"/>\n",
       "<path d=\"\" fill=\"#000000\"/>\n",
       "<path d=\"M 476.709 182.816 Q 478.645 182.816, 479.621 183.696 Q 480.597 184.56, 480.597 186.144 Q 480.597 187.712, 479.589 188.608 Q 478.597 189.488, 476.709 189.488 L 474.901 189.488 L 474.901 194.144 L 473.365 194.144 L 473.365 182.816 L 476.709 182.816 M 476.709 188.208 Q 477.813 188.208, 478.405 187.68 Q 478.997 187.152, 478.997 186.144 Q 478.997 185.136, 478.405 184.624 Q 477.829 184.096, 476.709 184.096 L 474.901 184.096 L 474.901 188.208 L 476.709 188.208 \" fill=\"#000000\"/>\n",
       "<path d=\"M 485.621 182.816 Q 488.133 182.816, 489.477 184.304 Q 490.821 185.776, 490.821 188.448 Q 490.821 191.136, 489.461 192.64 Q 488.117 194.144, 485.621 194.144 L 481.957 194.144 L 481.957 182.816 L 485.621 182.816 M 485.621 192.864 Q 487.349 192.864, 488.277 191.76 Q 489.221 190.656, 489.221 188.448 Q 489.221 186.256, 488.277 185.184 Q 487.349 184.096, 485.621 184.096 L 483.493 184.096 L 483.493 192.864 L 485.621 192.864 \" fill=\"#000000\"/>\n",
       "<path d=\"M 497.685 188.192 Q 498.773 188.496, 499.317 189.168 Q 499.877 189.824, 499.877 190.8 Q 499.877 192.368, 498.869 193.264 Q 497.877 194.144, 495.989 194.144 L 492.181 194.144 L 492.181 182.816 L 495.525 182.816 Q 497.461 182.816, 498.437 183.6 Q 499.413 184.384, 499.413 185.824 Q 499.413 187.536, 497.685 188.192 M 493.701 184.096 L 493.701 187.648 L 495.525 187.648 Q 496.645 187.648, 497.221 187.2 Q 497.813 186.736, 497.813 185.824 Q 497.813 184.096, 495.525 184.096 L 493.701 184.096 M 495.989 192.864 Q 497.093 192.864, 497.685 192.336 Q 498.277 191.808, 498.277 190.8 Q 498.277 189.872, 497.621 189.408 Q 496.981 188.928, 495.749 188.928 L 493.701 188.928 L 493.701 192.864 L 495.989 192.864 \" fill=\"#000000\"/>\n",
       "<path d=\"\" fill=\"#000000\"/>\n",
       "<path d=\"M 505.285 182.768 L 506.805 182.768 L 506.805 194.144 L 505.285 194.144 L 505.285 182.768 \" fill=\"#000000\"/>\n",
       "<path d=\"M 511.829 182.816 Q 514.341 182.816, 515.685 184.304 Q 517.029 185.776, 517.029 188.448 Q 517.029 191.136, 515.669 192.64 Q 514.325 194.144, 511.829 194.144 L 508.165 194.144 L 508.165 182.816 L 511.829 182.816 M 511.829 192.864 Q 513.557 192.864, 514.485 191.76 Q 515.429 190.656, 515.429 188.448 Q 515.429 186.256, 514.485 185.184 Q 513.557 184.096, 511.829 184.096 L 509.701 184.096 L 509.701 192.864 L 511.829 192.864 \" fill=\"#000000\"/>\n",
       "<path d=\"M 518.229 192.272 L 519.829 192.272 L 519.829 193.872 L 518.229 193.872 L 518.229 192.272 M 518.229 186.768 L 519.829 186.768 L 519.829 188.368 L 518.229 188.368 L 518.229 186.768 \" fill=\"#000000\"/>\n",
       "<path d=\"\" fill=\"#000000\"/>\n",
       "<path d=\"M 528.677 187.056 Q 529.669 187.056, 530.485 187.488 Q 531.301 187.904, 531.765 188.704 Q 532.229 189.488, 532.229 190.56 Q 532.229 191.728, 531.653 192.576 Q 531.093 193.408, 530.165 193.84 Q 529.237 194.272, 528.181 194.272 Q 527.141 194.272, 526.181 193.888 Q 525.221 193.504, 524.565 192.768 L 525.525 191.776 Q 526.053 192.352, 526.773 192.672 Q 527.493 192.976, 528.229 192.976 Q 529.237 192.976, 529.925 192.352 Q 530.629 191.728, 530.629 190.592 Q 530.629 189.392, 529.925 188.832 Q 529.237 188.256, 528.133 188.256 Q 527.141 188.256, 526.037 188.688 L 525.157 188.272 L 525.701 182.816 L 531.525 182.816 L 531.365 184.096 L 527.013 184.096 L 526.677 187.456 Q 527.685 187.056, 528.677 187.056 \" fill=\"#000000\"/>\n",
       "<path d=\"M 540.773 194.144 L 539.589 190.816 L 535.093 190.816 L 533.957 194.144 L 532.421 194.144 L 536.325 182.816 L 538.213 182.816 L 542.261 194.144 L 540.773 194.144 M 535.541 189.536 L 539.125 189.536 L 537.301 184.4 L 535.541 189.536 \" fill=\"#000000\"/>\n",
       "<path d=\"M 547.381 194.272 Q 545.301 194.272, 544.261 192.736 Q 543.237 191.2, 543.237 188.464 Q 543.237 185.728, 544.261 184.208 Q 545.285 182.688, 547.381 182.688 Q 549.477 182.688, 550.501 184.208 Q 551.525 185.728, 551.525 188.464 Q 551.525 191.2, 550.485 192.736 Q 549.461 194.272, 547.381 194.272 M 547.381 192.992 Q 548.613 192.992, 549.269 191.856 Q 549.925 190.704, 549.925 188.464 Q 549.925 186.24, 549.269 185.104 Q 548.613 183.968, 547.381 183.968 Q 546.165 183.968, 545.493 185.104 Q 544.837 186.24, 544.837 188.464 Q 544.837 190.704, 545.493 191.856 Q 546.165 192.992, 547.381 192.992 \" fill=\"#000000\"/>\n",
       "<path d=\"M 560.069 194.144 L 558.885 190.816 L 554.389 190.816 L 553.253 194.144 L 551.717 194.144 L 555.621 182.816 L 557.509 182.816 L 561.557 194.144 L 560.069 194.144 M 554.837 189.536 L 558.421 189.536 L 556.597 184.4 L 554.837 189.536 \" fill=\"#000000\"/>\n",
       "<path class=\"bond-0\" d=\"M 629.032,55.4022 L 628.873,55.733\" style=\"fill:none;fill-rule:evenodd;stroke:#0000FF;stroke-width:2.0px;stroke-linecap:butt;stroke-linejoin:miter;stroke-opacity:1\"/>\n",
       "<path class=\"bond-0\" d=\"M 628.873,55.733 L 628.713,56.0638\" style=\"fill:none;fill-rule:evenodd;stroke:#000000;stroke-width:2.0px;stroke-linecap:butt;stroke-linejoin:miter;stroke-opacity:1\"/>\n",
       "<path class=\"bond-1\" d=\"M 628.713,56.0638 L 635.934,47.2977\" style=\"fill:none;fill-rule:evenodd;stroke:#000000;stroke-width:2.0px;stroke-linecap:butt;stroke-linejoin:miter;stroke-opacity:1\"/>\n",
       "<path class=\"bond-2\" d=\"M 628.713,56.0638 L 615.546,55.2644\" style=\"fill:none;fill-rule:evenodd;stroke:#000000;stroke-width:2.0px;stroke-linecap:butt;stroke-linejoin:miter;stroke-opacity:1\"/>\n",
       "<path class=\"bond-3\" d=\"M 635.934,47.2977 L 641.053,48.022\" style=\"fill:none;fill-rule:evenodd;stroke:#000000;stroke-width:2.0px;stroke-linecap:butt;stroke-linejoin:miter;stroke-opacity:1\"/>\n",
       "<path class=\"bond-3\" d=\"M 641.053,48.022 L 646.171,48.7464\" style=\"fill:none;fill-rule:evenodd;stroke:#FF0000;stroke-width:2.0px;stroke-linecap:butt;stroke-linejoin:miter;stroke-opacity:1\"/>\n",
       "<path class=\"bond-4\" d=\"M 650.6,46.8877 L 652.523,44.9505\" style=\"fill:none;fill-rule:evenodd;stroke:#FF0000;stroke-width:2.0px;stroke-linecap:butt;stroke-linejoin:miter;stroke-opacity:1\"/>\n",
       "<path class=\"bond-4\" d=\"M 652.523,44.9505 L 654.445,43.0134\" style=\"fill:none;fill-rule:evenodd;stroke:#000000;stroke-width:2.0px;stroke-linecap:butt;stroke-linejoin:miter;stroke-opacity:1\"/>\n",
       "<path class=\"bond-5\" d=\"M 615.546,55.2644 L 613.347,52.374\" style=\"fill:none;fill-rule:evenodd;stroke:#000000;stroke-width:2.0px;stroke-linecap:butt;stroke-linejoin:miter;stroke-opacity:1\"/>\n",
       "<path class=\"bond-5\" d=\"M 613.347,52.374 L 611.149,49.4835\" style=\"fill:none;fill-rule:evenodd;stroke:#FF0000;stroke-width:2.0px;stroke-linecap:butt;stroke-linejoin:miter;stroke-opacity:1\"/>\n",
       "<path class=\"bond-6\" d=\"M 665.403,75.2666 L 668.947,65.4207\" style=\"fill:none;fill-rule:evenodd;stroke:#000000;stroke-width:2.0px;stroke-linecap:butt;stroke-linejoin:miter;stroke-opacity:1\"/>\n",
       "<path class=\"bond-7\" d=\"M 670.954,60.5468 L 673.163,55.8213\" style=\"fill:none;fill-rule:evenodd;stroke:#000000;stroke-width:2.0px;stroke-linecap:butt;stroke-linejoin:miter;stroke-opacity:1\"/>\n",
       "<path class=\"bond-8\" d=\"M 673.163,55.8213 L 668.178,43.0134\" style=\"fill:none;fill-rule:evenodd;stroke:#000000;stroke-width:2.0px;stroke-linecap:butt;stroke-linejoin:miter;stroke-opacity:1\"/>\n",
       "<path class=\"bond-9\" d=\"M 668.178,43.0134 L 654.445,43.0134\" style=\"fill:none;fill-rule:evenodd;stroke:#000000;stroke-width:2.0px;stroke-linecap:butt;stroke-linejoin:miter;stroke-opacity:1\"/>\n",
       "<path class=\"bond-10\" d=\"M 668.178,43.0134 L 669.837,40.7021\" style=\"fill:none;fill-rule:evenodd;stroke:#000000;stroke-width:2.0px;stroke-linecap:butt;stroke-linejoin:miter;stroke-opacity:1\"/>\n",
       "<path class=\"bond-10\" d=\"M 669.837,40.7021 L 671.495,38.3908\" style=\"fill:none;fill-rule:evenodd;stroke:#0000FF;stroke-width:2.0px;stroke-linecap:butt;stroke-linejoin:miter;stroke-opacity:1\"/>\n",
       "<path class=\"bond-11\" d=\"M 654.445,43.0134 L 652.789,41.2857\" style=\"fill:none;fill-rule:evenodd;stroke:#000000;stroke-width:2.0px;stroke-linecap:butt;stroke-linejoin:miter;stroke-opacity:1\"/>\n",
       "<path class=\"bond-11\" d=\"M 652.789,41.2857 L 651.132,39.5581\" style=\"fill:none;fill-rule:evenodd;stroke:#FF0000;stroke-width:2.0px;stroke-linecap:butt;stroke-linejoin:miter;stroke-opacity:1\"/>\n",
       "<path class=\"bond-12\" d=\"M 668.511,40.5165 L 669.955,39.1332\" style=\"fill:none;fill-rule:evenodd;stroke:#000000;stroke-width:2.0px;stroke-linecap:butt;stroke-linejoin:miter;stroke-opacity:1\"/>\n",
       "<path class=\"bond-12\" d=\"M 669.955,39.1332 L 671.4,37.7498\" style=\"fill:none;fill-rule:evenodd;stroke:#0000FF;stroke-width:2.0px;stroke-linecap:butt;stroke-linejoin:miter;stroke-opacity:1\"/>\n",
       "<path class=\"bond-13\" d=\"M 689.483,21.8526 L 685.67,19.6633\" style=\"fill:none;fill-rule:evenodd;stroke:#000000;stroke-width:2.0px;stroke-linecap:butt;stroke-linejoin:miter;stroke-opacity:1\"/>\n",
       "<path class=\"bond-13\" d=\"M 685.67,19.6633 L 681.856,17.474\" style=\"fill:none;fill-rule:evenodd;stroke:#0000FF;stroke-width:2.0px;stroke-linecap:butt;stroke-linejoin:miter;stroke-opacity:1\"/>\n",
       "<path class=\"bond-14\" d=\"M 672.778,33.5959 L 672.12,29.5054\" style=\"fill:none;fill-rule:evenodd;stroke:#0000FF;stroke-width:2.0px;stroke-linecap:butt;stroke-linejoin:miter;stroke-opacity:1\"/>\n",
       "<path class=\"bond-14\" d=\"M 672.12,29.5054 L 671.463,25.4149\" style=\"fill:none;fill-rule:evenodd;stroke:#CCCC00;stroke-width:2.0px;stroke-linecap:butt;stroke-linejoin:miter;stroke-opacity:1\"/>\n",
       "<path class=\"bond-15\" d=\"M 678.084,17.7727 L 675.363,19.7645\" style=\"fill:none;fill-rule:evenodd;stroke:#0000FF;stroke-width:2.0px;stroke-linecap:butt;stroke-linejoin:miter;stroke-opacity:1\"/>\n",
       "<path class=\"bond-15\" d=\"M 675.363,19.7645 L 672.641,21.7564\" style=\"fill:none;fill-rule:evenodd;stroke:#CCCC00;stroke-width:2.0px;stroke-linecap:butt;stroke-linejoin:miter;stroke-opacity:1\"/>\n",
       "<path class=\"bond-16\" d=\"M 671.516,21.6731 L 671.289,22.2927\" style=\"fill:none;fill-rule:evenodd;stroke:#FF0000;stroke-width:2.0px;stroke-linecap:butt;stroke-linejoin:miter;stroke-opacity:1\"/>\n",
       "<path class=\"bond-16\" d=\"M 671.289,22.2927 L 671.061,22.9124\" style=\"fill:none;fill-rule:evenodd;stroke:#CCCC00;stroke-width:2.0px;stroke-linecap:butt;stroke-linejoin:miter;stroke-opacity:1\"/>\n",
       "<path class=\"bond-17\" d=\"M 660.981,20.2219 L 665.21,21.3506\" style=\"fill:none;fill-rule:evenodd;stroke:#FF0000;stroke-width:2.0px;stroke-linecap:butt;stroke-linejoin:miter;stroke-opacity:1\"/>\n",
       "<path class=\"bond-17\" d=\"M 665.21,21.3506 L 669.439,22.4792\" style=\"fill:none;fill-rule:evenodd;stroke:#CCCC00;stroke-width:2.0px;stroke-linecap:butt;stroke-linejoin:miter;stroke-opacity:1\"/>\n",
       "<path class=\"atom-0\" d=\"M 629.157 51.0746 L 630.549 53.3246 Q 630.687 53.5466, 630.909 53.9486 Q 631.131 54.3506, 631.143 54.3746 L 631.143 51.0746 L 631.707 51.0746 L 631.707 55.3226 L 631.125 55.3226 L 629.631 52.8626 Q 629.457 52.5746, 629.271 52.2446 Q 629.091 51.9146, 629.037 51.8126 L 629.037 55.3226 L 628.485 55.3226 L 628.485 51.0746 L 629.157 51.0746 \" fill=\"#0000FF\"/>\n",
       "<path class=\"atom-0\" d=\"M 632.217 51.0746 L 632.793 51.0746 L 632.793 52.8806 L 634.965 52.8806 L 634.965 51.0746 L 635.541 51.0746 L 635.541 55.3226 L 634.965 55.3226 L 634.965 53.3606 L 632.793 53.3606 L 632.793 55.3226 L 632.217 55.3226 L 632.217 51.0746 \" fill=\"#0000FF\"/>\n",
       "<path class=\"atom-0\" d=\"M 635.747 55.1736 Q 635.85 54.9083, 636.095 54.7617 Q 636.341 54.6113, 636.681 54.6113 Q 637.105 54.6113, 637.343 54.8409 Q 637.58 55.0706, 637.58 55.4785 Q 637.58 55.8943, 637.272 56.2824 Q 636.967 56.6705, 636.333 57.1298 L 637.628 57.1298 L 637.628 57.4466 L 635.739 57.4466 L 635.739 57.1813 Q 636.262 56.8091, 636.571 56.5319 Q 636.883 56.2547, 637.034 56.0052 Q 637.184 55.7557, 637.184 55.4983 Q 637.184 55.229, 637.05 55.0785 Q 636.915 54.9281, 636.681 54.9281 Q 636.456 54.9281, 636.305 55.0191 Q 636.155 55.1102, 636.048 55.3122 L 635.747 55.1736 \" fill=\"#0000FF\"/>\n",
       "<path class=\"atom-3\" d=\"M 646.487 49.0791 Q 646.487 48.0591, 646.991 47.4891 Q 647.495 46.9191, 648.437 46.9191 Q 649.379 46.9191, 649.883 47.4891 Q 650.387 48.0591, 650.387 49.0791 Q 650.387 50.1111, 649.877 50.6991 Q 649.367 51.2811, 648.437 51.2811 Q 647.501 51.2811, 646.991 50.6991 Q 646.487 50.1171, 646.487 49.0791 M 648.437 50.8011 Q 649.085 50.8011, 649.433 50.3691 Q 649.787 49.9311, 649.787 49.0791 Q 649.787 48.2451, 649.433 47.8251 Q 649.085 47.3991, 648.437 47.3991 Q 647.789 47.3991, 647.435 47.8191 Q 647.087 48.2391, 647.087 49.0791 Q 647.087 49.9371, 647.435 50.3691 Q 647.789 50.8011, 648.437 50.8011 \" fill=\"#FF0000\"/>\n",
       "<path class=\"atom-5\" d=\"M 603.693 44.9102 L 604.269 44.9102 L 604.269 46.7162 L 606.441 46.7162 L 606.441 44.9102 L 607.017 44.9102 L 607.017 49.1582 L 606.441 49.1582 L 606.441 47.1962 L 604.269 47.1962 L 604.269 49.1582 L 603.693 49.1582 L 603.693 44.9102 \" fill=\"#FF0000\"/>\n",
       "<path class=\"atom-5\" d=\"M 607.317 47.0222 Q 607.317 46.0022, 607.821 45.4322 Q 608.325 44.8622, 609.267 44.8622 Q 610.209 44.8622, 610.713 45.4322 Q 611.217 46.0022, 611.217 47.0222 Q 611.217 48.0542, 610.707 48.6422 Q 610.197 49.2242, 609.267 49.2242 Q 608.331 49.2242, 607.821 48.6422 Q 607.317 48.0602, 607.317 47.0222 M 609.267 48.7442 Q 609.915 48.7442, 610.263 48.3122 Q 610.617 47.8742, 610.617 47.0222 Q 610.617 46.1882, 610.263 45.7682 Q 609.915 45.3422, 609.267 45.3422 Q 608.619 45.3422, 608.265 45.7622 Q 607.917 46.1822, 607.917 47.0222 Q 607.917 47.8802, 608.265 48.3122 Q 608.619 48.7442, 609.267 48.7442 \" fill=\"#FF0000\"/>\n",
       "<path class=\"atom-7\" d=\"M 668.22 62.9079 Q 668.22 61.8519, 668.712 61.2999 Q 669.21 60.7419, 670.152 60.7419 Q 671.028 60.7419, 671.496 61.3599 L 671.1 61.6839 Q 670.758 61.2339, 670.152 61.2339 Q 669.51 61.2339, 669.168 61.6659 Q 668.832 62.0919, 668.832 62.9079 Q 668.832 63.7479, 669.18 64.1799 Q 669.534 64.6119, 670.218 64.6119 Q 670.686 64.6119, 671.232 64.3299 L 671.4 64.7799 Q 671.178 64.9239, 670.842 65.0079 Q 670.506 65.0919, 670.134 65.0919 Q 669.21 65.0919, 668.712 64.5279 Q 668.22 63.9639, 668.22 62.9079 \" fill=\"#000000\"/>\n",
       "<path class=\"atom-13\" d=\"M 672.233 33.9286 L 673.625 36.1786 Q 673.763 36.4006, 673.985 36.8026 Q 674.207 37.2046, 674.219 37.2286 L 674.219 33.9286 L 674.783 33.9286 L 674.783 38.1766 L 674.201 38.1766 L 672.707 35.7166 Q 672.533 35.4286, 672.347 35.0986 Q 672.167 34.7686, 672.113 34.6666 L 672.113 38.1766 L 671.561 38.1766 L 671.561 33.9286 L 672.233 33.9286 \" fill=\"#0000FF\"/>\n",
       "<path class=\"atom-14\" d=\"M 679.032 14.2677 L 680.424 16.5177 Q 680.562 16.7397, 680.784 17.1417 Q 681.006 17.5437, 681.018 17.5677 L 681.018 14.2677 L 681.582 14.2677 L 681.582 18.5157 L 681 18.5157 L 679.506 16.0557 Q 679.332 15.7677, 679.146 15.4377 Q 678.966 15.1077, 678.912 15.0057 L 678.912 18.5157 L 678.36 18.5157 L 678.36 14.2677 L 679.032 14.2677 \" fill=\"#0000FF\"/>\n",
       "<path class=\"atom-14\" d=\"M 678.309 9.59489 L 678.885 9.59489 L 678.885 11.4009 L 681.057 11.4009 L 681.057 9.59489 L 681.633 9.59489 L 681.633 13.8429 L 681.057 13.8429 L 681.057 11.8809 L 678.885 11.8809 L 678.885 13.8429 L 678.309 13.8429 L 678.309 9.59489 \" fill=\"#0000FF\"/>\n",
       "<path class=\"atom-15\" d=\"M 643.41 35.219 L 643.986 35.219 L 643.986 37.025 L 646.158 37.025 L 646.158 35.219 L 646.734 35.219 L 646.734 39.467 L 646.158 39.467 L 646.158 37.505 L 643.986 37.505 L 643.986 39.467 L 643.41 39.467 L 643.41 35.219 \" fill=\"#FF0000\"/>\n",
       "<path class=\"atom-15\" d=\"M 647.034 37.331 Q 647.034 36.311, 647.538 35.741 Q 648.042 35.171, 648.984 35.171 Q 649.926 35.171, 650.43 35.741 Q 650.934 36.311, 650.934 37.331 Q 650.934 38.363, 650.424 38.951 Q 649.914 39.533, 648.984 39.533 Q 648.048 39.533, 647.538 38.951 Q 647.034 38.369, 647.034 37.331 M 648.984 39.053 Q 649.632 39.053, 649.98 38.621 Q 650.334 38.183, 650.334 37.331 Q 650.334 36.497, 649.98 36.077 Q 649.632 35.651, 648.984 35.651 Q 648.336 35.651, 647.982 36.071 Q 647.634 36.491, 647.634 37.331 Q 647.634 38.189, 647.982 38.621 Q 648.336 39.053, 648.984 39.053 \" fill=\"#FF0000\"/>\n",
       "<path class=\"atom-16\" d=\"M 670.414 19.3766 Q 670.414 18.3566, 670.918 17.7866 Q 671.422 17.2166, 672.364 17.2166 Q 673.306 17.2166, 673.81 17.7866 Q 674.314 18.3566, 674.314 19.3766 Q 674.314 20.4086, 673.804 20.9966 Q 673.294 21.5786, 672.364 21.5786 Q 671.428 21.5786, 670.918 20.9966 Q 670.414 20.4146, 670.414 19.3766 M 672.364 21.0986 Q 673.012 21.0986, 673.36 20.6666 Q 673.714 20.2286, 673.714 19.3766 Q 673.714 18.5426, 673.36 18.1226 Q 673.012 17.6966, 672.364 17.6966 Q 671.716 17.6966, 671.362 18.1166 Q 671.014 18.5366, 671.014 19.3766 Q 671.014 20.2346, 671.362 20.6666 Q 671.716 21.0986, 672.364 21.0986 \" fill=\"#FF0000\"/>\n",
       "<path class=\"atom-16\" d=\"M 674.824 17.2646 L 675.4 17.2646 L 675.4 19.0706 L 677.572 19.0706 L 677.572 17.2646 L 678.148 17.2646 L 678.148 21.5126 L 677.572 21.5126 L 677.572 19.5506 L 675.4 19.5506 L 675.4 21.5126 L 674.824 21.5126 L 674.824 17.2646 \" fill=\"#FF0000\"/>\n",
       "<path class=\"atom-17\" d=\"M 653.138 17.5161 L 653.714 17.5161 L 653.714 19.3221 L 655.886 19.3221 L 655.886 17.5161 L 656.462 17.5161 L 656.462 21.7641 L 655.886 21.7641 L 655.886 19.8021 L 653.714 19.8021 L 653.714 21.7641 L 653.138 21.7641 L 653.138 17.5161 \" fill=\"#FF0000\"/>\n",
       "<path class=\"atom-17\" d=\"M 656.762 19.6281 Q 656.762 18.6081, 657.266 18.0381 Q 657.77 17.4681, 658.712 17.4681 Q 659.654 17.4681, 660.158 18.0381 Q 660.662 18.6081, 660.662 19.6281 Q 660.662 20.6601, 660.152 21.2481 Q 659.642 21.8301, 658.712 21.8301 Q 657.776 21.8301, 657.266 21.2481 Q 656.762 20.6661, 656.762 19.6281 M 658.712 21.3501 Q 659.36 21.3501, 659.708 20.9181 Q 660.062 20.4801, 660.062 19.6281 Q 660.062 18.7941, 659.708 18.3741 Q 659.36 17.9481, 658.712 17.9481 Q 658.064 17.9481, 657.71 18.3681 Q 657.362 18.7881, 657.362 19.6281 Q 657.362 20.4861, 657.71 20.9181 Q 658.064 21.3501, 658.712 21.3501 \" fill=\"#FF0000\"/>\n",
       "<path class=\"atom-18\" d=\"M 669.861 24.3704 Q 669.909 24.3884, 670.107 24.4724 Q 670.305 24.5564, 670.521 24.6104 Q 670.743 24.6584, 670.959 24.6584 Q 671.361 24.6584, 671.595 24.4664 Q 671.829 24.2684, 671.829 23.9264 Q 671.829 23.6924, 671.709 23.5484 Q 671.595 23.4044, 671.415 23.3264 Q 671.235 23.2484, 670.935 23.1584 Q 670.557 23.0444, 670.329 22.9364 Q 670.107 22.8284, 669.945 22.6004 Q 669.789 22.3724, 669.789 21.9884 Q 669.789 21.4544, 670.149 21.1244 Q 670.515 20.7944, 671.235 20.7944 Q 671.727 20.7944, 672.285 21.0284 L 672.147 21.4904 Q 671.637 21.2804, 671.253 21.2804 Q 670.839 21.2804, 670.611 21.4544 Q 670.383 21.6224, 670.389 21.9164 Q 670.389 22.1444, 670.503 22.2824 Q 670.623 22.4204, 670.791 22.4984 Q 670.965 22.5764, 671.253 22.6664 Q 671.637 22.7864, 671.865 22.9064 Q 672.093 23.0264, 672.255 23.2724 Q 672.423 23.5124, 672.423 23.9264 Q 672.423 24.5144, 672.027 24.8324 Q 671.637 25.1444, 670.983 25.1444 Q 670.605 25.1444, 670.317 25.0604 Q 670.035 24.9824, 669.699 24.8444 L 669.861 24.3704 \" fill=\"#CCCC00\"/>\n",
       "<path d=\"M 667.28,43.9116 L 667.28,42.1152 L 669.077,42.1152 L 669.077,43.9116 L 667.28,43.9116\" style=\"fill:none;stroke:#FF0000;stroke-width:2px;stroke-linecap:butt;stroke-linejoin:miter;stroke-opacity:1;\"/>\n",
       "<path d=\"M 633.701 182.784 L 640.437 182.784 L 640.437 184.08 L 635.221 184.08 L 635.221 187.52 L 639.861 187.52 L 639.861 188.832 L 635.221 188.832 L 635.221 194.112 L 633.701 194.112 L 633.701 182.784 \" fill=\"#000000\"/>\n",
       "<path d=\"M 643.013 185.888 L 643.189 187.024 Q 644.053 185.744, 645.461 185.744 Q 645.909 185.744, 646.517 185.904 L 646.277 187.248 Q 645.589 187.088, 645.205 187.088 Q 644.533 187.088, 644.085 187.36 Q 643.653 187.616, 643.301 188.24 L 643.301 194.112 L 641.797 194.112 L 641.797 185.888 L 643.013 185.888 \" fill=\"#000000\"/>\n",
       "<path d=\"M 647.253 189.984 Q 647.253 187.984, 648.261 186.864 Q 649.285 185.744, 651.157 185.744 Q 653.029 185.744, 654.037 186.864 Q 655.061 187.984, 655.061 189.984 Q 655.061 191.984, 654.037 193.12 Q 653.029 194.24, 651.157 194.24 Q 649.285 194.24, 648.261 193.12 Q 647.253 191.984, 647.253 189.984 M 648.789 189.984 Q 648.789 191.488, 649.397 192.272 Q 650.021 193.056, 651.157 193.056 Q 652.293 193.056, 652.901 192.272 Q 653.525 191.488, 653.525 189.984 Q 653.525 188.48, 652.901 187.712 Q 652.293 186.928, 651.157 186.928 Q 650.021 186.928, 649.397 187.712 Q 648.789 188.48, 648.789 189.984 \" fill=\"#000000\"/>\n",
       "<path d=\"M 665.877 185.744 Q 667.269 185.744, 667.973 186.496 Q 668.677 187.232, 668.677 188.672 L 668.677 194.112 L 667.173 194.112 L 667.173 188.784 Q 667.173 187.808, 666.789 187.376 Q 666.421 186.928, 665.589 186.928 Q 664.869 186.928, 664.245 187.28 Q 663.637 187.616, 663.269 188.224 Q 663.285 188.368, 663.285 188.672 L 663.285 194.112 L 661.781 194.112 L 661.781 188.784 Q 661.781 187.808, 661.397 187.376 Q 661.029 186.928, 660.197 186.928 Q 659.477 186.928, 658.869 187.28 Q 658.261 187.616, 657.877 188.208 L 657.877 194.112 L 656.373 194.112 L 656.373 185.888 L 657.605 185.888 L 657.765 187.008 Q 658.837 185.744, 660.485 185.744 Q 662.421 185.744, 663.029 187.184 Q 664.117 185.744, 665.877 185.744 \" fill=\"#000000\"/>\n",
       "<path d=\"\" fill=\"#000000\"/>\n",
       "<path d=\"M 677.381 182.784 Q 679.317 182.784, 680.293 183.664 Q 681.269 184.528, 681.269 186.112 Q 681.269 187.68, 680.261 188.576 Q 679.269 189.456, 677.381 189.456 L 675.573 189.456 L 675.573 194.112 L 674.037 194.112 L 674.037 182.784 L 677.381 182.784 M 677.381 188.176 Q 678.485 188.176, 679.077 187.648 Q 679.669 187.12, 679.669 186.112 Q 679.669 185.104, 679.077 184.592 Q 678.501 184.064, 677.381 184.064 L 675.573 184.064 L 675.573 188.176 L 677.381 188.176 \" fill=\"#000000\"/>\n",
       "<path d=\"M 686.293 182.784 Q 688.805 182.784, 690.149 184.272 Q 691.493 185.744, 691.493 188.416 Q 691.493 191.104, 690.133 192.608 Q 688.789 194.112, 686.293 194.112 L 682.629 194.112 L 682.629 182.784 L 686.293 182.784 M 686.293 192.832 Q 688.021 192.832, 688.949 191.728 Q 689.893 190.624, 689.893 188.416 Q 689.893 186.224, 688.949 185.152 Q 688.021 184.064, 686.293 184.064 L 684.165 184.064 L 684.165 192.832 L 686.293 192.832 \" fill=\"#000000\"/>\n",
       "<path d=\"M 698.357 188.16 Q 699.445 188.464, 699.989 189.136 Q 700.549 189.792, 700.549 190.768 Q 700.549 192.336, 699.541 193.232 Q 698.549 194.112, 696.661 194.112 L 692.853 194.112 L 692.853 182.784 L 696.197 182.784 Q 698.133 182.784, 699.109 183.568 Q 700.085 184.352, 700.085 185.792 Q 700.085 187.504, 698.357 188.16 M 694.373 184.064 L 694.373 187.616 L 696.197 187.616 Q 697.317 187.616, 697.893 187.168 Q 698.485 186.704, 698.485 185.792 Q 698.485 184.064, 696.197 184.064 L 694.373 184.064 M 696.661 192.832 Q 697.765 192.832, 698.357 192.304 Q 698.949 191.776, 698.949 190.768 Q 698.949 189.84, 698.293 189.376 Q 697.653 188.896, 696.421 188.896 L 694.373 188.896 L 694.373 192.832 L 696.661 192.832 \" fill=\"#000000\"/>\n",
       "<path d=\"\" fill=\"#000000\"/>\n",
       "<path d=\"M 705.957 182.736 L 707.477 182.736 L 707.477 194.112 L 705.957 194.112 L 705.957 182.736 \" fill=\"#000000\"/>\n",
       "<path d=\"M 712.501 182.784 Q 715.013 182.784, 716.357 184.272 Q 717.701 185.744, 717.701 188.416 Q 717.701 191.104, 716.341 192.608 Q 714.997 194.112, 712.501 194.112 L 708.837 194.112 L 708.837 182.784 L 712.501 182.784 M 712.501 192.832 Q 714.229 192.832, 715.157 191.728 Q 716.101 190.624, 716.101 188.416 Q 716.101 186.224, 715.157 185.152 Q 714.229 184.064, 712.501 184.064 L 710.373 184.064 L 710.373 192.832 L 712.501 192.832 \" fill=\"#000000\"/>\n",
       "<path d=\"M 718.901 192.24 L 720.501 192.24 L 720.501 193.84 L 718.901 193.84 L 718.901 192.24 M 718.901 186.736 L 720.501 186.736 L 720.501 188.336 L 718.901 188.336 L 718.901 186.736 \" fill=\"#000000\"/>\n",
       "<path d=\"\" fill=\"#000000\"/>\n",
       "<path d=\"M 725.333 184.928 Q 725.749 183.856, 726.741 183.264 Q 727.733 182.656, 729.109 182.656 Q 730.821 182.656, 731.781 183.584 Q 732.741 184.512, 732.741 186.16 Q 732.741 187.84, 731.493 189.408 Q 730.261 190.976, 727.701 192.832 L 732.933 192.832 L 732.933 194.112 L 725.301 194.112 L 725.301 193.04 Q 727.413 191.536, 728.661 190.416 Q 729.925 189.296, 730.533 188.288 Q 731.141 187.28, 731.141 186.24 Q 731.141 185.152, 730.597 184.544 Q 730.053 183.936, 729.109 183.936 Q 728.197 183.936, 727.589 184.304 Q 726.981 184.672, 726.549 185.488 L 725.333 184.928 \" fill=\"#000000\"/>\n",
       "<path d=\"M 740.405 194.112 L 737.669 189.456 L 737.637 189.456 L 735.829 189.456 L 735.829 194.112 L 734.293 194.112 L 734.293 182.784 L 737.637 182.784 Q 739.573 182.784, 740.549 183.664 Q 741.525 184.528, 741.525 186.112 Q 741.525 187.312, 740.933 188.128 Q 740.357 188.928, 739.221 189.248 L 742.085 194.112 L 740.405 194.112 M 735.829 188.176 L 737.637 188.176 Q 738.741 188.176, 739.333 187.648 Q 739.925 187.12, 739.925 186.112 Q 739.925 185.104, 739.333 184.592 Q 738.757 184.064, 737.637 184.064 L 735.829 184.064 L 735.829 188.176 \" fill=\"#000000\"/>\n",
       "<path d=\"M 751.989 188.56 L 751.989 193.344 Q 750.373 194.256, 747.989 194.256 Q 745.525 194.256, 744.197 192.752 Q 742.885 191.248, 742.885 188.432 Q 742.885 185.616, 744.197 184.144 Q 745.525 182.656, 748.037 182.656 Q 749.349 182.656, 750.309 183.072 Q 751.269 183.472, 751.941 184.304 L 750.901 185.168 Q 749.845 183.936, 748.037 183.936 Q 746.325 183.936, 745.413 185.088 Q 744.517 186.24, 744.517 188.432 Q 744.517 190.672, 745.445 191.824 Q 746.389 192.976, 748.213 192.976 Q 749.397 192.976, 750.453 192.592 L 750.453 188.56 L 751.989 188.56 \" fill=\"#000000\"/>\n",
       "<path d=\"M 758.101 188.144 Q 759.205 188.464, 759.733 189.184 Q 760.277 189.888, 760.277 191.008 Q 760.277 191.968, 759.797 192.72 Q 759.317 193.456, 758.437 193.872 Q 757.557 194.272, 756.405 194.272 Q 755.189 194.272, 754.277 193.856 Q 753.381 193.424, 752.661 192.56 L 753.573 191.632 Q 754.277 192.4, 754.869 192.704 Q 755.461 192.992, 756.405 192.992 Q 757.429 192.992, 758.053 192.448 Q 758.677 191.888, 758.677 190.992 Q 758.677 189.84, 758.021 189.328 Q 757.381 188.8, 755.989 188.8 L 755.173 188.8 L 755.173 187.648 L 755.893 187.648 Q 757.125 187.632, 757.781 187.104 Q 758.437 186.56, 758.437 185.552 Q 758.437 184.816, 757.893 184.384 Q 757.349 183.936, 756.421 183.936 Q 755.477 183.936, 754.885 184.272 Q 754.309 184.608, 753.861 185.456 L 752.757 184.864 Q 753.157 183.92, 754.117 183.296 Q 755.077 182.656, 756.421 182.656 Q 758.085 182.656, 759.061 183.44 Q 760.037 184.224, 760.037 185.552 Q 760.037 186.464, 759.541 187.12 Q 759.045 187.776, 758.101 188.144 \" fill=\"#000000\"/>\n",
       "</svg>"
      ],
      "text/plain": [
       "<IPython.core.display.SVG object>"
      ]
     },
     "execution_count": 63,
     "metadata": {},
     "output_type": "execute_result"
    }
   ],
   "source": [
    "Draw.MolsToGridImage(mols, molsPerRow=4, legends=[\"From PDB ID: \"+i for i in pdb_ids])"
   ]
  },
  {
   "cell_type": "code",
   "execution_count": 66,
   "metadata": {},
   "outputs": [],
   "source": [
    "# Load SMILES for PDB ligand structures\n",
    "ligs = pd.read_csv(\"data/PDB_top_ligands.csv\", sep=\"\\t\")\n",
    "\n",
    "# Get SMILES in the same order as in pdb_ids\n",
    "ligs_smiles = [ligs[ligs[\"@structureId\"]==pdb_id][\"smiles\"].values[0] for pdb_id in pdb_ids]\n",
    "\n",
    "# Generate RDKit Mol object from SMILES\n",
    "refmols = [Chem.MolFromSmiles(smiles) for smiles in ligs_smiles]\n",
    "\n",
    "# Assign bond orders to molecules (mols) based on SMILES patterns (refmols)\n",
    "#mols = [AllChem.AssignBondOrdersFromTemplate(refmol, mol) for refmol, mol in zip(refmols, mols)]"
   ]
  },
  {
   "cell_type": "code",
   "execution_count": 67,
   "metadata": {},
   "outputs": [
    {
     "data": {
      "image/svg+xml": [
       "<svg xmlns=\"http://www.w3.org/2000/svg\" xmlns:rdkit=\"http://www.rdkit.org/xml\" xmlns:xlink=\"http://www.w3.org/1999/xlink\" version=\"1.1\" baseProfile=\"full\" xml:space=\"preserve\" width=\"800px\" height=\"200px\" viewBox=\"0 0 800 200\">\n",
       "<!-- END OF HEADER -->\n",
       "<rect style=\"opacity:1.0;fill:#FFFFFF;stroke:none\" width=\"800\" height=\"200\" x=\"0\" y=\"0\"> </rect>\n",
       "<rect style=\"opacity:1.0;fill:#FFFFFF;stroke:none\" width=\"800\" height=\"200\" x=\"0\" y=\"0\"> </rect>\n",
       "<rect style=\"opacity:1.0;fill:#FFFFFF;stroke:none\" width=\"800\" height=\"200\" x=\"0\" y=\"0\"> </rect>\n",
       "<rect style=\"opacity:1.0;fill:#FFFFFF;stroke:none\" width=\"800\" height=\"200\" x=\"0\" y=\"0\"> </rect>\n",
       "<rect style=\"opacity:1.0;fill:#FFFFFF;stroke:none\" width=\"800\" height=\"200\" x=\"0\" y=\"0\"> </rect>\n",
       "<path class=\"bond-0\" d=\"M 86.1327,33.6904 L 87.3453,22.9932\" style=\"fill:none;fill-rule:evenodd;stroke:#000000;stroke-width:2.0px;stroke-linecap:butt;stroke-linejoin:miter;stroke-opacity:1\"/>\n",
       "<path class=\"bond-1\" d=\"M 87.3453,22.9932 L 86.2812,18.4164\" style=\"fill:none;fill-rule:evenodd;stroke:#000000;stroke-width:2.0px;stroke-linecap:butt;stroke-linejoin:miter;stroke-opacity:1\"/>\n",
       "<path class=\"bond-1\" d=\"M 86.2812,18.4164 L 85.2171,13.8395\" style=\"fill:none;fill-rule:evenodd;stroke:#FF0000;stroke-width:2.0px;stroke-linecap:butt;stroke-linejoin:miter;stroke-opacity:1\"/>\n",
       "<path class=\"bond-2\" d=\"M 87.3453,22.9932 L 91.0637,23.2806\" style=\"fill:none;fill-rule:evenodd;stroke:#000000;stroke-width:2.0px;stroke-linecap:butt;stroke-linejoin:miter;stroke-opacity:1\"/>\n",
       "<path class=\"bond-3\" d=\"M 85.3856,8.98672 L 85.8186,7.64123\" style=\"fill:none;fill-rule:evenodd;stroke:#FF0000;stroke-width:2.0px;stroke-linecap:butt;stroke-linejoin:miter;stroke-opacity:1\"/>\n",
       "<path class=\"bond-3\" d=\"M 85.8186,7.64123 L 86.2517,6.29574\" style=\"fill:none;fill-rule:evenodd;stroke:#0000FF;stroke-width:2.0px;stroke-linecap:butt;stroke-linejoin:miter;stroke-opacity:1\"/>\n",
       "<path class=\"bond-4\" d=\"M 88.1204,6.36631 L 89.3181,8.80126\" style=\"fill:none;fill-rule:evenodd;stroke:#0000FF;stroke-width:2.0px;stroke-linecap:butt;stroke-linejoin:miter;stroke-opacity:1\"/>\n",
       "<path class=\"bond-4\" d=\"M 89.3181,8.80126 L 90.5158,11.2362\" style=\"fill:none;fill-rule:evenodd;stroke:#000000;stroke-width:2.0px;stroke-linecap:butt;stroke-linejoin:miter;stroke-opacity:1\"/>\n",
       "<path class=\"bond-5\" d=\"M 90.5158,11.2362 L 93.4708,5.91006\" style=\"fill:none;fill-rule:evenodd;stroke:#000000;stroke-width:2.0px;stroke-linecap:butt;stroke-linejoin:miter;stroke-opacity:1\"/>\n",
       "<path class=\"bond-6\" d=\"M 90.5158,11.2362 L 91.0637,23.2806\" style=\"fill:none;fill-rule:evenodd;stroke:#000000;stroke-width:2.0px;stroke-linecap:butt;stroke-linejoin:miter;stroke-opacity:1\"/>\n",
       "<path class=\"bond-7\" d=\"M 91.0637,23.2806 L 94.3959,33.9599\" style=\"fill:none;fill-rule:evenodd;stroke:#000000;stroke-width:2.0px;stroke-linecap:butt;stroke-linejoin:miter;stroke-opacity:1\"/>\n",
       "<path class=\"bond-8\" d=\"M 94.3959,33.9599 L 104.581,40.4357\" style=\"fill:none;fill-rule:evenodd;stroke:#000000;stroke-width:2.0px;stroke-linecap:butt;stroke-linejoin:miter;stroke-opacity:1\"/>\n",
       "<path class=\"bond-9\" d=\"M 94.3959,33.9599 L 87.8752,38.6573\" style=\"fill:none;fill-rule:evenodd;stroke:#000000;stroke-width:2.0px;stroke-linecap:butt;stroke-linejoin:miter;stroke-opacity:1\"/>\n",
       "<path class=\"bond-10\" d=\"M 104.581,40.4357 L 108.111,51.3574\" style=\"fill:none;fill-rule:evenodd;stroke:#000000;stroke-width:2.0px;stroke-linecap:butt;stroke-linejoin:miter;stroke-opacity:1\"/>\n",
       "<path class=\"bond-11\" d=\"M 87.8752,38.6573 L 76.675,32.433\" style=\"fill:none;fill-rule:evenodd;stroke:#000000;stroke-width:2.0px;stroke-linecap:butt;stroke-linejoin:miter;stroke-opacity:1\"/>\n",
       "<path class=\"bond-12\" d=\"M 87.8752,38.6573 L 89.3296,42.7978\" style=\"fill:none;fill-rule:evenodd;stroke:#000000;stroke-width:2.0px;stroke-linecap:butt;stroke-linejoin:miter;stroke-opacity:1\"/>\n",
       "<path class=\"bond-12\" d=\"M 89.3296,42.7978 L 90.784,46.9383\" style=\"fill:none;fill-rule:evenodd;stroke:#0000FF;stroke-width:2.0px;stroke-linecap:butt;stroke-linejoin:miter;stroke-opacity:1\"/>\n",
       "<path class=\"bond-13\" d=\"M 89.8155,50.7123 L 87.4801,52.4719\" style=\"fill:none;fill-rule:evenodd;stroke:#0000FF;stroke-width:2.0px;stroke-linecap:butt;stroke-linejoin:miter;stroke-opacity:1\"/>\n",
       "<path class=\"bond-13\" d=\"M 87.4801,52.4719 L 85.1447,54.2315\" style=\"fill:none;fill-rule:evenodd;stroke:#000000;stroke-width:2.0px;stroke-linecap:butt;stroke-linejoin:miter;stroke-opacity:1\"/>\n",
       "<path class=\"bond-14\" d=\"M 93.5393,50.5552 L 97.6321,53.1478\" style=\"fill:none;fill-rule:evenodd;stroke:#0000FF;stroke-width:2.0px;stroke-linecap:butt;stroke-linejoin:miter;stroke-opacity:1\"/>\n",
       "<path class=\"bond-14\" d=\"M 97.6321,53.1478 L 101.725,55.7404\" style=\"fill:none;fill-rule:evenodd;stroke:#000000;stroke-width:2.0px;stroke-linecap:butt;stroke-linejoin:miter;stroke-opacity:1\"/>\n",
       "<path class=\"bond-15\" d=\"M 85.1447,54.2315 L 76.6777,59.3892\" style=\"fill:none;fill-rule:evenodd;stroke:#000000;stroke-width:2.0px;stroke-linecap:butt;stroke-linejoin:miter;stroke-opacity:1\"/>\n",
       "<path class=\"bond-16\" d=\"M 85.1447,54.2315 L 89.4829,53.001\" style=\"fill:none;fill-rule:evenodd;stroke:#000000;stroke-width:2.0px;stroke-linecap:butt;stroke-linejoin:miter;stroke-opacity:1\"/>\n",
       "<path class=\"bond-17\" d=\"M 72.8984,61.9637 L 68.4029,65.3688\" style=\"fill:none;fill-rule:evenodd;stroke:#000000;stroke-width:2.0px;stroke-linecap:butt;stroke-linejoin:miter;stroke-opacity:1\"/>\n",
       "<path class=\"bond-18\" d=\"M 68.4029,65.3688 L 62.2651,69.2347\" style=\"fill:none;fill-rule:evenodd;stroke:#000000;stroke-width:2.0px;stroke-linecap:butt;stroke-linejoin:miter;stroke-opacity:1\"/>\n",
       "<path class=\"bond-18\" d=\"M 62.2651,69.2347 L 56.1274,73.1007\" style=\"fill:none;fill-rule:evenodd;stroke:#00CC00;stroke-width:2.0px;stroke-linecap:butt;stroke-linejoin:miter;stroke-opacity:1\"/>\n",
       "<path class=\"bond-19\" d=\"M 68.4029,65.3688 L 70.6837,64.6917\" style=\"fill:none;fill-rule:evenodd;stroke:#000000;stroke-width:2.0px;stroke-linecap:butt;stroke-linejoin:miter;stroke-opacity:1\"/>\n",
       "<path class=\"bond-20\" d=\"M 74.3739,63.0622 L 81.2776,59.1198\" style=\"fill:none;fill-rule:evenodd;stroke:#000000;stroke-width:2.0px;stroke-linecap:butt;stroke-linejoin:miter;stroke-opacity:1\"/>\n",
       "<path class=\"bond-21\" d=\"M 85.0087,56.5715 L 89.4829,53.001\" style=\"fill:none;fill-rule:evenodd;stroke:#000000;stroke-width:2.0px;stroke-linecap:butt;stroke-linejoin:miter;stroke-opacity:1\"/>\n",
       "<path class=\"bond-22\" d=\"M 101.725,55.7404 L 102.658,59.2336\" style=\"fill:none;fill-rule:evenodd;stroke:#000000;stroke-width:2.0px;stroke-linecap:butt;stroke-linejoin:miter;stroke-opacity:1\"/>\n",
       "<path class=\"bond-22\" d=\"M 102.658,59.2336 L 103.592,62.7267\" style=\"fill:none;fill-rule:evenodd;stroke:#FF0000;stroke-width:2.0px;stroke-linecap:butt;stroke-linejoin:miter;stroke-opacity:1\"/>\n",
       "<path class=\"bond-23\" d=\"M 101.725,55.7404 L 108.111,51.3574\" style=\"fill:none;fill-rule:evenodd;stroke:#000000;stroke-width:2.0px;stroke-linecap:butt;stroke-linejoin:miter;stroke-opacity:1\"/>\n",
       "<path class=\"bond-24\" d=\"M 108.111,51.3574 L 119.581,57.0877\" style=\"fill:none;fill-rule:evenodd;stroke:#000000;stroke-width:2.0px;stroke-linecap:butt;stroke-linejoin:miter;stroke-opacity:1\"/>\n",
       "<path class=\"bond-25\" d=\"M 119.581,57.0877 L 121.279,55.7154\" style=\"fill:none;fill-rule:evenodd;stroke:#000000;stroke-width:2.0px;stroke-linecap:butt;stroke-linejoin:miter;stroke-opacity:1\"/>\n",
       "<path class=\"bond-25\" d=\"M 121.279,55.7154 L 122.977,54.3431\" style=\"fill:none;fill-rule:evenodd;stroke:#FF0000;stroke-width:2.0px;stroke-linecap:butt;stroke-linejoin:miter;stroke-opacity:1\"/>\n",
       "<path class=\"bond-26\" d=\"M 119.581,57.0877 L 121.107,60.5687\" style=\"fill:none;fill-rule:evenodd;stroke:#000000;stroke-width:2.0px;stroke-linecap:butt;stroke-linejoin:miter;stroke-opacity:1\"/>\n",
       "<path class=\"bond-26\" d=\"M 121.107,60.5687 L 122.633,64.0497\" style=\"fill:none;fill-rule:evenodd;stroke:#0000FF;stroke-width:2.0px;stroke-linecap:butt;stroke-linejoin:miter;stroke-opacity:1\"/>\n",
       "<path class=\"bond-27\" d=\"M 125.606,67.2702 L 130.479,69.3957\" style=\"fill:none;fill-rule:evenodd;stroke:#0000FF;stroke-width:2.0px;stroke-linecap:butt;stroke-linejoin:miter;stroke-opacity:1\"/>\n",
       "<path class=\"bond-27\" d=\"M 130.479,69.3957 L 135.352,71.5213\" style=\"fill:none;fill-rule:evenodd;stroke:#000000;stroke-width:2.0px;stroke-linecap:butt;stroke-linejoin:miter;stroke-opacity:1\"/>\n",
       "<path class=\"bond-28\" d=\"M 135.352,71.5213 L 135.694,81.5538\" style=\"fill:none;fill-rule:evenodd;stroke:#000000;stroke-width:2.0px;stroke-linecap:butt;stroke-linejoin:miter;stroke-opacity:1\"/>\n",
       "<path class=\"bond-29\" d=\"M 135.694,81.5538 L 125.598,85.892\" style=\"fill:none;fill-rule:evenodd;stroke:#000000;stroke-width:2.0px;stroke-linecap:butt;stroke-linejoin:miter;stroke-opacity:1\"/>\n",
       "<path class=\"bond-30\" d=\"M 135.694,81.5538 L 147.073,86.3141\" style=\"fill:none;fill-rule:evenodd;stroke:#000000;stroke-width:2.0px;stroke-linecap:butt;stroke-linejoin:miter;stroke-opacity:1\"/>\n",
       "<path class=\"bond-31\" d=\"M 125.598,85.892 L 126.901,95.2868\" style=\"fill:none;fill-rule:evenodd;stroke:#000000;stroke-width:2.0px;stroke-linecap:butt;stroke-linejoin:miter;stroke-opacity:1\"/>\n",
       "<path class=\"bond-32\" d=\"M 126.901,95.2868 L 138.191,100.101\" style=\"fill:none;fill-rule:evenodd;stroke:#000000;stroke-width:2.0px;stroke-linecap:butt;stroke-linejoin:miter;stroke-opacity:1\"/>\n",
       "<path class=\"bond-33\" d=\"M 138.191,100.101 L 138.61,104.856\" style=\"fill:none;fill-rule:evenodd;stroke:#000000;stroke-width:2.0px;stroke-linecap:butt;stroke-linejoin:miter;stroke-opacity:1\"/>\n",
       "<path class=\"bond-33\" d=\"M 138.61,104.856 L 139.028,109.611\" style=\"fill:none;fill-rule:evenodd;stroke:#CCCC00;stroke-width:2.0px;stroke-linecap:butt;stroke-linejoin:miter;stroke-opacity:1\"/>\n",
       "<path class=\"bond-34\" d=\"M 138.191,100.101 L 148.322,95.5652\" style=\"fill:none;fill-rule:evenodd;stroke:#000000;stroke-width:2.0px;stroke-linecap:butt;stroke-linejoin:miter;stroke-opacity:1\"/>\n",
       "<path class=\"bond-35\" d=\"M 137.629,111.284 L 133.895,109.559\" style=\"fill:none;fill-rule:evenodd;stroke:#CCCC00;stroke-width:2.0px;stroke-linecap:butt;stroke-linejoin:miter;stroke-opacity:1\"/>\n",
       "<path class=\"bond-35\" d=\"M 133.895,109.559 L 130.161,107.834\" style=\"fill:none;fill-rule:evenodd;stroke:#000000;stroke-width:2.0px;stroke-linecap:butt;stroke-linejoin:miter;stroke-opacity:1\"/>\n",
       "<path class=\"bond-36\" d=\"M 140.926,112.316 L 145.337,113.069\" style=\"fill:none;fill-rule:evenodd;stroke:#CCCC00;stroke-width:2.0px;stroke-linecap:butt;stroke-linejoin:miter;stroke-opacity:1\"/>\n",
       "<path class=\"bond-36\" d=\"M 145.337,113.069 L 149.747,113.822\" style=\"fill:none;fill-rule:evenodd;stroke:#FF0000;stroke-width:2.0px;stroke-linecap:butt;stroke-linejoin:miter;stroke-opacity:1\"/>\n",
       "<path class=\"bond-37\" d=\"M 138.035,114.565 L 136.591,117.603\" style=\"fill:none;fill-rule:evenodd;stroke:#CCCC00;stroke-width:2.0px;stroke-linecap:butt;stroke-linejoin:miter;stroke-opacity:1\"/>\n",
       "<path class=\"bond-37\" d=\"M 136.591,117.603 L 135.147,120.64\" style=\"fill:none;fill-rule:evenodd;stroke:#FF0000;stroke-width:2.0px;stroke-linecap:butt;stroke-linejoin:miter;stroke-opacity:1\"/>\n",
       "<path class=\"bond-38\" d=\"M 148.322,95.5652 L 147.073,86.3141\" style=\"fill:none;fill-rule:evenodd;stroke:#000000;stroke-width:2.0px;stroke-linecap:butt;stroke-linejoin:miter;stroke-opacity:1\"/>\n",
       "<path class=\"atom-2\" d=\"M 82.6828 11.338 Q 82.6828 10.318, 83.1868 9.74802 Q 83.6908 9.17802, 84.6328 9.17802 Q 85.5748 9.17802, 86.0788 9.74802 Q 86.5828 10.318, 86.5828 11.338 Q 86.5828 12.37, 86.0728 12.958 Q 85.5628 13.54, 84.6328 13.54 Q 83.6968 13.54, 83.1868 12.958 Q 82.6828 12.376, 82.6828 11.338 M 84.6328 13.06 Q 85.2808 13.06, 85.6288 12.628 Q 85.9828 12.19, 85.9828 11.338 Q 85.9828 10.504, 85.6288 10.084 Q 85.2808 9.65802, 84.6328 9.65802 Q 83.9848 9.65802, 83.6308 10.078 Q 83.2828 10.498, 83.2828 11.338 Q 83.2828 12.196, 83.6308 12.628 Q 83.9848 13.06, 84.6328 13.06 \" fill=\"#FF0000\"/>\n",
       "<path class=\"atom-3\" d=\"M 86.038 1.91787 L 87.43 4.16787 Q 87.568 4.38987, 87.79 4.79187 Q 88.012 5.19387, 88.024 5.21787 L 88.024 1.91787 L 88.588 1.91787 L 88.588 6.16587 L 88.006 6.16587 L 86.512 3.70587 Q 86.338 3.41787, 86.152 3.08787 Q 85.972 2.75787, 85.918 2.65587 L 85.918 6.16587 L 85.366 6.16587 L 85.366 1.91787 L 86.038 1.91787 \" fill=\"#0000FF\"/>\n",
       "<path class=\"atom-3\" d=\"M 85.315 -2.75493 L 85.891 -2.75493 L 85.891 -0.948926 L 88.063 -0.948926 L 88.063 -2.75493 L 88.639 -2.75493 L 88.639 1.49307 L 88.063 1.49307 L 88.063 -0.468926 L 85.891 -0.468926 L 85.891 1.49307 L 85.315 1.49307 L 85.315 -2.75493 \" fill=\"#0000FF\"/>\n",
       "<path class=\"atom-11\" d=\"M 90.6905 47.2215 L 92.0825 49.4715 Q 92.2205 49.6935, 92.4425 50.0955 Q 92.6645 50.4975, 92.6765 50.5215 L 92.6765 47.2215 L 93.2405 47.2215 L 93.2405 51.4695 L 92.6585 51.4695 L 91.1645 49.0095 Q 90.9905 48.7215, 90.8045 48.3915 Q 90.6245 48.0615, 90.5705 47.9595 L 90.5705 51.4695 L 90.0185 51.4695 L 90.0185 47.2215 L 90.6905 47.2215 \" fill=\"#0000FF\"/>\n",
       "<path class=\"atom-13\" d=\"M 73.097 60.5906 Q 73.097 59.5346, 73.589 58.9826 Q 74.087 58.4246, 75.029 58.4246 Q 75.905 58.4246, 76.373 59.0426 L 75.977 59.3666 Q 75.635 58.9166, 75.029 58.9166 Q 74.387 58.9166, 74.045 59.3486 Q 73.709 59.7746, 73.709 60.5906 Q 73.709 61.4306, 74.057 61.8626 Q 74.411 62.2946, 75.095 62.2946 Q 75.563 62.2946, 76.109 62.0126 L 76.277 62.4626 Q 76.055 62.6066, 75.719 62.6906 Q 75.383 62.7746, 75.011 62.7746 Q 74.087 62.7746, 73.589 62.2106 Q 73.097 61.6466, 73.097 60.5906 \" fill=\"#000000\"/>\n",
       "<path class=\"atom-15\" d=\"M 51.4013 73.6622 Q 51.4013 72.6062, 51.8933 72.0542 Q 52.3913 71.4962, 53.3333 71.4962 Q 54.2093 71.4962, 54.6773 72.1142 L 54.2813 72.4382 Q 53.9393 71.9882, 53.3333 71.9882 Q 52.6913 71.9882, 52.3493 72.4202 Q 52.0133 72.8462, 52.0133 73.6622 Q 52.0133 74.5022, 52.3613 74.9342 Q 52.7153 75.3662, 53.3993 75.3662 Q 53.8673 75.3662, 54.4133 75.0842 L 54.5813 75.5342 Q 54.3593 75.6782, 54.0233 75.7622 Q 53.6873 75.8462, 53.3153 75.8462 Q 52.3913 75.8462, 51.8933 75.2822 Q 51.4013 74.7182, 51.4013 73.6622 \" fill=\"#00CC00\"/>\n",
       "<path class=\"atom-15\" d=\"M 55.1933 71.2382 L 55.7453 71.2382 L 55.7453 75.7922 L 55.1933 75.7922 L 55.1933 71.2382 \" fill=\"#00CC00\"/>\n",
       "<path class=\"atom-16\" d=\"M 70.7887 64.1922 Q 70.7887 63.1362, 71.2807 62.5842 Q 71.7787 62.0262, 72.7207 62.0262 Q 73.5967 62.0262, 74.0647 62.6442 L 73.6687 62.9682 Q 73.3267 62.5182, 72.7207 62.5182 Q 72.0787 62.5182, 71.7367 62.9502 Q 71.4007 63.3762, 71.4007 64.1922 Q 71.4007 65.0322, 71.7487 65.4642 Q 72.1027 65.8962, 72.7867 65.8962 Q 73.2547 65.8962, 73.8007 65.6142 L 73.9687 66.0642 Q 73.7467 66.2082, 73.4107 66.2922 Q 73.0747 66.3762, 72.7027 66.3762 Q 71.7787 66.3762, 71.2807 65.8122 Q 70.7887 65.2482, 70.7887 64.1922 \" fill=\"#000000\"/>\n",
       "<path class=\"atom-17\" d=\"M 81.5308 58.0578 Q 81.5308 57.0018, 82.0228 56.4498 Q 82.5208 55.8918, 83.4628 55.8918 Q 84.3388 55.8918, 84.8068 56.5098 L 84.4108 56.8338 Q 84.0688 56.3838, 83.4628 56.3838 Q 82.8208 56.3838, 82.4788 56.8158 Q 82.1428 57.2418, 82.1428 58.0578 Q 82.1428 58.8978, 82.4908 59.3298 Q 82.8448 59.7618, 83.5288 59.7618 Q 83.9968 59.7618, 84.5428 59.4798 L 84.7108 59.9298 Q 84.4888 60.0738, 84.1528 60.1578 Q 83.8168 60.2418, 83.4448 60.2418 Q 82.5208 60.2418, 82.0228 59.6778 Q 81.5308 59.1138, 81.5308 58.0578 \" fill=\"#000000\"/>\n",
       "<path class=\"atom-20\" d=\"M 102.281 65.1293 Q 102.281 64.1093, 102.785 63.5393 Q 103.289 62.9693, 104.231 62.9693 Q 105.173 62.9693, 105.677 63.5393 Q 106.181 64.1093, 106.181 65.1293 Q 106.181 66.1613, 105.671 66.7493 Q 105.161 67.3313, 104.231 67.3313 Q 103.295 67.3313, 102.785 66.7493 Q 102.281 66.1673, 102.281 65.1293 M 104.231 66.8513 Q 104.879 66.8513, 105.227 66.4193 Q 105.581 65.9813, 105.581 65.1293 Q 105.581 64.2953, 105.227 63.8753 Q 104.879 63.4493, 104.231 63.4493 Q 103.583 63.4493, 103.229 63.8693 Q 102.881 64.2893, 102.881 65.1293 Q 102.881 65.9873, 103.229 66.4193 Q 103.583 66.8513, 104.231 66.8513 \" fill=\"#FF0000\"/>\n",
       "<path class=\"atom-20\" d=\"M 106.691 63.0173 L 107.267 63.0173 L 107.267 64.8233 L 109.439 64.8233 L 109.439 63.0173 L 110.015 63.0173 L 110.015 67.2653 L 109.439 67.2653 L 109.439 65.3033 L 107.267 65.3033 L 107.267 67.2653 L 106.691 67.2653 L 106.691 63.0173 \" fill=\"#FF0000\"/>\n",
       "<path class=\"atom-23\" d=\"M 123.154 52.6358 Q 123.154 51.6158, 123.658 51.0458 Q 124.162 50.4758, 125.104 50.4758 Q 126.046 50.4758, 126.55 51.0458 Q 127.054 51.6158, 127.054 52.6358 Q 127.054 53.6678, 126.544 54.2558 Q 126.034 54.8378, 125.104 54.8378 Q 124.168 54.8378, 123.658 54.2558 Q 123.154 53.6738, 123.154 52.6358 M 125.104 54.3578 Q 125.752 54.3578, 126.1 53.9258 Q 126.454 53.4878, 126.454 52.6358 Q 126.454 51.8018, 126.1 51.3818 Q 125.752 50.9558, 125.104 50.9558 Q 124.456 50.9558, 124.102 51.3758 Q 123.754 51.7958, 123.754 52.6358 Q 123.754 53.4938, 124.102 53.9258 Q 124.456 54.3578, 125.104 54.3578 \" fill=\"#FF0000\"/>\n",
       "<path class=\"atom-23\" d=\"M 127.564 50.5238 L 128.14 50.5238 L 128.14 52.3298 L 130.312 52.3298 L 130.312 50.5238 L 130.888 50.5238 L 130.888 54.7718 L 130.312 54.7718 L 130.312 52.8098 L 128.14 52.8098 L 128.14 54.7718 L 127.564 54.7718 L 127.564 50.5238 \" fill=\"#FF0000\"/>\n",
       "<path class=\"atom-24\" d=\"M 118.243 64.3046 L 118.819 64.3046 L 118.819 66.1106 L 120.991 66.1106 L 120.991 64.3046 L 121.567 64.3046 L 121.567 68.5526 L 120.991 68.5526 L 120.991 66.5906 L 118.819 66.5906 L 118.819 68.5526 L 118.243 68.5526 L 118.243 64.3046 \" fill=\"#0000FF\"/>\n",
       "<path class=\"atom-24\" d=\"M 122.737 64.3046 L 124.129 66.5546 Q 124.267 66.7766, 124.489 67.1786 Q 124.711 67.5806, 124.723 67.6046 L 124.723 64.3046 L 125.287 64.3046 L 125.287 68.5526 L 124.705 68.5526 L 123.211 66.0926 Q 123.037 65.8046, 122.851 65.4746 Q 122.671 65.1446, 122.617 65.0426 L 122.617 68.5526 L 122.065 68.5526 L 122.065 64.3046 L 122.737 64.3046 \" fill=\"#0000FF\"/>\n",
       "<path class=\"atom-30\" d=\"M 138.041 113.487 Q 138.089 113.505, 138.287 113.589 Q 138.485 113.673, 138.701 113.727 Q 138.923 113.775, 139.139 113.775 Q 139.541 113.775, 139.775 113.583 Q 140.009 113.385, 140.009 113.043 Q 140.009 112.809, 139.889 112.665 Q 139.775 112.521, 139.595 112.443 Q 139.415 112.365, 139.115 112.275 Q 138.737 112.161, 138.509 112.053 Q 138.287 111.945, 138.125 111.717 Q 137.969 111.489, 137.969 111.105 Q 137.969 110.571, 138.329 110.241 Q 138.695 109.911, 139.415 109.911 Q 139.907 109.911, 140.465 110.145 L 140.327 110.607 Q 139.817 110.397, 139.433 110.397 Q 139.019 110.397, 138.791 110.571 Q 138.563 110.739, 138.569 111.033 Q 138.569 111.261, 138.683 111.399 Q 138.803 111.537, 138.971 111.615 Q 139.145 111.693, 139.433 111.783 Q 139.817 111.903, 140.045 112.023 Q 140.273 112.143, 140.435 112.389 Q 140.603 112.629, 140.603 113.043 Q 140.603 113.631, 140.207 113.949 Q 139.817 114.261, 139.163 114.261 Q 138.785 114.261, 138.497 114.177 Q 138.215 114.099, 137.879 113.961 L 138.041 113.487 \" fill=\"#CCCC00\"/>\n",
       "<path class=\"atom-32\" d=\"M 150.027 114.214 Q 150.027 113.194, 150.531 112.624 Q 151.035 112.054, 151.977 112.054 Q 152.919 112.054, 153.423 112.624 Q 153.927 113.194, 153.927 114.214 Q 153.927 115.246, 153.417 115.834 Q 152.907 116.416, 151.977 116.416 Q 151.041 116.416, 150.531 115.834 Q 150.027 115.252, 150.027 114.214 M 151.977 115.936 Q 152.625 115.936, 152.973 115.504 Q 153.327 115.066, 153.327 114.214 Q 153.327 113.38, 152.973 112.96 Q 152.625 112.534, 151.977 112.534 Q 151.329 112.534, 150.975 112.954 Q 150.627 113.374, 150.627 114.214 Q 150.627 115.072, 150.975 115.504 Q 151.329 115.936, 151.977 115.936 \" fill=\"#FF0000\"/>\n",
       "<path class=\"atom-32\" d=\"M 154.437 112.102 L 155.013 112.102 L 155.013 113.908 L 157.185 113.908 L 157.185 112.102 L 157.761 112.102 L 157.761 116.35 L 157.185 116.35 L 157.185 114.388 L 155.013 114.388 L 155.013 116.35 L 154.437 116.35 L 154.437 112.102 \" fill=\"#FF0000\"/>\n",
       "<path class=\"atom-33\" d=\"M 128.44 120.922 L 129.016 120.922 L 129.016 122.728 L 131.188 122.728 L 131.188 120.922 L 131.764 120.922 L 131.764 125.17 L 131.188 125.17 L 131.188 123.208 L 129.016 123.208 L 129.016 125.17 L 128.44 125.17 L 128.44 120.922 \" fill=\"#FF0000\"/>\n",
       "<path class=\"atom-33\" d=\"M 132.064 123.034 Q 132.064 122.014, 132.568 121.444 Q 133.072 120.874, 134.014 120.874 Q 134.956 120.874, 135.46 121.444 Q 135.964 122.014, 135.964 123.034 Q 135.964 124.066, 135.454 124.654 Q 134.944 125.236, 134.014 125.236 Q 133.078 125.236, 132.568 124.654 Q 132.064 124.072, 132.064 123.034 M 134.014 124.756 Q 134.662 124.756, 135.01 124.324 Q 135.364 123.886, 135.364 123.034 Q 135.364 122.2, 135.01 121.78 Q 134.662 121.354, 134.014 121.354 Q 133.366 121.354, 133.012 121.774 Q 132.664 122.194, 132.664 123.034 Q 132.664 123.892, 133.012 124.324 Q 133.366 124.756, 134.014 124.756 \" fill=\"#FF0000\"/>\n",
       "<path d=\"M 31.4946 182.856 L 38.2306 182.856 L 38.2306 184.152 L 33.0146 184.152 L 33.0146 187.592 L 37.6546 187.592 L 37.6546 188.904 L 33.0146 188.904 L 33.0146 194.184 L 31.4946 194.184 L 31.4946 182.856 \" fill=\"#000000\"/>\n",
       "<path d=\"M 40.8066 185.96 L 40.9826 187.096 Q 41.8466 185.816, 43.2546 185.816 Q 43.7026 185.816, 44.3106 185.976 L 44.0706 187.32 Q 43.3826 187.16, 42.9986 187.16 Q 42.3266 187.16, 41.8786 187.432 Q 41.4466 187.688, 41.0946 188.312 L 41.0946 194.184 L 39.5906 194.184 L 39.5906 185.96 L 40.8066 185.96 \" fill=\"#000000\"/>\n",
       "<path d=\"M 45.0466 190.056 Q 45.0466 188.056, 46.0546 186.936 Q 47.0786 185.816, 48.9506 185.816 Q 50.8226 185.816, 51.8306 186.936 Q 52.8546 188.056, 52.8546 190.056 Q 52.8546 192.056, 51.8306 193.192 Q 50.8226 194.312, 48.9506 194.312 Q 47.0786 194.312, 46.0546 193.192 Q 45.0466 192.056, 45.0466 190.056 M 46.5826 190.056 Q 46.5826 191.56, 47.1906 192.344 Q 47.8146 193.128, 48.9506 193.128 Q 50.0866 193.128, 50.6946 192.344 Q 51.3186 191.56, 51.3186 190.056 Q 51.3186 188.552, 50.6946 187.784 Q 50.0866 187, 48.9506 187 Q 47.8146 187, 47.1906 187.784 Q 46.5826 188.552, 46.5826 190.056 \" fill=\"#000000\"/>\n",
       "<path d=\"M 63.6706 185.816 Q 65.0626 185.816, 65.7666 186.568 Q 66.4706 187.304, 66.4706 188.744 L 66.4706 194.184 L 64.9666 194.184 L 64.9666 188.856 Q 64.9666 187.88, 64.5826 187.448 Q 64.2146 187, 63.3826 187 Q 62.6626 187, 62.0386 187.352 Q 61.4306 187.688, 61.0626 188.296 Q 61.0786 188.44, 61.0786 188.744 L 61.0786 194.184 L 59.5746 194.184 L 59.5746 188.856 Q 59.5746 187.88, 59.1906 187.448 Q 58.8226 187, 57.9906 187 Q 57.2706 187, 56.6626 187.352 Q 56.0546 187.688, 55.6706 188.28 L 55.6706 194.184 L 54.1666 194.184 L 54.1666 185.96 L 55.3986 185.96 L 55.5586 187.08 Q 56.6306 185.816, 58.2786 185.816 Q 60.2146 185.816, 60.8226 187.256 Q 61.9106 185.816, 63.6706 185.816 \" fill=\"#000000\"/>\n",
       "<path d=\"\" fill=\"#000000\"/>\n",
       "<path d=\"M 75.1746 182.856 Q 77.1106 182.856, 78.0866 183.736 Q 79.0626 184.6, 79.0626 186.184 Q 79.0626 187.752, 78.0546 188.648 Q 77.0626 189.528, 75.1746 189.528 L 73.3666 189.528 L 73.3666 194.184 L 71.8306 194.184 L 71.8306 182.856 L 75.1746 182.856 M 75.1746 188.248 Q 76.2786 188.248, 76.8706 187.72 Q 77.4626 187.192, 77.4626 186.184 Q 77.4626 185.176, 76.8706 184.664 Q 76.2946 184.136, 75.1746 184.136 L 73.3666 184.136 L 73.3666 188.248 L 75.1746 188.248 \" fill=\"#000000\"/>\n",
       "<path d=\"M 84.0866 182.856 Q 86.5986 182.856, 87.9426 184.344 Q 89.2866 185.816, 89.2866 188.488 Q 89.2866 191.176, 87.9266 192.68 Q 86.5826 194.184, 84.0866 194.184 L 80.4226 194.184 L 80.4226 182.856 L 84.0866 182.856 M 84.0866 192.904 Q 85.8146 192.904, 86.7426 191.8 Q 87.6866 190.696, 87.6866 188.488 Q 87.6866 186.296, 86.7426 185.224 Q 85.8146 184.136, 84.0866 184.136 L 81.9586 184.136 L 81.9586 192.904 L 84.0866 192.904 \" fill=\"#000000\"/>\n",
       "<path d=\"M 96.1506 188.232 Q 97.2386 188.536, 97.7826 189.208 Q 98.3426 189.864, 98.3426 190.84 Q 98.3426 192.408, 97.3346 193.304 Q 96.3426 194.184, 94.4546 194.184 L 90.6466 194.184 L 90.6466 182.856 L 93.9906 182.856 Q 95.9266 182.856, 96.9026 183.64 Q 97.8786 184.424, 97.8786 185.864 Q 97.8786 187.576, 96.1506 188.232 M 92.1666 184.136 L 92.1666 187.688 L 93.9906 187.688 Q 95.1106 187.688, 95.6866 187.24 Q 96.2786 186.776, 96.2786 185.864 Q 96.2786 184.136, 93.9906 184.136 L 92.1666 184.136 M 94.4546 192.904 Q 95.5586 192.904, 96.1506 192.376 Q 96.7426 191.848, 96.7426 190.84 Q 96.7426 189.912, 96.0866 189.448 Q 95.4466 188.968, 94.2146 188.968 L 92.1666 188.968 L 92.1666 192.904 L 94.4546 192.904 \" fill=\"#000000\"/>\n",
       "<path d=\"\" fill=\"#000000\"/>\n",
       "<path d=\"M 103.751 182.808 L 105.271 182.808 L 105.271 194.184 L 103.751 194.184 L 103.751 182.808 \" fill=\"#000000\"/>\n",
       "<path d=\"M 110.295 182.856 Q 112.807 182.856, 114.151 184.344 Q 115.495 185.816, 115.495 188.488 Q 115.495 191.176, 114.135 192.68 Q 112.791 194.184, 110.295 194.184 L 106.631 194.184 L 106.631 182.856 L 110.295 182.856 M 110.295 192.904 Q 112.023 192.904, 112.951 191.8 Q 113.895 190.696, 113.895 188.488 Q 113.895 186.296, 112.951 185.224 Q 112.023 184.136, 110.295 184.136 L 108.167 184.136 L 108.167 192.904 L 110.295 192.904 \" fill=\"#000000\"/>\n",
       "<path d=\"M 116.695 192.312 L 118.295 192.312 L 118.295 193.912 L 116.695 193.912 L 116.695 192.312 M 116.695 186.808 L 118.295 186.808 L 118.295 188.408 L 116.695 188.408 L 116.695 186.808 \" fill=\"#000000\"/>\n",
       "<path d=\"\" fill=\"#000000\"/>\n",
       "<path d=\"M 127.143 187.096 Q 128.135 187.096, 128.951 187.528 Q 129.767 187.944, 130.231 188.744 Q 130.695 189.528, 130.695 190.6 Q 130.695 191.768, 130.119 192.616 Q 129.559 193.448, 128.631 193.88 Q 127.703 194.312, 126.647 194.312 Q 125.607 194.312, 124.647 193.928 Q 123.687 193.544, 123.031 192.808 L 123.991 191.816 Q 124.519 192.392, 125.239 192.712 Q 125.959 193.016, 126.695 193.016 Q 127.703 193.016, 128.391 192.392 Q 129.095 191.768, 129.095 190.632 Q 129.095 189.432, 128.391 188.872 Q 127.703 188.296, 126.599 188.296 Q 125.607 188.296, 124.503 188.728 L 123.623 188.312 L 124.167 182.856 L 129.991 182.856 L 129.831 184.136 L 125.479 184.136 L 125.143 187.496 Q 126.151 187.096, 127.143 187.096 \" fill=\"#000000\"/>\n",
       "<path d=\"M 139.239 194.184 L 138.055 190.856 L 133.559 190.856 L 132.423 194.184 L 130.887 194.184 L 134.791 182.856 L 136.679 182.856 L 140.727 194.184 L 139.239 194.184 M 134.007 189.576 L 137.591 189.576 L 135.767 184.44 L 134.007 189.576 \" fill=\"#000000\"/>\n",
       "<path d=\"M 147.591 188.232 Q 148.679 188.536, 149.223 189.208 Q 149.783 189.864, 149.783 190.84 Q 149.783 192.408, 148.775 193.304 Q 147.783 194.184, 145.895 194.184 L 142.087 194.184 L 142.087 182.856 L 145.431 182.856 Q 147.367 182.856, 148.343 183.64 Q 149.319 184.424, 149.319 185.864 Q 149.319 187.576, 147.591 188.232 M 143.607 184.136 L 143.607 187.688 L 145.431 187.688 Q 146.551 187.688, 147.127 187.24 Q 147.719 186.776, 147.719 185.864 Q 147.719 184.136, 145.431 184.136 L 143.607 184.136 M 145.895 192.904 Q 146.999 192.904, 147.591 192.376 Q 148.183 191.848, 148.183 190.84 Q 148.183 189.912, 147.527 189.448 Q 146.887 188.968, 145.655 188.968 L 143.607 188.968 L 143.607 192.904 L 145.895 192.904 \" fill=\"#000000\"/>\n",
       "<path d=\"M 164.327 182.872 L 165.863 182.872 L 162.839 194.184 L 160.519 194.184 L 158.055 184.744 L 155.575 194.184 L 153.255 194.184 L 150.231 182.872 L 151.783 182.872 L 154.439 192.776 L 157.047 182.872 L 159.047 182.872 L 161.655 192.808 L 164.327 182.872 \" fill=\"#000000\"/>\n",
       "<path class=\"bond-0\" d=\"M 366.321,156.668 L 375.842,163.997\" style=\"fill:none;fill-rule:evenodd;stroke:#000000;stroke-width:2.0px;stroke-linecap:butt;stroke-linejoin:miter;stroke-opacity:1\"/>\n",
       "<path class=\"bond-1\" d=\"M 366.321,156.668 L 368.341,152.376\" style=\"fill:none;fill-rule:evenodd;stroke:#000000;stroke-width:2.0px;stroke-linecap:butt;stroke-linejoin:miter;stroke-opacity:1\"/>\n",
       "<path class=\"bond-1\" d=\"M 368.341,152.376 L 370.361,148.084\" style=\"fill:none;fill-rule:evenodd;stroke:#0000FF;stroke-width:2.0px;stroke-linecap:butt;stroke-linejoin:miter;stroke-opacity:1\"/>\n",
       "<path class=\"bond-2\" d=\"M 375.842,163.997 L 376.817,162.145\" style=\"fill:none;fill-rule:evenodd;stroke:#000000;stroke-width:2.0px;stroke-linecap:butt;stroke-linejoin:miter;stroke-opacity:1\"/>\n",
       "<path class=\"bond-2\" d=\"M 376.817,162.145 L 377.792,160.293\" style=\"fill:none;fill-rule:evenodd;stroke:#FF0000;stroke-width:2.0px;stroke-linecap:butt;stroke-linejoin:miter;stroke-opacity:1\"/>\n",
       "<path class=\"bond-3\" d=\"M 390.293,162.048 L 385.796,160.392\" style=\"fill:none;fill-rule:evenodd;stroke:#000000;stroke-width:2.0px;stroke-linecap:butt;stroke-linejoin:miter;stroke-opacity:1\"/>\n",
       "<path class=\"bond-3\" d=\"M 385.796,160.392 L 381.298,158.735\" style=\"fill:none;fill-rule:evenodd;stroke:#FF0000;stroke-width:2.0px;stroke-linecap:butt;stroke-linejoin:miter;stroke-opacity:1\"/>\n",
       "<path class=\"bond-4\" d=\"M 390.293,162.048 L 392.638,155.635\" style=\"fill:none;fill-rule:evenodd;stroke:#000000;stroke-width:2.0px;stroke-linecap:butt;stroke-linejoin:miter;stroke-opacity:1\"/>\n",
       "<path class=\"bond-5\" d=\"M 392.638,155.635 L 392.702,150.673\" style=\"fill:none;fill-rule:evenodd;stroke:#000000;stroke-width:2.0px;stroke-linecap:butt;stroke-linejoin:miter;stroke-opacity:1\"/>\n",
       "<path class=\"bond-5\" d=\"M 392.702,150.673 L 392.766,145.711\" style=\"fill:none;fill-rule:evenodd;stroke:#FF0000;stroke-width:2.0px;stroke-linecap:butt;stroke-linejoin:miter;stroke-opacity:1\"/>\n",
       "<path class=\"bond-6\" d=\"M 397.47,136.019 L 396.383,122.6\" style=\"fill:none;fill-rule:evenodd;stroke:#000000;stroke-width:2.0px;stroke-linecap:butt;stroke-linejoin:miter;stroke-opacity:1\"/>\n",
       "<path class=\"bond-7\" d=\"M 397.47,136.019 L 395.904,138.421\" style=\"fill:none;fill-rule:evenodd;stroke:#000000;stroke-width:2.0px;stroke-linecap:butt;stroke-linejoin:miter;stroke-opacity:1\"/>\n",
       "<path class=\"bond-7\" d=\"M 395.904,138.421 L 394.338,140.824\" style=\"fill:none;fill-rule:evenodd;stroke:#FF0000;stroke-width:2.0px;stroke-linecap:butt;stroke-linejoin:miter;stroke-opacity:1\"/>\n",
       "<path class=\"bond-8\" d=\"M 396.383,122.6 L 391.469,120.922\" style=\"fill:none;fill-rule:evenodd;stroke:#000000;stroke-width:2.0px;stroke-linecap:butt;stroke-linejoin:miter;stroke-opacity:1\"/>\n",
       "<path class=\"bond-8\" d=\"M 391.469,120.922 L 386.554,119.244\" style=\"fill:none;fill-rule:evenodd;stroke:#FF0000;stroke-width:2.0px;stroke-linecap:butt;stroke-linejoin:miter;stroke-opacity:1\"/>\n",
       "<path class=\"bond-9\" d=\"M 377.656,117.651 L 378.887,105.499\" style=\"fill:none;fill-rule:evenodd;stroke:#000000;stroke-width:2.0px;stroke-linecap:butt;stroke-linejoin:miter;stroke-opacity:1\"/>\n",
       "<path class=\"bond-10\" d=\"M 377.656,117.651 L 379.912,117.929\" style=\"fill:none;fill-rule:evenodd;stroke:#000000;stroke-width:2.0px;stroke-linecap:butt;stroke-linejoin:miter;stroke-opacity:1\"/>\n",
       "<path class=\"bond-10\" d=\"M 379.912,117.929 L 382.168,118.207\" style=\"fill:none;fill-rule:evenodd;stroke:#FF0000;stroke-width:2.0px;stroke-linecap:butt;stroke-linejoin:miter;stroke-opacity:1\"/>\n",
       "<path class=\"bond-11\" d=\"M 378.887,105.499 L 376.991,102.527\" style=\"fill:none;fill-rule:evenodd;stroke:#000000;stroke-width:2.0px;stroke-linecap:butt;stroke-linejoin:miter;stroke-opacity:1\"/>\n",
       "<path class=\"bond-11\" d=\"M 376.991,102.527 L 375.096,99.5554\" style=\"fill:none;fill-rule:evenodd;stroke:#FF0000;stroke-width:2.0px;stroke-linecap:butt;stroke-linejoin:miter;stroke-opacity:1\"/>\n",
       "<path class=\"bond-12\" d=\"M 376.075,85.2093 L 370.39,76.9642\" style=\"fill:none;fill-rule:evenodd;stroke:#000000;stroke-width:2.0px;stroke-linecap:butt;stroke-linejoin:miter;stroke-opacity:1\"/>\n",
       "<path class=\"bond-13\" d=\"M 376.075,85.2093 L 375.063,89.9248\" style=\"fill:none;fill-rule:evenodd;stroke:#000000;stroke-width:2.0px;stroke-linecap:butt;stroke-linejoin:miter;stroke-opacity:1\"/>\n",
       "<path class=\"bond-13\" d=\"M 375.063,89.9248 L 374.051,94.6403\" style=\"fill:none;fill-rule:evenodd;stroke:#FF0000;stroke-width:2.0px;stroke-linecap:butt;stroke-linejoin:miter;stroke-opacity:1\"/>\n",
       "<path class=\"bond-14\" d=\"M 370.39,76.9642 L 358.894,78.0065\" style=\"fill:none;fill-rule:evenodd;stroke:#000000;stroke-width:2.0px;stroke-linecap:butt;stroke-linejoin:miter;stroke-opacity:1\"/>\n",
       "<path class=\"bond-15\" d=\"M 355.152,77.9564 L 354.527,77.8752\" style=\"fill:none;fill-rule:evenodd;stroke:#000000;stroke-width:2.0px;stroke-linecap:butt;stroke-linejoin:miter;stroke-opacity:1\"/>\n",
       "<path class=\"bond-15\" d=\"M 354.527,77.8752 L 353.902,77.7941\" style=\"fill:none;fill-rule:evenodd;stroke:#FF0000;stroke-width:2.0px;stroke-linecap:butt;stroke-linejoin:miter;stroke-opacity:1\"/>\n",
       "<path class=\"atom-3\" d=\"M 377.098 157.919 Q 377.098 156.899, 377.602 156.329 Q 378.106 155.759, 379.048 155.759 Q 379.99 155.759, 380.494 156.329 Q 380.998 156.899, 380.998 157.919 Q 380.998 158.951, 380.488 159.539 Q 379.978 160.121, 379.048 160.121 Q 378.112 160.121, 377.602 159.539 Q 377.098 158.957, 377.098 157.919 M 379.048 159.641 Q 379.696 159.641, 380.044 159.209 Q 380.398 158.771, 380.398 157.919 Q 380.398 157.085, 380.044 156.665 Q 379.696 156.239, 379.048 156.239 Q 378.4 156.239, 378.046 156.659 Q 377.698 157.079, 377.698 157.919 Q 377.698 158.777, 378.046 159.209 Q 378.4 159.641, 379.048 159.641 \" fill=\"#FF0000\"/>\n",
       "<path class=\"atom-8\" d=\"M 390.849 143.198 Q 390.849 142.178, 391.353 141.608 Q 391.857 141.038, 392.799 141.038 Q 393.741 141.038, 394.245 141.608 Q 394.749 142.178, 394.749 143.198 Q 394.749 144.23, 394.239 144.818 Q 393.729 145.4, 392.799 145.4 Q 391.863 145.4, 391.353 144.818 Q 390.849 144.236, 390.849 143.198 M 392.799 144.92 Q 393.447 144.92, 393.795 144.488 Q 394.149 144.05, 394.149 143.198 Q 394.149 142.364, 393.795 141.944 Q 393.447 141.518, 392.799 141.518 Q 392.151 141.518, 391.797 141.938 Q 391.449 142.358, 391.449 143.198 Q 391.449 144.056, 391.797 144.488 Q 392.151 144.92, 392.799 144.92 \" fill=\"#FF0000\"/>\n",
       "<path class=\"atom-12\" d=\"M 355.279 78.2037 Q 355.279 77.1477, 355.771 76.5957 Q 356.269 76.0377, 357.211 76.0377 Q 358.087 76.0377, 358.555 76.6557 L 358.159 76.9797 Q 357.817 76.5297, 357.211 76.5297 Q 356.569 76.5297, 356.227 76.9617 Q 355.891 77.3877, 355.891 78.2037 Q 355.891 79.0437, 356.239 79.4757 Q 356.593 79.9077, 357.277 79.9077 Q 357.745 79.9077, 358.291 79.6257 L 358.459 80.0757 Q 358.237 80.2197, 357.901 80.3037 Q 357.565 80.3877, 357.193 80.3877 Q 356.269 80.3877, 355.771 79.8237 Q 355.279 79.2597, 355.279 78.2037 \" fill=\"#000000\"/>\n",
       "<path class=\"atom-13\" d=\"M 370.565 143.532 L 371.957 145.782 Q 372.095 146.004, 372.317 146.406 Q 372.539 146.808, 372.551 146.832 L 372.551 143.532 L 373.115 143.532 L 373.115 147.78 L 372.533 147.78 L 371.039 145.32 Q 370.865 145.032, 370.679 144.702 Q 370.499 144.372, 370.445 144.27 L 370.445 147.78 L 369.893 147.78 L 369.893 143.532 L 370.565 143.532 \" fill=\"#0000FF\"/>\n",
       "<path class=\"atom-13\" d=\"M 373.625 143.532 L 374.201 143.532 L 374.201 145.338 L 376.373 145.338 L 376.373 143.532 L 376.949 143.532 L 376.949 147.78 L 376.373 147.78 L 376.373 145.818 L 374.201 145.818 L 374.201 147.78 L 373.625 147.78 L 373.625 143.532 \" fill=\"#0000FF\"/>\n",
       "<path class=\"atom-13\" d=\"M 377.155 147.631 Q 377.258 147.366, 377.503 147.219 Q 377.749 147.069, 378.089 147.069 Q 378.513 147.069, 378.75 147.298 Q 378.988 147.528, 378.988 147.936 Q 378.988 148.352, 378.679 148.74 Q 378.374 149.128, 377.741 149.587 L 379.036 149.587 L 379.036 149.904 L 377.147 149.904 L 377.147 149.639 Q 377.669 149.267, 377.978 148.989 Q 378.291 148.712, 378.442 148.463 Q 378.592 148.213, 378.592 147.956 Q 378.592 147.686, 378.457 147.536 Q 378.323 147.386, 378.089 147.386 Q 377.863 147.386, 377.713 147.477 Q 377.562 147.568, 377.456 147.77 L 377.155 147.631 \" fill=\"#0000FF\"/>\n",
       "<path class=\"atom-14\" d=\"M 382.335 118.481 Q 382.335 117.461, 382.839 116.891 Q 383.343 116.321, 384.285 116.321 Q 385.227 116.321, 385.731 116.891 Q 386.235 117.461, 386.235 118.481 Q 386.235 119.513, 385.725 120.101 Q 385.215 120.683, 384.285 120.683 Q 383.349 120.683, 382.839 120.101 Q 382.335 119.519, 382.335 118.481 M 384.285 120.203 Q 384.933 120.203, 385.281 119.771 Q 385.635 119.333, 385.635 118.481 Q 385.635 117.647, 385.281 117.227 Q 384.933 116.801, 384.285 116.801 Q 383.637 116.801, 383.283 117.221 Q 382.935 117.641, 382.935 118.481 Q 382.935 119.339, 383.283 119.771 Q 383.637 120.203, 384.285 120.203 \" fill=\"#FF0000\"/>\n",
       "<path class=\"atom-15\" d=\"M 371.575 97.1041 Q 371.575 96.0841, 372.079 95.5141 Q 372.583 94.9441, 373.525 94.9441 Q 374.467 94.9441, 374.971 95.5141 Q 375.475 96.0841, 375.475 97.1041 Q 375.475 98.1361, 374.965 98.7241 Q 374.455 99.3061, 373.525 99.3061 Q 372.589 99.3061, 372.079 98.7241 Q 371.575 98.1421, 371.575 97.1041 M 373.525 98.8261 Q 374.173 98.8261, 374.521 98.3941 Q 374.875 97.9561, 374.875 97.1041 Q 374.875 96.2701, 374.521 95.8501 Q 374.173 95.4241, 373.525 95.4241 Q 372.877 95.4241, 372.523 95.8441 Q 372.175 96.2641, 372.175 97.1041 Q 372.175 97.9621, 372.523 98.3941 Q 372.877 98.8261, 373.525 98.8261 \" fill=\"#FF0000\"/>\n",
       "<path class=\"atom-16\" d=\"M 346.296 75.43 L 346.872 75.43 L 346.872 77.236 L 349.044 77.236 L 349.044 75.43 L 349.62 75.43 L 349.62 79.678 L 349.044 79.678 L 349.044 77.716 L 346.872 77.716 L 346.872 79.678 L 346.296 79.678 L 346.296 75.43 \" fill=\"#FF0000\"/>\n",
       "<path class=\"atom-16\" d=\"M 349.92 77.542 Q 349.92 76.522, 350.424 75.952 Q 350.928 75.382, 351.87 75.382 Q 352.812 75.382, 353.316 75.952 Q 353.82 76.522, 353.82 77.542 Q 353.82 78.574, 353.31 79.162 Q 352.8 79.744, 351.87 79.744 Q 350.934 79.744, 350.424 79.162 Q 349.92 78.58, 349.92 77.542 M 351.87 79.264 Q 352.518 79.264, 352.866 78.832 Q 353.22 78.394, 353.22 77.542 Q 353.22 76.708, 352.866 76.288 Q 352.518 75.862, 351.87 75.862 Q 351.222 75.862, 350.868 76.282 Q 350.52 76.702, 350.52 77.542 Q 350.52 78.4, 350.868 78.832 Q 351.222 79.264, 351.87 79.264 \" fill=\"#FF0000\"/>\n",
       "<path d=\"M 229.812 182.856 L 236.548 182.856 L 236.548 184.152 L 231.332 184.152 L 231.332 187.592 L 235.972 187.592 L 235.972 188.904 L 231.332 188.904 L 231.332 194.184 L 229.812 194.184 L 229.812 182.856 \" fill=\"#000000\"/>\n",
       "<path d=\"M 239.124 185.96 L 239.3 187.096 Q 240.164 185.816, 241.572 185.816 Q 242.02 185.816, 242.628 185.976 L 242.388 187.32 Q 241.7 187.16, 241.316 187.16 Q 240.644 187.16, 240.196 187.432 Q 239.764 187.688, 239.412 188.312 L 239.412 194.184 L 237.908 194.184 L 237.908 185.96 L 239.124 185.96 \" fill=\"#000000\"/>\n",
       "<path d=\"M 243.364 190.056 Q 243.364 188.056, 244.372 186.936 Q 245.396 185.816, 247.268 185.816 Q 249.14 185.816, 250.148 186.936 Q 251.172 188.056, 251.172 190.056 Q 251.172 192.056, 250.148 193.192 Q 249.14 194.312, 247.268 194.312 Q 245.396 194.312, 244.372 193.192 Q 243.364 192.056, 243.364 190.056 M 244.9 190.056 Q 244.9 191.56, 245.508 192.344 Q 246.132 193.128, 247.268 193.128 Q 248.404 193.128, 249.012 192.344 Q 249.636 191.56, 249.636 190.056 Q 249.636 188.552, 249.012 187.784 Q 248.404 187, 247.268 187 Q 246.132 187, 245.508 187.784 Q 244.9 188.552, 244.9 190.056 \" fill=\"#000000\"/>\n",
       "<path d=\"M 261.988 185.816 Q 263.38 185.816, 264.084 186.568 Q 264.788 187.304, 264.788 188.744 L 264.788 194.184 L 263.284 194.184 L 263.284 188.856 Q 263.284 187.88, 262.9 187.448 Q 262.532 187, 261.7 187 Q 260.98 187, 260.356 187.352 Q 259.748 187.688, 259.38 188.296 Q 259.396 188.44, 259.396 188.744 L 259.396 194.184 L 257.892 194.184 L 257.892 188.856 Q 257.892 187.88, 257.508 187.448 Q 257.14 187, 256.308 187 Q 255.588 187, 254.98 187.352 Q 254.372 187.688, 253.988 188.28 L 253.988 194.184 L 252.484 194.184 L 252.484 185.96 L 253.716 185.96 L 253.876 187.08 Q 254.948 185.816, 256.596 185.816 Q 258.532 185.816, 259.14 187.256 Q 260.228 185.816, 261.988 185.816 \" fill=\"#000000\"/>\n",
       "<path d=\"\" fill=\"#000000\"/>\n",
       "<path d=\"M 273.492 182.856 Q 275.428 182.856, 276.404 183.736 Q 277.38 184.6, 277.38 186.184 Q 277.38 187.752, 276.372 188.648 Q 275.38 189.528, 273.492 189.528 L 271.684 189.528 L 271.684 194.184 L 270.148 194.184 L 270.148 182.856 L 273.492 182.856 M 273.492 188.248 Q 274.596 188.248, 275.188 187.72 Q 275.78 187.192, 275.78 186.184 Q 275.78 185.176, 275.188 184.664 Q 274.612 184.136, 273.492 184.136 L 271.684 184.136 L 271.684 188.248 L 273.492 188.248 \" fill=\"#000000\"/>\n",
       "<path d=\"M 282.404 182.856 Q 284.916 182.856, 286.26 184.344 Q 287.604 185.816, 287.604 188.488 Q 287.604 191.176, 286.244 192.68 Q 284.9 194.184, 282.404 194.184 L 278.74 194.184 L 278.74 182.856 L 282.404 182.856 M 282.404 192.904 Q 284.132 192.904, 285.06 191.8 Q 286.004 190.696, 286.004 188.488 Q 286.004 186.296, 285.06 185.224 Q 284.132 184.136, 282.404 184.136 L 280.276 184.136 L 280.276 192.904 L 282.404 192.904 \" fill=\"#000000\"/>\n",
       "<path d=\"M 294.468 188.232 Q 295.556 188.536, 296.1 189.208 Q 296.66 189.864, 296.66 190.84 Q 296.66 192.408, 295.652 193.304 Q 294.66 194.184, 292.772 194.184 L 288.964 194.184 L 288.964 182.856 L 292.308 182.856 Q 294.244 182.856, 295.22 183.64 Q 296.196 184.424, 296.196 185.864 Q 296.196 187.576, 294.468 188.232 M 290.484 184.136 L 290.484 187.688 L 292.308 187.688 Q 293.428 187.688, 294.004 187.24 Q 294.596 186.776, 294.596 185.864 Q 294.596 184.136, 292.308 184.136 L 290.484 184.136 M 292.772 192.904 Q 293.876 192.904, 294.468 192.376 Q 295.06 191.848, 295.06 190.84 Q 295.06 189.912, 294.404 189.448 Q 293.764 188.968, 292.532 188.968 L 290.484 188.968 L 290.484 192.904 L 292.772 192.904 \" fill=\"#000000\"/>\n",
       "<path d=\"\" fill=\"#000000\"/>\n",
       "<path d=\"M 302.068 182.808 L 303.588 182.808 L 303.588 194.184 L 302.068 194.184 L 302.068 182.808 \" fill=\"#000000\"/>\n",
       "<path d=\"M 308.612 182.856 Q 311.124 182.856, 312.468 184.344 Q 313.812 185.816, 313.812 188.488 Q 313.812 191.176, 312.452 192.68 Q 311.108 194.184, 308.612 194.184 L 304.948 194.184 L 304.948 182.856 L 308.612 182.856 M 308.612 192.904 Q 310.34 192.904, 311.268 191.8 Q 312.212 190.696, 312.212 188.488 Q 312.212 186.296, 311.268 185.224 Q 310.34 184.136, 308.612 184.136 L 306.484 184.136 L 306.484 192.904 L 308.612 192.904 \" fill=\"#000000\"/>\n",
       "<path d=\"M 315.012 192.312 L 316.612 192.312 L 316.612 193.912 L 315.012 193.912 L 315.012 192.312 M 315.012 186.808 L 316.612 186.808 L 316.612 188.408 L 315.012 188.408 L 315.012 186.808 \" fill=\"#000000\"/>\n",
       "<path d=\"\" fill=\"#000000\"/>\n",
       "<path d=\"M 328.452 190.296 L 329.812 190.296 L 329.812 191.576 L 328.452 191.576 L 328.452 194.184 L 326.948 194.184 L 326.948 191.576 L 321.092 191.576 L 321.092 190.568 L 326.052 182.856 L 328.452 182.856 L 328.452 190.296 M 322.948 190.296 L 326.948 190.296 L 326.948 183.88 L 322.948 190.296 \" fill=\"#000000\"/>\n",
       "<path d=\"M 344.356 182.872 L 345.892 182.872 L 342.868 194.184 L 340.548 194.184 L 338.084 184.744 L 335.604 194.184 L 333.284 194.184 L 330.26 182.872 L 331.812 182.872 L 334.468 192.776 L 337.076 182.872 L 339.076 182.872 L 341.684 192.808 L 344.356 182.872 \" fill=\"#000000\"/>\n",
       "<path d=\"M 354.18 182.856 L 355.668 182.856 L 351.812 194.184 L 349.924 194.184 L 346.212 182.856 L 347.748 182.856 L 350.9 192.52 L 354.18 182.856 \" fill=\"#000000\"/>\n",
       "<path d=\"M 360.372 182.856 Q 362.308 182.856, 363.284 183.736 Q 364.26 184.6, 364.26 186.184 Q 364.26 187.752, 363.252 188.648 Q 362.26 189.528, 360.372 189.528 L 358.564 189.528 L 358.564 194.184 L 357.028 194.184 L 357.028 182.856 L 360.372 182.856 M 360.372 188.248 Q 361.476 188.248, 362.068 187.72 Q 362.66 187.192, 362.66 186.184 Q 362.66 185.176, 362.068 184.664 Q 361.492 184.136, 360.372 184.136 L 358.564 184.136 L 358.564 188.248 L 360.372 188.248 \" fill=\"#000000\"/>\n",
       "<path class=\"bond-0\" d=\"M 451.878,73.6699 L 454.644,74.0192\" style=\"fill:none;fill-rule:evenodd;stroke:#33CCCC;stroke-width:2.0px;stroke-linecap:butt;stroke-linejoin:miter;stroke-opacity:1\"/>\n",
       "<path class=\"bond-0\" d=\"M 454.644,74.0192 L 457.409,74.3685\" style=\"fill:none;fill-rule:evenodd;stroke:#000000;stroke-width:2.0px;stroke-linecap:butt;stroke-linejoin:miter;stroke-opacity:1\"/>\n",
       "<path class=\"bond-1\" d=\"M 457.409,74.3685 L 458.922,78.7497\" style=\"fill:none;fill-rule:evenodd;stroke:#000000;stroke-width:2.0px;stroke-linecap:butt;stroke-linejoin:miter;stroke-opacity:1\"/>\n",
       "<path class=\"bond-1\" d=\"M 458.922,78.7497 L 460.436,83.1309\" style=\"fill:none;fill-rule:evenodd;stroke:#33CCCC;stroke-width:2.0px;stroke-linecap:butt;stroke-linejoin:miter;stroke-opacity:1\"/>\n",
       "<path class=\"bond-2\" d=\"M 457.409,74.3685 L 454.864,73.367\" style=\"fill:none;fill-rule:evenodd;stroke:#000000;stroke-width:2.0px;stroke-linecap:butt;stroke-linejoin:miter;stroke-opacity:1\"/>\n",
       "<path class=\"bond-2\" d=\"M 454.864,73.367 L 452.318,72.3656\" style=\"fill:none;fill-rule:evenodd;stroke:#33CCCC;stroke-width:2.0px;stroke-linecap:butt;stroke-linejoin:miter;stroke-opacity:1\"/>\n",
       "<path class=\"bond-3\" d=\"M 457.409,74.3685 L 468.322,66.0963\" style=\"fill:none;fill-rule:evenodd;stroke:#000000;stroke-width:2.0px;stroke-linecap:butt;stroke-linejoin:miter;stroke-opacity:1\"/>\n",
       "<path class=\"bond-4\" d=\"M 468.322,66.0963 L 471.696,64.4504\" style=\"fill:none;fill-rule:evenodd;stroke:#000000;stroke-width:2.0px;stroke-linecap:butt;stroke-linejoin:miter;stroke-opacity:1\"/>\n",
       "<path class=\"bond-5\" d=\"M 468.322,66.0963 L 471.369,62.9595\" style=\"fill:none;fill-rule:evenodd;stroke:#000000;stroke-width:2.0px;stroke-linecap:butt;stroke-linejoin:miter;stroke-opacity:1\"/>\n",
       "<path class=\"bond-6\" d=\"M 475.428,62.1744 L 481.736,57.625\" style=\"fill:none;fill-rule:evenodd;stroke:#000000;stroke-width:2.0px;stroke-linecap:butt;stroke-linejoin:miter;stroke-opacity:1\"/>\n",
       "<path class=\"bond-7\" d=\"M 485.439,54.5274 L 488.648,51.4562\" style=\"fill:none;fill-rule:evenodd;stroke:#000000;stroke-width:2.0px;stroke-linecap:butt;stroke-linejoin:miter;stroke-opacity:1\"/>\n",
       "<path class=\"bond-8\" d=\"M 488.648,51.4562 L 483.456,53.7106\" style=\"fill:none;fill-rule:evenodd;stroke:#000000;stroke-width:2.0px;stroke-linecap:butt;stroke-linejoin:miter;stroke-opacity:1\"/>\n",
       "<path class=\"bond-9\" d=\"M 475.135,59.6893 L 483.456,53.7106\" style=\"fill:none;fill-rule:evenodd;stroke:#000000;stroke-width:2.0px;stroke-linecap:butt;stroke-linejoin:miter;stroke-opacity:1\"/>\n",
       "<path class=\"bond-10\" d=\"M 483.456,53.7106 L 485.009,52.0693\" style=\"fill:none;fill-rule:evenodd;stroke:#000000;stroke-width:2.0px;stroke-linecap:butt;stroke-linejoin:miter;stroke-opacity:1\"/>\n",
       "<path class=\"bond-10\" d=\"M 485.009,52.0693 L 486.562,50.428\" style=\"fill:none;fill-rule:evenodd;stroke:#0000FF;stroke-width:2.0px;stroke-linecap:butt;stroke-linejoin:miter;stroke-opacity:1\"/>\n",
       "<path class=\"bond-11\" d=\"M 490.242,49.6234 L 494.142,51.8646\" style=\"fill:none;fill-rule:evenodd;stroke:#0000FF;stroke-width:2.0px;stroke-linecap:butt;stroke-linejoin:miter;stroke-opacity:1\"/>\n",
       "<path class=\"bond-11\" d=\"M 494.142,51.8646 L 498.042,54.1058\" style=\"fill:none;fill-rule:evenodd;stroke:#000000;stroke-width:2.0px;stroke-linecap:butt;stroke-linejoin:miter;stroke-opacity:1\"/>\n",
       "<path class=\"bond-12\" d=\"M 487.409,46.1284 L 485.805,42.0291\" style=\"fill:none;fill-rule:evenodd;stroke:#0000FF;stroke-width:2.0px;stroke-linecap:butt;stroke-linejoin:miter;stroke-opacity:1\"/>\n",
       "<path class=\"bond-12\" d=\"M 485.805,42.0291 L 484.202,37.9298\" style=\"fill:none;fill-rule:evenodd;stroke:#000000;stroke-width:2.0px;stroke-linecap:butt;stroke-linejoin:miter;stroke-opacity:1\"/>\n",
       "<path class=\"bond-13\" d=\"M 498.042,54.1058 L 499.5,57.3559\" style=\"fill:none;fill-rule:evenodd;stroke:#000000;stroke-width:2.0px;stroke-linecap:butt;stroke-linejoin:miter;stroke-opacity:1\"/>\n",
       "<path class=\"bond-13\" d=\"M 499.5,57.3559 L 500.958,60.606\" style=\"fill:none;fill-rule:evenodd;stroke:#FF0000;stroke-width:2.0px;stroke-linecap:butt;stroke-linejoin:miter;stroke-opacity:1\"/>\n",
       "<path class=\"bond-14\" d=\"M 498.042,54.1058 L 499.691,52.7138\" style=\"fill:none;fill-rule:evenodd;stroke:#000000;stroke-width:2.0px;stroke-linecap:butt;stroke-linejoin:miter;stroke-opacity:1\"/>\n",
       "<path class=\"bond-14\" d=\"M 499.691,52.7138 L 501.34,51.3218\" style=\"fill:none;fill-rule:evenodd;stroke:#0000FF;stroke-width:2.0px;stroke-linecap:butt;stroke-linejoin:miter;stroke-opacity:1\"/>\n",
       "<path class=\"bond-15\" d=\"M 484.202,37.9298 L 475.588,30.5917\" style=\"fill:none;fill-rule:evenodd;stroke:#000000;stroke-width:2.0px;stroke-linecap:butt;stroke-linejoin:miter;stroke-opacity:1\"/>\n",
       "<path class=\"bond-16\" d=\"M 484.202,37.9298 L 487.803,34.1215\" style=\"fill:none;fill-rule:evenodd;stroke:#000000;stroke-width:2.0px;stroke-linecap:butt;stroke-linejoin:miter;stroke-opacity:1\"/>\n",
       "<path class=\"bond-17\" d=\"M 487.803,34.1215 L 483.977,22.6968\" style=\"fill:none;fill-rule:evenodd;stroke:#000000;stroke-width:2.0px;stroke-linecap:butt;stroke-linejoin:miter;stroke-opacity:1\"/>\n",
       "<path class=\"bond-18\" d=\"M 487.803,34.1215 L 496.309,41.747\" style=\"fill:none;fill-rule:evenodd;stroke:#000000;stroke-width:2.0px;stroke-linecap:butt;stroke-linejoin:miter;stroke-opacity:1\"/>\n",
       "<path class=\"bond-19\" d=\"M 483.977,22.6968 L 482.129,20.0198\" style=\"fill:none;fill-rule:evenodd;stroke:#000000;stroke-width:2.0px;stroke-linecap:butt;stroke-linejoin:miter;stroke-opacity:1\"/>\n",
       "<path class=\"bond-19\" d=\"M 482.129,20.0198 L 480.28,17.3429\" style=\"fill:none;fill-rule:evenodd;stroke:#FF0000;stroke-width:2.0px;stroke-linecap:butt;stroke-linejoin:miter;stroke-opacity:1\"/>\n",
       "<path class=\"bond-20\" d=\"M 483.977,22.6968 L 486.941,20.7209\" style=\"fill:none;fill-rule:evenodd;stroke:#000000;stroke-width:2.0px;stroke-linecap:butt;stroke-linejoin:miter;stroke-opacity:1\"/>\n",
       "<path class=\"bond-21\" d=\"M 496.309,41.747 L 498.776,44.6723\" style=\"fill:none;fill-rule:evenodd;stroke:#000000;stroke-width:2.0px;stroke-linecap:butt;stroke-linejoin:miter;stroke-opacity:1\"/>\n",
       "<path class=\"bond-21\" d=\"M 498.776,44.6723 L 501.242,47.5977\" style=\"fill:none;fill-rule:evenodd;stroke:#0000FF;stroke-width:2.0px;stroke-linecap:butt;stroke-linejoin:miter;stroke-opacity:1\"/>\n",
       "<path class=\"bond-22\" d=\"M 496.309,41.747 L 490.318,49.7586\" style=\"fill:none;fill-rule:evenodd;stroke:#000000;stroke-width:2.0px;stroke-linecap:butt;stroke-linejoin:miter;stroke-opacity:1\"/>\n",
       "<path class=\"bond-23\" d=\"M 490.318,49.7586 L 496.219,52.1657\" style=\"fill:none;fill-rule:evenodd;stroke:#000000;stroke-width:2.0px;stroke-linecap:butt;stroke-linejoin:miter;stroke-opacity:1\"/>\n",
       "<path class=\"bond-24\" d=\"M 490.318,49.7586 L 479.109,55.0309\" style=\"fill:none;fill-rule:evenodd;stroke:#000000;stroke-width:2.0px;stroke-linecap:butt;stroke-linejoin:miter;stroke-opacity:1\"/>\n",
       "<path class=\"bond-25\" d=\"M 496.219,52.1657 L 494.497,54.9085\" style=\"fill:none;fill-rule:evenodd;stroke:#000000;stroke-width:2.0px;stroke-linecap:butt;stroke-linejoin:miter;stroke-opacity:1\"/>\n",
       "<path class=\"bond-25\" d=\"M 494.497,54.9085 L 492.776,57.6513\" style=\"fill:none;fill-rule:evenodd;stroke:#0000FF;stroke-width:2.0px;stroke-linecap:butt;stroke-linejoin:miter;stroke-opacity:1\"/>\n",
       "<path class=\"bond-26\" d=\"M 489.379,60.898 L 484.76,63.0436\" style=\"fill:none;fill-rule:evenodd;stroke:#0000FF;stroke-width:2.0px;stroke-linecap:butt;stroke-linejoin:miter;stroke-opacity:1\"/>\n",
       "<path class=\"bond-26\" d=\"M 484.76,63.0436 L 480.142,65.1892\" style=\"fill:none;fill-rule:evenodd;stroke:#000000;stroke-width:2.0px;stroke-linecap:butt;stroke-linejoin:miter;stroke-opacity:1\"/>\n",
       "<path class=\"bond-27\" d=\"M 480.142,65.1892 L 477.085,69.9786\" style=\"fill:none;fill-rule:evenodd;stroke:#000000;stroke-width:2.0px;stroke-linecap:butt;stroke-linejoin:miter;stroke-opacity:1\"/>\n",
       "<path class=\"bond-28\" d=\"M 480.142,65.1892 L 474.097,62.5935\" style=\"fill:none;fill-rule:evenodd;stroke:#000000;stroke-width:2.0px;stroke-linecap:butt;stroke-linejoin:miter;stroke-opacity:1\"/>\n",
       "<path class=\"bond-29\" d=\"M 474.086,74.7283 L 473.543,75.5968\" style=\"fill:none;fill-rule:evenodd;stroke:#000000;stroke-width:2.0px;stroke-linecap:butt;stroke-linejoin:miter;stroke-opacity:1\"/>\n",
       "<path class=\"bond-29\" d=\"M 473.543,75.5968 L 473.001,76.4653\" style=\"fill:none;fill-rule:evenodd;stroke:#0000FF;stroke-width:2.0px;stroke-linecap:butt;stroke-linejoin:miter;stroke-opacity:1\"/>\n",
       "<path class=\"bond-30\" d=\"M 474.097,62.5935 L 479.109,55.0309\" style=\"fill:none;fill-rule:evenodd;stroke:#000000;stroke-width:2.0px;stroke-linecap:butt;stroke-linejoin:miter;stroke-opacity:1\"/>\n",
       "<path class=\"atom-0\" d=\"M 449.177 71.3643 L 451.703 71.3643 L 451.703 71.8503 L 449.747 71.8503 L 449.747 73.1403 L 451.487 73.1403 L 451.487 73.6323 L 449.747 73.6323 L 449.747 75.6123 L 449.177 75.6123 L 449.177 71.3643 \" fill=\"#33CCCC\"/>\n",
       "<path class=\"atom-2\" d=\"M 460.008 83.4267 L 462.534 83.4267 L 462.534 83.9127 L 460.578 83.9127 L 460.578 85.2027 L 462.318 85.2027 L 462.318 85.6947 L 460.578 85.6947 L 460.578 87.6747 L 460.008 87.6747 L 460.008 83.4267 \" fill=\"#33CCCC\"/>\n",
       "<path class=\"atom-3\" d=\"M 449.617 69.6757 L 452.143 69.6757 L 452.143 70.1617 L 450.187 70.1617 L 450.187 71.4517 L 451.927 71.4517 L 451.927 71.9437 L 450.187 71.9437 L 450.187 73.9237 L 449.617 73.9237 L 449.617 69.6757 \" fill=\"#33CCCC\"/>\n",
       "<path class=\"atom-5\" d=\"M 471.84 63.5995 Q 471.84 62.5435, 472.332 61.9915 Q 472.83 61.4335, 473.772 61.4335 Q 474.648 61.4335, 475.116 62.0515 L 474.72 62.3755 Q 474.378 61.9255, 473.772 61.9255 Q 473.13 61.9255, 472.788 62.3575 Q 472.452 62.7835, 472.452 63.5995 Q 472.452 64.4395, 472.8 64.8715 Q 473.154 65.3035, 473.838 65.3035 Q 474.306 65.3035, 474.852 65.0215 L 475.02 65.4715 Q 474.798 65.6155, 474.462 65.6995 Q 474.126 65.7835, 473.754 65.7835 Q 472.83 65.7835, 472.332 65.2195 Q 471.84 64.6555, 471.84 63.5995 \" fill=\"#000000\"/>\n",
       "<path class=\"atom-6\" d=\"M 481.989 56.2794 Q 481.989 55.2234, 482.481 54.6714 Q 482.979 54.1134, 483.921 54.1134 Q 484.797 54.1134, 485.265 54.7314 L 484.869 55.0554 Q 484.527 54.6054, 483.921 54.6054 Q 483.279 54.6054, 482.937 55.0374 Q 482.601 55.4634, 482.601 56.2794 Q 482.601 57.1194, 482.949 57.5514 Q 483.303 57.9834, 483.987 57.9834 Q 484.455 57.9834, 485.001 57.7014 L 485.169 58.1514 Q 484.947 58.2954, 484.611 58.3794 Q 484.275 58.4634, 483.903 58.4634 Q 482.979 58.4634, 482.481 57.8994 Q 481.989 57.3354, 481.989 56.2794 \" fill=\"#000000\"/>\n",
       "<path class=\"atom-8\" d=\"M 471.543 61.1115 Q 471.543 60.0555, 472.035 59.5035 Q 472.533 58.9455, 473.475 58.9455 Q 474.351 58.9455, 474.819 59.5635 L 474.423 59.8875 Q 474.081 59.4375, 473.475 59.4375 Q 472.833 59.4375, 472.491 59.8695 Q 472.155 60.2955, 472.155 61.1115 Q 472.155 61.9515, 472.503 62.3835 Q 472.857 62.8155, 473.541 62.8155 Q 474.009 62.8155, 474.555 62.5335 L 474.723 62.9835 Q 474.501 63.1275, 474.165 63.2115 Q 473.829 63.2955, 473.457 63.2955 Q 472.533 63.2955, 472.035 62.7315 Q 471.543 62.1675, 471.543 61.1115 \" fill=\"#000000\"/>\n",
       "<path class=\"atom-10\" d=\"M 487.412 46.4131 L 488.804 48.6631 Q 488.942 48.8851, 489.164 49.2871 Q 489.386 49.6891, 489.398 49.7131 L 489.398 46.4131 L 489.962 46.4131 L 489.962 50.6611 L 489.38 50.6611 L 487.886 48.2011 Q 487.712 47.9131, 487.526 47.5831 Q 487.346 47.2531, 487.292 47.1511 L 487.292 50.6611 L 486.74 50.6611 L 486.74 46.4131 L 487.412 46.4131 \" fill=\"#0000FF\"/>\n",
       "<path class=\"atom-12\" d=\"M 500.08 63.0096 Q 500.08 61.9896, 500.584 61.4196 Q 501.088 60.8496, 502.03 60.8496 Q 502.972 60.8496, 503.476 61.4196 Q 503.98 61.9896, 503.98 63.0096 Q 503.98 64.0416, 503.47 64.6296 Q 502.96 65.2116, 502.03 65.2116 Q 501.094 65.2116, 500.584 64.6296 Q 500.08 64.0476, 500.08 63.0096 M 502.03 64.7316 Q 502.678 64.7316, 503.026 64.2996 Q 503.38 63.8616, 503.38 63.0096 Q 503.38 62.1756, 503.026 61.7556 Q 502.678 61.3296, 502.03 61.3296 Q 501.382 61.3296, 501.028 61.7496 Q 500.68 62.1696, 500.68 63.0096 Q 500.68 63.8676, 501.028 64.2996 Q 501.382 64.7316, 502.03 64.7316 \" fill=\"#FF0000\"/>\n",
       "<path class=\"atom-12\" d=\"M 504.49 60.8976 L 505.066 60.8976 L 505.066 62.7036 L 507.238 62.7036 L 507.238 60.8976 L 507.814 60.8976 L 507.814 65.1456 L 507.238 65.1456 L 507.238 63.1836 L 505.066 63.1836 L 505.066 65.1456 L 504.49 65.1456 L 504.49 60.8976 \" fill=\"#FF0000\"/>\n",
       "<path class=\"atom-17\" d=\"M 473.014 12.7917 L 473.59 12.7917 L 473.59 14.5977 L 475.762 14.5977 L 475.762 12.7917 L 476.338 12.7917 L 476.338 17.0397 L 475.762 17.0397 L 475.762 15.0777 L 473.59 15.0777 L 473.59 17.0397 L 473.014 17.0397 L 473.014 12.7917 \" fill=\"#FF0000\"/>\n",
       "<path class=\"atom-17\" d=\"M 476.638 14.9037 Q 476.638 13.8837, 477.142 13.3137 Q 477.646 12.7437, 478.588 12.7437 Q 479.53 12.7437, 480.034 13.3137 Q 480.538 13.8837, 480.538 14.9037 Q 480.538 15.9357, 480.028 16.5237 Q 479.518 17.1057, 478.588 17.1057 Q 477.652 17.1057, 477.142 16.5237 Q 476.638 15.9417, 476.638 14.9037 M 478.588 16.6257 Q 479.236 16.6257, 479.584 16.1937 Q 479.938 15.7557, 479.938 14.9037 Q 479.938 14.0697, 479.584 13.6497 Q 479.236 13.2237, 478.588 13.2237 Q 477.94 13.2237, 477.586 13.6437 Q 477.238 14.0637, 477.238 14.9037 Q 477.238 15.7617, 477.586 16.1937 Q 477.94 16.6257, 478.588 16.6257 \" fill=\"#FF0000\"/>\n",
       "<path class=\"atom-20\" d=\"M 502.178 47.6975 L 503.57 49.9475 Q 503.708 50.1695, 503.93 50.5715 Q 504.152 50.9735, 504.164 50.9975 L 504.164 47.6975 L 504.728 47.6975 L 504.728 51.9455 L 504.146 51.9455 L 502.652 49.4855 Q 502.478 49.1975, 502.292 48.8675 Q 502.112 48.5375, 502.058 48.4355 L 502.058 51.9455 L 501.506 51.9455 L 501.506 47.6975 L 502.178 47.6975 \" fill=\"#0000FF\"/>\n",
       "<path class=\"atom-20\" d=\"M 505.238 47.6975 L 505.814 47.6975 L 505.814 49.5035 L 507.986 49.5035 L 507.986 47.6975 L 508.562 47.6975 L 508.562 51.9455 L 507.986 51.9455 L 507.986 49.9835 L 505.814 49.9835 L 505.814 51.9455 L 505.238 51.9455 L 505.238 47.6975 \" fill=\"#0000FF\"/>\n",
       "<path class=\"atom-23\" d=\"M 490.358 57.8827 L 491.75 60.1327 Q 491.888 60.3547, 492.11 60.7567 Q 492.332 61.1587, 492.344 61.1827 L 492.344 57.8827 L 492.908 57.8827 L 492.908 62.1307 L 492.326 62.1307 L 490.832 59.6707 Q 490.658 59.3827, 490.472 59.0527 Q 490.292 58.7227, 490.238 58.6207 L 490.238 62.1307 L 489.686 62.1307 L 489.686 57.8827 L 490.358 57.8827 \" fill=\"#0000FF\"/>\n",
       "<path class=\"atom-23\" d=\"M 493.418 57.8827 L 493.994 57.8827 L 493.994 59.6887 L 496.166 59.6887 L 496.166 57.8827 L 496.742 57.8827 L 496.742 62.1307 L 496.166 62.1307 L 496.166 60.1687 L 493.994 60.1687 L 493.994 62.1307 L 493.418 62.1307 L 493.418 57.8827 \" fill=\"#0000FF\"/>\n",
       "<path class=\"atom-25\" d=\"M 473.941 72.3566 Q 473.941 71.3006, 474.433 70.7486 Q 474.931 70.1906, 475.873 70.1906 Q 476.749 70.1906, 477.217 70.8086 L 476.821 71.1326 Q 476.479 70.6826, 475.873 70.6826 Q 475.231 70.6826, 474.889 71.1146 Q 474.553 71.5406, 474.553 72.3566 Q 474.553 73.1966, 474.901 73.6286 Q 475.255 74.0606, 475.939 74.0606 Q 476.407 74.0606, 476.953 73.7786 L 477.121 74.2286 Q 476.899 74.3726, 476.563 74.4566 Q 476.227 74.5406, 475.855 74.5406 Q 474.931 74.5406, 474.433 73.9766 Q 473.941 73.4126, 473.941 72.3566 \" fill=\"#000000\"/>\n",
       "<path class=\"atom-26\" d=\"M 464.08 76.5826 L 464.656 76.5826 L 464.656 78.3886 L 466.828 78.3886 L 466.828 76.5826 L 467.404 76.5826 L 467.404 80.8306 L 466.828 80.8306 L 466.828 78.8686 L 464.656 78.8686 L 464.656 80.8306 L 464.08 80.8306 L 464.08 76.5826 \" fill=\"#0000FF\"/>\n",
       "<path class=\"atom-26\" d=\"M 467.61 80.6816 Q 467.713 80.4163, 467.959 80.2697 Q 468.204 80.1193, 468.545 80.1193 Q 468.969 80.1193, 469.206 80.3489 Q 469.444 80.5786, 469.444 80.9865 Q 469.444 81.4023, 469.135 81.7904 Q 468.83 82.1785, 468.196 82.6378 L 469.491 82.6378 L 469.491 82.9546 L 467.602 82.9546 L 467.602 82.6893 Q 468.125 82.3171, 468.434 82.0399 Q 468.747 81.7627, 468.897 81.5132 Q 469.048 81.2637, 469.048 81.0063 Q 469.048 80.737, 468.913 80.5865 Q 468.779 80.4361, 468.545 80.4361 Q 468.319 80.4361, 468.169 80.5271 Q 468.018 80.6182, 467.911 80.8202 L 467.61 80.6816 \" fill=\"#0000FF\"/>\n",
       "<path class=\"atom-26\" d=\"M 470.661 76.5826 L 472.053 78.8326 Q 472.191 79.0546, 472.413 79.4566 Q 472.635 79.8586, 472.647 79.8826 L 472.647 76.5826 L 473.211 76.5826 L 473.211 80.8306 L 472.629 80.8306 L 471.135 78.3706 Q 470.961 78.0826, 470.775 77.7526 Q 470.595 77.4226, 470.541 77.3206 L 470.541 80.8306 L 469.989 80.8306 L 469.989 76.5826 L 470.661 76.5826 \" fill=\"#0000FF\"/>\n",
       "<path d=\"M 449.541,74.3864 L 449.541,72.5901 L 451.338,72.5901 L 451.338,74.3864 L 449.541,74.3864\" style=\"fill:none;stroke:#FF0000;stroke-width:2px;stroke-linecap:butt;stroke-linejoin:miter;stroke-opacity:1;\"/>\n",
       "<path d=\"M 472.579,64.4796 L 472.579,62.6833 L 474.376,62.6833 L 474.376,64.4796 L 472.579,64.4796\" style=\"fill:none;stroke:#FF0000;stroke-width:2px;stroke-linecap:butt;stroke-linejoin:miter;stroke-opacity:1;\"/>\n",
       "<path d=\"M 482.729,57.1596 L 482.729,55.3632 L 484.525,55.3632 L 484.525,57.1596 L 482.729,57.1596\" style=\"fill:none;stroke:#FF0000;stroke-width:2px;stroke-linecap:butt;stroke-linejoin:miter;stroke-opacity:1;\"/>\n",
       "<path d=\"M 487.749,52.3544 L 487.749,50.558 L 489.546,50.558 L 489.546,52.3544 L 487.749,52.3544\" style=\"fill:none;stroke:#FF0000;stroke-width:2px;stroke-linecap:butt;stroke-linejoin:miter;stroke-opacity:1;\"/>\n",
       "<path d=\"M 497.144,55.0039 L 497.144,53.2076 L 498.941,53.2076 L 498.941,55.0039 L 497.144,55.0039\" style=\"fill:none;stroke:#FF0000;stroke-width:2px;stroke-linecap:butt;stroke-linejoin:miter;stroke-opacity:1;\"/>\n",
       "<path d=\"M 433.029 182.816 L 439.765 182.816 L 439.765 184.112 L 434.549 184.112 L 434.549 187.552 L 439.189 187.552 L 439.189 188.864 L 434.549 188.864 L 434.549 194.144 L 433.029 194.144 L 433.029 182.816 \" fill=\"#000000\"/>\n",
       "<path d=\"M 442.341 185.92 L 442.517 187.056 Q 443.381 185.776, 444.789 185.776 Q 445.237 185.776, 445.845 185.936 L 445.605 187.28 Q 444.917 187.12, 444.533 187.12 Q 443.861 187.12, 443.413 187.392 Q 442.981 187.648, 442.629 188.272 L 442.629 194.144 L 441.125 194.144 L 441.125 185.92 L 442.341 185.92 \" fill=\"#000000\"/>\n",
       "<path d=\"M 446.581 190.016 Q 446.581 188.016, 447.589 186.896 Q 448.613 185.776, 450.485 185.776 Q 452.357 185.776, 453.365 186.896 Q 454.389 188.016, 454.389 190.016 Q 454.389 192.016, 453.365 193.152 Q 452.357 194.272, 450.485 194.272 Q 448.613 194.272, 447.589 193.152 Q 446.581 192.016, 446.581 190.016 M 448.117 190.016 Q 448.117 191.52, 448.725 192.304 Q 449.349 193.088, 450.485 193.088 Q 451.621 193.088, 452.229 192.304 Q 452.853 191.52, 452.853 190.016 Q 452.853 188.512, 452.229 187.744 Q 451.621 186.96, 450.485 186.96 Q 449.349 186.96, 448.725 187.744 Q 448.117 188.512, 448.117 190.016 \" fill=\"#000000\"/>\n",
       "<path d=\"M 465.205 185.776 Q 466.597 185.776, 467.301 186.528 Q 468.005 187.264, 468.005 188.704 L 468.005 194.144 L 466.501 194.144 L 466.501 188.816 Q 466.501 187.84, 466.117 187.408 Q 465.749 186.96, 464.917 186.96 Q 464.197 186.96, 463.573 187.312 Q 462.965 187.648, 462.597 188.256 Q 462.613 188.4, 462.613 188.704 L 462.613 194.144 L 461.109 194.144 L 461.109 188.816 Q 461.109 187.84, 460.725 187.408 Q 460.357 186.96, 459.525 186.96 Q 458.805 186.96, 458.197 187.312 Q 457.589 187.648, 457.205 188.24 L 457.205 194.144 L 455.701 194.144 L 455.701 185.92 L 456.933 185.92 L 457.093 187.04 Q 458.165 185.776, 459.813 185.776 Q 461.749 185.776, 462.357 187.216 Q 463.445 185.776, 465.205 185.776 \" fill=\"#000000\"/>\n",
       "<path d=\"\" fill=\"#000000\"/>\n",
       "<path d=\"M 476.709 182.816 Q 478.645 182.816, 479.621 183.696 Q 480.597 184.56, 480.597 186.144 Q 480.597 187.712, 479.589 188.608 Q 478.597 189.488, 476.709 189.488 L 474.901 189.488 L 474.901 194.144 L 473.365 194.144 L 473.365 182.816 L 476.709 182.816 M 476.709 188.208 Q 477.813 188.208, 478.405 187.68 Q 478.997 187.152, 478.997 186.144 Q 478.997 185.136, 478.405 184.624 Q 477.829 184.096, 476.709 184.096 L 474.901 184.096 L 474.901 188.208 L 476.709 188.208 \" fill=\"#000000\"/>\n",
       "<path d=\"M 485.621 182.816 Q 488.133 182.816, 489.477 184.304 Q 490.821 185.776, 490.821 188.448 Q 490.821 191.136, 489.461 192.64 Q 488.117 194.144, 485.621 194.144 L 481.957 194.144 L 481.957 182.816 L 485.621 182.816 M 485.621 192.864 Q 487.349 192.864, 488.277 191.76 Q 489.221 190.656, 489.221 188.448 Q 489.221 186.256, 488.277 185.184 Q 487.349 184.096, 485.621 184.096 L 483.493 184.096 L 483.493 192.864 L 485.621 192.864 \" fill=\"#000000\"/>\n",
       "<path d=\"M 497.685 188.192 Q 498.773 188.496, 499.317 189.168 Q 499.877 189.824, 499.877 190.8 Q 499.877 192.368, 498.869 193.264 Q 497.877 194.144, 495.989 194.144 L 492.181 194.144 L 492.181 182.816 L 495.525 182.816 Q 497.461 182.816, 498.437 183.6 Q 499.413 184.384, 499.413 185.824 Q 499.413 187.536, 497.685 188.192 M 493.701 184.096 L 493.701 187.648 L 495.525 187.648 Q 496.645 187.648, 497.221 187.2 Q 497.813 186.736, 497.813 185.824 Q 497.813 184.096, 495.525 184.096 L 493.701 184.096 M 495.989 192.864 Q 497.093 192.864, 497.685 192.336 Q 498.277 191.808, 498.277 190.8 Q 498.277 189.872, 497.621 189.408 Q 496.981 188.928, 495.749 188.928 L 493.701 188.928 L 493.701 192.864 L 495.989 192.864 \" fill=\"#000000\"/>\n",
       "<path d=\"\" fill=\"#000000\"/>\n",
       "<path d=\"M 505.285 182.768 L 506.805 182.768 L 506.805 194.144 L 505.285 194.144 L 505.285 182.768 \" fill=\"#000000\"/>\n",
       "<path d=\"M 511.829 182.816 Q 514.341 182.816, 515.685 184.304 Q 517.029 185.776, 517.029 188.448 Q 517.029 191.136, 515.669 192.64 Q 514.325 194.144, 511.829 194.144 L 508.165 194.144 L 508.165 182.816 L 511.829 182.816 M 511.829 192.864 Q 513.557 192.864, 514.485 191.76 Q 515.429 190.656, 515.429 188.448 Q 515.429 186.256, 514.485 185.184 Q 513.557 184.096, 511.829 184.096 L 509.701 184.096 L 509.701 192.864 L 511.829 192.864 \" fill=\"#000000\"/>\n",
       "<path d=\"M 518.229 192.272 L 519.829 192.272 L 519.829 193.872 L 518.229 193.872 L 518.229 192.272 M 518.229 186.768 L 519.829 186.768 L 519.829 188.368 L 518.229 188.368 L 518.229 186.768 \" fill=\"#000000\"/>\n",
       "<path d=\"\" fill=\"#000000\"/>\n",
       "<path d=\"M 528.677 187.056 Q 529.669 187.056, 530.485 187.488 Q 531.301 187.904, 531.765 188.704 Q 532.229 189.488, 532.229 190.56 Q 532.229 191.728, 531.653 192.576 Q 531.093 193.408, 530.165 193.84 Q 529.237 194.272, 528.181 194.272 Q 527.141 194.272, 526.181 193.888 Q 525.221 193.504, 524.565 192.768 L 525.525 191.776 Q 526.053 192.352, 526.773 192.672 Q 527.493 192.976, 528.229 192.976 Q 529.237 192.976, 529.925 192.352 Q 530.629 191.728, 530.629 190.592 Q 530.629 189.392, 529.925 188.832 Q 529.237 188.256, 528.133 188.256 Q 527.141 188.256, 526.037 188.688 L 525.157 188.272 L 525.701 182.816 L 531.525 182.816 L 531.365 184.096 L 527.013 184.096 L 526.677 187.456 Q 527.685 187.056, 528.677 187.056 \" fill=\"#000000\"/>\n",
       "<path d=\"M 540.773 194.144 L 539.589 190.816 L 535.093 190.816 L 533.957 194.144 L 532.421 194.144 L 536.325 182.816 L 538.213 182.816 L 542.261 194.144 L 540.773 194.144 M 535.541 189.536 L 539.125 189.536 L 537.301 184.4 L 535.541 189.536 \" fill=\"#000000\"/>\n",
       "<path d=\"M 547.381 194.272 Q 545.301 194.272, 544.261 192.736 Q 543.237 191.2, 543.237 188.464 Q 543.237 185.728, 544.261 184.208 Q 545.285 182.688, 547.381 182.688 Q 549.477 182.688, 550.501 184.208 Q 551.525 185.728, 551.525 188.464 Q 551.525 191.2, 550.485 192.736 Q 549.461 194.272, 547.381 194.272 M 547.381 192.992 Q 548.613 192.992, 549.269 191.856 Q 549.925 190.704, 549.925 188.464 Q 549.925 186.24, 549.269 185.104 Q 548.613 183.968, 547.381 183.968 Q 546.165 183.968, 545.493 185.104 Q 544.837 186.24, 544.837 188.464 Q 544.837 190.704, 545.493 191.856 Q 546.165 192.992, 547.381 192.992 \" fill=\"#000000\"/>\n",
       "<path d=\"M 560.069 194.144 L 558.885 190.816 L 554.389 190.816 L 553.253 194.144 L 551.717 194.144 L 555.621 182.816 L 557.509 182.816 L 561.557 194.144 L 560.069 194.144 M 554.837 189.536 L 558.421 189.536 L 556.597 184.4 L 554.837 189.536 \" fill=\"#000000\"/>\n",
       "<path class=\"bond-0\" d=\"M 629.032,55.4022 L 628.873,55.733\" style=\"fill:none;fill-rule:evenodd;stroke:#0000FF;stroke-width:2.0px;stroke-linecap:butt;stroke-linejoin:miter;stroke-opacity:1\"/>\n",
       "<path class=\"bond-0\" d=\"M 628.873,55.733 L 628.713,56.0638\" style=\"fill:none;fill-rule:evenodd;stroke:#000000;stroke-width:2.0px;stroke-linecap:butt;stroke-linejoin:miter;stroke-opacity:1\"/>\n",
       "<path class=\"bond-1\" d=\"M 628.713,56.0638 L 635.934,47.2977\" style=\"fill:none;fill-rule:evenodd;stroke:#000000;stroke-width:2.0px;stroke-linecap:butt;stroke-linejoin:miter;stroke-opacity:1\"/>\n",
       "<path class=\"bond-2\" d=\"M 628.713,56.0638 L 615.546,55.2644\" style=\"fill:none;fill-rule:evenodd;stroke:#000000;stroke-width:2.0px;stroke-linecap:butt;stroke-linejoin:miter;stroke-opacity:1\"/>\n",
       "<path class=\"bond-3\" d=\"M 635.934,47.2977 L 641.053,48.022\" style=\"fill:none;fill-rule:evenodd;stroke:#000000;stroke-width:2.0px;stroke-linecap:butt;stroke-linejoin:miter;stroke-opacity:1\"/>\n",
       "<path class=\"bond-3\" d=\"M 641.053,48.022 L 646.171,48.7464\" style=\"fill:none;fill-rule:evenodd;stroke:#FF0000;stroke-width:2.0px;stroke-linecap:butt;stroke-linejoin:miter;stroke-opacity:1\"/>\n",
       "<path class=\"bond-4\" d=\"M 650.6,46.8877 L 652.523,44.9505\" style=\"fill:none;fill-rule:evenodd;stroke:#FF0000;stroke-width:2.0px;stroke-linecap:butt;stroke-linejoin:miter;stroke-opacity:1\"/>\n",
       "<path class=\"bond-4\" d=\"M 652.523,44.9505 L 654.445,43.0134\" style=\"fill:none;fill-rule:evenodd;stroke:#000000;stroke-width:2.0px;stroke-linecap:butt;stroke-linejoin:miter;stroke-opacity:1\"/>\n",
       "<path class=\"bond-5\" d=\"M 615.546,55.2644 L 613.347,52.374\" style=\"fill:none;fill-rule:evenodd;stroke:#000000;stroke-width:2.0px;stroke-linecap:butt;stroke-linejoin:miter;stroke-opacity:1\"/>\n",
       "<path class=\"bond-5\" d=\"M 613.347,52.374 L 611.149,49.4835\" style=\"fill:none;fill-rule:evenodd;stroke:#FF0000;stroke-width:2.0px;stroke-linecap:butt;stroke-linejoin:miter;stroke-opacity:1\"/>\n",
       "<path class=\"bond-6\" d=\"M 665.403,75.2666 L 668.947,65.4207\" style=\"fill:none;fill-rule:evenodd;stroke:#000000;stroke-width:2.0px;stroke-linecap:butt;stroke-linejoin:miter;stroke-opacity:1\"/>\n",
       "<path class=\"bond-7\" d=\"M 670.954,60.5468 L 673.163,55.8213\" style=\"fill:none;fill-rule:evenodd;stroke:#000000;stroke-width:2.0px;stroke-linecap:butt;stroke-linejoin:miter;stroke-opacity:1\"/>\n",
       "<path class=\"bond-8\" d=\"M 673.163,55.8213 L 668.178,43.0134\" style=\"fill:none;fill-rule:evenodd;stroke:#000000;stroke-width:2.0px;stroke-linecap:butt;stroke-linejoin:miter;stroke-opacity:1\"/>\n",
       "<path class=\"bond-9\" d=\"M 668.178,43.0134 L 654.445,43.0134\" style=\"fill:none;fill-rule:evenodd;stroke:#000000;stroke-width:2.0px;stroke-linecap:butt;stroke-linejoin:miter;stroke-opacity:1\"/>\n",
       "<path class=\"bond-10\" d=\"M 668.178,43.0134 L 669.837,40.7021\" style=\"fill:none;fill-rule:evenodd;stroke:#000000;stroke-width:2.0px;stroke-linecap:butt;stroke-linejoin:miter;stroke-opacity:1\"/>\n",
       "<path class=\"bond-10\" d=\"M 669.837,40.7021 L 671.495,38.3908\" style=\"fill:none;fill-rule:evenodd;stroke:#0000FF;stroke-width:2.0px;stroke-linecap:butt;stroke-linejoin:miter;stroke-opacity:1\"/>\n",
       "<path class=\"bond-11\" d=\"M 654.445,43.0134 L 652.789,41.2857\" style=\"fill:none;fill-rule:evenodd;stroke:#000000;stroke-width:2.0px;stroke-linecap:butt;stroke-linejoin:miter;stroke-opacity:1\"/>\n",
       "<path class=\"bond-11\" d=\"M 652.789,41.2857 L 651.132,39.5581\" style=\"fill:none;fill-rule:evenodd;stroke:#FF0000;stroke-width:2.0px;stroke-linecap:butt;stroke-linejoin:miter;stroke-opacity:1\"/>\n",
       "<path class=\"bond-12\" d=\"M 668.511,40.5165 L 669.955,39.1332\" style=\"fill:none;fill-rule:evenodd;stroke:#000000;stroke-width:2.0px;stroke-linecap:butt;stroke-linejoin:miter;stroke-opacity:1\"/>\n",
       "<path class=\"bond-12\" d=\"M 669.955,39.1332 L 671.4,37.7498\" style=\"fill:none;fill-rule:evenodd;stroke:#0000FF;stroke-width:2.0px;stroke-linecap:butt;stroke-linejoin:miter;stroke-opacity:1\"/>\n",
       "<path class=\"bond-13\" d=\"M 689.483,21.8526 L 685.67,19.6633\" style=\"fill:none;fill-rule:evenodd;stroke:#000000;stroke-width:2.0px;stroke-linecap:butt;stroke-linejoin:miter;stroke-opacity:1\"/>\n",
       "<path class=\"bond-13\" d=\"M 685.67,19.6633 L 681.856,17.474\" style=\"fill:none;fill-rule:evenodd;stroke:#0000FF;stroke-width:2.0px;stroke-linecap:butt;stroke-linejoin:miter;stroke-opacity:1\"/>\n",
       "<path class=\"bond-14\" d=\"M 672.778,33.5959 L 672.12,29.5054\" style=\"fill:none;fill-rule:evenodd;stroke:#0000FF;stroke-width:2.0px;stroke-linecap:butt;stroke-linejoin:miter;stroke-opacity:1\"/>\n",
       "<path class=\"bond-14\" d=\"M 672.12,29.5054 L 671.463,25.4149\" style=\"fill:none;fill-rule:evenodd;stroke:#CCCC00;stroke-width:2.0px;stroke-linecap:butt;stroke-linejoin:miter;stroke-opacity:1\"/>\n",
       "<path class=\"bond-15\" d=\"M 678.084,17.7727 L 675.363,19.7645\" style=\"fill:none;fill-rule:evenodd;stroke:#0000FF;stroke-width:2.0px;stroke-linecap:butt;stroke-linejoin:miter;stroke-opacity:1\"/>\n",
       "<path class=\"bond-15\" d=\"M 675.363,19.7645 L 672.641,21.7564\" style=\"fill:none;fill-rule:evenodd;stroke:#CCCC00;stroke-width:2.0px;stroke-linecap:butt;stroke-linejoin:miter;stroke-opacity:1\"/>\n",
       "<path class=\"bond-16\" d=\"M 671.516,21.6731 L 671.289,22.2927\" style=\"fill:none;fill-rule:evenodd;stroke:#FF0000;stroke-width:2.0px;stroke-linecap:butt;stroke-linejoin:miter;stroke-opacity:1\"/>\n",
       "<path class=\"bond-16\" d=\"M 671.289,22.2927 L 671.061,22.9124\" style=\"fill:none;fill-rule:evenodd;stroke:#CCCC00;stroke-width:2.0px;stroke-linecap:butt;stroke-linejoin:miter;stroke-opacity:1\"/>\n",
       "<path class=\"bond-17\" d=\"M 660.981,20.2219 L 665.21,21.3506\" style=\"fill:none;fill-rule:evenodd;stroke:#FF0000;stroke-width:2.0px;stroke-linecap:butt;stroke-linejoin:miter;stroke-opacity:1\"/>\n",
       "<path class=\"bond-17\" d=\"M 665.21,21.3506 L 669.439,22.4792\" style=\"fill:none;fill-rule:evenodd;stroke:#CCCC00;stroke-width:2.0px;stroke-linecap:butt;stroke-linejoin:miter;stroke-opacity:1\"/>\n",
       "<path class=\"atom-0\" d=\"M 629.157 51.0746 L 630.549 53.3246 Q 630.687 53.5466, 630.909 53.9486 Q 631.131 54.3506, 631.143 54.3746 L 631.143 51.0746 L 631.707 51.0746 L 631.707 55.3226 L 631.125 55.3226 L 629.631 52.8626 Q 629.457 52.5746, 629.271 52.2446 Q 629.091 51.9146, 629.037 51.8126 L 629.037 55.3226 L 628.485 55.3226 L 628.485 51.0746 L 629.157 51.0746 \" fill=\"#0000FF\"/>\n",
       "<path class=\"atom-0\" d=\"M 632.217 51.0746 L 632.793 51.0746 L 632.793 52.8806 L 634.965 52.8806 L 634.965 51.0746 L 635.541 51.0746 L 635.541 55.3226 L 634.965 55.3226 L 634.965 53.3606 L 632.793 53.3606 L 632.793 55.3226 L 632.217 55.3226 L 632.217 51.0746 \" fill=\"#0000FF\"/>\n",
       "<path class=\"atom-0\" d=\"M 635.747 55.1736 Q 635.85 54.9083, 636.095 54.7617 Q 636.341 54.6113, 636.681 54.6113 Q 637.105 54.6113, 637.343 54.8409 Q 637.58 55.0706, 637.58 55.4785 Q 637.58 55.8943, 637.272 56.2824 Q 636.967 56.6705, 636.333 57.1298 L 637.628 57.1298 L 637.628 57.4466 L 635.739 57.4466 L 635.739 57.1813 Q 636.262 56.8091, 636.571 56.5319 Q 636.883 56.2547, 637.034 56.0052 Q 637.184 55.7557, 637.184 55.4983 Q 637.184 55.229, 637.05 55.0785 Q 636.915 54.9281, 636.681 54.9281 Q 636.456 54.9281, 636.305 55.0191 Q 636.155 55.1102, 636.048 55.3122 L 635.747 55.1736 \" fill=\"#0000FF\"/>\n",
       "<path class=\"atom-3\" d=\"M 646.487 49.0791 Q 646.487 48.0591, 646.991 47.4891 Q 647.495 46.9191, 648.437 46.9191 Q 649.379 46.9191, 649.883 47.4891 Q 650.387 48.0591, 650.387 49.0791 Q 650.387 50.1111, 649.877 50.6991 Q 649.367 51.2811, 648.437 51.2811 Q 647.501 51.2811, 646.991 50.6991 Q 646.487 50.1171, 646.487 49.0791 M 648.437 50.8011 Q 649.085 50.8011, 649.433 50.3691 Q 649.787 49.9311, 649.787 49.0791 Q 649.787 48.2451, 649.433 47.8251 Q 649.085 47.3991, 648.437 47.3991 Q 647.789 47.3991, 647.435 47.8191 Q 647.087 48.2391, 647.087 49.0791 Q 647.087 49.9371, 647.435 50.3691 Q 647.789 50.8011, 648.437 50.8011 \" fill=\"#FF0000\"/>\n",
       "<path class=\"atom-5\" d=\"M 603.693 44.9102 L 604.269 44.9102 L 604.269 46.7162 L 606.441 46.7162 L 606.441 44.9102 L 607.017 44.9102 L 607.017 49.1582 L 606.441 49.1582 L 606.441 47.1962 L 604.269 47.1962 L 604.269 49.1582 L 603.693 49.1582 L 603.693 44.9102 \" fill=\"#FF0000\"/>\n",
       "<path class=\"atom-5\" d=\"M 607.317 47.0222 Q 607.317 46.0022, 607.821 45.4322 Q 608.325 44.8622, 609.267 44.8622 Q 610.209 44.8622, 610.713 45.4322 Q 611.217 46.0022, 611.217 47.0222 Q 611.217 48.0542, 610.707 48.6422 Q 610.197 49.2242, 609.267 49.2242 Q 608.331 49.2242, 607.821 48.6422 Q 607.317 48.0602, 607.317 47.0222 M 609.267 48.7442 Q 609.915 48.7442, 610.263 48.3122 Q 610.617 47.8742, 610.617 47.0222 Q 610.617 46.1882, 610.263 45.7682 Q 609.915 45.3422, 609.267 45.3422 Q 608.619 45.3422, 608.265 45.7622 Q 607.917 46.1822, 607.917 47.0222 Q 607.917 47.8802, 608.265 48.3122 Q 608.619 48.7442, 609.267 48.7442 \" fill=\"#FF0000\"/>\n",
       "<path class=\"atom-7\" d=\"M 668.22 62.9079 Q 668.22 61.8519, 668.712 61.2999 Q 669.21 60.7419, 670.152 60.7419 Q 671.028 60.7419, 671.496 61.3599 L 671.1 61.6839 Q 670.758 61.2339, 670.152 61.2339 Q 669.51 61.2339, 669.168 61.6659 Q 668.832 62.0919, 668.832 62.9079 Q 668.832 63.7479, 669.18 64.1799 Q 669.534 64.6119, 670.218 64.6119 Q 670.686 64.6119, 671.232 64.3299 L 671.4 64.7799 Q 671.178 64.9239, 670.842 65.0079 Q 670.506 65.0919, 670.134 65.0919 Q 669.21 65.0919, 668.712 64.5279 Q 668.22 63.9639, 668.22 62.9079 \" fill=\"#000000\"/>\n",
       "<path class=\"atom-13\" d=\"M 672.233 33.9286 L 673.625 36.1786 Q 673.763 36.4006, 673.985 36.8026 Q 674.207 37.2046, 674.219 37.2286 L 674.219 33.9286 L 674.783 33.9286 L 674.783 38.1766 L 674.201 38.1766 L 672.707 35.7166 Q 672.533 35.4286, 672.347 35.0986 Q 672.167 34.7686, 672.113 34.6666 L 672.113 38.1766 L 671.561 38.1766 L 671.561 33.9286 L 672.233 33.9286 \" fill=\"#0000FF\"/>\n",
       "<path class=\"atom-14\" d=\"M 679.032 14.2677 L 680.424 16.5177 Q 680.562 16.7397, 680.784 17.1417 Q 681.006 17.5437, 681.018 17.5677 L 681.018 14.2677 L 681.582 14.2677 L 681.582 18.5157 L 681 18.5157 L 679.506 16.0557 Q 679.332 15.7677, 679.146 15.4377 Q 678.966 15.1077, 678.912 15.0057 L 678.912 18.5157 L 678.36 18.5157 L 678.36 14.2677 L 679.032 14.2677 \" fill=\"#0000FF\"/>\n",
       "<path class=\"atom-14\" d=\"M 678.309 9.59489 L 678.885 9.59489 L 678.885 11.4009 L 681.057 11.4009 L 681.057 9.59489 L 681.633 9.59489 L 681.633 13.8429 L 681.057 13.8429 L 681.057 11.8809 L 678.885 11.8809 L 678.885 13.8429 L 678.309 13.8429 L 678.309 9.59489 \" fill=\"#0000FF\"/>\n",
       "<path class=\"atom-15\" d=\"M 643.41 35.219 L 643.986 35.219 L 643.986 37.025 L 646.158 37.025 L 646.158 35.219 L 646.734 35.219 L 646.734 39.467 L 646.158 39.467 L 646.158 37.505 L 643.986 37.505 L 643.986 39.467 L 643.41 39.467 L 643.41 35.219 \" fill=\"#FF0000\"/>\n",
       "<path class=\"atom-15\" d=\"M 647.034 37.331 Q 647.034 36.311, 647.538 35.741 Q 648.042 35.171, 648.984 35.171 Q 649.926 35.171, 650.43 35.741 Q 650.934 36.311, 650.934 37.331 Q 650.934 38.363, 650.424 38.951 Q 649.914 39.533, 648.984 39.533 Q 648.048 39.533, 647.538 38.951 Q 647.034 38.369, 647.034 37.331 M 648.984 39.053 Q 649.632 39.053, 649.98 38.621 Q 650.334 38.183, 650.334 37.331 Q 650.334 36.497, 649.98 36.077 Q 649.632 35.651, 648.984 35.651 Q 648.336 35.651, 647.982 36.071 Q 647.634 36.491, 647.634 37.331 Q 647.634 38.189, 647.982 38.621 Q 648.336 39.053, 648.984 39.053 \" fill=\"#FF0000\"/>\n",
       "<path class=\"atom-16\" d=\"M 670.414 19.3766 Q 670.414 18.3566, 670.918 17.7866 Q 671.422 17.2166, 672.364 17.2166 Q 673.306 17.2166, 673.81 17.7866 Q 674.314 18.3566, 674.314 19.3766 Q 674.314 20.4086, 673.804 20.9966 Q 673.294 21.5786, 672.364 21.5786 Q 671.428 21.5786, 670.918 20.9966 Q 670.414 20.4146, 670.414 19.3766 M 672.364 21.0986 Q 673.012 21.0986, 673.36 20.6666 Q 673.714 20.2286, 673.714 19.3766 Q 673.714 18.5426, 673.36 18.1226 Q 673.012 17.6966, 672.364 17.6966 Q 671.716 17.6966, 671.362 18.1166 Q 671.014 18.5366, 671.014 19.3766 Q 671.014 20.2346, 671.362 20.6666 Q 671.716 21.0986, 672.364 21.0986 \" fill=\"#FF0000\"/>\n",
       "<path class=\"atom-16\" d=\"M 674.824 17.2646 L 675.4 17.2646 L 675.4 19.0706 L 677.572 19.0706 L 677.572 17.2646 L 678.148 17.2646 L 678.148 21.5126 L 677.572 21.5126 L 677.572 19.5506 L 675.4 19.5506 L 675.4 21.5126 L 674.824 21.5126 L 674.824 17.2646 \" fill=\"#FF0000\"/>\n",
       "<path class=\"atom-17\" d=\"M 653.138 17.5161 L 653.714 17.5161 L 653.714 19.3221 L 655.886 19.3221 L 655.886 17.5161 L 656.462 17.5161 L 656.462 21.7641 L 655.886 21.7641 L 655.886 19.8021 L 653.714 19.8021 L 653.714 21.7641 L 653.138 21.7641 L 653.138 17.5161 \" fill=\"#FF0000\"/>\n",
       "<path class=\"atom-17\" d=\"M 656.762 19.6281 Q 656.762 18.6081, 657.266 18.0381 Q 657.77 17.4681, 658.712 17.4681 Q 659.654 17.4681, 660.158 18.0381 Q 660.662 18.6081, 660.662 19.6281 Q 660.662 20.6601, 660.152 21.2481 Q 659.642 21.8301, 658.712 21.8301 Q 657.776 21.8301, 657.266 21.2481 Q 656.762 20.6661, 656.762 19.6281 M 658.712 21.3501 Q 659.36 21.3501, 659.708 20.9181 Q 660.062 20.4801, 660.062 19.6281 Q 660.062 18.7941, 659.708 18.3741 Q 659.36 17.9481, 658.712 17.9481 Q 658.064 17.9481, 657.71 18.3681 Q 657.362 18.7881, 657.362 19.6281 Q 657.362 20.4861, 657.71 20.9181 Q 658.064 21.3501, 658.712 21.3501 \" fill=\"#FF0000\"/>\n",
       "<path class=\"atom-18\" d=\"M 669.861 24.3704 Q 669.909 24.3884, 670.107 24.4724 Q 670.305 24.5564, 670.521 24.6104 Q 670.743 24.6584, 670.959 24.6584 Q 671.361 24.6584, 671.595 24.4664 Q 671.829 24.2684, 671.829 23.9264 Q 671.829 23.6924, 671.709 23.5484 Q 671.595 23.4044, 671.415 23.3264 Q 671.235 23.2484, 670.935 23.1584 Q 670.557 23.0444, 670.329 22.9364 Q 670.107 22.8284, 669.945 22.6004 Q 669.789 22.3724, 669.789 21.9884 Q 669.789 21.4544, 670.149 21.1244 Q 670.515 20.7944, 671.235 20.7944 Q 671.727 20.7944, 672.285 21.0284 L 672.147 21.4904 Q 671.637 21.2804, 671.253 21.2804 Q 670.839 21.2804, 670.611 21.4544 Q 670.383 21.6224, 670.389 21.9164 Q 670.389 22.1444, 670.503 22.2824 Q 670.623 22.4204, 670.791 22.4984 Q 670.965 22.5764, 671.253 22.6664 Q 671.637 22.7864, 671.865 22.9064 Q 672.093 23.0264, 672.255 23.2724 Q 672.423 23.5124, 672.423 23.9264 Q 672.423 24.5144, 672.027 24.8324 Q 671.637 25.1444, 670.983 25.1444 Q 670.605 25.1444, 670.317 25.0604 Q 670.035 24.9824, 669.699 24.8444 L 669.861 24.3704 \" fill=\"#CCCC00\"/>\n",
       "<path d=\"M 667.28,43.9116 L 667.28,42.1152 L 669.077,42.1152 L 669.077,43.9116 L 667.28,43.9116\" style=\"fill:none;stroke:#FF0000;stroke-width:2px;stroke-linecap:butt;stroke-linejoin:miter;stroke-opacity:1;\"/>\n",
       "<path d=\"M 633.701 182.784 L 640.437 182.784 L 640.437 184.08 L 635.221 184.08 L 635.221 187.52 L 639.861 187.52 L 639.861 188.832 L 635.221 188.832 L 635.221 194.112 L 633.701 194.112 L 633.701 182.784 \" fill=\"#000000\"/>\n",
       "<path d=\"M 643.013 185.888 L 643.189 187.024 Q 644.053 185.744, 645.461 185.744 Q 645.909 185.744, 646.517 185.904 L 646.277 187.248 Q 645.589 187.088, 645.205 187.088 Q 644.533 187.088, 644.085 187.36 Q 643.653 187.616, 643.301 188.24 L 643.301 194.112 L 641.797 194.112 L 641.797 185.888 L 643.013 185.888 \" fill=\"#000000\"/>\n",
       "<path d=\"M 647.253 189.984 Q 647.253 187.984, 648.261 186.864 Q 649.285 185.744, 651.157 185.744 Q 653.029 185.744, 654.037 186.864 Q 655.061 187.984, 655.061 189.984 Q 655.061 191.984, 654.037 193.12 Q 653.029 194.24, 651.157 194.24 Q 649.285 194.24, 648.261 193.12 Q 647.253 191.984, 647.253 189.984 M 648.789 189.984 Q 648.789 191.488, 649.397 192.272 Q 650.021 193.056, 651.157 193.056 Q 652.293 193.056, 652.901 192.272 Q 653.525 191.488, 653.525 189.984 Q 653.525 188.48, 652.901 187.712 Q 652.293 186.928, 651.157 186.928 Q 650.021 186.928, 649.397 187.712 Q 648.789 188.48, 648.789 189.984 \" fill=\"#000000\"/>\n",
       "<path d=\"M 665.877 185.744 Q 667.269 185.744, 667.973 186.496 Q 668.677 187.232, 668.677 188.672 L 668.677 194.112 L 667.173 194.112 L 667.173 188.784 Q 667.173 187.808, 666.789 187.376 Q 666.421 186.928, 665.589 186.928 Q 664.869 186.928, 664.245 187.28 Q 663.637 187.616, 663.269 188.224 Q 663.285 188.368, 663.285 188.672 L 663.285 194.112 L 661.781 194.112 L 661.781 188.784 Q 661.781 187.808, 661.397 187.376 Q 661.029 186.928, 660.197 186.928 Q 659.477 186.928, 658.869 187.28 Q 658.261 187.616, 657.877 188.208 L 657.877 194.112 L 656.373 194.112 L 656.373 185.888 L 657.605 185.888 L 657.765 187.008 Q 658.837 185.744, 660.485 185.744 Q 662.421 185.744, 663.029 187.184 Q 664.117 185.744, 665.877 185.744 \" fill=\"#000000\"/>\n",
       "<path d=\"\" fill=\"#000000\"/>\n",
       "<path d=\"M 677.381 182.784 Q 679.317 182.784, 680.293 183.664 Q 681.269 184.528, 681.269 186.112 Q 681.269 187.68, 680.261 188.576 Q 679.269 189.456, 677.381 189.456 L 675.573 189.456 L 675.573 194.112 L 674.037 194.112 L 674.037 182.784 L 677.381 182.784 M 677.381 188.176 Q 678.485 188.176, 679.077 187.648 Q 679.669 187.12, 679.669 186.112 Q 679.669 185.104, 679.077 184.592 Q 678.501 184.064, 677.381 184.064 L 675.573 184.064 L 675.573 188.176 L 677.381 188.176 \" fill=\"#000000\"/>\n",
       "<path d=\"M 686.293 182.784 Q 688.805 182.784, 690.149 184.272 Q 691.493 185.744, 691.493 188.416 Q 691.493 191.104, 690.133 192.608 Q 688.789 194.112, 686.293 194.112 L 682.629 194.112 L 682.629 182.784 L 686.293 182.784 M 686.293 192.832 Q 688.021 192.832, 688.949 191.728 Q 689.893 190.624, 689.893 188.416 Q 689.893 186.224, 688.949 185.152 Q 688.021 184.064, 686.293 184.064 L 684.165 184.064 L 684.165 192.832 L 686.293 192.832 \" fill=\"#000000\"/>\n",
       "<path d=\"M 698.357 188.16 Q 699.445 188.464, 699.989 189.136 Q 700.549 189.792, 700.549 190.768 Q 700.549 192.336, 699.541 193.232 Q 698.549 194.112, 696.661 194.112 L 692.853 194.112 L 692.853 182.784 L 696.197 182.784 Q 698.133 182.784, 699.109 183.568 Q 700.085 184.352, 700.085 185.792 Q 700.085 187.504, 698.357 188.16 M 694.373 184.064 L 694.373 187.616 L 696.197 187.616 Q 697.317 187.616, 697.893 187.168 Q 698.485 186.704, 698.485 185.792 Q 698.485 184.064, 696.197 184.064 L 694.373 184.064 M 696.661 192.832 Q 697.765 192.832, 698.357 192.304 Q 698.949 191.776, 698.949 190.768 Q 698.949 189.84, 698.293 189.376 Q 697.653 188.896, 696.421 188.896 L 694.373 188.896 L 694.373 192.832 L 696.661 192.832 \" fill=\"#000000\"/>\n",
       "<path d=\"\" fill=\"#000000\"/>\n",
       "<path d=\"M 705.957 182.736 L 707.477 182.736 L 707.477 194.112 L 705.957 194.112 L 705.957 182.736 \" fill=\"#000000\"/>\n",
       "<path d=\"M 712.501 182.784 Q 715.013 182.784, 716.357 184.272 Q 717.701 185.744, 717.701 188.416 Q 717.701 191.104, 716.341 192.608 Q 714.997 194.112, 712.501 194.112 L 708.837 194.112 L 708.837 182.784 L 712.501 182.784 M 712.501 192.832 Q 714.229 192.832, 715.157 191.728 Q 716.101 190.624, 716.101 188.416 Q 716.101 186.224, 715.157 185.152 Q 714.229 184.064, 712.501 184.064 L 710.373 184.064 L 710.373 192.832 L 712.501 192.832 \" fill=\"#000000\"/>\n",
       "<path d=\"M 718.901 192.24 L 720.501 192.24 L 720.501 193.84 L 718.901 193.84 L 718.901 192.24 M 718.901 186.736 L 720.501 186.736 L 720.501 188.336 L 718.901 188.336 L 718.901 186.736 \" fill=\"#000000\"/>\n",
       "<path d=\"\" fill=\"#000000\"/>\n",
       "<path d=\"M 725.333 184.928 Q 725.749 183.856, 726.741 183.264 Q 727.733 182.656, 729.109 182.656 Q 730.821 182.656, 731.781 183.584 Q 732.741 184.512, 732.741 186.16 Q 732.741 187.84, 731.493 189.408 Q 730.261 190.976, 727.701 192.832 L 732.933 192.832 L 732.933 194.112 L 725.301 194.112 L 725.301 193.04 Q 727.413 191.536, 728.661 190.416 Q 729.925 189.296, 730.533 188.288 Q 731.141 187.28, 731.141 186.24 Q 731.141 185.152, 730.597 184.544 Q 730.053 183.936, 729.109 183.936 Q 728.197 183.936, 727.589 184.304 Q 726.981 184.672, 726.549 185.488 L 725.333 184.928 \" fill=\"#000000\"/>\n",
       "<path d=\"M 740.405 194.112 L 737.669 189.456 L 737.637 189.456 L 735.829 189.456 L 735.829 194.112 L 734.293 194.112 L 734.293 182.784 L 737.637 182.784 Q 739.573 182.784, 740.549 183.664 Q 741.525 184.528, 741.525 186.112 Q 741.525 187.312, 740.933 188.128 Q 740.357 188.928, 739.221 189.248 L 742.085 194.112 L 740.405 194.112 M 735.829 188.176 L 737.637 188.176 Q 738.741 188.176, 739.333 187.648 Q 739.925 187.12, 739.925 186.112 Q 739.925 185.104, 739.333 184.592 Q 738.757 184.064, 737.637 184.064 L 735.829 184.064 L 735.829 188.176 \" fill=\"#000000\"/>\n",
       "<path d=\"M 751.989 188.56 L 751.989 193.344 Q 750.373 194.256, 747.989 194.256 Q 745.525 194.256, 744.197 192.752 Q 742.885 191.248, 742.885 188.432 Q 742.885 185.616, 744.197 184.144 Q 745.525 182.656, 748.037 182.656 Q 749.349 182.656, 750.309 183.072 Q 751.269 183.472, 751.941 184.304 L 750.901 185.168 Q 749.845 183.936, 748.037 183.936 Q 746.325 183.936, 745.413 185.088 Q 744.517 186.24, 744.517 188.432 Q 744.517 190.672, 745.445 191.824 Q 746.389 192.976, 748.213 192.976 Q 749.397 192.976, 750.453 192.592 L 750.453 188.56 L 751.989 188.56 \" fill=\"#000000\"/>\n",
       "<path d=\"M 758.101 188.144 Q 759.205 188.464, 759.733 189.184 Q 760.277 189.888, 760.277 191.008 Q 760.277 191.968, 759.797 192.72 Q 759.317 193.456, 758.437 193.872 Q 757.557 194.272, 756.405 194.272 Q 755.189 194.272, 754.277 193.856 Q 753.381 193.424, 752.661 192.56 L 753.573 191.632 Q 754.277 192.4, 754.869 192.704 Q 755.461 192.992, 756.405 192.992 Q 757.429 192.992, 758.053 192.448 Q 758.677 191.888, 758.677 190.992 Q 758.677 189.84, 758.021 189.328 Q 757.381 188.8, 755.989 188.8 L 755.173 188.8 L 755.173 187.648 L 755.893 187.648 Q 757.125 187.632, 757.781 187.104 Q 758.437 186.56, 758.437 185.552 Q 758.437 184.816, 757.893 184.384 Q 757.349 183.936, 756.421 183.936 Q 755.477 183.936, 754.885 184.272 Q 754.309 184.608, 753.861 185.456 L 752.757 184.864 Q 753.157 183.92, 754.117 183.296 Q 755.077 182.656, 756.421 182.656 Q 758.085 182.656, 759.061 183.44 Q 760.037 184.224, 760.037 185.552 Q 760.037 186.464, 759.541 187.12 Q 759.045 187.776, 758.101 188.144 \" fill=\"#000000\"/>\n",
       "</svg>"
      ],
      "text/plain": [
       "<IPython.core.display.SVG object>"
      ]
     },
     "execution_count": 67,
     "metadata": {},
     "output_type": "execute_result"
    }
   ],
   "source": [
    "Draw.MolsToGridImage(mols, molsPerRow=4, legends=[\"From PDB ID: \"+i for i in pdb_ids])"
   ]
  },
  {
   "cell_type": "code",
   "execution_count": 68,
   "metadata": {},
   "outputs": [
    {
     "data": {
      "image/svg+xml": [
       "<svg xmlns=\"http://www.w3.org/2000/svg\" xmlns:rdkit=\"http://www.rdkit.org/xml\" xmlns:xlink=\"http://www.w3.org/1999/xlink\" version=\"1.1\" baseProfile=\"full\" xml:space=\"preserve\" width=\"800px\" height=\"200px\" viewBox=\"0 0 800 200\">\n",
       "<!-- END OF HEADER -->\n",
       "<rect style=\"opacity:1.0;fill:#FFFFFF;stroke:none\" width=\"800\" height=\"200\" x=\"0\" y=\"0\"> </rect>\n",
       "<rect style=\"opacity:1.0;fill:#FFFFFF;stroke:none\" width=\"800\" height=\"200\" x=\"0\" y=\"0\"> </rect>\n",
       "<rect style=\"opacity:1.0;fill:#FFFFFF;stroke:none\" width=\"800\" height=\"200\" x=\"0\" y=\"0\"> </rect>\n",
       "<rect style=\"opacity:1.0;fill:#FFFFFF;stroke:none\" width=\"800\" height=\"200\" x=\"0\" y=\"0\"> </rect>\n",
       "<rect style=\"opacity:1.0;fill:#FFFFFF;stroke:none\" width=\"800\" height=\"200\" x=\"0\" y=\"0\"> </rect>\n",
       "<path class=\"bond-0\" d=\"M 66.8293,107.78 L 78.9217,109.753\" style=\"fill:none;fill-rule:evenodd;stroke:#000000;stroke-width:2.0px;stroke-linecap:butt;stroke-linejoin:miter;stroke-opacity:1\"/>\n",
       "<path class=\"bond-1\" d=\"M 78.9217,109.753 L 81.0594,113.997\" style=\"fill:none;fill-rule:evenodd;stroke:#000000;stroke-width:2.0px;stroke-linecap:butt;stroke-linejoin:miter;stroke-opacity:1\"/>\n",
       "<path class=\"bond-1\" d=\"M 81.0594,113.997 L 83.197,118.241\" style=\"fill:none;fill-rule:evenodd;stroke:#FF0000;stroke-width:2.0px;stroke-linecap:butt;stroke-linejoin:miter;stroke-opacity:1\"/>\n",
       "<path class=\"bond-2\" d=\"M 78.9217,109.753 L 87.6259,101.13\" style=\"fill:none;fill-rule:evenodd;stroke:#000000;stroke-width:2.0px;stroke-linecap:butt;stroke-linejoin:miter;stroke-opacity:1\"/>\n",
       "<path class=\"bond-3\" d=\"M 86.6894,120.349 L 90.6863,119.735\" style=\"fill:none;fill-rule:evenodd;stroke:#FF0000;stroke-width:2.0px;stroke-linecap:butt;stroke-linejoin:miter;stroke-opacity:1\"/>\n",
       "<path class=\"bond-3\" d=\"M 90.6863,119.735 L 94.6832,119.121\" style=\"fill:none;fill-rule:evenodd;stroke:#0000FF;stroke-width:2.0px;stroke-linecap:butt;stroke-linejoin:miter;stroke-opacity:1\"/>\n",
       "<path class=\"bond-4\" d=\"M 96.94,116.405 L 97.7284,111.574\" style=\"fill:none;fill-rule:evenodd;stroke:#0000FF;stroke-width:2.0px;stroke-linecap:butt;stroke-linejoin:miter;stroke-opacity:1\"/>\n",
       "<path class=\"bond-4\" d=\"M 97.7284,111.574 L 98.5167,106.743\" style=\"fill:none;fill-rule:evenodd;stroke:#000000;stroke-width:2.0px;stroke-linecap:butt;stroke-linejoin:miter;stroke-opacity:1\"/>\n",
       "<path class=\"bond-5\" d=\"M 98.5167,106.743 L 109.459,101.232\" style=\"fill:none;fill-rule:evenodd;stroke:#000000;stroke-width:2.0px;stroke-linecap:butt;stroke-linejoin:miter;stroke-opacity:1\"/>\n",
       "<path class=\"bond-6\" d=\"M 98.5167,106.743 L 87.6259,101.13\" style=\"fill:none;fill-rule:evenodd;stroke:#000000;stroke-width:2.0px;stroke-linecap:butt;stroke-linejoin:miter;stroke-opacity:1\"/>\n",
       "<path class=\"bond-7\" d=\"M 87.6259,101.13 L 85.7657,89.0195\" style=\"fill:none;fill-rule:evenodd;stroke:#000000;stroke-width:2.0px;stroke-linecap:butt;stroke-linejoin:miter;stroke-opacity:1\"/>\n",
       "<path class=\"bond-8\" d=\"M 85.7657,89.0195 L 95.3235,81.3534\" style=\"fill:none;fill-rule:evenodd;stroke:#000000;stroke-width:2.0px;stroke-linecap:butt;stroke-linejoin:miter;stroke-opacity:1\"/>\n",
       "<path class=\"bond-9\" d=\"M 85.7657,89.0195 L 74.3478,84.5752\" style=\"fill:none;fill-rule:evenodd;stroke:#000000;stroke-width:2.0px;stroke-linecap:butt;stroke-linejoin:miter;stroke-opacity:1\"/>\n",
       "<path class=\"bond-10\" d=\"M 95.3235,81.3534 L 93.4634,69.2431\" style=\"fill:none;fill-rule:evenodd;stroke:#000000;stroke-width:2.0px;stroke-linecap:butt;stroke-linejoin:miter;stroke-opacity:1\"/>\n",
       "<path class=\"bond-11\" d=\"M 74.3478,84.5752 L 64.79,92.2413\" style=\"fill:none;fill-rule:evenodd;stroke:#000000;stroke-width:2.0px;stroke-linecap:butt;stroke-linejoin:miter;stroke-opacity:1\"/>\n",
       "<path class=\"bond-12\" d=\"M 74.3478,84.5752 L 73.6044,79.7352\" style=\"fill:none;fill-rule:evenodd;stroke:#000000;stroke-width:2.0px;stroke-linecap:butt;stroke-linejoin:miter;stroke-opacity:1\"/>\n",
       "<path class=\"bond-12\" d=\"M 73.6044,79.7352 L 72.861,74.8952\" style=\"fill:none;fill-rule:evenodd;stroke:#0000FF;stroke-width:2.0px;stroke-linecap:butt;stroke-linejoin:miter;stroke-opacity:1\"/>\n",
       "<path class=\"bond-13\" d=\"M 70.5704,71.7186 L 65.8201,69.8696\" style=\"fill:none;fill-rule:evenodd;stroke:#0000FF;stroke-width:2.0px;stroke-linecap:butt;stroke-linejoin:miter;stroke-opacity:1\"/>\n",
       "<path class=\"bond-13\" d=\"M 65.8201,69.8696 L 61.0698,68.0206\" style=\"fill:none;fill-rule:evenodd;stroke:#000000;stroke-width:2.0px;stroke-linecap:butt;stroke-linejoin:miter;stroke-opacity:1\"/>\n",
       "<path class=\"bond-14\" d=\"M 74.405,70.9271 L 78.2252,67.8629\" style=\"fill:none;fill-rule:evenodd;stroke:#0000FF;stroke-width:2.0px;stroke-linecap:butt;stroke-linejoin:miter;stroke-opacity:1\"/>\n",
       "<path class=\"bond-14\" d=\"M 78.2252,67.8629 L 82.0455,64.7988\" style=\"fill:none;fill-rule:evenodd;stroke:#000000;stroke-width:2.0px;stroke-linecap:butt;stroke-linejoin:miter;stroke-opacity:1\"/>\n",
       "<path class=\"bond-15\" d=\"M 61.0698,68.0206 L 59.2096,55.9103\" style=\"fill:none;fill-rule:evenodd;stroke:#000000;stroke-width:2.0px;stroke-linecap:butt;stroke-linejoin:miter;stroke-opacity:1\"/>\n",
       "<path class=\"bond-16\" d=\"M 61.0698,68.0206 L 51.512,75.6867\" style=\"fill:none;fill-rule:evenodd;stroke:#000000;stroke-width:2.0px;stroke-linecap:butt;stroke-linejoin:miter;stroke-opacity:1\"/>\n",
       "<path class=\"bond-17\" d=\"M 59.2096,55.9103 L 47.7917,51.466\" style=\"fill:none;fill-rule:evenodd;stroke:#000000;stroke-width:2.0px;stroke-linecap:butt;stroke-linejoin:miter;stroke-opacity:1\"/>\n",
       "<path class=\"bond-18\" d=\"M 47.7917,51.466 L 47.0642,46.7295\" style=\"fill:none;fill-rule:evenodd;stroke:#000000;stroke-width:2.0px;stroke-linecap:butt;stroke-linejoin:miter;stroke-opacity:1\"/>\n",
       "<path class=\"bond-18\" d=\"M 47.0642,46.7295 L 46.3367,41.993\" style=\"fill:none;fill-rule:evenodd;stroke:#00CC00;stroke-width:2.0px;stroke-linecap:butt;stroke-linejoin:miter;stroke-opacity:1\"/>\n",
       "<path class=\"bond-19\" d=\"M 47.7917,51.466 L 38.2339,59.1321\" style=\"fill:none;fill-rule:evenodd;stroke:#000000;stroke-width:2.0px;stroke-linecap:butt;stroke-linejoin:miter;stroke-opacity:1\"/>\n",
       "<path class=\"bond-20\" d=\"M 38.2339,59.1321 L 40.094,71.2425\" style=\"fill:none;fill-rule:evenodd;stroke:#000000;stroke-width:2.0px;stroke-linecap:butt;stroke-linejoin:miter;stroke-opacity:1\"/>\n",
       "<path class=\"bond-21\" d=\"M 40.094,71.2425 L 51.512,75.6867\" style=\"fill:none;fill-rule:evenodd;stroke:#000000;stroke-width:2.0px;stroke-linecap:butt;stroke-linejoin:miter;stroke-opacity:1\"/>\n",
       "<path class=\"bond-22\" d=\"M 82.0455,64.7988 L 81.309,60.0038\" style=\"fill:none;fill-rule:evenodd;stroke:#000000;stroke-width:2.0px;stroke-linecap:butt;stroke-linejoin:miter;stroke-opacity:1\"/>\n",
       "<path class=\"bond-22\" d=\"M 81.309,60.0038 L 80.5725,55.2088\" style=\"fill:none;fill-rule:evenodd;stroke:#FF0000;stroke-width:2.0px;stroke-linecap:butt;stroke-linejoin:miter;stroke-opacity:1\"/>\n",
       "<path class=\"bond-23\" d=\"M 82.0455,64.7988 L 93.4634,69.2431\" style=\"fill:none;fill-rule:evenodd;stroke:#000000;stroke-width:2.0px;stroke-linecap:butt;stroke-linejoin:miter;stroke-opacity:1\"/>\n",
       "<path class=\"bond-24\" d=\"M 93.4634,69.2431 L 103.021,61.577\" style=\"fill:none;fill-rule:evenodd;stroke:#000000;stroke-width:2.0px;stroke-linecap:butt;stroke-linejoin:miter;stroke-opacity:1\"/>\n",
       "<path class=\"bond-25\" d=\"M 103.021,61.577 L 102.285,56.782\" style=\"fill:none;fill-rule:evenodd;stroke:#000000;stroke-width:2.0px;stroke-linecap:butt;stroke-linejoin:miter;stroke-opacity:1\"/>\n",
       "<path class=\"bond-25\" d=\"M 102.285,56.782 L 101.548,51.9869\" style=\"fill:none;fill-rule:evenodd;stroke:#FF0000;stroke-width:2.0px;stroke-linecap:butt;stroke-linejoin:miter;stroke-opacity:1\"/>\n",
       "<path class=\"bond-26\" d=\"M 103.021,61.577 L 107.772,63.426\" style=\"fill:none;fill-rule:evenodd;stroke:#000000;stroke-width:2.0px;stroke-linecap:butt;stroke-linejoin:miter;stroke-opacity:1\"/>\n",
       "<path class=\"bond-26\" d=\"M 107.772,63.426 L 112.522,65.2749\" style=\"fill:none;fill-rule:evenodd;stroke:#0000FF;stroke-width:2.0px;stroke-linecap:butt;stroke-linejoin:miter;stroke-opacity:1\"/>\n",
       "<path class=\"bond-27\" d=\"M 116.356,64.4834 L 120.177,61.4193\" style=\"fill:none;fill-rule:evenodd;stroke:#0000FF;stroke-width:2.0px;stroke-linecap:butt;stroke-linejoin:miter;stroke-opacity:1\"/>\n",
       "<path class=\"bond-27\" d=\"M 120.177,61.4193 L 123.997,58.3551\" style=\"fill:none;fill-rule:evenodd;stroke:#000000;stroke-width:2.0px;stroke-linecap:butt;stroke-linejoin:miter;stroke-opacity:1\"/>\n",
       "<path class=\"bond-28\" d=\"M 123.997,58.3551 L 135.415,62.7994\" style=\"fill:none;fill-rule:evenodd;stroke:#000000;stroke-width:2.0px;stroke-linecap:butt;stroke-linejoin:miter;stroke-opacity:1\"/>\n",
       "<path class=\"bond-29\" d=\"M 135.415,62.7994 L 137.275,74.9097\" style=\"fill:none;fill-rule:evenodd;stroke:#000000;stroke-width:2.0px;stroke-linecap:butt;stroke-linejoin:miter;stroke-opacity:1\"/>\n",
       "<path class=\"bond-30\" d=\"M 135.415,62.7994 L 144.973,55.1333\" style=\"fill:none;fill-rule:evenodd;stroke:#000000;stroke-width:2.0px;stroke-linecap:butt;stroke-linejoin:miter;stroke-opacity:1\"/>\n",
       "<path class=\"bond-31\" d=\"M 137.275,74.9097 L 148.693,79.354\" style=\"fill:none;fill-rule:evenodd;stroke:#000000;stroke-width:2.0px;stroke-linecap:butt;stroke-linejoin:miter;stroke-opacity:1\"/>\n",
       "<path class=\"bond-32\" d=\"M 148.693,79.354 L 158.251,71.6879\" style=\"fill:none;fill-rule:evenodd;stroke:#000000;stroke-width:2.0px;stroke-linecap:butt;stroke-linejoin:miter;stroke-opacity:1\"/>\n",
       "<path class=\"bond-33\" d=\"M 158.251,71.6879 L 163.125,73.5854\" style=\"fill:none;fill-rule:evenodd;stroke:#000000;stroke-width:2.0px;stroke-linecap:butt;stroke-linejoin:miter;stroke-opacity:1\"/>\n",
       "<path class=\"bond-33\" d=\"M 163.125,73.5854 L 168,75.4828\" style=\"fill:none;fill-rule:evenodd;stroke:#CCCC00;stroke-width:2.0px;stroke-linecap:butt;stroke-linejoin:miter;stroke-opacity:1\"/>\n",
       "<path class=\"bond-34\" d=\"M 158.251,71.6879 L 156.391,59.5776\" style=\"fill:none;fill-rule:evenodd;stroke:#000000;stroke-width:2.0px;stroke-linecap:butt;stroke-linejoin:miter;stroke-opacity:1\"/>\n",
       "<path class=\"bond-35\" d=\"M 171.337,76.7815 L 176.212,78.679\" style=\"fill:none;fill-rule:evenodd;stroke:#CCCC00;stroke-width:2.0px;stroke-linecap:butt;stroke-linejoin:miter;stroke-opacity:1\"/>\n",
       "<path class=\"bond-35\" d=\"M 176.212,78.679 L 181.087,80.5764\" style=\"fill:none;fill-rule:evenodd;stroke:#000000;stroke-width:2.0px;stroke-linecap:butt;stroke-linejoin:miter;stroke-opacity:1\"/>\n",
       "<path class=\"bond-36\" d=\"M 170.612,73.7079 L 171.885,70.4387\" style=\"fill:none;fill-rule:evenodd;stroke:#CCCC00;stroke-width:2.0px;stroke-linecap:butt;stroke-linejoin:miter;stroke-opacity:1\"/>\n",
       "<path class=\"bond-36\" d=\"M 171.885,70.4387 L 173.157,67.1695\" style=\"fill:none;fill-rule:evenodd;stroke:#FF0000;stroke-width:2.0px;stroke-linecap:butt;stroke-linejoin:miter;stroke-opacity:1\"/>\n",
       "<path class=\"bond-37\" d=\"M 168.681,78.6705 L 167.417,81.9172\" style=\"fill:none;fill-rule:evenodd;stroke:#CCCC00;stroke-width:2.0px;stroke-linecap:butt;stroke-linejoin:miter;stroke-opacity:1\"/>\n",
       "<path class=\"bond-37\" d=\"M 167.417,81.9172 L 166.153,85.1639\" style=\"fill:none;fill-rule:evenodd;stroke:#FF0000;stroke-width:2.0px;stroke-linecap:butt;stroke-linejoin:miter;stroke-opacity:1\"/>\n",
       "<path class=\"bond-38\" d=\"M 156.391,59.5776 L 144.973,55.1333\" style=\"fill:none;fill-rule:evenodd;stroke:#000000;stroke-width:2.0px;stroke-linecap:butt;stroke-linejoin:miter;stroke-opacity:1\"/>\n",
       "<path class=\"atom-2\" d=\"M 82.4831 120.708 Q 82.4831 119.688, 82.9871 119.118 Q 83.4911 118.548, 84.4331 118.548 Q 85.3751 118.548, 85.8791 119.118 Q 86.3831 119.688, 86.3831 120.708 Q 86.3831 121.74, 85.8731 122.328 Q 85.3631 122.91, 84.4331 122.91 Q 83.4971 122.91, 82.9871 122.328 Q 82.4831 121.746, 82.4831 120.708 M 84.4331 122.43 Q 85.0811 122.43, 85.4291 121.998 Q 85.7831 121.56, 85.7831 120.708 Q 85.7831 119.874, 85.4291 119.454 Q 85.0811 119.028, 84.4331 119.028 Q 83.7851 119.028, 83.4311 119.448 Q 83.0831 119.868, 83.0831 120.708 Q 83.0831 121.566, 83.4311 121.998 Q 83.7851 122.43, 84.4331 122.43 \" fill=\"#FF0000\"/>\n",
       "<path class=\"atom-3\" d=\"M 95.6045 116.712 L 96.9965 118.962 Q 97.1345 119.184, 97.3565 119.586 Q 97.5785 119.988, 97.5905 120.012 L 97.5905 116.712 L 98.1545 116.712 L 98.1545 120.96 L 97.5725 120.96 L 96.0785 118.5 Q 95.9045 118.212, 95.7185 117.882 Q 95.5385 117.552, 95.4845 117.45 L 95.4845 120.96 L 94.9325 120.96 L 94.9325 116.712 L 95.6045 116.712 \" fill=\"#0000FF\"/>\n",
       "<path class=\"atom-3\" d=\"M 98.6645 116.712 L 99.2405 116.712 L 99.2405 118.518 L 101.412 118.518 L 101.412 116.712 L 101.988 116.712 L 101.988 120.96 L 101.412 120.96 L 101.412 118.998 L 99.2405 118.998 L 99.2405 120.96 L 98.6645 120.96 L 98.6645 116.712 \" fill=\"#0000FF\"/>\n",
       "<path class=\"atom-11\" d=\"M 71.5487 70.3409 L 72.9407 72.5909 Q 73.0787 72.8129, 73.3007 73.2149 Q 73.5227 73.6169, 73.5347 73.6409 L 73.5347 70.3409 L 74.0987 70.3409 L 74.0987 74.5889 L 73.5167 74.5889 L 72.0227 72.1289 Q 71.8487 71.8409, 71.6627 71.5109 Q 71.4827 71.1809, 71.4287 71.0789 L 71.4287 74.5889 L 70.8767 74.5889 L 70.8767 70.3409 L 71.5487 70.3409 \" fill=\"#0000FF\"/>\n",
       "<path class=\"atom-15\" d=\"M 44.2936 39.5027 Q 44.2936 38.4467, 44.7856 37.8947 Q 45.2836 37.3367, 46.2256 37.3367 Q 47.1016 37.3367, 47.5696 37.9547 L 47.1736 38.2787 Q 46.8316 37.8287, 46.2256 37.8287 Q 45.5836 37.8287, 45.2416 38.2607 Q 44.9056 38.6867, 44.9056 39.5027 Q 44.9056 40.3427, 45.2536 40.7747 Q 45.6076 41.2067, 46.2916 41.2067 Q 46.7596 41.2067, 47.3056 40.9247 L 47.4736 41.3747 Q 47.2516 41.5187, 46.9156 41.6027 Q 46.5796 41.6867, 46.2076 41.6867 Q 45.2836 41.6867, 44.7856 41.1227 Q 44.2936 40.5587, 44.2936 39.5027 \" fill=\"#00CC00\"/>\n",
       "<path class=\"atom-15\" d=\"M 48.0856 37.0787 L 48.6376 37.0787 L 48.6376 41.6327 L 48.0856 41.6327 L 48.0856 37.0787 \" fill=\"#00CC00\"/>\n",
       "<path class=\"atom-20\" d=\"M 78.2354 52.7005 Q 78.2354 51.6805, 78.7394 51.1105 Q 79.2434 50.5405, 80.1854 50.5405 Q 81.1274 50.5405, 81.6314 51.1105 Q 82.1354 51.6805, 82.1354 52.7005 Q 82.1354 53.7325, 81.6254 54.3205 Q 81.1154 54.9025, 80.1854 54.9025 Q 79.2494 54.9025, 78.7394 54.3205 Q 78.2354 53.7385, 78.2354 52.7005 M 80.1854 54.4225 Q 80.8334 54.4225, 81.1814 53.9905 Q 81.5354 53.5525, 81.5354 52.7005 Q 81.5354 51.8665, 81.1814 51.4465 Q 80.8334 51.0205, 80.1854 51.0205 Q 79.5374 51.0205, 79.1834 51.4405 Q 78.8354 51.8605, 78.8354 52.7005 Q 78.8354 53.5585, 79.1834 53.9905 Q 79.5374 54.4225, 80.1854 54.4225 \" fill=\"#FF0000\"/>\n",
       "<path class=\"atom-20\" d=\"M 82.6454 50.5885 L 83.2214 50.5885 L 83.2214 52.3945 L 85.3934 52.3945 L 85.3934 50.5885 L 85.9694 50.5885 L 85.9694 54.8365 L 85.3934 54.8365 L 85.3934 52.8745 L 83.2214 52.8745 L 83.2214 54.8365 L 82.6454 54.8365 L 82.6454 50.5885 \" fill=\"#FF0000\"/>\n",
       "<path class=\"atom-23\" d=\"M 99.2111 49.4786 Q 99.2111 48.4586, 99.7151 47.8886 Q 100.219 47.3186, 101.161 47.3186 Q 102.103 47.3186, 102.607 47.8886 Q 103.111 48.4586, 103.111 49.4786 Q 103.111 50.5106, 102.601 51.0986 Q 102.091 51.6806, 101.161 51.6806 Q 100.225 51.6806, 99.7151 51.0986 Q 99.2111 50.5166, 99.2111 49.4786 M 101.161 51.2006 Q 101.809 51.2006, 102.157 50.7686 Q 102.511 50.3306, 102.511 49.4786 Q 102.511 48.6446, 102.157 48.2246 Q 101.809 47.7986, 101.161 47.7986 Q 100.513 47.7986, 100.159 48.2186 Q 99.8111 48.6386, 99.8111 49.4786 Q 99.8111 50.3366, 100.159 50.7686 Q 100.513 51.2006, 101.161 51.2006 \" fill=\"#FF0000\"/>\n",
       "<path class=\"atom-23\" d=\"M 103.621 47.3666 L 104.197 47.3666 L 104.197 49.1726 L 106.369 49.1726 L 106.369 47.3666 L 106.945 47.3666 L 106.945 51.6146 L 106.369 51.6146 L 106.369 49.6526 L 104.197 49.6526 L 104.197 51.6146 L 103.621 51.6146 L 103.621 47.3666 \" fill=\"#FF0000\"/>\n",
       "<path class=\"atom-24\" d=\"M 113.5 63.8972 L 114.892 66.1472 Q 115.03 66.3692, 115.252 66.7712 Q 115.474 67.1732, 115.486 67.1972 L 115.486 63.8972 L 116.05 63.8972 L 116.05 68.1452 L 115.468 68.1452 L 113.974 65.6852 Q 113.8 65.3972, 113.614 65.0672 Q 113.434 64.7372, 113.38 64.6352 L 113.38 68.1452 L 112.828 68.1452 L 112.828 63.8972 L 113.5 63.8972 \" fill=\"#0000FF\"/>\n",
       "<path class=\"atom-24\" d=\"M 112.777 68.57 L 113.353 68.57 L 113.353 70.376 L 115.525 70.376 L 115.525 68.57 L 116.101 68.57 L 116.101 72.818 L 115.525 72.818 L 115.525 70.856 L 113.353 70.856 L 113.353 72.818 L 112.777 72.818 L 112.777 68.57 \" fill=\"#0000FF\"/>\n",
       "<path class=\"atom-30\" d=\"M 168.469 77.5902 Q 168.517 77.6082, 168.715 77.6922 Q 168.913 77.7762, 169.129 77.8302 Q 169.351 77.8782, 169.567 77.8782 Q 169.969 77.8782, 170.203 77.6862 Q 170.437 77.4882, 170.437 77.1462 Q 170.437 76.9122, 170.317 76.7682 Q 170.203 76.6242, 170.023 76.5462 Q 169.843 76.4682, 169.543 76.3782 Q 169.165 76.2642, 168.937 76.1562 Q 168.715 76.0482, 168.553 75.8202 Q 168.397 75.5922, 168.397 75.2082 Q 168.397 74.6742, 168.757 74.3442 Q 169.123 74.0142, 169.843 74.0142 Q 170.335 74.0142, 170.893 74.2482 L 170.755 74.7102 Q 170.245 74.5002, 169.861 74.5002 Q 169.447 74.5002, 169.219 74.6742 Q 168.991 74.8422, 168.997 75.1362 Q 168.997 75.3642, 169.111 75.5022 Q 169.231 75.6402, 169.399 75.7182 Q 169.573 75.7962, 169.861 75.8862 Q 170.245 76.0062, 170.473 76.1262 Q 170.701 76.2462, 170.863 76.4922 Q 171.031 76.7322, 171.031 77.1462 Q 171.031 77.7342, 170.635 78.0522 Q 170.245 78.3642, 169.591 78.3642 Q 169.213 78.3642, 168.925 78.2802 Q 168.643 78.2022, 168.307 78.0642 L 168.469 77.5902 \" fill=\"#CCCC00\"/>\n",
       "<path class=\"atom-32\" d=\"M 172.163 64.7262 Q 172.163 63.7062, 172.667 63.1362 Q 173.171 62.5662, 174.113 62.5662 Q 175.055 62.5662, 175.559 63.1362 Q 176.063 63.7062, 176.063 64.7262 Q 176.063 65.7582, 175.553 66.3462 Q 175.043 66.9282, 174.113 66.9282 Q 173.177 66.9282, 172.667 66.3462 Q 172.163 65.7642, 172.163 64.7262 M 174.113 66.4482 Q 174.761 66.4482, 175.109 66.0162 Q 175.463 65.5782, 175.463 64.7262 Q 175.463 63.8922, 175.109 63.4722 Q 174.761 63.0462, 174.113 63.0462 Q 173.465 63.0462, 173.111 63.4662 Q 172.763 63.8862, 172.763 64.7262 Q 172.763 65.5842, 173.111 66.0162 Q 173.465 66.4482, 174.113 66.4482 \" fill=\"#FF0000\"/>\n",
       "<path class=\"atom-32\" d=\"M 176.573 62.6142 L 177.149 62.6142 L 177.149 64.4202 L 179.321 64.4202 L 179.321 62.6142 L 179.897 62.6142 L 179.897 66.8622 L 179.321 66.8622 L 179.321 64.9002 L 177.149 64.9002 L 177.149 66.8622 L 176.573 66.8622 L 176.573 62.6142 \" fill=\"#FF0000\"/>\n",
       "<path class=\"atom-33\" d=\"M 159.65 85.4501 L 160.226 85.4501 L 160.226 87.2561 L 162.398 87.2561 L 162.398 85.4501 L 162.974 85.4501 L 162.974 89.6981 L 162.398 89.6981 L 162.398 87.7361 L 160.226 87.7361 L 160.226 89.6981 L 159.65 89.6981 L 159.65 85.4501 \" fill=\"#FF0000\"/>\n",
       "<path class=\"atom-33\" d=\"M 163.274 87.5621 Q 163.274 86.5421, 163.778 85.9721 Q 164.282 85.4021, 165.224 85.4021 Q 166.166 85.4021, 166.67 85.9721 Q 167.174 86.5421, 167.174 87.5621 Q 167.174 88.5941, 166.664 89.1821 Q 166.154 89.7641, 165.224 89.7641 Q 164.288 89.7641, 163.778 89.1821 Q 163.274 88.6001, 163.274 87.5621 M 165.224 89.2841 Q 165.872 89.2841, 166.22 88.8521 Q 166.574 88.4141, 166.574 87.5621 Q 166.574 86.7281, 166.22 86.3081 Q 165.872 85.8821, 165.224 85.8821 Q 164.576 85.8821, 164.222 86.3021 Q 163.874 86.7221, 163.874 87.5621 Q 163.874 88.4201, 164.222 88.8521 Q 164.576 89.2841, 165.224 89.2841 \" fill=\"#FF0000\"/>\n",
       "<path d=\"M 31.4946 182.856 L 38.2306 182.856 L 38.2306 184.152 L 33.0146 184.152 L 33.0146 187.592 L 37.6546 187.592 L 37.6546 188.904 L 33.0146 188.904 L 33.0146 194.184 L 31.4946 194.184 L 31.4946 182.856 \" fill=\"#000000\"/>\n",
       "<path d=\"M 40.8066 185.96 L 40.9826 187.096 Q 41.8466 185.816, 43.2546 185.816 Q 43.7026 185.816, 44.3106 185.976 L 44.0706 187.32 Q 43.3826 187.16, 42.9986 187.16 Q 42.3266 187.16, 41.8786 187.432 Q 41.4466 187.688, 41.0946 188.312 L 41.0946 194.184 L 39.5906 194.184 L 39.5906 185.96 L 40.8066 185.96 \" fill=\"#000000\"/>\n",
       "<path d=\"M 45.0466 190.056 Q 45.0466 188.056, 46.0546 186.936 Q 47.0786 185.816, 48.9506 185.816 Q 50.8226 185.816, 51.8306 186.936 Q 52.8546 188.056, 52.8546 190.056 Q 52.8546 192.056, 51.8306 193.192 Q 50.8226 194.312, 48.9506 194.312 Q 47.0786 194.312, 46.0546 193.192 Q 45.0466 192.056, 45.0466 190.056 M 46.5826 190.056 Q 46.5826 191.56, 47.1906 192.344 Q 47.8146 193.128, 48.9506 193.128 Q 50.0866 193.128, 50.6946 192.344 Q 51.3186 191.56, 51.3186 190.056 Q 51.3186 188.552, 50.6946 187.784 Q 50.0866 187, 48.9506 187 Q 47.8146 187, 47.1906 187.784 Q 46.5826 188.552, 46.5826 190.056 \" fill=\"#000000\"/>\n",
       "<path d=\"M 63.6706 185.816 Q 65.0626 185.816, 65.7666 186.568 Q 66.4706 187.304, 66.4706 188.744 L 66.4706 194.184 L 64.9666 194.184 L 64.9666 188.856 Q 64.9666 187.88, 64.5826 187.448 Q 64.2146 187, 63.3826 187 Q 62.6626 187, 62.0386 187.352 Q 61.4306 187.688, 61.0626 188.296 Q 61.0786 188.44, 61.0786 188.744 L 61.0786 194.184 L 59.5746 194.184 L 59.5746 188.856 Q 59.5746 187.88, 59.1906 187.448 Q 58.8226 187, 57.9906 187 Q 57.2706 187, 56.6626 187.352 Q 56.0546 187.688, 55.6706 188.28 L 55.6706 194.184 L 54.1666 194.184 L 54.1666 185.96 L 55.3986 185.96 L 55.5586 187.08 Q 56.6306 185.816, 58.2786 185.816 Q 60.2146 185.816, 60.8226 187.256 Q 61.9106 185.816, 63.6706 185.816 \" fill=\"#000000\"/>\n",
       "<path d=\"\" fill=\"#000000\"/>\n",
       "<path d=\"M 75.1746 182.856 Q 77.1106 182.856, 78.0866 183.736 Q 79.0626 184.6, 79.0626 186.184 Q 79.0626 187.752, 78.0546 188.648 Q 77.0626 189.528, 75.1746 189.528 L 73.3666 189.528 L 73.3666 194.184 L 71.8306 194.184 L 71.8306 182.856 L 75.1746 182.856 M 75.1746 188.248 Q 76.2786 188.248, 76.8706 187.72 Q 77.4626 187.192, 77.4626 186.184 Q 77.4626 185.176, 76.8706 184.664 Q 76.2946 184.136, 75.1746 184.136 L 73.3666 184.136 L 73.3666 188.248 L 75.1746 188.248 \" fill=\"#000000\"/>\n",
       "<path d=\"M 84.0866 182.856 Q 86.5986 182.856, 87.9426 184.344 Q 89.2866 185.816, 89.2866 188.488 Q 89.2866 191.176, 87.9266 192.68 Q 86.5826 194.184, 84.0866 194.184 L 80.4226 194.184 L 80.4226 182.856 L 84.0866 182.856 M 84.0866 192.904 Q 85.8146 192.904, 86.7426 191.8 Q 87.6866 190.696, 87.6866 188.488 Q 87.6866 186.296, 86.7426 185.224 Q 85.8146 184.136, 84.0866 184.136 L 81.9586 184.136 L 81.9586 192.904 L 84.0866 192.904 \" fill=\"#000000\"/>\n",
       "<path d=\"M 96.1506 188.232 Q 97.2386 188.536, 97.7826 189.208 Q 98.3426 189.864, 98.3426 190.84 Q 98.3426 192.408, 97.3346 193.304 Q 96.3426 194.184, 94.4546 194.184 L 90.6466 194.184 L 90.6466 182.856 L 93.9906 182.856 Q 95.9266 182.856, 96.9026 183.64 Q 97.8786 184.424, 97.8786 185.864 Q 97.8786 187.576, 96.1506 188.232 M 92.1666 184.136 L 92.1666 187.688 L 93.9906 187.688 Q 95.1106 187.688, 95.6866 187.24 Q 96.2786 186.776, 96.2786 185.864 Q 96.2786 184.136, 93.9906 184.136 L 92.1666 184.136 M 94.4546 192.904 Q 95.5586 192.904, 96.1506 192.376 Q 96.7426 191.848, 96.7426 190.84 Q 96.7426 189.912, 96.0866 189.448 Q 95.4466 188.968, 94.2146 188.968 L 92.1666 188.968 L 92.1666 192.904 L 94.4546 192.904 \" fill=\"#000000\"/>\n",
       "<path d=\"\" fill=\"#000000\"/>\n",
       "<path d=\"M 103.751 182.808 L 105.271 182.808 L 105.271 194.184 L 103.751 194.184 L 103.751 182.808 \" fill=\"#000000\"/>\n",
       "<path d=\"M 110.295 182.856 Q 112.807 182.856, 114.151 184.344 Q 115.495 185.816, 115.495 188.488 Q 115.495 191.176, 114.135 192.68 Q 112.791 194.184, 110.295 194.184 L 106.631 194.184 L 106.631 182.856 L 110.295 182.856 M 110.295 192.904 Q 112.023 192.904, 112.951 191.8 Q 113.895 190.696, 113.895 188.488 Q 113.895 186.296, 112.951 185.224 Q 112.023 184.136, 110.295 184.136 L 108.167 184.136 L 108.167 192.904 L 110.295 192.904 \" fill=\"#000000\"/>\n",
       "<path d=\"M 116.695 192.312 L 118.295 192.312 L 118.295 193.912 L 116.695 193.912 L 116.695 192.312 M 116.695 186.808 L 118.295 186.808 L 118.295 188.408 L 116.695 188.408 L 116.695 186.808 \" fill=\"#000000\"/>\n",
       "<path d=\"\" fill=\"#000000\"/>\n",
       "<path d=\"M 127.143 187.096 Q 128.135 187.096, 128.951 187.528 Q 129.767 187.944, 130.231 188.744 Q 130.695 189.528, 130.695 190.6 Q 130.695 191.768, 130.119 192.616 Q 129.559 193.448, 128.631 193.88 Q 127.703 194.312, 126.647 194.312 Q 125.607 194.312, 124.647 193.928 Q 123.687 193.544, 123.031 192.808 L 123.991 191.816 Q 124.519 192.392, 125.239 192.712 Q 125.959 193.016, 126.695 193.016 Q 127.703 193.016, 128.391 192.392 Q 129.095 191.768, 129.095 190.632 Q 129.095 189.432, 128.391 188.872 Q 127.703 188.296, 126.599 188.296 Q 125.607 188.296, 124.503 188.728 L 123.623 188.312 L 124.167 182.856 L 129.991 182.856 L 129.831 184.136 L 125.479 184.136 L 125.143 187.496 Q 126.151 187.096, 127.143 187.096 \" fill=\"#000000\"/>\n",
       "<path d=\"M 139.239 194.184 L 138.055 190.856 L 133.559 190.856 L 132.423 194.184 L 130.887 194.184 L 134.791 182.856 L 136.679 182.856 L 140.727 194.184 L 139.239 194.184 M 134.007 189.576 L 137.591 189.576 L 135.767 184.44 L 134.007 189.576 \" fill=\"#000000\"/>\n",
       "<path d=\"M 147.591 188.232 Q 148.679 188.536, 149.223 189.208 Q 149.783 189.864, 149.783 190.84 Q 149.783 192.408, 148.775 193.304 Q 147.783 194.184, 145.895 194.184 L 142.087 194.184 L 142.087 182.856 L 145.431 182.856 Q 147.367 182.856, 148.343 183.64 Q 149.319 184.424, 149.319 185.864 Q 149.319 187.576, 147.591 188.232 M 143.607 184.136 L 143.607 187.688 L 145.431 187.688 Q 146.551 187.688, 147.127 187.24 Q 147.719 186.776, 147.719 185.864 Q 147.719 184.136, 145.431 184.136 L 143.607 184.136 M 145.895 192.904 Q 146.999 192.904, 147.591 192.376 Q 148.183 191.848, 148.183 190.84 Q 148.183 189.912, 147.527 189.448 Q 146.887 188.968, 145.655 188.968 L 143.607 188.968 L 143.607 192.904 L 145.895 192.904 \" fill=\"#000000\"/>\n",
       "<path d=\"M 164.327 182.872 L 165.863 182.872 L 162.839 194.184 L 160.519 194.184 L 158.055 184.744 L 155.575 194.184 L 153.255 194.184 L 150.231 182.872 L 151.783 182.872 L 154.439 192.776 L 157.047 182.872 L 159.047 182.872 L 161.655 192.808 L 164.327 182.872 \" fill=\"#000000\"/>\n",
       "<path class=\"bond-0\" d=\"M 226.51,79.3883 L 237.121,73.2622\" style=\"fill:none;fill-rule:evenodd;stroke:#000000;stroke-width:2.0px;stroke-linecap:butt;stroke-linejoin:miter;stroke-opacity:1\"/>\n",
       "<path class=\"bond-1\" d=\"M 226.51,79.3883 L 222.163,76.8787\" style=\"fill:none;fill-rule:evenodd;stroke:#000000;stroke-width:2.0px;stroke-linecap:butt;stroke-linejoin:miter;stroke-opacity:1\"/>\n",
       "<path class=\"bond-1\" d=\"M 222.163,76.8787 L 217.816,74.3691\" style=\"fill:none;fill-rule:evenodd;stroke:#0000FF;stroke-width:2.0px;stroke-linecap:butt;stroke-linejoin:miter;stroke-opacity:1\"/>\n",
       "<path class=\"bond-2\" d=\"M 237.121,73.2622 L 241.298,75.6739\" style=\"fill:none;fill-rule:evenodd;stroke:#000000;stroke-width:2.0px;stroke-linecap:butt;stroke-linejoin:miter;stroke-opacity:1\"/>\n",
       "<path class=\"bond-2\" d=\"M 241.298,75.6739 L 245.475,78.0857\" style=\"fill:none;fill-rule:evenodd;stroke:#FF0000;stroke-width:2.0px;stroke-linecap:butt;stroke-linejoin:miter;stroke-opacity:1\"/>\n",
       "<path class=\"bond-3\" d=\"M 258.342,73.2622 L 254.165,75.6739\" style=\"fill:none;fill-rule:evenodd;stroke:#000000;stroke-width:2.0px;stroke-linecap:butt;stroke-linejoin:miter;stroke-opacity:1\"/>\n",
       "<path class=\"bond-3\" d=\"M 254.165,75.6739 L 249.988,78.0857\" style=\"fill:none;fill-rule:evenodd;stroke:#FF0000;stroke-width:2.0px;stroke-linecap:butt;stroke-linejoin:miter;stroke-opacity:1\"/>\n",
       "<path class=\"bond-4\" d=\"M 258.342,73.2622 L 268.953,79.3883\" style=\"fill:none;fill-rule:evenodd;stroke:#000000;stroke-width:2.0px;stroke-linecap:butt;stroke-linejoin:miter;stroke-opacity:1\"/>\n",
       "<path class=\"bond-5\" d=\"M 268.953,79.3883 L 273.131,76.9766\" style=\"fill:none;fill-rule:evenodd;stroke:#000000;stroke-width:2.0px;stroke-linecap:butt;stroke-linejoin:miter;stroke-opacity:1\"/>\n",
       "<path class=\"bond-5\" d=\"M 273.131,76.9766 L 277.308,74.5648\" style=\"fill:none;fill-rule:evenodd;stroke:#FF0000;stroke-width:2.0px;stroke-linecap:butt;stroke-linejoin:miter;stroke-opacity:1\"/>\n",
       "<path class=\"bond-6\" d=\"M 290.175,79.3883 L 300.786,73.2622\" style=\"fill:none;fill-rule:evenodd;stroke:#000000;stroke-width:2.0px;stroke-linecap:butt;stroke-linejoin:miter;stroke-opacity:1\"/>\n",
       "<path class=\"bond-7\" d=\"M 290.175,79.3883 L 285.998,76.9766\" style=\"fill:none;fill-rule:evenodd;stroke:#000000;stroke-width:2.0px;stroke-linecap:butt;stroke-linejoin:miter;stroke-opacity:1\"/>\n",
       "<path class=\"bond-7\" d=\"M 285.998,76.9766 L 281.82,74.5648\" style=\"fill:none;fill-rule:evenodd;stroke:#FF0000;stroke-width:2.0px;stroke-linecap:butt;stroke-linejoin:miter;stroke-opacity:1\"/>\n",
       "<path class=\"bond-8\" d=\"M 300.786,73.2622 L 304.963,75.6739\" style=\"fill:none;fill-rule:evenodd;stroke:#000000;stroke-width:2.0px;stroke-linecap:butt;stroke-linejoin:miter;stroke-opacity:1\"/>\n",
       "<path class=\"bond-8\" d=\"M 304.963,75.6739 L 309.14,78.0857\" style=\"fill:none;fill-rule:evenodd;stroke:#FF0000;stroke-width:2.0px;stroke-linecap:butt;stroke-linejoin:miter;stroke-opacity:1\"/>\n",
       "<path class=\"bond-9\" d=\"M 322.008,73.2622 L 332.618,79.3883\" style=\"fill:none;fill-rule:evenodd;stroke:#000000;stroke-width:2.0px;stroke-linecap:butt;stroke-linejoin:miter;stroke-opacity:1\"/>\n",
       "<path class=\"bond-10\" d=\"M 322.008,73.2622 L 317.83,75.6739\" style=\"fill:none;fill-rule:evenodd;stroke:#000000;stroke-width:2.0px;stroke-linecap:butt;stroke-linejoin:miter;stroke-opacity:1\"/>\n",
       "<path class=\"bond-10\" d=\"M 317.83,75.6739 L 313.653,78.0857\" style=\"fill:none;fill-rule:evenodd;stroke:#FF0000;stroke-width:2.0px;stroke-linecap:butt;stroke-linejoin:miter;stroke-opacity:1\"/>\n",
       "<path class=\"bond-11\" d=\"M 332.618,79.3883 L 336.796,76.9766\" style=\"fill:none;fill-rule:evenodd;stroke:#000000;stroke-width:2.0px;stroke-linecap:butt;stroke-linejoin:miter;stroke-opacity:1\"/>\n",
       "<path class=\"bond-11\" d=\"M 336.796,76.9766 L 340.973,74.5648\" style=\"fill:none;fill-rule:evenodd;stroke:#FF0000;stroke-width:2.0px;stroke-linecap:butt;stroke-linejoin:miter;stroke-opacity:1\"/>\n",
       "<path class=\"bond-12\" d=\"M 353.84,79.3883 L 364.451,73.2622\" style=\"fill:none;fill-rule:evenodd;stroke:#000000;stroke-width:2.0px;stroke-linecap:butt;stroke-linejoin:miter;stroke-opacity:1\"/>\n",
       "<path class=\"bond-13\" d=\"M 353.84,79.3883 L 349.663,76.9766\" style=\"fill:none;fill-rule:evenodd;stroke:#000000;stroke-width:2.0px;stroke-linecap:butt;stroke-linejoin:miter;stroke-opacity:1\"/>\n",
       "<path class=\"bond-13\" d=\"M 349.663,76.9766 L 345.486,74.5648\" style=\"fill:none;fill-rule:evenodd;stroke:#FF0000;stroke-width:2.0px;stroke-linecap:butt;stroke-linejoin:miter;stroke-opacity:1\"/>\n",
       "<path class=\"bond-14\" d=\"M 364.451,73.2622 L 375.062,79.3883\" style=\"fill:none;fill-rule:evenodd;stroke:#000000;stroke-width:2.0px;stroke-linecap:butt;stroke-linejoin:miter;stroke-opacity:1\"/>\n",
       "<path class=\"bond-15\" d=\"M 375.062,79.3883 L 379.239,76.9766\" style=\"fill:none;fill-rule:evenodd;stroke:#000000;stroke-width:2.0px;stroke-linecap:butt;stroke-linejoin:miter;stroke-opacity:1\"/>\n",
       "<path class=\"bond-15\" d=\"M 379.239,76.9766 L 383.416,74.5648\" style=\"fill:none;fill-rule:evenodd;stroke:#FF0000;stroke-width:2.0px;stroke-linecap:butt;stroke-linejoin:miter;stroke-opacity:1\"/>\n",
       "<path class=\"atom-3\" d=\"M 245.782 79.4003 Q 245.782 78.3803, 246.286 77.8103 Q 246.79 77.2403, 247.732 77.2403 Q 248.674 77.2403, 249.178 77.8103 Q 249.682 78.3803, 249.682 79.4003 Q 249.682 80.4323, 249.172 81.0203 Q 248.662 81.6023, 247.732 81.6023 Q 246.796 81.6023, 246.286 81.0203 Q 245.782 80.4383, 245.782 79.4003 M 247.732 81.1223 Q 248.38 81.1223, 248.728 80.6903 Q 249.082 80.2523, 249.082 79.4003 Q 249.082 78.5663, 248.728 78.1463 Q 248.38 77.7203, 247.732 77.7203 Q 247.084 77.7203, 246.73 78.1403 Q 246.382 78.5603, 246.382 79.4003 Q 246.382 80.2583, 246.73 80.6903 Q 247.084 81.1223, 247.732 81.1223 \" fill=\"#FF0000\"/>\n",
       "<path class=\"atom-8\" d=\"M 277.614 73.2742 Q 277.614 72.2542, 278.118 71.6842 Q 278.622 71.1142, 279.564 71.1142 Q 280.506 71.1142, 281.01 71.6842 Q 281.514 72.2542, 281.514 73.2742 Q 281.514 74.3062, 281.004 74.8942 Q 280.494 75.4762, 279.564 75.4762 Q 278.628 75.4762, 278.118 74.8942 Q 277.614 74.3122, 277.614 73.2742 M 279.564 74.9962 Q 280.212 74.9962, 280.56 74.5642 Q 280.914 74.1262, 280.914 73.2742 Q 280.914 72.4402, 280.56 72.0202 Q 280.212 71.5942, 279.564 71.5942 Q 278.916 71.5942, 278.562 72.0142 Q 278.214 72.4342, 278.214 73.2742 Q 278.214 74.1322, 278.562 74.5642 Q 278.916 74.9962, 279.564 74.9962 \" fill=\"#FF0000\"/>\n",
       "<path class=\"atom-13\" d=\"M 208.379 71.1382 L 208.955 71.1382 L 208.955 72.9442 L 211.127 72.9442 L 211.127 71.1382 L 211.703 71.1382 L 211.703 75.3862 L 211.127 75.3862 L 211.127 73.4242 L 208.955 73.4242 L 208.955 75.3862 L 208.379 75.3862 L 208.379 71.1382 \" fill=\"#0000FF\"/>\n",
       "<path class=\"atom-13\" d=\"M 211.909 75.2371 Q 212.012 74.9718, 212.257 74.8253 Q 212.503 74.6748, 212.844 74.6748 Q 213.267 74.6748, 213.505 74.9045 Q 213.742 75.1342, 213.742 75.542 Q 213.742 75.9578, 213.434 76.3459 Q 213.129 76.734, 212.495 77.1934 L 213.79 77.1934 L 213.79 77.5102 L 211.901 77.5102 L 211.901 77.2448 Q 212.424 76.8726, 212.733 76.5954 Q 213.045 76.3182, 213.196 76.0687 Q 213.346 75.8192, 213.346 75.5618 Q 213.346 75.2926, 213.212 75.1421 Q 213.077 74.9916, 212.844 74.9916 Q 212.618 74.9916, 212.467 75.0827 Q 212.317 75.1738, 212.21 75.3757 L 211.909 75.2371 \" fill=\"#0000FF\"/>\n",
       "<path class=\"atom-13\" d=\"M 214.96 71.1382 L 216.352 73.3882 Q 216.49 73.6102, 216.712 74.0122 Q 216.934 74.4142, 216.946 74.4382 L 216.946 71.1382 L 217.51 71.1382 L 217.51 75.3862 L 216.928 75.3862 L 215.434 72.9262 Q 215.26 72.6382, 215.074 72.3082 Q 214.894 71.9782, 214.84 71.8762 L 214.84 75.3862 L 214.288 75.3862 L 214.288 71.1382 L 214.96 71.1382 \" fill=\"#0000FF\"/>\n",
       "<path class=\"atom-14\" d=\"M 309.447 79.4003 Q 309.447 78.3803, 309.951 77.8103 Q 310.455 77.2403, 311.397 77.2403 Q 312.339 77.2403, 312.843 77.8103 Q 313.347 78.3803, 313.347 79.4003 Q 313.347 80.4323, 312.837 81.0203 Q 312.327 81.6023, 311.397 81.6023 Q 310.461 81.6023, 309.951 81.0203 Q 309.447 80.4383, 309.447 79.4003 M 311.397 81.1223 Q 312.045 81.1223, 312.393 80.6903 Q 312.747 80.2523, 312.747 79.4003 Q 312.747 78.5663, 312.393 78.1463 Q 312.045 77.7203, 311.397 77.7203 Q 310.749 77.7203, 310.395 78.1403 Q 310.047 78.5603, 310.047 79.4003 Q 310.047 80.2583, 310.395 80.6903 Q 310.749 81.1223, 311.397 81.1223 \" fill=\"#FF0000\"/>\n",
       "<path class=\"atom-15\" d=\"M 341.279 73.2742 Q 341.279 72.2542, 341.783 71.6842 Q 342.287 71.1142, 343.229 71.1142 Q 344.171 71.1142, 344.675 71.6842 Q 345.179 72.2542, 345.179 73.2742 Q 345.179 74.3062, 344.669 74.8942 Q 344.159 75.4762, 343.229 75.4762 Q 342.293 75.4762, 341.783 74.8942 Q 341.279 74.3122, 341.279 73.2742 M 343.229 74.9962 Q 343.877 74.9962, 344.225 74.5642 Q 344.579 74.1262, 344.579 73.2742 Q 344.579 72.4402, 344.225 72.0202 Q 343.877 71.5942, 343.229 71.5942 Q 342.581 71.5942, 342.227 72.0142 Q 341.879 72.4342, 341.879 73.2742 Q 341.879 74.1322, 342.227 74.5642 Q 342.581 74.9962, 343.229 74.9962 \" fill=\"#FF0000\"/>\n",
       "<path class=\"atom-16\" d=\"M 383.723 73.2742 Q 383.723 72.2542, 384.227 71.6842 Q 384.731 71.1142, 385.673 71.1142 Q 386.615 71.1142, 387.119 71.6842 Q 387.623 72.2542, 387.623 73.2742 Q 387.623 74.3062, 387.113 74.8942 Q 386.603 75.4762, 385.673 75.4762 Q 384.737 75.4762, 384.227 74.8942 Q 383.723 74.3122, 383.723 73.2742 M 385.673 74.9962 Q 386.321 74.9962, 386.669 74.5642 Q 387.023 74.1262, 387.023 73.2742 Q 387.023 72.4402, 386.669 72.0202 Q 386.321 71.5942, 385.673 71.5942 Q 385.025 71.5942, 384.671 72.0142 Q 384.323 72.4342, 384.323 73.2742 Q 384.323 74.1322, 384.671 74.5642 Q 385.025 74.9962, 385.673 74.9962 \" fill=\"#FF0000\"/>\n",
       "<path class=\"atom-16\" d=\"M 388.133 71.1622 L 388.709 71.1622 L 388.709 72.9682 L 390.881 72.9682 L 390.881 71.1622 L 391.457 71.1622 L 391.457 75.4102 L 390.881 75.4102 L 390.881 73.4482 L 388.709 73.4482 L 388.709 75.4102 L 388.133 75.4102 L 388.133 71.1622 \" fill=\"#FF0000\"/>\n",
       "<path d=\"M 229.812 182.856 L 236.548 182.856 L 236.548 184.152 L 231.332 184.152 L 231.332 187.592 L 235.972 187.592 L 235.972 188.904 L 231.332 188.904 L 231.332 194.184 L 229.812 194.184 L 229.812 182.856 \" fill=\"#000000\"/>\n",
       "<path d=\"M 239.124 185.96 L 239.3 187.096 Q 240.164 185.816, 241.572 185.816 Q 242.02 185.816, 242.628 185.976 L 242.388 187.32 Q 241.7 187.16, 241.316 187.16 Q 240.644 187.16, 240.196 187.432 Q 239.764 187.688, 239.412 188.312 L 239.412 194.184 L 237.908 194.184 L 237.908 185.96 L 239.124 185.96 \" fill=\"#000000\"/>\n",
       "<path d=\"M 243.364 190.056 Q 243.364 188.056, 244.372 186.936 Q 245.396 185.816, 247.268 185.816 Q 249.14 185.816, 250.148 186.936 Q 251.172 188.056, 251.172 190.056 Q 251.172 192.056, 250.148 193.192 Q 249.14 194.312, 247.268 194.312 Q 245.396 194.312, 244.372 193.192 Q 243.364 192.056, 243.364 190.056 M 244.9 190.056 Q 244.9 191.56, 245.508 192.344 Q 246.132 193.128, 247.268 193.128 Q 248.404 193.128, 249.012 192.344 Q 249.636 191.56, 249.636 190.056 Q 249.636 188.552, 249.012 187.784 Q 248.404 187, 247.268 187 Q 246.132 187, 245.508 187.784 Q 244.9 188.552, 244.9 190.056 \" fill=\"#000000\"/>\n",
       "<path d=\"M 261.988 185.816 Q 263.38 185.816, 264.084 186.568 Q 264.788 187.304, 264.788 188.744 L 264.788 194.184 L 263.284 194.184 L 263.284 188.856 Q 263.284 187.88, 262.9 187.448 Q 262.532 187, 261.7 187 Q 260.98 187, 260.356 187.352 Q 259.748 187.688, 259.38 188.296 Q 259.396 188.44, 259.396 188.744 L 259.396 194.184 L 257.892 194.184 L 257.892 188.856 Q 257.892 187.88, 257.508 187.448 Q 257.14 187, 256.308 187 Q 255.588 187, 254.98 187.352 Q 254.372 187.688, 253.988 188.28 L 253.988 194.184 L 252.484 194.184 L 252.484 185.96 L 253.716 185.96 L 253.876 187.08 Q 254.948 185.816, 256.596 185.816 Q 258.532 185.816, 259.14 187.256 Q 260.228 185.816, 261.988 185.816 \" fill=\"#000000\"/>\n",
       "<path d=\"\" fill=\"#000000\"/>\n",
       "<path d=\"M 273.492 182.856 Q 275.428 182.856, 276.404 183.736 Q 277.38 184.6, 277.38 186.184 Q 277.38 187.752, 276.372 188.648 Q 275.38 189.528, 273.492 189.528 L 271.684 189.528 L 271.684 194.184 L 270.148 194.184 L 270.148 182.856 L 273.492 182.856 M 273.492 188.248 Q 274.596 188.248, 275.188 187.72 Q 275.78 187.192, 275.78 186.184 Q 275.78 185.176, 275.188 184.664 Q 274.612 184.136, 273.492 184.136 L 271.684 184.136 L 271.684 188.248 L 273.492 188.248 \" fill=\"#000000\"/>\n",
       "<path d=\"M 282.404 182.856 Q 284.916 182.856, 286.26 184.344 Q 287.604 185.816, 287.604 188.488 Q 287.604 191.176, 286.244 192.68 Q 284.9 194.184, 282.404 194.184 L 278.74 194.184 L 278.74 182.856 L 282.404 182.856 M 282.404 192.904 Q 284.132 192.904, 285.06 191.8 Q 286.004 190.696, 286.004 188.488 Q 286.004 186.296, 285.06 185.224 Q 284.132 184.136, 282.404 184.136 L 280.276 184.136 L 280.276 192.904 L 282.404 192.904 \" fill=\"#000000\"/>\n",
       "<path d=\"M 294.468 188.232 Q 295.556 188.536, 296.1 189.208 Q 296.66 189.864, 296.66 190.84 Q 296.66 192.408, 295.652 193.304 Q 294.66 194.184, 292.772 194.184 L 288.964 194.184 L 288.964 182.856 L 292.308 182.856 Q 294.244 182.856, 295.22 183.64 Q 296.196 184.424, 296.196 185.864 Q 296.196 187.576, 294.468 188.232 M 290.484 184.136 L 290.484 187.688 L 292.308 187.688 Q 293.428 187.688, 294.004 187.24 Q 294.596 186.776, 294.596 185.864 Q 294.596 184.136, 292.308 184.136 L 290.484 184.136 M 292.772 192.904 Q 293.876 192.904, 294.468 192.376 Q 295.06 191.848, 295.06 190.84 Q 295.06 189.912, 294.404 189.448 Q 293.764 188.968, 292.532 188.968 L 290.484 188.968 L 290.484 192.904 L 292.772 192.904 \" fill=\"#000000\"/>\n",
       "<path d=\"\" fill=\"#000000\"/>\n",
       "<path d=\"M 302.068 182.808 L 303.588 182.808 L 303.588 194.184 L 302.068 194.184 L 302.068 182.808 \" fill=\"#000000\"/>\n",
       "<path d=\"M 308.612 182.856 Q 311.124 182.856, 312.468 184.344 Q 313.812 185.816, 313.812 188.488 Q 313.812 191.176, 312.452 192.68 Q 311.108 194.184, 308.612 194.184 L 304.948 194.184 L 304.948 182.856 L 308.612 182.856 M 308.612 192.904 Q 310.34 192.904, 311.268 191.8 Q 312.212 190.696, 312.212 188.488 Q 312.212 186.296, 311.268 185.224 Q 310.34 184.136, 308.612 184.136 L 306.484 184.136 L 306.484 192.904 L 308.612 192.904 \" fill=\"#000000\"/>\n",
       "<path d=\"M 315.012 192.312 L 316.612 192.312 L 316.612 193.912 L 315.012 193.912 L 315.012 192.312 M 315.012 186.808 L 316.612 186.808 L 316.612 188.408 L 315.012 188.408 L 315.012 186.808 \" fill=\"#000000\"/>\n",
       "<path d=\"\" fill=\"#000000\"/>\n",
       "<path d=\"M 328.452 190.296 L 329.812 190.296 L 329.812 191.576 L 328.452 191.576 L 328.452 194.184 L 326.948 194.184 L 326.948 191.576 L 321.092 191.576 L 321.092 190.568 L 326.052 182.856 L 328.452 182.856 L 328.452 190.296 M 322.948 190.296 L 326.948 190.296 L 326.948 183.88 L 322.948 190.296 \" fill=\"#000000\"/>\n",
       "<path d=\"M 344.356 182.872 L 345.892 182.872 L 342.868 194.184 L 340.548 194.184 L 338.084 184.744 L 335.604 194.184 L 333.284 194.184 L 330.26 182.872 L 331.812 182.872 L 334.468 192.776 L 337.076 182.872 L 339.076 182.872 L 341.684 192.808 L 344.356 182.872 \" fill=\"#000000\"/>\n",
       "<path d=\"M 354.18 182.856 L 355.668 182.856 L 351.812 194.184 L 349.924 194.184 L 346.212 182.856 L 347.748 182.856 L 350.9 192.52 L 354.18 182.856 \" fill=\"#000000\"/>\n",
       "<path d=\"M 360.372 182.856 Q 362.308 182.856, 363.284 183.736 Q 364.26 184.6, 364.26 186.184 Q 364.26 187.752, 363.252 188.648 Q 362.26 189.528, 360.372 189.528 L 358.564 189.528 L 358.564 194.184 L 357.028 194.184 L 357.028 182.856 L 360.372 182.856 M 360.372 188.248 Q 361.476 188.248, 362.068 187.72 Q 362.66 187.192, 362.66 186.184 Q 362.66 185.176, 362.068 184.664 Q 361.492 184.136, 360.372 184.136 L 358.564 184.136 L 358.564 188.248 L 360.372 188.248 \" fill=\"#000000\"/>\n",
       "<path class=\"bond-0\" d=\"M 444.989,96.2853 L 448.055,92.4916\" style=\"fill:none;fill-rule:evenodd;stroke:#33CCCC;stroke-width:2.0px;stroke-linecap:butt;stroke-linejoin:miter;stroke-opacity:1\"/>\n",
       "<path class=\"bond-0\" d=\"M 448.055,92.4916 L 451.121,88.6979\" style=\"fill:none;fill-rule:evenodd;stroke:#000000;stroke-width:2.0px;stroke-linecap:butt;stroke-linejoin:miter;stroke-opacity:1\"/>\n",
       "<path class=\"bond-1\" d=\"M 451.121,88.6979 L 447.141,85.4812\" style=\"fill:none;fill-rule:evenodd;stroke:#000000;stroke-width:2.0px;stroke-linecap:butt;stroke-linejoin:miter;stroke-opacity:1\"/>\n",
       "<path class=\"bond-1\" d=\"M 447.141,85.4812 L 443.161,82.2645\" style=\"fill:none;fill-rule:evenodd;stroke:#33CCCC;stroke-width:2.0px;stroke-linecap:butt;stroke-linejoin:miter;stroke-opacity:1\"/>\n",
       "<path class=\"bond-2\" d=\"M 451.121,88.6979 L 455.101,91.9147\" style=\"fill:none;fill-rule:evenodd;stroke:#000000;stroke-width:2.0px;stroke-linecap:butt;stroke-linejoin:miter;stroke-opacity:1\"/>\n",
       "<path class=\"bond-2\" d=\"M 455.101,91.9147 L 459.081,95.1314\" style=\"fill:none;fill-rule:evenodd;stroke:#33CCCC;stroke-width:2.0px;stroke-linecap:butt;stroke-linejoin:miter;stroke-opacity:1\"/>\n",
       "<path class=\"bond-3\" d=\"M 451.121,88.6979 L 458.823,79.1689\" style=\"fill:none;fill-rule:evenodd;stroke:#000000;stroke-width:2.0px;stroke-linecap:butt;stroke-linejoin:miter;stroke-opacity:1\"/>\n",
       "<path class=\"bond-4\" d=\"M 458.823,79.1689 L 454.421,67.7345\" style=\"fill:none;fill-rule:evenodd;stroke:#000000;stroke-width:2.0px;stroke-linecap:butt;stroke-linejoin:miter;stroke-opacity:1\"/>\n",
       "<path class=\"bond-5\" d=\"M 458.823,79.1689 L 470.926,81.0744\" style=\"fill:none;fill-rule:evenodd;stroke:#000000;stroke-width:2.0px;stroke-linecap:butt;stroke-linejoin:miter;stroke-opacity:1\"/>\n",
       "<path class=\"bond-6\" d=\"M 454.421,67.7345 L 462.123,58.2054\" style=\"fill:none;fill-rule:evenodd;stroke:#000000;stroke-width:2.0px;stroke-linecap:butt;stroke-linejoin:miter;stroke-opacity:1\"/>\n",
       "<path class=\"bond-7\" d=\"M 462.123,58.2054 L 474.227,60.1109\" style=\"fill:none;fill-rule:evenodd;stroke:#000000;stroke-width:2.0px;stroke-linecap:butt;stroke-linejoin:miter;stroke-opacity:1\"/>\n",
       "<path class=\"bond-8\" d=\"M 474.227,60.1109 L 478.628,71.5454\" style=\"fill:none;fill-rule:evenodd;stroke:#000000;stroke-width:2.0px;stroke-linecap:butt;stroke-linejoin:miter;stroke-opacity:1\"/>\n",
       "<path class=\"bond-9\" d=\"M 470.926,81.0744 L 478.628,71.5454\" style=\"fill:none;fill-rule:evenodd;stroke:#000000;stroke-width:2.0px;stroke-linecap:butt;stroke-linejoin:miter;stroke-opacity:1\"/>\n",
       "<path class=\"bond-10\" d=\"M 478.628,71.5454 L 483.721,72.3473\" style=\"fill:none;fill-rule:evenodd;stroke:#000000;stroke-width:2.0px;stroke-linecap:butt;stroke-linejoin:miter;stroke-opacity:1\"/>\n",
       "<path class=\"bond-10\" d=\"M 483.721,72.3473 L 488.814,73.1491\" style=\"fill:none;fill-rule:evenodd;stroke:#0000FF;stroke-width:2.0px;stroke-linecap:butt;stroke-linejoin:miter;stroke-opacity:1\"/>\n",
       "<path class=\"bond-11\" d=\"M 491.667,75.8812 L 493.4,80.3833\" style=\"fill:none;fill-rule:evenodd;stroke:#0000FF;stroke-width:2.0px;stroke-linecap:butt;stroke-linejoin:miter;stroke-opacity:1\"/>\n",
       "<path class=\"bond-11\" d=\"M 493.4,80.3833 L 495.133,84.8854\" style=\"fill:none;fill-rule:evenodd;stroke:#000000;stroke-width:2.0px;stroke-linecap:butt;stroke-linejoin:miter;stroke-opacity:1\"/>\n",
       "<path class=\"bond-12\" d=\"M 492.649,71.0788 L 495.541,67.5003\" style=\"fill:none;fill-rule:evenodd;stroke:#0000FF;stroke-width:2.0px;stroke-linecap:butt;stroke-linejoin:miter;stroke-opacity:1\"/>\n",
       "<path class=\"bond-12\" d=\"M 495.541,67.5003 L 498.433,63.9219\" style=\"fill:none;fill-rule:evenodd;stroke:#000000;stroke-width:2.0px;stroke-linecap:butt;stroke-linejoin:miter;stroke-opacity:1\"/>\n",
       "<path class=\"bond-13\" d=\"M 495.133,84.8854 L 492.274,88.4228\" style=\"fill:none;fill-rule:evenodd;stroke:#000000;stroke-width:2.0px;stroke-linecap:butt;stroke-linejoin:miter;stroke-opacity:1\"/>\n",
       "<path class=\"bond-13\" d=\"M 492.274,88.4228 L 489.415,91.9601\" style=\"fill:none;fill-rule:evenodd;stroke:#FF0000;stroke-width:2.0px;stroke-linecap:butt;stroke-linejoin:miter;stroke-opacity:1\"/>\n",
       "<path class=\"bond-14\" d=\"M 495.133,84.8854 L 500.226,85.6872\" style=\"fill:none;fill-rule:evenodd;stroke:#000000;stroke-width:2.0px;stroke-linecap:butt;stroke-linejoin:miter;stroke-opacity:1\"/>\n",
       "<path class=\"bond-14\" d=\"M 500.226,85.6872 L 505.319,86.4891\" style=\"fill:none;fill-rule:evenodd;stroke:#0000FF;stroke-width:2.0px;stroke-linecap:butt;stroke-linejoin:miter;stroke-opacity:1\"/>\n",
       "<path class=\"bond-15\" d=\"M 498.433,63.9219 L 494.032,52.4874\" style=\"fill:none;fill-rule:evenodd;stroke:#000000;stroke-width:2.0px;stroke-linecap:butt;stroke-linejoin:miter;stroke-opacity:1\"/>\n",
       "<path class=\"bond-16\" d=\"M 498.433,63.9219 L 510.536,65.8274\" style=\"fill:none;fill-rule:evenodd;stroke:#000000;stroke-width:2.0px;stroke-linecap:butt;stroke-linejoin:miter;stroke-opacity:1\"/>\n",
       "<path class=\"bond-17\" d=\"M 510.536,65.8274 L 518.238,56.2984\" style=\"fill:none;fill-rule:evenodd;stroke:#000000;stroke-width:2.0px;stroke-linecap:butt;stroke-linejoin:miter;stroke-opacity:1\"/>\n",
       "<path class=\"bond-18\" d=\"M 510.536,65.8274 L 514.938,77.2619\" style=\"fill:none;fill-rule:evenodd;stroke:#000000;stroke-width:2.0px;stroke-linecap:butt;stroke-linejoin:miter;stroke-opacity:1\"/>\n",
       "<path class=\"bond-19\" d=\"M 518.238,56.2984 L 516.523,51.8413\" style=\"fill:none;fill-rule:evenodd;stroke:#000000;stroke-width:2.0px;stroke-linecap:butt;stroke-linejoin:miter;stroke-opacity:1\"/>\n",
       "<path class=\"bond-19\" d=\"M 516.523,51.8413 L 514.807,47.3842\" style=\"fill:none;fill-rule:evenodd;stroke:#FF0000;stroke-width:2.0px;stroke-linecap:butt;stroke-linejoin:miter;stroke-opacity:1\"/>\n",
       "<path class=\"bond-20\" d=\"M 518.238,56.2984 L 530.342,58.2039\" style=\"fill:none;fill-rule:evenodd;stroke:#000000;stroke-width:2.0px;stroke-linecap:butt;stroke-linejoin:miter;stroke-opacity:1\"/>\n",
       "<path class=\"bond-21\" d=\"M 514.938,77.2619 L 512.069,80.8113\" style=\"fill:none;fill-rule:evenodd;stroke:#000000;stroke-width:2.0px;stroke-linecap:butt;stroke-linejoin:miter;stroke-opacity:1\"/>\n",
       "<path class=\"bond-21\" d=\"M 512.069,80.8113 L 509.2,84.3606\" style=\"fill:none;fill-rule:evenodd;stroke:#0000FF;stroke-width:2.0px;stroke-linecap:butt;stroke-linejoin:miter;stroke-opacity:1\"/>\n",
       "<path class=\"bond-22\" d=\"M 514.938,77.2619 L 527.041,79.1674\" style=\"fill:none;fill-rule:evenodd;stroke:#000000;stroke-width:2.0px;stroke-linecap:butt;stroke-linejoin:miter;stroke-opacity:1\"/>\n",
       "<path class=\"bond-23\" d=\"M 527.041,79.1674 L 531.443,90.6019\" style=\"fill:none;fill-rule:evenodd;stroke:#000000;stroke-width:2.0px;stroke-linecap:butt;stroke-linejoin:miter;stroke-opacity:1\"/>\n",
       "<path class=\"bond-24\" d=\"M 527.041,79.1674 L 534.743,69.6384\" style=\"fill:none;fill-rule:evenodd;stroke:#000000;stroke-width:2.0px;stroke-linecap:butt;stroke-linejoin:miter;stroke-opacity:1\"/>\n",
       "<path class=\"bond-25\" d=\"M 531.443,90.6019 L 536.536,91.4037\" style=\"fill:none;fill-rule:evenodd;stroke:#000000;stroke-width:2.0px;stroke-linecap:butt;stroke-linejoin:miter;stroke-opacity:1\"/>\n",
       "<path class=\"bond-25\" d=\"M 536.536,91.4037 L 541.629,92.2056\" style=\"fill:none;fill-rule:evenodd;stroke:#0000FF;stroke-width:2.0px;stroke-linecap:butt;stroke-linejoin:miter;stroke-opacity:1\"/>\n",
       "<path class=\"bond-26\" d=\"M 545.51,90.0771 L 548.379,86.5277\" style=\"fill:none;fill-rule:evenodd;stroke:#0000FF;stroke-width:2.0px;stroke-linecap:butt;stroke-linejoin:miter;stroke-opacity:1\"/>\n",
       "<path class=\"bond-26\" d=\"M 548.379,86.5277 L 551.248,82.9784\" style=\"fill:none;fill-rule:evenodd;stroke:#000000;stroke-width:2.0px;stroke-linecap:butt;stroke-linejoin:miter;stroke-opacity:1\"/>\n",
       "<path class=\"bond-27\" d=\"M 551.248,82.9784 L 563.351,84.8839\" style=\"fill:none;fill-rule:evenodd;stroke:#000000;stroke-width:2.0px;stroke-linecap:butt;stroke-linejoin:miter;stroke-opacity:1\"/>\n",
       "<path class=\"bond-28\" d=\"M 551.248,82.9784 L 546.846,71.5439\" style=\"fill:none;fill-rule:evenodd;stroke:#000000;stroke-width:2.0px;stroke-linecap:butt;stroke-linejoin:miter;stroke-opacity:1\"/>\n",
       "<path class=\"bond-29\" d=\"M 563.351,84.8839 L 565.084,89.386\" style=\"fill:none;fill-rule:evenodd;stroke:#000000;stroke-width:2.0px;stroke-linecap:butt;stroke-linejoin:miter;stroke-opacity:1\"/>\n",
       "<path class=\"bond-29\" d=\"M 565.084,89.386 L 566.817,93.8881\" style=\"fill:none;fill-rule:evenodd;stroke:#0000FF;stroke-width:2.0px;stroke-linecap:butt;stroke-linejoin:miter;stroke-opacity:1\"/>\n",
       "<path class=\"bond-30\" d=\"M 546.846,71.5439 L 534.743,69.6384\" style=\"fill:none;fill-rule:evenodd;stroke:#000000;stroke-width:2.0px;stroke-linecap:butt;stroke-linejoin:miter;stroke-opacity:1\"/>\n",
       "<path class=\"atom-0\" d=\"M 442.156 96.103 L 444.682 96.103 L 444.682 96.589 L 442.726 96.589 L 442.726 97.879 L 444.466 97.879 L 444.466 98.371 L 442.726 98.371 L 442.726 100.351 L 442.156 100.351 L 442.156 96.103 \" fill=\"#33CCCC\"/>\n",
       "<path class=\"atom-2\" d=\"M 440.329 78.8721 L 442.855 78.8721 L 442.855 79.3581 L 440.899 79.3581 L 440.899 80.6481 L 442.639 80.6481 L 442.639 81.1401 L 440.899 81.1401 L 440.899 83.1201 L 440.329 83.1201 L 440.329 78.8721 \" fill=\"#33CCCC\"/>\n",
       "<path class=\"atom-3\" d=\"M 459.387 94.2758 L 461.913 94.2758 L 461.913 94.7618 L 459.957 94.7618 L 459.957 96.0518 L 461.697 96.0518 L 461.697 96.5438 L 459.957 96.5438 L 459.957 98.5238 L 459.387 98.5238 L 459.387 94.2758 \" fill=\"#33CCCC\"/>\n",
       "<path class=\"atom-10\" d=\"M 489.792 71.3269 L 491.184 73.5769 Q 491.322 73.7989, 491.544 74.2009 Q 491.766 74.6029, 491.778 74.6269 L 491.778 71.3269 L 492.342 71.3269 L 492.342 75.5749 L 491.76 75.5749 L 490.266 73.1149 Q 490.092 72.8269, 489.906 72.4969 Q 489.726 72.1669, 489.672 72.0649 L 489.672 75.5749 L 489.12 75.5749 L 489.12 71.3269 L 489.792 71.3269 \" fill=\"#0000FF\"/>\n",
       "<path class=\"atom-12\" d=\"M 481.857 92.3144 L 482.433 92.3144 L 482.433 94.1204 L 484.605 94.1204 L 484.605 92.3144 L 485.181 92.3144 L 485.181 96.5624 L 484.605 96.5624 L 484.605 94.6004 L 482.433 94.6004 L 482.433 96.5624 L 481.857 96.5624 L 481.857 92.3144 \" fill=\"#FF0000\"/>\n",
       "<path class=\"atom-12\" d=\"M 485.481 94.4264 Q 485.481 93.4064, 485.985 92.8364 Q 486.489 92.2664, 487.431 92.2664 Q 488.373 92.2664, 488.877 92.8364 Q 489.381 93.4064, 489.381 94.4264 Q 489.381 95.4584, 488.871 96.0464 Q 488.361 96.6284, 487.431 96.6284 Q 486.495 96.6284, 485.985 96.0464 Q 485.481 95.4644, 485.481 94.4264 M 487.431 96.1484 Q 488.079 96.1484, 488.427 95.7164 Q 488.781 95.2784, 488.781 94.4264 Q 488.781 93.5924, 488.427 93.1724 Q 488.079 92.7464, 487.431 92.7464 Q 486.783 92.7464, 486.429 93.1664 Q 486.081 93.5864, 486.081 94.4264 Q 486.081 95.2844, 486.429 95.7164 Q 486.783 96.1484, 487.431 96.1484 \" fill=\"#FF0000\"/>\n",
       "<path class=\"atom-17\" d=\"M 508.263 42.7639 L 508.839 42.7639 L 508.839 44.5699 L 511.011 44.5699 L 511.011 42.7639 L 511.587 42.7639 L 511.587 47.0119 L 511.011 47.0119 L 511.011 45.0499 L 508.839 45.0499 L 508.839 47.0119 L 508.263 47.0119 L 508.263 42.7639 \" fill=\"#FF0000\"/>\n",
       "<path class=\"atom-17\" d=\"M 511.887 44.8759 Q 511.887 43.8559, 512.391 43.2859 Q 512.895 42.7159, 513.837 42.7159 Q 514.779 42.7159, 515.283 43.2859 Q 515.787 43.8559, 515.787 44.8759 Q 515.787 45.9079, 515.277 46.4959 Q 514.767 47.0779, 513.837 47.0779 Q 512.901 47.0779, 512.391 46.4959 Q 511.887 45.9139, 511.887 44.8759 M 513.837 46.5979 Q 514.485 46.5979, 514.833 46.1659 Q 515.187 45.7279, 515.187 44.8759 Q 515.187 44.0419, 514.833 43.6219 Q 514.485 43.1959, 513.837 43.1959 Q 513.189 43.1959, 512.835 43.6159 Q 512.487 44.0359, 512.487 44.8759 Q 512.487 45.7339, 512.835 46.1659 Q 513.189 46.5979, 513.837 46.5979 \" fill=\"#FF0000\"/>\n",
       "<path class=\"atom-20\" d=\"M 506.297 84.6669 L 507.689 86.9169 Q 507.827 87.1389, 508.049 87.5409 Q 508.271 87.9429, 508.283 87.9669 L 508.283 84.6669 L 508.847 84.6669 L 508.847 88.9149 L 508.265 88.9149 L 506.771 86.4549 Q 506.597 86.1669, 506.411 85.8369 Q 506.231 85.5069, 506.177 85.4049 L 506.177 88.9149 L 505.625 88.9149 L 505.625 84.6669 L 506.297 84.6669 \" fill=\"#0000FF\"/>\n",
       "<path class=\"atom-20\" d=\"M 509.357 84.6669 L 509.933 84.6669 L 509.933 86.4729 L 512.105 86.4729 L 512.105 84.6669 L 512.681 84.6669 L 512.681 88.9149 L 512.105 88.9149 L 512.105 86.9529 L 509.933 86.9529 L 509.933 88.9149 L 509.357 88.9149 L 509.357 84.6669 \" fill=\"#0000FF\"/>\n",
       "<path class=\"atom-23\" d=\"M 542.607 90.3834 L 543.999 92.6334 Q 544.137 92.8554, 544.359 93.2574 Q 544.581 93.6594, 544.593 93.6834 L 544.593 90.3834 L 545.157 90.3834 L 545.157 94.6314 L 544.575 94.6314 L 543.081 92.1714 Q 542.907 91.8834, 542.721 91.5534 Q 542.541 91.2234, 542.487 91.1214 L 542.487 94.6314 L 541.935 94.6314 L 541.935 90.3834 L 542.607 90.3834 \" fill=\"#0000FF\"/>\n",
       "<path class=\"atom-23\" d=\"M 545.667 90.3834 L 546.243 90.3834 L 546.243 92.1894 L 548.415 92.1894 L 548.415 90.3834 L 548.991 90.3834 L 548.991 94.6314 L 548.415 94.6314 L 548.415 92.6694 L 546.243 92.6694 L 546.243 94.6314 L 545.667 94.6314 L 545.667 90.3834 \" fill=\"#0000FF\"/>\n",
       "<path class=\"atom-26\" d=\"M 566.813 94.1944 L 568.205 96.4444 Q 568.343 96.6664, 568.565 97.0684 Q 568.787 97.4704, 568.799 97.4944 L 568.799 94.1944 L 569.363 94.1944 L 569.363 98.4424 L 568.781 98.4424 L 567.287 95.9824 Q 567.113 95.6944, 566.927 95.3644 Q 566.747 95.0344, 566.693 94.9324 L 566.693 98.4424 L 566.141 98.4424 L 566.141 94.1944 L 566.813 94.1944 \" fill=\"#0000FF\"/>\n",
       "<path class=\"atom-26\" d=\"M 569.873 94.1944 L 570.449 94.1944 L 570.449 96.0004 L 572.621 96.0004 L 572.621 94.1944 L 573.197 94.1944 L 573.197 98.4424 L 572.621 98.4424 L 572.621 96.4804 L 570.449 96.4804 L 570.449 98.4424 L 569.873 98.4424 L 569.873 94.1944 \" fill=\"#0000FF\"/>\n",
       "<path class=\"atom-26\" d=\"M 573.403 98.2934 Q 573.506 98.028, 573.752 97.8815 Q 573.997 97.731, 574.338 97.731 Q 574.762 97.731, 574.999 97.9607 Q 575.237 98.1904, 575.237 98.5983 Q 575.237 99.0141, 574.928 99.4022 Q 574.623 99.7902, 573.989 100.25 L 575.284 100.25 L 575.284 100.566 L 573.395 100.566 L 573.395 100.301 Q 573.918 99.9288, 574.227 99.6516 Q 574.54 99.3744, 574.69 99.125 Q 574.841 98.8755, 574.841 98.6181 Q 574.841 98.3488, 574.706 98.1983 Q 574.572 98.0478, 574.338 98.0478 Q 574.112 98.0478, 573.962 98.1389 Q 573.811 98.23, 573.704 98.432 L 573.403 98.2934 \" fill=\"#0000FF\"/>\n",
       "<path d=\"M 433.029 182.816 L 439.765 182.816 L 439.765 184.112 L 434.549 184.112 L 434.549 187.552 L 439.189 187.552 L 439.189 188.864 L 434.549 188.864 L 434.549 194.144 L 433.029 194.144 L 433.029 182.816 \" fill=\"#000000\"/>\n",
       "<path d=\"M 442.341 185.92 L 442.517 187.056 Q 443.381 185.776, 444.789 185.776 Q 445.237 185.776, 445.845 185.936 L 445.605 187.28 Q 444.917 187.12, 444.533 187.12 Q 443.861 187.12, 443.413 187.392 Q 442.981 187.648, 442.629 188.272 L 442.629 194.144 L 441.125 194.144 L 441.125 185.92 L 442.341 185.92 \" fill=\"#000000\"/>\n",
       "<path d=\"M 446.581 190.016 Q 446.581 188.016, 447.589 186.896 Q 448.613 185.776, 450.485 185.776 Q 452.357 185.776, 453.365 186.896 Q 454.389 188.016, 454.389 190.016 Q 454.389 192.016, 453.365 193.152 Q 452.357 194.272, 450.485 194.272 Q 448.613 194.272, 447.589 193.152 Q 446.581 192.016, 446.581 190.016 M 448.117 190.016 Q 448.117 191.52, 448.725 192.304 Q 449.349 193.088, 450.485 193.088 Q 451.621 193.088, 452.229 192.304 Q 452.853 191.52, 452.853 190.016 Q 452.853 188.512, 452.229 187.744 Q 451.621 186.96, 450.485 186.96 Q 449.349 186.96, 448.725 187.744 Q 448.117 188.512, 448.117 190.016 \" fill=\"#000000\"/>\n",
       "<path d=\"M 465.205 185.776 Q 466.597 185.776, 467.301 186.528 Q 468.005 187.264, 468.005 188.704 L 468.005 194.144 L 466.501 194.144 L 466.501 188.816 Q 466.501 187.84, 466.117 187.408 Q 465.749 186.96, 464.917 186.96 Q 464.197 186.96, 463.573 187.312 Q 462.965 187.648, 462.597 188.256 Q 462.613 188.4, 462.613 188.704 L 462.613 194.144 L 461.109 194.144 L 461.109 188.816 Q 461.109 187.84, 460.725 187.408 Q 460.357 186.96, 459.525 186.96 Q 458.805 186.96, 458.197 187.312 Q 457.589 187.648, 457.205 188.24 L 457.205 194.144 L 455.701 194.144 L 455.701 185.92 L 456.933 185.92 L 457.093 187.04 Q 458.165 185.776, 459.813 185.776 Q 461.749 185.776, 462.357 187.216 Q 463.445 185.776, 465.205 185.776 \" fill=\"#000000\"/>\n",
       "<path d=\"\" fill=\"#000000\"/>\n",
       "<path d=\"M 476.709 182.816 Q 478.645 182.816, 479.621 183.696 Q 480.597 184.56, 480.597 186.144 Q 480.597 187.712, 479.589 188.608 Q 478.597 189.488, 476.709 189.488 L 474.901 189.488 L 474.901 194.144 L 473.365 194.144 L 473.365 182.816 L 476.709 182.816 M 476.709 188.208 Q 477.813 188.208, 478.405 187.68 Q 478.997 187.152, 478.997 186.144 Q 478.997 185.136, 478.405 184.624 Q 477.829 184.096, 476.709 184.096 L 474.901 184.096 L 474.901 188.208 L 476.709 188.208 \" fill=\"#000000\"/>\n",
       "<path d=\"M 485.621 182.816 Q 488.133 182.816, 489.477 184.304 Q 490.821 185.776, 490.821 188.448 Q 490.821 191.136, 489.461 192.64 Q 488.117 194.144, 485.621 194.144 L 481.957 194.144 L 481.957 182.816 L 485.621 182.816 M 485.621 192.864 Q 487.349 192.864, 488.277 191.76 Q 489.221 190.656, 489.221 188.448 Q 489.221 186.256, 488.277 185.184 Q 487.349 184.096, 485.621 184.096 L 483.493 184.096 L 483.493 192.864 L 485.621 192.864 \" fill=\"#000000\"/>\n",
       "<path d=\"M 497.685 188.192 Q 498.773 188.496, 499.317 189.168 Q 499.877 189.824, 499.877 190.8 Q 499.877 192.368, 498.869 193.264 Q 497.877 194.144, 495.989 194.144 L 492.181 194.144 L 492.181 182.816 L 495.525 182.816 Q 497.461 182.816, 498.437 183.6 Q 499.413 184.384, 499.413 185.824 Q 499.413 187.536, 497.685 188.192 M 493.701 184.096 L 493.701 187.648 L 495.525 187.648 Q 496.645 187.648, 497.221 187.2 Q 497.813 186.736, 497.813 185.824 Q 497.813 184.096, 495.525 184.096 L 493.701 184.096 M 495.989 192.864 Q 497.093 192.864, 497.685 192.336 Q 498.277 191.808, 498.277 190.8 Q 498.277 189.872, 497.621 189.408 Q 496.981 188.928, 495.749 188.928 L 493.701 188.928 L 493.701 192.864 L 495.989 192.864 \" fill=\"#000000\"/>\n",
       "<path d=\"\" fill=\"#000000\"/>\n",
       "<path d=\"M 505.285 182.768 L 506.805 182.768 L 506.805 194.144 L 505.285 194.144 L 505.285 182.768 \" fill=\"#000000\"/>\n",
       "<path d=\"M 511.829 182.816 Q 514.341 182.816, 515.685 184.304 Q 517.029 185.776, 517.029 188.448 Q 517.029 191.136, 515.669 192.64 Q 514.325 194.144, 511.829 194.144 L 508.165 194.144 L 508.165 182.816 L 511.829 182.816 M 511.829 192.864 Q 513.557 192.864, 514.485 191.76 Q 515.429 190.656, 515.429 188.448 Q 515.429 186.256, 514.485 185.184 Q 513.557 184.096, 511.829 184.096 L 509.701 184.096 L 509.701 192.864 L 511.829 192.864 \" fill=\"#000000\"/>\n",
       "<path d=\"M 518.229 192.272 L 519.829 192.272 L 519.829 193.872 L 518.229 193.872 L 518.229 192.272 M 518.229 186.768 L 519.829 186.768 L 519.829 188.368 L 518.229 188.368 L 518.229 186.768 \" fill=\"#000000\"/>\n",
       "<path d=\"\" fill=\"#000000\"/>\n",
       "<path d=\"M 528.677 187.056 Q 529.669 187.056, 530.485 187.488 Q 531.301 187.904, 531.765 188.704 Q 532.229 189.488, 532.229 190.56 Q 532.229 191.728, 531.653 192.576 Q 531.093 193.408, 530.165 193.84 Q 529.237 194.272, 528.181 194.272 Q 527.141 194.272, 526.181 193.888 Q 525.221 193.504, 524.565 192.768 L 525.525 191.776 Q 526.053 192.352, 526.773 192.672 Q 527.493 192.976, 528.229 192.976 Q 529.237 192.976, 529.925 192.352 Q 530.629 191.728, 530.629 190.592 Q 530.629 189.392, 529.925 188.832 Q 529.237 188.256, 528.133 188.256 Q 527.141 188.256, 526.037 188.688 L 525.157 188.272 L 525.701 182.816 L 531.525 182.816 L 531.365 184.096 L 527.013 184.096 L 526.677 187.456 Q 527.685 187.056, 528.677 187.056 \" fill=\"#000000\"/>\n",
       "<path d=\"M 540.773 194.144 L 539.589 190.816 L 535.093 190.816 L 533.957 194.144 L 532.421 194.144 L 536.325 182.816 L 538.213 182.816 L 542.261 194.144 L 540.773 194.144 M 535.541 189.536 L 539.125 189.536 L 537.301 184.4 L 535.541 189.536 \" fill=\"#000000\"/>\n",
       "<path d=\"M 547.381 194.272 Q 545.301 194.272, 544.261 192.736 Q 543.237 191.2, 543.237 188.464 Q 543.237 185.728, 544.261 184.208 Q 545.285 182.688, 547.381 182.688 Q 549.477 182.688, 550.501 184.208 Q 551.525 185.728, 551.525 188.464 Q 551.525 191.2, 550.485 192.736 Q 549.461 194.272, 547.381 194.272 M 547.381 192.992 Q 548.613 192.992, 549.269 191.856 Q 549.925 190.704, 549.925 188.464 Q 549.925 186.24, 549.269 185.104 Q 548.613 183.968, 547.381 183.968 Q 546.165 183.968, 545.493 185.104 Q 544.837 186.24, 544.837 188.464 Q 544.837 190.704, 545.493 191.856 Q 546.165 192.992, 547.381 192.992 \" fill=\"#000000\"/>\n",
       "<path d=\"M 560.069 194.144 L 558.885 190.816 L 554.389 190.816 L 553.253 194.144 L 551.717 194.144 L 555.621 182.816 L 557.509 182.816 L 561.557 194.144 L 560.069 194.144 M 554.837 189.536 L 558.421 189.536 L 556.597 184.4 L 554.837 189.536 \" fill=\"#000000\"/>\n",
       "<path class=\"bond-0\" d=\"M 663.849,65.4638 L 663.608,70.3674\" style=\"fill:none;fill-rule:evenodd;stroke:#0000FF;stroke-width:2.0px;stroke-linecap:butt;stroke-linejoin:miter;stroke-opacity:1\"/>\n",
       "<path class=\"bond-0\" d=\"M 663.608,70.3674 L 663.366,75.271\" style=\"fill:none;fill-rule:evenodd;stroke:#000000;stroke-width:2.0px;stroke-linecap:butt;stroke-linejoin:miter;stroke-opacity:1\"/>\n",
       "<path class=\"bond-1\" d=\"M 663.366,75.271 L 673.663,81.9116\" style=\"fill:none;fill-rule:evenodd;stroke:#000000;stroke-width:2.0px;stroke-linecap:butt;stroke-linejoin:miter;stroke-opacity:1\"/>\n",
       "<path class=\"bond-2\" d=\"M 663.366,75.271 L 652.467,80.8679\" style=\"fill:none;fill-rule:evenodd;stroke:#000000;stroke-width:2.0px;stroke-linecap:butt;stroke-linejoin:miter;stroke-opacity:1\"/>\n",
       "<path class=\"bond-3\" d=\"M 673.663,81.9116 L 677.985,79.6925\" style=\"fill:none;fill-rule:evenodd;stroke:#000000;stroke-width:2.0px;stroke-linecap:butt;stroke-linejoin:miter;stroke-opacity:1\"/>\n",
       "<path class=\"bond-3\" d=\"M 677.985,79.6925 L 682.306,77.4733\" style=\"fill:none;fill-rule:evenodd;stroke:#FF0000;stroke-width:2.0px;stroke-linecap:butt;stroke-linejoin:miter;stroke-opacity:1\"/>\n",
       "<path class=\"bond-4\" d=\"M 686.819,77.7698 L 690.839,80.3626\" style=\"fill:none;fill-rule:evenodd;stroke:#FF0000;stroke-width:2.0px;stroke-linecap:butt;stroke-linejoin:miter;stroke-opacity:1\"/>\n",
       "<path class=\"bond-4\" d=\"M 690.839,80.3626 L 694.859,82.9553\" style=\"fill:none;fill-rule:evenodd;stroke:#000000;stroke-width:2.0px;stroke-linecap:butt;stroke-linejoin:miter;stroke-opacity:1\"/>\n",
       "<path class=\"bond-5\" d=\"M 652.467,80.8679 L 648.447,78.2752\" style=\"fill:none;fill-rule:evenodd;stroke:#000000;stroke-width:2.0px;stroke-linecap:butt;stroke-linejoin:miter;stroke-opacity:1\"/>\n",
       "<path class=\"bond-5\" d=\"M 648.447,78.2752 L 644.427,75.6825\" style=\"fill:none;fill-rule:evenodd;stroke:#FF0000;stroke-width:2.0px;stroke-linecap:butt;stroke-linejoin:miter;stroke-opacity:1\"/>\n",
       "<path class=\"bond-6\" d=\"M 717.863,47.2864 L 717.26,59.5239\" style=\"fill:none;fill-rule:evenodd;stroke:#000000;stroke-width:2.0px;stroke-linecap:butt;stroke-linejoin:miter;stroke-opacity:1\"/>\n",
       "<path class=\"bond-7\" d=\"M 717.26,59.5239 L 706.361,65.1208\" style=\"fill:none;fill-rule:evenodd;stroke:#000000;stroke-width:2.0px;stroke-linecap:butt;stroke-linejoin:miter;stroke-opacity:1\"/>\n",
       "<path class=\"bond-8\" d=\"M 706.361,65.1208 L 705.758,77.3584\" style=\"fill:none;fill-rule:evenodd;stroke:#000000;stroke-width:2.0px;stroke-linecap:butt;stroke-linejoin:miter;stroke-opacity:1\"/>\n",
       "<path class=\"bond-9\" d=\"M 705.758,77.3584 L 694.859,82.9553\" style=\"fill:none;fill-rule:evenodd;stroke:#000000;stroke-width:2.0px;stroke-linecap:butt;stroke-linejoin:miter;stroke-opacity:1\"/>\n",
       "<path class=\"bond-10\" d=\"M 705.758,77.3584 L 709.948,80.0604\" style=\"fill:none;fill-rule:evenodd;stroke:#000000;stroke-width:2.0px;stroke-linecap:butt;stroke-linejoin:miter;stroke-opacity:1\"/>\n",
       "<path class=\"bond-10\" d=\"M 709.948,80.0604 L 714.138,82.7625\" style=\"fill:none;fill-rule:evenodd;stroke:#0000FF;stroke-width:2.0px;stroke-linecap:butt;stroke-linejoin:miter;stroke-opacity:1\"/>\n",
       "<path class=\"bond-11\" d=\"M 694.859,82.9553 L 694.618,87.8469\" style=\"fill:none;fill-rule:evenodd;stroke:#000000;stroke-width:2.0px;stroke-linecap:butt;stroke-linejoin:miter;stroke-opacity:1\"/>\n",
       "<path class=\"bond-11\" d=\"M 694.618,87.8469 L 694.377,92.7385\" style=\"fill:none;fill-rule:evenodd;stroke:#FF0000;stroke-width:2.0px;stroke-linecap:butt;stroke-linejoin:miter;stroke-opacity:1\"/>\n",
       "<path class=\"bond-12\" d=\"M 715.452,96.2365 L 715.694,91.3329\" style=\"fill:none;fill-rule:evenodd;stroke:#000000;stroke-width:2.0px;stroke-linecap:butt;stroke-linejoin:miter;stroke-opacity:1\"/>\n",
       "<path class=\"bond-12\" d=\"M 715.694,91.3329 L 715.935,86.4293\" style=\"fill:none;fill-rule:evenodd;stroke:#0000FF;stroke-width:2.0px;stroke-linecap:butt;stroke-linejoin:miter;stroke-opacity:1\"/>\n",
       "<path class=\"bond-13\" d=\"M 748.15,79.4457 L 743.961,76.7437\" style=\"fill:none;fill-rule:evenodd;stroke:#000000;stroke-width:2.0px;stroke-linecap:butt;stroke-linejoin:miter;stroke-opacity:1\"/>\n",
       "<path class=\"bond-13\" d=\"M 743.961,76.7437 L 739.771,74.0416\" style=\"fill:none;fill-rule:evenodd;stroke:#0000FF;stroke-width:2.0px;stroke-linecap:butt;stroke-linejoin:miter;stroke-opacity:1\"/>\n",
       "<path class=\"bond-14\" d=\"M 717.972,83.0144 L 721.656,81.1227\" style=\"fill:none;fill-rule:evenodd;stroke:#0000FF;stroke-width:2.0px;stroke-linecap:butt;stroke-linejoin:miter;stroke-opacity:1\"/>\n",
       "<path class=\"bond-14\" d=\"M 721.656,81.1227 L 725.34,79.2311\" style=\"fill:none;fill-rule:evenodd;stroke:#CCCC00;stroke-width:2.0px;stroke-linecap:butt;stroke-linejoin:miter;stroke-opacity:1\"/>\n",
       "<path class=\"bond-15\" d=\"M 735.936,73.7897 L 732.253,75.6814\" style=\"fill:none;fill-rule:evenodd;stroke:#0000FF;stroke-width:2.0px;stroke-linecap:butt;stroke-linejoin:miter;stroke-opacity:1\"/>\n",
       "<path class=\"bond-15\" d=\"M 732.253,75.6814 L 728.569,77.573\" style=\"fill:none;fill-rule:evenodd;stroke:#CCCC00;stroke-width:2.0px;stroke-linecap:butt;stroke-linejoin:miter;stroke-opacity:1\"/>\n",
       "<path class=\"bond-16\" d=\"M 722.652,70.0231 L 724.199,73.0358\" style=\"fill:none;fill-rule:evenodd;stroke:#FF0000;stroke-width:2.0px;stroke-linecap:butt;stroke-linejoin:miter;stroke-opacity:1\"/>\n",
       "<path class=\"bond-16\" d=\"M 724.199,73.0358 L 725.746,76.0486\" style=\"fill:none;fill-rule:evenodd;stroke:#CCCC00;stroke-width:2.0px;stroke-linecap:butt;stroke-linejoin:miter;stroke-opacity:1\"/>\n",
       "<path class=\"bond-17\" d=\"M 731.291,86.847 L 729.757,83.8592\" style=\"fill:none;fill-rule:evenodd;stroke:#FF0000;stroke-width:2.0px;stroke-linecap:butt;stroke-linejoin:miter;stroke-opacity:1\"/>\n",
       "<path class=\"bond-17\" d=\"M 729.757,83.8592 L 728.222,80.8714\" style=\"fill:none;fill-rule:evenodd;stroke:#CCCC00;stroke-width:2.0px;stroke-linecap:butt;stroke-linejoin:miter;stroke-opacity:1\"/>\n",
       "<path class=\"atom-0\" d=\"M 663.03 60.9095 L 664.422 63.1595 Q 664.56 63.3815, 664.782 63.7835 Q 665.004 64.1855, 665.016 64.2095 L 665.016 60.9095 L 665.58 60.9095 L 665.58 65.1575 L 664.998 65.1575 L 663.504 62.6975 Q 663.33 62.4095, 663.144 62.0795 Q 662.964 61.7495, 662.91 61.6475 L 662.91 65.1575 L 662.358 65.1575 L 662.358 60.9095 L 663.03 60.9095 \" fill=\"#0000FF\"/>\n",
       "<path class=\"atom-0\" d=\"M 666.09 60.9095 L 666.666 60.9095 L 666.666 62.7155 L 668.838 62.7155 L 668.838 60.9095 L 669.414 60.9095 L 669.414 65.1575 L 668.838 65.1575 L 668.838 63.1955 L 666.666 63.1955 L 666.666 65.1575 L 666.09 65.1575 L 666.09 60.9095 \" fill=\"#0000FF\"/>\n",
       "<path class=\"atom-0\" d=\"M 669.62 65.0084 Q 669.723 64.7431, 669.968 64.5966 Q 670.214 64.4461, 670.554 64.4461 Q 670.978 64.4461, 671.216 64.6758 Q 671.453 64.9055, 671.453 65.3134 Q 671.453 65.7292, 671.144 66.1172 Q 670.839 66.5053, 670.206 66.9647 L 671.501 66.9647 L 671.501 67.2815 L 669.612 67.2815 L 669.612 67.0162 Q 670.135 66.6439, 670.443 66.3667 Q 670.756 66.0895, 670.907 65.84 Q 671.057 65.5906, 671.057 65.3332 Q 671.057 65.0639, 670.923 64.9134 Q 670.788 64.7629, 670.554 64.7629 Q 670.329 64.7629, 670.178 64.854 Q 670.028 64.9451, 669.921 65.147 L 669.62 65.0084 \" fill=\"#0000FF\"/>\n",
       "<path class=\"atom-3\" d=\"M 682.612 76.3267 Q 682.612 75.3067, 683.116 74.7367 Q 683.62 74.1667, 684.562 74.1667 Q 685.504 74.1667, 686.008 74.7367 Q 686.512 75.3067, 686.512 76.3267 Q 686.512 77.3587, 686.002 77.9467 Q 685.492 78.5287, 684.562 78.5287 Q 683.626 78.5287, 683.116 77.9467 Q 682.612 77.3647, 682.612 76.3267 M 684.562 78.0487 Q 685.21 78.0487, 685.558 77.6167 Q 685.912 77.1787, 685.912 76.3267 Q 685.912 75.4927, 685.558 75.0727 Q 685.21 74.6467, 684.562 74.6467 Q 683.914 74.6467, 683.56 75.0667 Q 683.212 75.4867, 683.212 76.3267 Q 683.212 77.1847, 683.56 77.6167 Q 683.914 78.0487, 684.562 78.0487 \" fill=\"#FF0000\"/>\n",
       "<path class=\"atom-5\" d=\"M 636.596 72.1273 L 637.172 72.1273 L 637.172 73.9333 L 639.344 73.9333 L 639.344 72.1273 L 639.92 72.1273 L 639.92 76.3753 L 639.344 76.3753 L 639.344 74.4133 L 637.172 74.4133 L 637.172 76.3753 L 636.596 76.3753 L 636.596 72.1273 \" fill=\"#FF0000\"/>\n",
       "<path class=\"atom-5\" d=\"M 640.22 74.2393 Q 640.22 73.2193, 640.724 72.6493 Q 641.228 72.0793, 642.17 72.0793 Q 643.112 72.0793, 643.616 72.6493 Q 644.12 73.2193, 644.12 74.2393 Q 644.12 75.2713, 643.61 75.8593 Q 643.1 76.4413, 642.17 76.4413 Q 641.234 76.4413, 640.724 75.8593 Q 640.22 75.2773, 640.22 74.2393 M 642.17 75.9613 Q 642.818 75.9613, 643.166 75.5293 Q 643.52 75.0913, 643.52 74.2393 Q 643.52 73.4053, 643.166 72.9853 Q 642.818 72.5593, 642.17 72.5593 Q 641.522 72.5593, 641.168 72.9793 Q 640.82 73.3993, 640.82 74.2393 Q 640.82 75.0973, 641.168 75.5293 Q 641.522 75.9613, 642.17 75.9613 \" fill=\"#FF0000\"/>\n",
       "<path class=\"atom-13\" d=\"M 715.116 81.875 L 716.508 84.125 Q 716.646 84.347, 716.868 84.749 Q 717.09 85.151, 717.102 85.175 L 717.102 81.875 L 717.666 81.875 L 717.666 86.123 L 717.084 86.123 L 715.59 83.663 Q 715.416 83.375, 715.23 83.045 Q 715.05 82.715, 714.996 82.613 L 714.996 86.123 L 714.444 86.123 L 714.444 81.875 L 715.116 81.875 \" fill=\"#0000FF\"/>\n",
       "<path class=\"atom-14\" d=\"M 736.915 70.6811 L 738.307 72.9311 Q 738.445 73.1531, 738.667 73.5551 Q 738.889 73.9571, 738.901 73.9811 L 738.901 70.6811 L 739.465 70.6811 L 739.465 74.9291 L 738.883 74.9291 L 737.389 72.4691 Q 737.215 72.1811, 737.029 71.8511 Q 736.849 71.5211, 736.795 71.4191 L 736.795 74.9291 L 736.243 74.9291 L 736.243 70.6811 L 736.915 70.6811 \" fill=\"#0000FF\"/>\n",
       "<path class=\"atom-14\" d=\"M 736.192 66.0083 L 736.768 66.0083 L 736.768 67.8143 L 738.94 67.8143 L 738.94 66.0083 L 739.516 66.0083 L 739.516 70.2563 L 738.94 70.2563 L 738.94 68.2943 L 736.768 68.2943 L 736.768 70.2563 L 736.192 70.2563 L 736.192 66.0083 \" fill=\"#0000FF\"/>\n",
       "<path class=\"atom-15\" d=\"M 692.306 95.2048 Q 692.306 94.1848, 692.81 93.6148 Q 693.314 93.0448, 694.256 93.0448 Q 695.198 93.0448, 695.702 93.6148 Q 696.206 94.1848, 696.206 95.2048 Q 696.206 96.2368, 695.696 96.8248 Q 695.186 97.4068, 694.256 97.4068 Q 693.32 97.4068, 692.81 96.8248 Q 692.306 96.2428, 692.306 95.2048 M 694.256 96.9268 Q 694.904 96.9268, 695.252 96.4948 Q 695.606 96.0568, 695.606 95.2048 Q 695.606 94.3708, 695.252 93.9508 Q 694.904 93.5248, 694.256 93.5248 Q 693.608 93.5248, 693.254 93.9448 Q 692.906 94.3648, 692.906 95.2048 Q 692.906 96.0628, 693.254 96.4948 Q 693.608 96.9268, 694.256 96.9268 \" fill=\"#FF0000\"/>\n",
       "<path class=\"atom-15\" d=\"M 696.716 93.0928 L 697.292 93.0928 L 697.292 94.8988 L 699.464 94.8988 L 699.464 93.0928 L 700.04 93.0928 L 700.04 97.3408 L 699.464 97.3408 L 699.464 95.3788 L 697.292 95.3788 L 697.292 97.3408 L 696.716 97.3408 L 696.716 93.0928 \" fill=\"#FF0000\"/>\n",
       "<path class=\"atom-16\" d=\"M 715.783 65.4028 L 716.359 65.4028 L 716.359 67.2088 L 718.531 67.2088 L 718.531 65.4028 L 719.107 65.4028 L 719.107 69.6508 L 718.531 69.6508 L 718.531 67.6888 L 716.359 67.6888 L 716.359 69.6508 L 715.783 69.6508 L 715.783 65.4028 \" fill=\"#FF0000\"/>\n",
       "<path class=\"atom-16\" d=\"M 719.407 67.5148 Q 719.407 66.4948, 719.911 65.9248 Q 720.415 65.3548, 721.357 65.3548 Q 722.299 65.3548, 722.803 65.9248 Q 723.307 66.4948, 723.307 67.5148 Q 723.307 68.5468, 722.797 69.1348 Q 722.287 69.7168, 721.357 69.7168 Q 720.421 69.7168, 719.911 69.1348 Q 719.407 68.5528, 719.407 67.5148 M 721.357 69.2368 Q 722.005 69.2368, 722.353 68.8048 Q 722.707 68.3668, 722.707 67.5148 Q 722.707 66.6808, 722.353 66.2608 Q 722.005 65.8348, 721.357 65.8348 Q 720.709 65.8348, 720.355 66.2548 Q 720.007 66.6748, 720.007 67.5148 Q 720.007 68.3728, 720.355 68.8048 Q 720.709 69.2368, 721.357 69.2368 \" fill=\"#FF0000\"/>\n",
       "<path class=\"atom-17\" d=\"M 730.601 89.3133 Q 730.601 88.2933, 731.105 87.7233 Q 731.609 87.1533, 732.551 87.1533 Q 733.493 87.1533, 733.997 87.7233 Q 734.501 88.2933, 734.501 89.3133 Q 734.501 90.3453, 733.991 90.9333 Q 733.481 91.5153, 732.551 91.5153 Q 731.615 91.5153, 731.105 90.9333 Q 730.601 90.3513, 730.601 89.3133 M 732.551 91.0353 Q 733.199 91.0353, 733.547 90.6033 Q 733.901 90.1653, 733.901 89.3133 Q 733.901 88.4793, 733.547 88.0593 Q 733.199 87.6333, 732.551 87.6333 Q 731.903 87.6333, 731.549 88.0533 Q 731.201 88.4733, 731.201 89.3133 Q 731.201 90.1713, 731.549 90.6033 Q 731.903 91.0353, 732.551 91.0353 \" fill=\"#FF0000\"/>\n",
       "<path class=\"atom-17\" d=\"M 735.011 87.2013 L 735.587 87.2013 L 735.587 89.0073 L 737.759 89.0073 L 737.759 87.2013 L 738.335 87.2013 L 738.335 91.4493 L 737.759 91.4493 L 737.759 89.4873 L 735.587 89.4873 L 735.587 91.4493 L 735.011 91.4493 L 735.011 87.2013 \" fill=\"#FF0000\"/>\n",
       "<path class=\"atom-18\" d=\"M 725.754 79.8601 Q 725.802 79.8781, 726 79.9621 Q 726.198 80.0461, 726.414 80.1001 Q 726.636 80.1481, 726.852 80.1481 Q 727.254 80.1481, 727.488 79.9561 Q 727.722 79.7581, 727.722 79.4161 Q 727.722 79.1821, 727.602 79.0381 Q 727.488 78.8941, 727.308 78.8161 Q 727.128 78.7381, 726.828 78.6481 Q 726.45 78.5341, 726.222 78.4261 Q 726 78.3181, 725.838 78.0901 Q 725.682 77.8621, 725.682 77.4781 Q 725.682 76.9441, 726.042 76.6141 Q 726.408 76.2841, 727.128 76.2841 Q 727.62 76.2841, 728.178 76.5181 L 728.04 76.9801 Q 727.53 76.7701, 727.146 76.7701 Q 726.732 76.7701, 726.504 76.9441 Q 726.276 77.1121, 726.282 77.4061 Q 726.282 77.6341, 726.396 77.7721 Q 726.516 77.9101, 726.684 77.9881 Q 726.858 78.0661, 727.146 78.1561 Q 727.53 78.2761, 727.758 78.3961 Q 727.986 78.5161, 728.148 78.7621 Q 728.316 79.0021, 728.316 79.4161 Q 728.316 80.0041, 727.92 80.3221 Q 727.53 80.6341, 726.876 80.6341 Q 726.498 80.6341, 726.21 80.5501 Q 725.928 80.4721, 725.592 80.3341 L 725.754 79.8601 \" fill=\"#CCCC00\"/>\n",
       "<path d=\"M 633.701 182.784 L 640.437 182.784 L 640.437 184.08 L 635.221 184.08 L 635.221 187.52 L 639.861 187.52 L 639.861 188.832 L 635.221 188.832 L 635.221 194.112 L 633.701 194.112 L 633.701 182.784 \" fill=\"#000000\"/>\n",
       "<path d=\"M 643.013 185.888 L 643.189 187.024 Q 644.053 185.744, 645.461 185.744 Q 645.909 185.744, 646.517 185.904 L 646.277 187.248 Q 645.589 187.088, 645.205 187.088 Q 644.533 187.088, 644.085 187.36 Q 643.653 187.616, 643.301 188.24 L 643.301 194.112 L 641.797 194.112 L 641.797 185.888 L 643.013 185.888 \" fill=\"#000000\"/>\n",
       "<path d=\"M 647.253 189.984 Q 647.253 187.984, 648.261 186.864 Q 649.285 185.744, 651.157 185.744 Q 653.029 185.744, 654.037 186.864 Q 655.061 187.984, 655.061 189.984 Q 655.061 191.984, 654.037 193.12 Q 653.029 194.24, 651.157 194.24 Q 649.285 194.24, 648.261 193.12 Q 647.253 191.984, 647.253 189.984 M 648.789 189.984 Q 648.789 191.488, 649.397 192.272 Q 650.021 193.056, 651.157 193.056 Q 652.293 193.056, 652.901 192.272 Q 653.525 191.488, 653.525 189.984 Q 653.525 188.48, 652.901 187.712 Q 652.293 186.928, 651.157 186.928 Q 650.021 186.928, 649.397 187.712 Q 648.789 188.48, 648.789 189.984 \" fill=\"#000000\"/>\n",
       "<path d=\"M 665.877 185.744 Q 667.269 185.744, 667.973 186.496 Q 668.677 187.232, 668.677 188.672 L 668.677 194.112 L 667.173 194.112 L 667.173 188.784 Q 667.173 187.808, 666.789 187.376 Q 666.421 186.928, 665.589 186.928 Q 664.869 186.928, 664.245 187.28 Q 663.637 187.616, 663.269 188.224 Q 663.285 188.368, 663.285 188.672 L 663.285 194.112 L 661.781 194.112 L 661.781 188.784 Q 661.781 187.808, 661.397 187.376 Q 661.029 186.928, 660.197 186.928 Q 659.477 186.928, 658.869 187.28 Q 658.261 187.616, 657.877 188.208 L 657.877 194.112 L 656.373 194.112 L 656.373 185.888 L 657.605 185.888 L 657.765 187.008 Q 658.837 185.744, 660.485 185.744 Q 662.421 185.744, 663.029 187.184 Q 664.117 185.744, 665.877 185.744 \" fill=\"#000000\"/>\n",
       "<path d=\"\" fill=\"#000000\"/>\n",
       "<path d=\"M 677.381 182.784 Q 679.317 182.784, 680.293 183.664 Q 681.269 184.528, 681.269 186.112 Q 681.269 187.68, 680.261 188.576 Q 679.269 189.456, 677.381 189.456 L 675.573 189.456 L 675.573 194.112 L 674.037 194.112 L 674.037 182.784 L 677.381 182.784 M 677.381 188.176 Q 678.485 188.176, 679.077 187.648 Q 679.669 187.12, 679.669 186.112 Q 679.669 185.104, 679.077 184.592 Q 678.501 184.064, 677.381 184.064 L 675.573 184.064 L 675.573 188.176 L 677.381 188.176 \" fill=\"#000000\"/>\n",
       "<path d=\"M 686.293 182.784 Q 688.805 182.784, 690.149 184.272 Q 691.493 185.744, 691.493 188.416 Q 691.493 191.104, 690.133 192.608 Q 688.789 194.112, 686.293 194.112 L 682.629 194.112 L 682.629 182.784 L 686.293 182.784 M 686.293 192.832 Q 688.021 192.832, 688.949 191.728 Q 689.893 190.624, 689.893 188.416 Q 689.893 186.224, 688.949 185.152 Q 688.021 184.064, 686.293 184.064 L 684.165 184.064 L 684.165 192.832 L 686.293 192.832 \" fill=\"#000000\"/>\n",
       "<path d=\"M 698.357 188.16 Q 699.445 188.464, 699.989 189.136 Q 700.549 189.792, 700.549 190.768 Q 700.549 192.336, 699.541 193.232 Q 698.549 194.112, 696.661 194.112 L 692.853 194.112 L 692.853 182.784 L 696.197 182.784 Q 698.133 182.784, 699.109 183.568 Q 700.085 184.352, 700.085 185.792 Q 700.085 187.504, 698.357 188.16 M 694.373 184.064 L 694.373 187.616 L 696.197 187.616 Q 697.317 187.616, 697.893 187.168 Q 698.485 186.704, 698.485 185.792 Q 698.485 184.064, 696.197 184.064 L 694.373 184.064 M 696.661 192.832 Q 697.765 192.832, 698.357 192.304 Q 698.949 191.776, 698.949 190.768 Q 698.949 189.84, 698.293 189.376 Q 697.653 188.896, 696.421 188.896 L 694.373 188.896 L 694.373 192.832 L 696.661 192.832 \" fill=\"#000000\"/>\n",
       "<path d=\"\" fill=\"#000000\"/>\n",
       "<path d=\"M 705.957 182.736 L 707.477 182.736 L 707.477 194.112 L 705.957 194.112 L 705.957 182.736 \" fill=\"#000000\"/>\n",
       "<path d=\"M 712.501 182.784 Q 715.013 182.784, 716.357 184.272 Q 717.701 185.744, 717.701 188.416 Q 717.701 191.104, 716.341 192.608 Q 714.997 194.112, 712.501 194.112 L 708.837 194.112 L 708.837 182.784 L 712.501 182.784 M 712.501 192.832 Q 714.229 192.832, 715.157 191.728 Q 716.101 190.624, 716.101 188.416 Q 716.101 186.224, 715.157 185.152 Q 714.229 184.064, 712.501 184.064 L 710.373 184.064 L 710.373 192.832 L 712.501 192.832 \" fill=\"#000000\"/>\n",
       "<path d=\"M 718.901 192.24 L 720.501 192.24 L 720.501 193.84 L 718.901 193.84 L 718.901 192.24 M 718.901 186.736 L 720.501 186.736 L 720.501 188.336 L 718.901 188.336 L 718.901 186.736 \" fill=\"#000000\"/>\n",
       "<path d=\"\" fill=\"#000000\"/>\n",
       "<path d=\"M 725.333 184.928 Q 725.749 183.856, 726.741 183.264 Q 727.733 182.656, 729.109 182.656 Q 730.821 182.656, 731.781 183.584 Q 732.741 184.512, 732.741 186.16 Q 732.741 187.84, 731.493 189.408 Q 730.261 190.976, 727.701 192.832 L 732.933 192.832 L 732.933 194.112 L 725.301 194.112 L 725.301 193.04 Q 727.413 191.536, 728.661 190.416 Q 729.925 189.296, 730.533 188.288 Q 731.141 187.28, 731.141 186.24 Q 731.141 185.152, 730.597 184.544 Q 730.053 183.936, 729.109 183.936 Q 728.197 183.936, 727.589 184.304 Q 726.981 184.672, 726.549 185.488 L 725.333 184.928 \" fill=\"#000000\"/>\n",
       "<path d=\"M 740.405 194.112 L 737.669 189.456 L 737.637 189.456 L 735.829 189.456 L 735.829 194.112 L 734.293 194.112 L 734.293 182.784 L 737.637 182.784 Q 739.573 182.784, 740.549 183.664 Q 741.525 184.528, 741.525 186.112 Q 741.525 187.312, 740.933 188.128 Q 740.357 188.928, 739.221 189.248 L 742.085 194.112 L 740.405 194.112 M 735.829 188.176 L 737.637 188.176 Q 738.741 188.176, 739.333 187.648 Q 739.925 187.12, 739.925 186.112 Q 739.925 185.104, 739.333 184.592 Q 738.757 184.064, 737.637 184.064 L 735.829 184.064 L 735.829 188.176 \" fill=\"#000000\"/>\n",
       "<path d=\"M 751.989 188.56 L 751.989 193.344 Q 750.373 194.256, 747.989 194.256 Q 745.525 194.256, 744.197 192.752 Q 742.885 191.248, 742.885 188.432 Q 742.885 185.616, 744.197 184.144 Q 745.525 182.656, 748.037 182.656 Q 749.349 182.656, 750.309 183.072 Q 751.269 183.472, 751.941 184.304 L 750.901 185.168 Q 749.845 183.936, 748.037 183.936 Q 746.325 183.936, 745.413 185.088 Q 744.517 186.24, 744.517 188.432 Q 744.517 190.672, 745.445 191.824 Q 746.389 192.976, 748.213 192.976 Q 749.397 192.976, 750.453 192.592 L 750.453 188.56 L 751.989 188.56 \" fill=\"#000000\"/>\n",
       "<path d=\"M 758.101 188.144 Q 759.205 188.464, 759.733 189.184 Q 760.277 189.888, 760.277 191.008 Q 760.277 191.968, 759.797 192.72 Q 759.317 193.456, 758.437 193.872 Q 757.557 194.272, 756.405 194.272 Q 755.189 194.272, 754.277 193.856 Q 753.381 193.424, 752.661 192.56 L 753.573 191.632 Q 754.277 192.4, 754.869 192.704 Q 755.461 192.992, 756.405 192.992 Q 757.429 192.992, 758.053 192.448 Q 758.677 191.888, 758.677 190.992 Q 758.677 189.84, 758.021 189.328 Q 757.381 188.8, 755.989 188.8 L 755.173 188.8 L 755.173 187.648 L 755.893 187.648 Q 757.125 187.632, 757.781 187.104 Q 758.437 186.56, 758.437 185.552 Q 758.437 184.816, 757.893 184.384 Q 757.349 183.936, 756.421 183.936 Q 755.477 183.936, 754.885 184.272 Q 754.309 184.608, 753.861 185.456 L 752.757 184.864 Q 753.157 183.92, 754.117 183.296 Q 755.077 182.656, 756.421 182.656 Q 758.085 182.656, 759.061 183.44 Q 760.037 184.224, 760.037 185.552 Q 760.037 186.464, 759.541 187.12 Q 759.045 187.776, 758.101 188.144 \" fill=\"#000000\"/>\n",
       "</svg>"
      ],
      "text/plain": [
       "<IPython.core.display.SVG object>"
      ]
     },
     "execution_count": 68,
     "metadata": {},
     "output_type": "execute_result"
    }
   ],
   "source": [
    "mols_2D = [] \n",
    "for mol in mols:\n",
    "    tmp=Chem.Mol(mol)\n",
    "    AllChem.Compute2DCoords(tmp)\n",
    "    mols_2D.append(tmp)\n",
    "Draw.MolsToGridImage(mols_2D, molsPerRow=4, legends=[\"From PDB ID: \"+i for i in pdb_ids])"
   ]
  },
  {
   "cell_type": "markdown",
   "metadata": {},
   "source": [
    "#### Visualize with nglview"
   ]
  },
  {
   "cell_type": "code",
   "execution_count": 69,
   "metadata": {},
   "outputs": [],
   "source": [
    "import nglview as nv"
   ]
  },
  {
   "cell_type": "code",
   "execution_count": 70,
   "metadata": {},
   "outputs": [],
   "source": [
    "import time\n",
    "def show_ligands(rdkit_mols):\n",
    "    v = nv.NGLWidget()\n",
    "    for mol in rdkit_mols:\n",
    "        c = v.add_component(Chem.MolToPDBBlock(mol), ext=\"pdb\")\n",
    "        time.sleep(0.1)\n",
    "        c.clear()\n",
    "        c.add_ball_and_stick(multipleBond=True)\n",
    "    return v"
   ]
  },
  {
   "cell_type": "code",
   "execution_count": 71,
   "metadata": {},
   "outputs": [],
   "source": [
    "v = show_ligands(mols)"
   ]
  },
  {
   "cell_type": "code",
   "execution_count": 72,
   "metadata": {},
   "outputs": [
    {
     "data": {
      "text/plain": [
       "(Image(value=b'', width='99%'),)"
      ]
     },
     "execution_count": 72,
     "metadata": {},
     "output_type": "execute_result"
    }
   ],
   "source": [
    "v.render_image(),"
   ]
  },
  {
   "cell_type": "code",
   "execution_count": 73,
   "metadata": {},
   "outputs": [
    {
     "data": {
      "image/png": "\n",
      "text/plain": [
       "<IPython.core.display.Image object>"
      ]
     },
     "execution_count": 73,
     "metadata": {},
     "output_type": "execute_result"
    }
   ],
   "source": [
    "v._display_image()"
   ]
  },
  {
   "cell_type": "markdown",
   "metadata": {},
   "source": [
    "#### Extract pharmacophore features"
   ]
  },
  {
   "cell_type": "code",
   "execution_count": 74,
   "metadata": {},
   "outputs": [],
   "source": [
    "ffact = AllChem.BuildFeatureFactory(os.path.join(RDConfig.RDDataDir,'BaseFeatures.fdef'))"
   ]
  },
  {
   "cell_type": "code",
   "execution_count": 75,
   "metadata": {},
   "outputs": [
    {
     "data": {
      "text/plain": [
       "['Donor.SingleAtomDonor',\n",
       " 'Acceptor.SingleAtomAcceptor',\n",
       " 'NegIonizable.AcidicGroup',\n",
       " 'PosIonizable.BasicGroup',\n",
       " 'PosIonizable.PosN',\n",
       " 'PosIonizable.Imidazole',\n",
       " 'PosIonizable.Guanidine',\n",
       " 'ZnBinder.ZnBinder1',\n",
       " 'ZnBinder.ZnBinder2',\n",
       " 'ZnBinder.ZnBinder3',\n",
       " 'ZnBinder.ZnBinder4',\n",
       " 'ZnBinder.ZnBinder5',\n",
       " 'ZnBinder.ZnBinder6',\n",
       " 'Aromatic.Arom4',\n",
       " 'Aromatic.Arom5',\n",
       " 'Aromatic.Arom6',\n",
       " 'Aromatic.Arom7',\n",
       " 'Aromatic.Arom8',\n",
       " 'Hydrophobe.ThreeWayAttach',\n",
       " 'Hydrophobe.ChainTwoWayAttach',\n",
       " 'LumpedHydrophobe.Nitro2',\n",
       " 'LumpedHydrophobe.RH6_6',\n",
       " 'LumpedHydrophobe.RH5_5',\n",
       " 'LumpedHydrophobe.RH4_4',\n",
       " 'LumpedHydrophobe.RH3_3',\n",
       " 'LumpedHydrophobe.tButyl',\n",
       " 'LumpedHydrophobe.iPropyl']"
      ]
     },
     "execution_count": 75,
     "metadata": {},
     "output_type": "execute_result"
    }
   ],
   "source": [
    "list(ffact.GetFeatureDefs().keys())"
   ]
  },
  {
   "cell_type": "code",
   "execution_count": 76,
   "metadata": {},
   "outputs": [
    {
     "name": "stdout",
     "output_type": "stream",
     "text": [
      "Number of features found: 21\n"
     ]
    }
   ],
   "source": [
    "# example\n",
    "m1 = mols[0]\n",
    "feats = ffact.GetFeaturesForMol(m1)\n",
    "print('Number of features found:',len(feats))"
   ]
  },
  {
   "cell_type": "code",
   "execution_count": 77,
   "metadata": {},
   "outputs": [
    {
     "data": {
      "text/plain": [
       "'Donor'"
      ]
     },
     "execution_count": 77,
     "metadata": {},
     "output_type": "execute_result"
    }
   ],
   "source": [
    "feats[0].GetFamily() # type of a feature"
   ]
  },
  {
   "cell_type": "code",
   "execution_count": 78,
   "metadata": {},
   "outputs": [
    {
     "data": {
      "text/plain": [
       "Counter({'Donor': 7,\n",
       "         'Acceptor': 5,\n",
       "         'PosIonizable': 2,\n",
       "         'Hydrophobe': 6,\n",
       "         'LumpedHydrophobe': 1})"
      ]
     },
     "execution_count": 78,
     "metadata": {},
     "output_type": "execute_result"
    }
   ],
   "source": [
    "# frequency of feature types in the molecule\n",
    "feats_freq = collections.Counter([x.GetFamily() for x in feats])\n",
    "feats_freq"
   ]
  },
  {
   "cell_type": "code",
   "execution_count": 79,
   "metadata": {},
   "outputs": [
    {
     "data": {
      "text/html": [
       "<div>\n",
       "<style scoped>\n",
       "    .dataframe tbody tr th:only-of-type {\n",
       "        vertical-align: middle;\n",
       "    }\n",
       "\n",
       "    .dataframe tbody tr th {\n",
       "        vertical-align: top;\n",
       "    }\n",
       "\n",
       "    .dataframe thead th {\n",
       "        text-align: right;\n",
       "    }\n",
       "</style>\n",
       "<table border=\"1\" class=\"dataframe\">\n",
       "  <thead>\n",
       "    <tr style=\"text-align: right;\">\n",
       "      <th></th>\n",
       "      <th>m1</th>\n",
       "      <th>m2</th>\n",
       "      <th>m3</th>\n",
       "      <th>m4</th>\n",
       "    </tr>\n",
       "  </thead>\n",
       "  <tbody>\n",
       "    <tr>\n",
       "      <th>Donor</th>\n",
       "      <td>7</td>\n",
       "      <td>2</td>\n",
       "      <td>6</td>\n",
       "      <td>6</td>\n",
       "    </tr>\n",
       "    <tr>\n",
       "      <th>Acceptor</th>\n",
       "      <td>5</td>\n",
       "      <td>5</td>\n",
       "      <td>2</td>\n",
       "      <td>5</td>\n",
       "    </tr>\n",
       "    <tr>\n",
       "      <th>PosIonizable</th>\n",
       "      <td>2</td>\n",
       "      <td>1</td>\n",
       "      <td>4</td>\n",
       "      <td>1</td>\n",
       "    </tr>\n",
       "    <tr>\n",
       "      <th>Hydrophobe</th>\n",
       "      <td>6</td>\n",
       "      <td>1</td>\n",
       "      <td>3</td>\n",
       "      <td>2</td>\n",
       "    </tr>\n",
       "    <tr>\n",
       "      <th>LumpedHydrophobe</th>\n",
       "      <td>1</td>\n",
       "      <td>0</td>\n",
       "      <td>0</td>\n",
       "      <td>0</td>\n",
       "    </tr>\n",
       "  </tbody>\n",
       "</table>\n",
       "</div>"
      ],
      "text/plain": [
       "                  m1  m2  m3  m4\n",
       "Donor              7   2   6   6\n",
       "Acceptor           5   5   2   5\n",
       "PosIonizable       2   1   4   1\n",
       "Hydrophobe         6   1   3   2\n",
       "LumpedHydrophobe   1   0   0   0"
      ]
     },
     "execution_count": 79,
     "metadata": {},
     "output_type": "execute_result"
    }
   ],
   "source": [
    "# Get feature type frequency per molecule\n",
    "mols_feats_freq = []\n",
    "for i in mols:\n",
    "    feats = [x.GetFamily() for x in ffact.GetFeaturesForMol(i)]\n",
    "    feats_freq = collections.Counter(feats)\n",
    "    mols_feats_freq.append(feats_freq)\n",
    "\n",
    "# Show data as DataFrame\n",
    "p = pd.DataFrame(mols_feats_freq, index=[\"m\"+str(i) for i in range(1, len(mols)+1)]).fillna(0).astype(int)\n",
    "p.transpose()"
   ]
  },
  {
   "cell_type": "code",
   "execution_count": 80,
   "metadata": {},
   "outputs": [],
   "source": [
    "acceptors = []\n",
    "donors = []\n",
    "hydrophobics = []\n",
    "\n",
    "for i in mols:\n",
    "    acceptors.append(ffact.GetFeaturesForMol(i, includeOnly='Acceptor'))\n",
    "    donors.append(ffact.GetFeaturesForMol(i, includeOnly='Donor'))\n",
    "    hydrophobics.append(ffact.GetFeaturesForMol(i, includeOnly='Hydrophobe'))\n",
    "    \n",
    "features = {\"donors\": donors,\n",
    "            \"acceptors\": acceptors,\n",
    "            \"hydrophobics\": hydrophobics}"
   ]
  },
  {
   "cell_type": "markdown",
   "metadata": {},
   "source": [
    "#### Show the pharmacophore features of all ligands"
   ]
  },
  {
   "cell_type": "code",
   "execution_count": 81,
   "metadata": {},
   "outputs": [],
   "source": [
    "feature_colors = {\"donors\": (0,0.9,0),  # Green\n",
    "                  \"acceptors\": (0.9,0,0),  # Red \n",
    "                  \"hydrophobics\": (1,0.9,0)}  # Yellow"
   ]
  },
  {
   "cell_type": "code",
   "execution_count": 82,
   "metadata": {},
   "outputs": [],
   "source": [
    "def visualize_features(molecules, feature_type, features, color=\"yellow\", sphere_radius=0.5):\n",
    "    print(\"Number of\", feature_type, \"in all ligands:\", sum([len(i) for i in features]))\n",
    "    v = show_ligands(molecules)\n",
    "    for i, feature in enumerate(features, 1):\n",
    "        for feat in feature:\n",
    "            loc = list(feat.GetPos())\n",
    "            label = f\"{feature_type}_{i}\"\n",
    "            v.shape.add_sphere(loc, color, sphere_radius, label)\n",
    "    return v"
   ]
  },
  {
   "cell_type": "code",
   "execution_count": 83,
   "metadata": {},
   "outputs": [
    {
     "name": "stdout",
     "output_type": "stream",
     "text": [
      "Number of donors in all ligands: 21\n"
     ]
    },
    {
     "data": {
      "application/vnd.jupyter.widget-view+json": {
       "model_id": "2e9b77aefe3c4709b8cb70210d4540dd",
       "version_major": 2,
       "version_minor": 0
      },
      "text/plain": [
       "NGLWidget()"
      ]
     },
     "metadata": {},
     "output_type": "display_data"
    }
   ],
   "source": [
    "# Hydrogen bond donors\n",
    "feature_type = \"donors\"\n",
    "v = visualize_features(mols, feature_type, features[feature_type], feature_colors[feature_type])\n",
    "v"
   ]
  },
  {
   "cell_type": "code",
   "execution_count": 84,
   "metadata": {},
   "outputs": [
    {
     "data": {
      "text/plain": [
       "(Image(value=b'', width='99%'),)"
      ]
     },
     "execution_count": 84,
     "metadata": {},
     "output_type": "execute_result"
    }
   ],
   "source": [
    "v.render_image(),"
   ]
  },
  {
   "cell_type": "code",
   "execution_count": 85,
   "metadata": {},
   "outputs": [
    {
     "data": {
      "image/png": "\n",
      "text/plain": [
       "<IPython.core.display.Image object>"
      ]
     },
     "execution_count": 85,
     "metadata": {},
     "output_type": "execute_result"
    }
   ],
   "source": [
    "v._display_image()"
   ]
  },
  {
   "cell_type": "code",
   "execution_count": 86,
   "metadata": {},
   "outputs": [
    {
     "name": "stdout",
     "output_type": "stream",
     "text": [
      "Number of acceptors in all ligands: 17\n"
     ]
    },
    {
     "data": {
      "application/vnd.jupyter.widget-view+json": {
       "model_id": "96b7a5c76e8d4b7088dd3bf006325892",
       "version_major": 2,
       "version_minor": 0
      },
      "text/plain": [
       "NGLWidget()"
      ]
     },
     "metadata": {},
     "output_type": "display_data"
    }
   ],
   "source": [
    "# Hydrogen bond acceptors\n",
    "feature_type = \"acceptors\"\n",
    "v = visualize_features(mols, feature_type, features[feature_type], feature_colors[feature_type])\n",
    "v"
   ]
  },
  {
   "cell_type": "code",
   "execution_count": 87,
   "metadata": {},
   "outputs": [
    {
     "data": {
      "text/plain": [
       "(Image(value=b'', width='99%'),)"
      ]
     },
     "execution_count": 87,
     "metadata": {},
     "output_type": "execute_result"
    }
   ],
   "source": [
    "v.render_image(),"
   ]
  },
  {
   "cell_type": "code",
   "execution_count": 88,
   "metadata": {},
   "outputs": [
    {
     "data": {
      "image/png": "\n",
      "text/plain": [
       "<IPython.core.display.Image object>"
      ]
     },
     "execution_count": 88,
     "metadata": {},
     "output_type": "execute_result"
    }
   ],
   "source": [
    "v._display_image()"
   ]
  },
  {
   "cell_type": "code",
   "execution_count": 89,
   "metadata": {},
   "outputs": [
    {
     "name": "stdout",
     "output_type": "stream",
     "text": [
      "Number of hydrophobics in all ligands: 12\n"
     ]
    },
    {
     "data": {
      "application/vnd.jupyter.widget-view+json": {
       "model_id": "63b0ad5d2f554d54a49461057d684a76",
       "version_major": 2,
       "version_minor": 0
      },
      "text/plain": [
       "NGLWidget()"
      ]
     },
     "metadata": {},
     "output_type": "display_data"
    }
   ],
   "source": [
    "# Hyrophobic contacts\n",
    "feature_type = \"hydrophobics\"\n",
    "v = visualize_features(mols, feature_type, features[feature_type], feature_colors[feature_type])\n",
    "v"
   ]
  },
  {
   "cell_type": "code",
   "execution_count": 90,
   "metadata": {},
   "outputs": [
    {
     "data": {
      "text/plain": [
       "(Image(value=b'', width='99%'),)"
      ]
     },
     "execution_count": 90,
     "metadata": {},
     "output_type": "execute_result"
    }
   ],
   "source": [
    "v.render_image(),"
   ]
  },
  {
   "cell_type": "code",
   "execution_count": 91,
   "metadata": {},
   "outputs": [
    {
     "data": {
      "image/png": "\n",
      "text/plain": [
       "<IPython.core.display.Image object>"
      ]
     },
     "execution_count": 91,
     "metadata": {},
     "output_type": "execute_result"
    }
   ],
   "source": [
    "v._display_image()"
   ]
  },
  {
   "cell_type": "markdown",
   "metadata": {},
   "source": [
    "#### Collect coordinates of features per feature type"
   ]
  },
  {
   "cell_type": "code",
   "execution_count": 92,
   "metadata": {},
   "outputs": [],
   "source": [
    "features_coord = {\"donors\": [list(item.GetPos()) for sublist in features[\"donors\"] for item in sublist],\n",
    "                  \"acceptors\": [list(item.GetPos()) for sublist in features[\"acceptors\"] for item in sublist],\n",
    "                  \"hydrophobics\": [list(item.GetPos()) for sublist in features[\"hydrophobics\"] for item in sublist]}"
   ]
  },
  {
   "cell_type": "code",
   "execution_count": 93,
   "metadata": {},
   "outputs": [
    {
     "data": {
      "text/plain": [
       "[[27.805, -18.851, 5.953],\n",
       " [29.987, -24.84, 1.657],\n",
       " [32.311, -23.449, 4.857],\n",
       " [35.303, -30.305, 7.995],\n",
       " [33.303, -31.287, 6.967],\n",
       " [38.317, -35.171, 5.355],\n",
       " [39.848, -33.532, 3.839],\n",
       " [38.9, -30.78, 3.13],\n",
       " [37.702, -28.4, 2.208],\n",
       " [35.291, -26.222, 1.738],\n",
       " [29.742, -24.604, 1.841],\n",
       " [27.132, -19.248, 3.635],\n",
       " [23.775, -23.053, 1.24],\n",
       " [19.414, -22.824, 0.525],\n",
       " [23.836, -21.745, -0.532],\n",
       " [26.439, -19.746, -0.054],\n",
       " [24.919, -19.774, 1.783]]"
      ]
     },
     "execution_count": 93,
     "metadata": {},
     "output_type": "execute_result"
    }
   ],
   "source": [
    "features_coord[\"acceptors\"]"
   ]
  },
  {
   "cell_type": "markdown",
   "metadata": {},
   "source": [
    "#### Generate ensemble pharmacophores"
   ]
  },
  {
   "cell_type": "code",
   "execution_count": 94,
   "metadata": {},
   "outputs": [],
   "source": [
    "# set static parameters for kmeans clustering\n",
    "# k quotient (kq) used to determine k in k-means: k = number of feature points / kq\n",
    "# kq should be selected so that k (feature clusters) is for all clusters at least 1 and not larger than 4-5 clusters\n",
    "kq = 7"
   ]
  },
  {
   "cell_type": "code",
   "execution_count": 95,
   "metadata": {},
   "outputs": [],
   "source": [
    "# Threshold for clustering: number = percentage of threshold value\n",
    "min_cluster_size = int(len(mols) * 0.75)\n",
    "\n",
    "# Show only top features\n",
    "top_cluster_number = 4"
   ]
  },
  {
   "cell_type": "code",
   "execution_count": 96,
   "metadata": {},
   "outputs": [],
   "source": [
    "# Define k-means clustering and cluster selection functions \n",
    "def clustering(feature_coord, kd):\n",
    "    '''\n",
    "    This functions computes the k-means clustering of input feature coordinates.\n",
    "    '''\n",
    "    \n",
    "    # Define parameter k as feature number divided by \"k quotient\"\n",
    "    k = math.ceil(len(feature_coord) / kq)\n",
    "    k = 2 if k == 1 else k  # Tailor-made adaption of k for hydrophobics in for the example in this talktorial\n",
    "    print('Clustering: \\nVariable k in k-means: %d of %d points\\n'%(k, len(feature_coord)))\n",
    "    \n",
    "    # Initialize of k-means\n",
    "    k_means = cluster.KMeans(n_clusters=k)\n",
    "    \n",
    "    # Compute the k-means clustering\n",
    "    k_means.fit(feature_coord)\n",
    "    \n",
    "    # Return the clusters\n",
    "    return k_means"
   ]
  },
  {
   "cell_type": "code",
   "execution_count": 97,
   "metadata": {},
   "outputs": [],
   "source": [
    "def get_clusters(k_means, min_cluster_size, top_cluster_number):\n",
    "    '''\n",
    "    This function retrieves information on a input k-means clustering:\n",
    "    * gets cluster label for each feature\n",
    "    * counts cluster sizes and sort cluster indices by cluster size\n",
    "    * selects clusters based on size\n",
    "    * returns selected cluster indices\n",
    "    '''\n",
    "    \n",
    "    # Sort clusters by size and only show largest\n",
    "    feature_labels = k_means.labels_\n",
    "    print('Cluster labels for all features: \\n%s\\n'% feature_labels)\n",
    "\n",
    "    feature_labels_count = Counter(feature_labels)\n",
    "    print('Cluster label counter: \\n%s\\n'% feature_labels_count)\n",
    "\n",
    "    feature_labels_count = sorted(feature_labels_count.items(), \n",
    "                                  key=operator.itemgetter(1), \n",
    "                                  reverse=True)\n",
    "    print('Sorted cluster label counters: \\n%s\\n'% feature_labels_count)\n",
    "\n",
    "    # Get number of the largest clusters, which are larger then the threshold (selected clusters)\n",
    "    cluster_indices_sel = []\n",
    "    \n",
    "    for cluster_index, cluster_size in feature_labels_count:  # feature_labels_count = list of (cluster_index, cluster_size)\n",
    "        if cluster_size >= min_cluster_size and top_cluster_number > 0:\n",
    "            cluster_indices_sel.append(cluster_index)\n",
    "            top_cluster_number -= 1\n",
    "            \n",
    "    print('Cluster indices of selected clusters: \\n%s\\n'% cluster_indices_sel)\n",
    "    \n",
    "    return cluster_indices_sel"
   ]
  },
  {
   "cell_type": "code",
   "execution_count": 98,
   "metadata": {},
   "outputs": [
    {
     "name": "stdout",
     "output_type": "stream",
     "text": [
      "Clustering: \n",
      "Variable k in k-means: 3 of 21 points\n",
      "\n",
      "Clustering: \n",
      "Variable k in k-means: 3 of 17 points\n",
      "\n",
      "Clustering: \n",
      "Variable k in k-means: 2 of 12 points\n",
      "\n"
     ]
    }
   ],
   "source": [
    "# Cluster features\n",
    "k_means = {\"donors\": clustering(features_coord[\"donors\"], kq), \n",
    "           \"acceptors\": clustering(features_coord[\"acceptors\"], kq),\n",
    "           \"hydrophobics\": clustering(features_coord[\"hydrophobics\"], kq)}"
   ]
  },
  {
   "cell_type": "code",
   "execution_count": 99,
   "metadata": {},
   "outputs": [
    {
     "name": "stdout",
     "output_type": "stream",
     "text": [
      "Hydrogen bond donors\n",
      "\n",
      "Cluster labels for all features: \n",
      "[2 0 0 0 0 1 1 1 0 0 0 2 0 0 0 2 2 2 2 2 2]\n",
      "\n",
      "Cluster label counter: \n",
      "Counter({0: 10, 2: 8, 1: 3})\n",
      "\n",
      "Sorted cluster label counters: \n",
      "[(0, 10), (2, 8), (1, 3)]\n",
      "\n",
      "Cluster indices of selected clusters: \n",
      "[0, 2, 1]\n",
      "\n",
      "Hydrogen bond acceptors\n",
      "\n",
      "Cluster labels for all features: \n",
      "[1 0 0 2 2 2 2 2 2 0 0 1 1 1 1 1 1]\n",
      "\n",
      "Cluster label counter: \n",
      "Counter({1: 7, 2: 6, 0: 4})\n",
      "\n",
      "Sorted cluster label counters: \n",
      "[(1, 7), (2, 6), (0, 4)]\n",
      "\n",
      "Cluster indices of selected clusters: \n",
      "[1, 2, 0]\n",
      "\n",
      "Hydrophobic contacts\n",
      "\n",
      "Cluster labels for all features: \n",
      "[0 0 0 0 1 1 1 0 0 0 0 0]\n",
      "\n",
      "Cluster label counter: \n",
      "Counter({0: 9, 1: 3})\n",
      "\n",
      "Sorted cluster label counters: \n",
      "[(0, 9), (1, 3)]\n",
      "\n",
      "Cluster indices of selected clusters: \n",
      "[0, 1]\n",
      "\n"
     ]
    }
   ],
   "source": [
    "# Select relevant clusters\n",
    "print(\"Hydrogen bond donors\\n\")\n",
    "cluster_indices_sel_don = get_clusters(k_means[\"donors\"], min_cluster_size, top_cluster_number)\n",
    "print(\"Hydrogen bond acceptors\\n\")\n",
    "cluster_indices_sel_acc = get_clusters(k_means[\"acceptors\"], min_cluster_size, top_cluster_number)\n",
    "print(\"Hydrophobic contacts\\n\")\n",
    "cluster_indices_sel_h = get_clusters(k_means[\"hydrophobics\"], min_cluster_size, top_cluster_number)"
   ]
  },
  {
   "cell_type": "code",
   "execution_count": 100,
   "metadata": {},
   "outputs": [],
   "source": [
    "cluster_indices_sel = {\"donors\": cluster_indices_sel_don, \n",
    "                       \"acceptors\": cluster_indices_sel_acc, \n",
    "                       \"hydrophobics\": cluster_indices_sel_h}"
   ]
  },
  {
   "cell_type": "code",
   "execution_count": 101,
   "metadata": {},
   "outputs": [],
   "source": [
    "# get cluster coordinates\n",
    "def get_selected_cluster_center_coords(k_means, cluster_indices_sel, feature_type):\n",
    "    '''\n",
    "    This function retrieves cluster center coordinates for selected clusters (by their indices).\n",
    "    '''\n",
    "    \n",
    "    # Get cluster centers for a certain feature type\n",
    "    cluster_centers = k_means[feature_type].cluster_centers_\n",
    "    \n",
    "    # Cast to list and then to pandas Series (for element selection by indices)\n",
    "    cluster_centers = pd.Series(cluster_centers.tolist())\n",
    "    \n",
    "    # Select cluster centers by indices of selected clusters\n",
    "    cluster_centers_sel = cluster_centers[cluster_indices_sel[feature_type]]\n",
    "    \n",
    "    # Cast to list and return\n",
    "    return list(cluster_centers_sel)"
   ]
  },
  {
   "cell_type": "code",
   "execution_count": 102,
   "metadata": {},
   "outputs": [
    {
     "data": {
      "text/plain": [
       "[[24.76, -20.748714285714286, 1.7928571428571427],\n",
       " [37.228833333333334, -31.579166666666666, 4.915666666666667],\n",
       " [31.832749999999997, -24.778750000000002, 2.52325]]"
      ]
     },
     "execution_count": 102,
     "metadata": {},
     "output_type": "execute_result"
    }
   ],
   "source": [
    "cluster_centers_sel = {\"donors\": get_selected_cluster_center_coords(k_means, cluster_indices_sel, \"donors\"),\n",
    "                       \"acceptors\": get_selected_cluster_center_coords(k_means, cluster_indices_sel, \"acceptors\"),\n",
    "                       \"hydrophobics\": get_selected_cluster_center_coords(k_means, cluster_indices_sel, \"hydrophobics\")}\n",
    "cluster_centers_sel[\"acceptors\"]"
   ]
  },
  {
   "cell_type": "markdown",
   "metadata": {},
   "source": [
    "#### Show clusters"
   ]
  },
  {
   "cell_type": "code",
   "execution_count": 103,
   "metadata": {},
   "outputs": [],
   "source": [
    "def visualize_clusters(molecules, feature_type, features, clusters, \n",
    "                       color=\"yellow\", feature_radius=0.5, cluster_radius=1):\n",
    "    v = visualize_features(molecules, feature_type, features, color=color, sphere_radius=feature_radius)\n",
    "    for i, center in enumerate(clusters, 1):\n",
    "        v.shape.add_sphere(list(center), color, cluster_radius, f\"cluster_{feature_type}_{i}\")\n",
    "    return v"
   ]
  },
  {
   "cell_type": "code",
   "execution_count": 104,
   "metadata": {},
   "outputs": [
    {
     "name": "stdout",
     "output_type": "stream",
     "text": [
      "Number of donors in all ligands: 21\n"
     ]
    },
    {
     "data": {
      "application/vnd.jupyter.widget-view+json": {
       "model_id": "84bf6003e74d48ff826d9c7e286daa1b",
       "version_major": 2,
       "version_minor": 0
      },
      "text/plain": [
       "NGLWidget()"
      ]
     },
     "metadata": {},
     "output_type": "display_data"
    }
   ],
   "source": [
    "# Hydrogen bond donors\n",
    "feature_type = \"donors\"\n",
    "v = visualize_clusters(mols, feature_type, features[feature_type], \n",
    "                   cluster_centers_sel[feature_type], \n",
    "                   feature_colors[feature_type])\n",
    "v"
   ]
  },
  {
   "cell_type": "code",
   "execution_count": 105,
   "metadata": {},
   "outputs": [
    {
     "data": {
      "text/plain": [
       "(Image(value=b'', width='99%'),)"
      ]
     },
     "execution_count": 105,
     "metadata": {},
     "output_type": "execute_result"
    }
   ],
   "source": [
    "v.render_image(),"
   ]
  },
  {
   "cell_type": "code",
   "execution_count": 106,
   "metadata": {},
   "outputs": [
    {
     "data": {
      "image/png": "\n",
      "text/plain": [
       "<IPython.core.display.Image object>"
      ]
     },
     "execution_count": 106,
     "metadata": {},
     "output_type": "execute_result"
    }
   ],
   "source": [
    "v._display_image()"
   ]
  },
  {
   "cell_type": "code",
   "execution_count": 107,
   "metadata": {},
   "outputs": [
    {
     "name": "stdout",
     "output_type": "stream",
     "text": [
      "Number of acceptors in all ligands: 17\n"
     ]
    },
    {
     "data": {
      "application/vnd.jupyter.widget-view+json": {
       "model_id": "dd8225a086e74d8eb7d4d7e48abb679c",
       "version_major": 2,
       "version_minor": 0
      },
      "text/plain": [
       "NGLWidget()"
      ]
     },
     "metadata": {},
     "output_type": "display_data"
    }
   ],
   "source": [
    "# Hydrogen bond acceptor\n",
    "feature_type = \"acceptors\"\n",
    "v = visualize_clusters(mols, feature_type, features[feature_type], \n",
    "                   cluster_centers_sel[feature_type],  \n",
    "                   feature_colors[feature_type])\n",
    "v"
   ]
  },
  {
   "cell_type": "code",
   "execution_count": 108,
   "metadata": {},
   "outputs": [
    {
     "data": {
      "text/plain": [
       "(Image(value=b'', width='99%'),)"
      ]
     },
     "execution_count": 108,
     "metadata": {},
     "output_type": "execute_result"
    }
   ],
   "source": [
    "v.render_image(),"
   ]
  },
  {
   "cell_type": "code",
   "execution_count": 109,
   "metadata": {},
   "outputs": [
    {
     "data": {
      "image/png": "\n",
      "text/plain": [
       "<IPython.core.display.Image object>"
      ]
     },
     "execution_count": 109,
     "metadata": {},
     "output_type": "execute_result"
    }
   ],
   "source": [
    "v._display_image()"
   ]
  },
  {
   "cell_type": "code",
   "execution_count": 110,
   "metadata": {},
   "outputs": [
    {
     "name": "stdout",
     "output_type": "stream",
     "text": [
      "Number of hydrophobics in all ligands: 12\n"
     ]
    },
    {
     "data": {
      "application/vnd.jupyter.widget-view+json": {
       "model_id": "33d0dd21e38e40919cb364ba57e74021",
       "version_major": 2,
       "version_minor": 0
      },
      "text/plain": [
       "NGLWidget()"
      ]
     },
     "metadata": {},
     "output_type": "display_data"
    }
   ],
   "source": [
    "# Hydrophobic contacts\n",
    "feature_type = \"hydrophobics\"\n",
    "v = visualize_clusters(mols, feature_type, features[feature_type], \n",
    "                   cluster_centers_sel[feature_type], \n",
    "                   feature_colors[feature_type])\n",
    "v"
   ]
  },
  {
   "cell_type": "code",
   "execution_count": 111,
   "metadata": {},
   "outputs": [
    {
     "data": {
      "text/plain": [
       "(Image(value=b'', width='99%'),)"
      ]
     },
     "execution_count": 111,
     "metadata": {},
     "output_type": "execute_result"
    }
   ],
   "source": [
    "v.render_image(),"
   ]
  },
  {
   "cell_type": "code",
   "execution_count": 112,
   "metadata": {},
   "outputs": [
    {
     "data": {
      "image/png": "\n",
      "text/plain": [
       "<IPython.core.display.Image object>"
      ]
     },
     "execution_count": 112,
     "metadata": {},
     "output_type": "execute_result"
    }
   ],
   "source": [
    "v._display_image()"
   ]
  },
  {
   "cell_type": "markdown",
   "metadata": {},
   "source": [
    "#### Show ensemble pharmacophore"
   ]
  },
  {
   "cell_type": "code",
   "execution_count": 113,
   "metadata": {},
   "outputs": [
    {
     "data": {
      "application/vnd.jupyter.widget-view+json": {
       "model_id": "4cb1b6fb6c584e04b3eb2dfcf57b6a01",
       "version_major": 2,
       "version_minor": 0
      },
      "text/plain": [
       "NGLWidget()"
      ]
     },
     "metadata": {},
     "output_type": "display_data"
    }
   ],
   "source": [
    "v = show_ligands(mols)\n",
    "# Load clusters\n",
    "for feature_type in cluster_indices_sel.keys():\n",
    "    centers = cluster_centers_sel[feature_type]\n",
    "    for i, loc in enumerate(centers):\n",
    "        sphere_radius = 1\n",
    "        feature_color = feature_colors[feature_type]\n",
    "        label = f\"{feature_type}_c{i}\"\n",
    "        v.shape.add_sphere(loc, feature_color, sphere_radius, label)\n",
    "v"
   ]
  },
  {
   "cell_type": "code",
   "execution_count": 114,
   "metadata": {},
   "outputs": [
    {
     "data": {
      "text/plain": [
       "(Image(value=b'', width='99%'),)"
      ]
     },
     "execution_count": 114,
     "metadata": {},
     "output_type": "execute_result"
    }
   ],
   "source": [
    "v.render_image(),"
   ]
  },
  {
   "cell_type": "code",
   "execution_count": 115,
   "metadata": {},
   "outputs": [
    {
     "data": {
      "image/png": "\n",
      "text/plain": [
       "<IPython.core.display.Image object>"
      ]
     },
     "execution_count": 115,
     "metadata": {},
     "output_type": "execute_result"
    }
   ],
   "source": [
    "v._display_image()"
   ]
  },
  {
   "cell_type": "code",
   "execution_count": null,
   "metadata": {},
   "outputs": [],
   "source": []
  }
 ],
 "metadata": {
  "kernelspec": {
   "display_name": "opencadd",
   "language": "python",
   "name": "opencadd"
  },
  "language_info": {
   "codemirror_mode": {
    "name": "ipython",
    "version": 3
   },
   "file_extension": ".py",
   "mimetype": "text/x-python",
   "name": "python",
   "nbconvert_exporter": "python",
   "pygments_lexer": "ipython3",
   "version": "3.8.6"
  }
 },
 "nbformat": 4,
 "nbformat_minor": 4
}
