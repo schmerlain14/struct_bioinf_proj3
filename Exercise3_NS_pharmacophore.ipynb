{
 "cells": [
  {
   "cell_type": "markdown",
   "metadata": {},
   "source": [
    "## Pharmacophore\n",
    "Extracting and applying pharmacophore hypothesis<br><br>\n",
    "here, we use rdkit; for more details see<br>\n",
    "https://www.rdkit.org/docs/GettingStartedInPython.html"
   ]
  },
  {
   "cell_type": "code",
   "execution_count": 85,
   "metadata": {},
   "outputs": [],
   "source": [
    "# importing \n",
    "import os\n",
    "import requests\n",
    "import xml.etree.ElementTree as ET\n",
    "#from chembl_webresource_client.new_client import new_client\n",
    "import pandas as pd\n",
    "import math\n",
    "from rdkit import Chem, RDConfig, Geometry\n",
    "from rdkit.Chem import Draw, PandasTools, AllChem\n",
    "from rdkit.Chem.Draw import IPythonConsole\n",
    "from rdkit.Chem import Descriptors, ChemicalFeatures\n",
    "from rdkit.Chem.Pharm2D import Generate, Gobbi_Pharm2D\n",
    "from rdkit.Chem.Pharm2D.SigFactory import SigFactory\n",
    "import rdkit.Chem.Pharm3D.Pharmacophore as Ph\n",
    "from rdkit.ML.InfoTheory import InfoBitRanker\n",
    "import numpy as np\n",
    "from matplotlib import pyplot as plt"
   ]
  },
  {
   "cell_type": "code",
   "execution_count": 86,
   "metadata": {},
   "outputs": [
    {
     "data": {
      "text/plain": [
       "'/home/113600/structural_bioinformatics/Project3'"
      ]
     },
     "execution_count": 86,
     "metadata": {},
     "output_type": "execute_result"
    }
   ],
   "source": [
    "os.getcwd()"
   ]
  },
  {
   "cell_type": "code",
   "execution_count": 87,
   "metadata": {},
   "outputs": [],
   "source": [
    "# read in the data from Exercise 2\n",
    "# mol_data = pd.read_csv('ABL_comp_IC50.csv')\n",
    "mol_data = pd.read_csv('data/EGFR_compounds.csv')"
   ]
  },
  {
   "cell_type": "code",
   "execution_count": 88,
   "metadata": {},
   "outputs": [
    {
     "data": {
      "text/html": [
       "<div>\n",
       "<style scoped>\n",
       "    .dataframe tbody tr th:only-of-type {\n",
       "        vertical-align: middle;\n",
       "    }\n",
       "\n",
       "    .dataframe tbody tr th {\n",
       "        vertical-align: top;\n",
       "    }\n",
       "\n",
       "    .dataframe thead th {\n",
       "        text-align: right;\n",
       "    }\n",
       "</style>\n",
       "<table border=\"1\" class=\"dataframe\">\n",
       "  <thead>\n",
       "    <tr style=\"text-align: right;\">\n",
       "      <th></th>\n",
       "      <th>Unnamed: 0</th>\n",
       "      <th>molecule_chembl_id</th>\n",
       "      <th>units</th>\n",
       "      <th>IC50</th>\n",
       "      <th>smiles</th>\n",
       "      <th>pIC50</th>\n",
       "    </tr>\n",
       "  </thead>\n",
       "  <tbody>\n",
       "    <tr>\n",
       "      <th>0</th>\n",
       "      <td>0</td>\n",
       "      <td>CHEMBL2367667</td>\n",
       "      <td>nM</td>\n",
       "      <td>0.036</td>\n",
       "      <td>C=CC[C@H]1C(=O)N(S(=O)(=O)c2ccc3ccccc3c2)[C@H]...</td>\n",
       "      <td>10.443697</td>\n",
       "    </tr>\n",
       "    <tr>\n",
       "      <th>1</th>\n",
       "      <td>1</td>\n",
       "      <td>CHEMBL3617973</td>\n",
       "      <td>nM</td>\n",
       "      <td>0.065</td>\n",
       "      <td>CC1=C(C#N)[C@@H](c2ccc(C#N)cc2S(C)(=O)=O)N(C)C...</td>\n",
       "      <td>10.187087</td>\n",
       "    </tr>\n",
       "    <tr>\n",
       "      <th>2</th>\n",
       "      <td>2</td>\n",
       "      <td>CHEMBL293138</td>\n",
       "      <td>nM</td>\n",
       "      <td>0.100</td>\n",
       "      <td>CC(SC(=O)c1cccs1)C(=O)NCC(=O)N1CSCC1C(=O)O</td>\n",
       "      <td>10.000000</td>\n",
       "    </tr>\n",
       "    <tr>\n",
       "      <th>3</th>\n",
       "      <td>3</td>\n",
       "      <td>CHEMBL3617966</td>\n",
       "      <td>nM</td>\n",
       "      <td>0.210</td>\n",
       "      <td>CNC(=O)c1cc(-c2ccnn2-c2ccc(C#N)cc2)c(C)n(-c2cc...</td>\n",
       "      <td>9.677781</td>\n",
       "    </tr>\n",
       "    <tr>\n",
       "      <th>4</th>\n",
       "      <td>4</td>\n",
       "      <td>CHEMBL3912018</td>\n",
       "      <td>nM</td>\n",
       "      <td>0.300</td>\n",
       "      <td>CC(=O)C1=C(C)N(c2cccc(C(F)(F)F)c2)C(=O)N(C)C1c...</td>\n",
       "      <td>9.522879</td>\n",
       "    </tr>\n",
       "  </tbody>\n",
       "</table>\n",
       "</div>"
      ],
      "text/plain": [
       "   Unnamed: 0 molecule_chembl_id units   IC50  \\\n",
       "0           0      CHEMBL2367667    nM  0.036   \n",
       "1           1      CHEMBL3617973    nM  0.065   \n",
       "2           2       CHEMBL293138    nM  0.100   \n",
       "3           3      CHEMBL3617966    nM  0.210   \n",
       "4           4      CHEMBL3912018    nM  0.300   \n",
       "\n",
       "                                              smiles      pIC50  \n",
       "0  C=CC[C@H]1C(=O)N(S(=O)(=O)c2ccc3ccccc3c2)[C@H]...  10.443697  \n",
       "1  CC1=C(C#N)[C@@H](c2ccc(C#N)cc2S(C)(=O)=O)N(C)C...  10.187087  \n",
       "2         CC(SC(=O)c1cccs1)C(=O)NCC(=O)N1CSCC1C(=O)O  10.000000  \n",
       "3  CNC(=O)c1cc(-c2ccnn2-c2ccc(C#N)cc2)c(C)n(-c2cc...   9.677781  \n",
       "4  CC(=O)C1=C(C)N(c2cccc(C(F)(F)F)c2)C(=O)N(C)C1c...   9.522879  "
      ]
     },
     "execution_count": 88,
     "metadata": {},
     "output_type": "execute_result"
    }
   ],
   "source": [
    "mol_data.head()"
   ]
  },
  {
   "cell_type": "code",
   "execution_count": 89,
   "metadata": {},
   "outputs": [
    {
     "data": {
      "text/html": [
       "<div>\n",
       "<style scoped>\n",
       "    .dataframe tbody tr th:only-of-type {\n",
       "        vertical-align: middle;\n",
       "    }\n",
       "\n",
       "    .dataframe tbody tr th {\n",
       "        vertical-align: top;\n",
       "    }\n",
       "\n",
       "    .dataframe thead th {\n",
       "        text-align: right;\n",
       "    }\n",
       "</style>\n",
       "<table border=\"1\" class=\"dataframe\">\n",
       "  <thead>\n",
       "    <tr style=\"text-align: right;\">\n",
       "      <th></th>\n",
       "      <th>Unnamed: 0</th>\n",
       "      <th>molecule_chembl_id</th>\n",
       "      <th>units</th>\n",
       "      <th>IC50</th>\n",
       "      <th>smiles</th>\n",
       "      <th>pIC50</th>\n",
       "      <th>ROMol</th>\n",
       "    </tr>\n",
       "  </thead>\n",
       "  <tbody>\n",
       "    <tr>\n",
       "      <th>0</th>\n",
       "      <td>0</td>\n",
       "      <td>CHEMBL2367667</td>\n",
       "      <td>nM</td>\n",
       "      <td>0.036</td>\n",
       "      <td>C=CC[C@H]1C(=O)N(S(=O)(=O)c2ccc3ccccc3c2)[C@H]...</td>\n",
       "      <td>10.443697</td>\n",
       "      <td><img data-content=\"rdkit/molecule\" src=\"data:image/png;base64,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\" alt=\"Mol\"/></td>\n",
       "    </tr>\n",
       "    <tr>\n",
       "      <th>1</th>\n",
       "      <td>1</td>\n",
       "      <td>CHEMBL3617973</td>\n",
       "      <td>nM</td>\n",
       "      <td>0.065</td>\n",
       "      <td>CC1=C(C#N)[C@@H](c2ccc(C#N)cc2S(C)(=O)=O)N(C)C...</td>\n",
       "      <td>10.187087</td>\n",
       "      <td><img data-content=\"rdkit/molecule\" src=\"data:image/png;base64,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\" alt=\"Mol\"/></td>\n",
       "    </tr>\n",
       "    <tr>\n",
       "      <th>2</th>\n",
       "      <td>2</td>\n",
       "      <td>CHEMBL293138</td>\n",
       "      <td>nM</td>\n",
       "      <td>0.100</td>\n",
       "      <td>CC(SC(=O)c1cccs1)C(=O)NCC(=O)N1CSCC1C(=O)O</td>\n",
       "      <td>10.000000</td>\n",
       "      <td><img data-content=\"rdkit/molecule\" src=\"data:image/png;base64,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\" alt=\"Mol\"/></td>\n",
       "    </tr>\n",
       "    <tr>\n",
       "      <th>3</th>\n",
       "      <td>3</td>\n",
       "      <td>CHEMBL3617966</td>\n",
       "      <td>nM</td>\n",
       "      <td>0.210</td>\n",
       "      <td>CNC(=O)c1cc(-c2ccnn2-c2ccc(C#N)cc2)c(C)n(-c2cc...</td>\n",
       "      <td>9.677781</td>\n",
       "      <td><img data-content=\"rdkit/molecule\" src=\"data:image/png;base64,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\" alt=\"Mol\"/></td>\n",
       "    </tr>\n",
       "    <tr>\n",
       "      <th>4</th>\n",
       "      <td>4</td>\n",
       "      <td>CHEMBL3912018</td>\n",
       "      <td>nM</td>\n",
       "      <td>0.300</td>\n",
       "      <td>CC(=O)C1=C(C)N(c2cccc(C(F)(F)F)c2)C(=O)N(C)C1c...</td>\n",
       "      <td>9.522879</td>\n",
       "      <td><img data-content=\"rdkit/molecule\" src=\"data:image/png;base64,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\" alt=\"Mol\"/></td>\n",
       "    </tr>\n",
       "  </tbody>\n",
       "</table>\n",
       "</div>"
      ],
      "text/plain": [
       "   Unnamed: 0 molecule_chembl_id units   IC50  \\\n",
       "0           0      CHEMBL2367667    nM  0.036   \n",
       "1           1      CHEMBL3617973    nM  0.065   \n",
       "2           2       CHEMBL293138    nM  0.100   \n",
       "3           3      CHEMBL3617966    nM  0.210   \n",
       "4           4      CHEMBL3912018    nM  0.300   \n",
       "\n",
       "                                              smiles      pIC50  \\\n",
       "0  C=CC[C@H]1C(=O)N(S(=O)(=O)c2ccc3ccccc3c2)[C@H]...  10.443697   \n",
       "1  CC1=C(C#N)[C@@H](c2ccc(C#N)cc2S(C)(=O)=O)N(C)C...  10.187087   \n",
       "2         CC(SC(=O)c1cccs1)C(=O)NCC(=O)N1CSCC1C(=O)O  10.000000   \n",
       "3  CNC(=O)c1cc(-c2ccnn2-c2ccc(C#N)cc2)c(C)n(-c2cc...   9.677781   \n",
       "4  CC(=O)C1=C(C)N(c2cccc(C(F)(F)F)c2)C(=O)N(C)C1c...   9.522879   \n",
       "\n",
       "                                               ROMol  \n",
       "0  <img data-content=\"rdkit/molecule\" src=\"data:i...  \n",
       "1  <img data-content=\"rdkit/molecule\" src=\"data:i...  \n",
       "2  <img data-content=\"rdkit/molecule\" src=\"data:i...  \n",
       "3  <img data-content=\"rdkit/molecule\" src=\"data:i...  \n",
       "4  <img data-content=\"rdkit/molecule\" src=\"data:i...  "
      ]
     },
     "execution_count": 89,
     "metadata": {},
     "output_type": "execute_result"
    }
   ],
   "source": [
    "# add the chemical structures - same as in the Exercise 2\n",
    "PandasTools.AddMoleculeColumnToFrame(mol_data, smilesCol='smiles')\n",
    "mol_data.head()"
   ]
  },
  {
   "cell_type": "code",
   "execution_count": 90,
   "metadata": {},
   "outputs": [
    {
     "data": {
      "image/svg+xml": [
       "<svg xmlns=\"http://www.w3.org/2000/svg\" xmlns:rdkit=\"http://www.rdkit.org/xml\" xmlns:xlink=\"http://www.w3.org/1999/xlink\" version=\"1.1\" baseProfile=\"full\" xml:space=\"preserve\" width=\"600px\" height=\"200px\" viewBox=\"0 0 600 200\">\n",
       "<!-- END OF HEADER -->\n",
       "<rect style=\"opacity:1.0;fill:#FFFFFF;stroke:none\" width=\"600\" height=\"200\" x=\"0\" y=\"0\"> </rect>\n",
       "<rect style=\"opacity:1.0;fill:#FFFFFF;stroke:none\" width=\"600\" height=\"200\" x=\"0\" y=\"0\"> </rect>\n",
       "<rect style=\"opacity:1.0;fill:#FFFFFF;stroke:none\" width=\"600\" height=\"200\" x=\"0\" y=\"0\"> </rect>\n",
       "<rect style=\"opacity:1.0;fill:#FFFFFF;stroke:none\" width=\"600\" height=\"200\" x=\"0\" y=\"0\"> </rect>\n",
       "<path class=\"bond-0\" d=\"M 61.5785,61.1338 L 73.9018,69.5923\" style=\"fill:none;fill-rule:evenodd;stroke:#000000;stroke-width:2.0px;stroke-linecap:butt;stroke-linejoin:miter;stroke-opacity:1\"/>\n",
       "<path class=\"bond-0\" d=\"M 63.2703,58.6691 L 75.5935,67.1277\" style=\"fill:none;fill-rule:evenodd;stroke:#000000;stroke-width:2.0px;stroke-linecap:butt;stroke-linejoin:miter;stroke-opacity:1\"/>\n",
       "<path class=\"bond-1\" d=\"M 74.7477,68.36 L 73.584,83.2616\" style=\"fill:none;fill-rule:evenodd;stroke:#000000;stroke-width:2.0px;stroke-linecap:butt;stroke-linejoin:miter;stroke-opacity:1\"/>\n",
       "<path class=\"bond-2\" d=\"M 85.9073,91.7201 L 74.4299,82.0292 L 72.7381,84.4939 Z\" style=\"fill:#000000;fill-rule:evenodd;fill-opacity:1;stroke:#000000;stroke-width:2px;stroke-linecap:butt;stroke-linejoin:miter;stroke-opacity:1;\"/>\n",
       "<path class=\"bond-3\" d=\"M 85.9073,91.7201 L 99.9938,86.7222\" style=\"fill:none;fill-rule:evenodd;stroke:#000000;stroke-width:2.0px;stroke-linecap:butt;stroke-linejoin:miter;stroke-opacity:1\"/>\n",
       "<path class=\"bond-34\" d=\"M 85.9073,91.7201 L 86.3076,106.662\" style=\"fill:none;fill-rule:evenodd;stroke:#000000;stroke-width:2.0px;stroke-linecap:butt;stroke-linejoin:miter;stroke-opacity:1\"/>\n",
       "<path class=\"bond-4\" d=\"M 101.427,87.1458 L 103.163,81.2727\" style=\"fill:none;fill-rule:evenodd;stroke:#000000;stroke-width:2.0px;stroke-linecap:butt;stroke-linejoin:miter;stroke-opacity:1\"/>\n",
       "<path class=\"bond-4\" d=\"M 103.163,81.2727 L 104.899,75.3995\" style=\"fill:none;fill-rule:evenodd;stroke:#FF0000;stroke-width:2.0px;stroke-linecap:butt;stroke-linejoin:miter;stroke-opacity:1\"/>\n",
       "<path class=\"bond-4\" d=\"M 98.5604,86.2985 L 100.296,80.4254\" style=\"fill:none;fill-rule:evenodd;stroke:#000000;stroke-width:2.0px;stroke-linecap:butt;stroke-linejoin:miter;stroke-opacity:1\"/>\n",
       "<path class=\"bond-4\" d=\"M 100.296,80.4254 L 102.032,74.5522\" style=\"fill:none;fill-rule:evenodd;stroke:#FF0000;stroke-width:2.0px;stroke-linecap:butt;stroke-linejoin:miter;stroke-opacity:1\"/>\n",
       "<path class=\"bond-5\" d=\"M 99.9938,86.7222 L 103.588,91.3997\" style=\"fill:none;fill-rule:evenodd;stroke:#000000;stroke-width:2.0px;stroke-linecap:butt;stroke-linejoin:miter;stroke-opacity:1\"/>\n",
       "<path class=\"bond-5\" d=\"M 103.588,91.3997 L 107.181,96.0772\" style=\"fill:none;fill-rule:evenodd;stroke:#0000FF;stroke-width:2.0px;stroke-linecap:butt;stroke-linejoin:miter;stroke-opacity:1\"/>\n",
       "<path class=\"bond-6\" d=\"M 111.085,98.5216 L 116.72,98.3707\" style=\"fill:none;fill-rule:evenodd;stroke:#0000FF;stroke-width:2.0px;stroke-linecap:butt;stroke-linejoin:miter;stroke-opacity:1\"/>\n",
       "<path class=\"bond-6\" d=\"M 116.72,98.3707 L 122.356,98.2197\" style=\"fill:none;fill-rule:evenodd;stroke:#CCCC00;stroke-width:2.0px;stroke-linecap:butt;stroke-linejoin:miter;stroke-opacity:1\"/>\n",
       "<path class=\"bond-19\" d=\"M 107.386,101.072 L 104.014,105.985\" style=\"fill:none;fill-rule:evenodd;stroke:#0000FF;stroke-width:2.0px;stroke-linecap:butt;stroke-linejoin:miter;stroke-opacity:1\"/>\n",
       "<path class=\"bond-19\" d=\"M 104.014,105.985 L 100.642,110.898\" style=\"fill:none;fill-rule:evenodd;stroke:#000000;stroke-width:2.0px;stroke-linecap:butt;stroke-linejoin:miter;stroke-opacity:1\"/>\n",
       "<path class=\"bond-7\" d=\"M 125.469,95.6428 L 125.336,90.6805\" style=\"fill:none;fill-rule:evenodd;stroke:#CCCC00;stroke-width:2.0px;stroke-linecap:butt;stroke-linejoin:miter;stroke-opacity:1\"/>\n",
       "<path class=\"bond-7\" d=\"M 125.336,90.6805 L 125.203,85.7183\" style=\"fill:none;fill-rule:evenodd;stroke:#FF0000;stroke-width:2.0px;stroke-linecap:butt;stroke-linejoin:miter;stroke-opacity:1\"/>\n",
       "<path class=\"bond-7\" d=\"M 122.481,95.7228 L 122.348,90.7606\" style=\"fill:none;fill-rule:evenodd;stroke:#CCCC00;stroke-width:2.0px;stroke-linecap:butt;stroke-linejoin:miter;stroke-opacity:1\"/>\n",
       "<path class=\"bond-7\" d=\"M 122.348,90.7606 L 122.215,85.7983\" style=\"fill:none;fill-rule:evenodd;stroke:#FF0000;stroke-width:2.0px;stroke-linecap:butt;stroke-linejoin:miter;stroke-opacity:1\"/>\n",
       "<path class=\"bond-8\" d=\"M 122.617,100.82 L 122.75,105.76\" style=\"fill:none;fill-rule:evenodd;stroke:#CCCC00;stroke-width:2.0px;stroke-linecap:butt;stroke-linejoin:miter;stroke-opacity:1\"/>\n",
       "<path class=\"bond-8\" d=\"M 122.75,105.76 L 122.882,110.7\" style=\"fill:none;fill-rule:evenodd;stroke:#FF0000;stroke-width:2.0px;stroke-linecap:butt;stroke-linejoin:miter;stroke-opacity:1\"/>\n",
       "<path class=\"bond-8\" d=\"M 125.606,100.74 L 125.738,105.68\" style=\"fill:none;fill-rule:evenodd;stroke:#CCCC00;stroke-width:2.0px;stroke-linecap:butt;stroke-linejoin:miter;stroke-opacity:1\"/>\n",
       "<path class=\"bond-8\" d=\"M 125.738,105.68 L 125.87,110.62\" style=\"fill:none;fill-rule:evenodd;stroke:#FF0000;stroke-width:2.0px;stroke-linecap:butt;stroke-linejoin:miter;stroke-opacity:1\"/>\n",
       "<path class=\"bond-9\" d=\"M 125.777,98.128 L 132.38,97.9511\" style=\"fill:none;fill-rule:evenodd;stroke:#CCCC00;stroke-width:2.0px;stroke-linecap:butt;stroke-linejoin:miter;stroke-opacity:1\"/>\n",
       "<path class=\"bond-9\" d=\"M 132.38,97.9511 L 138.983,97.7742\" style=\"fill:none;fill-rule:evenodd;stroke:#000000;stroke-width:2.0px;stroke-linecap:butt;stroke-linejoin:miter;stroke-opacity:1\"/>\n",
       "<path class=\"bond-10\" d=\"M 138.983,97.7742 L 146.801,110.514\" style=\"fill:none;fill-rule:evenodd;stroke:#000000;stroke-width:2.0px;stroke-linecap:butt;stroke-linejoin:miter;stroke-opacity:1\"/>\n",
       "<path class=\"bond-10\" d=\"M 142.704,98.1216 L 148.176,107.039\" style=\"fill:none;fill-rule:evenodd;stroke:#000000;stroke-width:2.0px;stroke-linecap:butt;stroke-linejoin:miter;stroke-opacity:1\"/>\n",
       "<path class=\"bond-35\" d=\"M 138.983,97.7742 L 146.107,84.6342\" style=\"fill:none;fill-rule:evenodd;stroke:#000000;stroke-width:2.0px;stroke-linecap:butt;stroke-linejoin:miter;stroke-opacity:1\"/>\n",
       "<path class=\"bond-11\" d=\"M 146.801,110.514 L 161.742,110.113\" style=\"fill:none;fill-rule:evenodd;stroke:#000000;stroke-width:2.0px;stroke-linecap:butt;stroke-linejoin:miter;stroke-opacity:1\"/>\n",
       "<path class=\"bond-12\" d=\"M 161.742,110.113 L 168.866,96.9735\" style=\"fill:none;fill-rule:evenodd;stroke:#000000;stroke-width:2.0px;stroke-linecap:butt;stroke-linejoin:miter;stroke-opacity:1\"/>\n",
       "<path class=\"bond-12\" d=\"M 160.183,106.718 L 165.17,97.5197\" style=\"fill:none;fill-rule:evenodd;stroke:#000000;stroke-width:2.0px;stroke-linecap:butt;stroke-linejoin:miter;stroke-opacity:1\"/>\n",
       "<path class=\"bond-13\" d=\"M 168.866,96.9735 L 183.808,96.5731\" style=\"fill:none;fill-rule:evenodd;stroke:#000000;stroke-width:2.0px;stroke-linecap:butt;stroke-linejoin:miter;stroke-opacity:1\"/>\n",
       "<path class=\"bond-37\" d=\"M 168.866,96.9735 L 161.049,84.2339\" style=\"fill:none;fill-rule:evenodd;stroke:#000000;stroke-width:2.0px;stroke-linecap:butt;stroke-linejoin:miter;stroke-opacity:1\"/>\n",
       "<path class=\"bond-14\" d=\"M 183.808,96.5731 L 190.932,83.4332\" style=\"fill:none;fill-rule:evenodd;stroke:#000000;stroke-width:2.0px;stroke-linecap:butt;stroke-linejoin:miter;stroke-opacity:1\"/>\n",
       "<path class=\"bond-14\" d=\"M 182.249,93.1773 L 187.235,83.9794\" style=\"fill:none;fill-rule:evenodd;stroke:#000000;stroke-width:2.0px;stroke-linecap:butt;stroke-linejoin:miter;stroke-opacity:1\"/>\n",
       "<path class=\"bond-15\" d=\"M 190.932,83.4332 L 183.115,70.6936\" style=\"fill:none;fill-rule:evenodd;stroke:#000000;stroke-width:2.0px;stroke-linecap:butt;stroke-linejoin:miter;stroke-opacity:1\"/>\n",
       "<path class=\"bond-16\" d=\"M 183.115,70.6936 L 168.173,71.0939\" style=\"fill:none;fill-rule:evenodd;stroke:#000000;stroke-width:2.0px;stroke-linecap:butt;stroke-linejoin:miter;stroke-opacity:1\"/>\n",
       "<path class=\"bond-16\" d=\"M 180.953,73.742 L 170.494,74.0222\" style=\"fill:none;fill-rule:evenodd;stroke:#000000;stroke-width:2.0px;stroke-linecap:butt;stroke-linejoin:miter;stroke-opacity:1\"/>\n",
       "<path class=\"bond-17\" d=\"M 168.173,71.0939 L 161.049,84.2339\" style=\"fill:none;fill-rule:evenodd;stroke:#000000;stroke-width:2.0px;stroke-linecap:butt;stroke-linejoin:miter;stroke-opacity:1\"/>\n",
       "<path class=\"bond-18\" d=\"M 161.049,84.2339 L 146.107,84.6342\" style=\"fill:none;fill-rule:evenodd;stroke:#000000;stroke-width:2.0px;stroke-linecap:butt;stroke-linejoin:miter;stroke-opacity:1\"/>\n",
       "<path class=\"bond-18\" d=\"M 158.888,87.2822 L 148.429,87.5625\" style=\"fill:none;fill-rule:evenodd;stroke:#000000;stroke-width:2.0px;stroke-linecap:butt;stroke-linejoin:miter;stroke-opacity:1\"/>\n",
       "<path class=\"bond-20\" d=\"M 100.642,110.898 L 101.042,125.84\" style=\"fill:none;fill-rule:evenodd;stroke:#000000;stroke-width:2.0px;stroke-linecap:butt;stroke-linejoin:miter;stroke-opacity:1\"/>\n",
       "<path class=\"bond-36\" d=\"M 100.642,110.898 L 86.3076,106.662\" style=\"fill:none;fill-rule:evenodd;stroke:#000000;stroke-width:2.0px;stroke-linecap:butt;stroke-linejoin:miter;stroke-opacity:1\"/>\n",
       "<path class=\"bond-39\" d=\"M 104.6,112.588 L 104.882,111.632\" style=\"fill:none;fill-rule:evenodd;stroke:#000000;stroke-width:1.0px;stroke-linecap:butt;stroke-linejoin:miter;stroke-opacity:1\"/>\n",
       "<path class=\"bond-39\" d=\"M 108.558,114.277 L 109.123,112.366\" style=\"fill:none;fill-rule:evenodd;stroke:#000000;stroke-width:1.0px;stroke-linecap:butt;stroke-linejoin:miter;stroke-opacity:1\"/>\n",
       "<path class=\"bond-39\" d=\"M 112.516,115.966 L 113.364,113.1\" style=\"fill:none;fill-rule:evenodd;stroke:#000000;stroke-width:1.0px;stroke-linecap:butt;stroke-linejoin:miter;stroke-opacity:1\"/>\n",
       "<path class=\"bond-21\" d=\"M 101.042,125.84 L 86.9554,130.838\" style=\"fill:none;fill-rule:evenodd;stroke:#000000;stroke-width:2.0px;stroke-linecap:butt;stroke-linejoin:miter;stroke-opacity:1\"/>\n",
       "<path class=\"bond-22\" d=\"M 86.9554,130.838 L 83.3617,126.16\" style=\"fill:none;fill-rule:evenodd;stroke:#000000;stroke-width:2.0px;stroke-linecap:butt;stroke-linejoin:miter;stroke-opacity:1\"/>\n",
       "<path class=\"bond-22\" d=\"M 83.3617,126.16 L 79.768,121.483\" style=\"fill:none;fill-rule:evenodd;stroke:#0000FF;stroke-width:2.0px;stroke-linecap:butt;stroke-linejoin:miter;stroke-opacity:1\"/>\n",
       "<path class=\"bond-23\" d=\"M 75.8644,119.038 L 69.386,119.212\" style=\"fill:none;fill-rule:evenodd;stroke:#0000FF;stroke-width:2.0px;stroke-linecap:butt;stroke-linejoin:miter;stroke-opacity:1\"/>\n",
       "<path class=\"bond-23\" d=\"M 69.386,119.212 L 62.9075,119.385\" style=\"fill:none;fill-rule:evenodd;stroke:#000000;stroke-width:2.0px;stroke-linecap:butt;stroke-linejoin:miter;stroke-opacity:1\"/>\n",
       "<path class=\"bond-33\" d=\"M 79.5634,116.487 L 82.9355,111.574\" style=\"fill:none;fill-rule:evenodd;stroke:#0000FF;stroke-width:2.0px;stroke-linecap:butt;stroke-linejoin:miter;stroke-opacity:1\"/>\n",
       "<path class=\"bond-33\" d=\"M 82.9355,111.574 L 86.3076,106.662\" style=\"fill:none;fill-rule:evenodd;stroke:#000000;stroke-width:2.0px;stroke-linecap:butt;stroke-linejoin:miter;stroke-opacity:1\"/>\n",
       "<path class=\"bond-24\" d=\"M 61.5935,118.673 L 58.7151,123.982\" style=\"fill:none;fill-rule:evenodd;stroke:#000000;stroke-width:2.0px;stroke-linecap:butt;stroke-linejoin:miter;stroke-opacity:1\"/>\n",
       "<path class=\"bond-24\" d=\"M 58.7151,123.982 L 55.8366,129.291\" style=\"fill:none;fill-rule:evenodd;stroke:#FF0000;stroke-width:2.0px;stroke-linecap:butt;stroke-linejoin:miter;stroke-opacity:1\"/>\n",
       "<path class=\"bond-24\" d=\"M 64.2215,120.098 L 61.3431,125.407\" style=\"fill:none;fill-rule:evenodd;stroke:#000000;stroke-width:2.0px;stroke-linecap:butt;stroke-linejoin:miter;stroke-opacity:1\"/>\n",
       "<path class=\"bond-24\" d=\"M 61.3431,125.407 L 58.4646,130.716\" style=\"fill:none;fill-rule:evenodd;stroke:#FF0000;stroke-width:2.0px;stroke-linecap:butt;stroke-linejoin:miter;stroke-opacity:1\"/>\n",
       "<path class=\"bond-25\" d=\"M 62.9075,119.385 L 59.7927,114.309\" style=\"fill:none;fill-rule:evenodd;stroke:#000000;stroke-width:2.0px;stroke-linecap:butt;stroke-linejoin:miter;stroke-opacity:1\"/>\n",
       "<path class=\"bond-25\" d=\"M 59.7927,114.309 L 56.6779,109.233\" style=\"fill:none;fill-rule:evenodd;stroke:#FF0000;stroke-width:2.0px;stroke-linecap:butt;stroke-linejoin:miter;stroke-opacity:1\"/>\n",
       "<path class=\"bond-26\" d=\"M 52.7664,106.708 L 46.4574,106.877\" style=\"fill:none;fill-rule:evenodd;stroke:#FF0000;stroke-width:2.0px;stroke-linecap:butt;stroke-linejoin:miter;stroke-opacity:1\"/>\n",
       "<path class=\"bond-26\" d=\"M 46.4574,106.877 L 40.1485,107.046\" style=\"fill:none;fill-rule:evenodd;stroke:#000000;stroke-width:2.0px;stroke-linecap:butt;stroke-linejoin:miter;stroke-opacity:1\"/>\n",
       "<path class=\"bond-27\" d=\"M 40.1485,107.046 L 32.331,94.3064\" style=\"fill:none;fill-rule:evenodd;stroke:#000000;stroke-width:2.0px;stroke-linecap:butt;stroke-linejoin:miter;stroke-opacity:1\"/>\n",
       "<path class=\"bond-28\" d=\"M 32.331,94.3064 L 39.4551,81.1665\" style=\"fill:none;fill-rule:evenodd;stroke:#000000;stroke-width:2.0px;stroke-linecap:butt;stroke-linejoin:miter;stroke-opacity:1\"/>\n",
       "<path class=\"bond-28\" d=\"M 30.7716,90.9106 L 35.7585,81.7127\" style=\"fill:none;fill-rule:evenodd;stroke:#000000;stroke-width:2.0px;stroke-linecap:butt;stroke-linejoin:miter;stroke-opacity:1\"/>\n",
       "<path class=\"bond-38\" d=\"M 32.331,94.3064 L 17.3895,94.7067\" style=\"fill:none;fill-rule:evenodd;stroke:#000000;stroke-width:2.0px;stroke-linecap:butt;stroke-linejoin:miter;stroke-opacity:1\"/>\n",
       "<path class=\"bond-29\" d=\"M 39.4551,81.1665 L 31.6376,68.4269\" style=\"fill:none;fill-rule:evenodd;stroke:#000000;stroke-width:2.0px;stroke-linecap:butt;stroke-linejoin:miter;stroke-opacity:1\"/>\n",
       "<path class=\"bond-30\" d=\"M 31.6376,68.4269 L 16.6961,68.8272\" style=\"fill:none;fill-rule:evenodd;stroke:#000000;stroke-width:2.0px;stroke-linecap:butt;stroke-linejoin:miter;stroke-opacity:1\"/>\n",
       "<path class=\"bond-30\" d=\"M 29.4764,71.4752 L 19.0174,71.7555\" style=\"fill:none;fill-rule:evenodd;stroke:#000000;stroke-width:2.0px;stroke-linecap:butt;stroke-linejoin:miter;stroke-opacity:1\"/>\n",
       "<path class=\"bond-31\" d=\"M 16.6961,68.8272 L 9.57198,81.9671\" style=\"fill:none;fill-rule:evenodd;stroke:#000000;stroke-width:2.0px;stroke-linecap:butt;stroke-linejoin:miter;stroke-opacity:1\"/>\n",
       "<path class=\"bond-32\" d=\"M 9.57198,81.9671 L 17.3895,94.7067\" style=\"fill:none;fill-rule:evenodd;stroke:#000000;stroke-width:2.0px;stroke-linecap:butt;stroke-linejoin:miter;stroke-opacity:1\"/>\n",
       "<path class=\"bond-32\" d=\"M 13.2925,82.3146 L 18.7648,91.2323\" style=\"fill:none;fill-rule:evenodd;stroke:#000000;stroke-width:2.0px;stroke-linecap:butt;stroke-linejoin:miter;stroke-opacity:1\"/>\n",
       "<path class=\"bond-40\" d=\"M 86.3076,106.662 L 74.433,101.593 L 73.5857,104.46 Z\" style=\"fill:#000000;fill-rule:evenodd;fill-opacity:1;stroke:#000000;stroke-width:2px;stroke-linecap:butt;stroke-linejoin:miter;stroke-opacity:1;\"/>\n",
       "<path class=\"atom-5\" d=\"M 102.28 72.4002 Q 102.28 71.3802, 102.784 70.8102 Q 103.288 70.2402, 104.23 70.2402 Q 105.172 70.2402, 105.676 70.8102 Q 106.18 71.3802, 106.18 72.4002 Q 106.18 73.4322, 105.67 74.0202 Q 105.16 74.6022, 104.23 74.6022 Q 103.294 74.6022, 102.784 74.0202 Q 102.28 73.4382, 102.28 72.4002 M 104.23 74.1222 Q 104.878 74.1222, 105.226 73.6902 Q 105.58 73.2522, 105.58 72.4002 Q 105.58 71.5662, 105.226 71.1462 Q 104.878 70.7202, 104.23 70.7202 Q 103.582 70.7202, 103.228 71.1402 Q 102.88 71.5602, 102.88 72.4002 Q 102.88 73.2582, 103.228 73.6902 Q 103.582 74.1222, 104.23 74.1222 \" fill=\"#FF0000\"/>\n",
       "<path class=\"atom-6\" d=\"M 108.161 96.4508 L 109.553 98.7008 Q 109.691 98.9228, 109.913 99.3248 Q 110.135 99.7268, 110.147 99.7508 L 110.147 96.4508 L 110.711 96.4508 L 110.711 100.699 L 110.129 100.699 L 108.635 98.2388 Q 108.461 97.9508, 108.275 97.6208 Q 108.095 97.2908, 108.041 97.1888 L 108.041 100.699 L 107.489 100.699 L 107.489 96.4508 L 108.161 96.4508 \" fill=\"#0000FF\"/>\n",
       "<path class=\"atom-7\" d=\"M 122.842 99.6325 Q 122.89 99.6505, 123.088 99.7345 Q 123.286 99.8185, 123.502 99.8725 Q 123.724 99.9205, 123.94 99.9205 Q 124.342 99.9205, 124.576 99.7285 Q 124.81 99.5305, 124.81 99.1885 Q 124.81 98.9545, 124.69 98.8105 Q 124.576 98.6665, 124.396 98.5885 Q 124.216 98.5105, 123.916 98.4205 Q 123.538 98.3065, 123.31 98.1985 Q 123.088 98.0905, 122.926 97.8625 Q 122.77 97.6345, 122.77 97.2505 Q 122.77 96.7165, 123.13 96.3865 Q 123.496 96.0565, 124.216 96.0565 Q 124.708 96.0565, 125.266 96.2905 L 125.128 96.7525 Q 124.618 96.5425, 124.234 96.5425 Q 123.82 96.5425, 123.592 96.7165 Q 123.364 96.8845, 123.37 97.1785 Q 123.37 97.4065, 123.484 97.5445 Q 123.604 97.6825, 123.772 97.7605 Q 123.946 97.8385, 124.234 97.9285 Q 124.618 98.0485, 124.846 98.1685 Q 125.074 98.2885, 125.236 98.5345 Q 125.404 98.7745, 125.404 99.1885 Q 125.404 99.7765, 125.008 100.094 Q 124.618 100.406, 123.964 100.406 Q 123.586 100.406, 123.298 100.322 Q 123.016 100.244, 122.68 100.106 L 122.842 99.6325 \" fill=\"#CCCC00\"/>\n",
       "<path class=\"atom-8\" d=\"M 121.691 83.2449 Q 121.691 82.2249, 122.195 81.6549 Q 122.699 81.0849, 123.641 81.0849 Q 124.583 81.0849, 125.087 81.6549 Q 125.591 82.2249, 125.591 83.2449 Q 125.591 84.2769, 125.081 84.8649 Q 124.571 85.4469, 123.641 85.4469 Q 122.705 85.4469, 122.195 84.8649 Q 121.691 84.2829, 121.691 83.2449 M 123.641 84.9669 Q 124.289 84.9669, 124.637 84.5349 Q 124.991 84.0969, 124.991 83.2449 Q 124.991 82.4109, 124.637 81.9909 Q 124.289 81.5649, 123.641 81.5649 Q 122.993 81.5649, 122.639 81.9849 Q 122.291 82.4049, 122.291 83.2449 Q 122.291 84.1029, 122.639 84.5349 Q 122.993 84.9669, 123.641 84.9669 \" fill=\"#FF0000\"/>\n",
       "<path class=\"atom-9\" d=\"M 122.492 113.128 Q 122.492 112.108, 122.996 111.538 Q 123.5 110.968, 124.442 110.968 Q 125.384 110.968, 125.888 111.538 Q 126.392 112.108, 126.392 113.128 Q 126.392 114.16, 125.882 114.748 Q 125.372 115.33, 124.442 115.33 Q 123.506 115.33, 122.996 114.748 Q 122.492 114.166, 122.492 113.128 M 124.442 114.85 Q 125.09 114.85, 125.438 114.418 Q 125.792 113.98, 125.792 113.128 Q 125.792 112.294, 125.438 111.874 Q 125.09 111.448, 124.442 111.448 Q 123.794 111.448, 123.44 111.868 Q 123.092 112.288, 123.092 113.128 Q 123.092 113.986, 123.44 114.418 Q 123.794 114.85, 124.442 114.85 \" fill=\"#FF0000\"/>\n",
       "<path class=\"atom-23\" d=\"M 76.9101 116.861 L 78.3021 119.111 Q 78.4401 119.333, 78.6621 119.735 Q 78.8841 120.137, 78.8961 120.161 L 78.8961 116.861 L 79.4601 116.861 L 79.4601 121.109 L 78.8781 121.109 L 77.3841 118.649 Q 77.2101 118.361, 77.0241 118.031 Q 76.8441 117.701, 76.7901 117.599 L 76.7901 121.109 L 76.2381 121.109 L 76.2381 116.861 L 76.9101 116.861 \" fill=\"#0000FF\"/>\n",
       "<path class=\"atom-25\" d=\"M 53.8334 132.537 Q 53.8334 131.517, 54.3374 130.947 Q 54.8414 130.377, 55.7834 130.377 Q 56.7254 130.377, 57.2294 130.947 Q 57.7334 131.517, 57.7334 132.537 Q 57.7334 133.569, 57.2234 134.157 Q 56.7134 134.739, 55.7834 134.739 Q 54.8474 134.739, 54.3374 134.157 Q 53.8334 133.575, 53.8334 132.537 M 55.7834 134.259 Q 56.4314 134.259, 56.7794 133.827 Q 57.1334 133.389, 57.1334 132.537 Q 57.1334 131.703, 56.7794 131.283 Q 56.4314 130.857, 55.7834 130.857 Q 55.1354 130.857, 54.7814 131.277 Q 54.4334 131.697, 54.4334 132.537 Q 54.4334 133.395, 54.7814 133.827 Q 55.1354 134.259, 55.7834 134.259 \" fill=\"#FF0000\"/>\n",
       "<path class=\"atom-26\" d=\"M 53.14 106.658 Q 53.14 105.638, 53.644 105.068 Q 54.148 104.498, 55.09 104.498 Q 56.032 104.498, 56.536 105.068 Q 57.04 105.638, 57.04 106.658 Q 57.04 107.69, 56.53 108.278 Q 56.02 108.86, 55.09 108.86 Q 54.154 108.86, 53.644 108.278 Q 53.14 107.696, 53.14 106.658 M 55.09 108.38 Q 55.738 108.38, 56.086 107.948 Q 56.44 107.51, 56.44 106.658 Q 56.44 105.824, 56.086 105.404 Q 55.738 104.978, 55.09 104.978 Q 54.442 104.978, 54.088 105.398 Q 53.74 105.818, 53.74 106.658 Q 53.74 107.516, 54.088 107.948 Q 54.442 108.38, 55.09 108.38 \" fill=\"#FF0000\"/>\n",
       "<path class=\"atom-35\" d=\"M 113.314 113.011 L 113.89 113.011 L 113.89 114.817 L 116.062 114.817 L 116.062 113.011 L 116.638 113.011 L 116.638 117.259 L 116.062 117.259 L 116.062 115.297 L 113.89 115.297 L 113.89 117.259 L 113.314 117.259 L 113.314 113.011 \" fill=\"#000000\"/>\n",
       "<path class=\"atom-36\" d=\"M 70.3116 100.301 L 70.8876 100.301 L 70.8876 102.107 L 73.0596 102.107 L 73.0596 100.301 L 73.6356 100.301 L 73.6356 104.549 L 73.0596 104.549 L 73.0596 102.587 L 70.8876 102.587 L 70.8876 104.549 L 70.3116 104.549 L 70.3116 100.301 \" fill=\"#000000\"/>\n",
       "<path class=\"bond-0\" d=\"M 311.443,128.604 L 305.299,114.978\" style=\"fill:none;fill-rule:evenodd;stroke:#000000;stroke-width:2.0px;stroke-linecap:butt;stroke-linejoin:miter;stroke-opacity:1\"/>\n",
       "<path class=\"bond-1\" d=\"M 305.299,114.978 L 290.426,113.487\" style=\"fill:none;fill-rule:evenodd;stroke:#000000;stroke-width:2.0px;stroke-linecap:butt;stroke-linejoin:miter;stroke-opacity:1\"/>\n",
       "<path class=\"bond-1\" d=\"M 303.366,111.78 L 292.956,110.736\" style=\"fill:none;fill-rule:evenodd;stroke:#000000;stroke-width:2.0px;stroke-linecap:butt;stroke-linejoin:miter;stroke-opacity:1\"/>\n",
       "<path class=\"bond-32\" d=\"M 305.299,114.978 L 308.764,110.16\" style=\"fill:none;fill-rule:evenodd;stroke:#000000;stroke-width:2.0px;stroke-linecap:butt;stroke-linejoin:miter;stroke-opacity:1\"/>\n",
       "<path class=\"bond-32\" d=\"M 308.764,110.16 L 312.23,105.342\" style=\"fill:none;fill-rule:evenodd;stroke:#0000FF;stroke-width:2.0px;stroke-linecap:butt;stroke-linejoin:miter;stroke-opacity:1\"/>\n",
       "<path class=\"bond-2\" d=\"M 290.426,113.487 L 281.699,125.621\" style=\"fill:none;fill-rule:evenodd;stroke:#000000;stroke-width:2.0px;stroke-linecap:butt;stroke-linejoin:miter;stroke-opacity:1\"/>\n",
       "<path class=\"bond-4\" d=\"M 290.426,113.487 L 284.282,99.861\" style=\"fill:none;fill-rule:evenodd;stroke:#000000;stroke-width:2.0px;stroke-linecap:butt;stroke-linejoin:miter;stroke-opacity:1\"/>\n",
       "<path class=\"bond-3\" d=\"M 281.699,125.621 L 278.233,130.439\" style=\"fill:none;fill-rule:evenodd;stroke:#000000;stroke-width:2.0px;stroke-linecap:butt;stroke-linejoin:miter;stroke-opacity:1\"/>\n",
       "<path class=\"bond-3\" d=\"M 278.233,130.439 L 274.767,135.257\" style=\"fill:none;fill-rule:evenodd;stroke:#0000FF;stroke-width:2.0px;stroke-linecap:butt;stroke-linejoin:miter;stroke-opacity:1\"/>\n",
       "<path class=\"bond-3\" d=\"M 278.232,125.32 L 275.286,129.416\" style=\"fill:none;fill-rule:evenodd;stroke:#000000;stroke-width:2.0px;stroke-linecap:butt;stroke-linejoin:miter;stroke-opacity:1\"/>\n",
       "<path class=\"bond-3\" d=\"M 275.286,129.416 L 272.34,133.511\" style=\"fill:none;fill-rule:evenodd;stroke:#0000FF;stroke-width:2.0px;stroke-linecap:butt;stroke-linejoin:miter;stroke-opacity:1\"/>\n",
       "<path class=\"bond-3\" d=\"M 283.086,128.812 L 280.14,132.907\" style=\"fill:none;fill-rule:evenodd;stroke:#000000;stroke-width:2.0px;stroke-linecap:butt;stroke-linejoin:miter;stroke-opacity:1\"/>\n",
       "<path class=\"bond-3\" d=\"M 280.14,132.907 L 277.194,137.002\" style=\"fill:none;fill-rule:evenodd;stroke:#0000FF;stroke-width:2.0px;stroke-linecap:butt;stroke-linejoin:miter;stroke-opacity:1\"/>\n",
       "<path class=\"bond-5\" d=\"M 284.282,99.861 L 269.559,96.8822 L 269.261,99.8566 Z\" style=\"fill:#000000;fill-rule:evenodd;fill-opacity:1;stroke:#000000;stroke-width:2px;stroke-linecap:butt;stroke-linejoin:miter;stroke-opacity:1;\"/>\n",
       "<path class=\"bond-17\" d=\"M 284.282,99.861 L 287.748,95.0428\" style=\"fill:none;fill-rule:evenodd;stroke:#000000;stroke-width:2.0px;stroke-linecap:butt;stroke-linejoin:miter;stroke-opacity:1\"/>\n",
       "<path class=\"bond-17\" d=\"M 287.748,95.0428 L 291.213,90.2246\" style=\"fill:none;fill-rule:evenodd;stroke:#0000FF;stroke-width:2.0px;stroke-linecap:butt;stroke-linejoin:miter;stroke-opacity:1\"/>\n",
       "<path class=\"bond-6\" d=\"M 269.41,98.3694 L 260.682,110.503\" style=\"fill:none;fill-rule:evenodd;stroke:#000000;stroke-width:2.0px;stroke-linecap:butt;stroke-linejoin:miter;stroke-opacity:1\"/>\n",
       "<path class=\"bond-6\" d=\"M 265.674,98.4439 L 259.564,106.938\" style=\"fill:none;fill-rule:evenodd;stroke:#000000;stroke-width:2.0px;stroke-linecap:butt;stroke-linejoin:miter;stroke-opacity:1\"/>\n",
       "<path class=\"bond-34\" d=\"M 269.41,98.3694 L 263.265,84.7438\" style=\"fill:none;fill-rule:evenodd;stroke:#000000;stroke-width:2.0px;stroke-linecap:butt;stroke-linejoin:miter;stroke-opacity:1\"/>\n",
       "<path class=\"bond-7\" d=\"M 260.682,110.503 L 245.81,109.012\" style=\"fill:none;fill-rule:evenodd;stroke:#000000;stroke-width:2.0px;stroke-linecap:butt;stroke-linejoin:miter;stroke-opacity:1\"/>\n",
       "<path class=\"bond-8\" d=\"M 245.81,109.012 L 239.665,95.3863\" style=\"fill:none;fill-rule:evenodd;stroke:#000000;stroke-width:2.0px;stroke-linecap:butt;stroke-linejoin:miter;stroke-opacity:1\"/>\n",
       "<path class=\"bond-8\" d=\"M 247.613,105.739 L 243.312,96.2012\" style=\"fill:none;fill-rule:evenodd;stroke:#000000;stroke-width:2.0px;stroke-linecap:butt;stroke-linejoin:miter;stroke-opacity:1\"/>\n",
       "<path class=\"bond-9\" d=\"M 239.665,95.3863 L 224.793,93.8947\" style=\"fill:none;fill-rule:evenodd;stroke:#000000;stroke-width:2.0px;stroke-linecap:butt;stroke-linejoin:miter;stroke-opacity:1\"/>\n",
       "<path class=\"bond-11\" d=\"M 239.665,95.3863 L 248.393,83.2522\" style=\"fill:none;fill-rule:evenodd;stroke:#000000;stroke-width:2.0px;stroke-linecap:butt;stroke-linejoin:miter;stroke-opacity:1\"/>\n",
       "<path class=\"bond-10\" d=\"M 224.793,93.8947 L 218.349,93.2484\" style=\"fill:none;fill-rule:evenodd;stroke:#000000;stroke-width:2.0px;stroke-linecap:butt;stroke-linejoin:miter;stroke-opacity:1\"/>\n",
       "<path class=\"bond-10\" d=\"M 218.349,93.2484 L 211.905,92.6022\" style=\"fill:none;fill-rule:evenodd;stroke:#0000FF;stroke-width:2.0px;stroke-linecap:butt;stroke-linejoin:miter;stroke-opacity:1\"/>\n",
       "<path class=\"bond-10\" d=\"M 223.158,90.7263 L 217.681,90.177\" style=\"fill:none;fill-rule:evenodd;stroke:#000000;stroke-width:2.0px;stroke-linecap:butt;stroke-linejoin:miter;stroke-opacity:1\"/>\n",
       "<path class=\"bond-10\" d=\"M 217.681,90.177 L 212.204,89.6277\" style=\"fill:none;fill-rule:evenodd;stroke:#0000FF;stroke-width:2.0px;stroke-linecap:butt;stroke-linejoin:miter;stroke-opacity:1\"/>\n",
       "<path class=\"bond-10\" d=\"M 222.561,96.6753 L 217.084,96.1259\" style=\"fill:none;fill-rule:evenodd;stroke:#000000;stroke-width:2.0px;stroke-linecap:butt;stroke-linejoin:miter;stroke-opacity:1\"/>\n",
       "<path class=\"bond-10\" d=\"M 217.084,96.1259 L 211.607,95.5766\" style=\"fill:none;fill-rule:evenodd;stroke:#0000FF;stroke-width:2.0px;stroke-linecap:butt;stroke-linejoin:miter;stroke-opacity:1\"/>\n",
       "<path class=\"bond-12\" d=\"M 248.393,83.2522 L 263.265,84.7438\" style=\"fill:none;fill-rule:evenodd;stroke:#000000;stroke-width:2.0px;stroke-linecap:butt;stroke-linejoin:miter;stroke-opacity:1\"/>\n",
       "<path class=\"bond-12\" d=\"M 250.326,86.4504 L 260.736,87.4945\" style=\"fill:none;fill-rule:evenodd;stroke:#000000;stroke-width:2.0px;stroke-linecap:butt;stroke-linejoin:miter;stroke-opacity:1\"/>\n",
       "<path class=\"bond-13\" d=\"M 263.265,84.7438 L 266.761,79.8833\" style=\"fill:none;fill-rule:evenodd;stroke:#000000;stroke-width:2.0px;stroke-linecap:butt;stroke-linejoin:miter;stroke-opacity:1\"/>\n",
       "<path class=\"bond-13\" d=\"M 266.761,79.8833 L 270.258,75.0228\" style=\"fill:none;fill-rule:evenodd;stroke:#CCCC00;stroke-width:2.0px;stroke-linecap:butt;stroke-linejoin:miter;stroke-opacity:1\"/>\n",
       "<path class=\"bond-14\" d=\"M 273.729,70.1968 L 277.225,65.3363\" style=\"fill:none;fill-rule:evenodd;stroke:#CCCC00;stroke-width:2.0px;stroke-linecap:butt;stroke-linejoin:miter;stroke-opacity:1\"/>\n",
       "<path class=\"bond-14\" d=\"M 277.225,65.3363 L 280.721,60.4758\" style=\"fill:none;fill-rule:evenodd;stroke:#000000;stroke-width:2.0px;stroke-linecap:butt;stroke-linejoin:miter;stroke-opacity:1\"/>\n",
       "<path class=\"bond-15\" d=\"M 271.13,70.148 L 267.066,67.2247\" style=\"fill:none;fill-rule:evenodd;stroke:#CCCC00;stroke-width:2.0px;stroke-linecap:butt;stroke-linejoin:miter;stroke-opacity:1\"/>\n",
       "<path class=\"bond-15\" d=\"M 267.066,67.2247 L 263.002,64.3015\" style=\"fill:none;fill-rule:evenodd;stroke:#FF0000;stroke-width:2.0px;stroke-linecap:butt;stroke-linejoin:miter;stroke-opacity:1\"/>\n",
       "<path class=\"bond-15\" d=\"M 269.385,72.5748 L 265.321,69.6515\" style=\"fill:none;fill-rule:evenodd;stroke:#CCCC00;stroke-width:2.0px;stroke-linecap:butt;stroke-linejoin:miter;stroke-opacity:1\"/>\n",
       "<path class=\"bond-15\" d=\"M 265.321,69.6515 L 261.257,66.7283\" style=\"fill:none;fill-rule:evenodd;stroke:#FF0000;stroke-width:2.0px;stroke-linecap:butt;stroke-linejoin:miter;stroke-opacity:1\"/>\n",
       "<path class=\"bond-16\" d=\"M 273.197,74.292 L 276.069,75.8664\" style=\"fill:none;fill-rule:evenodd;stroke:#CCCC00;stroke-width:2.0px;stroke-linecap:butt;stroke-linejoin:miter;stroke-opacity:1\"/>\n",
       "<path class=\"bond-16\" d=\"M 276.069,75.8664 L 278.942,77.4407\" style=\"fill:none;fill-rule:evenodd;stroke:#FF0000;stroke-width:2.0px;stroke-linecap:butt;stroke-linejoin:miter;stroke-opacity:1\"/>\n",
       "<path class=\"bond-16\" d=\"M 274.059,72.7191 L 276.931,74.2935\" style=\"fill:none;fill-rule:evenodd;stroke:#CCCC00;stroke-width:2.0px;stroke-linecap:butt;stroke-linejoin:miter;stroke-opacity:1\"/>\n",
       "<path class=\"bond-16\" d=\"M 276.931,74.2935 L 279.804,75.8678\" style=\"fill:none;fill-rule:evenodd;stroke:#FF0000;stroke-width:2.0px;stroke-linecap:butt;stroke-linejoin:miter;stroke-opacity:1\"/>\n",
       "<path class=\"bond-18\" d=\"M 292.265,85.3306 L 291.02,81.3263\" style=\"fill:none;fill-rule:evenodd;stroke:#0000FF;stroke-width:2.0px;stroke-linecap:butt;stroke-linejoin:miter;stroke-opacity:1\"/>\n",
       "<path class=\"bond-18\" d=\"M 291.02,81.3263 L 289.775,77.322\" style=\"fill:none;fill-rule:evenodd;stroke:#000000;stroke-width:2.0px;stroke-linecap:butt;stroke-linejoin:miter;stroke-opacity:1\"/>\n",
       "<path class=\"bond-19\" d=\"M 294.995,87.926 L 301.438,88.5723\" style=\"fill:none;fill-rule:evenodd;stroke:#0000FF;stroke-width:2.0px;stroke-linecap:butt;stroke-linejoin:miter;stroke-opacity:1\"/>\n",
       "<path class=\"bond-19\" d=\"M 301.438,88.5723 L 307.882,89.2185\" style=\"fill:none;fill-rule:evenodd;stroke:#000000;stroke-width:2.0px;stroke-linecap:butt;stroke-linejoin:miter;stroke-opacity:1\"/>\n",
       "<path class=\"bond-20\" d=\"M 309.096,90.0913 L 312.529,85.3182\" style=\"fill:none;fill-rule:evenodd;stroke:#000000;stroke-width:2.0px;stroke-linecap:butt;stroke-linejoin:miter;stroke-opacity:1\"/>\n",
       "<path class=\"bond-20\" d=\"M 312.529,85.3182 L 315.962,80.545\" style=\"fill:none;fill-rule:evenodd;stroke:#FF0000;stroke-width:2.0px;stroke-linecap:butt;stroke-linejoin:miter;stroke-opacity:1\"/>\n",
       "<path class=\"bond-20\" d=\"M 306.669,88.3458 L 310.102,83.5726\" style=\"fill:none;fill-rule:evenodd;stroke:#000000;stroke-width:2.0px;stroke-linecap:butt;stroke-linejoin:miter;stroke-opacity:1\"/>\n",
       "<path class=\"bond-20\" d=\"M 310.102,83.5726 L 313.535,78.7994\" style=\"fill:none;fill-rule:evenodd;stroke:#FF0000;stroke-width:2.0px;stroke-linecap:butt;stroke-linejoin:miter;stroke-opacity:1\"/>\n",
       "<path class=\"bond-21\" d=\"M 307.882,89.2185 L 310.391,94.7825\" style=\"fill:none;fill-rule:evenodd;stroke:#000000;stroke-width:2.0px;stroke-linecap:butt;stroke-linejoin:miter;stroke-opacity:1\"/>\n",
       "<path class=\"bond-21\" d=\"M 310.391,94.7825 L 312.9,100.346\" style=\"fill:none;fill-rule:evenodd;stroke:#0000FF;stroke-width:2.0px;stroke-linecap:butt;stroke-linejoin:miter;stroke-opacity:1\"/>\n",
       "<path class=\"bond-22\" d=\"M 316.011,103.043 L 322.455,103.689\" style=\"fill:none;fill-rule:evenodd;stroke:#0000FF;stroke-width:2.0px;stroke-linecap:butt;stroke-linejoin:miter;stroke-opacity:1\"/>\n",
       "<path class=\"bond-22\" d=\"M 322.455,103.689 L 328.899,104.336\" style=\"fill:none;fill-rule:evenodd;stroke:#000000;stroke-width:2.0px;stroke-linecap:butt;stroke-linejoin:miter;stroke-opacity:1\"/>\n",
       "<path class=\"bond-23\" d=\"M 328.899,104.336 L 335.043,117.961\" style=\"fill:none;fill-rule:evenodd;stroke:#000000;stroke-width:2.0px;stroke-linecap:butt;stroke-linejoin:miter;stroke-opacity:1\"/>\n",
       "<path class=\"bond-23\" d=\"M 332.546,105.151 L 336.847,114.689\" style=\"fill:none;fill-rule:evenodd;stroke:#000000;stroke-width:2.0px;stroke-linecap:butt;stroke-linejoin:miter;stroke-opacity:1\"/>\n",
       "<path class=\"bond-33\" d=\"M 328.899,104.336 L 337.627,92.2017\" style=\"fill:none;fill-rule:evenodd;stroke:#000000;stroke-width:2.0px;stroke-linecap:butt;stroke-linejoin:miter;stroke-opacity:1\"/>\n",
       "<path class=\"bond-24\" d=\"M 335.043,117.961 L 349.916,119.453\" style=\"fill:none;fill-rule:evenodd;stroke:#000000;stroke-width:2.0px;stroke-linecap:butt;stroke-linejoin:miter;stroke-opacity:1\"/>\n",
       "<path class=\"bond-25\" d=\"M 349.916,119.453 L 358.644,107.319\" style=\"fill:none;fill-rule:evenodd;stroke:#000000;stroke-width:2.0px;stroke-linecap:butt;stroke-linejoin:miter;stroke-opacity:1\"/>\n",
       "<path class=\"bond-25\" d=\"M 348.798,115.887 L 354.908,107.393\" style=\"fill:none;fill-rule:evenodd;stroke:#000000;stroke-width:2.0px;stroke-linecap:butt;stroke-linejoin:miter;stroke-opacity:1\"/>\n",
       "<path class=\"bond-26\" d=\"M 358.644,107.319 L 352.499,93.6933\" style=\"fill:none;fill-rule:evenodd;stroke:#000000;stroke-width:2.0px;stroke-linecap:butt;stroke-linejoin:miter;stroke-opacity:1\"/>\n",
       "<path class=\"bond-27\" d=\"M 352.499,93.6933 L 361.227,81.5593\" style=\"fill:none;fill-rule:evenodd;stroke:#000000;stroke-width:2.0px;stroke-linecap:butt;stroke-linejoin:miter;stroke-opacity:1\"/>\n",
       "<path class=\"bond-31\" d=\"M 352.499,93.6933 L 337.627,92.2017\" style=\"fill:none;fill-rule:evenodd;stroke:#000000;stroke-width:2.0px;stroke-linecap:butt;stroke-linejoin:miter;stroke-opacity:1\"/>\n",
       "<path class=\"bond-31\" d=\"M 349.97,96.444 L 339.559,95.3999\" style=\"fill:none;fill-rule:evenodd;stroke:#000000;stroke-width:2.0px;stroke-linecap:butt;stroke-linejoin:miter;stroke-opacity:1\"/>\n",
       "<path class=\"bond-28\" d=\"M 361.227,81.5593 L 364.773,76.63\" style=\"fill:none;fill-rule:evenodd;stroke:#000000;stroke-width:2.0px;stroke-linecap:butt;stroke-linejoin:miter;stroke-opacity:1\"/>\n",
       "<path class=\"bond-28\" d=\"M 364.773,76.63 L 368.318,71.7006\" style=\"fill:none;fill-rule:evenodd;stroke:#33CCCC;stroke-width:2.0px;stroke-linecap:butt;stroke-linejoin:miter;stroke-opacity:1\"/>\n",
       "<path class=\"bond-29\" d=\"M 361.227,81.5593 L 366.476,85.3346\" style=\"fill:none;fill-rule:evenodd;stroke:#000000;stroke-width:2.0px;stroke-linecap:butt;stroke-linejoin:miter;stroke-opacity:1\"/>\n",
       "<path class=\"bond-29\" d=\"M 366.476,85.3346 L 371.724,89.1099\" style=\"fill:none;fill-rule:evenodd;stroke:#33CCCC;stroke-width:2.0px;stroke-linecap:butt;stroke-linejoin:miter;stroke-opacity:1\"/>\n",
       "<path class=\"bond-30\" d=\"M 361.227,81.5593 L 355.978,77.7839\" style=\"fill:none;fill-rule:evenodd;stroke:#000000;stroke-width:2.0px;stroke-linecap:butt;stroke-linejoin:miter;stroke-opacity:1\"/>\n",
       "<path class=\"bond-30\" d=\"M 355.978,77.7839 L 350.73,74.0086\" style=\"fill:none;fill-rule:evenodd;stroke:#33CCCC;stroke-width:2.0px;stroke-linecap:butt;stroke-linejoin:miter;stroke-opacity:1\"/>\n",
       "<path class=\"atom-4\" d=\"M 272.032 135.631 L 273.424 137.881 Q 273.562 138.103, 273.784 138.505 Q 274.006 138.907, 274.018 138.931 L 274.018 135.631 L 274.582 135.631 L 274.582 139.879 L 274 139.879 L 272.506 137.419 Q 272.332 137.131, 272.146 136.801 Q 271.966 136.471, 271.912 136.369 L 271.912 139.879 L 271.36 139.879 L 271.36 135.631 L 272.032 135.631 \" fill=\"#0000FF\"/>\n",
       "<path class=\"atom-11\" d=\"M 208.982 90.2791 L 210.374 92.5291 Q 210.512 92.7511, 210.734 93.1531 Q 210.956 93.5551, 210.968 93.5791 L 210.968 90.2791 L 211.532 90.2791 L 211.532 94.5271 L 210.95 94.5271 L 209.456 92.0671 Q 209.282 91.7791, 209.096 91.4491 Q 208.916 91.1191, 208.862 91.0171 L 208.862 94.5271 L 208.31 94.5271 L 208.31 90.2791 L 208.982 90.2791 \" fill=\"#0000FF\"/>\n",
       "<path class=\"atom-14\" d=\"M 270.793 74.0678 Q 270.841 74.0858, 271.039 74.1698 Q 271.237 74.2538, 271.453 74.3078 Q 271.675 74.3558, 271.891 74.3558 Q 272.293 74.3558, 272.527 74.1638 Q 272.761 73.9658, 272.761 73.6238 Q 272.761 73.3898, 272.641 73.2458 Q 272.527 73.1018, 272.347 73.0238 Q 272.167 72.9458, 271.867 72.8558 Q 271.489 72.7418, 271.261 72.6338 Q 271.039 72.5258, 270.877 72.2978 Q 270.721 72.0698, 270.721 71.6858 Q 270.721 71.1518, 271.081 70.8218 Q 271.447 70.4918, 272.167 70.4918 Q 272.659 70.4918, 273.217 70.7258 L 273.079 71.1878 Q 272.569 70.9778, 272.185 70.9778 Q 271.771 70.9778, 271.543 71.1518 Q 271.315 71.3198, 271.321 71.6138 Q 271.321 71.8418, 271.435 71.9798 Q 271.555 72.1178, 271.723 72.1958 Q 271.897 72.2738, 272.185 72.3638 Q 272.569 72.4838, 272.797 72.6038 Q 273.025 72.7238, 273.187 72.9698 Q 273.355 73.2098, 273.355 73.6238 Q 273.355 74.2118, 272.959 74.5298 Q 272.569 74.8418, 271.915 74.8418 Q 271.537 74.8418, 271.249 74.7578 Q 270.967 74.6798, 270.631 74.5418 L 270.793 74.0678 \" fill=\"#CCCC00\"/>\n",
       "<path class=\"atom-16\" d=\"M 257.909 63.8939 Q 257.909 62.8739, 258.413 62.3039 Q 258.917 61.7339, 259.859 61.7339 Q 260.801 61.7339, 261.305 62.3039 Q 261.809 62.8739, 261.809 63.8939 Q 261.809 64.9259, 261.299 65.5139 Q 260.789 66.0959, 259.859 66.0959 Q 258.923 66.0959, 258.413 65.5139 Q 257.909 64.9319, 257.909 63.8939 M 259.859 65.6159 Q 260.507 65.6159, 260.855 65.1839 Q 261.209 64.7459, 261.209 63.8939 Q 261.209 63.0599, 260.855 62.6399 Q 260.507 62.2139, 259.859 62.2139 Q 259.211 62.2139, 258.857 62.6339 Q 258.509 63.0539, 258.509 63.8939 Q 258.509 64.7519, 258.857 65.1839 Q 259.211 65.6159, 259.859 65.6159 \" fill=\"#FF0000\"/>\n",
       "<path class=\"atom-17\" d=\"M 279.599 77.8587 Q 279.599 76.8387, 280.103 76.2687 Q 280.607 75.6987, 281.549 75.6987 Q 282.491 75.6987, 282.995 76.2687 Q 283.499 76.8387, 283.499 77.8587 Q 283.499 78.8907, 282.989 79.4787 Q 282.479 80.0607, 281.549 80.0607 Q 280.613 80.0607, 280.103 79.4787 Q 279.599 78.8967, 279.599 77.8587 M 281.549 79.5807 Q 282.197 79.5807, 282.545 79.1487 Q 282.899 78.7107, 282.899 77.8587 Q 282.899 77.0247, 282.545 76.6047 Q 282.197 76.1787, 281.549 76.1787 Q 280.901 76.1787, 280.547 76.5987 Q 280.199 77.0187, 280.199 77.8587 Q 280.199 78.7167, 280.547 79.1487 Q 280.901 79.5807, 281.549 79.5807 \" fill=\"#FF0000\"/>\n",
       "<path class=\"atom-18\" d=\"M 292.071 85.603 L 293.463 87.853 Q 293.601 88.075, 293.823 88.477 Q 294.045 88.879, 294.057 88.903 L 294.057 85.603 L 294.621 85.603 L 294.621 89.851 L 294.039 89.851 L 292.545 87.391 Q 292.371 87.103, 292.185 86.773 Q 292.005 86.443, 291.951 86.341 L 291.951 89.851 L 291.399 89.851 L 291.399 85.603 L 292.071 85.603 \" fill=\"#0000FF\"/>\n",
       "<path class=\"atom-21\" d=\"M 314.66 77.0965 Q 314.66 76.0765, 315.164 75.5065 Q 315.668 74.9365, 316.61 74.9365 Q 317.552 74.9365, 318.056 75.5065 Q 318.56 76.0765, 318.56 77.0965 Q 318.56 78.1285, 318.05 78.7165 Q 317.54 79.2985, 316.61 79.2985 Q 315.674 79.2985, 315.164 78.7165 Q 314.66 78.1345, 314.66 77.0965 M 316.61 78.8185 Q 317.258 78.8185, 317.606 78.3865 Q 317.96 77.9485, 317.96 77.0965 Q 317.96 76.2625, 317.606 75.8425 Q 317.258 75.4165, 316.61 75.4165 Q 315.962 75.4165, 315.608 75.8365 Q 315.26 76.2565, 315.26 77.0965 Q 315.26 77.9545, 315.608 78.3865 Q 315.962 78.8185, 316.61 78.8185 \" fill=\"#FF0000\"/>\n",
       "<path class=\"atom-22\" d=\"M 313.088 100.72 L 314.48 102.97 Q 314.618 103.192, 314.84 103.594 Q 315.062 103.996, 315.074 104.02 L 315.074 100.72 L 315.638 100.72 L 315.638 104.968 L 315.056 104.968 L 313.562 102.508 Q 313.388 102.22, 313.202 101.89 Q 313.022 101.56, 312.968 101.458 L 312.968 104.968 L 312.416 104.968 L 312.416 100.72 L 313.088 100.72 \" fill=\"#0000FF\"/>\n",
       "<path class=\"atom-29\" d=\"M 368.692 67.3012 L 371.218 67.3012 L 371.218 67.7872 L 369.262 67.7872 L 369.262 69.0772 L 371.002 69.0772 L 371.002 69.5692 L 369.262 69.5692 L 369.262 71.5492 L 368.692 71.5492 L 368.692 67.3012 \" fill=\"#33CCCC\"/>\n",
       "<path class=\"atom-30\" d=\"M 372.098 88.1632 L 374.624 88.1632 L 374.624 88.6492 L 372.668 88.6492 L 372.668 89.9392 L 374.408 89.9392 L 374.408 90.4312 L 372.668 90.4312 L 372.668 92.4112 L 372.098 92.4112 L 372.098 88.1632 \" fill=\"#33CCCC\"/>\n",
       "<path class=\"atom-31\" d=\"M 347.83 70.7074 L 350.356 70.7074 L 350.356 71.1934 L 348.4 71.1934 L 348.4 72.4834 L 350.14 72.4834 L 350.14 72.9754 L 348.4 72.9754 L 348.4 74.9554 L 347.83 74.9554 L 347.83 70.7074 \" fill=\"#33CCCC\"/>\n",
       "<path class=\"bond-0\" d=\"M 481.894,59.7748 L 479.604,74.5452\" style=\"fill:none;fill-rule:evenodd;stroke:#000000;stroke-width:2.0px;stroke-linecap:butt;stroke-linejoin:miter;stroke-opacity:1\"/>\n",
       "<path class=\"bond-1\" d=\"M 479.604,74.5452 L 473.503,76.9097\" style=\"fill:none;fill-rule:evenodd;stroke:#000000;stroke-width:2.0px;stroke-linecap:butt;stroke-linejoin:miter;stroke-opacity:1\"/>\n",
       "<path class=\"bond-1\" d=\"M 473.503,76.9097 L 467.403,79.2742\" style=\"fill:none;fill-rule:evenodd;stroke:#CCCC00;stroke-width:2.0px;stroke-linecap:butt;stroke-linejoin:miter;stroke-opacity:1\"/>\n",
       "<path class=\"bond-9\" d=\"M 479.604,74.5452 L 491.25,83.9139\" style=\"fill:none;fill-rule:evenodd;stroke:#000000;stroke-width:2.0px;stroke-linecap:butt;stroke-linejoin:miter;stroke-opacity:1\"/>\n",
       "<path class=\"bond-2\" d=\"M 465.263,82.5526 L 464.32,88.635\" style=\"fill:none;fill-rule:evenodd;stroke:#CCCC00;stroke-width:2.0px;stroke-linecap:butt;stroke-linejoin:miter;stroke-opacity:1\"/>\n",
       "<path class=\"bond-2\" d=\"M 464.32,88.635 L 463.377,94.7174\" style=\"fill:none;fill-rule:evenodd;stroke:#000000;stroke-width:2.0px;stroke-linecap:butt;stroke-linejoin:miter;stroke-opacity:1\"/>\n",
       "<path class=\"bond-3\" d=\"M 462.44,95.882 L 467.101,99.6317\" style=\"fill:none;fill-rule:evenodd;stroke:#000000;stroke-width:2.0px;stroke-linecap:butt;stroke-linejoin:miter;stroke-opacity:1\"/>\n",
       "<path class=\"bond-3\" d=\"M 467.101,99.6317 L 471.763,103.381\" style=\"fill:none;fill-rule:evenodd;stroke:#FF0000;stroke-width:2.0px;stroke-linecap:butt;stroke-linejoin:miter;stroke-opacity:1\"/>\n",
       "<path class=\"bond-3\" d=\"M 464.314,93.5527 L 468.975,97.3025\" style=\"fill:none;fill-rule:evenodd;stroke:#000000;stroke-width:2.0px;stroke-linecap:butt;stroke-linejoin:miter;stroke-opacity:1\"/>\n",
       "<path class=\"bond-3\" d=\"M 468.975,97.3025 L 473.636,101.052\" style=\"fill:none;fill-rule:evenodd;stroke:#FF0000;stroke-width:2.0px;stroke-linecap:butt;stroke-linejoin:miter;stroke-opacity:1\"/>\n",
       "<path class=\"bond-4\" d=\"M 463.377,94.7174 L 449.44,100.119\" style=\"fill:none;fill-rule:evenodd;stroke:#000000;stroke-width:2.0px;stroke-linecap:butt;stroke-linejoin:miter;stroke-opacity:1\"/>\n",
       "<path class=\"bond-5\" d=\"M 449.44,100.119 L 445.619,114.569\" style=\"fill:none;fill-rule:evenodd;stroke:#000000;stroke-width:2.0px;stroke-linecap:butt;stroke-linejoin:miter;stroke-opacity:1\"/>\n",
       "<path class=\"bond-5\" d=\"M 445.977,101.522 L 443.302,111.637\" style=\"fill:none;fill-rule:evenodd;stroke:#000000;stroke-width:2.0px;stroke-linecap:butt;stroke-linejoin:miter;stroke-opacity:1\"/>\n",
       "<path class=\"bond-23\" d=\"M 449.44,100.119 L 444.027,96.6287\" style=\"fill:none;fill-rule:evenodd;stroke:#000000;stroke-width:2.0px;stroke-linecap:butt;stroke-linejoin:miter;stroke-opacity:1\"/>\n",
       "<path class=\"bond-23\" d=\"M 444.027,96.6287 L 438.614,93.1383\" style=\"fill:none;fill-rule:evenodd;stroke:#CCCC00;stroke-width:2.0px;stroke-linecap:butt;stroke-linejoin:miter;stroke-opacity:1\"/>\n",
       "<path class=\"bond-6\" d=\"M 445.619,114.569 L 430.695,115.4\" style=\"fill:none;fill-rule:evenodd;stroke:#000000;stroke-width:2.0px;stroke-linecap:butt;stroke-linejoin:miter;stroke-opacity:1\"/>\n",
       "<path class=\"bond-7\" d=\"M 430.695,115.4 L 425.293,101.463\" style=\"fill:none;fill-rule:evenodd;stroke:#000000;stroke-width:2.0px;stroke-linecap:butt;stroke-linejoin:miter;stroke-opacity:1\"/>\n",
       "<path class=\"bond-7\" d=\"M 432.672,112.229 L 428.891,102.473\" style=\"fill:none;fill-rule:evenodd;stroke:#000000;stroke-width:2.0px;stroke-linecap:butt;stroke-linejoin:miter;stroke-opacity:1\"/>\n",
       "<path class=\"bond-8\" d=\"M 425.293,101.463 L 430.218,97.4486\" style=\"fill:none;fill-rule:evenodd;stroke:#000000;stroke-width:2.0px;stroke-linecap:butt;stroke-linejoin:miter;stroke-opacity:1\"/>\n",
       "<path class=\"bond-8\" d=\"M 430.218,97.4486 L 435.143,93.434\" style=\"fill:none;fill-rule:evenodd;stroke:#CCCC00;stroke-width:2.0px;stroke-linecap:butt;stroke-linejoin:miter;stroke-opacity:1\"/>\n",
       "<path class=\"bond-10\" d=\"M 489.773,83.6849 L 488.824,89.8092\" style=\"fill:none;fill-rule:evenodd;stroke:#000000;stroke-width:2.0px;stroke-linecap:butt;stroke-linejoin:miter;stroke-opacity:1\"/>\n",
       "<path class=\"bond-10\" d=\"M 488.824,89.8092 L 487.874,95.9336\" style=\"fill:none;fill-rule:evenodd;stroke:#FF0000;stroke-width:2.0px;stroke-linecap:butt;stroke-linejoin:miter;stroke-opacity:1\"/>\n",
       "<path class=\"bond-10\" d=\"M 492.727,84.1429 L 491.778,90.2673\" style=\"fill:none;fill-rule:evenodd;stroke:#000000;stroke-width:2.0px;stroke-linecap:butt;stroke-linejoin:miter;stroke-opacity:1\"/>\n",
       "<path class=\"bond-10\" d=\"M 491.778,90.2673 L 490.828,96.3917\" style=\"fill:none;fill-rule:evenodd;stroke:#FF0000;stroke-width:2.0px;stroke-linecap:butt;stroke-linejoin:miter;stroke-opacity:1\"/>\n",
       "<path class=\"bond-11\" d=\"M 491.25,83.9139 L 497.226,81.5976\" style=\"fill:none;fill-rule:evenodd;stroke:#000000;stroke-width:2.0px;stroke-linecap:butt;stroke-linejoin:miter;stroke-opacity:1\"/>\n",
       "<path class=\"bond-11\" d=\"M 497.226,81.5976 L 503.202,79.2814\" style=\"fill:none;fill-rule:evenodd;stroke:#0000FF;stroke-width:2.0px;stroke-linecap:butt;stroke-linejoin:miter;stroke-opacity:1\"/>\n",
       "<path class=\"bond-12\" d=\"M 507.172,80.1087 L 512.003,83.9948\" style=\"fill:none;fill-rule:evenodd;stroke:#0000FF;stroke-width:2.0px;stroke-linecap:butt;stroke-linejoin:miter;stroke-opacity:1\"/>\n",
       "<path class=\"bond-12\" d=\"M 512.003,83.9948 L 516.833,87.8808\" style=\"fill:none;fill-rule:evenodd;stroke:#000000;stroke-width:2.0px;stroke-linecap:butt;stroke-linejoin:miter;stroke-opacity:1\"/>\n",
       "<path class=\"bond-13\" d=\"M 516.833,87.8808 L 530.77,82.4791\" style=\"fill:none;fill-rule:evenodd;stroke:#000000;stroke-width:2.0px;stroke-linecap:butt;stroke-linejoin:miter;stroke-opacity:1\"/>\n",
       "<path class=\"bond-14\" d=\"M 532.247,82.7081 L 533.192,76.6167\" style=\"fill:none;fill-rule:evenodd;stroke:#000000;stroke-width:2.0px;stroke-linecap:butt;stroke-linejoin:miter;stroke-opacity:1\"/>\n",
       "<path class=\"bond-14\" d=\"M 533.192,76.6167 L 534.136,70.5254\" style=\"fill:none;fill-rule:evenodd;stroke:#FF0000;stroke-width:2.0px;stroke-linecap:butt;stroke-linejoin:miter;stroke-opacity:1\"/>\n",
       "<path class=\"bond-14\" d=\"M 529.293,82.2501 L 530.238,76.1587\" style=\"fill:none;fill-rule:evenodd;stroke:#000000;stroke-width:2.0px;stroke-linecap:butt;stroke-linejoin:miter;stroke-opacity:1\"/>\n",
       "<path class=\"bond-14\" d=\"M 530.238,76.1587 L 531.182,70.0673\" style=\"fill:none;fill-rule:evenodd;stroke:#FF0000;stroke-width:2.0px;stroke-linecap:butt;stroke-linejoin:miter;stroke-opacity:1\"/>\n",
       "<path class=\"bond-15\" d=\"M 530.77,82.4791 L 535.601,86.3652\" style=\"fill:none;fill-rule:evenodd;stroke:#000000;stroke-width:2.0px;stroke-linecap:butt;stroke-linejoin:miter;stroke-opacity:1\"/>\n",
       "<path class=\"bond-15\" d=\"M 535.601,86.3652 L 540.432,90.2512\" style=\"fill:none;fill-rule:evenodd;stroke:#0000FF;stroke-width:2.0px;stroke-linecap:butt;stroke-linejoin:miter;stroke-opacity:1\"/>\n",
       "<path class=\"bond-16\" d=\"M 544.401,91.3091 L 550.621,89.6207\" style=\"fill:none;fill-rule:evenodd;stroke:#0000FF;stroke-width:2.0px;stroke-linecap:butt;stroke-linejoin:miter;stroke-opacity:1\"/>\n",
       "<path class=\"bond-16\" d=\"M 550.621,89.6207 L 556.841,87.9324\" style=\"fill:none;fill-rule:evenodd;stroke:#000000;stroke-width:2.0px;stroke-linecap:butt;stroke-linejoin:miter;stroke-opacity:1\"/>\n",
       "<path class=\"bond-24\" d=\"M 542.294,94.3454 L 541.988,100.561\" style=\"fill:none;fill-rule:evenodd;stroke:#0000FF;stroke-width:2.0px;stroke-linecap:butt;stroke-linejoin:miter;stroke-opacity:1\"/>\n",
       "<path class=\"bond-24\" d=\"M 541.988,100.561 L 541.683,106.777\" style=\"fill:none;fill-rule:evenodd;stroke:#000000;stroke-width:2.0px;stroke-linecap:butt;stroke-linejoin:miter;stroke-opacity:1\"/>\n",
       "<path class=\"bond-17\" d=\"M 556.841,87.9324 L 560.117,92.9411\" style=\"fill:none;fill-rule:evenodd;stroke:#000000;stroke-width:2.0px;stroke-linecap:butt;stroke-linejoin:miter;stroke-opacity:1\"/>\n",
       "<path class=\"bond-17\" d=\"M 560.117,92.9411 L 563.393,97.9498\" style=\"fill:none;fill-rule:evenodd;stroke:#CCCC00;stroke-width:2.0px;stroke-linecap:butt;stroke-linejoin:miter;stroke-opacity:1\"/>\n",
       "<path class=\"bond-18\" d=\"M 563.287,102.599 L 559.471,107.343\" style=\"fill:none;fill-rule:evenodd;stroke:#CCCC00;stroke-width:2.0px;stroke-linecap:butt;stroke-linejoin:miter;stroke-opacity:1\"/>\n",
       "<path class=\"bond-18\" d=\"M 559.471,107.343 L 555.654,112.088\" style=\"fill:none;fill-rule:evenodd;stroke:#000000;stroke-width:2.0px;stroke-linecap:butt;stroke-linejoin:miter;stroke-opacity:1\"/>\n",
       "<path class=\"bond-19\" d=\"M 555.654,112.088 L 541.683,106.777\" style=\"fill:none;fill-rule:evenodd;stroke:#000000;stroke-width:2.0px;stroke-linecap:butt;stroke-linejoin:miter;stroke-opacity:1\"/>\n",
       "<path class=\"bond-20\" d=\"M 541.683,106.777 L 529.174,114.958\" style=\"fill:none;fill-rule:evenodd;stroke:#000000;stroke-width:2.0px;stroke-linecap:butt;stroke-linejoin:miter;stroke-opacity:1\"/>\n",
       "<path class=\"bond-21\" d=\"M 529.848,113.624 L 524.34,110.84\" style=\"fill:none;fill-rule:evenodd;stroke:#000000;stroke-width:2.0px;stroke-linecap:butt;stroke-linejoin:miter;stroke-opacity:1\"/>\n",
       "<path class=\"bond-21\" d=\"M 524.34,110.84 L 518.832,108.056\" style=\"fill:none;fill-rule:evenodd;stroke:#FF0000;stroke-width:2.0px;stroke-linecap:butt;stroke-linejoin:miter;stroke-opacity:1\"/>\n",
       "<path class=\"bond-21\" d=\"M 528.499,116.292 L 522.991,113.508\" style=\"fill:none;fill-rule:evenodd;stroke:#000000;stroke-width:2.0px;stroke-linecap:butt;stroke-linejoin:miter;stroke-opacity:1\"/>\n",
       "<path class=\"bond-21\" d=\"M 522.991,113.508 L 517.483,110.724\" style=\"fill:none;fill-rule:evenodd;stroke:#FF0000;stroke-width:2.0px;stroke-linecap:butt;stroke-linejoin:miter;stroke-opacity:1\"/>\n",
       "<path class=\"bond-22\" d=\"M 529.174,114.958 L 529.519,121.159\" style=\"fill:none;fill-rule:evenodd;stroke:#000000;stroke-width:2.0px;stroke-linecap:butt;stroke-linejoin:miter;stroke-opacity:1\"/>\n",
       "<path class=\"bond-22\" d=\"M 529.519,121.159 L 529.864,127.36\" style=\"fill:none;fill-rule:evenodd;stroke:#FF0000;stroke-width:2.0px;stroke-linecap:butt;stroke-linejoin:miter;stroke-opacity:1\"/>\n",
       "<path class=\"atom-2\" d=\"M 464.467 81.405 Q 464.515 81.423, 464.713 81.507 Q 464.911 81.591, 465.127 81.645 Q 465.349 81.693, 465.565 81.693 Q 465.967 81.693, 466.201 81.501 Q 466.435 81.303, 466.435 80.961 Q 466.435 80.727, 466.315 80.583 Q 466.201 80.439, 466.021 80.361 Q 465.841 80.283, 465.541 80.193 Q 465.163 80.079, 464.935 79.971 Q 464.713 79.863, 464.551 79.635 Q 464.395 79.407, 464.395 79.023 Q 464.395 78.489, 464.755 78.159 Q 465.121 77.829, 465.841 77.829 Q 466.333 77.829, 466.891 78.063 L 466.753 78.525 Q 466.243 78.315, 465.859 78.315 Q 465.445 78.315, 465.217 78.489 Q 464.989 78.657, 464.995 78.951 Q 464.995 79.179, 465.109 79.317 Q 465.229 79.455, 465.397 79.533 Q 465.571 79.611, 465.859 79.701 Q 466.243 79.821, 466.471 79.941 Q 466.699 80.061, 466.861 80.307 Q 467.029 80.547, 467.029 80.961 Q 467.029 81.549, 466.633 81.867 Q 466.243 82.179, 465.589 82.179 Q 465.211 82.179, 464.923 82.095 Q 464.641 82.017, 464.305 81.879 L 464.467 81.405 \" fill=\"#CCCC00\"/>\n",
       "<path class=\"atom-4\" d=\"M 473.073 104.098 Q 473.073 103.078, 473.577 102.508 Q 474.081 101.938, 475.023 101.938 Q 475.965 101.938, 476.469 102.508 Q 476.973 103.078, 476.973 104.098 Q 476.973 105.13, 476.463 105.718 Q 475.953 106.3, 475.023 106.3 Q 474.087 106.3, 473.577 105.718 Q 473.073 105.136, 473.073 104.098 M 475.023 105.82 Q 475.671 105.82, 476.019 105.388 Q 476.373 104.95, 476.373 104.098 Q 476.373 103.264, 476.019 102.844 Q 475.671 102.418, 475.023 102.418 Q 474.375 102.418, 474.021 102.838 Q 473.673 103.258, 473.673 104.098 Q 473.673 104.956, 474.021 105.388 Q 474.375 105.82, 475.023 105.82 \" fill=\"#FF0000\"/>\n",
       "<path class=\"atom-9\" d=\"M 435.678 93.4771 Q 435.726 93.4951, 435.924 93.5791 Q 436.122 93.6631, 436.338 93.7171 Q 436.56 93.7651, 436.776 93.7651 Q 437.178 93.7651, 437.412 93.5731 Q 437.646 93.3751, 437.646 93.0331 Q 437.646 92.7991, 437.526 92.6551 Q 437.412 92.5111, 437.232 92.4331 Q 437.052 92.3551, 436.752 92.2651 Q 436.374 92.1511, 436.146 92.0431 Q 435.924 91.9351, 435.762 91.7071 Q 435.606 91.4791, 435.606 91.0951 Q 435.606 90.5611, 435.966 90.2311 Q 436.332 89.9011, 437.052 89.9011 Q 437.544 89.9011, 438.102 90.1351 L 437.964 90.5971 Q 437.454 90.3871, 437.07 90.3871 Q 436.656 90.3871, 436.428 90.5611 Q 436.2 90.7291, 436.206 91.0231 Q 436.206 91.2511, 436.32 91.3891 Q 436.44 91.5271, 436.608 91.6051 Q 436.782 91.6831, 437.07 91.7731 Q 437.454 91.8931, 437.682 92.0131 Q 437.91 92.1331, 438.072 92.3791 Q 438.24 92.6191, 438.24 93.0331 Q 438.24 93.6211, 437.844 93.9391 Q 437.454 94.2511, 436.8 94.2511 Q 436.422 94.2511, 436.134 94.1671 Q 435.852 94.0891, 435.516 93.9511 L 435.678 93.4771 \" fill=\"#CCCC00\"/>\n",
       "<path class=\"atom-11\" d=\"M 487.01 98.6963 Q 487.01 97.6763, 487.514 97.1063 Q 488.018 96.5363, 488.96 96.5363 Q 489.902 96.5363, 490.406 97.1063 Q 490.91 97.6763, 490.91 98.6963 Q 490.91 99.7283, 490.4 100.316 Q 489.89 100.898, 488.96 100.898 Q 488.024 100.898, 487.514 100.316 Q 487.01 99.7343, 487.01 98.6963 M 488.96 100.418 Q 489.608 100.418, 489.956 99.9863 Q 490.31 99.5483, 490.31 98.6963 Q 490.31 97.8623, 489.956 97.4423 Q 489.608 97.0163, 488.96 97.0163 Q 488.312 97.0163, 487.958 97.4363 Q 487.61 97.8563, 487.61 98.6963 Q 487.61 99.5543, 487.958 99.9863 Q 488.312 100.418, 488.96 100.418 \" fill=\"#FF0000\"/>\n",
       "<path class=\"atom-12\" d=\"M 504.248 76.3882 L 505.64 78.6382 Q 505.778 78.8602, 506 79.2622 Q 506.222 79.6642, 506.234 79.6882 L 506.234 76.3882 L 506.798 76.3882 L 506.798 80.6362 L 506.216 80.6362 L 504.722 78.1762 Q 504.548 77.8882, 504.362 77.5582 Q 504.182 77.2282, 504.128 77.1262 L 504.128 80.6362 L 503.576 80.6362 L 503.576 76.3882 L 504.248 76.3882 \" fill=\"#0000FF\"/>\n",
       "<path class=\"atom-12\" d=\"M 503.525 71.7154 L 504.101 71.7154 L 504.101 73.5214 L 506.273 73.5214 L 506.273 71.7154 L 506.849 71.7154 L 506.849 75.9634 L 506.273 75.9634 L 506.273 74.0014 L 504.101 74.0014 L 504.101 75.9634 L 503.525 75.9634 L 503.525 71.7154 \" fill=\"#0000FF\"/>\n",
       "<path class=\"atom-15\" d=\"M 531.11 67.7207 Q 531.11 66.7007, 531.614 66.1307 Q 532.118 65.5607, 533.06 65.5607 Q 534.002 65.5607, 534.506 66.1307 Q 535.01 66.7007, 535.01 67.7207 Q 535.01 68.7527, 534.5 69.3407 Q 533.99 69.9227, 533.06 69.9227 Q 532.124 69.9227, 531.614 69.3407 Q 531.11 68.7587, 531.11 67.7207 M 533.06 69.4427 Q 533.708 69.4427, 534.056 69.0107 Q 534.41 68.5727, 534.41 67.7207 Q 534.41 66.8867, 534.056 66.4667 Q 533.708 66.0407, 533.06 66.0407 Q 532.412 66.0407, 532.058 66.4607 Q 531.71 66.8807, 531.71 67.7207 Q 531.71 68.5787, 532.058 69.0107 Q 532.412 69.4427, 533.06 69.4427 \" fill=\"#FF0000\"/>\n",
       "<path class=\"atom-16\" d=\"M 541.477 89.7237 L 542.869 91.9737 Q 543.007 92.1957, 543.229 92.5977 Q 543.451 92.9997, 543.463 93.0237 L 543.463 89.7237 L 544.027 89.7237 L 544.027 93.9717 L 543.445 93.9717 L 541.951 91.5117 Q 541.777 91.2237, 541.591 90.8937 Q 541.411 90.5637, 541.357 90.4617 L 541.357 93.9717 L 540.805 93.9717 L 540.805 89.7237 L 541.477 89.7237 \" fill=\"#0000FF\"/>\n",
       "<path class=\"atom-18\" d=\"M 563.823 101.899 Q 563.871 101.917, 564.069 102.001 Q 564.267 102.085, 564.483 102.139 Q 564.705 102.187, 564.921 102.187 Q 565.323 102.187, 565.557 101.995 Q 565.791 101.797, 565.791 101.455 Q 565.791 101.221, 565.671 101.077 Q 565.557 100.933, 565.377 100.855 Q 565.197 100.777, 564.897 100.687 Q 564.519 100.573, 564.291 100.465 Q 564.069 100.357, 563.907 100.129 Q 563.751 99.9014, 563.751 99.5174 Q 563.751 98.9834, 564.111 98.6534 Q 564.477 98.3234, 565.197 98.3234 Q 565.689 98.3234, 566.247 98.5574 L 566.109 99.0194 Q 565.599 98.8094, 565.215 98.8094 Q 564.801 98.8094, 564.573 98.9834 Q 564.345 99.1514, 564.351 99.4454 Q 564.351 99.6734, 564.465 99.8114 Q 564.585 99.9494, 564.753 100.027 Q 564.927 100.105, 565.215 100.195 Q 565.599 100.315, 565.827 100.435 Q 566.055 100.555, 566.217 100.801 Q 566.385 101.041, 566.385 101.455 Q 566.385 102.043, 565.989 102.361 Q 565.599 102.673, 564.945 102.673 Q 564.567 102.673, 564.279 102.589 Q 563.997 102.511, 563.661 102.373 L 563.823 101.899 \" fill=\"#CCCC00\"/>\n",
       "<path class=\"atom-22\" d=\"M 513.884 108.227 Q 513.884 107.207, 514.388 106.637 Q 514.892 106.067, 515.834 106.067 Q 516.776 106.067, 517.28 106.637 Q 517.784 107.207, 517.784 108.227 Q 517.784 109.259, 517.274 109.847 Q 516.764 110.429, 515.834 110.429 Q 514.898 110.429, 514.388 109.847 Q 513.884 109.265, 513.884 108.227 M 515.834 109.949 Q 516.482 109.949, 516.83 109.517 Q 517.184 109.079, 517.184 108.227 Q 517.184 107.393, 516.83 106.973 Q 516.482 106.547, 515.834 106.547 Q 515.186 106.547, 514.832 106.967 Q 514.484 107.387, 514.484 108.227 Q 514.484 109.085, 514.832 109.517 Q 515.186 109.949, 515.834 109.949 \" fill=\"#FF0000\"/>\n",
       "<path class=\"atom-23\" d=\"M 528.054 129.894 Q 528.054 128.874, 528.558 128.304 Q 529.062 127.734, 530.004 127.734 Q 530.946 127.734, 531.45 128.304 Q 531.954 128.874, 531.954 129.894 Q 531.954 130.926, 531.444 131.514 Q 530.934 132.096, 530.004 132.096 Q 529.068 132.096, 528.558 131.514 Q 528.054 130.932, 528.054 129.894 M 530.004 131.616 Q 530.652 131.616, 531 131.184 Q 531.354 130.746, 531.354 129.894 Q 531.354 129.06, 531 128.64 Q 530.652 128.214, 530.004 128.214 Q 529.356 128.214, 529.002 128.634 Q 528.654 129.054, 528.654 129.894 Q 528.654 130.752, 529.002 131.184 Q 529.356 131.616, 530.004 131.616 \" fill=\"#FF0000\"/>\n",
       "<path class=\"atom-23\" d=\"M 532.464 127.782 L 533.04 127.782 L 533.04 129.588 L 535.212 129.588 L 535.212 127.782 L 535.788 127.782 L 535.788 132.03 L 535.212 132.03 L 535.212 130.068 L 533.04 130.068 L 533.04 132.03 L 532.464 132.03 L 532.464 127.782 \" fill=\"#FF0000\"/>\n",
       "</svg>"
      ],
      "text/plain": [
       "<IPython.core.display.SVG object>"
      ]
     },
     "execution_count": 90,
     "metadata": {},
     "output_type": "execute_result"
    }
   ],
   "source": [
    "Draw.MolsToGridImage(mol_data.ROMol[:3])"
   ]
  },
  {
   "cell_type": "code",
   "execution_count": 91,
   "metadata": {},
   "outputs": [
    {
     "data": {
      "image/svg+xml": [
       "<svg xmlns=\"http://www.w3.org/2000/svg\" xmlns:rdkit=\"http://www.rdkit.org/xml\" xmlns:xlink=\"http://www.w3.org/1999/xlink\" version=\"1.1\" baseProfile=\"full\" xml:space=\"preserve\" width=\"600px\" height=\"200px\" viewBox=\"0 0 600 200\">\n",
       "<!-- END OF HEADER -->\n",
       "<rect style=\"opacity:1.0;fill:#FFFFFF;stroke:none\" width=\"600\" height=\"200\" x=\"0\" y=\"0\"> </rect>\n",
       "<rect style=\"opacity:1.0;fill:#FFFFFF;stroke:none\" width=\"600\" height=\"200\" x=\"0\" y=\"0\"> </rect>\n",
       "<rect style=\"opacity:1.0;fill:#FFFFFF;stroke:none\" width=\"600\" height=\"200\" x=\"0\" y=\"0\"> </rect>\n",
       "<path class=\"bond-0\" d=\"M 61.2289,62.4394 L 73.5833,70.9193\" style=\"fill:none;fill-rule:evenodd;stroke:#000000;stroke-width:2.0px;stroke-linecap:butt;stroke-linejoin:miter;stroke-opacity:1\"/>\n",
       "<path class=\"bond-0\" d=\"M 62.9248,59.9685 L 75.2793,68.4485\" style=\"fill:none;fill-rule:evenodd;stroke:#000000;stroke-width:2.0px;stroke-linecap:butt;stroke-linejoin:miter;stroke-opacity:1\"/>\n",
       "<path class=\"bond-1\" d=\"M 74.4313,69.6839 L 73.2646,84.6231\" style=\"fill:none;fill-rule:evenodd;stroke:#000000;stroke-width:2.0px;stroke-linecap:butt;stroke-linejoin:miter;stroke-opacity:1\"/>\n",
       "<path class=\"bond-2\" d=\"M 85.6191,93.103 L 74.1126,83.3877 L 72.4167,85.8585 Z\" style=\"fill:#000000;fill-rule:evenodd;fill-opacity:1;stroke:#000000;stroke-width:2px;stroke-linecap:butt;stroke-linejoin:miter;stroke-opacity:1;\"/>\n",
       "<path class=\"bond-3\" d=\"M 85.6191,93.103 L 99.7412,88.0924\" style=\"fill:none;fill-rule:evenodd;stroke:#000000;stroke-width:2.0px;stroke-linecap:butt;stroke-linejoin:miter;stroke-opacity:1\"/>\n",
       "<path class=\"bond-34\" d=\"M 85.6191,93.103 L 86.0204,108.082\" style=\"fill:none;fill-rule:evenodd;stroke:#000000;stroke-width:2.0px;stroke-linecap:butt;stroke-linejoin:miter;stroke-opacity:1\"/>\n",
       "<path class=\"bond-4\" d=\"M 101.178,88.5172 L 102.919,82.6264\" style=\"fill:none;fill-rule:evenodd;stroke:#000000;stroke-width:2.0px;stroke-linecap:butt;stroke-linejoin:miter;stroke-opacity:1\"/>\n",
       "<path class=\"bond-4\" d=\"M 102.919,82.6264 L 104.66,76.7356\" style=\"fill:none;fill-rule:evenodd;stroke:#FF0000;stroke-width:2.0px;stroke-linecap:butt;stroke-linejoin:miter;stroke-opacity:1\"/>\n",
       "<path class=\"bond-4\" d=\"M 98.3042,87.6677 L 100.045,81.7769\" style=\"fill:none;fill-rule:evenodd;stroke:#000000;stroke-width:2.0px;stroke-linecap:butt;stroke-linejoin:miter;stroke-opacity:1\"/>\n",
       "<path class=\"bond-4\" d=\"M 100.045,81.7769 L 101.786,75.8862\" style=\"fill:none;fill-rule:evenodd;stroke:#FF0000;stroke-width:2.0px;stroke-linecap:butt;stroke-linejoin:miter;stroke-opacity:1\"/>\n",
       "<path class=\"bond-5\" d=\"M 99.7412,88.0924 L 103.346,92.7844\" style=\"fill:none;fill-rule:evenodd;stroke:#000000;stroke-width:2.0px;stroke-linecap:butt;stroke-linejoin:miter;stroke-opacity:1\"/>\n",
       "<path class=\"bond-5\" d=\"M 103.346,92.7844 L 106.951,97.4764\" style=\"fill:none;fill-rule:evenodd;stroke:#0000FF;stroke-width:2.0px;stroke-linecap:butt;stroke-linejoin:miter;stroke-opacity:1\"/>\n",
       "<path class=\"bond-6\" d=\"M 110.856,99.9218 L 116.509,99.7704\" style=\"fill:none;fill-rule:evenodd;stroke:#0000FF;stroke-width:2.0px;stroke-linecap:butt;stroke-linejoin:miter;stroke-opacity:1\"/>\n",
       "<path class=\"bond-6\" d=\"M 116.509,99.7704 L 122.163,99.6189\" style=\"fill:none;fill-rule:evenodd;stroke:#CCCC00;stroke-width:2.0px;stroke-linecap:butt;stroke-linejoin:miter;stroke-opacity:1\"/>\n",
       "<path class=\"bond-19\" d=\"M 107.155,102.474 L 103.773,107.402\" style=\"fill:none;fill-rule:evenodd;stroke:#0000FF;stroke-width:2.0px;stroke-linecap:butt;stroke-linejoin:miter;stroke-opacity:1\"/>\n",
       "<path class=\"bond-19\" d=\"M 103.773,107.402 L 100.391,112.329\" style=\"fill:none;fill-rule:evenodd;stroke:#000000;stroke-width:2.0px;stroke-linecap:butt;stroke-linejoin:miter;stroke-opacity:1\"/>\n",
       "<path class=\"bond-7\" d=\"M 125.281,97.041 L 125.148,92.0608\" style=\"fill:none;fill-rule:evenodd;stroke:#CCCC00;stroke-width:2.0px;stroke-linecap:butt;stroke-linejoin:miter;stroke-opacity:1\"/>\n",
       "<path class=\"bond-7\" d=\"M 125.148,92.0608 L 125.014,87.0805\" style=\"fill:none;fill-rule:evenodd;stroke:#FF0000;stroke-width:2.0px;stroke-linecap:butt;stroke-linejoin:miter;stroke-opacity:1\"/>\n",
       "<path class=\"bond-7\" d=\"M 122.285,97.1212 L 122.152,92.141\" style=\"fill:none;fill-rule:evenodd;stroke:#CCCC00;stroke-width:2.0px;stroke-linecap:butt;stroke-linejoin:miter;stroke-opacity:1\"/>\n",
       "<path class=\"bond-7\" d=\"M 122.152,92.141 L 122.018,87.1608\" style=\"fill:none;fill-rule:evenodd;stroke:#FF0000;stroke-width:2.0px;stroke-linecap:butt;stroke-linejoin:miter;stroke-opacity:1\"/>\n",
       "<path class=\"bond-8\" d=\"M 122.422,102.22 L 122.555,107.178\" style=\"fill:none;fill-rule:evenodd;stroke:#CCCC00;stroke-width:2.0px;stroke-linecap:butt;stroke-linejoin:miter;stroke-opacity:1\"/>\n",
       "<path class=\"bond-8\" d=\"M 122.555,107.178 L 122.687,112.136\" style=\"fill:none;fill-rule:evenodd;stroke:#FF0000;stroke-width:2.0px;stroke-linecap:butt;stroke-linejoin:miter;stroke-opacity:1\"/>\n",
       "<path class=\"bond-8\" d=\"M 125.418,102.14 L 125.55,107.098\" style=\"fill:none;fill-rule:evenodd;stroke:#CCCC00;stroke-width:2.0px;stroke-linecap:butt;stroke-linejoin:miter;stroke-opacity:1\"/>\n",
       "<path class=\"bond-8\" d=\"M 125.55,107.098 L 125.683,112.055\" style=\"fill:none;fill-rule:evenodd;stroke:#FF0000;stroke-width:2.0px;stroke-linecap:butt;stroke-linejoin:miter;stroke-opacity:1\"/>\n",
       "<path class=\"bond-9\" d=\"M 125.586,99.5272 L 132.208,99.3498\" style=\"fill:none;fill-rule:evenodd;stroke:#CCCC00;stroke-width:2.0px;stroke-linecap:butt;stroke-linejoin:miter;stroke-opacity:1\"/>\n",
       "<path class=\"bond-9\" d=\"M 132.208,99.3498 L 138.829,99.1724\" style=\"fill:none;fill-rule:evenodd;stroke:#000000;stroke-width:2.0px;stroke-linecap:butt;stroke-linejoin:miter;stroke-opacity:1\"/>\n",
       "<path class=\"bond-10\" d=\"M 138.829,99.1724 L 146.666,111.944\" style=\"fill:none;fill-rule:evenodd;stroke:#000000;stroke-width:2.0px;stroke-linecap:butt;stroke-linejoin:miter;stroke-opacity:1\"/>\n",
       "<path class=\"bond-10\" d=\"M 142.559,99.5207 L 148.045,108.461\" style=\"fill:none;fill-rule:evenodd;stroke:#000000;stroke-width:2.0px;stroke-linecap:butt;stroke-linejoin:miter;stroke-opacity:1\"/>\n",
       "<path class=\"bond-35\" d=\"M 138.829,99.1724 L 145.971,85.9992\" style=\"fill:none;fill-rule:evenodd;stroke:#000000;stroke-width:2.0px;stroke-linecap:butt;stroke-linejoin:miter;stroke-opacity:1\"/>\n",
       "<path class=\"bond-11\" d=\"M 146.666,111.944 L 161.646,111.543\" style=\"fill:none;fill-rule:evenodd;stroke:#000000;stroke-width:2.0px;stroke-linecap:butt;stroke-linejoin:miter;stroke-opacity:1\"/>\n",
       "<path class=\"bond-12\" d=\"M 161.646,111.543 L 168.788,98.3697\" style=\"fill:none;fill-rule:evenodd;stroke:#000000;stroke-width:2.0px;stroke-linecap:butt;stroke-linejoin:miter;stroke-opacity:1\"/>\n",
       "<path class=\"bond-12\" d=\"M 160.082,108.138 L 165.082,98.9172\" style=\"fill:none;fill-rule:evenodd;stroke:#000000;stroke-width:2.0px;stroke-linecap:butt;stroke-linejoin:miter;stroke-opacity:1\"/>\n",
       "<path class=\"bond-13\" d=\"M 168.788,98.3697 L 183.767,97.9683\" style=\"fill:none;fill-rule:evenodd;stroke:#000000;stroke-width:2.0px;stroke-linecap:butt;stroke-linejoin:miter;stroke-opacity:1\"/>\n",
       "<path class=\"bond-37\" d=\"M 168.788,98.3697 L 160.95,85.5979\" style=\"fill:none;fill-rule:evenodd;stroke:#000000;stroke-width:2.0px;stroke-linecap:butt;stroke-linejoin:miter;stroke-opacity:1\"/>\n",
       "<path class=\"bond-14\" d=\"M 183.767,97.9683 L 190.909,84.7952\" style=\"fill:none;fill-rule:evenodd;stroke:#000000;stroke-width:2.0px;stroke-linecap:butt;stroke-linejoin:miter;stroke-opacity:1\"/>\n",
       "<path class=\"bond-14\" d=\"M 182.204,94.5639 L 187.203,85.3427\" style=\"fill:none;fill-rule:evenodd;stroke:#000000;stroke-width:2.0px;stroke-linecap:butt;stroke-linejoin:miter;stroke-opacity:1\"/>\n",
       "<path class=\"bond-15\" d=\"M 190.909,84.7952 L 183.072,72.0234\" style=\"fill:none;fill-rule:evenodd;stroke:#000000;stroke-width:2.0px;stroke-linecap:butt;stroke-linejoin:miter;stroke-opacity:1\"/>\n",
       "<path class=\"bond-16\" d=\"M 183.072,72.0234 L 168.093,72.4248\" style=\"fill:none;fill-rule:evenodd;stroke:#000000;stroke-width:2.0px;stroke-linecap:butt;stroke-linejoin:miter;stroke-opacity:1\"/>\n",
       "<path class=\"bond-16\" d=\"M 180.905,75.0795 L 170.42,75.3604\" style=\"fill:none;fill-rule:evenodd;stroke:#000000;stroke-width:2.0px;stroke-linecap:butt;stroke-linejoin:miter;stroke-opacity:1\"/>\n",
       "<path class=\"bond-17\" d=\"M 168.093,72.4248 L 160.95,85.5979\" style=\"fill:none;fill-rule:evenodd;stroke:#000000;stroke-width:2.0px;stroke-linecap:butt;stroke-linejoin:miter;stroke-opacity:1\"/>\n",
       "<path class=\"bond-18\" d=\"M 160.95,85.5979 L 145.971,85.9992\" style=\"fill:none;fill-rule:evenodd;stroke:#000000;stroke-width:2.0px;stroke-linecap:butt;stroke-linejoin:miter;stroke-opacity:1\"/>\n",
       "<path class=\"bond-18\" d=\"M 158.784,88.6539 L 148.298,88.9349\" style=\"fill:none;fill-rule:evenodd;stroke:#000000;stroke-width:2.0px;stroke-linecap:butt;stroke-linejoin:miter;stroke-opacity:1\"/>\n",
       "<path class=\"bond-20\" d=\"M 100.391,112.329 L 100.792,127.309\" style=\"fill:none;fill-rule:evenodd;stroke:#000000;stroke-width:2.0px;stroke-linecap:butt;stroke-linejoin:miter;stroke-opacity:1\"/>\n",
       "<path class=\"bond-36\" d=\"M 100.391,112.329 L 86.0204,108.082\" style=\"fill:none;fill-rule:evenodd;stroke:#000000;stroke-width:2.0px;stroke-linecap:butt;stroke-linejoin:miter;stroke-opacity:1\"/>\n",
       "<path class=\"bond-39\" d=\"M 104.36,114.024 L 104.643,113.066\" style=\"fill:none;fill-rule:evenodd;stroke:#000000;stroke-width:1.0px;stroke-linecap:butt;stroke-linejoin:miter;stroke-opacity:1\"/>\n",
       "<path class=\"bond-39\" d=\"M 108.33,115.718 L 108.896,113.802\" style=\"fill:none;fill-rule:evenodd;stroke:#000000;stroke-width:1.0px;stroke-linecap:butt;stroke-linejoin:miter;stroke-opacity:1\"/>\n",
       "<path class=\"bond-39\" d=\"M 112.299,117.412 L 113.149,114.538\" style=\"fill:none;fill-rule:evenodd;stroke:#000000;stroke-width:1.0px;stroke-linecap:butt;stroke-linejoin:miter;stroke-opacity:1\"/>\n",
       "<path class=\"bond-21\" d=\"M 100.792,127.309 L 86.6698,132.319\" style=\"fill:none;fill-rule:evenodd;stroke:#000000;stroke-width:2.0px;stroke-linecap:butt;stroke-linejoin:miter;stroke-opacity:1\"/>\n",
       "<path class=\"bond-22\" d=\"M 86.6698,132.319 L 83.065,127.627\" style=\"fill:none;fill-rule:evenodd;stroke:#000000;stroke-width:2.0px;stroke-linecap:butt;stroke-linejoin:miter;stroke-opacity:1\"/>\n",
       "<path class=\"bond-22\" d=\"M 83.065,127.627 L 79.4602,122.935\" style=\"fill:none;fill-rule:evenodd;stroke:#0000FF;stroke-width:2.0px;stroke-linecap:butt;stroke-linejoin:miter;stroke-opacity:1\"/>\n",
       "<path class=\"bond-23\" d=\"M 75.5549,120.49 L 69.058,120.664\" style=\"fill:none;fill-rule:evenodd;stroke:#0000FF;stroke-width:2.0px;stroke-linecap:butt;stroke-linejoin:miter;stroke-opacity:1\"/>\n",
       "<path class=\"bond-23\" d=\"M 69.058,120.664 L 62.5612,120.838\" style=\"fill:none;fill-rule:evenodd;stroke:#000000;stroke-width:2.0px;stroke-linecap:butt;stroke-linejoin:miter;stroke-opacity:1\"/>\n",
       "<path class=\"bond-33\" d=\"M 79.2555,117.938 L 82.638,113.01\" style=\"fill:none;fill-rule:evenodd;stroke:#0000FF;stroke-width:2.0px;stroke-linecap:butt;stroke-linejoin:miter;stroke-opacity:1\"/>\n",
       "<path class=\"bond-33\" d=\"M 82.638,113.01 L 86.0204,108.082\" style=\"fill:none;fill-rule:evenodd;stroke:#000000;stroke-width:2.0px;stroke-linecap:butt;stroke-linejoin:miter;stroke-opacity:1\"/>\n",
       "<path class=\"bond-24\" d=\"M 61.2439,120.124 L 58.3567,125.449\" style=\"fill:none;fill-rule:evenodd;stroke:#000000;stroke-width:2.0px;stroke-linecap:butt;stroke-linejoin:miter;stroke-opacity:1\"/>\n",
       "<path class=\"bond-24\" d=\"M 58.3567,125.449 L 55.4695,130.774\" style=\"fill:none;fill-rule:evenodd;stroke:#FF0000;stroke-width:2.0px;stroke-linecap:butt;stroke-linejoin:miter;stroke-opacity:1\"/>\n",
       "<path class=\"bond-24\" d=\"M 63.8785,121.552 L 60.9913,126.878\" style=\"fill:none;fill-rule:evenodd;stroke:#000000;stroke-width:2.0px;stroke-linecap:butt;stroke-linejoin:miter;stroke-opacity:1\"/>\n",
       "<path class=\"bond-24\" d=\"M 60.9913,126.878 L 58.1041,132.203\" style=\"fill:none;fill-rule:evenodd;stroke:#FF0000;stroke-width:2.0px;stroke-linecap:butt;stroke-linejoin:miter;stroke-opacity:1\"/>\n",
       "<path class=\"bond-25\" d=\"M 62.5612,120.838 L 59.4368,115.746\" style=\"fill:none;fill-rule:evenodd;stroke:#000000;stroke-width:2.0px;stroke-linecap:butt;stroke-linejoin:miter;stroke-opacity:1\"/>\n",
       "<path class=\"bond-25\" d=\"M 59.4368,115.746 L 56.3124,110.655\" style=\"fill:none;fill-rule:evenodd;stroke:#FF0000;stroke-width:2.0px;stroke-linecap:butt;stroke-linejoin:miter;stroke-opacity:1\"/>\n",
       "<path class=\"bond-26\" d=\"M 52.3993,108.129 L 46.072,108.298\" style=\"fill:none;fill-rule:evenodd;stroke:#FF0000;stroke-width:2.0px;stroke-linecap:butt;stroke-linejoin:miter;stroke-opacity:1\"/>\n",
       "<path class=\"bond-26\" d=\"M 46.072,108.298 L 39.7447,108.468\" style=\"fill:none;fill-rule:evenodd;stroke:#000000;stroke-width:2.0px;stroke-linecap:butt;stroke-linejoin:miter;stroke-opacity:1\"/>\n",
       "<path class=\"bond-27\" d=\"M 39.7447,108.468 L 31.9074,95.6959\" style=\"fill:none;fill-rule:evenodd;stroke:#000000;stroke-width:2.0px;stroke-linecap:butt;stroke-linejoin:miter;stroke-opacity:1\"/>\n",
       "<path class=\"bond-28\" d=\"M 31.9074,95.6959 L 39.0495,82.5227\" style=\"fill:none;fill-rule:evenodd;stroke:#000000;stroke-width:2.0px;stroke-linecap:butt;stroke-linejoin:miter;stroke-opacity:1\"/>\n",
       "<path class=\"bond-28\" d=\"M 30.3441,92.2915 L 35.3436,83.0703\" style=\"fill:none;fill-rule:evenodd;stroke:#000000;stroke-width:2.0px;stroke-linecap:butt;stroke-linejoin:miter;stroke-opacity:1\"/>\n",
       "<path class=\"bond-38\" d=\"M 31.9074,95.6959 L 16.9281,96.0972\" style=\"fill:none;fill-rule:evenodd;stroke:#000000;stroke-width:2.0px;stroke-linecap:butt;stroke-linejoin:miter;stroke-opacity:1\"/>\n",
       "<path class=\"bond-29\" d=\"M 39.0495,82.5227 L 31.2123,69.7509\" style=\"fill:none;fill-rule:evenodd;stroke:#000000;stroke-width:2.0px;stroke-linecap:butt;stroke-linejoin:miter;stroke-opacity:1\"/>\n",
       "<path class=\"bond-30\" d=\"M 31.2123,69.7509 L 16.233,70.1523\" style=\"fill:none;fill-rule:evenodd;stroke:#000000;stroke-width:2.0px;stroke-linecap:butt;stroke-linejoin:miter;stroke-opacity:1\"/>\n",
       "<path class=\"bond-30\" d=\"M 29.0457,72.807 L 18.5601,73.0879\" style=\"fill:none;fill-rule:evenodd;stroke:#000000;stroke-width:2.0px;stroke-linecap:butt;stroke-linejoin:miter;stroke-opacity:1\"/>\n",
       "<path class=\"bond-31\" d=\"M 16.233,70.1523 L 9.09091,83.3254\" style=\"fill:none;fill-rule:evenodd;stroke:#000000;stroke-width:2.0px;stroke-linecap:butt;stroke-linejoin:miter;stroke-opacity:1\"/>\n",
       "<path class=\"bond-32\" d=\"M 9.09091,83.3254 L 16.9281,96.0972\" style=\"fill:none;fill-rule:evenodd;stroke:#000000;stroke-width:2.0px;stroke-linecap:butt;stroke-linejoin:miter;stroke-opacity:1\"/>\n",
       "<path class=\"bond-32\" d=\"M 12.8208,83.6737 L 18.3069,92.614\" style=\"fill:none;fill-rule:evenodd;stroke:#000000;stroke-width:2.0px;stroke-linecap:butt;stroke-linejoin:miter;stroke-opacity:1\"/>\n",
       "<path class=\"bond-40\" d=\"M 86.0204,108.082 L 74.1116,103 L 73.2621,105.874 Z\" style=\"fill:#000000;fill-rule:evenodd;fill-opacity:1;stroke:#000000;stroke-width:2px;stroke-linecap:butt;stroke-linejoin:miter;stroke-opacity:1;\"/>\n",
       "<path class=\"atom-5\" d=\"M 102.038 73.7343 Q 102.038 72.7143, 102.542 72.1443 Q 103.046 71.5743, 103.988 71.5743 Q 104.93 71.5743, 105.434 72.1443 Q 105.938 72.7143, 105.938 73.7343 Q 105.938 74.7663, 105.428 75.3543 Q 104.918 75.9363, 103.988 75.9363 Q 103.052 75.9363, 102.542 75.3543 Q 102.038 74.7723, 102.038 73.7343 M 103.988 75.4563 Q 104.636 75.4563, 104.984 75.0243 Q 105.338 74.5863, 105.338 73.7343 Q 105.338 72.9003, 104.984 72.4803 Q 104.636 72.0543, 103.988 72.0543 Q 103.34 72.0543, 102.986 72.4743 Q 102.638 72.8943, 102.638 73.7343 Q 102.638 74.5923, 102.986 75.0243 Q 103.34 75.4563, 103.988 75.4563 \" fill=\"#FF0000\"/>\n",
       "<path class=\"atom-6\" d=\"M 107.932 97.8511 L 109.324 100.101 Q 109.462 100.323, 109.684 100.725 Q 109.906 101.127, 109.918 101.151 L 109.918 97.8511 L 110.482 97.8511 L 110.482 102.099 L 109.9 102.099 L 108.406 99.6391 Q 108.232 99.3511, 108.046 99.0211 Q 107.866 98.6911, 107.812 98.5891 L 107.812 102.099 L 107.26 102.099 L 107.26 97.8511 L 107.932 97.8511 \" fill=\"#0000FF\"/>\n",
       "<path class=\"atom-7\" d=\"M 122.65 101.032 Q 122.698 101.05, 122.896 101.134 Q 123.094 101.218, 123.31 101.272 Q 123.532 101.32, 123.748 101.32 Q 124.15 101.32, 124.384 101.128 Q 124.618 100.93, 124.618 100.588 Q 124.618 100.354, 124.498 100.21 Q 124.384 100.066, 124.204 99.9877 Q 124.024 99.9097, 123.724 99.8197 Q 123.346 99.7057, 123.118 99.5977 Q 122.896 99.4897, 122.734 99.2617 Q 122.578 99.0337, 122.578 98.6497 Q 122.578 98.1157, 122.938 97.7857 Q 123.304 97.4557, 124.024 97.4557 Q 124.516 97.4557, 125.074 97.6897 L 124.936 98.1517 Q 124.426 97.9417, 124.042 97.9417 Q 123.628 97.9417, 123.4 98.1157 Q 123.172 98.2837, 123.178 98.5777 Q 123.178 98.8057, 123.292 98.9437 Q 123.412 99.0817, 123.58 99.1597 Q 123.754 99.2377, 124.042 99.3277 Q 124.426 99.4477, 124.654 99.5677 Q 124.882 99.6877, 125.044 99.9337 Q 125.212 100.174, 125.212 100.588 Q 125.212 101.176, 124.816 101.494 Q 124.426 101.806, 123.772 101.806 Q 123.394 101.806, 123.106 101.722 Q 122.824 101.644, 122.488 101.506 L 122.65 101.032 \" fill=\"#CCCC00\"/>\n",
       "<path class=\"atom-8\" d=\"M 121.498 84.6064 Q 121.498 83.5864, 122.002 83.0164 Q 122.506 82.4464, 123.448 82.4464 Q 124.39 82.4464, 124.894 83.0164 Q 125.398 83.5864, 125.398 84.6064 Q 125.398 85.6384, 124.888 86.2264 Q 124.378 86.8084, 123.448 86.8084 Q 122.512 86.8084, 122.002 86.2264 Q 121.498 85.6444, 121.498 84.6064 M 123.448 86.3284 Q 124.096 86.3284, 124.444 85.8964 Q 124.798 85.4584, 124.798 84.6064 Q 124.798 83.7724, 124.444 83.3524 Q 124.096 82.9264, 123.448 82.9264 Q 122.8 82.9264, 122.446 83.3464 Q 122.098 83.7664, 122.098 84.6064 Q 122.098 85.4644, 122.446 85.8964 Q 122.8 86.3284, 123.448 86.3284 \" fill=\"#FF0000\"/>\n",
       "<path class=\"atom-9\" d=\"M 122.301 114.565 Q 122.301 113.545, 122.805 112.975 Q 123.309 112.405, 124.251 112.405 Q 125.193 112.405, 125.697 112.975 Q 126.201 113.545, 126.201 114.565 Q 126.201 115.597, 125.691 116.185 Q 125.181 116.767, 124.251 116.767 Q 123.315 116.767, 122.805 116.185 Q 122.301 115.603, 122.301 114.565 M 124.251 116.287 Q 124.899 116.287, 125.247 115.855 Q 125.601 115.417, 125.601 114.565 Q 125.601 113.731, 125.247 113.311 Q 124.899 112.885, 124.251 112.885 Q 123.603 112.885, 123.249 113.305 Q 122.901 113.725, 122.901 114.565 Q 122.901 115.423, 123.249 115.855 Q 123.603 116.287, 124.251 116.287 \" fill=\"#FF0000\"/>\n",
       "<path class=\"atom-23\" d=\"M 76.6015 118.313 L 77.9935 120.563 Q 78.1315 120.785, 78.3535 121.187 Q 78.5755 121.589, 78.5875 121.613 L 78.5875 118.313 L 79.1515 118.313 L 79.1515 122.561 L 78.5695 122.561 L 77.0755 120.101 Q 76.9015 119.813, 76.7155 119.483 Q 76.5355 119.153, 76.4815 119.051 L 76.4815 122.561 L 75.9295 122.561 L 75.9295 118.313 L 76.6015 118.313 \" fill=\"#0000FF\"/>\n",
       "<path class=\"atom-25\" d=\"M 53.4691 134.023 Q 53.4691 133.003, 53.9731 132.433 Q 54.4771 131.863, 55.4191 131.863 Q 56.3611 131.863, 56.8651 132.433 Q 57.3691 133.003, 57.3691 134.023 Q 57.3691 135.055, 56.8591 135.643 Q 56.3491 136.225, 55.4191 136.225 Q 54.4831 136.225, 53.9731 135.643 Q 53.4691 135.061, 53.4691 134.023 M 55.4191 135.745 Q 56.0671 135.745, 56.4151 135.313 Q 56.7691 134.875, 56.7691 134.023 Q 56.7691 133.189, 56.4151 132.769 Q 56.0671 132.343, 55.4191 132.343 Q 54.7711 132.343, 54.4171 132.763 Q 54.0691 133.183, 54.0691 134.023 Q 54.0691 134.881, 54.4171 135.313 Q 54.7711 135.745, 55.4191 135.745 \" fill=\"#FF0000\"/>\n",
       "<path class=\"atom-26\" d=\"M 52.774 108.078 Q 52.774 107.058, 53.278 106.488 Q 53.782 105.918, 54.724 105.918 Q 55.666 105.918, 56.17 106.488 Q 56.674 107.058, 56.674 108.078 Q 56.674 109.11, 56.164 109.698 Q 55.654 110.28, 54.724 110.28 Q 53.788 110.28, 53.278 109.698 Q 52.774 109.116, 52.774 108.078 M 54.724 109.8 Q 55.372 109.8, 55.72 109.368 Q 56.074 108.93, 56.074 108.078 Q 56.074 107.244, 55.72 106.824 Q 55.372 106.398, 54.724 106.398 Q 54.076 106.398, 53.722 106.818 Q 53.374 107.238, 53.374 108.078 Q 53.374 108.936, 53.722 109.368 Q 54.076 109.8, 54.724 109.8 \" fill=\"#FF0000\"/>\n",
       "<path class=\"atom-35\" d=\"M 113.099 114.453 L 113.675 114.453 L 113.675 116.259 L 115.847 116.259 L 115.847 114.453 L 116.423 114.453 L 116.423 118.701 L 115.847 118.701 L 115.847 116.739 L 113.675 116.739 L 113.675 118.701 L 113.099 118.701 L 113.099 114.453 \" fill=\"#000000\"/>\n",
       "<path class=\"atom-36\" d=\"M 69.9882 101.711 L 70.5642 101.711 L 70.5642 103.517 L 72.7362 103.517 L 72.7362 101.711 L 73.3122 101.711 L 73.3122 105.959 L 72.7362 105.959 L 72.7362 103.997 L 70.5642 103.997 L 70.5642 105.959 L 69.9882 105.959 L 69.9882 101.711 \" fill=\"#000000\"/>\n",
       "<path class=\"bond-0\" d=\"M 329.927,138.1 L 322.621,132.166\" style=\"fill:none;fill-rule:evenodd;stroke:#000000;stroke-width:2.0px;stroke-linecap:butt;stroke-linejoin:miter;stroke-opacity:1\"/>\n",
       "<path class=\"bond-0\" d=\"M 329.965,135.814 L 324.851,131.66\" style=\"fill:none;fill-rule:evenodd;stroke:#000000;stroke-width:2.0px;stroke-linecap:butt;stroke-linejoin:miter;stroke-opacity:1\"/>\n",
       "<path class=\"bond-39\" d=\"M 329.927,138.1 L 331.429,135.121\" style=\"fill:none;fill-rule:evenodd;stroke:#000000;stroke-width:2.0px;stroke-linecap:butt;stroke-linejoin:miter;stroke-opacity:1\"/>\n",
       "<path class=\"bond-40\" d=\"M 329.927,138.1 L 332.555,145.894\" style=\"fill:none;fill-rule:evenodd;stroke:#000000;stroke-width:2.0px;stroke-linecap:butt;stroke-linejoin:miter;stroke-opacity:1\"/>\n",
       "<path class=\"bond-1\" d=\"M 322.621,132.166 L 317.817,118.004\" style=\"fill:none;fill-rule:evenodd;stroke:#000000;stroke-width:2.0px;stroke-linecap:butt;stroke-linejoin:miter;stroke-opacity:1\"/>\n",
       "<path class=\"bond-41\" d=\"M 322.621,132.166 L 321.293,135.325\" style=\"fill:none;fill-rule:evenodd;stroke:#000000;stroke-width:2.0px;stroke-linecap:butt;stroke-linejoin:miter;stroke-opacity:1\"/>\n",
       "<path class=\"bond-2\" d=\"M 317.817,118.004 L 306.671,116.851\" style=\"fill:none;fill-rule:evenodd;stroke:#000000;stroke-width:2.0px;stroke-linecap:butt;stroke-linejoin:miter;stroke-opacity:1\"/>\n",
       "<path class=\"bond-42\" d=\"M 317.817,118.004 L 315.856,116.155\" style=\"fill:none;fill-rule:evenodd;stroke:#000000;stroke-width:2.0px;stroke-linecap:butt;stroke-linejoin:miter;stroke-opacity:1\"/>\n",
       "<path class=\"bond-43\" d=\"M 317.817,118.004 L 324.472,112.98\" style=\"fill:none;fill-rule:evenodd;stroke:#000000;stroke-width:2.0px;stroke-linecap:butt;stroke-linejoin:miter;stroke-opacity:1\"/>\n",
       "<path class=\"bond-3\" d=\"M 306.671,116.851 L 293.255,121.246\" style=\"fill:none;fill-rule:evenodd;stroke:#000000;stroke-width:2.0px;stroke-linecap:butt;stroke-linejoin:miter;stroke-opacity:1\"/>\n",
       "<path class=\"bond-34\" d=\"M 306.671,116.851 L 302.913,102.323\" style=\"fill:none;fill-rule:evenodd;stroke:#000000;stroke-width:2.0px;stroke-linecap:butt;stroke-linejoin:miter;stroke-opacity:1\"/>\n",
       "<path class=\"bond-44\" d=\"M 306.683,118.113 L 307.597,117.709\" style=\"fill:none;fill-rule:evenodd;stroke:#000000;stroke-width:1.0px;stroke-linecap:butt;stroke-linejoin:miter;stroke-opacity:1\"/>\n",
       "<path class=\"bond-44\" d=\"M 306.695,119.375 L 308.522,118.566\" style=\"fill:none;fill-rule:evenodd;stroke:#000000;stroke-width:1.0px;stroke-linecap:butt;stroke-linejoin:miter;stroke-opacity:1\"/>\n",
       "<path class=\"bond-44\" d=\"M 306.707,120.636 L 309.448,119.424\" style=\"fill:none;fill-rule:evenodd;stroke:#000000;stroke-width:1.0px;stroke-linecap:butt;stroke-linejoin:miter;stroke-opacity:1\"/>\n",
       "<path class=\"bond-4\" d=\"M 292.37,121.089 L 291.61,125.386\" style=\"fill:none;fill-rule:evenodd;stroke:#000000;stroke-width:2.0px;stroke-linecap:butt;stroke-linejoin:miter;stroke-opacity:1\"/>\n",
       "<path class=\"bond-4\" d=\"M 291.61,125.386 L 290.85,129.683\" style=\"fill:none;fill-rule:evenodd;stroke:#FF0000;stroke-width:2.0px;stroke-linecap:butt;stroke-linejoin:miter;stroke-opacity:1\"/>\n",
       "<path class=\"bond-4\" d=\"M 294.141,121.402 L 293.38,125.699\" style=\"fill:none;fill-rule:evenodd;stroke:#000000;stroke-width:2.0px;stroke-linecap:butt;stroke-linejoin:miter;stroke-opacity:1\"/>\n",
       "<path class=\"bond-4\" d=\"M 293.38,125.699 L 292.62,129.996\" style=\"fill:none;fill-rule:evenodd;stroke:#FF0000;stroke-width:2.0px;stroke-linecap:butt;stroke-linejoin:miter;stroke-opacity:1\"/>\n",
       "<path class=\"bond-5\" d=\"M 293.255,121.246 L 288.973,117.416\" style=\"fill:none;fill-rule:evenodd;stroke:#000000;stroke-width:2.0px;stroke-linecap:butt;stroke-linejoin:miter;stroke-opacity:1\"/>\n",
       "<path class=\"bond-5\" d=\"M 288.973,117.416 L 284.692,113.586\" style=\"fill:none;fill-rule:evenodd;stroke:#0000FF;stroke-width:2.0px;stroke-linecap:butt;stroke-linejoin:miter;stroke-opacity:1\"/>\n",
       "<path class=\"bond-6\" d=\"M 280.684,112.327 L 274.172,113.91\" style=\"fill:none;fill-rule:evenodd;stroke:#0000FF;stroke-width:2.0px;stroke-linecap:butt;stroke-linejoin:miter;stroke-opacity:1\"/>\n",
       "<path class=\"bond-6\" d=\"M 274.172,113.91 L 267.66,115.494\" style=\"fill:none;fill-rule:evenodd;stroke:#CCCC00;stroke-width:2.0px;stroke-linecap:butt;stroke-linejoin:miter;stroke-opacity:1\"/>\n",
       "<path class=\"bond-19\" d=\"M 284.443,109.451 L 286.561,106.515\" style=\"fill:none;fill-rule:evenodd;stroke:#0000FF;stroke-width:2.0px;stroke-linecap:butt;stroke-linejoin:miter;stroke-opacity:1\"/>\n",
       "<path class=\"bond-19\" d=\"M 286.561,106.515 L 288.68,103.578\" style=\"fill:none;fill-rule:evenodd;stroke:#000000;stroke-width:2.0px;stroke-linecap:butt;stroke-linejoin:miter;stroke-opacity:1\"/>\n",
       "<path class=\"bond-7\" d=\"M 264.122,118.051 L 263.392,119.923\" style=\"fill:none;fill-rule:evenodd;stroke:#CCCC00;stroke-width:2.0px;stroke-linecap:butt;stroke-linejoin:miter;stroke-opacity:1\"/>\n",
       "<path class=\"bond-7\" d=\"M 263.392,119.923 L 262.662,121.795\" style=\"fill:none;fill-rule:evenodd;stroke:#FF0000;stroke-width:2.0px;stroke-linecap:butt;stroke-linejoin:miter;stroke-opacity:1\"/>\n",
       "<path class=\"bond-7\" d=\"M 265.797,118.704 L 265.067,120.576\" style=\"fill:none;fill-rule:evenodd;stroke:#CCCC00;stroke-width:2.0px;stroke-linecap:butt;stroke-linejoin:miter;stroke-opacity:1\"/>\n",
       "<path class=\"bond-7\" d=\"M 265.067,120.576 L 264.337,122.448\" style=\"fill:none;fill-rule:evenodd;stroke:#FF0000;stroke-width:2.0px;stroke-linecap:butt;stroke-linejoin:miter;stroke-opacity:1\"/>\n",
       "<path class=\"bond-8\" d=\"M 264.092,118.017 L 263.489,119.495\" style=\"fill:none;fill-rule:evenodd;stroke:#CCCC00;stroke-width:2.0px;stroke-linecap:butt;stroke-linejoin:miter;stroke-opacity:1\"/>\n",
       "<path class=\"bond-8\" d=\"M 263.489,119.495 L 262.887,120.974\" style=\"fill:none;fill-rule:evenodd;stroke:#FF0000;stroke-width:2.0px;stroke-linecap:butt;stroke-linejoin:miter;stroke-opacity:1\"/>\n",
       "<path class=\"bond-8\" d=\"M 265.757,118.696 L 265.154,120.174\" style=\"fill:none;fill-rule:evenodd;stroke:#CCCC00;stroke-width:2.0px;stroke-linecap:butt;stroke-linejoin:miter;stroke-opacity:1\"/>\n",
       "<path class=\"bond-8\" d=\"M 265.154,120.174 L 264.552,121.652\" style=\"fill:none;fill-rule:evenodd;stroke:#FF0000;stroke-width:2.0px;stroke-linecap:butt;stroke-linejoin:miter;stroke-opacity:1\"/>\n",
       "<path class=\"bond-9\" d=\"M 264.282,113.36 L 260.363,107.234\" style=\"fill:none;fill-rule:evenodd;stroke:#CCCC00;stroke-width:2.0px;stroke-linecap:butt;stroke-linejoin:miter;stroke-opacity:1\"/>\n",
       "<path class=\"bond-9\" d=\"M 260.363,107.234 L 256.444,101.108\" style=\"fill:none;fill-rule:evenodd;stroke:#000000;stroke-width:2.0px;stroke-linecap:butt;stroke-linejoin:miter;stroke-opacity:1\"/>\n",
       "<path class=\"bond-10\" d=\"M 256.444,101.108 L 256.873,92.591\" style=\"fill:none;fill-rule:evenodd;stroke:#000000;stroke-width:2.0px;stroke-linecap:butt;stroke-linejoin:miter;stroke-opacity:1\"/>\n",
       "<path class=\"bond-10\" d=\"M 254.713,99.7403 L 255.013,93.7781\" style=\"fill:none;fill-rule:evenodd;stroke:#000000;stroke-width:2.0px;stroke-linecap:butt;stroke-linejoin:miter;stroke-opacity:1\"/>\n",
       "<path class=\"bond-35\" d=\"M 256.444,101.108 L 248.935,97.5078\" style=\"fill:none;fill-rule:evenodd;stroke:#000000;stroke-width:2.0px;stroke-linecap:butt;stroke-linejoin:miter;stroke-opacity:1\"/>\n",
       "<path class=\"bond-11\" d=\"M 256.873,92.591 L 249.825,80.5433\" style=\"fill:none;fill-rule:evenodd;stroke:#000000;stroke-width:2.0px;stroke-linecap:butt;stroke-linejoin:miter;stroke-opacity:1\"/>\n",
       "<path class=\"bond-45\" d=\"M 256.873,92.591 L 260.955,94.4251\" style=\"fill:none;fill-rule:evenodd;stroke:#000000;stroke-width:2.0px;stroke-linecap:butt;stroke-linejoin:miter;stroke-opacity:1\"/>\n",
       "<path class=\"bond-12\" d=\"M 249.825,80.5433 L 242.306,76.8409\" style=\"fill:none;fill-rule:evenodd;stroke:#000000;stroke-width:2.0px;stroke-linecap:butt;stroke-linejoin:miter;stroke-opacity:1\"/>\n",
       "<path class=\"bond-12\" d=\"M 247.903,81.6012 L 242.639,79.0094\" style=\"fill:none;fill-rule:evenodd;stroke:#000000;stroke-width:2.0px;stroke-linecap:butt;stroke-linejoin:miter;stroke-opacity:1\"/>\n",
       "<path class=\"bond-46\" d=\"M 249.825,80.5433 L 250.142,76.3812\" style=\"fill:none;fill-rule:evenodd;stroke:#000000;stroke-width:2.0px;stroke-linecap:butt;stroke-linejoin:miter;stroke-opacity:1\"/>\n",
       "<path class=\"bond-13\" d=\"M 242.306,76.8409 L 235.267,64.7124\" style=\"fill:none;fill-rule:evenodd;stroke:#000000;stroke-width:2.0px;stroke-linecap:butt;stroke-linejoin:miter;stroke-opacity:1\"/>\n",
       "<path class=\"bond-37\" d=\"M 242.306,76.8409 L 241.859,85.4023\" style=\"fill:none;fill-rule:evenodd;stroke:#000000;stroke-width:2.0px;stroke-linecap:butt;stroke-linejoin:miter;stroke-opacity:1\"/>\n",
       "<path class=\"bond-14\" d=\"M 235.267,64.7124 L 227.887,61.0888\" style=\"fill:none;fill-rule:evenodd;stroke:#000000;stroke-width:2.0px;stroke-linecap:butt;stroke-linejoin:miter;stroke-opacity:1\"/>\n",
       "<path class=\"bond-14\" d=\"M 233.368,65.783 L 228.201,63.2465\" style=\"fill:none;fill-rule:evenodd;stroke:#000000;stroke-width:2.0px;stroke-linecap:butt;stroke-linejoin:miter;stroke-opacity:1\"/>\n",
       "<path class=\"bond-47\" d=\"M 235.267,64.7124 L 235.412,60.3469\" style=\"fill:none;fill-rule:evenodd;stroke:#000000;stroke-width:2.0px;stroke-linecap:butt;stroke-linejoin:miter;stroke-opacity:1\"/>\n",
       "<path class=\"bond-15\" d=\"M 227.887,61.0888 L 227.451,69.5273\" style=\"fill:none;fill-rule:evenodd;stroke:#000000;stroke-width:2.0px;stroke-linecap:butt;stroke-linejoin:miter;stroke-opacity:1\"/>\n",
       "<path class=\"bond-48\" d=\"M 227.887,61.0888 L 223.87,54.1076\" style=\"fill:none;fill-rule:evenodd;stroke:#000000;stroke-width:2.0px;stroke-linecap:butt;stroke-linejoin:miter;stroke-opacity:1\"/>\n",
       "<path class=\"bond-16\" d=\"M 227.451,69.5273 L 234.397,81.6486\" style=\"fill:none;fill-rule:evenodd;stroke:#000000;stroke-width:2.0px;stroke-linecap:butt;stroke-linejoin:miter;stroke-opacity:1\"/>\n",
       "<path class=\"bond-16\" d=\"M 231.093,69.8555 L 235.956,78.3403\" style=\"fill:none;fill-rule:evenodd;stroke:#000000;stroke-width:2.0px;stroke-linecap:butt;stroke-linejoin:miter;stroke-opacity:1\"/>\n",
       "<path class=\"bond-49\" d=\"M 227.451,69.5273 L 223.539,67.5744\" style=\"fill:none;fill-rule:evenodd;stroke:#000000;stroke-width:2.0px;stroke-linecap:butt;stroke-linejoin:miter;stroke-opacity:1\"/>\n",
       "<path class=\"bond-17\" d=\"M 234.397,81.6486 L 241.859,85.4023\" style=\"fill:none;fill-rule:evenodd;stroke:#000000;stroke-width:2.0px;stroke-linecap:butt;stroke-linejoin:miter;stroke-opacity:1\"/>\n",
       "<path class=\"bond-50\" d=\"M 234.397,81.6486 L 234.112,85.7742\" style=\"fill:none;fill-rule:evenodd;stroke:#000000;stroke-width:2.0px;stroke-linecap:butt;stroke-linejoin:miter;stroke-opacity:1\"/>\n",
       "<path class=\"bond-18\" d=\"M 241.859,85.4023 L 248.935,97.5078\" style=\"fill:none;fill-rule:evenodd;stroke:#000000;stroke-width:2.0px;stroke-linecap:butt;stroke-linejoin:miter;stroke-opacity:1\"/>\n",
       "<path class=\"bond-18\" d=\"M 245.508,85.7057 L 250.461,94.1796\" style=\"fill:none;fill-rule:evenodd;stroke:#000000;stroke-width:2.0px;stroke-linecap:butt;stroke-linejoin:miter;stroke-opacity:1\"/>\n",
       "<path class=\"bond-51\" d=\"M 248.935,97.5078 L 248.798,101.736\" style=\"fill:none;fill-rule:evenodd;stroke:#000000;stroke-width:2.0px;stroke-linecap:butt;stroke-linejoin:miter;stroke-opacity:1\"/>\n",
       "<path class=\"bond-20\" d=\"M 288.68,103.578 L 284.961,89.1428\" style=\"fill:none;fill-rule:evenodd;stroke:#000000;stroke-width:2.0px;stroke-linecap:butt;stroke-linejoin:miter;stroke-opacity:1\"/>\n",
       "<path class=\"bond-36\" d=\"M 288.68,103.578 L 302.913,102.323\" style=\"fill:none;fill-rule:evenodd;stroke:#000000;stroke-width:2.0px;stroke-linecap:butt;stroke-linejoin:miter;stroke-opacity:1\"/>\n",
       "<path class=\"bond-52\" d=\"M 288.038,104.576 L 289.027,104.712\" style=\"fill:none;fill-rule:evenodd;stroke:#000000;stroke-width:1.0px;stroke-linecap:butt;stroke-linejoin:miter;stroke-opacity:1\"/>\n",
       "<path class=\"bond-52\" d=\"M 287.396,105.573 L 289.375,105.846\" style=\"fill:none;fill-rule:evenodd;stroke:#000000;stroke-width:1.0px;stroke-linecap:butt;stroke-linejoin:miter;stroke-opacity:1\"/>\n",
       "<path class=\"bond-52\" d=\"M 286.754,106.571 L 289.723,106.98\" style=\"fill:none;fill-rule:evenodd;stroke:#000000;stroke-width:1.0px;stroke-linecap:butt;stroke-linejoin:miter;stroke-opacity:1\"/>\n",
       "<path class=\"bond-21\" d=\"M 284.961,89.1428 L 297.885,84.3311\" style=\"fill:none;fill-rule:evenodd;stroke:#000000;stroke-width:2.0px;stroke-linecap:butt;stroke-linejoin:miter;stroke-opacity:1\"/>\n",
       "<path class=\"bond-53\" d=\"M 284.961,89.1428 L 284.028,85.8945\" style=\"fill:none;fill-rule:evenodd;stroke:#000000;stroke-width:2.0px;stroke-linecap:butt;stroke-linejoin:miter;stroke-opacity:1\"/>\n",
       "<path class=\"bond-54\" d=\"M 284.961,89.1428 L 277.93,88.4821\" style=\"fill:none;fill-rule:evenodd;stroke:#000000;stroke-width:2.0px;stroke-linecap:butt;stroke-linejoin:miter;stroke-opacity:1\"/>\n",
       "<path class=\"bond-22\" d=\"M 297.885,84.3311 L 302.111,88.3096\" style=\"fill:none;fill-rule:evenodd;stroke:#000000;stroke-width:2.0px;stroke-linecap:butt;stroke-linejoin:miter;stroke-opacity:1\"/>\n",
       "<path class=\"bond-22\" d=\"M 302.111,88.3096 L 306.336,92.2882\" style=\"fill:none;fill-rule:evenodd;stroke:#0000FF;stroke-width:2.0px;stroke-linecap:butt;stroke-linejoin:miter;stroke-opacity:1\"/>\n",
       "<path class=\"bond-55\" d=\"M 297.885,84.3311 L 300.106,76.5609\" style=\"fill:none;fill-rule:evenodd;stroke:#000000;stroke-width:2.0px;stroke-linecap:butt;stroke-linejoin:miter;stroke-opacity:1\"/>\n",
       "<path class=\"bond-56\" d=\"M 297.885,84.3311 L 296.331,84.3394\" style=\"fill:none;fill-rule:evenodd;stroke:#000000;stroke-width:2.0px;stroke-linecap:butt;stroke-linejoin:miter;stroke-opacity:1\"/>\n",
       "<path class=\"bond-23\" d=\"M 310.255,94.0779 L 316.051,93.8878\" style=\"fill:none;fill-rule:evenodd;stroke:#0000FF;stroke-width:2.0px;stroke-linecap:butt;stroke-linejoin:miter;stroke-opacity:1\"/>\n",
       "<path class=\"bond-23\" d=\"M 316.051,93.8878 L 321.847,93.6976\" style=\"fill:none;fill-rule:evenodd;stroke:#000000;stroke-width:2.0px;stroke-linecap:butt;stroke-linejoin:miter;stroke-opacity:1\"/>\n",
       "<path class=\"bond-33\" d=\"M 306.744,96.5108 L 304.828,99.4169\" style=\"fill:none;fill-rule:evenodd;stroke:#0000FF;stroke-width:2.0px;stroke-linecap:butt;stroke-linejoin:miter;stroke-opacity:1\"/>\n",
       "<path class=\"bond-33\" d=\"M 304.828,99.4169 L 302.913,102.323\" style=\"fill:none;fill-rule:evenodd;stroke:#000000;stroke-width:2.0px;stroke-linecap:butt;stroke-linejoin:miter;stroke-opacity:1\"/>\n",
       "<path class=\"bond-24\" d=\"M 322.682,94.0321 L 324.151,90.365\" style=\"fill:none;fill-rule:evenodd;stroke:#000000;stroke-width:2.0px;stroke-linecap:butt;stroke-linejoin:miter;stroke-opacity:1\"/>\n",
       "<path class=\"bond-24\" d=\"M 324.151,90.365 L 325.621,86.6979\" style=\"fill:none;fill-rule:evenodd;stroke:#FF0000;stroke-width:2.0px;stroke-linecap:butt;stroke-linejoin:miter;stroke-opacity:1\"/>\n",
       "<path class=\"bond-24\" d=\"M 321.013,93.3632 L 322.482,89.6961\" style=\"fill:none;fill-rule:evenodd;stroke:#000000;stroke-width:2.0px;stroke-linecap:butt;stroke-linejoin:miter;stroke-opacity:1\"/>\n",
       "<path class=\"bond-24\" d=\"M 322.482,89.6961 L 323.952,86.029\" style=\"fill:none;fill-rule:evenodd;stroke:#FF0000;stroke-width:2.0px;stroke-linecap:butt;stroke-linejoin:miter;stroke-opacity:1\"/>\n",
       "<path class=\"bond-25\" d=\"M 321.847,93.6976 L 325.162,97.753\" style=\"fill:none;fill-rule:evenodd;stroke:#000000;stroke-width:2.0px;stroke-linecap:butt;stroke-linejoin:miter;stroke-opacity:1\"/>\n",
       "<path class=\"bond-25\" d=\"M 325.162,97.753 L 328.477,101.808\" style=\"fill:none;fill-rule:evenodd;stroke:#FF0000;stroke-width:2.0px;stroke-linecap:butt;stroke-linejoin:miter;stroke-opacity:1\"/>\n",
       "<path class=\"bond-26\" d=\"M 332.808,104.292 L 338.568,104.277\" style=\"fill:none;fill-rule:evenodd;stroke:#FF0000;stroke-width:2.0px;stroke-linecap:butt;stroke-linejoin:miter;stroke-opacity:1\"/>\n",
       "<path class=\"bond-26\" d=\"M 338.568,104.277 L 344.329,104.261\" style=\"fill:none;fill-rule:evenodd;stroke:#000000;stroke-width:2.0px;stroke-linecap:butt;stroke-linejoin:miter;stroke-opacity:1\"/>\n",
       "<path class=\"bond-27\" d=\"M 344.329,104.261 L 351.972,95.2591\" style=\"fill:none;fill-rule:evenodd;stroke:#000000;stroke-width:2.0px;stroke-linecap:butt;stroke-linejoin:miter;stroke-opacity:1\"/>\n",
       "<path class=\"bond-57\" d=\"M 344.329,104.261 L 347.325,112.209\" style=\"fill:none;fill-rule:evenodd;stroke:#000000;stroke-width:2.0px;stroke-linecap:butt;stroke-linejoin:miter;stroke-opacity:1\"/>\n",
       "<path class=\"bond-58\" d=\"M 344.329,104.261 L 344.686,103.434\" style=\"fill:none;fill-rule:evenodd;stroke:#000000;stroke-width:2.0px;stroke-linecap:butt;stroke-linejoin:miter;stroke-opacity:1\"/>\n",
       "<path class=\"bond-28\" d=\"M 351.972,95.2591 L 356.103,82.4912\" style=\"fill:none;fill-rule:evenodd;stroke:#000000;stroke-width:2.0px;stroke-linecap:butt;stroke-linejoin:miter;stroke-opacity:1\"/>\n",
       "<path class=\"bond-28\" d=\"M 355.443,94.2664 L 358.335,85.3289\" style=\"fill:none;fill-rule:evenodd;stroke:#000000;stroke-width:2.0px;stroke-linecap:butt;stroke-linejoin:miter;stroke-opacity:1\"/>\n",
       "<path class=\"bond-38\" d=\"M 351.972,95.2591 L 354.591,99.3831\" style=\"fill:none;fill-rule:evenodd;stroke:#000000;stroke-width:2.0px;stroke-linecap:butt;stroke-linejoin:miter;stroke-opacity:1\"/>\n",
       "<path class=\"bond-29\" d=\"M 356.103,82.4912 L 362.824,74.0233\" style=\"fill:none;fill-rule:evenodd;stroke:#000000;stroke-width:2.0px;stroke-linecap:butt;stroke-linejoin:miter;stroke-opacity:1\"/>\n",
       "<path class=\"bond-59\" d=\"M 356.103,82.4912 L 355.381,81.2818\" style=\"fill:none;fill-rule:evenodd;stroke:#000000;stroke-width:2.0px;stroke-linecap:butt;stroke-linejoin:miter;stroke-opacity:1\"/>\n",
       "<path class=\"bond-30\" d=\"M 362.824,74.0233 L 365.446,78.2218\" style=\"fill:none;fill-rule:evenodd;stroke:#000000;stroke-width:2.0px;stroke-linecap:butt;stroke-linejoin:miter;stroke-opacity:1\"/>\n",
       "<path class=\"bond-30\" d=\"M 361.693,75.6056 L 363.528,78.5445\" style=\"fill:none;fill-rule:evenodd;stroke:#000000;stroke-width:2.0px;stroke-linecap:butt;stroke-linejoin:miter;stroke-opacity:1\"/>\n",
       "<path class=\"bond-60\" d=\"M 362.824,74.0233 L 365.202,66.5675\" style=\"fill:none;fill-rule:evenodd;stroke:#000000;stroke-width:2.0px;stroke-linecap:butt;stroke-linejoin:miter;stroke-opacity:1\"/>\n",
       "<path class=\"bond-31\" d=\"M 365.446,78.2218 L 361.336,90.8899\" style=\"fill:none;fill-rule:evenodd;stroke:#000000;stroke-width:2.0px;stroke-linecap:butt;stroke-linejoin:miter;stroke-opacity:1\"/>\n",
       "<path class=\"bond-61\" d=\"M 365.446,78.2218 L 368.794,73.9829\" style=\"fill:none;fill-rule:evenodd;stroke:#000000;stroke-width:2.0px;stroke-linecap:butt;stroke-linejoin:miter;stroke-opacity:1\"/>\n",
       "<path class=\"bond-32\" d=\"M 361.336,90.8899 L 354.591,99.3831\" style=\"fill:none;fill-rule:evenodd;stroke:#000000;stroke-width:2.0px;stroke-linecap:butt;stroke-linejoin:miter;stroke-opacity:1\"/>\n",
       "<path class=\"bond-32\" d=\"M 358.916,91.0455 L 354.194,96.9907\" style=\"fill:none;fill-rule:evenodd;stroke:#000000;stroke-width:2.0px;stroke-linecap:butt;stroke-linejoin:miter;stroke-opacity:1\"/>\n",
       "<path class=\"bond-62\" d=\"M 361.336,90.8899 L 361.945,91.8772\" style=\"fill:none;fill-rule:evenodd;stroke:#000000;stroke-width:2.0px;stroke-linecap:butt;stroke-linejoin:miter;stroke-opacity:1\"/>\n",
       "<path class=\"bond-63\" d=\"M 354.591,99.3831 L 352.179,106.774\" style=\"fill:none;fill-rule:evenodd;stroke:#000000;stroke-width:2.0px;stroke-linecap:butt;stroke-linejoin:miter;stroke-opacity:1\"/>\n",
       "<path class=\"bond-64\" d=\"M 302.913,102.323 L 304.81,98.9353 L 301.832,98.594 Z\" style=\"fill:#000000;fill-rule:evenodd;fill-opacity:1;stroke:#000000;stroke-width:2px;stroke-linecap:butt;stroke-linejoin:miter;stroke-opacity:1;\"/>\n",
       "<path class=\"atom-5\" d=\"M 289.355 132.279 Q 289.355 131.259, 289.859 130.689 Q 290.363 130.119, 291.305 130.119 Q 292.247 130.119, 292.751 130.689 Q 293.255 131.259, 293.255 132.279 Q 293.255 133.311, 292.745 133.899 Q 292.235 134.481, 291.305 134.481 Q 290.369 134.481, 289.859 133.899 Q 289.355 133.317, 289.355 132.279 M 291.305 134.001 Q 291.953 134.001, 292.301 133.569 Q 292.655 133.131, 292.655 132.279 Q 292.655 131.445, 292.301 131.025 Q 291.953 130.599, 291.305 130.599 Q 290.657 130.599, 290.303 131.019 Q 289.955 131.439, 289.955 132.279 Q 289.955 133.137, 290.303 133.569 Q 290.657 134.001, 291.305 134.001 \" fill=\"#FF0000\"/>\n",
       "<path class=\"atom-6\" d=\"M 281.788 109.706 L 283.18 111.956 Q 283.318 112.178, 283.54 112.58 Q 283.762 112.982, 283.774 113.006 L 283.774 109.706 L 284.338 109.706 L 284.338 113.954 L 283.756 113.954 L 282.262 111.494 Q 282.088 111.206, 281.902 110.876 Q 281.722 110.546, 281.668 110.444 L 281.668 113.954 L 281.116 113.954 L 281.116 109.706 L 281.788 109.706 \" fill=\"#0000FF\"/>\n",
       "<path class=\"atom-7\" d=\"M 264.719 117.375 Q 264.767 117.393, 264.965 117.477 Q 265.163 117.561, 265.379 117.615 Q 265.601 117.663, 265.817 117.663 Q 266.219 117.663, 266.453 117.471 Q 266.687 117.273, 266.687 116.931 Q 266.687 116.697, 266.567 116.553 Q 266.453 116.409, 266.273 116.331 Q 266.093 116.253, 265.793 116.163 Q 265.415 116.049, 265.187 115.941 Q 264.965 115.833, 264.803 115.605 Q 264.647 115.377, 264.647 114.993 Q 264.647 114.459, 265.007 114.129 Q 265.373 113.799, 266.093 113.799 Q 266.585 113.799, 267.143 114.033 L 267.005 114.495 Q 266.495 114.285, 266.111 114.285 Q 265.697 114.285, 265.469 114.459 Q 265.241 114.627, 265.247 114.921 Q 265.247 115.149, 265.361 115.287 Q 265.481 115.425, 265.649 115.503 Q 265.823 115.581, 266.111 115.671 Q 266.495 115.791, 266.723 115.911 Q 266.951 116.031, 267.113 116.277 Q 267.281 116.517, 267.281 116.931 Q 267.281 117.519, 266.885 117.837 Q 266.495 118.149, 265.841 118.149 Q 265.463 118.149, 265.175 118.065 Q 264.893 117.987, 264.557 117.849 L 264.719 117.375 \" fill=\"#CCCC00\"/>\n",
       "<path class=\"atom-8\" d=\"M 260.649 124.444 Q 260.649 123.424, 261.153 122.854 Q 261.657 122.284, 262.599 122.284 Q 263.541 122.284, 264.045 122.854 Q 264.549 123.424, 264.549 124.444 Q 264.549 125.476, 264.039 126.064 Q 263.529 126.646, 262.599 126.646 Q 261.663 126.646, 261.153 126.064 Q 260.649 125.482, 260.649 124.444 M 262.599 126.166 Q 263.247 126.166, 263.595 125.734 Q 263.949 125.296, 263.949 124.444 Q 263.949 123.61, 263.595 123.19 Q 263.247 122.764, 262.599 122.764 Q 261.951 122.764, 261.597 123.184 Q 261.249 123.604, 261.249 124.444 Q 261.249 125.302, 261.597 125.734 Q 261.951 126.166, 262.599 126.166 \" fill=\"#FF0000\"/>\n",
       "<path class=\"atom-9\" d=\"M 260.836 123.615 Q 260.836 122.595, 261.34 122.025 Q 261.844 121.455, 262.786 121.455 Q 263.728 121.455, 264.232 122.025 Q 264.736 122.595, 264.736 123.615 Q 264.736 124.647, 264.226 125.235 Q 263.716 125.817, 262.786 125.817 Q 261.85 125.817, 261.34 125.235 Q 260.836 124.653, 260.836 123.615 M 262.786 125.337 Q 263.434 125.337, 263.782 124.905 Q 264.136 124.467, 264.136 123.615 Q 264.136 122.781, 263.782 122.361 Q 263.434 121.935, 262.786 121.935 Q 262.138 121.935, 261.784 122.355 Q 261.436 122.775, 261.436 123.615 Q 261.436 124.473, 261.784 124.905 Q 262.138 125.337, 262.786 125.337 \" fill=\"#FF0000\"/>\n",
       "<path class=\"atom-23\" d=\"M 307.366 92.0178 L 308.758 94.2678 Q 308.896 94.4898, 309.118 94.8918 Q 309.34 95.2938, 309.352 95.3178 L 309.352 92.0178 L 309.916 92.0178 L 309.916 96.2658 L 309.334 96.2658 L 307.84 93.8058 Q 307.666 93.5178, 307.48 93.1878 Q 307.3 92.8578, 307.246 92.7558 L 307.246 96.2658 L 306.694 96.2658 L 306.694 92.0178 L 307.366 92.0178 \" fill=\"#0000FF\"/>\n",
       "<path class=\"atom-25\" d=\"M 323.829 83.8971 Q 323.829 82.8771, 324.333 82.3071 Q 324.837 81.7371, 325.779 81.7371 Q 326.721 81.7371, 327.225 82.3071 Q 327.729 82.8771, 327.729 83.8971 Q 327.729 84.9291, 327.219 85.5171 Q 326.709 86.0991, 325.779 86.0991 Q 324.843 86.0991, 324.333 85.5171 Q 323.829 84.9351, 323.829 83.8971 M 325.779 85.6191 Q 326.427 85.6191, 326.775 85.1871 Q 327.129 84.7491, 327.129 83.8971 Q 327.129 83.0631, 326.775 82.6431 Q 326.427 82.2171, 325.779 82.2171 Q 325.131 82.2171, 324.777 82.6371 Q 324.429 83.0571, 324.429 83.8971 Q 324.429 84.7551, 324.777 85.1871 Q 325.131 85.6191, 325.779 85.6191 \" fill=\"#FF0000\"/>\n",
       "<path class=\"atom-26\" d=\"M 328.562 104.311 Q 328.562 103.291, 329.066 102.721 Q 329.57 102.151, 330.512 102.151 Q 331.454 102.151, 331.958 102.721 Q 332.462 103.291, 332.462 104.311 Q 332.462 105.343, 331.952 105.931 Q 331.442 106.513, 330.512 106.513 Q 329.576 106.513, 329.066 105.931 Q 328.562 105.349, 328.562 104.311 M 330.512 106.033 Q 331.16 106.033, 331.508 105.601 Q 331.862 105.163, 331.862 104.311 Q 331.862 103.477, 331.508 103.057 Q 331.16 102.631, 330.512 102.631 Q 329.864 102.631, 329.51 103.051 Q 329.162 103.471, 329.162 104.311 Q 329.162 105.169, 329.51 105.601 Q 329.864 106.033, 330.512 106.033 \" fill=\"#FF0000\"/>\n",
       "<path class=\"atom-35\" d=\"M 330.912 130.726 L 331.488 130.726 L 331.488 132.532 L 333.66 132.532 L 333.66 130.726 L 334.236 130.726 L 334.236 134.974 L 333.66 134.974 L 333.66 133.012 L 331.488 133.012 L 331.488 134.974 L 330.912 134.974 L 330.912 130.726 \" fill=\"#000000\"/>\n",
       "<path class=\"atom-36\" d=\"M 331.699 146.163 L 332.275 146.163 L 332.275 147.969 L 334.447 147.969 L 334.447 146.163 L 335.023 146.163 L 335.023 150.411 L 334.447 150.411 L 334.447 148.449 L 332.275 148.449 L 332.275 150.411 L 331.699 150.411 L 331.699 146.163 \" fill=\"#000000\"/>\n",
       "<path class=\"atom-37\" d=\"M 318.675 135.472 L 319.251 135.472 L 319.251 137.278 L 321.423 137.278 L 321.423 135.472 L 321.999 135.472 L 321.999 139.72 L 321.423 139.72 L 321.423 137.758 L 319.251 137.758 L 319.251 139.72 L 318.675 139.72 L 318.675 135.472 \" fill=\"#000000\"/>\n",
       "<path class=\"atom-38\" d=\"M 312.403 112.342 L 312.979 112.342 L 312.979 114.148 L 315.151 114.148 L 315.151 112.342 L 315.727 112.342 L 315.727 116.59 L 315.151 116.59 L 315.151 114.628 L 312.979 114.628 L 312.979 116.59 L 312.403 116.59 L 312.403 112.342 \" fill=\"#000000\"/>\n",
       "<path class=\"atom-39\" d=\"M 324.741 109.398 L 325.317 109.398 L 325.317 111.204 L 327.489 111.204 L 327.489 109.398 L 328.065 109.398 L 328.065 113.646 L 327.489 113.646 L 327.489 111.684 L 325.317 111.684 L 325.317 113.646 L 324.741 113.646 L 324.741 109.398 \" fill=\"#000000\"/>\n",
       "<path class=\"atom-40\" d=\"M 307.421 120.179 L 307.997 120.179 L 307.997 121.985 L 310.169 121.985 L 310.169 120.179 L 310.745 120.179 L 310.745 124.427 L 310.169 124.427 L 310.169 122.465 L 307.997 122.465 L 307.997 124.427 L 307.421 124.427 L 307.421 120.179 \" fill=\"#000000\"/>\n",
       "<path class=\"atom-41\" d=\"M 261.117 93.1206 L 261.693 93.1206 L 261.693 94.9266 L 263.865 94.9266 L 263.865 93.1206 L 264.441 93.1206 L 264.441 97.3686 L 263.865 97.3686 L 263.865 95.4066 L 261.693 95.4066 L 261.693 97.3686 L 261.117 97.3686 L 261.117 93.1206 \" fill=\"#000000\"/>\n",
       "<path class=\"atom-42\" d=\"M 248.654 71.9715 L 249.23 71.9715 L 249.23 73.7775 L 251.402 73.7775 L 251.402 71.9715 L 251.978 71.9715 L 251.978 76.2195 L 251.402 76.2195 L 251.402 74.2575 L 249.23 74.2575 L 249.23 76.2195 L 248.654 76.2195 L 248.654 71.9715 \" fill=\"#000000\"/>\n",
       "<path class=\"atom-43\" d=\"M 233.825 55.9325 L 234.401 55.9325 L 234.401 57.7385 L 236.573 57.7385 L 236.573 55.9325 L 237.149 55.9325 L 237.149 60.1805 L 236.573 60.1805 L 236.573 58.2185 L 234.401 58.2185 L 234.401 60.1805 L 233.825 60.1805 L 233.825 55.9325 \" fill=\"#000000\"/>\n",
       "<path class=\"atom-44\" d=\"M 220.831 49.5892 L 221.407 49.5892 L 221.407 51.3952 L 223.579 51.3952 L 223.579 49.5892 L 224.155 49.5892 L 224.155 53.8372 L 223.579 53.8372 L 223.579 51.8752 L 221.407 51.8752 L 221.407 53.8372 L 220.831 53.8372 L 220.831 49.5892 \" fill=\"#000000\"/>\n",
       "<path class=\"atom-45\" d=\"M 220.054 64.5408 L 220.63 64.5408 L 220.63 66.3468 L 222.802 66.3468 L 222.802 64.5408 L 223.378 64.5408 L 223.378 68.7888 L 222.802 68.7888 L 222.802 66.8268 L 220.63 66.8268 L 220.63 68.7888 L 220.054 68.7888 L 220.054 64.5408 \" fill=\"#000000\"/>\n",
       "<path class=\"atom-46\" d=\"M 232.292 85.9349 L 232.868 85.9349 L 232.868 87.7409 L 235.04 87.7409 L 235.04 85.9349 L 235.616 85.9349 L 235.616 90.1829 L 235.04 90.1829 L 235.04 88.2209 L 232.868 88.2209 L 232.868 90.1829 L 232.292 90.1829 L 232.292 85.9349 \" fill=\"#000000\"/>\n",
       "<path class=\"atom-47\" d=\"M 247.061 101.898 L 247.637 101.898 L 247.637 103.704 L 249.809 103.704 L 249.809 101.898 L 250.385 101.898 L 250.385 106.146 L 249.809 106.146 L 249.809 104.184 L 247.637 104.184 L 247.637 106.146 L 247.061 106.146 L 247.061 101.898 \" fill=\"#000000\"/>\n",
       "<path class=\"atom-48\" d=\"M 286.265 106.914 L 286.841 106.914 L 286.841 108.72 L 289.013 108.72 L 289.013 106.914 L 289.589 106.914 L 289.589 111.162 L 289.013 111.162 L 289.013 109.2 L 286.841 109.2 L 286.841 111.162 L 286.265 111.162 L 286.265 106.914 \" fill=\"#000000\"/>\n",
       "<path class=\"atom-49\" d=\"M 281.715 81.503 L 282.291 81.503 L 282.291 83.309 L 284.463 83.309 L 284.463 81.503 L 285.039 81.503 L 285.039 85.751 L 284.463 85.751 L 284.463 83.789 L 282.291 83.789 L 282.291 85.751 L 281.715 85.751 L 281.715 81.503 \" fill=\"#000000\"/>\n",
       "<path class=\"atom-50\" d=\"M 274.382 86.1808 L 274.958 86.1808 L 274.958 87.9868 L 277.13 87.9868 L 277.13 86.1808 L 277.706 86.1808 L 277.706 90.4288 L 277.13 90.4288 L 277.13 88.4668 L 274.958 88.4668 L 274.958 90.4288 L 274.382 90.4288 L 274.382 86.1808 \" fill=\"#000000\"/>\n",
       "<path class=\"atom-51\" d=\"M 299.126 72.0487 L 299.702 72.0487 L 299.702 73.8547 L 301.874 73.8547 L 301.874 72.0487 L 302.45 72.0487 L 302.45 76.2967 L 301.874 76.2967 L 301.874 74.3347 L 299.702 74.3347 L 299.702 76.2967 L 299.126 76.2967 L 299.126 72.0487 \" fill=\"#000000\"/>\n",
       "<path class=\"atom-52\" d=\"M 294.669 82.2154 L 295.245 82.2154 L 295.245 84.0214 L 297.417 84.0214 L 297.417 82.2154 L 297.993 82.2154 L 297.993 86.4634 L 297.417 86.4634 L 297.417 84.5014 L 295.245 84.5014 L 295.245 86.4634 L 294.669 86.4634 L 294.669 82.2154 \" fill=\"#000000\"/>\n",
       "<path class=\"atom-53\" d=\"M 346.568 112.485 L 347.144 112.485 L 347.144 114.291 L 349.316 114.291 L 349.316 112.485 L 349.892 112.485 L 349.892 116.733 L 349.316 116.733 L 349.316 114.771 L 347.144 114.771 L 347.144 116.733 L 346.568 116.733 L 346.568 112.485 \" fill=\"#000000\"/>\n",
       "<path class=\"atom-54\" d=\"M 343.976 99.1035 L 344.552 99.1035 L 344.552 100.909 L 346.724 100.909 L 346.724 99.1035 L 347.3 99.1035 L 347.3 103.351 L 346.724 103.351 L 346.724 101.389 L 344.552 101.389 L 344.552 103.351 L 343.976 103.351 L 343.976 99.1035 \" fill=\"#000000\"/>\n",
       "<path class=\"atom-55\" d=\"M 352.392 76.9339 L 352.968 76.9339 L 352.968 78.7399 L 355.14 78.7399 L 355.14 76.9339 L 355.716 76.9339 L 355.716 81.1819 L 355.14 81.1819 L 355.14 79.2199 L 352.968 79.2199 L 352.968 81.1819 L 352.392 81.1819 L 352.392 76.9339 \" fill=\"#000000\"/>\n",
       "<path class=\"atom-56\" d=\"M 364.299 62.0613 L 364.875 62.0613 L 364.875 63.8673 L 367.047 63.8673 L 367.047 62.0613 L 367.623 62.0613 L 367.623 66.3093 L 367.047 66.3093 L 367.047 64.3473 L 364.875 64.3473 L 364.875 66.3093 L 364.299 66.3093 L 364.299 62.0613 \" fill=\"#000000\"/>\n",
       "<path class=\"atom-57\" d=\"M 368.975 69.5255 L 369.551 69.5255 L 369.551 71.3315 L 371.723 71.3315 L 371.723 69.5255 L 372.299 69.5255 L 372.299 73.7735 L 371.723 73.7735 L 371.723 71.8115 L 369.551 71.8115 L 369.551 73.7735 L 368.975 73.7735 L 368.975 69.5255 \" fill=\"#000000\"/>\n",
       "<path class=\"atom-58\" d=\"M 361.65 91.9714 L 362.226 91.9714 L 362.226 93.7774 L 364.398 93.7774 L 364.398 91.9714 L 364.974 91.9714 L 364.974 96.2194 L 364.398 96.2194 L 364.398 94.2574 L 362.226 94.2574 L 362.226 96.2194 L 361.65 96.2194 L 361.65 91.9714 \" fill=\"#000000\"/>\n",
       "<path class=\"atom-59\" d=\"M 349.74 107.031 L 350.316 107.031 L 350.316 108.837 L 352.488 108.837 L 352.488 107.031 L 353.064 107.031 L 353.064 111.279 L 352.488 111.279 L 352.488 109.317 L 350.316 109.317 L 350.316 111.279 L 349.74 111.279 L 349.74 107.031 \" fill=\"#000000\"/>\n",
       "<path class=\"atom-60\" d=\"M 301.919 94.3699 L 302.495 94.3699 L 302.495 96.1759 L 304.667 96.1759 L 304.667 94.3699 L 305.243 94.3699 L 305.243 98.6179 L 304.667 98.6179 L 304.667 96.6559 L 302.495 96.6559 L 302.495 98.6179 L 301.919 98.6179 L 301.919 94.3699 \" fill=\"#000000\"/>\n",
       "<path d=\"M 261.6,125.431 L 261.6,123.433 L 263.598,123.433 L 263.598,125.431 L 261.6,125.431\" style=\"fill:none;stroke:#FF0000;stroke-width:2px;stroke-linecap:butt;stroke-linejoin:miter;stroke-opacity:1;\"/>\n",
       "<path d=\"M 296.886,85.3301 L 296.886,83.3321 L 298.884,83.3321 L 298.884,85.3301 L 296.886,85.3301\" style=\"fill:none;stroke:#FF0000;stroke-width:2px;stroke-linecap:butt;stroke-linejoin:miter;stroke-opacity:1;\"/>\n",
       "</svg>"
      ],
      "text/plain": [
       "<IPython.core.display.SVG object>"
      ]
     },
     "execution_count": 91,
     "metadata": {},
     "output_type": "execute_result"
    }
   ],
   "source": [
    "# make a 3D model structure of one of the molecules\n",
    "m = mol_data.ROMol[0]\n",
    "m_3D = Chem.AddHs(m)\n",
    "AllChem.EmbedMolecule(m_3D)\n",
    "AllChem.UFFOptimizeMolecule(m_3D)\n",
    "Draw.MolsToGridImage([m,m_3D])"
   ]
  },
  {
   "cell_type": "code",
   "execution_count": 92,
   "metadata": {},
   "outputs": [
    {
     "data": {
      "text/plain": [
       "array([[<AxesSubplot:title={'center':'log_IC50'}>]], dtype=object)"
      ]
     },
     "execution_count": 92,
     "metadata": {},
     "output_type": "execute_result"
    },
    {
     "data": {
      "image/png": "[encoded data removed]",
      "text/plain": [
       "<Figure size 432x288 with 1 Axes>"
      ]
     },
     "metadata": {
      "needs_background": "light"
     },
     "output_type": "display_data"
    }
   ],
   "source": [
    "# as IC50 has a very large range of values, we look at log(IC50)\n",
    "# note that the order stays the same\n",
    "mol_data['log_IC50']=np.log(mol_data.IC50)\n",
    "mol_data.hist(column = 'log_IC50') # plot histogram"
   ]
  },
  {
   "cell_type": "code",
   "execution_count": 93,
   "metadata": {},
   "outputs": [
    {
     "data": {
      "text/plain": [
       "(array([  4., 127., 365., 304., 196., 166., 151.,  52.,  14.,  18.]),\n",
       " array([-3.32423634, -1.34999268,  0.62425098,  2.59849463,  4.57273829,\n",
       "         6.54698195,  8.52122561, 10.49546927, 12.46971293, 14.44395659,\n",
       "        16.41820024]),\n",
       " <BarContainer object of 10 artists>)"
      ]
     },
     "execution_count": 93,
     "metadata": {},
     "output_type": "execute_result"
    },
    {
     "data": {
      "image/png": "[encoded data removed]",
      "text/plain": [
       "<Figure size 432x288 with 1 Axes>"
      ]
     },
     "metadata": {
      "needs_background": "light"
     },
     "output_type": "display_data"
    }
   ],
   "source": [
    "plt.hist(mol_data.log_IC50[:-1])#histogram excluding one outlier"
   ]
  },
  {
   "cell_type": "code",
   "execution_count": 94,
   "metadata": {},
   "outputs": [
    {
     "data": {
      "text/html": [
       "<div>\n",
       "<style scoped>\n",
       "    .dataframe tbody tr th:only-of-type {\n",
       "        vertical-align: middle;\n",
       "    }\n",
       "\n",
       "    .dataframe tbody tr th {\n",
       "        vertical-align: top;\n",
       "    }\n",
       "\n",
       "    .dataframe thead th {\n",
       "        text-align: right;\n",
       "    }\n",
       "</style>\n",
       "<table border=\"1\" class=\"dataframe\">\n",
       "  <thead>\n",
       "    <tr style=\"text-align: right;\">\n",
       "      <th></th>\n",
       "      <th>Unnamed: 0</th>\n",
       "      <th>molecule_chembl_id</th>\n",
       "      <th>units</th>\n",
       "      <th>IC50</th>\n",
       "      <th>smiles</th>\n",
       "      <th>pIC50</th>\n",
       "      <th>ROMol</th>\n",
       "      <th>log_IC50</th>\n",
       "    </tr>\n",
       "  </thead>\n",
       "  <tbody>\n",
       "    <tr>\n",
       "      <th>0</th>\n",
       "      <td>0</td>\n",
       "      <td>CHEMBL2367667</td>\n",
       "      <td>nM</td>\n",
       "      <td>0.036</td>\n",
       "      <td>C=CC[C@H]1C(=O)N(S(=O)(=O)c2ccc3ccccc3c2)[C@H]...</td>\n",
       "      <td>10.443697</td>\n",
       "      <td><img data-content=\"rdkit/molecule\" src=\"data:image/png;base64,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\" alt=\"Mol\"/></td>\n",
       "      <td>-3.324236</td>\n",
       "    </tr>\n",
       "    <tr>\n",
       "      <th>1</th>\n",
       "      <td>1</td>\n",
       "      <td>CHEMBL3617973</td>\n",
       "      <td>nM</td>\n",
       "      <td>0.065</td>\n",
       "      <td>CC1=C(C#N)[C@@H](c2ccc(C#N)cc2S(C)(=O)=O)N(C)C...</td>\n",
       "      <td>10.187087</td>\n",
       "      <td><img data-content=\"rdkit/molecule\" src=\"data:image/png;base64,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\" alt=\"Mol\"/></td>\n",
       "      <td>-2.733368</td>\n",
       "    </tr>\n",
       "    <tr>\n",
       "      <th>2</th>\n",
       "      <td>2</td>\n",
       "      <td>CHEMBL293138</td>\n",
       "      <td>nM</td>\n",
       "      <td>0.100</td>\n",
       "      <td>CC(SC(=O)c1cccs1)C(=O)NCC(=O)N1CSCC1C(=O)O</td>\n",
       "      <td>10.000000</td>\n",
       "      <td><img data-content=\"rdkit/molecule\" src=\"data:image/png;base64,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\" alt=\"Mol\"/></td>\n",
       "      <td>-2.302585</td>\n",
       "    </tr>\n",
       "    <tr>\n",
       "      <th>3</th>\n",
       "      <td>3</td>\n",
       "      <td>CHEMBL3617966</td>\n",
       "      <td>nM</td>\n",
       "      <td>0.210</td>\n",
       "      <td>CNC(=O)c1cc(-c2ccnn2-c2ccc(C#N)cc2)c(C)n(-c2cc...</td>\n",
       "      <td>9.677781</td>\n",
       "      <td><img data-content=\"rdkit/molecule\" src=\"data:image/png;base64,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\" alt=\"Mol\"/></td>\n",
       "      <td>-1.560648</td>\n",
       "    </tr>\n",
       "    <tr>\n",
       "      <th>4</th>\n",
       "      <td>4</td>\n",
       "      <td>CHEMBL3912018</td>\n",
       "      <td>nM</td>\n",
       "      <td>0.300</td>\n",
       "      <td>CC(=O)C1=C(C)N(c2cccc(C(F)(F)F)c2)C(=O)N(C)C1c...</td>\n",
       "      <td>9.522879</td>\n",
       "      <td><img data-content=\"rdkit/molecule\" src=\"data:image/png;base64,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\" alt=\"Mol\"/></td>\n",
       "      <td>-1.203973</td>\n",
       "    </tr>\n",
       "    <tr>\n",
       "      <th>5</th>\n",
       "      <td>5</td>\n",
       "      <td>CHEMBL4110495</td>\n",
       "      <td>nM</td>\n",
       "      <td>0.300</td>\n",
       "      <td>[C-]#[N+]C1=C(C)N(c2cccc(C(F)(F)F)c2)C(=O)N[C@...</td>\n",
       "      <td>9.522879</td>\n",
       "      <td><img data-content=\"rdkit/molecule\" src=\"data:image/png;base64,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\" alt=\"Mol\"/></td>\n",
       "      <td>-1.203973</td>\n",
       "    </tr>\n",
       "    <tr>\n",
       "      <th>6</th>\n",
       "      <td>6</td>\n",
       "      <td>CHEMBL4107034</td>\n",
       "      <td>nM</td>\n",
       "      <td>0.450</td>\n",
       "      <td>[C-]#[N+]C1=C(C)N(c2cccc(C(F)(F)F)c2)C(=O)N(CC...</td>\n",
       "      <td>9.346787</td>\n",
       "      <td><img data-content=\"rdkit/molecule\" src=\"data:image/png;base64,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\" alt=\"Mol\"/></td>\n",
       "      <td>-0.798508</td>\n",
       "    </tr>\n",
       "    <tr>\n",
       "      <th>7</th>\n",
       "      <td>7</td>\n",
       "      <td>CHEMBL4107106</td>\n",
       "      <td>nM</td>\n",
       "      <td>0.500</td>\n",
       "      <td>[C-]#[N+]C1=C(C)N(c2cccc(C(F)(F)F)c2)C(=O)N[C@...</td>\n",
       "      <td>9.301030</td>\n",
       "      <td><img data-content=\"rdkit/molecule\" src=\"data:image/png;base64,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\" alt=\"Mol\"/></td>\n",
       "      <td>-0.693147</td>\n",
       "    </tr>\n",
       "    <tr>\n",
       "      <th>8</th>\n",
       "      <td>8</td>\n",
       "      <td>CHEMBL3617965</td>\n",
       "      <td>nM</td>\n",
       "      <td>0.500</td>\n",
       "      <td>Cc1c([S+]([O-])c2ccc(C#N)cc2)cc(C(=O)NCCCN2CCC...</td>\n",
       "      <td>9.301030</td>\n",
       "      <td><img data-content=\"rdkit/molecule\" src=\"data:image/png;base64,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\" alt=\"Mol\"/></td>\n",
       "      <td>-0.693147</td>\n",
       "    </tr>\n",
       "    <tr>\n",
       "      <th>9</th>\n",
       "      <td>9</td>\n",
       "      <td>CHEMBL2367646</td>\n",
       "      <td>nM</td>\n",
       "      <td>0.690</td>\n",
       "      <td>C=CC[C@H]1C(=O)N(C(C)=O)[C@H]2CCN(C(=O)OCc3ccc...</td>\n",
       "      <td>9.161151</td>\n",
       "      <td><img data-content=\"rdkit/molecule\" src=\"data:image/png;base64,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\" alt=\"Mol\"/></td>\n",
       "      <td>-0.371064</td>\n",
       "    </tr>\n",
       "    <tr>\n",
       "      <th>10</th>\n",
       "      <td>10</td>\n",
       "      <td>CHEMBL3617970</td>\n",
       "      <td>nM</td>\n",
       "      <td>0.900</td>\n",
       "      <td>CC1=C(C(=O)OCCOCC(=O)O)[C@@H](c2ccc(C#N)cc2)N(...</td>\n",
       "      <td>9.045757</td>\n",
       "      <td><img data-content=\"rdkit/molecule\" src=\"data:image/png;base64,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\" alt=\"Mol\"/></td>\n",
       "      <td>-0.105361</td>\n",
       "    </tr>\n",
       "    <tr>\n",
       "      <th>11</th>\n",
       "      <td>11</td>\n",
       "      <td>CHEMBL4112397</td>\n",
       "      <td>nM</td>\n",
       "      <td>0.900</td>\n",
       "      <td>[C-]#[N+]C1=C(C)N(c2cccc(C(F)(F)F)c2)C(=O)N(C(...</td>\n",
       "      <td>9.045757</td>\n",
       "      <td><img data-content=\"rdkit/molecule\" src=\"data:image/png;base64,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\" alt=\"Mol\"/></td>\n",
       "      <td>-0.105361</td>\n",
       "    </tr>\n",
       "  </tbody>\n",
       "</table>\n",
       "</div>"
      ],
      "text/plain": [
       "    Unnamed: 0 molecule_chembl_id units   IC50  \\\n",
       "0            0      CHEMBL2367667    nM  0.036   \n",
       "1            1      CHEMBL3617973    nM  0.065   \n",
       "2            2       CHEMBL293138    nM  0.100   \n",
       "3            3      CHEMBL3617966    nM  0.210   \n",
       "4            4      CHEMBL3912018    nM  0.300   \n",
       "5            5      CHEMBL4110495    nM  0.300   \n",
       "6            6      CHEMBL4107034    nM  0.450   \n",
       "7            7      CHEMBL4107106    nM  0.500   \n",
       "8            8      CHEMBL3617965    nM  0.500   \n",
       "9            9      CHEMBL2367646    nM  0.690   \n",
       "10          10      CHEMBL3617970    nM  0.900   \n",
       "11          11      CHEMBL4112397    nM  0.900   \n",
       "\n",
       "                                               smiles      pIC50  \\\n",
       "0   C=CC[C@H]1C(=O)N(S(=O)(=O)c2ccc3ccccc3c2)[C@H]...  10.443697   \n",
       "1   CC1=C(C#N)[C@@H](c2ccc(C#N)cc2S(C)(=O)=O)N(C)C...  10.187087   \n",
       "2          CC(SC(=O)c1cccs1)C(=O)NCC(=O)N1CSCC1C(=O)O  10.000000   \n",
       "3   CNC(=O)c1cc(-c2ccnn2-c2ccc(C#N)cc2)c(C)n(-c2cc...   9.677781   \n",
       "4   CC(=O)C1=C(C)N(c2cccc(C(F)(F)F)c2)C(=O)N(C)C1c...   9.522879   \n",
       "5   [C-]#[N+]C1=C(C)N(c2cccc(C(F)(F)F)c2)C(=O)N[C@...   9.522879   \n",
       "6   [C-]#[N+]C1=C(C)N(c2cccc(C(F)(F)F)c2)C(=O)N(CC...   9.346787   \n",
       "7   [C-]#[N+]C1=C(C)N(c2cccc(C(F)(F)F)c2)C(=O)N[C@...   9.301030   \n",
       "8   Cc1c([S+]([O-])c2ccc(C#N)cc2)cc(C(=O)NCCCN2CCC...   9.301030   \n",
       "9   C=CC[C@H]1C(=O)N(C(C)=O)[C@H]2CCN(C(=O)OCc3ccc...   9.161151   \n",
       "10  CC1=C(C(=O)OCCOCC(=O)O)[C@@H](c2ccc(C#N)cc2)N(...   9.045757   \n",
       "11  [C-]#[N+]C1=C(C)N(c2cccc(C(F)(F)F)c2)C(=O)N(C(...   9.045757   \n",
       "\n",
       "                                                ROMol  log_IC50  \n",
       "0   <img data-content=\"rdkit/molecule\" src=\"data:i... -3.324236  \n",
       "1   <img data-content=\"rdkit/molecule\" src=\"data:i... -2.733368  \n",
       "2   <img data-content=\"rdkit/molecule\" src=\"data:i... -2.302585  \n",
       "3   <img data-content=\"rdkit/molecule\" src=\"data:i... -1.560648  \n",
       "4   <img data-content=\"rdkit/molecule\" src=\"data:i... -1.203973  \n",
       "5   <img data-content=\"rdkit/molecule\" src=\"data:i... -1.203973  \n",
       "6   <img data-content=\"rdkit/molecule\" src=\"data:i... -0.798508  \n",
       "7   <img data-content=\"rdkit/molecule\" src=\"data:i... -0.693147  \n",
       "8   <img data-content=\"rdkit/molecule\" src=\"data:i... -0.693147  \n",
       "9   <img data-content=\"rdkit/molecule\" src=\"data:i... -0.371064  \n",
       "10  <img data-content=\"rdkit/molecule\" src=\"data:i... -0.105361  \n",
       "11  <img data-content=\"rdkit/molecule\" src=\"data:i... -0.105361  "
      ]
     },
     "execution_count": 94,
     "metadata": {},
     "output_type": "execute_result"
    }
   ],
   "source": [
    "# filtering out only the most active compounds with IC50 < 1nM\n",
    "mol_data[mol_data.IC50<1]"
   ]
  },
  {
   "cell_type": "code",
   "execution_count": 95,
   "metadata": {},
   "outputs": [],
   "source": [
    "# calculating properties needed to apply Lipinski’s rule of 5\n",
    "mol_list = mol_data.ROMol\n",
    "MWs = [Descriptors.ExactMolWt(mol) for mol in mol_list]\n",
    "HBAs = [Descriptors.NumHAcceptors(mol) for mol in mol_list]\n",
    "HBDs = [Descriptors.NumHDonors(mol) for mol in mol_list]\n",
    "LogPs = [Descriptors.MolLogP(mol) for mol in mol_list]\n",
    "parameters = [MWs, HBAs, HBDs, LogPs]"
   ]
  },
  {
   "cell_type": "code",
   "execution_count": 96,
   "metadata": {},
   "outputs": [
    {
     "data": {
      "text/html": [
       "<div>\n",
       "<style scoped>\n",
       "    .dataframe tbody tr th:only-of-type {\n",
       "        vertical-align: middle;\n",
       "    }\n",
       "\n",
       "    .dataframe tbody tr th {\n",
       "        vertical-align: top;\n",
       "    }\n",
       "\n",
       "    .dataframe thead th {\n",
       "        text-align: right;\n",
       "    }\n",
       "</style>\n",
       "<table border=\"1\" class=\"dataframe\">\n",
       "  <thead>\n",
       "    <tr style=\"text-align: right;\">\n",
       "      <th></th>\n",
       "      <th>Unnamed: 0</th>\n",
       "      <th>molecule_chembl_id</th>\n",
       "      <th>units</th>\n",
       "      <th>IC50</th>\n",
       "      <th>smiles</th>\n",
       "      <th>pIC50</th>\n",
       "      <th>ROMol</th>\n",
       "      <th>log_IC50</th>\n",
       "      <th>MW</th>\n",
       "      <th>HBA</th>\n",
       "      <th>HBD</th>\n",
       "      <th>LP</th>\n",
       "    </tr>\n",
       "  </thead>\n",
       "  <tbody>\n",
       "    <tr>\n",
       "      <th>0</th>\n",
       "      <td>0</td>\n",
       "      <td>CHEMBL2367667</td>\n",
       "      <td>nM</td>\n",
       "      <td>0.036</td>\n",
       "      <td>C=CC[C@H]1C(=O)N(S(=O)(=O)c2ccc3ccccc3c2)[C@H]...</td>\n",
       "      <td>10.443697</td>\n",
       "      <td><img data-content=\"rdkit/molecule\" src=\"data:image/png;base64,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\" alt=\"Mol\"/></td>\n",
       "      <td>-3.324236</td>\n",
       "      <td>490.156243</td>\n",
       "      <td>5</td>\n",
       "      <td>0</td>\n",
       "      <td>4.34270</td>\n",
       "    </tr>\n",
       "    <tr>\n",
       "      <th>1</th>\n",
       "      <td>1</td>\n",
       "      <td>CHEMBL3617973</td>\n",
       "      <td>nM</td>\n",
       "      <td>0.065</td>\n",
       "      <td>CC1=C(C#N)[C@@H](c2ccc(C#N)cc2S(C)(=O)=O)N(C)C...</td>\n",
       "      <td>10.187087</td>\n",
       "      <td><img data-content=\"rdkit/molecule\" src=\"data:image/png;base64,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\" alt=\"Mol\"/></td>\n",
       "      <td>-2.733368</td>\n",
       "      <td>474.097346</td>\n",
       "      <td>5</td>\n",
       "      <td>0</td>\n",
       "      <td>4.39126</td>\n",
       "    </tr>\n",
       "    <tr>\n",
       "      <th>2</th>\n",
       "      <td>2</td>\n",
       "      <td>CHEMBL293138</td>\n",
       "      <td>nM</td>\n",
       "      <td>0.100</td>\n",
       "      <td>CC(SC(=O)c1cccs1)C(=O)NCC(=O)N1CSCC1C(=O)O</td>\n",
       "      <td>10.000000</td>\n",
       "      <td><img data-content=\"rdkit/molecule\" src=\"data:image/png;base64,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\" alt=\"Mol\"/></td>\n",
       "      <td>-2.302585</td>\n",
       "      <td>388.022135</td>\n",
       "      <td>7</td>\n",
       "      <td>2</td>\n",
       "      <td>1.11230</td>\n",
       "    </tr>\n",
       "    <tr>\n",
       "      <th>3</th>\n",
       "      <td>3</td>\n",
       "      <td>CHEMBL3617966</td>\n",
       "      <td>nM</td>\n",
       "      <td>0.210</td>\n",
       "      <td>CNC(=O)c1cc(-c2ccnn2-c2ccc(C#N)cc2)c(C)n(-c2cc...</td>\n",
       "      <td>9.677781</td>\n",
       "      <td><img data-content=\"rdkit/molecule\" src=\"data:image/png;base64,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\" alt=\"Mol\"/></td>\n",
       "      <td>-1.560648</td>\n",
       "      <td>477.141259</td>\n",
       "      <td>6</td>\n",
       "      <td>1</td>\n",
       "      <td>4.24870</td>\n",
       "    </tr>\n",
       "    <tr>\n",
       "      <th>4</th>\n",
       "      <td>4</td>\n",
       "      <td>CHEMBL3912018</td>\n",
       "      <td>nM</td>\n",
       "      <td>0.300</td>\n",
       "      <td>CC(=O)C1=C(C)N(c2cccc(C(F)(F)F)c2)C(=O)N(C)C1c...</td>\n",
       "      <td>9.522879</td>\n",
       "      <td><img data-content=\"rdkit/molecule\" src=\"data:image/png;base64,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\" alt=\"Mol\"/></td>\n",
       "      <td>-1.203973</td>\n",
       "      <td>550.194023</td>\n",
       "      <td>5</td>\n",
       "      <td>1</td>\n",
       "      <td>5.04848</td>\n",
       "    </tr>\n",
       "  </tbody>\n",
       "</table>\n",
       "</div>"
      ],
      "text/plain": [
       "   Unnamed: 0 molecule_chembl_id units   IC50  \\\n",
       "0           0      CHEMBL2367667    nM  0.036   \n",
       "1           1      CHEMBL3617973    nM  0.065   \n",
       "2           2       CHEMBL293138    nM  0.100   \n",
       "3           3      CHEMBL3617966    nM  0.210   \n",
       "4           4      CHEMBL3912018    nM  0.300   \n",
       "\n",
       "                                              smiles      pIC50  \\\n",
       "0  C=CC[C@H]1C(=O)N(S(=O)(=O)c2ccc3ccccc3c2)[C@H]...  10.443697   \n",
       "1  CC1=C(C#N)[C@@H](c2ccc(C#N)cc2S(C)(=O)=O)N(C)C...  10.187087   \n",
       "2         CC(SC(=O)c1cccs1)C(=O)NCC(=O)N1CSCC1C(=O)O  10.000000   \n",
       "3  CNC(=O)c1cc(-c2ccnn2-c2ccc(C#N)cc2)c(C)n(-c2cc...   9.677781   \n",
       "4  CC(=O)C1=C(C)N(c2cccc(C(F)(F)F)c2)C(=O)N(C)C1c...   9.522879   \n",
       "\n",
       "                                               ROMol  log_IC50          MW  \\\n",
       "0  <img data-content=\"rdkit/molecule\" src=\"data:i... -3.324236  490.156243   \n",
       "1  <img data-content=\"rdkit/molecule\" src=\"data:i... -2.733368  474.097346   \n",
       "2  <img data-content=\"rdkit/molecule\" src=\"data:i... -2.302585  388.022135   \n",
       "3  <img data-content=\"rdkit/molecule\" src=\"data:i... -1.560648  477.141259   \n",
       "4  <img data-content=\"rdkit/molecule\" src=\"data:i... -1.203973  550.194023   \n",
       "\n",
       "   HBA  HBD       LP  \n",
       "0    5    0  4.34270  \n",
       "1    5    0  4.39126  \n",
       "2    7    2  1.11230  \n",
       "3    6    1  4.24870  \n",
       "4    5    1  5.04848  "
      ]
     },
     "execution_count": 96,
     "metadata": {},
     "output_type": "execute_result"
    }
   ],
   "source": [
    "# same as above, just written in a nicer way\n",
    "lip_prop = dict(MW = Descriptors.ExactMolWt, HBA = Descriptors.NumHAcceptors, HBD = Descriptors.NumHDonors, LP = Descriptors.MolLogP)\n",
    "for lp in lip_prop:\n",
    "    mol_data[lp] = [lip_prop[lp](mol) for mol in mol_data.ROMol] # here we store the values\n",
    "mol_data.head()# dataframe with the calculated properties"
   ]
  },
  {
   "cell_type": "code",
   "execution_count": 97,
   "metadata": {},
   "outputs": [
    {
     "data": {
      "text/plain": [
       "array([[<AxesSubplot:title={'center':'MW'}>,\n",
       "        <AxesSubplot:title={'center':'HBA'}>],\n",
       "       [<AxesSubplot:title={'center':'HBD'}>,\n",
       "        <AxesSubplot:title={'center':'LP'}>]], dtype=object)"
      ]
     },
     "execution_count": 97,
     "metadata": {},
     "output_type": "execute_result"
    },
    {
     "data": {
      "image/png": "[encoded data removed]",
      "text/plain": [
       "<Figure size 432x288 with 4 Axes>"
      ]
     },
     "metadata": {
      "needs_background": "light"
     },
     "output_type": "display_data"
    }
   ],
   "source": [
    "mol_data.hist(column = ['MW', 'HBA', 'HBD', 'LP']) # plot histograms"
   ]
  },
  {
   "cell_type": "code",
   "execution_count": 98,
   "metadata": {},
   "outputs": [
    {
     "name": "stdout",
     "output_type": "stream",
     "text": [
      "1398 656 7\n"
     ]
    }
   ],
   "source": [
    "cutoff = 1. # as above, am arbitrary cutoff of 1nM to filter out the most active compounds\n",
    "# let’s first filter out the compounds that satisfy the Lipinski’s rule of 5\n",
    "lip = mol_data[(mol_data.MW<500) & (mol_data.HBA<10) & (mol_data.HBD<5) & (mol_data.LP<5)]\n",
    "# and here we filter out the active compounds that satisfy the Lipinski’s rule of 5\n",
    "active_lip = mol_data[(mol_data.IC50 < cutoff) & (mol_data.MW<500) & (mol_data.HBA<10) & (mol_data.HBD<5) & (mol_data.LP<5)]\n",
    "print(len(mol_data), len(lip), len(active_lip))"
   ]
  },
  {
   "cell_type": "code",
   "execution_count": 99,
   "metadata": {},
   "outputs": [
    {
     "name": "stdout",
     "output_type": "stream",
     "text": [
      "True\n"
     ]
    }
   ],
   "source": [
    "# importing some additional features needed to build a pharmacophore model\n",
    "fdefName = os.path.join(RDConfig.RDDataDir,'BaseFeatures.fdef')\n",
    "print(os.path.isfile(fdefName))\n",
    "factory = Ph.ChemicalFeatures.BuildFeatureFactory(fdefName)   "
   ]
  },
  {
   "cell_type": "code",
   "execution_count": 100,
   "metadata": {},
   "outputs": [
    {
     "name": "stdout",
     "output_type": "stream",
     "text": [
      "Donor SingleAtomDonor [-2.3466742134712133, -0.07384027026736587, 0.0]\n",
      "Acceptor SingleAtomAcceptor [2.002571667180477, 3.0821590921642237, 0.0]\n",
      "Acceptor SingleAtomAcceptor [3.3233236881471035, 1.2836113176966915, 0.0]\n",
      "Acceptor SingleAtomAcceptor [2.1519901081678072, -1.478268050489559, 0.0]\n",
      "Acceptor SingleAtomAcceptor [-3.910881421326978, 2.0005887622358083, 0.0]\n",
      "Acceptor SingleAtomAcceptor [-4.92528605789482, -0.39126893280160185, 0.0]\n",
      "Aromatic Arom6 [5.499536266343706, -1.2686619463757312, 0.0]\n",
      "Aromatic Arom6 [8.078148110767316, -0.951233283841499, 0.0]\n",
      "Aromatic Arom6 [-8.701570062648914, -1.6117930478597164, 0.0]\n",
      "Hydrophobe ThreeWayAttach [-0.47549705672355186, 2.0800567845504836, 0.0]\n",
      "Hydrophobe ThreeWayAttach [4.118596582250581, -0.6829951563860821, 0.0]\n",
      "Hydrophobe ThreeWayAttach [6.880475950436832, -1.8543287363653795, 0.0]\n",
      "Hydrophobe ThreeWayAttach [6.697208426674191, -0.36556649385185136, 0.0]\n",
      "Hydrophobe ThreeWayAttach [-7.50389790231843, -0.7086975953358363, 0.0]\n",
      "Hydrophobe ChainTwoWayAttach [-0.5216484783699447, 4.677723053777542, 0.0]\n",
      "Hydrophobe ChainTwoWayAttach [-1.2484544274482747, 3.3655671513084995, 0.0]\n",
      "LumpedHydrophobe RH6_6 [5.499536266343706, -1.2686619463757312, 0.0]\n",
      "LumpedHydrophobe RH6_6 [8.078148110767316, -0.951233283841499, 0.0]\n",
      "LumpedHydrophobe RH6_6 [-8.701570062648914, -1.6117930478597164, 0.0]\n"
     ]
    }
   ],
   "source": [
    "AllChem.Compute2DCoords(m) # get 2D coordinates of a molecules (first molecules from the list)\n",
    "feats = factory.GetFeaturesForMol(m) # calculates a set of features\n",
    "# here we output the list of fetures calculated for this molecule\n",
    "for f in feats:\n",
    "    print(f.GetFamily(), f.GetType(), list(f.GetPos()))"
   ]
  },
  {
   "cell_type": "code",
   "execution_count": 101,
   "metadata": {},
   "outputs": [
    {
     "data": {
      "text/plain": [
       "(19, 33)"
      ]
     },
     "execution_count": 101,
     "metadata": {},
     "output_type": "execute_result"
    }
   ],
   "source": [
    "# we can do the same calculation, but now using the 3D representation of the same molecule\n",
    "feats_3D = factory.GetFeaturesForMol(m_3D)\n",
    "len(feats), len(feats_3D)# getting a bit more information using this approach"
   ]
  },
  {
   "cell_type": "code",
   "execution_count": 102,
   "metadata": {},
   "outputs": [
    {
     "name": "stdout",
     "output_type": "stream",
     "text": [
      "Donor SingleAtomDonor [1.0398749843499222, 0.25845396644149393, -1.0025258136891757]\n",
      "Acceptor SingleAtomAcceptor [-0.6618312244911334, -3.5579566093407315, 1.4902957060568598]\n",
      "Acceptor SingleAtomAcceptor [-3.5354357682685245, -2.773693322451415, -0.5040703545250584]\n",
      "Acceptor SingleAtomAcceptor [-3.5166731672526237, -2.6906349695106098, 1.9439588449791987]\n",
      "Acceptor SingleAtomAcceptor [2.789099983014197, 1.2851730113302122, -2.148403761644339]\n",
      "Acceptor SingleAtomAcceptor [3.2628851169307453, -0.7582739197263214, -1.1850308731743462]\n",
      "Aromatic Arom6 [-4.859286706927738, 0.7732703074162308, 0.6661700541401043]\n",
      "Aromatic Arom6 [-6.3120240862579555, 2.354442584281633, -0.4761453286392836]\n",
      "Aromatic Arom6 [6.0857430906974805, 1.0022591327511596, 0.29080590103363224]\n",
      "Hydrophobe ThreeWayAttach [3.204313502217607, -4.141853972638165, 0.6124762711636759]\n",
      "Hydrophobe ThreeWayAttach [2.472964547457459, -3.547802445414697, 1.5603760494986882]\n",
      "Hydrophobe ThreeWayAttach [1.9920013495836886, -2.130184035457026, 1.4140659982363455]\n",
      "Hydrophobe ThreeWayAttach [0.8763252855908753, -2.0148204055897154, 0.35416082344169386]\n",
      "Hydrophobe ThreeWayAttach [-4.151522063171382, -0.43891393747355417, 0.678839550305555]\n",
      "Hydrophobe ThreeWayAttach [-4.108573986232579, 0.4136977637452996, 1.7902746653731763]\n",
      "Hydrophobe ThreeWayAttach [-4.814131949862653, 1.619696986358731, 1.7846103400473408]\n",
      "Hydrophobe ThreeWayAttach [-5.566815972282896, 1.9903206312584591, 0.6603979231716923]\n",
      "Hydrophobe ThreeWayAttach [-6.271369276980235, 3.204410129631241, 0.6396089232329228]\n",
      "Hydrophobe ThreeWayAttach [-7.010197085495504, 3.5671393972349335, -0.48995487925730385]\n",
      "Hydrophobe ThreeWayAttach [-7.05378473143309, 2.7224221236017976, -1.603701201531909]\n",
      "Hydrophobe ThreeWayAttach [-6.3584719736564095, 1.5090583644434918, -1.5955710549193531]\n",
      "Hydrophobe ThreeWayAttach [-5.611505477699599, 1.1333048595198767, -0.46765168253175066]\n",
      "Hydrophobe ThreeWayAttach [-4.90317079231732, -0.07848445891142658, -0.4494504715253881]\n",
      "Hydrophobe ThreeWayAttach [-1.2968808093519268, 0.7588660298458311, -0.6304872444066152]\n",
      "Hydrophobe ThreeWayAttach [5.41107006964946, 0.14661505985814957, -0.5999067659581999]\n",
      "Hydrophobe ThreeWayAttach [5.824560951185418, 1.4247098717241677, -1.0197463670956501]\n",
      "Hydrophobe ThreeWayAttach [6.497388529347488, 2.272361222642062, -0.1325751382418941]\n",
      "Hydrophobe ThreeWayAttach [6.759843964825344, 1.852088502477514, 1.1766510828143693]\n",
      "Hydrophobe ThreeWayAttach [6.348421539079617, 0.5839841316957686, 1.6015860729609515]\n",
      "Hydrophobe ThreeWayAttach [5.67317349009756, -0.26620399189070487, 0.7188265217222171]\n",
      "LumpedHydrophobe RH6_6 [-4.859286706927738, 0.7732703074162308, 0.6661700541401043]\n",
      "LumpedHydrophobe RH6_6 [-6.3120240862579555, 2.354442584281633, -0.4761453286392836]\n",
      "LumpedHydrophobe RH6_6 [6.0857430906974805, 1.0022591327511596, 0.29080590103363224]\n"
     ]
    }
   ],
   "source": [
    "# output a set of features calculated for the molecule based on its 3D representation\n",
    "for f in feats_3D:\n",
    "    print(f.GetFamily(), f.GetType(), list(f.GetPos()))"
   ]
  },
  {
   "cell_type": "code",
   "execution_count": 103,
   "metadata": {},
   "outputs": [
    {
     "name": "stdout",
     "output_type": "stream",
     "text": [
      "[(0, 2.5), (2.5, 5), (5, 8)]\n"
     ]
    },
    {
     "data": {
      "text/plain": [
       "3348"
      ]
     },
     "execution_count": 103,
     "metadata": {},
     "output_type": "execute_result"
    }
   ],
   "source": [
    "#let’s get pharmacophore fingerprints of our molecule (combination of features and their distance)\n",
    "# to do that, we need to prepare a list of some objects\n",
    "sigFactory = SigFactory(factory,minPointCount=2,maxPointCount=3)\n",
    "dist_bin = (0,2.5,5,8)\n",
    "#dist_bin = (0,2,4,6,8)\n",
    "dbins = []\n",
    "for i in range(len(dist_bin)-1):\n",
    "    dbins.append((dist_bin[i], dist_bin[i+1]))\n",
    "print(dbins)\n",
    "sigFactory.SetBins(dbins)\n",
    "sigFactory.Init()\n",
    "sigFactory.GetSigSize()"
   ]
  },
  {
   "cell_type": "code",
   "execution_count": 104,
   "metadata": {},
   "outputs": [
    {
     "name": "stdout",
     "output_type": "stream",
     "text": [
      "163 206\n"
     ]
    }
   ],
   "source": [
    "# now we generate a fingerprint of our molecule, based on its 2D structure\n",
    "fp_m = Generate.Gen2DFingerprint(m,sigFactory)\n",
    "# and its 3D structure\n",
    "fp_m3D = Generate.Gen2DFingerprint(m_3D,sigFactory)\n",
    "print(fp_m.GetNumOnBits(), fp_m3D.GetNumOnBits())"
   ]
  },
  {
   "cell_type": "code",
   "execution_count": 105,
   "metadata": {},
   "outputs": [
    {
     "name": "stdout",
     "output_type": "stream",
     "text": [
      "[0, 1, 2, 3, 4, 5, 6, 7, 8, 9, 10, 11, 12, 13, 14, 28, 29, 30, 31, 32]\n",
      "[0, 1, 2, 3, 4, 5, 6, 7, 8, 9, 10, 11, 12, 13, 14, 28, 29, 30, 31, 32]\n"
     ]
    }
   ],
   "source": [
    "print(list(fp_m.GetOnBits())[:20])\n",
    "print(list(fp_m3D.GetOnBits())[:20])\n",
    "# expectedly, we get very similar fingerprints using 2D and 3D structures, but still different"
   ]
  },
  {
   "cell_type": "markdown",
   "metadata": {},
   "source": [
    "a fingerprint of a molecule is essentially a list of zeros and ones, where 1s represent that a given feature is present in a molecule, and 0s represent the absence of the respective feature"
   ]
  },
  {
   "cell_type": "code",
   "execution_count": 106,
   "metadata": {},
   "outputs": [
    {
     "data": {
      "text/plain": [
       "'111111111111111000000000000011111000000000000000111011000000000111111000000000000000000000000000000000000000000000000000100000000000110100110001000100010000000110100000001000000010000100100100110001000100011000110111100110001000100010000000110000000000000000000000000000000000000000000000000000000000000000000000000000000000000000000000000000000000000010000001010001001001001000000011001110001001001111001000000000000000000000000000000000000000000000000000000000000000000000000000000000000000000000000000000000000000000000000000000000000000010110011100011001001101010010010001000001001001001000000000000000000000000000000000000000000000000000000000000000000000000000000000000000000000111101000011111101000110001011001111001001001000000000000000000000000000000000000000000000000000000000000000000000000000000000000000000000000000000000000000000000000000000000000000000000000000000000000000000000000000000000000000000000000000000000000000000000000000000000000000000000000000000000000000000000000000000000000000000000000000000000000000000000000000000000000000000000000000000000000000000000000000000000000000000000000000000000000000000000000000000000000000000000000000000000000000000000000000000000000000000000000000000000000000000000000000000000000000000000000000000000000000000000000000000000000000000000000000000110001100110000000000000000000000000000000000000000000000000000000000000000000000000000000000000000000000000000000000000000000000000000000011100100000000000000000000000000000000000000000000000000000000000000000000000000000000000000000000000000000000000000000000000000000000000000000000000000000000000000000000000000000000000000000000000000000000000000000000000000000000000000000000000000000000000000000000000000000000000000000000000000000000000000000000000000000000000000000000000000000000000000000000000000000000000000000000000000000000000000000000000000000000000000000000000000000000000000000000000000000000000000000000000000000000000000000000000000000000000000000000000000000000000000000000000101101000011001100000001011000001001000000100000000000000000000000000000000000000000000000000000000000000000000000000000000000000000000000000000000000000000000000000000000000000000000000000000000000000000000000000000000000000000000000000000000000000000000000000000000000000000000000000000000000000000000000000000000000000000000000000000000000000000000000000000000000000000000000000000000000000000100000000100000000000110100000000011000000100000000100000000000000000000000000000000000000000000000000000000000000000000000000000000000000000000000000000000000000000000000000000000000000000000000000000000000000000000000000000000000000000000000000000000000000000000000000000000000000000000000000000000000000000000000000000000000000000000000000000000000000000000000000000000000000000000000000000000000000000000000000000000000000000000000000000000000000000000000000000000000000000000000000000000000000000000000000000000000000000000000000000000000000000000000000000000000000000000000000000000000000000000000000000000000000000000000000000000000000000000000000000000000000000000000000000000000000000000000000000000000000000000000000000000000000000000000000000000000000000000000000000000000000000000000000000000000000000000000000000000000000000000000000000000000000000000000000000000000000000000000000000000000000000000000000000000000000000000000000000'"
      ]
     },
     "execution_count": 106,
     "metadata": {},
     "output_type": "execute_result"
    }
   ],
   "source": [
    "fp_m.ToBitString()# this is how it looks like"
   ]
  },
  {
   "cell_type": "markdown",
   "metadata": {},
   "source": [
    "let’s build a pharmacophore hypothesis, based on 10 most active and 100 least active compounds\n",
    "note that this is an arbitrary set. One could choose it differently"
   ]
  },
  {
   "cell_type": "code",
   "execution_count": 107,
   "metadata": {},
   "outputs": [],
   "source": [
    "# fingerprints of 10 most active compounds\n",
    "fp_a = []\n",
    "for m in lip.ROMol[:10]:\n",
    "    temp_fp = Generate.Gen2DFingerprint(m,sigFactory)\n",
    "    fp_a.append(temp_fp)\n",
    "# and fingerprints of 100 least active compounds (inactive)\n",
    "fp_ina = []\n",
    "for m in lip.ROMol[-100:]:\n",
    "    temp_fp = Generate.Gen2DFingerprint(m,sigFactory)\n",
    "    fp_ina.append(temp_fp)\n"
   ]
  },
  {
   "cell_type": "code",
   "execution_count": 108,
   "metadata": {},
   "outputs": [],
   "source": [
    "# and now we extract most relevant features that differ between the two sets\n",
    "# of active and inactive compounds\n",
    "ranker = InfoBitRanker(len(fp_a[0]),2)\n",
    "for fp in fp_a:\n",
    "    ranker.AccumulateVotes(fp,1)\n",
    "for fp in fp_ina:\n",
    "    ranker.AccumulateVotes(fp,0)\n"
   ]
  },
  {
   "cell_type": "code",
   "execution_count": 109,
   "metadata": {},
   "outputs": [
    {
     "name": "stdout",
     "output_type": "stream",
     "text": [
      "1311 0.151 10 8\n",
      "2030 0.144 11 8\n",
      "2144 0.131 4 6\n",
      "1330 0.120 5 6\n",
      "571 0.120 15 8\n",
      "186 0.112 25 9\n",
      "824 0.111 6 6\n",
      "1338 0.111 6 6\n",
      "361 0.110 17 8\n",
      "1128 0.103 7 6\n"
     ]
    }
   ],
   "source": [
    "# Let’s print the top 10 such features\n",
    "top_f = ranker.GetTopN(10)\n",
    "for fid,gain,n0,n1 in top_f:\n",
    "    print(int(fid),'%.3f'%gain,int(n0),int(n1))"
   ]
  },
  {
   "cell_type": "code",
   "execution_count": 110,
   "metadata": {},
   "outputs": [
    {
     "data": {
      "text/plain": [
       "3348"
      ]
     },
     "execution_count": 110,
     "metadata": {},
     "output_type": "execute_result"
    }
   ],
   "source": [
    "sigFactory.GetSigSize() # overall size of all features (combinations thereof) considered"
   ]
  },
  {
   "cell_type": "code",
   "execution_count": 111,
   "metadata": {},
   "outputs": [
    {
     "data": {
      "text/plain": [
       "'Acceptor Aromatic |0 0|0 0|'"
      ]
     },
     "execution_count": 111,
     "metadata": {},
     "output_type": "execute_result"
    }
   ],
   "source": [
    "# feature 3 for instance is a combination of H-bond acceptor and aromatic ring\n",
    "sigFactory.GetBitDescription(3)"
   ]
  },
  {
   "cell_type": "markdown",
   "metadata": {},
   "source": [
    "To perform virtual screening using one of such proposed pharmacophore hypothesis, one could for instance\n",
    "  - use the Tanimoto similarity to identify the positive hits (talktarial 4 from https://jcheminf.biomedcentral.com/articles/10.1186/s13321-019-0351-x)\n",
    "  - search for all compounds that satisfy all or most of the top N ranked features"
   ]
  },
  {
   "cell_type": "markdown",
   "metadata": {},
   "source": [
    "## Project tasks\n",
    "Start with a protein of choice (Exercise 1 and 2)\n",
    "* extract ligands (Exercise 1 and 2)\n",
    "* extract pharmacophore hypothesis\n",
    "  - use 2D or 3D fingerprints as described here\n",
    "  - or chemical similarity (talktarial 4 from https://jcheminf.biomedcentral.com/articles/10.1186/s13321-019-0351-x)\n",
    "  - or machine learning (talktarial 7 from https://jcheminf.biomedcentral.com/articles/10.1186/s13321-019-0351-x)\n",
    "  - or ligand-based approach (talktarial 9 from https://jcheminf.biomedcentral.com/articles/10.1186/s13321-019-0351-x)\n",
    "* perform the screening, i.e. apply the hypothesis on a set of compounds (Exercise 1 and 2)\n",
    "* discuss results\n",
    "  - is the applied approach able to identify active compounds and differentiate between active and inactive molecules. What are potential pitfalls of the approach and how could one address them.\n"
   ]
  },
  {
   "cell_type": "code",
   "execution_count": 112,
   "metadata": {},
   "outputs": [],
   "source": [
    "# import needed libraries\n",
    "import math\n",
    "import pypdb\n",
    "#import pymol\n",
    "\n",
    "from rdkit import Chem\n",
    "from rdkit.Chem.Draw import IPythonConsole\n",
    "from rdkit.Chem import Draw\n",
    "from rdkit.Chem import PandasTools\n",
    "IPythonConsole.ipython_useSVG=True\n",
    "\n",
    "import pandas as pd\n",
    "import numpy as np\n",
    "\n",
    "import matplotlib.pyplot as plt\n",
    "%matplotlib inline\n",
    "\n",
    "import collections\n",
    "import glob\n",
    "import logging\n",
    "import time\n",
    "\n",
    "from tqdm import tqdm\n",
    "import nglview\n",
    "\n",
    "from opencadd.structure.superposition.api import align, METHODS\n",
    "from opencadd.structure.core import Structure\n",
    "\n",
    "%matplotlib inline\n",
    "IPythonConsole.ipython_useSVG=True"
   ]
  },
  {
   "cell_type": "code",
   "execution_count": 113,
   "metadata": {},
   "outputs": [],
   "source": [
    "# For talktorial 9\n",
    "\n",
    "import os, glob\n",
    "\n",
    "# RDKit\n",
    "from rdkit import RDConfig, Chem, Geometry, DistanceGeometry\n",
    "from rdkit.Chem import ChemicalFeatures, rdDistGeom, Draw, rdMolTransforms, AllChem\n",
    "from rdkit.Chem.Draw import IPythonConsole, DrawingOptions\n",
    "from rdkit.Chem.Pharm3D import Pharmacophore, EmbedLib\n",
    "from rdkit.Numerics import rdAlignment\n",
    "IPythonConsole.ipython_useSVG=True\n",
    "\n",
    "import collections\n",
    "import pandas as pd\n",
    "import math\n",
    "\n",
    "from sklearn import datasets, cluster\n",
    "import matplotlib.pyplot as plt\n",
    "from mpl_toolkits.mplot3d import Axes3D\n",
    "from collections import Counter # For handling the labels\n",
    "import operator"
   ]
  },
  {
   "cell_type": "markdown",
   "metadata": {},
   "source": [
    "## Start with extracting the ligands"
   ]
  },
  {
   "cell_type": "markdown",
   "metadata": {},
   "source": [
    "So the second ID I used for my analysis was this one:"
   ]
  },
  {
   "cell_type": "code",
   "execution_count": 114,
   "metadata": {},
   "outputs": [],
   "source": [
    "uniprot_id = \"P08246\" # Neutrophil elastase \n",
    "# https://www.uniprot.org/uniprot/P08246"
   ]
  },
  {
   "cell_type": "markdown",
   "metadata": {},
   "source": [
    "### From exercise 1 I use the code we were given to search in the pdb database "
   ]
  },
  {
   "cell_type": "code",
   "execution_count": 115,
   "metadata": {},
   "outputs": [
    {
     "name": "stdout",
     "output_type": "stream",
     "text": [
      "23\n"
     ]
    }
   ],
   "source": [
    "search_dict = pypdb.make_query(uniprot_id)\n",
    "# now we submit the query\n",
    "found_pdb_ids = pypdb.do_search(search_dict)\n",
    "# here we look at how many hits we got\n",
    "print(len(found_pdb_ids))"
   ]
  },
  {
   "cell_type": "code",
   "execution_count": 116,
   "metadata": {},
   "outputs": [
    {
     "name": "stdout",
     "output_type": "stream",
     "text": [
      "['1B0F', '1H1B', '1HNE', '1PPF', '1PPG']\n",
      "structureId 1BBZ\n",
      "title CRYSTAL STRUCTURE OF THE ABL-SH3 DOMAIN COMPLEXED WITH A DESIGNED HIGH-AFFINITY PEPTIDE LIGAND: IMPLICATIONS FOR SH3-LIGAND INTERACTIONS\n",
      "pubmedId 9698566\n",
      "expMethod X-RAY DIFFRACTION\n",
      "resolution 1.65\n",
      "keywords COMPLEX (TRANSFERASE/PEPTIDE)\n",
      "nr_entities 2\n",
      "nr_residues 276\n",
      "nr_atoms 2146\n",
      "deposition_date 1998-04-28\n",
      "release_date 1998-11-25\n",
      "last_modification_date 2011-07-13\n",
      "structure_authors Pisabarro, M.T., Serrano, L., Wilmanns, M.\n",
      "citation_authors Pisabarro, M.T., Serrano, L., Wilmanns, M.\n",
      "status CURRENT\n"
     ]
    }
   ],
   "source": [
    "# here we look at the first 5 pdb codes\n",
    "print(found_pdb_ids[:5])\n",
    "# let's take a look at some information about the third structure\n",
    "pdb_info = pypdb.describe_pdb('1BBZ')\n",
    "\n",
    "for k in pdb_info:\n",
    "    print(k,pdb_info[k])\n"
   ]
  },
  {
   "cell_type": "code",
   "execution_count": 117,
   "metadata": {},
   "outputs": [
    {
     "data": {
      "text/html": [
       "<div>\n",
       "<style scoped>\n",
       "    .dataframe tbody tr th:only-of-type {\n",
       "        vertical-align: middle;\n",
       "    }\n",
       "\n",
       "    .dataframe tbody tr th {\n",
       "        vertical-align: top;\n",
       "    }\n",
       "\n",
       "    .dataframe thead th {\n",
       "        text-align: right;\n",
       "    }\n",
       "</style>\n",
       "<table border=\"1\" class=\"dataframe\">\n",
       "  <thead>\n",
       "    <tr style=\"text-align: right;\">\n",
       "      <th></th>\n",
       "      <th>structureId</th>\n",
       "      <th>title</th>\n",
       "      <th>pubmedId</th>\n",
       "      <th>expMethod</th>\n",
       "      <th>resolution</th>\n",
       "      <th>keywords</th>\n",
       "      <th>nr_entities</th>\n",
       "      <th>nr_residues</th>\n",
       "      <th>nr_atoms</th>\n",
       "      <th>deposition_date</th>\n",
       "      <th>release_date</th>\n",
       "      <th>last_modification_date</th>\n",
       "      <th>structure_authors</th>\n",
       "      <th>citation_authors</th>\n",
       "      <th>status</th>\n",
       "      <th>relatedPDB</th>\n",
       "      <th>pubmedCentralId</th>\n",
       "    </tr>\n",
       "  </thead>\n",
       "  <tbody>\n",
       "    <tr>\n",
       "      <th>0</th>\n",
       "      <td>1B0F</td>\n",
       "      <td>CRYSTAL STRUCTURE OF HUMAN NEUTROPHIL ELASTASE...</td>\n",
       "      <td>9651152</td>\n",
       "      <td>X-RAY DIFFRACTION</td>\n",
       "      <td>3.00</td>\n",
       "      <td>HYDROLASE</td>\n",
       "      <td>1</td>\n",
       "      <td>218</td>\n",
       "      <td>1750</td>\n",
       "      <td>1998-11-09</td>\n",
       "      <td>1998-11-09</td>\n",
       "      <td>2020-07-29</td>\n",
       "      <td>Schreuder, H.A., Metz, W.A., Peet, N.P., Pelto...</td>\n",
       "      <td>Cregge, R.J., Durham, S.L., Farr, R.A., Gallio...</td>\n",
       "      <td>CURRENT</td>\n",
       "      <td>NaN</td>\n",
       "      <td>NaN</td>\n",
       "    </tr>\n",
       "    <tr>\n",
       "      <th>1</th>\n",
       "      <td>1H1B</td>\n",
       "      <td>Crystal structure of human neutrophil elastase...</td>\n",
       "      <td>12190311</td>\n",
       "      <td>X-RAY DIFFRACTION</td>\n",
       "      <td>2.00</td>\n",
       "      <td>HYDROLASE</td>\n",
       "      <td>1</td>\n",
       "      <td>436</td>\n",
       "      <td>3426</td>\n",
       "      <td>2002-07-05</td>\n",
       "      <td>2002-08-29</td>\n",
       "      <td>2020-07-29</td>\n",
       "      <td>Macdonald, S.J.F., Dowle, M.D., Harrison, L.A....</td>\n",
       "      <td>Macdonald, S.J.F., Dowle, M.D., Harrison, L.A....</td>\n",
       "      <td>CURRENT</td>\n",
       "      <td>[{'@pdbId': '1B0F', '@details': 'CRYSTAL STRUC...</td>\n",
       "      <td>NaN</td>\n",
       "    </tr>\n",
       "    <tr>\n",
       "      <th>2</th>\n",
       "      <td>1HNE</td>\n",
       "      <td>Structure of human neutrophil elastase in comp...</td>\n",
       "      <td>2911584</td>\n",
       "      <td>X-RAY DIFFRACTION</td>\n",
       "      <td>1.84</td>\n",
       "      <td>HYDROLASE/HYDROLASE INHIBITOR</td>\n",
       "      <td>2</td>\n",
       "      <td>224</td>\n",
       "      <td>1667</td>\n",
       "      <td>1989-04-10</td>\n",
       "      <td>1989-10-15</td>\n",
       "      <td>2012-12-12</td>\n",
       "      <td>Navia, M.A., Mckeever, B.M., Springer, J.P., L...</td>\n",
       "      <td>Navia, M.A., McKeever, B.M., Springer, J.P., L...</td>\n",
       "      <td>CURRENT</td>\n",
       "      <td>NaN</td>\n",
       "      <td>NaN</td>\n",
       "    </tr>\n",
       "    <tr>\n",
       "      <th>3</th>\n",
       "      <td>1PPF</td>\n",
       "      <td>X-RAY CRYSTAL STRUCTURE OF THE COMPLEX OF HUMA...</td>\n",
       "      <td>3640709</td>\n",
       "      <td>X-RAY DIFFRACTION</td>\n",
       "      <td>1.80</td>\n",
       "      <td>HYDROLASE/HYDROLASE INHIBITOR</td>\n",
       "      <td>2</td>\n",
       "      <td>274</td>\n",
       "      <td>2246</td>\n",
       "      <td>1991-10-24</td>\n",
       "      <td>1994-01-31</td>\n",
       "      <td>2020-07-29</td>\n",
       "      <td>Bode, W., Wei, A-Z.</td>\n",
       "      <td>Bode, W., Wei, A.Z., Huber, R., Meyer, E., Tra...</td>\n",
       "      <td>CURRENT</td>\n",
       "      <td>NaN</td>\n",
       "      <td>NaN</td>\n",
       "    </tr>\n",
       "    <tr>\n",
       "      <th>4</th>\n",
       "      <td>1PPG</td>\n",
       "      <td>The refined 2.3 angstroms crystal structure of...</td>\n",
       "      <td>3391280</td>\n",
       "      <td>X-RAY DIFFRACTION</td>\n",
       "      <td>2.30</td>\n",
       "      <td>HYDROLASE/HYDROLASE INHIBITOR</td>\n",
       "      <td>2</td>\n",
       "      <td>224</td>\n",
       "      <td>1861</td>\n",
       "      <td>1991-10-24</td>\n",
       "      <td>1994-01-31</td>\n",
       "      <td>2020-07-29</td>\n",
       "      <td>Bode, W., Wei, A-Z.</td>\n",
       "      <td>Wei, A.Z., Mayr, I., Bode, W.</td>\n",
       "      <td>CURRENT</td>\n",
       "      <td>NaN</td>\n",
       "      <td>NaN</td>\n",
       "    </tr>\n",
       "  </tbody>\n",
       "</table>\n",
       "</div>"
      ],
      "text/plain": [
       "  structureId                                              title  pubmedId  \\\n",
       "0        1B0F  CRYSTAL STRUCTURE OF HUMAN NEUTROPHIL ELASTASE...   9651152   \n",
       "1        1H1B  Crystal structure of human neutrophil elastase...  12190311   \n",
       "2        1HNE  Structure of human neutrophil elastase in comp...   2911584   \n",
       "3        1PPF  X-RAY CRYSTAL STRUCTURE OF THE COMPLEX OF HUMA...   3640709   \n",
       "4        1PPG  The refined 2.3 angstroms crystal structure of...   3391280   \n",
       "\n",
       "           expMethod resolution                       keywords nr_entities  \\\n",
       "0  X-RAY DIFFRACTION       3.00                      HYDROLASE           1   \n",
       "1  X-RAY DIFFRACTION       2.00                      HYDROLASE           1   \n",
       "2  X-RAY DIFFRACTION       1.84  HYDROLASE/HYDROLASE INHIBITOR           2   \n",
       "3  X-RAY DIFFRACTION       1.80  HYDROLASE/HYDROLASE INHIBITOR           2   \n",
       "4  X-RAY DIFFRACTION       2.30  HYDROLASE/HYDROLASE INHIBITOR           2   \n",
       "\n",
       "  nr_residues nr_atoms deposition_date release_date last_modification_date  \\\n",
       "0         218     1750      1998-11-09   1998-11-09             2020-07-29   \n",
       "1         436     3426      2002-07-05   2002-08-29             2020-07-29   \n",
       "2         224     1667      1989-04-10   1989-10-15             2012-12-12   \n",
       "3         274     2246      1991-10-24   1994-01-31             2020-07-29   \n",
       "4         224     1861      1991-10-24   1994-01-31             2020-07-29   \n",
       "\n",
       "                                   structure_authors  \\\n",
       "0  Schreuder, H.A., Metz, W.A., Peet, N.P., Pelto...   \n",
       "1  Macdonald, S.J.F., Dowle, M.D., Harrison, L.A....   \n",
       "2  Navia, M.A., Mckeever, B.M., Springer, J.P., L...   \n",
       "3                                Bode, W., Wei, A-Z.   \n",
       "4                                Bode, W., Wei, A-Z.   \n",
       "\n",
       "                                    citation_authors   status  \\\n",
       "0  Cregge, R.J., Durham, S.L., Farr, R.A., Gallio...  CURRENT   \n",
       "1  Macdonald, S.J.F., Dowle, M.D., Harrison, L.A....  CURRENT   \n",
       "2  Navia, M.A., McKeever, B.M., Springer, J.P., L...  CURRENT   \n",
       "3  Bode, W., Wei, A.Z., Huber, R., Meyer, E., Tra...  CURRENT   \n",
       "4                      Wei, A.Z., Mayr, I., Bode, W.  CURRENT   \n",
       "\n",
       "                                          relatedPDB pubmedCentralId  \n",
       "0                                                NaN             NaN  \n",
       "1  [{'@pdbId': '1B0F', '@details': 'CRYSTAL STRUC...             NaN  \n",
       "2                                                NaN             NaN  \n",
       "3                                                NaN             NaN  \n",
       "4                                                NaN             NaN  "
      ]
     },
     "execution_count": 117,
     "metadata": {},
     "output_type": "execute_result"
    }
   ],
   "source": [
    "# let’s collect data for all retrieved pdb codes\n",
    "pdb_data = []\n",
    "for pdb_id in found_pdb_ids:\n",
    "    pdb_data.append(pypdb.describe_pdb(pdb_id))\n",
    "\n",
    "# now we store this data in a pandas dataframe\n",
    "pdbs = pd.DataFrame(pdb_data)\n",
    "pdbs.head()# this function outputs first 5 lines of a dataframe"
   ]
  },
  {
   "cell_type": "code",
   "execution_count": 118,
   "metadata": {},
   "outputs": [],
   "source": [
    "ligand_dict = pypdb.get_ligands(found_pdb_ids[0]) # This gives the information about the ligand of the first pdb_id"
   ]
  },
  {
   "cell_type": "code",
   "execution_count": 119,
   "metadata": {},
   "outputs": [
    {
     "data": {
      "text/plain": [
       "{'ligandInfo': {'ligand': {'@structureId': '1B0F',\n",
       "   '@chemicalID': 'SEI',\n",
       "   '@type': 'non-polymer',\n",
       "   '@molecularWeight': '632.619',\n",
       "   'chemicalName': '1-{3-METHYL-2-[4-(MORPHOLINE-4-CARBONYL)-BENZOYLAMINO]-BUTYRYL}-PYRROLIDINE-2-CARBOXYLIC ACID (3,3,4,4,4-PENTAFLUORO-1-ISOPROPYL-2-OXO-BUTYL)-AMIDE',\n",
       "   'formula': 'C29 H37 F5 N4 O6',\n",
       "   'InChIKey': 'XQAMVCHQGHAELT-FKBYEOEOSA-N',\n",
       "   'InChI': 'InChI=1S/C29H37F5N4O6/c1-16(2)21(23(39)28(30,31)29(32,33)34)35-25(41)20-6-5-11-38(20)27(43)22(17(3)4)36-24(40)18-7-9-19(10-8-18)26(42)37-12-14-44-15-13-37/h7-10,16-17,20-22H,5-6,11-15H2,1-4H3,(H,35,41)(H,36,40)/t20-,21-,22-/m0/s1',\n",
       "   'smiles': 'CC(C)[C@@H](C(=O)C(C(F)(F)F)(F)F)NC(=O)[C@@H]1CCCN1C(=O)[C@H](C(C)C)NC(=O)c2ccc(cc2)C(=O)N3CCOCC3'}},\n",
       " 'id': '1B0F'}"
      ]
     },
     "execution_count": 119,
     "metadata": {},
     "output_type": "execute_result"
    }
   ],
   "source": [
    "ligand_dict"
   ]
  },
  {
   "cell_type": "markdown",
   "metadata": {},
   "source": [
    "### Using Talktorial 8: \n",
    "\n",
    " https://github.com/volkamerlab/teachopencadd/blob/master/talktorials/8_PDB/T8_PDB.ipynb"
   ]
  },
  {
   "cell_type": "code",
   "execution_count": 120,
   "metadata": {},
   "outputs": [],
   "source": [
    "# first sort after resolution\n",
    "pdbs_resolution = [float(i) for i in pdbs.resolution.tolist()]\n",
    "pdbs = pdbs[[i <= 3.0 for i in pdbs_resolution]]  # keep only structures with resolution higher than 3 angström\n",
    "\n",
    "pdbs = pdbs.sort_values([\"resolution\"], \n",
    "                        ascending=True, \n",
    "                        na_position='last')"
   ]
  },
  {
   "cell_type": "code",
   "execution_count": 121,
   "metadata": {},
   "outputs": [
    {
     "data": {
      "text/html": [
       "<div>\n",
       "<style scoped>\n",
       "    .dataframe tbody tr th:only-of-type {\n",
       "        vertical-align: middle;\n",
       "    }\n",
       "\n",
       "    .dataframe tbody tr th {\n",
       "        vertical-align: top;\n",
       "    }\n",
       "\n",
       "    .dataframe thead th {\n",
       "        text-align: right;\n",
       "    }\n",
       "</style>\n",
       "<table border=\"1\" class=\"dataframe\">\n",
       "  <thead>\n",
       "    <tr style=\"text-align: right;\">\n",
       "      <th></th>\n",
       "      <th>structureId</th>\n",
       "      <th>resolution</th>\n",
       "    </tr>\n",
       "  </thead>\n",
       "  <tbody>\n",
       "    <tr>\n",
       "      <th>18</th>\n",
       "      <td>5ABW</td>\n",
       "      <td>1.60</td>\n",
       "    </tr>\n",
       "    <tr>\n",
       "      <th>10</th>\n",
       "      <td>4WVP</td>\n",
       "      <td>1.63</td>\n",
       "    </tr>\n",
       "    <tr>\n",
       "      <th>6</th>\n",
       "      <td>2Z7F</td>\n",
       "      <td>1.70</td>\n",
       "    </tr>\n",
       "    <tr>\n",
       "      <th>12</th>\n",
       "      <td>5A0A</td>\n",
       "      <td>1.78</td>\n",
       "    </tr>\n",
       "    <tr>\n",
       "      <th>3</th>\n",
       "      <td>1PPF</td>\n",
       "      <td>1.80</td>\n",
       "    </tr>\n",
       "  </tbody>\n",
       "</table>\n",
       "</div>"
      ],
      "text/plain": [
       "   structureId resolution\n",
       "18        5ABW       1.60\n",
       "10        4WVP       1.63\n",
       "6         2Z7F       1.70\n",
       "12        5A0A       1.78\n",
       "3         1PPF       1.80"
      ]
     },
     "execution_count": 121,
     "metadata": {},
     "output_type": "execute_result"
    }
   ],
   "source": [
    "pdbs.head()[[\"structureId\", \"resolution\"]]"
   ]
  },
  {
   "cell_type": "markdown",
   "metadata": {},
   "source": [
    "3. Ligand-bound structures\n",
    "\n",
    "Since we will create ensemble ligand-based pharmacophores in the next talktorial, we remove all PDB structures from our DataFrame, which do not contain a bound ligand: we use the pypdb function get_ligands to check/retrieve the ligand(s) from a PDB structure. PDB-annotated ligands can be ligands, cofactors, but also solvents and ions. In order to filter only ligand-bound structures, we (i) remove all structures without any annotated ligand and (ii) remove all structures that do not contain any ligands with a molecular weight (MW) greater than 100 Da (Dalton), since many solvents and ions weight less. Note: this is a simple, but not comprehensive exclusion of solvents and ions.\n"
   ]
  },
  {
   "cell_type": "code",
   "execution_count": 122,
   "metadata": {},
   "outputs": [
    {
     "data": {
      "text/plain": [
       "['5ABW',\n",
       " '4WVP',\n",
       " '2Z7F',\n",
       " '5A0A',\n",
       " '1PPF',\n",
       " '2RG3',\n",
       " '5A09',\n",
       " '1HNE',\n",
       " '4NZL',\n",
       " '3Q76',\n",
       " '5A8Y',\n",
       " '1H1B',\n",
       " '5A8Z',\n",
       " '3Q77',\n",
       " '5A0C',\n",
       " '5A0B',\n",
       " '5A8X',\n",
       " '1PPG',\n",
       " '6E69',\n",
       " '6SMA',\n",
       " '7CBK',\n",
       " '6F5M',\n",
       " '1B0F']"
      ]
     },
     "execution_count": 122,
     "metadata": {},
     "output_type": "execute_result"
    }
   ],
   "source": [
    "# Get all PDB IDs from DataFrame\n",
    "pdb_ids = pdbs[\"structureId\"].values.tolist()\n",
    "pdb_ids"
   ]
  },
  {
   "cell_type": "code",
   "execution_count": 123,
   "metadata": {},
   "outputs": [
    {
     "name": "stderr",
     "output_type": "stream",
     "text": [
      "Processing 1B0F...:  87%|████████▋ | 20/23 [00:04<00:00,  4.16it/s]"
     ]
    },
    {
     "name": "stdout",
     "output_type": "stream",
     "text": [
      "PDB structures without a ligand (removed from our data set): 2Z7F 1PPF 4NZL\n"
     ]
    },
    {
     "name": "stderr",
     "output_type": "stream",
     "text": [
      "\n"
     ]
    }
   ],
   "source": [
    "# Remove structures \n",
    "# (i) without ligand and \n",
    "# (ii) without any ligands with molecular weight (MW) greater than 100 Da (Dalton)\n",
    "\n",
    "mw_cutoff = 100.0  # Molecular weight cutoff in Da\n",
    "\n",
    "# This database query may take a moment\n",
    "removed_pdb_ids = []\n",
    "progressbar =  tqdm(pdb_ids, desc=\"Processing...\")\n",
    "for i in progressbar:\n",
    "    # Try 5 times to avoid connection errors\n",
    "    for retry in range(5):\n",
    "        progressbar.set_description(f\"Processing {i}...\")\n",
    "        try: \n",
    "            ligand_dict = pypdb.get_ligands(i)\n",
    "            break\n",
    "        except Exception as exc:\n",
    "            time.sleep(0.5)\n",
    "            continue\n",
    "    else:  # if we didn't break (no success), then raise exception\n",
    "        raise exc\n",
    "            \n",
    "    # (i) Remove structure if no ligand present\n",
    "    if ligand_dict[\"ligandInfo\"] is None:\n",
    "        pdb_ids.remove(i) # Remove ligand-free PDB IDs from list\n",
    "        removed_pdb_ids.append(i) # Store ligand-free PDB IDs\n",
    "\n",
    "    # (ii) Remove structure if not a single annotated ligand has a MW above mw_cutoff\n",
    "    else:\n",
    "        # Get ligand information\n",
    "        ligs = ligand_dict[\"ligandInfo\"][\"ligand\"]\n",
    "        # Technicality: if only one ligand, cast dict to list (for the subsequent list comprehension)\n",
    "        if type(ligs) == dict:\n",
    "            ligs = [ligs]\n",
    "        # Get MW per annotated ligand\n",
    "        mw_list = [float(i[\"@molecularWeight\"]) for i in ligs]\n",
    "        # Remove structure if not a single annotated ligand has a MW above mw_cutoff\n",
    "        if sum([mw > mw_cutoff for mw in mw_list]) == 0:\n",
    "            pdb_ids.remove(i) # Remove ligand-free PDB IDs from list\n",
    "            removed_pdb_ids.append(i) # Store ligand-free PDB IDs\n",
    "\n",
    "print(\"PDB structures without a ligand (removed from our data set):\", *removed_pdb_ids)"
   ]
  },
  {
   "cell_type": "code",
   "execution_count": 124,
   "metadata": {},
   "outputs": [
    {
     "name": "stdout",
     "output_type": "stream",
     "text": [
      "Number of structures with ligand: 20\n"
     ]
    }
   ],
   "source": [
    "print(f\"Number of structures with ligand: {len(pdb_ids)}\")"
   ]
  },
  {
   "cell_type": "markdown",
   "metadata": {},
   "source": [
    "\n",
    "#### Get meta information of ligands from top structures\n",
    "\n",
    "In the next talktorial, we will build ligand-based ensemble pharmacophores from the top top_num structures with the highest resolution.\n"
   ]
  },
  {
   "cell_type": "code",
   "execution_count": 125,
   "metadata": {},
   "outputs": [
    {
     "data": {
      "text/plain": [
       "['5ABW', '4WVP', '5A0A', '2RG3']"
      ]
     },
     "execution_count": 125,
     "metadata": {},
     "output_type": "execute_result"
    }
   ],
   "source": [
    "top_num = 4  # Number of top structures\n",
    "pdb_ids = pdb_ids[0:top_num]\n",
    "pdb_ids"
   ]
  },
  {
   "cell_type": "markdown",
   "metadata": {},
   "source": [
    "We fetch the PDB information about the top top_num ligands using get_ligands, to be stored as csv file (as dictionary per ligand).\n",
    "\n",
    "If a structure contains several ligands, we select the largest ligand. Note: this is a simple, but not comprehensive method to select ligand binding the binding site of a protein. This approach may also select a cofactor bound to the protein. Therefore, please check the automatically selected top ligands visually before further usage.\n"
   ]
  },
  {
   "cell_type": "code",
   "execution_count": 126,
   "metadata": {},
   "outputs": [
    {
     "data": {
      "text/html": [
       "<div>\n",
       "<style scoped>\n",
       "    .dataframe tbody tr th:only-of-type {\n",
       "        vertical-align: middle;\n",
       "    }\n",
       "\n",
       "    .dataframe tbody tr th {\n",
       "        vertical-align: top;\n",
       "    }\n",
       "\n",
       "    .dataframe thead th {\n",
       "        text-align: right;\n",
       "    }\n",
       "</style>\n",
       "<table border=\"1\" class=\"dataframe\">\n",
       "  <thead>\n",
       "    <tr style=\"text-align: right;\">\n",
       "      <th></th>\n",
       "      <th>@structureId</th>\n",
       "      <th>@chemicalID</th>\n",
       "      <th>@type</th>\n",
       "      <th>@molecularWeight</th>\n",
       "      <th>chemicalName</th>\n",
       "      <th>formula</th>\n",
       "      <th>InChIKey</th>\n",
       "      <th>InChI</th>\n",
       "      <th>smiles</th>\n",
       "    </tr>\n",
       "  </thead>\n",
       "  <tbody>\n",
       "    <tr>\n",
       "      <th>0</th>\n",
       "      <td>5ABW</td>\n",
       "      <td>WQQ</td>\n",
       "      <td>non-polymer</td>\n",
       "      <td>526.004</td>\n",
       "      <td>1-(3-CHLOROPHENYL)-5-(3,5-DIMETHYLISOXAZOL-4-Y...</td>\n",
       "      <td>C26 H24 Cl N3 O5 S</td>\n",
       "      <td>QYWSDDYRNPGJNA-UHFFFAOYSA-N</td>\n",
       "      <td>InChI=1S/C26H24ClN3O5S/c1-15-24(17(3)35-29-15)...</td>\n",
       "      <td>Cc1c(c(on1)C)C2=C(N(C(=O)C(=C2)C(=O)NCc3ccc(cc...</td>\n",
       "    </tr>\n",
       "    <tr>\n",
       "      <th>1</th>\n",
       "      <td>4WVP</td>\n",
       "      <td>3V3</td>\n",
       "      <td>non-polymer</td>\n",
       "      <td>265.303</td>\n",
       "      <td>1-amino-3,6,9,12-tetraoxapentadecan-15-oic acid</td>\n",
       "      <td>C11 H23 N O6</td>\n",
       "      <td>DKUZHSDZSMQOGQ-UHFFFAOYSA-N</td>\n",
       "      <td>InChI=1S/C11H23NO6/c12-2-4-16-6-8-18-10-9-17-7...</td>\n",
       "      <td>C(COCCOCCOCCOCCN)C(=O)O</td>\n",
       "    </tr>\n",
       "    <tr>\n",
       "      <th>2</th>\n",
       "      <td>5A0A</td>\n",
       "      <td>JJS</td>\n",
       "      <td>non-polymer</td>\n",
       "      <td>400.354</td>\n",
       "      <td>5-[(6R)-5-ethanoyl-4-methyl-2-oxidanylidene-3-...</td>\n",
       "      <td>C20 H15 F3 N4 O2</td>\n",
       "      <td>PGIVGIFOWOVINL-GOSISDBHSA-N</td>\n",
       "      <td>InChI=1S/C20H15F3N4O2/c1-11-17(12(2)28)18(13-6...</td>\n",
       "      <td>CC1=C([C@H](NC(=O)N1c2cccc(c2)C(F)(F)F)c3ccc(n...</td>\n",
       "    </tr>\n",
       "    <tr>\n",
       "      <th>3</th>\n",
       "      <td>2RG3</td>\n",
       "      <td>BG1</td>\n",
       "      <td>L-peptide linking</td>\n",
       "      <td>311.355</td>\n",
       "      <td>O-[(2S)-2-{methyl[(methylamino)sulfonyl]amino}...</td>\n",
       "      <td>C10 H21 N3 O6 S</td>\n",
       "      <td>ORANEODMBGJMSF-YUMQZZPRSA-N</td>\n",
       "      <td>InChI=1S/C10H21N3O6S/c1-4-5-8(13(3)20(17,18)12...</td>\n",
       "      <td>CCC[C@@H](C(=O)OC[C@@H](C(=O)O)N)[N@](C)S(=O)(...</td>\n",
       "    </tr>\n",
       "  </tbody>\n",
       "</table>\n",
       "</div>"
      ],
      "text/plain": [
       "  @structureId @chemicalID              @type @molecularWeight  \\\n",
       "0         5ABW         WQQ        non-polymer          526.004   \n",
       "1         4WVP         3V3        non-polymer          265.303   \n",
       "2         5A0A         JJS        non-polymer          400.354   \n",
       "3         2RG3         BG1  L-peptide linking          311.355   \n",
       "\n",
       "                                        chemicalName             formula  \\\n",
       "0  1-(3-CHLOROPHENYL)-5-(3,5-DIMETHYLISOXAZOL-4-Y...  C26 H24 Cl N3 O5 S   \n",
       "1    1-amino-3,6,9,12-tetraoxapentadecan-15-oic acid        C11 H23 N O6   \n",
       "2  5-[(6R)-5-ethanoyl-4-methyl-2-oxidanylidene-3-...    C20 H15 F3 N4 O2   \n",
       "3  O-[(2S)-2-{methyl[(methylamino)sulfonyl]amino}...     C10 H21 N3 O6 S   \n",
       "\n",
       "                      InChIKey  \\\n",
       "0  QYWSDDYRNPGJNA-UHFFFAOYSA-N   \n",
       "1  DKUZHSDZSMQOGQ-UHFFFAOYSA-N   \n",
       "2  PGIVGIFOWOVINL-GOSISDBHSA-N   \n",
       "3  ORANEODMBGJMSF-YUMQZZPRSA-N   \n",
       "\n",
       "                                               InChI  \\\n",
       "0  InChI=1S/C26H24ClN3O5S/c1-15-24(17(3)35-29-15)...   \n",
       "1  InChI=1S/C11H23NO6/c12-2-4-16-6-8-18-10-9-17-7...   \n",
       "2  InChI=1S/C20H15F3N4O2/c1-11-17(12(2)28)18(13-6...   \n",
       "3  InChI=1S/C10H21N3O6S/c1-4-5-8(13(3)20(17,18)12...   \n",
       "\n",
       "                                              smiles  \n",
       "0  Cc1c(c(on1)C)C2=C(N(C(=O)C(=C2)C(=O)NCc3ccc(cc...  \n",
       "1                            C(COCCOCCOCCOCCN)C(=O)O  \n",
       "2  CC1=C([C@H](NC(=O)N1c2cccc(c2)C(F)(F)F)c3ccc(n...  \n",
       "3  CCC[C@@H](C(=O)OC[C@@H](C(=O)O)N)[N@](C)S(=O)(...  "
      ]
     },
     "execution_count": 126,
     "metadata": {},
     "output_type": "execute_result"
    }
   ],
   "source": [
    "ligands_list = []\n",
    "\n",
    "for i in pdb_ids:\n",
    "    # Try 5 times to avoid connection errors\n",
    "    for retry in range(5):\n",
    "        progressbar.set_description(f\"Processing {i}...\")\n",
    "        try: \n",
    "            ligands = pypdb.get_ligands(i)[\"ligandInfo\"][\"ligand\"]\n",
    "            break\n",
    "        except Exception as exc:\n",
    "            time.sleep(0.5)\n",
    "            continue\n",
    "    else:  # if we didn't break (no success), then raise exception\n",
    "        raise exc\n",
    "    \n",
    "    # Technicality: if only one ligand, cast dict to list (for the subsequent list comprehension)\n",
    "    if isinstance(ligands, dict):\n",
    "        ligands = [ligands]\n",
    "\n",
    "    weight = 0\n",
    "    this_lig = {}\n",
    "    \n",
    "    # If several ligands contained, take largest\n",
    "    for lig in ligands:\n",
    "        if float(lig[\"@molecularWeight\"]) > weight:\n",
    "            this_lig = lig\n",
    "            weight = float(lig[\"@molecularWeight\"])\n",
    "            \n",
    "    ligands_list.append(this_lig)\n",
    "\n",
    "# Change the format to DataFrame\n",
    "ligs = pd.DataFrame(ligands_list)\n",
    "ligs"
   ]
  },
  {
   "cell_type": "code",
   "execution_count": 127,
   "metadata": {},
   "outputs": [],
   "source": [
    "#import os\n",
    "#os.chdir('/home/113600/structural_bioinformatics')\n",
    "#os.getcwd()"
   ]
  },
  {
   "cell_type": "code",
   "execution_count": 128,
   "metadata": {},
   "outputs": [],
   "source": [
    "ligs.to_csv(\"data/PDB_top_ligands.csv\", header=True, index=False, sep=\"\\t\") "
   ]
  },
  {
   "cell_type": "markdown",
   "metadata": {},
   "source": [
    "#### Draw top ligand molecules"
   ]
  },
  {
   "cell_type": "code",
   "execution_count": 129,
   "metadata": {},
   "outputs": [
    {
     "data": {
      "image/svg+xml": [
       "<svg xmlns=\"http://www.w3.org/2000/svg\" xmlns:rdkit=\"http://www.rdkit.org/xml\" xmlns:xlink=\"http://www.w3.org/1999/xlink\" version=\"1.1\" baseProfile=\"full\" xml:space=\"preserve\" width=\"800px\" height=\"200px\" viewBox=\"0 0 800 200\">\n",
       "<!-- END OF HEADER -->\n",
       "<rect style=\"opacity:1.0;fill:#FFFFFF;stroke:none\" width=\"800\" height=\"200\" x=\"0\" y=\"0\"> </rect>\n",
       "<rect style=\"opacity:1.0;fill:#FFFFFF;stroke:none\" width=\"800\" height=\"200\" x=\"0\" y=\"0\"> </rect>\n",
       "<rect style=\"opacity:1.0;fill:#FFFFFF;stroke:none\" width=\"800\" height=\"200\" x=\"0\" y=\"0\"> </rect>\n",
       "<rect style=\"opacity:1.0;fill:#FFFFFF;stroke:none\" width=\"800\" height=\"200\" x=\"0\" y=\"0\"> </rect>\n",
       "<rect style=\"opacity:1.0;fill:#FFFFFF;stroke:none\" width=\"800\" height=\"200\" x=\"0\" y=\"0\"> </rect>\n",
       "<path class=\"bond-0\" d=\"M 51.6234,79.298 L 52.9918,67.1195\" style=\"fill:none;fill-rule:evenodd;stroke:#000000;stroke-width:2.0px;stroke-linecap:butt;stroke-linejoin:miter;stroke-opacity:1\"/>\n",
       "<path class=\"bond-1\" d=\"M 52.9918,67.1195 L 63.6488,61.0682\" style=\"fill:none;fill-rule:evenodd;stroke:#000000;stroke-width:2.0px;stroke-linecap:butt;stroke-linejoin:miter;stroke-opacity:1\"/>\n",
       "<path class=\"bond-35\" d=\"M 52.9918,67.1195 L 49.4264,63.8625\" style=\"fill:none;fill-rule:evenodd;stroke:#000000;stroke-width:2.0px;stroke-linecap:butt;stroke-linejoin:miter;stroke-opacity:1\"/>\n",
       "<path class=\"bond-35\" d=\"M 49.4264,63.8625 L 45.8609,60.6055\" style=\"fill:none;fill-rule:evenodd;stroke:#0000FF;stroke-width:2.0px;stroke-linecap:butt;stroke-linejoin:miter;stroke-opacity:1\"/>\n",
       "<path class=\"bond-35\" d=\"M 53.5753,64.3327 L 51.0795,62.0529\" style=\"fill:none;fill-rule:evenodd;stroke:#000000;stroke-width:2.0px;stroke-linecap:butt;stroke-linejoin:miter;stroke-opacity:1\"/>\n",
       "<path class=\"bond-35\" d=\"M 51.0795,62.0529 L 48.5836,59.773\" style=\"fill:none;fill-rule:evenodd;stroke:#0000FF;stroke-width:2.0px;stroke-linecap:butt;stroke-linejoin:miter;stroke-opacity:1\"/>\n",
       "<path class=\"bond-2\" d=\"M 63.6488,61.0682 L 61.1869,49.0629\" style=\"fill:none;fill-rule:evenodd;stroke:#000000;stroke-width:2.0px;stroke-linecap:butt;stroke-linejoin:miter;stroke-opacity:1\"/>\n",
       "<path class=\"bond-2\" d=\"M 60.8785,59.7598 L 59.1551,51.3561\" style=\"fill:none;fill-rule:evenodd;stroke:#000000;stroke-width:2.0px;stroke-linecap:butt;stroke-linejoin:miter;stroke-opacity:1\"/>\n",
       "<path class=\"bond-6\" d=\"M 63.6488,61.0682 L 74.8084,66.133\" style=\"fill:none;fill-rule:evenodd;stroke:#000000;stroke-width:2.0px;stroke-linecap:butt;stroke-linejoin:miter;stroke-opacity:1\"/>\n",
       "<path class=\"bond-3\" d=\"M 61.1869,49.0629 L 56.2258,48.5054\" style=\"fill:none;fill-rule:evenodd;stroke:#000000;stroke-width:2.0px;stroke-linecap:butt;stroke-linejoin:miter;stroke-opacity:1\"/>\n",
       "<path class=\"bond-3\" d=\"M 56.2258,48.5054 L 51.2647,47.948\" style=\"fill:none;fill-rule:evenodd;stroke:#FF0000;stroke-width:2.0px;stroke-linecap:butt;stroke-linejoin:miter;stroke-opacity:1\"/>\n",
       "<path class=\"bond-5\" d=\"M 61.1869,49.0629 L 69.4523,40.0146\" style=\"fill:none;fill-rule:evenodd;stroke:#000000;stroke-width:2.0px;stroke-linecap:butt;stroke-linejoin:miter;stroke-opacity:1\"/>\n",
       "<path class=\"bond-4\" d=\"M 47.8645,50.2148 L 46.4398,53.3539\" style=\"fill:none;fill-rule:evenodd;stroke:#FF0000;stroke-width:2.0px;stroke-linecap:butt;stroke-linejoin:miter;stroke-opacity:1\"/>\n",
       "<path class=\"bond-4\" d=\"M 46.4398,53.3539 L 45.0152,56.4929\" style=\"fill:none;fill-rule:evenodd;stroke:#0000FF;stroke-width:2.0px;stroke-linecap:butt;stroke-linejoin:miter;stroke-opacity:1\"/>\n",
       "<path class=\"bond-7\" d=\"M 74.8084,66.133 L 76.002,78.3299\" style=\"fill:none;fill-rule:evenodd;stroke:#000000;stroke-width:2.0px;stroke-linecap:butt;stroke-linejoin:miter;stroke-opacity:1\"/>\n",
       "<path class=\"bond-7\" d=\"M 77.4268,67.7238 L 78.2623,76.2617\" style=\"fill:none;fill-rule:evenodd;stroke:#000000;stroke-width:2.0px;stroke-linecap:butt;stroke-linejoin:miter;stroke-opacity:1\"/>\n",
       "<path class=\"bond-36\" d=\"M 74.8084,66.133 L 84.7745,59.0009\" style=\"fill:none;fill-rule:evenodd;stroke:#000000;stroke-width:2.0px;stroke-linecap:butt;stroke-linejoin:miter;stroke-opacity:1\"/>\n",
       "<path class=\"bond-8\" d=\"M 76.002,78.3299 L 80.6231,80.4272\" style=\"fill:none;fill-rule:evenodd;stroke:#000000;stroke-width:2.0px;stroke-linecap:butt;stroke-linejoin:miter;stroke-opacity:1\"/>\n",
       "<path class=\"bond-8\" d=\"M 80.6231,80.4272 L 85.2442,82.5245\" style=\"fill:none;fill-rule:evenodd;stroke:#0000FF;stroke-width:2.0px;stroke-linecap:butt;stroke-linejoin:miter;stroke-opacity:1\"/>\n",
       "<path class=\"bond-34\" d=\"M 76.002,78.3299 L 66.0359,85.462\" style=\"fill:none;fill-rule:evenodd;stroke:#000000;stroke-width:2.0px;stroke-linecap:butt;stroke-linejoin:miter;stroke-opacity:1\"/>\n",
       "<path class=\"bond-9\" d=\"M 89.079,82.0226 L 93.1033,79.1426\" style=\"fill:none;fill-rule:evenodd;stroke:#0000FF;stroke-width:2.0px;stroke-linecap:butt;stroke-linejoin:miter;stroke-opacity:1\"/>\n",
       "<path class=\"bond-9\" d=\"M 93.1033,79.1426 L 97.1276,76.2626\" style=\"fill:none;fill-rule:evenodd;stroke:#000000;stroke-width:2.0px;stroke-linecap:butt;stroke-linejoin:miter;stroke-opacity:1\"/>\n",
       "<path class=\"bond-27\" d=\"M 87.3994,85.8251 L 87.8773,90.7084\" style=\"fill:none;fill-rule:evenodd;stroke:#0000FF;stroke-width:2.0px;stroke-linecap:butt;stroke-linejoin:miter;stroke-opacity:1\"/>\n",
       "<path class=\"bond-27\" d=\"M 87.8773,90.7084 L 88.3551,95.5916\" style=\"fill:none;fill-rule:evenodd;stroke:#000000;stroke-width:2.0px;stroke-linecap:butt;stroke-linejoin:miter;stroke-opacity:1\"/>\n",
       "<path class=\"bond-10\" d=\"M 96.6212,77.3786 L 101.073,79.399\" style=\"fill:none;fill-rule:evenodd;stroke:#000000;stroke-width:2.0px;stroke-linecap:butt;stroke-linejoin:miter;stroke-opacity:1\"/>\n",
       "<path class=\"bond-10\" d=\"M 101.073,79.399 L 105.524,81.4193\" style=\"fill:none;fill-rule:evenodd;stroke:#FF0000;stroke-width:2.0px;stroke-linecap:butt;stroke-linejoin:miter;stroke-opacity:1\"/>\n",
       "<path class=\"bond-10\" d=\"M 97.6341,75.1467 L 102.086,77.167\" style=\"fill:none;fill-rule:evenodd;stroke:#000000;stroke-width:2.0px;stroke-linecap:butt;stroke-linejoin:miter;stroke-opacity:1\"/>\n",
       "<path class=\"bond-10\" d=\"M 102.086,77.167 L 106.537,79.1874\" style=\"fill:none;fill-rule:evenodd;stroke:#FF0000;stroke-width:2.0px;stroke-linecap:butt;stroke-linejoin:miter;stroke-opacity:1\"/>\n",
       "<path class=\"bond-11\" d=\"M 97.1276,76.2626 L 95.9341,64.0657\" style=\"fill:none;fill-rule:evenodd;stroke:#000000;stroke-width:2.0px;stroke-linecap:butt;stroke-linejoin:miter;stroke-opacity:1\"/>\n",
       "<path class=\"bond-12\" d=\"M 95.9341,64.0657 L 84.7745,59.0009\" style=\"fill:none;fill-rule:evenodd;stroke:#000000;stroke-width:2.0px;stroke-linecap:butt;stroke-linejoin:miter;stroke-opacity:1\"/>\n",
       "<path class=\"bond-12\" d=\"M 93.2472,65.5379 L 85.4355,61.9925\" style=\"fill:none;fill-rule:evenodd;stroke:#000000;stroke-width:2.0px;stroke-linecap:butt;stroke-linejoin:miter;stroke-opacity:1\"/>\n",
       "<path class=\"bond-13\" d=\"M 95.9341,64.0657 L 105.9,56.9336\" style=\"fill:none;fill-rule:evenodd;stroke:#000000;stroke-width:2.0px;stroke-linecap:butt;stroke-linejoin:miter;stroke-opacity:1\"/>\n",
       "<path class=\"bond-14\" d=\"M 107.12,56.8143 L 106.646,51.976\" style=\"fill:none;fill-rule:evenodd;stroke:#000000;stroke-width:2.0px;stroke-linecap:butt;stroke-linejoin:miter;stroke-opacity:1\"/>\n",
       "<path class=\"bond-14\" d=\"M 106.646,51.976 L 106.173,47.1377\" style=\"fill:none;fill-rule:evenodd;stroke:#FF0000;stroke-width:2.0px;stroke-linecap:butt;stroke-linejoin:miter;stroke-opacity:1\"/>\n",
       "<path class=\"bond-14\" d=\"M 104.68,57.053 L 104.207,52.2147\" style=\"fill:none;fill-rule:evenodd;stroke:#000000;stroke-width:2.0px;stroke-linecap:butt;stroke-linejoin:miter;stroke-opacity:1\"/>\n",
       "<path class=\"bond-14\" d=\"M 104.207,52.2147 L 103.734,47.3764\" style=\"fill:none;fill-rule:evenodd;stroke:#FF0000;stroke-width:2.0px;stroke-linecap:butt;stroke-linejoin:miter;stroke-opacity:1\"/>\n",
       "<path class=\"bond-15\" d=\"M 105.9,56.9336 L 110.521,59.0309\" style=\"fill:none;fill-rule:evenodd;stroke:#000000;stroke-width:2.0px;stroke-linecap:butt;stroke-linejoin:miter;stroke-opacity:1\"/>\n",
       "<path class=\"bond-15\" d=\"M 110.521,59.0309 L 115.142,61.1282\" style=\"fill:none;fill-rule:evenodd;stroke:#0000FF;stroke-width:2.0px;stroke-linecap:butt;stroke-linejoin:miter;stroke-opacity:1\"/>\n",
       "<path class=\"bond-16\" d=\"M 118.977,60.6263 L 123.001,57.7463\" style=\"fill:none;fill-rule:evenodd;stroke:#0000FF;stroke-width:2.0px;stroke-linecap:butt;stroke-linejoin:miter;stroke-opacity:1\"/>\n",
       "<path class=\"bond-16\" d=\"M 123.001,57.7463 L 127.026,54.8663\" style=\"fill:none;fill-rule:evenodd;stroke:#000000;stroke-width:2.0px;stroke-linecap:butt;stroke-linejoin:miter;stroke-opacity:1\"/>\n",
       "<path class=\"bond-17\" d=\"M 127.026,54.8663 L 138.185,59.9311\" style=\"fill:none;fill-rule:evenodd;stroke:#000000;stroke-width:2.0px;stroke-linecap:butt;stroke-linejoin:miter;stroke-opacity:1\"/>\n",
       "<path class=\"bond-18\" d=\"M 138.185,59.9311 L 139.379,72.128\" style=\"fill:none;fill-rule:evenodd;stroke:#000000;stroke-width:2.0px;stroke-linecap:butt;stroke-linejoin:miter;stroke-opacity:1\"/>\n",
       "<path class=\"bond-18\" d=\"M 140.804,61.522 L 141.639,70.0598\" style=\"fill:none;fill-rule:evenodd;stroke:#000000;stroke-width:2.0px;stroke-linecap:butt;stroke-linejoin:miter;stroke-opacity:1\"/>\n",
       "<path class=\"bond-37\" d=\"M 138.185,59.9311 L 148.151,52.799\" style=\"fill:none;fill-rule:evenodd;stroke:#000000;stroke-width:2.0px;stroke-linecap:butt;stroke-linejoin:miter;stroke-opacity:1\"/>\n",
       "<path class=\"bond-19\" d=\"M 139.379,72.128 L 150.539,77.1928\" style=\"fill:none;fill-rule:evenodd;stroke:#000000;stroke-width:2.0px;stroke-linecap:butt;stroke-linejoin:miter;stroke-opacity:1\"/>\n",
       "<path class=\"bond-20\" d=\"M 150.539,77.1928 L 160.505,70.0607\" style=\"fill:none;fill-rule:evenodd;stroke:#000000;stroke-width:2.0px;stroke-linecap:butt;stroke-linejoin:miter;stroke-opacity:1\"/>\n",
       "<path class=\"bond-20\" d=\"M 150.607,74.1298 L 157.583,69.1373\" style=\"fill:none;fill-rule:evenodd;stroke:#000000;stroke-width:2.0px;stroke-linecap:butt;stroke-linejoin:miter;stroke-opacity:1\"/>\n",
       "<path class=\"bond-21\" d=\"M 160.505,70.0607 L 159.311,57.8638\" style=\"fill:none;fill-rule:evenodd;stroke:#000000;stroke-width:2.0px;stroke-linecap:butt;stroke-linejoin:miter;stroke-opacity:1\"/>\n",
       "<path class=\"bond-23\" d=\"M 160.505,70.0607 L 165.25,72.2145\" style=\"fill:none;fill-rule:evenodd;stroke:#000000;stroke-width:2.0px;stroke-linecap:butt;stroke-linejoin:miter;stroke-opacity:1\"/>\n",
       "<path class=\"bond-23\" d=\"M 165.25,72.2145 L 169.996,74.3684\" style=\"fill:none;fill-rule:evenodd;stroke:#CCCC00;stroke-width:2.0px;stroke-linecap:butt;stroke-linejoin:miter;stroke-opacity:1\"/>\n",
       "<path class=\"bond-22\" d=\"M 159.311,57.8638 L 148.151,52.799\" style=\"fill:none;fill-rule:evenodd;stroke:#000000;stroke-width:2.0px;stroke-linecap:butt;stroke-linejoin:miter;stroke-opacity:1\"/>\n",
       "<path class=\"bond-22\" d=\"M 156.624,59.336 L 148.812,55.7907\" style=\"fill:none;fill-rule:evenodd;stroke:#000000;stroke-width:2.0px;stroke-linecap:butt;stroke-linejoin:miter;stroke-opacity:1\"/>\n",
       "<path class=\"bond-24\" d=\"M 173.88,73.2077 L 175.306,70.0669\" style=\"fill:none;fill-rule:evenodd;stroke:#CCCC00;stroke-width:2.0px;stroke-linecap:butt;stroke-linejoin:miter;stroke-opacity:1\"/>\n",
       "<path class=\"bond-24\" d=\"M 175.306,70.0669 L 176.731,66.9262\" style=\"fill:none;fill-rule:evenodd;stroke:#FF0000;stroke-width:2.0px;stroke-linecap:butt;stroke-linejoin:miter;stroke-opacity:1\"/>\n",
       "<path class=\"bond-24\" d=\"M 171.649,72.1947 L 173.074,69.054\" style=\"fill:none;fill-rule:evenodd;stroke:#CCCC00;stroke-width:2.0px;stroke-linecap:butt;stroke-linejoin:miter;stroke-opacity:1\"/>\n",
       "<path class=\"bond-24\" d=\"M 173.074,69.054 L 174.499,65.9133\" style=\"fill:none;fill-rule:evenodd;stroke:#FF0000;stroke-width:2.0px;stroke-linecap:butt;stroke-linejoin:miter;stroke-opacity:1\"/>\n",
       "<path class=\"bond-25\" d=\"M 169.396,77.1574 L 167.981,80.2757\" style=\"fill:none;fill-rule:evenodd;stroke:#CCCC00;stroke-width:2.0px;stroke-linecap:butt;stroke-linejoin:miter;stroke-opacity:1\"/>\n",
       "<path class=\"bond-25\" d=\"M 167.981,80.2757 L 166.566,83.394\" style=\"fill:none;fill-rule:evenodd;stroke:#FF0000;stroke-width:2.0px;stroke-linecap:butt;stroke-linejoin:miter;stroke-opacity:1\"/>\n",
       "<path class=\"bond-25\" d=\"M 171.628,78.1704 L 170.213,81.2887\" style=\"fill:none;fill-rule:evenodd;stroke:#CCCC00;stroke-width:2.0px;stroke-linecap:butt;stroke-linejoin:miter;stroke-opacity:1\"/>\n",
       "<path class=\"bond-25\" d=\"M 170.213,81.2887 L 168.798,84.4069\" style=\"fill:none;fill-rule:evenodd;stroke:#FF0000;stroke-width:2.0px;stroke-linecap:butt;stroke-linejoin:miter;stroke-opacity:1\"/>\n",
       "<path class=\"bond-26\" d=\"M 173.333,75.8827 L 178.078,78.0366\" style=\"fill:none;fill-rule:evenodd;stroke:#CCCC00;stroke-width:2.0px;stroke-linecap:butt;stroke-linejoin:miter;stroke-opacity:1\"/>\n",
       "<path class=\"bond-26\" d=\"M 178.078,78.0366 L 182.824,80.1904\" style=\"fill:none;fill-rule:evenodd;stroke:#000000;stroke-width:2.0px;stroke-linecap:butt;stroke-linejoin:miter;stroke-opacity:1\"/>\n",
       "<path class=\"bond-28\" d=\"M 88.3551,95.5916 L 78.3891,102.724\" style=\"fill:none;fill-rule:evenodd;stroke:#000000;stroke-width:2.0px;stroke-linecap:butt;stroke-linejoin:miter;stroke-opacity:1\"/>\n",
       "<path class=\"bond-28\" d=\"M 88.2866,98.6547 L 81.3104,103.647\" style=\"fill:none;fill-rule:evenodd;stroke:#000000;stroke-width:2.0px;stroke-linecap:butt;stroke-linejoin:miter;stroke-opacity:1\"/>\n",
       "<path class=\"bond-38\" d=\"M 88.3551,95.5916 L 99.5147,100.656\" style=\"fill:none;fill-rule:evenodd;stroke:#000000;stroke-width:2.0px;stroke-linecap:butt;stroke-linejoin:miter;stroke-opacity:1\"/>\n",
       "<path class=\"bond-29\" d=\"M 78.3891,102.724 L 79.5826,114.921\" style=\"fill:none;fill-rule:evenodd;stroke:#000000;stroke-width:2.0px;stroke-linecap:butt;stroke-linejoin:miter;stroke-opacity:1\"/>\n",
       "<path class=\"bond-30\" d=\"M 79.5826,114.921 L 90.7422,119.985\" style=\"fill:none;fill-rule:evenodd;stroke:#000000;stroke-width:2.0px;stroke-linecap:butt;stroke-linejoin:miter;stroke-opacity:1\"/>\n",
       "<path class=\"bond-30\" d=\"M 82.2695,113.448 L 90.0813,116.994\" style=\"fill:none;fill-rule:evenodd;stroke:#000000;stroke-width:2.0px;stroke-linecap:butt;stroke-linejoin:miter;stroke-opacity:1\"/>\n",
       "<path class=\"bond-31\" d=\"M 90.7422,119.985 L 100.708,112.853\" style=\"fill:none;fill-rule:evenodd;stroke:#000000;stroke-width:2.0px;stroke-linecap:butt;stroke-linejoin:miter;stroke-opacity:1\"/>\n",
       "<path class=\"bond-32\" d=\"M 100.708,112.853 L 99.5147,100.656\" style=\"fill:none;fill-rule:evenodd;stroke:#000000;stroke-width:2.0px;stroke-linecap:butt;stroke-linejoin:miter;stroke-opacity:1\"/>\n",
       "<path class=\"bond-32\" d=\"M 98.0899,111.263 L 97.2544,102.725\" style=\"fill:none;fill-rule:evenodd;stroke:#000000;stroke-width:2.0px;stroke-linecap:butt;stroke-linejoin:miter;stroke-opacity:1\"/>\n",
       "<path class=\"bond-33\" d=\"M 100.708,112.853 L 105.316,114.945\" style=\"fill:none;fill-rule:evenodd;stroke:#000000;stroke-width:2.0px;stroke-linecap:butt;stroke-linejoin:miter;stroke-opacity:1\"/>\n",
       "<path class=\"bond-33\" d=\"M 105.316,114.945 L 109.924,117.036\" style=\"fill:none;fill-rule:evenodd;stroke:#00CC00;stroke-width:2.0px;stroke-linecap:butt;stroke-linejoin:miter;stroke-opacity:1\"/>\n",
       "<path class=\"atom-4\" d=\"M 47.0583 47.7065 Q 47.0583 46.6865, 47.5623 46.1165 Q 48.0663 45.5465, 49.0083 45.5465 Q 49.9503 45.5465, 50.4543 46.1165 Q 50.9583 46.6865, 50.9583 47.7065 Q 50.9583 48.7385, 50.4483 49.3265 Q 49.9383 49.9085, 49.0083 49.9085 Q 48.0723 49.9085, 47.5623 49.3265 Q 47.0583 48.7445, 47.0583 47.7065 M 49.0083 49.4285 Q 49.6563 49.4285, 50.0043 48.9965 Q 50.3583 48.5585, 50.3583 47.7065 Q 50.3583 46.8725, 50.0043 46.4525 Q 49.6563 46.0265, 49.0083 46.0265 Q 48.3603 46.0265, 48.0063 46.4465 Q 47.6583 46.8665, 47.6583 47.7065 Q 47.6583 48.5645, 48.0063 48.9965 Q 48.3603 49.4285, 49.0083 49.4285 \" fill=\"#FF0000\"/>\n",
       "<path class=\"atom-5\" d=\"M 43.0045 56.7301 L 44.3965 58.9801 Q 44.5345 59.2021, 44.7565 59.6041 Q 44.9785 60.0061, 44.9905 60.0301 L 44.9905 56.7301 L 45.5545 56.7301 L 45.5545 60.9781 L 44.9725 60.9781 L 43.4785 58.5181 Q 43.3045 58.2301, 43.1185 57.9001 Q 42.9385 57.5701, 42.8845 57.4681 L 42.8845 60.9781 L 42.3325 60.9781 L 42.3325 56.7301 L 43.0045 56.7301 \" fill=\"#0000FF\"/>\n",
       "<path class=\"atom-9\" d=\"M 86.2226 81.2707 L 87.6146 83.5207 Q 87.7526 83.7427, 87.9746 84.1447 Q 88.1966 84.5467, 88.2086 84.5707 L 88.2086 81.2707 L 88.7726 81.2707 L 88.7726 85.5187 L 88.1906 85.5187 L 86.6966 83.0587 Q 86.5226 82.7707, 86.3366 82.4407 Q 86.1566 82.1107, 86.1026 82.0087 L 86.1026 85.5187 L 85.5506 85.5187 L 85.5506 81.2707 L 86.2226 81.2707 \" fill=\"#0000FF\"/>\n",
       "<path class=\"atom-11\" d=\"M 106.337 81.3394 Q 106.337 80.3194, 106.841 79.7494 Q 107.345 79.1794, 108.287 79.1794 Q 109.229 79.1794, 109.733 79.7494 Q 110.237 80.3194, 110.237 81.3394 Q 110.237 82.3714, 109.727 82.9594 Q 109.217 83.5414, 108.287 83.5414 Q 107.351 83.5414, 106.841 82.9594 Q 106.337 82.3774, 106.337 81.3394 M 108.287 83.0614 Q 108.935 83.0614, 109.283 82.6294 Q 109.637 82.1914, 109.637 81.3394 Q 109.637 80.5054, 109.283 80.0854 Q 108.935 79.6594, 108.287 79.6594 Q 107.639 79.6594, 107.285 80.0794 Q 106.937 80.4994, 106.937 81.3394 Q 106.937 82.1974, 107.285 82.6294 Q 107.639 83.0614, 108.287 83.0614 \" fill=\"#FF0000\"/>\n",
       "<path class=\"atom-15\" d=\"M 102.757 44.7487 Q 102.757 43.7287, 103.261 43.1587 Q 103.765 42.5887, 104.707 42.5887 Q 105.649 42.5887, 106.153 43.1587 Q 106.657 43.7287, 106.657 44.7487 Q 106.657 45.7807, 106.147 46.3687 Q 105.637 46.9507, 104.707 46.9507 Q 103.771 46.9507, 103.261 46.3687 Q 102.757 45.7867, 102.757 44.7487 M 104.707 46.4707 Q 105.355 46.4707, 105.703 46.0387 Q 106.057 45.6007, 106.057 44.7487 Q 106.057 43.9147, 105.703 43.4947 Q 105.355 43.0687, 104.707 43.0687 Q 104.059 43.0687, 103.705 43.4887 Q 103.357 43.9087, 103.357 44.7487 Q 103.357 45.6067, 103.705 46.0387 Q 104.059 46.4707, 104.707 46.4707 \" fill=\"#FF0000\"/>\n",
       "<path class=\"atom-16\" d=\"M 116.121 59.8744 L 117.513 62.1244 Q 117.651 62.3464, 117.873 62.7484 Q 118.095 63.1504, 118.107 63.1744 L 118.107 59.8744 L 118.671 59.8744 L 118.671 64.1224 L 118.089 64.1224 L 116.595 61.6624 Q 116.421 61.3744, 116.235 61.0444 Q 116.055 60.7144, 116.001 60.6124 L 116.001 64.1224 L 115.449 64.1224 L 115.449 59.8744 L 116.121 59.8744 \" fill=\"#0000FF\"/>\n",
       "<path class=\"atom-16\" d=\"M 115.398 64.5472 L 115.974 64.5472 L 115.974 66.3532 L 118.146 66.3532 L 118.146 64.5472 L 118.722 64.5472 L 118.722 68.7952 L 118.146 68.7952 L 118.146 66.8332 L 115.974 66.8332 L 115.974 68.7952 L 115.398 68.7952 L 115.398 64.5472 \" fill=\"#0000FF\"/>\n",
       "<path class=\"atom-24\" d=\"M 170.464 76.5835 Q 170.512 76.6015, 170.71 76.6855 Q 170.908 76.7695, 171.124 76.8235 Q 171.346 76.8715, 171.562 76.8715 Q 171.964 76.8715, 172.198 76.6795 Q 172.432 76.4815, 172.432 76.1395 Q 172.432 75.9055, 172.312 75.7615 Q 172.198 75.6175, 172.018 75.5395 Q 171.838 75.4615, 171.538 75.3715 Q 171.16 75.2575, 170.932 75.1495 Q 170.71 75.0415, 170.548 74.8135 Q 170.392 74.5855, 170.392 74.2015 Q 170.392 73.6675, 170.752 73.3375 Q 171.118 73.0075, 171.838 73.0075 Q 172.33 73.0075, 172.888 73.2415 L 172.75 73.7035 Q 172.24 73.4935, 171.856 73.4935 Q 171.442 73.4935, 171.214 73.6675 Q 170.986 73.8355, 170.992 74.1295 Q 170.992 74.3575, 171.106 74.4955 Q 171.226 74.6335, 171.394 74.7115 Q 171.568 74.7895, 171.856 74.8795 Q 172.24 74.9995, 172.468 75.1195 Q 172.696 75.2395, 172.858 75.4855 Q 173.026 75.7255, 173.026 76.1395 Q 173.026 76.7275, 172.63 77.0455 Q 172.24 77.3575, 171.586 77.3575 Q 171.208 77.3575, 170.92 77.2735 Q 170.638 77.1955, 170.302 77.0575 L 170.464 76.5835 \" fill=\"#CCCC00\"/>\n",
       "<path class=\"atom-25\" d=\"M 174.779 63.9779 Q 174.779 62.9579, 175.283 62.3879 Q 175.787 61.8179, 176.729 61.8179 Q 177.671 61.8179, 178.175 62.3879 Q 178.679 62.9579, 178.679 63.9779 Q 178.679 65.0099, 178.169 65.5979 Q 177.659 66.1799, 176.729 66.1799 Q 175.793 66.1799, 175.283 65.5979 Q 174.779 65.0159, 174.779 63.9779 M 176.729 65.6999 Q 177.377 65.6999, 177.725 65.2679 Q 178.079 64.8299, 178.079 63.9779 Q 178.079 63.1439, 177.725 62.7239 Q 177.377 62.2979, 176.729 62.2979 Q 176.081 62.2979, 175.727 62.7179 Q 175.379 63.1379, 175.379 63.9779 Q 175.379 64.8359, 175.727 65.2679 Q 176.081 65.6999, 176.729 65.6999 \" fill=\"#FF0000\"/>\n",
       "<path class=\"atom-26\" d=\"M 164.649 86.2972 Q 164.649 85.2772, 165.153 84.7072 Q 165.657 84.1372, 166.599 84.1372 Q 167.541 84.1372, 168.045 84.7072 Q 168.549 85.2772, 168.549 86.2972 Q 168.549 87.3292, 168.039 87.9172 Q 167.529 88.4992, 166.599 88.4992 Q 165.663 88.4992, 165.153 87.9172 Q 164.649 87.3352, 164.649 86.2972 M 166.599 88.0192 Q 167.247 88.0192, 167.595 87.5872 Q 167.949 87.1492, 167.949 86.2972 Q 167.949 85.4632, 167.595 85.0432 Q 167.247 84.6172, 166.599 84.6172 Q 165.951 84.6172, 165.597 85.0372 Q 165.249 85.4572, 165.249 86.2972 Q 165.249 87.1552, 165.597 87.5872 Q 165.951 88.0192, 166.599 88.0192 \" fill=\"#FF0000\"/>\n",
       "<path class=\"atom-34\" d=\"M 110.23 118.065 Q 110.23 117.009, 110.722 116.457 Q 111.22 115.899, 112.162 115.899 Q 113.038 115.899, 113.506 116.517 L 113.11 116.841 Q 112.768 116.391, 112.162 116.391 Q 111.52 116.391, 111.178 116.823 Q 110.842 117.249, 110.842 118.065 Q 110.842 118.905, 111.19 119.337 Q 111.544 119.769, 112.228 119.769 Q 112.696 119.769, 113.242 119.487 L 113.41 119.937 Q 113.188 120.081, 112.852 120.165 Q 112.516 120.249, 112.144 120.249 Q 111.22 120.249, 110.722 119.685 Q 110.23 119.121, 110.23 118.065 \" fill=\"#00CC00\"/>\n",
       "<path class=\"atom-34\" d=\"M 114.022 115.641 L 114.574 115.641 L 114.574 120.195 L 114.022 120.195 L 114.022 115.641 \" fill=\"#00CC00\"/>\n",
       "<path d=\"M 65.1733 179.536 L 66.7093 179.536 L 63.6853 190.848 L 61.3653 190.848 L 58.9013 181.408 L 56.4213 190.848 L 54.1013 190.848 L 51.0773 179.536 L 52.6293 179.536 L 55.2853 189.44 L 57.8933 179.536 L 59.8933 179.536 L 62.5013 189.472 L 65.1733 179.536 \" fill=\"#000000\"/>\n",
       "<path d=\"M 75.3173 192.88 Q 75.8773 192.88, 76.4853 192.672 L 76.9333 193.984 Q 76.0373 194.272, 75.2213 194.272 Q 73.8133 194.272, 72.8853 193.424 Q 71.9573 192.576, 71.7973 190.96 Q 69.7173 190.688, 68.6133 189.168 Q 67.5093 187.648, 67.5093 185.152 Q 67.5093 182.432, 68.8533 180.912 Q 70.1973 179.392, 72.7093 179.392 Q 75.2213 179.392, 76.5653 180.912 Q 77.9093 182.432, 77.9093 185.152 Q 77.9093 187.808, 76.6453 189.36 Q 75.3973 190.896, 73.0933 191.008 Q 73.2533 191.888, 73.8453 192.384 Q 74.4533 192.88, 75.3173 192.88 M 69.1093 185.152 Q 69.1093 187.44, 70.0373 188.592 Q 70.9813 189.744, 72.7093 189.744 Q 74.4373 189.744, 75.3653 188.592 Q 76.3093 187.424, 76.3093 185.152 Q 76.3093 182.928, 75.3653 181.808 Q 74.4373 180.672, 72.7093 180.672 Q 70.9813 180.672, 70.0373 181.792 Q 69.1093 182.912, 69.1093 185.152 \" fill=\"#000000\"/>\n",
       "<path d=\"M 86.5173 192.88 Q 87.0773 192.88, 87.6853 192.672 L 88.1333 193.984 Q 87.2373 194.272, 86.4213 194.272 Q 85.0133 194.272, 84.0853 193.424 Q 83.1573 192.576, 82.9973 190.96 Q 80.9173 190.688, 79.8133 189.168 Q 78.7093 187.648, 78.7093 185.152 Q 78.7093 182.432, 80.0533 180.912 Q 81.3973 179.392, 83.9093 179.392 Q 86.4213 179.392, 87.7653 180.912 Q 89.1093 182.432, 89.1093 185.152 Q 89.1093 187.808, 87.8453 189.36 Q 86.5973 190.896, 84.2933 191.008 Q 84.4533 191.888, 85.0453 192.384 Q 85.6533 192.88, 86.5173 192.88 M 80.3093 185.152 Q 80.3093 187.44, 81.2373 188.592 Q 82.1813 189.744, 83.9093 189.744 Q 85.6373 189.744, 86.5653 188.592 Q 87.5093 187.424, 87.5093 185.152 Q 87.5093 182.928, 86.5653 181.808 Q 85.6373 180.672, 83.9093 180.672 Q 82.1813 180.672, 81.2373 181.792 Q 80.3093 182.912, 80.3093 185.152 \" fill=\"#000000\"/>\n",
       "<path d=\"M 90.1493 189.248 L 91.7493 189.248 L 91.7493 190.528 L 91.4453 192.736 L 90.8693 192.736 L 90.8693 190.848 L 90.1493 190.848 L 90.1493 189.248 \" fill=\"#000000\"/>\n",
       "<path d=\"\" fill=\"#000000\"/>\n",
       "<path d=\"M 100.597 183.76 Q 101.589 183.76, 102.405 184.192 Q 103.221 184.608, 103.685 185.408 Q 104.149 186.192, 104.149 187.264 Q 104.149 188.432, 103.573 189.28 Q 103.013 190.112, 102.085 190.544 Q 101.157 190.976, 100.101 190.976 Q 99.0613 190.976, 98.1013 190.592 Q 97.1413 190.208, 96.4853 189.472 L 97.4453 188.48 Q 97.9733 189.056, 98.6933 189.376 Q 99.4133 189.68, 100.149 189.68 Q 101.157 189.68, 101.845 189.056 Q 102.549 188.432, 102.549 187.296 Q 102.549 186.096, 101.845 185.536 Q 101.157 184.96, 100.053 184.96 Q 99.0613 184.96, 97.9573 185.392 L 97.0773 184.976 L 97.6213 179.52 L 103.445 179.52 L 103.285 180.8 L 98.9333 180.8 L 98.5973 184.16 Q 99.6053 183.76, 100.597 183.76 \" fill=\"#000000\"/>\n",
       "<path d=\"M 112.693 190.848 L 111.509 187.52 L 107.013 187.52 L 105.877 190.848 L 104.341 190.848 L 108.245 179.52 L 110.133 179.52 L 114.181 190.848 L 112.693 190.848 M 107.461 186.24 L 111.045 186.24 L 109.221 181.104 L 107.461 186.24 \" fill=\"#000000\"/>\n",
       "<path d=\"M 121.045 184.896 Q 122.133 185.2, 122.677 185.872 Q 123.237 186.528, 123.237 187.504 Q 123.237 189.072, 122.229 189.968 Q 121.237 190.848, 119.349 190.848 L 115.541 190.848 L 115.541 179.52 L 118.885 179.52 Q 120.821 179.52, 121.797 180.304 Q 122.773 181.088, 122.773 182.528 Q 122.773 184.24, 121.045 184.896 M 117.061 180.8 L 117.061 184.352 L 118.885 184.352 Q 120.005 184.352, 120.581 183.904 Q 121.173 183.44, 121.173 182.528 Q 121.173 180.8, 118.885 180.8 L 117.061 180.8 M 119.349 189.568 Q 120.453 189.568, 121.045 189.04 Q 121.637 188.512, 121.637 187.504 Q 121.637 186.576, 120.981 186.112 Q 120.341 185.632, 119.109 185.632 L 117.061 185.632 L 117.061 189.568 L 119.349 189.568 \" fill=\"#000000\"/>\n",
       "<path d=\"M 137.781 179.536 L 139.317 179.536 L 136.293 190.848 L 133.973 190.848 L 131.509 181.408 L 129.029 190.848 L 126.709 190.848 L 123.685 179.536 L 125.237 179.536 L 127.893 189.44 L 130.501 179.536 L 132.501 179.536 L 135.109 189.472 L 137.781 179.536 \" fill=\"#000000\"/>\n",
       "<path class=\"bond-0\" d=\"M 364.451,69.31 L 353.971,75.6633\" style=\"fill:none;fill-rule:evenodd;stroke:#000000;stroke-width:2.0px;stroke-linecap:butt;stroke-linejoin:miter;stroke-opacity:1\"/>\n",
       "<path class=\"bond-14\" d=\"M 364.451,69.31 L 375.193,75.2091\" style=\"fill:none;fill-rule:evenodd;stroke:#000000;stroke-width:2.0px;stroke-linecap:butt;stroke-linejoin:miter;stroke-opacity:1\"/>\n",
       "<path class=\"bond-1\" d=\"M 353.971,75.6633 L 349.728,73.3334\" style=\"fill:none;fill-rule:evenodd;stroke:#000000;stroke-width:2.0px;stroke-linecap:butt;stroke-linejoin:miter;stroke-opacity:1\"/>\n",
       "<path class=\"bond-1\" d=\"M 349.728,73.3334 L 345.486,71.0034\" style=\"fill:none;fill-rule:evenodd;stroke:#FF0000;stroke-width:2.0px;stroke-linecap:butt;stroke-linejoin:miter;stroke-opacity:1\"/>\n",
       "<path class=\"bond-2\" d=\"M 340.973,71.1322 L 336.861,73.6249\" style=\"fill:none;fill-rule:evenodd;stroke:#FF0000;stroke-width:2.0px;stroke-linecap:butt;stroke-linejoin:miter;stroke-opacity:1\"/>\n",
       "<path class=\"bond-2\" d=\"M 336.861,73.6249 L 332.749,76.1176\" style=\"fill:none;fill-rule:evenodd;stroke:#000000;stroke-width:2.0px;stroke-linecap:butt;stroke-linejoin:miter;stroke-opacity:1\"/>\n",
       "<path class=\"bond-3\" d=\"M 332.749,76.1176 L 322.008,70.2185\" style=\"fill:none;fill-rule:evenodd;stroke:#000000;stroke-width:2.0px;stroke-linecap:butt;stroke-linejoin:miter;stroke-opacity:1\"/>\n",
       "<path class=\"bond-4\" d=\"M 322.008,70.2185 L 317.896,72.7112\" style=\"fill:none;fill-rule:evenodd;stroke:#000000;stroke-width:2.0px;stroke-linecap:butt;stroke-linejoin:miter;stroke-opacity:1\"/>\n",
       "<path class=\"bond-4\" d=\"M 317.896,72.7112 L 313.784,75.2039\" style=\"fill:none;fill-rule:evenodd;stroke:#FF0000;stroke-width:2.0px;stroke-linecap:butt;stroke-linejoin:miter;stroke-opacity:1\"/>\n",
       "<path class=\"bond-5\" d=\"M 309.271,75.3327 L 305.029,73.0027\" style=\"fill:none;fill-rule:evenodd;stroke:#FF0000;stroke-width:2.0px;stroke-linecap:butt;stroke-linejoin:miter;stroke-opacity:1\"/>\n",
       "<path class=\"bond-5\" d=\"M 305.029,73.0027 L 300.786,70.6727\" style=\"fill:none;fill-rule:evenodd;stroke:#000000;stroke-width:2.0px;stroke-linecap:butt;stroke-linejoin:miter;stroke-opacity:1\"/>\n",
       "<path class=\"bond-6\" d=\"M 300.786,70.6727 L 290.306,77.026\" style=\"fill:none;fill-rule:evenodd;stroke:#000000;stroke-width:2.0px;stroke-linecap:butt;stroke-linejoin:miter;stroke-opacity:1\"/>\n",
       "<path class=\"bond-7\" d=\"M 290.306,77.026 L 286.063,74.6961\" style=\"fill:none;fill-rule:evenodd;stroke:#000000;stroke-width:2.0px;stroke-linecap:butt;stroke-linejoin:miter;stroke-opacity:1\"/>\n",
       "<path class=\"bond-7\" d=\"M 286.063,74.6961 L 281.82,72.3661\" style=\"fill:none;fill-rule:evenodd;stroke:#FF0000;stroke-width:2.0px;stroke-linecap:butt;stroke-linejoin:miter;stroke-opacity:1\"/>\n",
       "<path class=\"bond-8\" d=\"M 277.308,72.4949 L 273.196,74.9876\" style=\"fill:none;fill-rule:evenodd;stroke:#FF0000;stroke-width:2.0px;stroke-linecap:butt;stroke-linejoin:miter;stroke-opacity:1\"/>\n",
       "<path class=\"bond-8\" d=\"M 273.196,74.9876 L 269.084,77.4803\" style=\"fill:none;fill-rule:evenodd;stroke:#000000;stroke-width:2.0px;stroke-linecap:butt;stroke-linejoin:miter;stroke-opacity:1\"/>\n",
       "<path class=\"bond-9\" d=\"M 269.084,77.4803 L 258.342,71.5812\" style=\"fill:none;fill-rule:evenodd;stroke:#000000;stroke-width:2.0px;stroke-linecap:butt;stroke-linejoin:miter;stroke-opacity:1\"/>\n",
       "<path class=\"bond-10\" d=\"M 258.342,71.5812 L 254.231,74.0739\" style=\"fill:none;fill-rule:evenodd;stroke:#000000;stroke-width:2.0px;stroke-linecap:butt;stroke-linejoin:miter;stroke-opacity:1\"/>\n",
       "<path class=\"bond-10\" d=\"M 254.231,74.0739 L 250.119,76.5666\" style=\"fill:none;fill-rule:evenodd;stroke:#FF0000;stroke-width:2.0px;stroke-linecap:butt;stroke-linejoin:miter;stroke-opacity:1\"/>\n",
       "<path class=\"bond-11\" d=\"M 245.606,76.6954 L 241.363,74.3654\" style=\"fill:none;fill-rule:evenodd;stroke:#FF0000;stroke-width:2.0px;stroke-linecap:butt;stroke-linejoin:miter;stroke-opacity:1\"/>\n",
       "<path class=\"bond-11\" d=\"M 241.363,74.3654 L 237.121,72.0354\" style=\"fill:none;fill-rule:evenodd;stroke:#000000;stroke-width:2.0px;stroke-linecap:butt;stroke-linejoin:miter;stroke-opacity:1\"/>\n",
       "<path class=\"bond-12\" d=\"M 237.121,72.0354 L 226.641,78.3887\" style=\"fill:none;fill-rule:evenodd;stroke:#000000;stroke-width:2.0px;stroke-linecap:butt;stroke-linejoin:miter;stroke-opacity:1\"/>\n",
       "<path class=\"bond-13\" d=\"M 226.641,78.3887 L 222.229,75.9657\" style=\"fill:none;fill-rule:evenodd;stroke:#000000;stroke-width:2.0px;stroke-linecap:butt;stroke-linejoin:miter;stroke-opacity:1\"/>\n",
       "<path class=\"bond-13\" d=\"M 222.229,75.9657 L 217.816,73.5426\" style=\"fill:none;fill-rule:evenodd;stroke:#0000FF;stroke-width:2.0px;stroke-linecap:butt;stroke-linejoin:miter;stroke-opacity:1\"/>\n",
       "<path class=\"bond-15\" d=\"M 373.968,75.2353 L 374.073,80.1343\" style=\"fill:none;fill-rule:evenodd;stroke:#000000;stroke-width:2.0px;stroke-linecap:butt;stroke-linejoin:miter;stroke-opacity:1\"/>\n",
       "<path class=\"bond-15\" d=\"M 374.073,80.1343 L 374.177,85.0333\" style=\"fill:none;fill-rule:evenodd;stroke:#FF0000;stroke-width:2.0px;stroke-linecap:butt;stroke-linejoin:miter;stroke-opacity:1\"/>\n",
       "<path class=\"bond-15\" d=\"M 376.418,75.1829 L 376.523,80.0819\" style=\"fill:none;fill-rule:evenodd;stroke:#000000;stroke-width:2.0px;stroke-linecap:butt;stroke-linejoin:miter;stroke-opacity:1\"/>\n",
       "<path class=\"bond-15\" d=\"M 376.523,80.0819 L 376.628,84.9809\" style=\"fill:none;fill-rule:evenodd;stroke:#FF0000;stroke-width:2.0px;stroke-linecap:butt;stroke-linejoin:miter;stroke-opacity:1\"/>\n",
       "<path class=\"bond-16\" d=\"M 375.193,75.2091 L 379.305,72.7164\" style=\"fill:none;fill-rule:evenodd;stroke:#000000;stroke-width:2.0px;stroke-linecap:butt;stroke-linejoin:miter;stroke-opacity:1\"/>\n",
       "<path class=\"bond-16\" d=\"M 379.305,72.7164 L 383.416,70.2237\" style=\"fill:none;fill-rule:evenodd;stroke:#FF0000;stroke-width:2.0px;stroke-linecap:butt;stroke-linejoin:miter;stroke-opacity:1\"/>\n",
       "<path class=\"atom-2\" d=\"M 341.279 69.7763 Q 341.279 68.7563, 341.783 68.1863 Q 342.287 67.6163, 343.229 67.6163 Q 344.171 67.6163, 344.675 68.1863 Q 345.179 68.7563, 345.179 69.7763 Q 345.179 70.8083, 344.669 71.3963 Q 344.159 71.9783, 343.229 71.9783 Q 342.293 71.9783, 341.783 71.3963 Q 341.279 70.8143, 341.279 69.7763 M 343.229 71.4983 Q 343.877 71.4983, 344.225 71.0663 Q 344.579 70.6283, 344.579 69.7763 Q 344.579 68.9423, 344.225 68.5223 Q 343.877 68.0963, 343.229 68.0963 Q 342.581 68.0963, 342.227 68.5163 Q 341.879 68.9363, 341.879 69.7763 Q 341.879 70.6343, 342.227 71.0663 Q 342.581 71.4983, 343.229 71.4983 \" fill=\"#FF0000\"/>\n",
       "<path class=\"atom-5\" d=\"M 309.578 76.5838 Q 309.578 75.5638, 310.082 74.9938 Q 310.586 74.4238, 311.528 74.4238 Q 312.47 74.4238, 312.974 74.9938 Q 313.478 75.5638, 313.478 76.5838 Q 313.478 77.6158, 312.968 78.2038 Q 312.458 78.7858, 311.528 78.7858 Q 310.592 78.7858, 310.082 78.2038 Q 309.578 77.6218, 309.578 76.5838 M 311.528 78.3058 Q 312.176 78.3058, 312.524 77.8738 Q 312.878 77.4358, 312.878 76.5838 Q 312.878 75.7498, 312.524 75.3298 Q 312.176 74.9038, 311.528 74.9038 Q 310.88 74.9038, 310.526 75.3238 Q 310.178 75.7438, 310.178 76.5838 Q 310.178 77.4418, 310.526 77.8738 Q 310.88 78.3058, 311.528 78.3058 \" fill=\"#FF0000\"/>\n",
       "<path class=\"atom-8\" d=\"M 277.614 71.139 Q 277.614 70.119, 278.118 69.549 Q 278.622 68.979, 279.564 68.979 Q 280.506 68.979, 281.01 69.549 Q 281.514 70.119, 281.514 71.139 Q 281.514 72.171, 281.004 72.759 Q 280.494 73.341, 279.564 73.341 Q 278.628 73.341, 278.118 72.759 Q 277.614 72.177, 277.614 71.139 M 279.564 72.861 Q 280.212 72.861, 280.56 72.429 Q 280.914 71.991, 280.914 71.139 Q 280.914 70.305, 280.56 69.885 Q 280.212 69.459, 279.564 69.459 Q 278.916 69.459, 278.562 69.879 Q 278.214 70.299, 278.214 71.139 Q 278.214 71.997, 278.562 72.429 Q 278.916 72.861, 279.564 72.861 \" fill=\"#FF0000\"/>\n",
       "<path class=\"atom-11\" d=\"M 245.913 77.9465 Q 245.913 76.9265, 246.417 76.3565 Q 246.921 75.7865, 247.863 75.7865 Q 248.805 75.7865, 249.309 76.3565 Q 249.813 76.9265, 249.813 77.9465 Q 249.813 78.9785, 249.303 79.5665 Q 248.793 80.1485, 247.863 80.1485 Q 246.927 80.1485, 246.417 79.5665 Q 245.913 78.9845, 245.913 77.9465 M 247.863 79.6685 Q 248.511 79.6685, 248.859 79.2365 Q 249.213 78.7985, 249.213 77.9465 Q 249.213 77.1125, 248.859 76.6925 Q 248.511 76.2665, 247.863 76.2665 Q 247.215 76.2665, 246.861 76.6865 Q 246.513 77.1065, 246.513 77.9465 Q 246.513 78.8045, 246.861 79.2365 Q 247.215 79.6685, 247.863 79.6685 \" fill=\"#FF0000\"/>\n",
       "<path class=\"atom-14\" d=\"M 208.379 70.3657 L 208.955 70.3657 L 208.955 72.1717 L 211.127 72.1717 L 211.127 70.3657 L 211.703 70.3657 L 211.703 74.6137 L 211.127 74.6137 L 211.127 72.6517 L 208.955 72.6517 L 208.955 74.6137 L 208.379 74.6137 L 208.379 70.3657 \" fill=\"#0000FF\"/>\n",
       "<path class=\"atom-14\" d=\"M 211.909 74.4646 Q 212.012 74.1993, 212.257 74.0528 Q 212.503 73.9023, 212.844 73.9023 Q 213.267 73.9023, 213.505 74.132 Q 213.742 74.3617, 213.742 74.7696 Q 213.742 75.1854, 213.434 75.5734 Q 213.129 75.9615, 212.495 76.4209 L 213.79 76.4209 L 213.79 76.7377 L 211.901 76.7377 L 211.901 76.4724 Q 212.424 76.1001, 212.733 75.8229 Q 213.045 75.5457, 213.196 75.2962 Q 213.346 75.0468, 213.346 74.7894 Q 213.346 74.5201, 213.212 74.3696 Q 213.077 74.2191, 212.844 74.2191 Q 212.618 74.2191, 212.467 74.3102 Q 212.317 74.4013, 212.21 74.6032 L 211.909 74.4646 \" fill=\"#0000FF\"/>\n",
       "<path class=\"atom-14\" d=\"M 214.96 70.3657 L 216.352 72.6157 Q 216.49 72.8377, 216.712 73.2397 Q 216.934 73.6417, 216.946 73.6657 L 216.946 70.3657 L 217.51 70.3657 L 217.51 74.6137 L 216.928 74.6137 L 215.434 72.1537 Q 215.26 71.8657, 215.074 71.5357 Q 214.894 71.2057, 214.84 71.1037 L 214.84 74.6137 L 214.288 74.6137 L 214.288 70.3657 L 214.96 70.3657 \" fill=\"#0000FF\"/>\n",
       "<path class=\"atom-16\" d=\"M 373.505 87.4735 Q 373.505 86.4535, 374.009 85.8835 Q 374.513 85.3135, 375.455 85.3135 Q 376.397 85.3135, 376.901 85.8835 Q 377.405 86.4535, 377.405 87.4735 Q 377.405 88.5055, 376.895 89.0935 Q 376.385 89.6755, 375.455 89.6755 Q 374.519 89.6755, 374.009 89.0935 Q 373.505 88.5115, 373.505 87.4735 M 375.455 89.1955 Q 376.103 89.1955, 376.451 88.7635 Q 376.805 88.3255, 376.805 87.4735 Q 376.805 86.6395, 376.451 86.2195 Q 376.103 85.7935, 375.455 85.7935 Q 374.807 85.7935, 374.453 86.2135 Q 374.105 86.6335, 374.105 87.4735 Q 374.105 88.3315, 374.453 88.7635 Q 374.807 89.1955, 375.455 89.1955 \" fill=\"#FF0000\"/>\n",
       "<path class=\"atom-17\" d=\"M 383.723 68.8678 Q 383.723 67.8478, 384.227 67.2778 Q 384.731 66.7078, 385.673 66.7078 Q 386.615 66.7078, 387.119 67.2778 Q 387.623 67.8478, 387.623 68.8678 Q 387.623 69.8998, 387.113 70.4878 Q 386.603 71.0698, 385.673 71.0698 Q 384.737 71.0698, 384.227 70.4878 Q 383.723 69.9058, 383.723 68.8678 M 385.673 70.5898 Q 386.321 70.5898, 386.669 70.1578 Q 387.023 69.7198, 387.023 68.8678 Q 387.023 68.0338, 386.669 67.6138 Q 386.321 67.1878, 385.673 67.1878 Q 385.025 67.1878, 384.671 67.6078 Q 384.323 68.0278, 384.323 68.8678 Q 384.323 69.7258, 384.671 70.1578 Q 385.025 70.5898, 385.673 70.5898 \" fill=\"#FF0000\"/>\n",
       "<path class=\"atom-17\" d=\"M 388.133 66.7558 L 388.709 66.7558 L 388.709 68.5618 L 390.881 68.5618 L 390.881 66.7558 L 391.457 66.7558 L 391.457 71.0038 L 390.881 71.0038 L 390.881 69.0418 L 388.709 69.0418 L 388.709 71.0038 L 388.133 71.0038 L 388.133 66.7558 \" fill=\"#FF0000\"/>\n",
       "<path d=\"M 263.823 186.416 Q 264.927 186.736, 265.455 187.456 Q 265.999 188.16, 265.999 189.28 Q 265.999 190.24, 265.519 190.992 Q 265.039 191.728, 264.159 192.144 Q 263.279 192.544, 262.127 192.544 Q 260.911 192.544, 259.999 192.128 Q 259.103 191.696, 258.383 190.832 L 259.295 189.904 Q 259.999 190.672, 260.591 190.976 Q 261.183 191.264, 262.127 191.264 Q 263.151 191.264, 263.775 190.72 Q 264.399 190.16, 264.399 189.264 Q 264.399 188.112, 263.743 187.6 Q 263.103 187.072, 261.711 187.072 L 260.895 187.072 L 260.895 185.92 L 261.615 185.92 Q 262.847 185.904, 263.503 185.376 Q 264.159 184.832, 264.159 183.824 Q 264.159 183.088, 263.615 182.656 Q 263.071 182.208, 262.143 182.208 Q 261.199 182.208, 260.607 182.544 Q 260.031 182.88, 259.583 183.728 L 258.479 183.136 Q 258.879 182.192, 259.839 181.568 Q 260.799 180.928, 262.143 180.928 Q 263.807 180.928, 264.783 181.712 Q 265.759 182.496, 265.759 183.824 Q 265.759 184.736, 265.263 185.392 Q 264.767 186.048, 263.823 186.416 \" fill=\"#000000\"/>\n",
       "<path d=\"M 274.287 181.056 L 275.775 181.056 L 271.919 192.384 L 270.031 192.384 L 266.319 181.056 L 267.855 181.056 L 271.007 190.72 L 274.287 181.056 \" fill=\"#000000\"/>\n",
       "<path d=\"M 281.887 186.416 Q 282.991 186.736, 283.519 187.456 Q 284.063 188.16, 284.063 189.28 Q 284.063 190.24, 283.583 190.992 Q 283.103 191.728, 282.223 192.144 Q 281.343 192.544, 280.191 192.544 Q 278.975 192.544, 278.063 192.128 Q 277.167 191.696, 276.447 190.832 L 277.359 189.904 Q 278.063 190.672, 278.655 190.976 Q 279.247 191.264, 280.191 191.264 Q 281.215 191.264, 281.839 190.72 Q 282.463 190.16, 282.463 189.264 Q 282.463 188.112, 281.807 187.6 Q 281.167 187.072, 279.775 187.072 L 278.959 187.072 L 278.959 185.92 L 279.679 185.92 Q 280.911 185.904, 281.567 185.376 Q 282.223 184.832, 282.223 183.824 Q 282.223 183.088, 281.679 182.656 Q 281.135 182.208, 280.207 182.208 Q 279.263 182.208, 278.671 182.544 Q 278.095 182.88, 277.647 183.728 L 276.543 183.136 Q 276.943 182.192, 277.903 181.568 Q 278.863 180.928, 280.207 180.928 Q 281.871 180.928, 282.847 181.712 Q 283.823 182.496, 283.823 183.824 Q 283.823 184.736, 283.327 185.392 Q 282.831 186.048, 281.887 186.416 \" fill=\"#000000\"/>\n",
       "<path d=\"M 285.103 190.784 L 286.703 190.784 L 286.703 192.064 L 286.399 194.272 L 285.823 194.272 L 285.823 192.384 L 285.103 192.384 L 285.103 190.784 \" fill=\"#000000\"/>\n",
       "<path d=\"\" fill=\"#000000\"/>\n",
       "<path d=\"M 298.543 188.496 L 299.903 188.496 L 299.903 189.776 L 298.543 189.776 L 298.543 192.384 L 297.039 192.384 L 297.039 189.776 L 291.183 189.776 L 291.183 188.768 L 296.143 181.056 L 298.543 181.056 L 298.543 188.496 M 293.039 188.496 L 297.039 188.496 L 297.039 182.08 L 293.039 188.496 \" fill=\"#000000\"/>\n",
       "<path d=\"M 314.447 181.072 L 315.983 181.072 L 312.959 192.384 L 310.639 192.384 L 308.175 182.944 L 305.695 192.384 L 303.375 192.384 L 300.351 181.072 L 301.903 181.072 L 304.559 190.976 L 307.167 181.072 L 309.167 181.072 L 311.775 191.008 L 314.447 181.072 \" fill=\"#000000\"/>\n",
       "<path d=\"M 324.271 181.056 L 325.759 181.056 L 321.903 192.384 L 320.015 192.384 L 316.303 181.056 L 317.839 181.056 L 320.991 190.72 L 324.271 181.056 \" fill=\"#000000\"/>\n",
       "<path d=\"M 330.463 181.056 Q 332.399 181.056, 333.375 181.936 Q 334.351 182.8, 334.351 184.384 Q 334.351 185.952, 333.343 186.848 Q 332.351 187.728, 330.463 187.728 L 328.655 187.728 L 328.655 192.384 L 327.119 192.384 L 327.119 181.056 L 330.463 181.056 M 330.463 186.448 Q 331.567 186.448, 332.159 185.92 Q 332.751 185.392, 332.751 184.384 Q 332.751 183.376, 332.159 182.864 Q 331.583 182.336, 330.463 182.336 L 328.655 182.336 L 328.655 186.448 L 330.463 186.448 \" fill=\"#000000\"/>\n",
       "<path class=\"bond-0\" d=\"M 511.628,97.7751 L 507.415,86.267\" style=\"fill:none;fill-rule:evenodd;stroke:#000000;stroke-width:2.0px;stroke-linecap:butt;stroke-linejoin:miter;stroke-opacity:1\"/>\n",
       "<path class=\"bond-1\" d=\"M 507.415,86.267 L 495.342,84.1618\" style=\"fill:none;fill-rule:evenodd;stroke:#000000;stroke-width:2.0px;stroke-linecap:butt;stroke-linejoin:miter;stroke-opacity:1\"/>\n",
       "<path class=\"bond-1\" d=\"M 506.025,83.5366 L 497.574,82.063\" style=\"fill:none;fill-rule:evenodd;stroke:#000000;stroke-width:2.0px;stroke-linecap:butt;stroke-linejoin:miter;stroke-opacity:1\"/>\n",
       "<path class=\"bond-28\" d=\"M 507.415,86.267 L 510.386,82.7125\" style=\"fill:none;fill-rule:evenodd;stroke:#000000;stroke-width:2.0px;stroke-linecap:butt;stroke-linejoin:miter;stroke-opacity:1\"/>\n",
       "<path class=\"bond-28\" d=\"M 510.386,82.7125 L 513.357,79.158\" style=\"fill:none;fill-rule:evenodd;stroke:#0000FF;stroke-width:2.0px;stroke-linecap:butt;stroke-linejoin:miter;stroke-opacity:1\"/>\n",
       "<path class=\"bond-2\" d=\"M 495.342,84.1618 L 491.128,72.6537\" style=\"fill:none;fill-rule:evenodd;stroke:#000000;stroke-width:2.0px;stroke-linecap:butt;stroke-linejoin:miter;stroke-opacity:1\"/>\n",
       "<path class=\"bond-25\" d=\"M 495.342,84.1618 L 487.482,93.5647\" style=\"fill:none;fill-rule:evenodd;stroke:#000000;stroke-width:2.0px;stroke-linecap:butt;stroke-linejoin:miter;stroke-opacity:1\"/>\n",
       "<path class=\"bond-3\" d=\"M 491.128,72.6537 L 494.042,69.1674\" style=\"fill:none;fill-rule:evenodd;stroke:#000000;stroke-width:2.0px;stroke-linecap:butt;stroke-linejoin:miter;stroke-opacity:1\"/>\n",
       "<path class=\"bond-3\" d=\"M 494.042,69.1674 L 496.957,65.6811\" style=\"fill:none;fill-rule:evenodd;stroke:#0000FF;stroke-width:2.0px;stroke-linecap:butt;stroke-linejoin:miter;stroke-opacity:1\"/>\n",
       "<path class=\"bond-17\" d=\"M 491.128,72.6537 L 479.266,69.3411 L 478.845,71.7557 Z\" style=\"fill:#000000;fill-rule:evenodd;fill-opacity:1;stroke:#000000;stroke-width:2px;stroke-linecap:butt;stroke-linejoin:miter;stroke-opacity:1;\"/>\n",
       "<path class=\"bond-4\" d=\"M 500.905,63.5851 L 505.983,64.4705\" style=\"fill:none;fill-rule:evenodd;stroke:#0000FF;stroke-width:2.0px;stroke-linecap:butt;stroke-linejoin:miter;stroke-opacity:1\"/>\n",
       "<path class=\"bond-4\" d=\"M 505.983,64.4705 L 511.061,65.356\" style=\"fill:none;fill-rule:evenodd;stroke:#000000;stroke-width:2.0px;stroke-linecap:butt;stroke-linejoin:miter;stroke-opacity:1\"/>\n",
       "<path class=\"bond-5\" d=\"M 512.001,66.1419 L 514.878,62.7007\" style=\"fill:none;fill-rule:evenodd;stroke:#000000;stroke-width:2.0px;stroke-linecap:butt;stroke-linejoin:miter;stroke-opacity:1\"/>\n",
       "<path class=\"bond-5\" d=\"M 514.878,62.7007 L 517.754,59.2594\" style=\"fill:none;fill-rule:evenodd;stroke:#FF0000;stroke-width:2.0px;stroke-linecap:butt;stroke-linejoin:miter;stroke-opacity:1\"/>\n",
       "<path class=\"bond-5\" d=\"M 510.121,64.57 L 512.997,61.1287\" style=\"fill:none;fill-rule:evenodd;stroke:#000000;stroke-width:2.0px;stroke-linecap:butt;stroke-linejoin:miter;stroke-opacity:1\"/>\n",
       "<path class=\"bond-5\" d=\"M 512.997,61.1287 L 515.874,57.6875\" style=\"fill:none;fill-rule:evenodd;stroke:#FF0000;stroke-width:2.0px;stroke-linecap:butt;stroke-linejoin:miter;stroke-opacity:1\"/>\n",
       "<path class=\"bond-6\" d=\"M 511.061,65.356 L 512.723,69.8949\" style=\"fill:none;fill-rule:evenodd;stroke:#000000;stroke-width:2.0px;stroke-linecap:butt;stroke-linejoin:miter;stroke-opacity:1\"/>\n",
       "<path class=\"bond-6\" d=\"M 512.723,69.8949 L 514.385,74.4337\" style=\"fill:none;fill-rule:evenodd;stroke:#0000FF;stroke-width:2.0px;stroke-linecap:butt;stroke-linejoin:miter;stroke-opacity:1\"/>\n",
       "<path class=\"bond-7\" d=\"M 517.192,77.1985 L 522.27,78.0839\" style=\"fill:none;fill-rule:evenodd;stroke:#0000FF;stroke-width:2.0px;stroke-linecap:butt;stroke-linejoin:miter;stroke-opacity:1\"/>\n",
       "<path class=\"bond-7\" d=\"M 522.27,78.0839 L 527.347,78.9693\" style=\"fill:none;fill-rule:evenodd;stroke:#000000;stroke-width:2.0px;stroke-linecap:butt;stroke-linejoin:miter;stroke-opacity:1\"/>\n",
       "<path class=\"bond-8\" d=\"M 527.347,78.9693 L 531.561,90.4775\" style=\"fill:none;fill-rule:evenodd;stroke:#000000;stroke-width:2.0px;stroke-linecap:butt;stroke-linejoin:miter;stroke-opacity:1\"/>\n",
       "<path class=\"bond-8\" d=\"M 530.281,79.8529 L 533.23,87.9086\" style=\"fill:none;fill-rule:evenodd;stroke:#000000;stroke-width:2.0px;stroke-linecap:butt;stroke-linejoin:miter;stroke-opacity:1\"/>\n",
       "<path class=\"bond-29\" d=\"M 527.347,78.9693 L 535.207,69.5664\" style=\"fill:none;fill-rule:evenodd;stroke:#000000;stroke-width:2.0px;stroke-linecap:butt;stroke-linejoin:miter;stroke-opacity:1\"/>\n",
       "<path class=\"bond-9\" d=\"M 531.561,90.4775 L 543.634,92.5827\" style=\"fill:none;fill-rule:evenodd;stroke:#000000;stroke-width:2.0px;stroke-linecap:butt;stroke-linejoin:miter;stroke-opacity:1\"/>\n",
       "<path class=\"bond-10\" d=\"M 543.634,92.5827 L 551.493,83.1798\" style=\"fill:none;fill-rule:evenodd;stroke:#000000;stroke-width:2.0px;stroke-linecap:butt;stroke-linejoin:miter;stroke-opacity:1\"/>\n",
       "<path class=\"bond-10\" d=\"M 542.932,89.6003 L 548.434,83.0183\" style=\"fill:none;fill-rule:evenodd;stroke:#000000;stroke-width:2.0px;stroke-linecap:butt;stroke-linejoin:miter;stroke-opacity:1\"/>\n",
       "<path class=\"bond-11\" d=\"M 551.493,83.1798 L 547.28,71.6716\" style=\"fill:none;fill-rule:evenodd;stroke:#000000;stroke-width:2.0px;stroke-linecap:butt;stroke-linejoin:miter;stroke-opacity:1\"/>\n",
       "<path class=\"bond-12\" d=\"M 547.28,71.6716 L 535.207,69.5664\" style=\"fill:none;fill-rule:evenodd;stroke:#000000;stroke-width:2.0px;stroke-linecap:butt;stroke-linejoin:miter;stroke-opacity:1\"/>\n",
       "<path class=\"bond-12\" d=\"M 545.048,73.7705 L 536.597,72.2968\" style=\"fill:none;fill-rule:evenodd;stroke:#000000;stroke-width:2.0px;stroke-linecap:butt;stroke-linejoin:miter;stroke-opacity:1\"/>\n",
       "<path class=\"bond-13\" d=\"M 547.28,71.6716 L 555.14,62.2687\" style=\"fill:none;fill-rule:evenodd;stroke:#000000;stroke-width:2.0px;stroke-linecap:butt;stroke-linejoin:miter;stroke-opacity:1\"/>\n",
       "<path class=\"bond-14\" d=\"M 555.14,62.2687 L 558.285,58.506\" style=\"fill:none;fill-rule:evenodd;stroke:#000000;stroke-width:2.0px;stroke-linecap:butt;stroke-linejoin:miter;stroke-opacity:1\"/>\n",
       "<path class=\"bond-14\" d=\"M 558.285,58.506 L 561.43,54.7434\" style=\"fill:none;fill-rule:evenodd;stroke:#33CCCC;stroke-width:2.0px;stroke-linecap:butt;stroke-linejoin:miter;stroke-opacity:1\"/>\n",
       "<path class=\"bond-15\" d=\"M 555.14,62.2687 L 559.056,65.5427\" style=\"fill:none;fill-rule:evenodd;stroke:#000000;stroke-width:2.0px;stroke-linecap:butt;stroke-linejoin:miter;stroke-opacity:1\"/>\n",
       "<path class=\"bond-15\" d=\"M 559.056,65.5427 L 562.973,68.8166\" style=\"fill:none;fill-rule:evenodd;stroke:#33CCCC;stroke-width:2.0px;stroke-linecap:butt;stroke-linejoin:miter;stroke-opacity:1\"/>\n",
       "<path class=\"bond-16\" d=\"M 555.14,62.2687 L 551.223,58.9948\" style=\"fill:none;fill-rule:evenodd;stroke:#000000;stroke-width:2.0px;stroke-linecap:butt;stroke-linejoin:miter;stroke-opacity:1\"/>\n",
       "<path class=\"bond-16\" d=\"M 551.223,58.9948 L 547.306,55.7209\" style=\"fill:none;fill-rule:evenodd;stroke:#33CCCC;stroke-width:2.0px;stroke-linecap:butt;stroke-linejoin:miter;stroke-opacity:1\"/>\n",
       "<path class=\"bond-18\" d=\"M 479.055,70.5484 L 474.842,59.0403\" style=\"fill:none;fill-rule:evenodd;stroke:#000000;stroke-width:2.0px;stroke-linecap:butt;stroke-linejoin:miter;stroke-opacity:1\"/>\n",
       "<path class=\"bond-18\" d=\"M 476.122,69.6649 L 473.172,61.6092\" style=\"fill:none;fill-rule:evenodd;stroke:#000000;stroke-width:2.0px;stroke-linecap:butt;stroke-linejoin:miter;stroke-opacity:1\"/>\n",
       "<path class=\"bond-30\" d=\"M 479.055,70.5484 L 471.196,79.9514\" style=\"fill:none;fill-rule:evenodd;stroke:#000000;stroke-width:2.0px;stroke-linecap:butt;stroke-linejoin:miter;stroke-opacity:1\"/>\n",
       "<path class=\"bond-19\" d=\"M 474.842,59.0403 L 462.769,56.9351\" style=\"fill:none;fill-rule:evenodd;stroke:#000000;stroke-width:2.0px;stroke-linecap:butt;stroke-linejoin:miter;stroke-opacity:1\"/>\n",
       "<path class=\"bond-20\" d=\"M 462.769,56.9351 L 454.909,66.338\" style=\"fill:none;fill-rule:evenodd;stroke:#000000;stroke-width:2.0px;stroke-linecap:butt;stroke-linejoin:miter;stroke-opacity:1\"/>\n",
       "<path class=\"bond-20\" d=\"M 463.471,59.9175 L 457.969,66.4995\" style=\"fill:none;fill-rule:evenodd;stroke:#000000;stroke-width:2.0px;stroke-linecap:butt;stroke-linejoin:miter;stroke-opacity:1\"/>\n",
       "<path class=\"bond-21\" d=\"M 454.909,66.338 L 456.571,70.8769\" style=\"fill:none;fill-rule:evenodd;stroke:#000000;stroke-width:2.0px;stroke-linecap:butt;stroke-linejoin:miter;stroke-opacity:1\"/>\n",
       "<path class=\"bond-21\" d=\"M 456.571,70.8769 L 458.233,75.4158\" style=\"fill:none;fill-rule:evenodd;stroke:#0000FF;stroke-width:2.0px;stroke-linecap:butt;stroke-linejoin:miter;stroke-opacity:1\"/>\n",
       "<path class=\"bond-23\" d=\"M 454.909,66.338 L 442.836,64.2328\" style=\"fill:none;fill-rule:evenodd;stroke:#000000;stroke-width:2.0px;stroke-linecap:butt;stroke-linejoin:miter;stroke-opacity:1\"/>\n",
       "<path class=\"bond-22\" d=\"M 461.04,78.1805 L 466.118,79.0659\" style=\"fill:none;fill-rule:evenodd;stroke:#0000FF;stroke-width:2.0px;stroke-linecap:butt;stroke-linejoin:miter;stroke-opacity:1\"/>\n",
       "<path class=\"bond-22\" d=\"M 466.118,79.0659 L 471.196,79.9514\" style=\"fill:none;fill-rule:evenodd;stroke:#000000;stroke-width:2.0px;stroke-linecap:butt;stroke-linejoin:miter;stroke-opacity:1\"/>\n",
       "<path class=\"bond-22\" d=\"M 462.985,76.0315 L 466.539,76.6513\" style=\"fill:none;fill-rule:evenodd;stroke:#0000FF;stroke-width:2.0px;stroke-linecap:butt;stroke-linejoin:miter;stroke-opacity:1\"/>\n",
       "<path class=\"bond-22\" d=\"M 466.539,76.6513 L 470.093,77.2711\" style=\"fill:none;fill-rule:evenodd;stroke:#000000;stroke-width:2.0px;stroke-linecap:butt;stroke-linejoin:miter;stroke-opacity:1\"/>\n",
       "<path class=\"bond-24\" d=\"M 442.836,64.2328 L 437.759,63.3473\" style=\"fill:none;fill-rule:evenodd;stroke:#000000;stroke-width:2.0px;stroke-linecap:butt;stroke-linejoin:miter;stroke-opacity:1\"/>\n",
       "<path class=\"bond-24\" d=\"M 437.759,63.3473 L 432.681,62.4619\" style=\"fill:none;fill-rule:evenodd;stroke:#0000FF;stroke-width:2.0px;stroke-linecap:butt;stroke-linejoin:miter;stroke-opacity:1\"/>\n",
       "<path class=\"bond-24\" d=\"M 441.734,61.5526 L 437.418,60.7999\" style=\"fill:none;fill-rule:evenodd;stroke:#000000;stroke-width:2.0px;stroke-linecap:butt;stroke-linejoin:miter;stroke-opacity:1\"/>\n",
       "<path class=\"bond-24\" d=\"M 437.418,60.7999 L 433.102,60.0473\" style=\"fill:none;fill-rule:evenodd;stroke:#0000FF;stroke-width:2.0px;stroke-linecap:butt;stroke-linejoin:miter;stroke-opacity:1\"/>\n",
       "<path class=\"bond-24\" d=\"M 440.892,66.3817 L 436.576,65.6291\" style=\"fill:none;fill-rule:evenodd;stroke:#000000;stroke-width:2.0px;stroke-linecap:butt;stroke-linejoin:miter;stroke-opacity:1\"/>\n",
       "<path class=\"bond-24\" d=\"M 436.576,65.6291 L 432.26,64.8765\" style=\"fill:none;fill-rule:evenodd;stroke:#0000FF;stroke-width:2.0px;stroke-linecap:butt;stroke-linejoin:miter;stroke-opacity:1\"/>\n",
       "<path class=\"bond-26\" d=\"M 486.331,93.986 L 487.989,98.5129\" style=\"fill:none;fill-rule:evenodd;stroke:#000000;stroke-width:2.0px;stroke-linecap:butt;stroke-linejoin:miter;stroke-opacity:1\"/>\n",
       "<path class=\"bond-26\" d=\"M 487.989,98.5129 L 489.646,103.04\" style=\"fill:none;fill-rule:evenodd;stroke:#FF0000;stroke-width:2.0px;stroke-linecap:butt;stroke-linejoin:miter;stroke-opacity:1\"/>\n",
       "<path class=\"bond-26\" d=\"M 488.633,93.1434 L 490.29,97.6702\" style=\"fill:none;fill-rule:evenodd;stroke:#000000;stroke-width:2.0px;stroke-linecap:butt;stroke-linejoin:miter;stroke-opacity:1\"/>\n",
       "<path class=\"bond-26\" d=\"M 490.29,97.6702 L 491.948,102.197\" style=\"fill:none;fill-rule:evenodd;stroke:#FF0000;stroke-width:2.0px;stroke-linecap:butt;stroke-linejoin:miter;stroke-opacity:1\"/>\n",
       "<path class=\"bond-27\" d=\"M 487.482,93.5647 L 475.409,91.4595\" style=\"fill:none;fill-rule:evenodd;stroke:#000000;stroke-width:2.0px;stroke-linecap:butt;stroke-linejoin:miter;stroke-opacity:1\"/>\n",
       "<path class=\"atom-4\" d=\"M 493.555 61.1268 L 494.131 61.1268 L 494.131 62.9328 L 496.303 62.9328 L 496.303 61.1268 L 496.879 61.1268 L 496.879 65.3748 L 496.303 65.3748 L 496.303 63.4128 L 494.131 63.4128 L 494.131 65.3748 L 493.555 65.3748 L 493.555 61.1268 \" fill=\"#0000FF\"/>\n",
       "<path class=\"atom-4\" d=\"M 498.049 61.1268 L 499.441 63.3768 Q 499.579 63.5988, 499.801 64.0008 Q 500.023 64.4028, 500.035 64.4268 L 500.035 61.1268 L 500.599 61.1268 L 500.599 65.3748 L 500.017 65.3748 L 498.523 62.9148 Q 498.349 62.6268, 498.163 62.2968 Q 497.983 61.9668, 497.929 61.8648 L 497.929 65.3748 L 497.377 65.3748 L 497.377 61.1268 L 498.049 61.1268 \" fill=\"#0000FF\"/>\n",
       "<path class=\"atom-6\" d=\"M 516.971 55.9651 Q 516.971 54.9451, 517.475 54.3751 Q 517.979 53.8051, 518.921 53.8051 Q 519.863 53.8051, 520.367 54.3751 Q 520.871 54.9451, 520.871 55.9651 Q 520.871 56.9971, 520.361 57.5851 Q 519.851 58.1671, 518.921 58.1671 Q 517.985 58.1671, 517.475 57.5851 Q 516.971 57.0031, 516.971 55.9651 M 518.921 57.6871 Q 519.569 57.6871, 519.917 57.2551 Q 520.271 56.8171, 520.271 55.9651 Q 520.271 55.1311, 519.917 54.7111 Q 519.569 54.2851, 518.921 54.2851 Q 518.273 54.2851, 517.919 54.7051 Q 517.571 55.1251, 517.571 55.9651 Q 517.571 56.8231, 517.919 57.2551 Q 518.273 57.6871, 518.921 57.6871 \" fill=\"#FF0000\"/>\n",
       "<path class=\"atom-7\" d=\"M 514.335 74.7401 L 515.727 76.9901 Q 515.865 77.2121, 516.087 77.6141 Q 516.309 78.0161, 516.321 78.0401 L 516.321 74.7401 L 516.885 74.7401 L 516.885 78.9881 L 516.303 78.9881 L 514.809 76.5281 Q 514.635 76.2401, 514.449 75.9101 Q 514.269 75.5801, 514.215 75.4781 L 514.215 78.9881 L 513.663 78.9881 L 513.663 74.7401 L 514.335 74.7401 \" fill=\"#0000FF\"/>\n",
       "<path class=\"atom-15\" d=\"M 561.736 50.7418 L 564.262 50.7418 L 564.262 51.2278 L 562.306 51.2278 L 562.306 52.5178 L 564.046 52.5178 L 564.046 53.0098 L 562.306 53.0098 L 562.306 54.9898 L 561.736 54.9898 L 561.736 50.7418 \" fill=\"#33CCCC\"/>\n",
       "<path class=\"atom-16\" d=\"M 563.28 68.0044 L 565.806 68.0044 L 565.806 68.4904 L 563.85 68.4904 L 563.85 69.7804 L 565.59 69.7804 L 565.59 70.2724 L 563.85 70.2724 L 563.85 72.2524 L 563.28 72.2524 L 563.28 68.0044 \" fill=\"#33CCCC\"/>\n",
       "<path class=\"atom-17\" d=\"M 544.474 52.2851 L 547 52.2851 L 547 52.7711 L 545.044 52.7711 L 545.044 54.0611 L 546.784 54.0611 L 546.784 54.5531 L 545.044 54.5531 L 545.044 56.5331 L 544.474 56.5331 L 544.474 52.2851 \" fill=\"#33CCCC\"/>\n",
       "<path class=\"atom-22\" d=\"M 458.184 75.7221 L 459.576 77.9721 Q 459.714 78.1941, 459.936 78.5961 Q 460.158 78.9981, 460.17 79.0221 L 460.17 75.7221 L 460.734 75.7221 L 460.734 79.9701 L 460.152 79.9701 L 458.658 77.5101 Q 458.484 77.2221, 458.298 76.8921 Q 458.118 76.5621, 458.064 76.4601 L 458.064 79.9701 L 457.512 79.9701 L 457.512 75.7221 L 458.184 75.7221 \" fill=\"#0000FF\"/>\n",
       "<path class=\"atom-25\" d=\"M 429.824 60.0036 L 431.216 62.2536 Q 431.354 62.4756, 431.576 62.8776 Q 431.798 63.2796, 431.81 63.3036 L 431.81 60.0036 L 432.374 60.0036 L 432.374 64.2516 L 431.792 64.2516 L 430.298 61.7916 Q 430.124 61.5036, 429.938 61.1736 Q 429.758 60.8436, 429.704 60.7416 L 429.704 64.2516 L 429.152 64.2516 L 429.152 60.0036 L 429.824 60.0036 \" fill=\"#0000FF\"/>\n",
       "<path class=\"atom-27\" d=\"M 489.745 105.085 Q 489.745 104.065, 490.249 103.495 Q 490.753 102.925, 491.695 102.925 Q 492.637 102.925, 493.141 103.495 Q 493.645 104.065, 493.645 105.085 Q 493.645 106.117, 493.135 106.705 Q 492.625 107.287, 491.695 107.287 Q 490.759 107.287, 490.249 106.705 Q 489.745 106.123, 489.745 105.085 M 491.695 106.807 Q 492.343 106.807, 492.691 106.375 Q 493.045 105.937, 493.045 105.085 Q 493.045 104.251, 492.691 103.831 Q 492.343 103.405, 491.695 103.405 Q 491.047 103.405, 490.693 103.825 Q 490.345 104.245, 490.345 105.085 Q 490.345 105.943, 490.693 106.375 Q 491.047 106.807, 491.695 106.807 \" fill=\"#FF0000\"/>\n",
       "<path d=\"M 467.672 193.056 Q 467.672 193.104, 468.376 192.688 Q 469.08 192.272, 469.64 191.616 Q 470.2 190.96, 470.2 190.096 L 470.2 182 L 467.976 182 L 467.976 180.704 L 471.704 180.704 L 471.704 190.096 Q 471.704 191.392, 470.952 192.32 Q 470.2 193.248, 469.256 193.792 Q 468.328 194.336, 468.328 194.256 L 467.672 193.056 \" fill=\"#000000\"/>\n",
       "<path d=\"M 472.056 193.056 Q 472.056 193.104, 472.76 192.688 Q 473.464 192.272, 474.024 191.616 Q 474.584 190.96, 474.584 190.096 L 474.584 182 L 472.36 182 L 472.36 180.704 L 476.088 180.704 L 476.088 190.096 Q 476.088 191.392, 475.336 192.32 Q 474.584 193.248, 473.64 193.792 Q 472.712 194.336, 472.712 194.256 L 472.056 193.056 \" fill=\"#000000\"/>\n",
       "<path d=\"M 477.272 190.272 Q 477.4 190.32, 477.928 190.544 Q 478.456 190.768, 479.032 190.912 Q 479.624 191.04, 480.2 191.04 Q 481.272 191.04, 481.896 190.528 Q 482.52 190, 482.52 189.088 Q 482.52 188.464, 482.2 188.08 Q 481.896 187.696, 481.416 187.488 Q 480.936 187.28, 480.136 187.04 Q 479.128 186.736, 478.52 186.448 Q 477.928 186.16, 477.496 185.552 Q 477.08 184.944, 477.08 183.92 Q 477.08 182.496, 478.04 181.616 Q 479.016 180.736, 480.936 180.736 Q 482.248 180.736, 483.736 181.36 L 483.368 182.592 Q 482.008 182.032, 480.984 182.032 Q 479.88 182.032, 479.272 182.496 Q 478.664 182.944, 478.68 183.728 Q 478.68 184.336, 478.984 184.704 Q 479.304 185.072, 479.752 185.28 Q 480.216 185.488, 480.984 185.728 Q 482.008 186.048, 482.616 186.368 Q 483.224 186.688, 483.656 187.344 Q 484.104 187.984, 484.104 189.088 Q 484.104 190.656, 483.048 191.504 Q 482.008 192.336, 480.264 192.336 Q 479.256 192.336, 478.488 192.112 Q 477.736 191.904, 476.84 191.536 L 477.272 190.272 \" fill=\"#000000\"/>\n",
       "<path d=\"M 485.144 190.432 L 486.744 190.432 L 486.744 191.712 L 486.44 193.92 L 485.864 193.92 L 485.864 192.032 L 485.144 192.032 L 485.144 190.432 \" fill=\"#000000\"/>\n",
       "<path d=\"\" fill=\"#000000\"/>\n",
       "<path d=\"M 495.592 184.944 Q 496.584 184.944, 497.4 185.376 Q 498.216 185.792, 498.68 186.592 Q 499.144 187.376, 499.144 188.448 Q 499.144 189.616, 498.568 190.464 Q 498.008 191.296, 497.08 191.728 Q 496.152 192.16, 495.096 192.16 Q 494.056 192.16, 493.096 191.776 Q 492.136 191.392, 491.48 190.656 L 492.44 189.664 Q 492.968 190.24, 493.688 190.56 Q 494.408 190.864, 495.144 190.864 Q 496.152 190.864, 496.84 190.24 Q 497.544 189.616, 497.544 188.48 Q 497.544 187.28, 496.84 186.72 Q 496.152 186.144, 495.048 186.144 Q 494.056 186.144, 492.952 186.576 L 492.072 186.16 L 492.616 180.704 L 498.44 180.704 L 498.28 181.984 L 493.928 181.984 L 493.592 185.344 Q 494.6 184.944, 495.592 184.944 \" fill=\"#000000\"/>\n",
       "<path d=\"M 507.688 192.032 L 506.504 188.704 L 502.008 188.704 L 500.872 192.032 L 499.336 192.032 L 503.24 180.704 L 505.128 180.704 L 509.176 192.032 L 507.688 192.032 M 502.456 187.424 L 506.04 187.424 L 504.216 182.288 L 502.456 187.424 \" fill=\"#000000\"/>\n",
       "<path d=\"M 514.296 192.16 Q 512.216 192.16, 511.176 190.624 Q 510.152 189.088, 510.152 186.352 Q 510.152 183.616, 511.176 182.096 Q 512.2 180.576, 514.296 180.576 Q 516.392 180.576, 517.416 182.096 Q 518.44 183.616, 518.44 186.352 Q 518.44 189.088, 517.4 190.624 Q 516.376 192.16, 514.296 192.16 M 514.296 190.88 Q 515.528 190.88, 516.184 189.744 Q 516.84 188.592, 516.84 186.352 Q 516.84 184.128, 516.184 182.992 Q 515.528 181.856, 514.296 181.856 Q 513.08 181.856, 512.408 182.992 Q 511.752 184.128, 511.752 186.352 Q 511.752 188.592, 512.408 189.744 Q 513.08 190.88, 514.296 190.88 \" fill=\"#000000\"/>\n",
       "<path d=\"M 526.984 192.032 L 525.8 188.704 L 521.304 188.704 L 520.168 192.032 L 518.632 192.032 L 522.536 180.704 L 524.424 180.704 L 528.472 192.032 L 526.984 192.032 M 521.752 187.424 L 525.336 187.424 L 523.512 182.288 L 521.752 187.424 \" fill=\"#000000\"/>\n",
       "<path class=\"bond-0\" d=\"M 742.587,52.9013 L 733.972,61.6172\" style=\"fill:none;fill-rule:evenodd;stroke:#000000;stroke-width:2.0px;stroke-linecap:butt;stroke-linejoin:miter;stroke-opacity:1\"/>\n",
       "<path class=\"bond-1\" d=\"M 733.972,61.6172 L 722.116,58.5141\" style=\"fill:none;fill-rule:evenodd;stroke:#000000;stroke-width:2.0px;stroke-linecap:butt;stroke-linejoin:miter;stroke-opacity:1\"/>\n",
       "<path class=\"bond-2\" d=\"M 716.663,64.6119 L 716.082,64.0375\" style=\"fill:none;fill-rule:evenodd;stroke:#000000;stroke-width:1.0px;stroke-linecap:butt;stroke-linejoin:miter;stroke-opacity:1\"/>\n",
       "<path class=\"bond-2\" d=\"M 719.825,61.9938 L 718.663,60.8451\" style=\"fill:none;fill-rule:evenodd;stroke:#000000;stroke-width:1.0px;stroke-linecap:butt;stroke-linejoin:miter;stroke-opacity:1\"/>\n",
       "<path class=\"bond-2\" d=\"M 722.988,59.3756 L 721.245,57.6526\" style=\"fill:none;fill-rule:evenodd;stroke:#000000;stroke-width:1.0px;stroke-linecap:butt;stroke-linejoin:miter;stroke-opacity:1\"/>\n",
       "<path class=\"bond-3\" d=\"M 713.501,67.23 L 701.645,64.1269\" style=\"fill:none;fill-rule:evenodd;stroke:#000000;stroke-width:2.0px;stroke-linecap:butt;stroke-linejoin:miter;stroke-opacity:1\"/>\n",
       "<path class=\"bond-12\" d=\"M 713.501,67.23 L 714.788,71.9243\" style=\"fill:none;fill-rule:evenodd;stroke:#000000;stroke-width:2.0px;stroke-linecap:butt;stroke-linejoin:miter;stroke-opacity:1\"/>\n",
       "<path class=\"bond-12\" d=\"M 714.788,71.9243 L 716.075,76.6186\" style=\"fill:none;fill-rule:evenodd;stroke:#0000FF;stroke-width:2.0px;stroke-linecap:butt;stroke-linejoin:miter;stroke-opacity:1\"/>\n",
       "<path class=\"bond-4\" d=\"M 702.827,63.8029 L 701.552,59.1536\" style=\"fill:none;fill-rule:evenodd;stroke:#000000;stroke-width:2.0px;stroke-linecap:butt;stroke-linejoin:miter;stroke-opacity:1\"/>\n",
       "<path class=\"bond-4\" d=\"M 701.552,59.1536 L 700.278,54.5043\" style=\"fill:none;fill-rule:evenodd;stroke:#FF0000;stroke-width:2.0px;stroke-linecap:butt;stroke-linejoin:miter;stroke-opacity:1\"/>\n",
       "<path class=\"bond-4\" d=\"M 700.463,64.451 L 699.188,59.8017\" style=\"fill:none;fill-rule:evenodd;stroke:#000000;stroke-width:2.0px;stroke-linecap:butt;stroke-linejoin:miter;stroke-opacity:1\"/>\n",
       "<path class=\"bond-4\" d=\"M 699.188,59.8017 L 697.914,55.1524\" style=\"fill:none;fill-rule:evenodd;stroke:#FF0000;stroke-width:2.0px;stroke-linecap:butt;stroke-linejoin:miter;stroke-opacity:1\"/>\n",
       "<path class=\"bond-5\" d=\"M 701.645,64.1269 L 698.466,67.3435\" style=\"fill:none;fill-rule:evenodd;stroke:#000000;stroke-width:2.0px;stroke-linecap:butt;stroke-linejoin:miter;stroke-opacity:1\"/>\n",
       "<path class=\"bond-5\" d=\"M 698.466,67.3435 L 695.286,70.5601\" style=\"fill:none;fill-rule:evenodd;stroke:#FF0000;stroke-width:2.0px;stroke-linecap:butt;stroke-linejoin:miter;stroke-opacity:1\"/>\n",
       "<path class=\"bond-6\" d=\"M 690.773,72.2522 L 685.974,70.996\" style=\"fill:none;fill-rule:evenodd;stroke:#FF0000;stroke-width:2.0px;stroke-linecap:butt;stroke-linejoin:miter;stroke-opacity:1\"/>\n",
       "<path class=\"bond-6\" d=\"M 685.974,70.996 L 681.174,69.7397\" style=\"fill:none;fill-rule:evenodd;stroke:#000000;stroke-width:2.0px;stroke-linecap:butt;stroke-linejoin:miter;stroke-opacity:1\"/>\n",
       "<path class=\"bond-7\" d=\"M 681.174,69.7397 L 672.559,78.4556\" style=\"fill:none;fill-rule:evenodd;stroke:#000000;stroke-width:2.0px;stroke-linecap:butt;stroke-linejoin:miter;stroke-opacity:1\"/>\n",
       "<path class=\"bond-8\" d=\"M 672.559,78.4556 L 660.703,75.3525\" style=\"fill:none;fill-rule:evenodd;stroke:#000000;stroke-width:2.0px;stroke-linecap:butt;stroke-linejoin:miter;stroke-opacity:1\"/>\n",
       "<path class=\"bond-11\" d=\"M 673.023,81.6931 L 673.811,81.4771\" style=\"fill:none;fill-rule:evenodd;stroke:#000000;stroke-width:1.0px;stroke-linecap:butt;stroke-linejoin:miter;stroke-opacity:1\"/>\n",
       "<path class=\"bond-11\" d=\"M 673.487,84.9307 L 675.063,84.4986\" style=\"fill:none;fill-rule:evenodd;stroke:#0000FF;stroke-width:1.0px;stroke-linecap:butt;stroke-linejoin:miter;stroke-opacity:1\"/>\n",
       "<path class=\"bond-11\" d=\"M 673.951,88.1682 L 676.315,87.5201\" style=\"fill:none;fill-rule:evenodd;stroke:#0000FF;stroke-width:1.0px;stroke-linecap:butt;stroke-linejoin:miter;stroke-opacity:1\"/>\n",
       "<path class=\"bond-9\" d=\"M 661.885,75.0285 L 660.61,70.3792\" style=\"fill:none;fill-rule:evenodd;stroke:#000000;stroke-width:2.0px;stroke-linecap:butt;stroke-linejoin:miter;stroke-opacity:1\"/>\n",
       "<path class=\"bond-9\" d=\"M 660.61,70.3792 L 659.335,65.7299\" style=\"fill:none;fill-rule:evenodd;stroke:#FF0000;stroke-width:2.0px;stroke-linecap:butt;stroke-linejoin:miter;stroke-opacity:1\"/>\n",
       "<path class=\"bond-9\" d=\"M 659.521,75.6766 L 658.246,71.0273\" style=\"fill:none;fill-rule:evenodd;stroke:#000000;stroke-width:2.0px;stroke-linecap:butt;stroke-linejoin:miter;stroke-opacity:1\"/>\n",
       "<path class=\"bond-9\" d=\"M 658.246,71.0273 L 656.972,66.378\" style=\"fill:none;fill-rule:evenodd;stroke:#FF0000;stroke-width:2.0px;stroke-linecap:butt;stroke-linejoin:miter;stroke-opacity:1\"/>\n",
       "<path class=\"bond-10\" d=\"M 660.703,75.3525 L 657.524,78.5691\" style=\"fill:none;fill-rule:evenodd;stroke:#000000;stroke-width:2.0px;stroke-linecap:butt;stroke-linejoin:miter;stroke-opacity:1\"/>\n",
       "<path class=\"bond-10\" d=\"M 657.524,78.5691 L 654.344,81.7857\" style=\"fill:none;fill-rule:evenodd;stroke:#FF0000;stroke-width:2.0px;stroke-linecap:butt;stroke-linejoin:miter;stroke-opacity:1\"/>\n",
       "<path class=\"bond-13\" d=\"M 714.824,80.9887 L 711.475,84.3768\" style=\"fill:none;fill-rule:evenodd;stroke:#0000FF;stroke-width:2.0px;stroke-linecap:butt;stroke-linejoin:miter;stroke-opacity:1\"/>\n",
       "<path class=\"bond-13\" d=\"M 711.475,84.3768 L 708.126,87.7648\" style=\"fill:none;fill-rule:evenodd;stroke:#000000;stroke-width:2.0px;stroke-linecap:butt;stroke-linejoin:miter;stroke-opacity:1\"/>\n",
       "<path class=\"bond-14\" d=\"M 718.659,79.5508 L 722.819,80.6396\" style=\"fill:none;fill-rule:evenodd;stroke:#0000FF;stroke-width:2.0px;stroke-linecap:butt;stroke-linejoin:miter;stroke-opacity:1\"/>\n",
       "<path class=\"bond-14\" d=\"M 722.819,80.6396 L 726.978,81.7283\" style=\"fill:none;fill-rule:evenodd;stroke:#CCCC00;stroke-width:2.0px;stroke-linecap:butt;stroke-linejoin:miter;stroke-opacity:1\"/>\n",
       "<path class=\"bond-15\" d=\"M 730.417,80.038 L 731.33,76.5511\" style=\"fill:none;fill-rule:evenodd;stroke:#CCCC00;stroke-width:2.0px;stroke-linecap:butt;stroke-linejoin:miter;stroke-opacity:1\"/>\n",
       "<path class=\"bond-15\" d=\"M 731.33,76.5511 L 732.243,73.0643\" style=\"fill:none;fill-rule:evenodd;stroke:#FF0000;stroke-width:2.0px;stroke-linecap:butt;stroke-linejoin:miter;stroke-opacity:1\"/>\n",
       "<path class=\"bond-15\" d=\"M 728.046,79.4174 L 728.959,75.9305\" style=\"fill:none;fill-rule:evenodd;stroke:#CCCC00;stroke-width:2.0px;stroke-linecap:butt;stroke-linejoin:miter;stroke-opacity:1\"/>\n",
       "<path class=\"bond-15\" d=\"M 728.959,75.9305 L 729.871,72.4437\" style=\"fill:none;fill-rule:evenodd;stroke:#FF0000;stroke-width:2.0px;stroke-linecap:butt;stroke-linejoin:miter;stroke-opacity:1\"/>\n",
       "<path class=\"bond-16\" d=\"M 726.747,84.3801 L 725.841,87.8444\" style=\"fill:none;fill-rule:evenodd;stroke:#CCCC00;stroke-width:2.0px;stroke-linecap:butt;stroke-linejoin:miter;stroke-opacity:1\"/>\n",
       "<path class=\"bond-16\" d=\"M 725.841,87.8444 L 724.934,91.3088\" style=\"fill:none;fill-rule:evenodd;stroke:#FF0000;stroke-width:2.0px;stroke-linecap:butt;stroke-linejoin:miter;stroke-opacity:1\"/>\n",
       "<path class=\"bond-16\" d=\"M 729.118,85.0007 L 728.212,88.4651\" style=\"fill:none;fill-rule:evenodd;stroke:#CCCC00;stroke-width:2.0px;stroke-linecap:butt;stroke-linejoin:miter;stroke-opacity:1\"/>\n",
       "<path class=\"bond-16\" d=\"M 728.212,88.4651 L 727.305,91.9294\" style=\"fill:none;fill-rule:evenodd;stroke:#FF0000;stroke-width:2.0px;stroke-linecap:butt;stroke-linejoin:miter;stroke-opacity:1\"/>\n",
       "<path class=\"bond-17\" d=\"M 730.266,82.5887 L 734.422,83.6766\" style=\"fill:none;fill-rule:evenodd;stroke:#CCCC00;stroke-width:2.0px;stroke-linecap:butt;stroke-linejoin:miter;stroke-opacity:1\"/>\n",
       "<path class=\"bond-17\" d=\"M 734.422,83.6766 L 738.579,84.7646\" style=\"fill:none;fill-rule:evenodd;stroke:#0000FF;stroke-width:2.0px;stroke-linecap:butt;stroke-linejoin:miter;stroke-opacity:1\"/>\n",
       "<path class=\"bond-18\" d=\"M 741.119,87.6855 L 742.407,92.3798\" style=\"fill:none;fill-rule:evenodd;stroke:#0000FF;stroke-width:2.0px;stroke-linecap:butt;stroke-linejoin:miter;stroke-opacity:1\"/>\n",
       "<path class=\"bond-18\" d=\"M 742.407,92.3798 L 743.694,97.0741\" style=\"fill:none;fill-rule:evenodd;stroke:#000000;stroke-width:2.0px;stroke-linecap:butt;stroke-linejoin:miter;stroke-opacity:1\"/>\n",
       "<path class=\"atom-5\" d=\"M 696.455 52.32 Q 696.455 51.3, 696.959 50.73 Q 697.463 50.16, 698.405 50.16 Q 699.347 50.16, 699.851 50.73 Q 700.355 51.3, 700.355 52.32 Q 700.355 53.352, 699.845 53.94 Q 699.335 54.522, 698.405 54.522 Q 697.469 54.522, 696.959 53.94 Q 696.455 53.358, 696.455 52.32 M 698.405 54.042 Q 699.053 54.042, 699.401 53.61 Q 699.755 53.172, 699.755 52.32 Q 699.755 51.486, 699.401 51.066 Q 699.053 50.64, 698.405 50.64 Q 697.757 50.64, 697.403 51.06 Q 697.055 51.48, 697.055 52.32 Q 697.055 53.178, 697.403 53.61 Q 697.757 54.042, 698.405 54.042 \" fill=\"#FF0000\"/>\n",
       "<path class=\"atom-6\" d=\"M 691.08 72.8548 Q 691.08 71.8348, 691.584 71.2648 Q 692.088 70.6948, 693.03 70.6948 Q 693.972 70.6948, 694.476 71.2648 Q 694.98 71.8348, 694.98 72.8548 Q 694.98 73.8868, 694.47 74.4748 Q 693.96 75.0568, 693.03 75.0568 Q 692.094 75.0568, 691.584 74.4748 Q 691.08 73.8928, 691.08 72.8548 M 693.03 74.5768 Q 693.678 74.5768, 694.026 74.1448 Q 694.38 73.7068, 694.38 72.8548 Q 694.38 72.0208, 694.026 71.6008 Q 693.678 71.1748, 693.03 71.1748 Q 692.382 71.1748, 692.028 71.5948 Q 691.68 72.0148, 691.68 72.8548 Q 691.68 73.7128, 692.028 74.1448 Q 692.382 74.5768, 693.03 74.5768 \" fill=\"#FF0000\"/>\n",
       "<path class=\"atom-10\" d=\"M 655.512 63.5456 Q 655.512 62.5256, 656.016 61.9556 Q 656.52 61.3856, 657.462 61.3856 Q 658.404 61.3856, 658.908 61.9556 Q 659.412 62.5256, 659.412 63.5456 Q 659.412 64.5776, 658.902 65.1656 Q 658.392 65.7476, 657.462 65.7476 Q 656.526 65.7476, 656.016 65.1656 Q 655.512 64.5836, 655.512 63.5456 M 657.462 65.2676 Q 658.11 65.2676, 658.458 64.8356 Q 658.812 64.3976, 658.812 63.5456 Q 658.812 62.7116, 658.458 62.2916 Q 658.11 61.8656, 657.462 61.8656 Q 656.814 61.8656, 656.46 62.2856 Q 656.112 62.7056, 656.112 63.5456 Q 656.112 64.4036, 656.46 64.8356 Q 656.814 65.2676, 657.462 65.2676 \" fill=\"#FF0000\"/>\n",
       "<path class=\"atom-11\" d=\"M 646.514 81.9684 L 647.09 81.9684 L 647.09 83.7744 L 649.262 83.7744 L 649.262 81.9684 L 649.838 81.9684 L 649.838 86.2164 L 649.262 86.2164 L 649.262 84.2544 L 647.09 84.2544 L 647.09 86.2164 L 646.514 86.2164 L 646.514 81.9684 \" fill=\"#FF0000\"/>\n",
       "<path class=\"atom-11\" d=\"M 650.138 84.0804 Q 650.138 83.0604, 650.642 82.4904 Q 651.146 81.9204, 652.088 81.9204 Q 653.03 81.9204, 653.534 82.4904 Q 654.038 83.0604, 654.038 84.0804 Q 654.038 85.1124, 653.528 85.7004 Q 653.018 86.2824, 652.088 86.2824 Q 651.152 86.2824, 650.642 85.7004 Q 650.138 85.1184, 650.138 84.0804 M 652.088 85.8024 Q 652.736 85.8024, 653.084 85.3704 Q 653.438 84.9324, 653.438 84.0804 Q 653.438 83.2464, 653.084 82.8264 Q 652.736 82.4004, 652.088 82.4004 Q 651.44 82.4004, 651.086 82.8204 Q 650.738 83.2404, 650.738 84.0804 Q 650.738 84.9384, 651.086 85.3704 Q 651.44 85.8024, 652.088 85.8024 \" fill=\"#FF0000\"/>\n",
       "<path class=\"atom-12\" d=\"M 674.86 88.1506 L 676.252 90.4006 Q 676.39 90.6226, 676.612 91.0246 Q 676.834 91.4266, 676.846 91.4506 L 676.846 88.1506 L 677.41 88.1506 L 677.41 92.3986 L 676.828 92.3986 L 675.334 89.9386 Q 675.16 89.6506, 674.974 89.3206 Q 674.794 88.9906, 674.74 88.8886 L 674.74 92.3986 L 674.188 92.3986 L 674.188 88.1506 L 674.86 88.1506 \" fill=\"#0000FF\"/>\n",
       "<path class=\"atom-12\" d=\"M 677.92 88.1506 L 678.496 88.1506 L 678.496 89.9566 L 680.668 89.9566 L 680.668 88.1506 L 681.244 88.1506 L 681.244 92.3986 L 680.668 92.3986 L 680.668 90.4366 L 678.496 90.4366 L 678.496 92.3986 L 677.92 92.3986 L 677.92 88.1506 \" fill=\"#0000FF\"/>\n",
       "<path class=\"atom-12\" d=\"M 681.45 92.2495 Q 681.553 91.9842, 681.799 91.8377 Q 682.044 91.6872, 682.385 91.6872 Q 682.809 91.6872, 683.046 91.9169 Q 683.284 92.1466, 683.284 92.5544 Q 683.284 92.9702, 682.975 93.3583 Q 682.67 93.7464, 682.036 94.2058 L 683.331 94.2058 L 683.331 94.5226 L 681.442 94.5226 L 681.442 94.2572 Q 681.965 93.885, 682.274 93.6078 Q 682.587 93.3306, 682.737 93.0811 Q 682.888 92.8316, 682.888 92.5742 Q 682.888 92.305, 682.753 92.1545 Q 682.618 92.004, 682.385 92.004 Q 682.159 92.004, 682.009 92.0951 Q 681.858 92.1862, 681.751 92.3881 L 681.45 92.2495 \" fill=\"#0000FF\"/>\n",
       "<path class=\"atom-13\" d=\"M 715.802 76.925 L 717.194 79.175 Q 717.332 79.397, 717.554 79.799 Q 717.776 80.201, 717.788 80.225 L 717.788 76.925 L 718.352 76.925 L 718.352 81.173 L 717.77 81.173 L 716.276 78.713 Q 716.102 78.425, 715.916 78.095 Q 715.736 77.765, 715.682 77.663 L 715.682 81.173 L 715.13 81.173 L 715.13 76.925 L 715.802 76.925 \" fill=\"#0000FF\"/>\n",
       "<path class=\"atom-15\" d=\"M 727.397 83.6101 Q 727.445 83.6281, 727.643 83.7121 Q 727.841 83.7961, 728.057 83.8501 Q 728.279 83.8981, 728.495 83.8981 Q 728.897 83.8981, 729.131 83.7061 Q 729.365 83.5081, 729.365 83.1661 Q 729.365 82.9321, 729.245 82.7881 Q 729.131 82.6441, 728.951 82.5661 Q 728.771 82.4881, 728.471 82.3981 Q 728.093 82.2841, 727.865 82.1761 Q 727.643 82.0681, 727.481 81.8401 Q 727.325 81.6121, 727.325 81.2281 Q 727.325 80.6941, 727.685 80.3641 Q 728.051 80.0341, 728.771 80.0341 Q 729.263 80.0341, 729.821 80.2681 L 729.683 80.7301 Q 729.173 80.5201, 728.789 80.5201 Q 728.375 80.5201, 728.147 80.6941 Q 727.919 80.8621, 727.925 81.1561 Q 727.925 81.3841, 728.039 81.5221 Q 728.159 81.6601, 728.327 81.7381 Q 728.501 81.8161, 728.789 81.9061 Q 729.173 82.0261, 729.401 82.1461 Q 729.629 82.2661, 729.791 82.5121 Q 729.959 82.7521, 729.959 83.1661 Q 729.959 83.7541, 729.563 84.0721 Q 729.173 84.3841, 728.519 84.3841 Q 728.141 84.3841, 727.853 84.3001 Q 727.571 84.2221, 727.235 84.0841 L 727.397 83.6101 \" fill=\"#CCCC00\"/>\n",
       "<path class=\"atom-16\" d=\"M 729.75 70.3083 Q 729.75 69.2883, 730.254 68.7183 Q 730.758 68.1483, 731.7 68.1483 Q 732.642 68.1483, 733.146 68.7183 Q 733.65 69.2883, 733.65 70.3083 Q 733.65 71.3403, 733.14 71.9283 Q 732.63 72.5103, 731.7 72.5103 Q 730.764 72.5103, 730.254 71.9283 Q 729.75 71.3463, 729.75 70.3083 M 731.7 72.0303 Q 732.348 72.0303, 732.696 71.5983 Q 733.05 71.1603, 733.05 70.3083 Q 733.05 69.4743, 732.696 69.0543 Q 732.348 68.6283, 731.7 68.6283 Q 731.052 68.6283, 730.698 69.0483 Q 730.35 69.4683, 730.35 70.3083 Q 730.35 71.1663, 730.698 71.5983 Q 731.052 72.0303, 731.7 72.0303 \" fill=\"#FF0000\"/>\n",
       "<path class=\"atom-17\" d=\"M 723.544 94.0199 Q 723.544 92.9999, 724.048 92.4299 Q 724.552 91.8599, 725.494 91.8599 Q 726.436 91.8599, 726.94 92.4299 Q 727.444 92.9999, 727.444 94.0199 Q 727.444 95.0519, 726.934 95.6399 Q 726.424 96.2219, 725.494 96.2219 Q 724.558 96.2219, 724.048 95.6399 Q 723.544 95.0579, 723.544 94.0199 M 725.494 95.7419 Q 726.142 95.7419, 726.49 95.3099 Q 726.844 94.8719, 726.844 94.0199 Q 726.844 93.1859, 726.49 92.7659 Q 726.142 92.3399, 725.494 92.3399 Q 724.846 92.3399, 724.492 92.7599 Q 724.144 93.1799, 724.144 94.0199 Q 724.144 94.8779, 724.492 95.3099 Q 724.846 95.7419, 725.494 95.7419 \" fill=\"#FF0000\"/>\n",
       "<path class=\"atom-18\" d=\"M 739.514 83.1311 L 740.906 85.3811 Q 741.044 85.6031, 741.266 86.0051 Q 741.488 86.4071, 741.5 86.4311 L 741.5 83.1311 L 742.064 83.1311 L 742.064 87.3791 L 741.482 87.3791 L 739.988 84.9191 Q 739.814 84.6311, 739.628 84.3011 Q 739.448 83.9711, 739.394 83.8691 L 739.394 87.3791 L 738.842 87.3791 L 738.842 83.1311 L 739.514 83.1311 \" fill=\"#0000FF\"/>\n",
       "<path class=\"atom-18\" d=\"M 742.574 83.1311 L 743.15 83.1311 L 743.15 84.9371 L 745.322 84.9371 L 745.322 83.1311 L 745.898 83.1311 L 745.898 87.3791 L 745.322 87.3791 L 745.322 85.4171 L 743.15 85.4171 L 743.15 87.3791 L 742.574 87.3791 L 742.574 83.1311 \" fill=\"#0000FF\"/>\n",
       "<path d=\"M 668.379 186.432 Q 669.467 186.736, 670.011 187.408 Q 670.571 188.064, 670.571 189.04 Q 670.571 190.608, 669.563 191.504 Q 668.571 192.384, 666.683 192.384 L 662.875 192.384 L 662.875 181.056 L 666.219 181.056 Q 668.155 181.056, 669.131 181.84 Q 670.107 182.624, 670.107 184.064 Q 670.107 185.776, 668.379 186.432 M 664.395 182.336 L 664.395 185.888 L 666.219 185.888 Q 667.339 185.888, 667.915 185.44 Q 668.507 184.976, 668.507 184.064 Q 668.507 182.336, 666.219 182.336 L 664.395 182.336 M 666.683 191.104 Q 667.787 191.104, 668.379 190.576 Q 668.971 190.048, 668.971 189.04 Q 668.971 188.112, 668.315 187.648 Q 667.675 187.168, 666.443 187.168 L 664.395 187.168 L 664.395 191.104 L 666.683 191.104 \" fill=\"#000000\"/>\n",
       "<path d=\"M 680.475 186.832 L 680.475 191.616 Q 678.859 192.528, 676.475 192.528 Q 674.011 192.528, 672.683 191.024 Q 671.371 189.52, 671.371 186.704 Q 671.371 183.888, 672.683 182.416 Q 674.011 180.928, 676.523 180.928 Q 677.835 180.928, 678.795 181.344 Q 679.755 181.744, 680.427 182.576 L 679.387 183.44 Q 678.331 182.208, 676.523 182.208 Q 674.811 182.208, 673.899 183.36 Q 673.003 184.512, 673.003 186.704 Q 673.003 188.944, 673.931 190.096 Q 674.875 191.248, 676.699 191.248 Q 677.883 191.248, 678.939 190.864 L 678.939 186.832 L 680.475 186.832 \" fill=\"#000000\"/>\n",
       "<path d=\"M 681.963 191.104 L 684.443 191.104 L 684.443 182.64 L 681.707 183.488 L 681.339 182.544 L 684.811 180.992 L 685.947 181.184 L 685.947 191.104 L 688.171 191.104 L 688.171 192.384 L 681.963 192.384 L 681.963 191.104 \" fill=\"#000000\"/>\n",
       "<path d=\"M 689.211 190.784 L 690.811 190.784 L 690.811 192.064 L 690.507 194.272 L 689.931 194.272 L 689.931 192.384 L 689.211 192.384 L 689.211 190.784 \" fill=\"#000000\"/>\n",
       "<path d=\"\" fill=\"#000000\"/>\n",
       "<path d=\"M 695.643 183.2 Q 696.059 182.128, 697.051 181.536 Q 698.043 180.928, 699.419 180.928 Q 701.131 180.928, 702.091 181.856 Q 703.051 182.784, 703.051 184.432 Q 703.051 186.112, 701.803 187.68 Q 700.571 189.248, 698.011 191.104 L 703.243 191.104 L 703.243 192.384 L 695.611 192.384 L 695.611 191.312 Q 697.723 189.808, 698.971 188.688 Q 700.235 187.568, 700.843 186.56 Q 701.451 185.552, 701.451 184.512 Q 701.451 183.424, 700.907 182.816 Q 700.363 182.208, 699.419 182.208 Q 698.507 182.208, 697.899 182.576 Q 697.291 182.944, 696.859 183.76 L 695.643 183.2 \" fill=\"#000000\"/>\n",
       "<path d=\"M 710.715 192.384 L 707.979 187.728 L 707.947 187.728 L 706.139 187.728 L 706.139 192.384 L 704.603 192.384 L 704.603 181.056 L 707.947 181.056 Q 709.883 181.056, 710.859 181.936 Q 711.835 182.8, 711.835 184.384 Q 711.835 185.584, 711.243 186.4 Q 710.667 187.2, 709.531 187.52 L 712.395 192.384 L 710.715 192.384 M 706.139 186.448 L 707.947 186.448 Q 709.051 186.448, 709.643 185.92 Q 710.235 185.392, 710.235 184.384 Q 710.235 183.376, 709.643 182.864 Q 709.067 182.336, 707.947 182.336 L 706.139 182.336 L 706.139 186.448 \" fill=\"#000000\"/>\n",
       "<path d=\"M 722.299 186.832 L 722.299 191.616 Q 720.683 192.528, 718.299 192.528 Q 715.835 192.528, 714.507 191.024 Q 713.195 189.52, 713.195 186.704 Q 713.195 183.888, 714.507 182.416 Q 715.835 180.928, 718.347 180.928 Q 719.659 180.928, 720.619 181.344 Q 721.579 181.744, 722.251 182.576 L 721.211 183.44 Q 720.155 182.208, 718.347 182.208 Q 716.635 182.208, 715.723 183.36 Q 714.827 184.512, 714.827 186.704 Q 714.827 188.944, 715.755 190.096 Q 716.699 191.248, 718.523 191.248 Q 719.707 191.248, 720.763 190.864 L 720.763 186.832 L 722.299 186.832 \" fill=\"#000000\"/>\n",
       "<path d=\"M 728.411 186.416 Q 729.515 186.736, 730.043 187.456 Q 730.587 188.16, 730.587 189.28 Q 730.587 190.24, 730.107 190.992 Q 729.627 191.728, 728.747 192.144 Q 727.867 192.544, 726.715 192.544 Q 725.499 192.544, 724.587 192.128 Q 723.691 191.696, 722.971 190.832 L 723.883 189.904 Q 724.587 190.672, 725.179 190.976 Q 725.771 191.264, 726.715 191.264 Q 727.739 191.264, 728.363 190.72 Q 728.987 190.16, 728.987 189.264 Q 728.987 188.112, 728.331 187.6 Q 727.691 187.072, 726.299 187.072 L 725.483 187.072 L 725.483 185.92 L 726.203 185.92 Q 727.435 185.904, 728.091 185.376 Q 728.747 184.832, 728.747 183.824 Q 728.747 183.088, 728.203 182.656 Q 727.659 182.208, 726.731 182.208 Q 725.787 182.208, 725.195 182.544 Q 724.619 182.88, 724.171 183.728 L 723.067 183.136 Q 723.467 182.192, 724.427 181.568 Q 725.387 180.928, 726.731 180.928 Q 728.395 180.928, 729.371 181.712 Q 730.347 182.496, 730.347 183.824 Q 730.347 184.736, 729.851 185.392 Q 729.355 186.048, 728.411 186.416 \" fill=\"#000000\"/>\n",
       "</svg>"
      ],
      "text/plain": [
       "<IPython.core.display.SVG object>"
      ]
     },
     "execution_count": 129,
     "metadata": {},
     "output_type": "execute_result"
    }
   ],
   "source": [
    "PandasTools.AddMoleculeColumnToFrame(ligs, \"smiles\")\n",
    "Draw.MolsToGridImage(\n",
    "    mols=list(ligs.ROMol), \n",
    "    legends=list(ligs[\"@chemicalID\"]+', '+ligs[\"@structureId\"]), \n",
    "    molsPerRow=top_num\n",
    ")"
   ]
  },
  {
   "cell_type": "markdown",
   "metadata": {},
   "source": [
    "\n",
    "#### Create protein-ligand ID pairs"
   ]
  },
  {
   "cell_type": "code",
   "execution_count": 130,
   "metadata": {},
   "outputs": [
    {
     "name": "stdout",
     "output_type": "stream",
     "text": [
      "OrderedDict([('5ABW', 'WQQ'), ('4WVP', '3V3'), ('5A0A', 'JJS'), ('2RG3', 'BG1')])\n"
     ]
    }
   ],
   "source": [
    "pairs = collections.OrderedDict()\n",
    "\n",
    "for idx, row in ligs.iterrows():\n",
    "    pairs[str(row[\"@structureId\"])] = str(row[\"@chemicalID\"])\n",
    "\n",
    "print(pairs)\n"
   ]
  },
  {
   "cell_type": "markdown",
   "metadata": {},
   "source": [
    "#### Align PDB structures\n",
    "\n",
    "Since we want to build ligand-based ensemble pharmacophores in the next talktorial, it is necessary to align all structures to each other in 3D.\n",
    "\n",
    "We will use one of our packages, opencadd, which includes a 3D superposition subpackage to guide the structural alignment of the proteins. The approach is based on superposition guided by sequence alignment provided matched residues. There are other methods in the package, but this simple one will be enough for the task at hand.\n"
   ]
  },
  {
   "cell_type": "markdown",
   "metadata": {},
   "source": [
    "\n",
    "##### 1. Get the PDB structure files\n",
    "\n",
    "We now fetch the PDB structure files, i.e. 3D coordinates of the protein, ligand (and if available other atomic or molecular entities such as cofactors, water molecules, and ions) from the PDB using opencadd.structure.superposition.\n",
    "\n",
    "Available file formats are pdb and cif, which store the 3D coordinations of atoms of the protein (and ligand, cofactors, water molecules, and ions) as well as information on bonds between atoms. Here, we work with pdb files.\n"
   ]
  },
  {
   "cell_type": "code",
   "execution_count": 131,
   "metadata": {},
   "outputs": [
    {
     "data": {
      "text/plain": [
       "[<Universe with 2067 atoms>,\n",
       " <Universe with 2051 atoms>,\n",
       " <Universe with 1905 atoms>,\n",
       " <Universe with 1823 atoms>]"
      ]
     },
     "execution_count": 131,
     "metadata": {},
     "output_type": "execute_result"
    }
   ],
   "source": [
    "# Download PDB structures\n",
    "from opencadd.structure.superposition.api import align, METHODS\n",
    "from opencadd.structure.core import Structure\n",
    "structures = [Structure.from_pdbid(pdb_id) for pdb_id in pairs]\n",
    "structures"
   ]
  },
  {
   "cell_type": "markdown",
   "metadata": {},
   "source": [
    "##### 2. Extract protein and ligand\n",
    "\n",
    "Extract protein and ligand from the structure in order to remove solvent and other artifacts of crystallography.\n"
   ]
  },
  {
   "cell_type": "code",
   "execution_count": 132,
   "metadata": {},
   "outputs": [
    {
     "name": "stderr",
     "output_type": "stream",
     "text": [
      "/apps/anaconda3/envs/opencadd/lib/python3.8/site-packages/MDAnalysis/core/topologyattrs.py:2011: VisibleDeprecationWarning: Creating an ndarray from ragged nested sequences (which is a list-or-tuple of lists-or-tuples-or ndarrays with different lengths or shapes) is deprecated. If you meant to do this, you must specify 'dtype=object' when creating the ndarray\n",
      "  np.array(sorted(unique_bonds)), 4)\n"
     ]
    },
    {
     "data": {
      "text/plain": [
       "[<Universe with 1663 atoms>,\n",
       " <Universe with 1664 atoms>,\n",
       " <Universe with 1646 atoms>,\n",
       " <Universe with 1649 atoms>]"
      ]
     },
     "execution_count": 132,
     "metadata": {},
     "output_type": "execute_result"
    }
   ],
   "source": [
    "complexes = [Structure.from_atomgroup(structure.select_atoms(f\"protein or resname {ligand}\")) for structure, ligand in zip(structures, pairs.values())]\n",
    "complexes"
   ]
  },
  {
   "cell_type": "code",
   "execution_count": 133,
   "metadata": {},
   "outputs": [
    {
     "name": "stderr",
     "output_type": "stream",
     "text": [
      "/apps/anaconda3/envs/opencadd/lib/python3.8/site-packages/MDAnalysis/coordinates/PDB.py:722: UserWarning: Unit cell dimensions not found. CRYST1 record set to unitary values.\n",
      "  warnings.warn(\"Unit cell dimensions not found. \"\n",
      "/apps/anaconda3/envs/opencadd/lib/python3.8/site-packages/MDAnalysis/coordinates/PDB.py:1026: UserWarning: Found no information for attr: 'tempfactors' Using default value of '0.0'\n",
      "  warnings.warn(\"Found no information for attr: '{}'\"\n"
     ]
    }
   ],
   "source": [
    "# Write complex to file\n",
    "for complex_, pdb_id in zip(complexes, pairs.keys()):\n",
    "    complex_.write(f\"data/{pdb_id}.pdb\")"
   ]
  },
  {
   "cell_type": "markdown",
   "metadata": {},
   "source": [
    "\n",
    "##### 3. Align proteins\n",
    "\n",
    "Align complexes (based on protein atoms).\n"
   ]
  },
  {
   "cell_type": "code",
   "execution_count": 134,
   "metadata": {},
   "outputs": [
    {
     "data": {
      "application/vnd.jupyter.widget-view+json": {
       "model_id": "2e9056c2bcdc47ee8ff35ee800f006a6",
       "version_major": 2,
       "version_minor": 0
      },
      "text/plain": [
       "NGLWidget()"
      ]
     },
     "metadata": {},
     "output_type": "display_data"
    }
   ],
   "source": [
    "results = align(complexes, method=METHODS[\"mda\"])\n",
    "\n",
    "v = nglview.NGLWidget()\n",
    "for complex_ in complexes:\n",
    "    v.add_component(complex_.atoms)\n",
    "v"
   ]
  },
  {
   "cell_type": "code",
   "execution_count": 135,
   "metadata": {},
   "outputs": [
    {
     "data": {
      "application/vnd.jupyter.widget-view+json": {
       "model_id": "2e9056c2bcdc47ee8ff35ee800f006a6",
       "version_major": 2,
       "version_minor": 0
      },
      "text/plain": [
       "NGLWidget()"
      ]
     },
     "metadata": {},
     "output_type": "display_data"
    }
   ],
   "source": [
    "v"
   ]
  },
  {
   "cell_type": "code",
   "execution_count": 136,
   "metadata": {},
   "outputs": [],
   "source": [
    "v.render_image();"
   ]
  },
  {
   "cell_type": "code",
   "execution_count": 137,
   "metadata": {},
   "outputs": [
    {
     "data": {
      "image/png": "\n",
      "text/plain": [
       "<IPython.core.display.Image object>"
      ]
     },
     "execution_count": 137,
     "metadata": {},
     "output_type": "execute_result"
    }
   ],
   "source": [
    "v._display_image()"
   ]
  },
  {
   "cell_type": "markdown",
   "metadata": {},
   "source": [
    "##### _4. Extract ligands_"
   ]
  },
  {
   "cell_type": "code",
   "execution_count": 138,
   "metadata": {},
   "outputs": [
    {
     "name": "stderr",
     "output_type": "stream",
     "text": [
      "/apps/anaconda3/envs/opencadd/lib/python3.8/site-packages/MDAnalysis/core/topologyattrs.py:2011: VisibleDeprecationWarning: Creating an ndarray from ragged nested sequences (which is a list-or-tuple of lists-or-tuples-or ndarrays with different lengths or shapes) is deprecated. If you meant to do this, you must specify 'dtype=object' when creating the ndarray\n",
      "  np.array(sorted(unique_bonds)), 4)\n"
     ]
    },
    {
     "data": {
      "text/plain": [
       "[<Universe with 36 atoms>,\n",
       " <Universe with 17 atoms>,\n",
       " <Universe with 29 atoms>,\n",
       " <Universe with 19 atoms>]"
      ]
     },
     "execution_count": 138,
     "metadata": {},
     "output_type": "execute_result"
    }
   ],
   "source": [
    "ligands = [Structure.from_atomgroup(complex.select_atoms(f\"resname {ligand}\")) for complex, ligand in zip(complexes, pairs.values())]\n",
    "ligands"
   ]
  },
  {
   "cell_type": "code",
   "execution_count": 139,
   "metadata": {},
   "outputs": [
    {
     "name": "stderr",
     "output_type": "stream",
     "text": [
      "/apps/anaconda3/envs/opencadd/lib/python3.8/site-packages/MDAnalysis/coordinates/PDB.py:722: UserWarning: Unit cell dimensions not found. CRYST1 record set to unitary values.\n",
      "  warnings.warn(\"Unit cell dimensions not found. \"\n",
      "/apps/anaconda3/envs/opencadd/lib/python3.8/site-packages/MDAnalysis/coordinates/PDB.py:1026: UserWarning: Found no information for attr: 'tempfactors' Using default value of '0.0'\n",
      "  warnings.warn(\"Found no information for attr: '{}'\"\n"
     ]
    }
   ],
   "source": [
    "for ligand, pdb_id in zip(ligands, pairs.keys()):\n",
    "    ligand.write(f\"data/{pdb_id}_lig.pdb\")"
   ]
  },
  {
   "cell_type": "code",
   "execution_count": 140,
   "metadata": {},
   "outputs": [
    {
     "data": {
      "text/plain": [
       "['data/5ABW_lig.pdb',\n",
       " 'data/4WVP_lig.pdb',\n",
       " 'data/5A0A_lig.pdb',\n",
       " 'data/2RG3_lig.pdb']"
      ]
     },
     "execution_count": 140,
     "metadata": {},
     "output_type": "execute_result"
    }
   ],
   "source": [
    "mol_files = []\n",
    "for file in glob.glob(\"data/*_lig.pdb\"):\n",
    "    mol_files.append(file)\n",
    "mol_files"
   ]
  },
  {
   "cell_type": "code",
   "execution_count": 141,
   "metadata": {},
   "outputs": [
    {
     "data": {
      "application/vnd.jupyter.widget-view+json": {
       "model_id": "1c36f55b5eec425286edd7fb2cfb140b",
       "version_major": 2,
       "version_minor": 0
      },
      "text/plain": [
       "NGLWidget()"
      ]
     },
     "metadata": {},
     "output_type": "display_data"
    }
   ],
   "source": [
    "v = nglview.NGLWidget()\n",
    "\n",
    "ligand_colors = {0: 'magenta', 1: 'cyan', 2: 'yellow', 3: 'grey'}\n",
    "\n",
    "for component_id, ligand in enumerate(ligands):\n",
    "    v.add_component(ligand.atoms)\n",
    "    v.remove_ball_and_stick(component=component_id)\n",
    "    v.add_licorice(component=component_id, colorScheme=\"element\", colorValue=ligand_colors[component_id])\n",
    "v"
   ]
  },
  {
   "cell_type": "code",
   "execution_count": 142,
   "metadata": {},
   "outputs": [],
   "source": [
    "v.render_image();"
   ]
  },
  {
   "cell_type": "code",
   "execution_count": 143,
   "metadata": {},
   "outputs": [
    {
     "data": {
      "image/png": "\n",
      "text/plain": [
       "<IPython.core.display.Image object>"
      ]
     },
     "execution_count": 143,
     "metadata": {},
     "output_type": "execute_result"
    }
   ],
   "source": [
    "v._display_image()"
   ]
  },
  {
   "cell_type": "markdown",
   "metadata": {},
   "source": [
    "## Extract pharmacophore hypothesis\n",
    "\n",
    "### Ligand-based approach (talktorial 9)"
   ]
  },
  {
   "cell_type": "code",
   "execution_count": 144,
   "metadata": {},
   "outputs": [
    {
     "data": {
      "text/plain": [
       "['data/5ABW_lig.pdb',\n",
       " 'data/4WVP_lig.pdb',\n",
       " 'data/5A0A_lig.pdb',\n",
       " 'data/2RG3_lig.pdb']"
      ]
     },
     "execution_count": 144,
     "metadata": {},
     "output_type": "execute_result"
    }
   ],
   "source": [
    "mol_files = list(glob.glob(\"data/*_lig.pdb\"))\n",
    "mol_files"
   ]
  },
  {
   "cell_type": "code",
   "execution_count": 145,
   "metadata": {},
   "outputs": [
    {
     "data": {
      "text/plain": [
       "['5ABW', '4WVP', '5A0A', '2RG3']"
      ]
     },
     "execution_count": 145,
     "metadata": {},
     "output_type": "execute_result"
    }
   ],
   "source": [
    "pdb_ids = [os.path.basename(i).split(\"_\")[0] for i in mol_files]\n",
    "pdb_ids"
   ]
  },
  {
   "cell_type": "code",
   "execution_count": 146,
   "metadata": {},
   "outputs": [
    {
     "name": "stdout",
     "output_type": "stream",
     "text": [
      "CC1NOC(C)C1C1CC(C(O)NCC2CCC(S(C)(O)O)CC2)C(O)N(C2CCCC(Cl)C2)C1C\n",
      "NCCOCCOCCOCCOCCCO\n",
      "CC(O)C1C(C2CCC(CN)NC2)NC(O)N(C2CCCC(C(F)(F)F)C2)C1C\n",
      "CCCC(C(O)OCC(N)CO)N(C)S(O)(O)NC\n",
      "Number of molecules:  4\n"
     ]
    }
   ],
   "source": [
    "# read all ligands from these PDB files using RDKit\n",
    "mols = []\n",
    "for mol_file in mol_files:\n",
    "    mol = Chem.MolFromPDBFile(mol_file, removeHs=False)\n",
    "    if mol is None:\n",
    "        print(mol_file, 'could not be read')\n",
    "    else:\n",
    "        Chem.SanitizeMol(mol)\n",
    "        print(Chem.MolToSmiles(mol))\n",
    "        mols.append(mol)\n",
    "rangeMols = range(1, len(mols)+1)\n",
    "print('Number of molecules: ', len(mols))"
   ]
  },
  {
   "cell_type": "code",
   "execution_count": 147,
   "metadata": {},
   "outputs": [
    {
     "data": {
      "image/svg+xml": [
       "<svg xmlns=\"http://www.w3.org/2000/svg\" xmlns:rdkit=\"http://www.rdkit.org/xml\" xmlns:xlink=\"http://www.w3.org/1999/xlink\" version=\"1.1\" baseProfile=\"full\" xml:space=\"preserve\" width=\"800px\" height=\"200px\" viewBox=\"0 0 800 200\">\n",
       "<!-- END OF HEADER -->\n",
       "<rect style=\"opacity:1.0;fill:#FFFFFF;stroke:none\" width=\"800\" height=\"200\" x=\"0\" y=\"0\"> </rect>\n",
       "<rect style=\"opacity:1.0;fill:#FFFFFF;stroke:none\" width=\"800\" height=\"200\" x=\"0\" y=\"0\"> </rect>\n",
       "<rect style=\"opacity:1.0;fill:#FFFFFF;stroke:none\" width=\"800\" height=\"200\" x=\"0\" y=\"0\"> </rect>\n",
       "<rect style=\"opacity:1.0;fill:#FFFFFF;stroke:none\" width=\"800\" height=\"200\" x=\"0\" y=\"0\"> </rect>\n",
       "<rect style=\"opacity:1.0;fill:#FFFFFF;stroke:none\" width=\"800\" height=\"200\" x=\"0\" y=\"0\"> </rect>\n",
       "<path class=\"bond-0\" d=\"M 86.1327,33.6904 L 87.3453,22.9932\" style=\"fill:none;fill-rule:evenodd;stroke:#000000;stroke-width:2.0px;stroke-linecap:butt;stroke-linejoin:miter;stroke-opacity:1\"/>\n",
       "<path class=\"bond-1\" d=\"M 87.3453,22.9932 L 86.2812,18.4164\" style=\"fill:none;fill-rule:evenodd;stroke:#000000;stroke-width:2.0px;stroke-linecap:butt;stroke-linejoin:miter;stroke-opacity:1\"/>\n",
       "<path class=\"bond-1\" d=\"M 86.2812,18.4164 L 85.2171,13.8395\" style=\"fill:none;fill-rule:evenodd;stroke:#FF0000;stroke-width:2.0px;stroke-linecap:butt;stroke-linejoin:miter;stroke-opacity:1\"/>\n",
       "<path class=\"bond-2\" d=\"M 87.3453,22.9932 L 91.0637,23.2806\" style=\"fill:none;fill-rule:evenodd;stroke:#000000;stroke-width:2.0px;stroke-linecap:butt;stroke-linejoin:miter;stroke-opacity:1\"/>\n",
       "<path class=\"bond-3\" d=\"M 85.3856,8.98672 L 85.8186,7.64123\" style=\"fill:none;fill-rule:evenodd;stroke:#FF0000;stroke-width:2.0px;stroke-linecap:butt;stroke-linejoin:miter;stroke-opacity:1\"/>\n",
       "<path class=\"bond-3\" d=\"M 85.8186,7.64123 L 86.2517,6.29574\" style=\"fill:none;fill-rule:evenodd;stroke:#0000FF;stroke-width:2.0px;stroke-linecap:butt;stroke-linejoin:miter;stroke-opacity:1\"/>\n",
       "<path class=\"bond-4\" d=\"M 88.1204,6.36631 L 89.3181,8.80126\" style=\"fill:none;fill-rule:evenodd;stroke:#0000FF;stroke-width:2.0px;stroke-linecap:butt;stroke-linejoin:miter;stroke-opacity:1\"/>\n",
       "<path class=\"bond-4\" d=\"M 89.3181,8.80126 L 90.5158,11.2362\" style=\"fill:none;fill-rule:evenodd;stroke:#000000;stroke-width:2.0px;stroke-linecap:butt;stroke-linejoin:miter;stroke-opacity:1\"/>\n",
       "<path class=\"bond-5\" d=\"M 90.5158,11.2362 L 93.4708,5.91006\" style=\"fill:none;fill-rule:evenodd;stroke:#000000;stroke-width:2.0px;stroke-linecap:butt;stroke-linejoin:miter;stroke-opacity:1\"/>\n",
       "<path class=\"bond-6\" d=\"M 90.5158,11.2362 L 91.0637,23.2806\" style=\"fill:none;fill-rule:evenodd;stroke:#000000;stroke-width:2.0px;stroke-linecap:butt;stroke-linejoin:miter;stroke-opacity:1\"/>\n",
       "<path class=\"bond-7\" d=\"M 91.0637,23.2806 L 94.3959,33.9599\" style=\"fill:none;fill-rule:evenodd;stroke:#000000;stroke-width:2.0px;stroke-linecap:butt;stroke-linejoin:miter;stroke-opacity:1\"/>\n",
       "<path class=\"bond-8\" d=\"M 94.3959,33.9599 L 104.581,40.4357\" style=\"fill:none;fill-rule:evenodd;stroke:#000000;stroke-width:2.0px;stroke-linecap:butt;stroke-linejoin:miter;stroke-opacity:1\"/>\n",
       "<path class=\"bond-9\" d=\"M 94.3959,33.9599 L 87.8752,38.6573\" style=\"fill:none;fill-rule:evenodd;stroke:#000000;stroke-width:2.0px;stroke-linecap:butt;stroke-linejoin:miter;stroke-opacity:1\"/>\n",
       "<path class=\"bond-10\" d=\"M 104.581,40.4357 L 108.111,51.3574\" style=\"fill:none;fill-rule:evenodd;stroke:#000000;stroke-width:2.0px;stroke-linecap:butt;stroke-linejoin:miter;stroke-opacity:1\"/>\n",
       "<path class=\"bond-11\" d=\"M 87.8752,38.6573 L 76.675,32.433\" style=\"fill:none;fill-rule:evenodd;stroke:#000000;stroke-width:2.0px;stroke-linecap:butt;stroke-linejoin:miter;stroke-opacity:1\"/>\n",
       "<path class=\"bond-12\" d=\"M 87.8752,38.6573 L 89.3296,42.7978\" style=\"fill:none;fill-rule:evenodd;stroke:#000000;stroke-width:2.0px;stroke-linecap:butt;stroke-linejoin:miter;stroke-opacity:1\"/>\n",
       "<path class=\"bond-12\" d=\"M 89.3296,42.7978 L 90.784,46.9383\" style=\"fill:none;fill-rule:evenodd;stroke:#0000FF;stroke-width:2.0px;stroke-linecap:butt;stroke-linejoin:miter;stroke-opacity:1\"/>\n",
       "<path class=\"bond-13\" d=\"M 89.8155,50.7123 L 87.4801,52.4719\" style=\"fill:none;fill-rule:evenodd;stroke:#0000FF;stroke-width:2.0px;stroke-linecap:butt;stroke-linejoin:miter;stroke-opacity:1\"/>\n",
       "<path class=\"bond-13\" d=\"M 87.4801,52.4719 L 85.1447,54.2315\" style=\"fill:none;fill-rule:evenodd;stroke:#000000;stroke-width:2.0px;stroke-linecap:butt;stroke-linejoin:miter;stroke-opacity:1\"/>\n",
       "<path class=\"bond-14\" d=\"M 93.5393,50.5552 L 97.6321,53.1478\" style=\"fill:none;fill-rule:evenodd;stroke:#0000FF;stroke-width:2.0px;stroke-linecap:butt;stroke-linejoin:miter;stroke-opacity:1\"/>\n",
       "<path class=\"bond-14\" d=\"M 97.6321,53.1478 L 101.725,55.7404\" style=\"fill:none;fill-rule:evenodd;stroke:#000000;stroke-width:2.0px;stroke-linecap:butt;stroke-linejoin:miter;stroke-opacity:1\"/>\n",
       "<path class=\"bond-15\" d=\"M 85.1447,54.2315 L 76.6777,59.3892\" style=\"fill:none;fill-rule:evenodd;stroke:#000000;stroke-width:2.0px;stroke-linecap:butt;stroke-linejoin:miter;stroke-opacity:1\"/>\n",
       "<path class=\"bond-16\" d=\"M 85.1447,54.2315 L 89.4829,53.001\" style=\"fill:none;fill-rule:evenodd;stroke:#000000;stroke-width:2.0px;stroke-linecap:butt;stroke-linejoin:miter;stroke-opacity:1\"/>\n",
       "<path class=\"bond-17\" d=\"M 72.8984,61.9637 L 68.4029,65.3688\" style=\"fill:none;fill-rule:evenodd;stroke:#000000;stroke-width:2.0px;stroke-linecap:butt;stroke-linejoin:miter;stroke-opacity:1\"/>\n",
       "<path class=\"bond-18\" d=\"M 68.4029,65.3688 L 62.2651,69.2347\" style=\"fill:none;fill-rule:evenodd;stroke:#000000;stroke-width:2.0px;stroke-linecap:butt;stroke-linejoin:miter;stroke-opacity:1\"/>\n",
       "<path class=\"bond-18\" d=\"M 62.2651,69.2347 L 56.1274,73.1007\" style=\"fill:none;fill-rule:evenodd;stroke:#00CC00;stroke-width:2.0px;stroke-linecap:butt;stroke-linejoin:miter;stroke-opacity:1\"/>\n",
       "<path class=\"bond-19\" d=\"M 68.4029,65.3688 L 70.6837,64.6917\" style=\"fill:none;fill-rule:evenodd;stroke:#000000;stroke-width:2.0px;stroke-linecap:butt;stroke-linejoin:miter;stroke-opacity:1\"/>\n",
       "<path class=\"bond-20\" d=\"M 74.3739,63.0622 L 81.2776,59.1198\" style=\"fill:none;fill-rule:evenodd;stroke:#000000;stroke-width:2.0px;stroke-linecap:butt;stroke-linejoin:miter;stroke-opacity:1\"/>\n",
       "<path class=\"bond-21\" d=\"M 85.0087,56.5715 L 89.4829,53.001\" style=\"fill:none;fill-rule:evenodd;stroke:#000000;stroke-width:2.0px;stroke-linecap:butt;stroke-linejoin:miter;stroke-opacity:1\"/>\n",
       "<path class=\"bond-22\" d=\"M 101.725,55.7404 L 102.658,59.2336\" style=\"fill:none;fill-rule:evenodd;stroke:#000000;stroke-width:2.0px;stroke-linecap:butt;stroke-linejoin:miter;stroke-opacity:1\"/>\n",
       "<path class=\"bond-22\" d=\"M 102.658,59.2336 L 103.592,62.7267\" style=\"fill:none;fill-rule:evenodd;stroke:#FF0000;stroke-width:2.0px;stroke-linecap:butt;stroke-linejoin:miter;stroke-opacity:1\"/>\n",
       "<path class=\"bond-23\" d=\"M 101.725,55.7404 L 108.111,51.3574\" style=\"fill:none;fill-rule:evenodd;stroke:#000000;stroke-width:2.0px;stroke-linecap:butt;stroke-linejoin:miter;stroke-opacity:1\"/>\n",
       "<path class=\"bond-24\" d=\"M 108.111,51.3574 L 119.581,57.0877\" style=\"fill:none;fill-rule:evenodd;stroke:#000000;stroke-width:2.0px;stroke-linecap:butt;stroke-linejoin:miter;stroke-opacity:1\"/>\n",
       "<path class=\"bond-25\" d=\"M 119.581,57.0877 L 121.279,55.7154\" style=\"fill:none;fill-rule:evenodd;stroke:#000000;stroke-width:2.0px;stroke-linecap:butt;stroke-linejoin:miter;stroke-opacity:1\"/>\n",
       "<path class=\"bond-25\" d=\"M 121.279,55.7154 L 122.977,54.3431\" style=\"fill:none;fill-rule:evenodd;stroke:#FF0000;stroke-width:2.0px;stroke-linecap:butt;stroke-linejoin:miter;stroke-opacity:1\"/>\n",
       "<path class=\"bond-26\" d=\"M 119.581,57.0877 L 121.107,60.5687\" style=\"fill:none;fill-rule:evenodd;stroke:#000000;stroke-width:2.0px;stroke-linecap:butt;stroke-linejoin:miter;stroke-opacity:1\"/>\n",
       "<path class=\"bond-26\" d=\"M 121.107,60.5687 L 122.633,64.0497\" style=\"fill:none;fill-rule:evenodd;stroke:#0000FF;stroke-width:2.0px;stroke-linecap:butt;stroke-linejoin:miter;stroke-opacity:1\"/>\n",
       "<path class=\"bond-27\" d=\"M 125.606,67.2702 L 130.479,69.3957\" style=\"fill:none;fill-rule:evenodd;stroke:#0000FF;stroke-width:2.0px;stroke-linecap:butt;stroke-linejoin:miter;stroke-opacity:1\"/>\n",
       "<path class=\"bond-27\" d=\"M 130.479,69.3957 L 135.352,71.5213\" style=\"fill:none;fill-rule:evenodd;stroke:#000000;stroke-width:2.0px;stroke-linecap:butt;stroke-linejoin:miter;stroke-opacity:1\"/>\n",
       "<path class=\"bond-28\" d=\"M 135.352,71.5213 L 135.694,81.5538\" style=\"fill:none;fill-rule:evenodd;stroke:#000000;stroke-width:2.0px;stroke-linecap:butt;stroke-linejoin:miter;stroke-opacity:1\"/>\n",
       "<path class=\"bond-29\" d=\"M 135.694,81.5538 L 125.598,85.892\" style=\"fill:none;fill-rule:evenodd;stroke:#000000;stroke-width:2.0px;stroke-linecap:butt;stroke-linejoin:miter;stroke-opacity:1\"/>\n",
       "<path class=\"bond-30\" d=\"M 135.694,81.5538 L 147.073,86.3141\" style=\"fill:none;fill-rule:evenodd;stroke:#000000;stroke-width:2.0px;stroke-linecap:butt;stroke-linejoin:miter;stroke-opacity:1\"/>\n",
       "<path class=\"bond-31\" d=\"M 125.598,85.892 L 126.901,95.2868\" style=\"fill:none;fill-rule:evenodd;stroke:#000000;stroke-width:2.0px;stroke-linecap:butt;stroke-linejoin:miter;stroke-opacity:1\"/>\n",
       "<path class=\"bond-32\" d=\"M 126.901,95.2868 L 138.191,100.101\" style=\"fill:none;fill-rule:evenodd;stroke:#000000;stroke-width:2.0px;stroke-linecap:butt;stroke-linejoin:miter;stroke-opacity:1\"/>\n",
       "<path class=\"bond-33\" d=\"M 138.191,100.101 L 138.61,104.856\" style=\"fill:none;fill-rule:evenodd;stroke:#000000;stroke-width:2.0px;stroke-linecap:butt;stroke-linejoin:miter;stroke-opacity:1\"/>\n",
       "<path class=\"bond-33\" d=\"M 138.61,104.856 L 139.028,109.611\" style=\"fill:none;fill-rule:evenodd;stroke:#CCCC00;stroke-width:2.0px;stroke-linecap:butt;stroke-linejoin:miter;stroke-opacity:1\"/>\n",
       "<path class=\"bond-34\" d=\"M 138.191,100.101 L 148.322,95.5652\" style=\"fill:none;fill-rule:evenodd;stroke:#000000;stroke-width:2.0px;stroke-linecap:butt;stroke-linejoin:miter;stroke-opacity:1\"/>\n",
       "<path class=\"bond-35\" d=\"M 137.629,111.284 L 133.895,109.559\" style=\"fill:none;fill-rule:evenodd;stroke:#CCCC00;stroke-width:2.0px;stroke-linecap:butt;stroke-linejoin:miter;stroke-opacity:1\"/>\n",
       "<path class=\"bond-35\" d=\"M 133.895,109.559 L 130.161,107.834\" style=\"fill:none;fill-rule:evenodd;stroke:#000000;stroke-width:2.0px;stroke-linecap:butt;stroke-linejoin:miter;stroke-opacity:1\"/>\n",
       "<path class=\"bond-36\" d=\"M 140.926,112.316 L 145.337,113.069\" style=\"fill:none;fill-rule:evenodd;stroke:#CCCC00;stroke-width:2.0px;stroke-linecap:butt;stroke-linejoin:miter;stroke-opacity:1\"/>\n",
       "<path class=\"bond-36\" d=\"M 145.337,113.069 L 149.747,113.822\" style=\"fill:none;fill-rule:evenodd;stroke:#FF0000;stroke-width:2.0px;stroke-linecap:butt;stroke-linejoin:miter;stroke-opacity:1\"/>\n",
       "<path class=\"bond-37\" d=\"M 138.035,114.565 L 136.591,117.603\" style=\"fill:none;fill-rule:evenodd;stroke:#CCCC00;stroke-width:2.0px;stroke-linecap:butt;stroke-linejoin:miter;stroke-opacity:1\"/>\n",
       "<path class=\"bond-37\" d=\"M 136.591,117.603 L 135.147,120.64\" style=\"fill:none;fill-rule:evenodd;stroke:#FF0000;stroke-width:2.0px;stroke-linecap:butt;stroke-linejoin:miter;stroke-opacity:1\"/>\n",
       "<path class=\"bond-38\" d=\"M 148.322,95.5652 L 147.073,86.3141\" style=\"fill:none;fill-rule:evenodd;stroke:#000000;stroke-width:2.0px;stroke-linecap:butt;stroke-linejoin:miter;stroke-opacity:1\"/>\n",
       "<path class=\"atom-2\" d=\"M 82.6828 11.338 Q 82.6828 10.318, 83.1868 9.74802 Q 83.6908 9.17802, 84.6328 9.17802 Q 85.5748 9.17802, 86.0788 9.74802 Q 86.5828 10.318, 86.5828 11.338 Q 86.5828 12.37, 86.0728 12.958 Q 85.5628 13.54, 84.6328 13.54 Q 83.6968 13.54, 83.1868 12.958 Q 82.6828 12.376, 82.6828 11.338 M 84.6328 13.06 Q 85.2808 13.06, 85.6288 12.628 Q 85.9828 12.19, 85.9828 11.338 Q 85.9828 10.504, 85.6288 10.084 Q 85.2808 9.65802, 84.6328 9.65802 Q 83.9848 9.65802, 83.6308 10.078 Q 83.2828 10.498, 83.2828 11.338 Q 83.2828 12.196, 83.6308 12.628 Q 83.9848 13.06, 84.6328 13.06 \" fill=\"#FF0000\"/>\n",
       "<path class=\"atom-3\" d=\"M 86.038 1.91787 L 87.43 4.16787 Q 87.568 4.38987, 87.79 4.79187 Q 88.012 5.19387, 88.024 5.21787 L 88.024 1.91787 L 88.588 1.91787 L 88.588 6.16587 L 88.006 6.16587 L 86.512 3.70587 Q 86.338 3.41787, 86.152 3.08787 Q 85.972 2.75787, 85.918 2.65587 L 85.918 6.16587 L 85.366 6.16587 L 85.366 1.91787 L 86.038 1.91787 \" fill=\"#0000FF\"/>\n",
       "<path class=\"atom-3\" d=\"M 85.315 -2.75493 L 85.891 -2.75493 L 85.891 -0.948926 L 88.063 -0.948926 L 88.063 -2.75493 L 88.639 -2.75493 L 88.639 1.49307 L 88.063 1.49307 L 88.063 -0.468926 L 85.891 -0.468926 L 85.891 1.49307 L 85.315 1.49307 L 85.315 -2.75493 \" fill=\"#0000FF\"/>\n",
       "<path class=\"atom-11\" d=\"M 90.6905 47.2215 L 92.0825 49.4715 Q 92.2205 49.6935, 92.4425 50.0955 Q 92.6645 50.4975, 92.6765 50.5215 L 92.6765 47.2215 L 93.2405 47.2215 L 93.2405 51.4695 L 92.6585 51.4695 L 91.1645 49.0095 Q 90.9905 48.7215, 90.8045 48.3915 Q 90.6245 48.0615, 90.5705 47.9595 L 90.5705 51.4695 L 90.0185 51.4695 L 90.0185 47.2215 L 90.6905 47.2215 \" fill=\"#0000FF\"/>\n",
       "<path class=\"atom-13\" d=\"M 73.097 60.5906 Q 73.097 59.5346, 73.589 58.9826 Q 74.087 58.4246, 75.029 58.4246 Q 75.905 58.4246, 76.373 59.0426 L 75.977 59.3666 Q 75.635 58.9166, 75.029 58.9166 Q 74.387 58.9166, 74.045 59.3486 Q 73.709 59.7746, 73.709 60.5906 Q 73.709 61.4306, 74.057 61.8626 Q 74.411 62.2946, 75.095 62.2946 Q 75.563 62.2946, 76.109 62.0126 L 76.277 62.4626 Q 76.055 62.6066, 75.719 62.6906 Q 75.383 62.7746, 75.011 62.7746 Q 74.087 62.7746, 73.589 62.2106 Q 73.097 61.6466, 73.097 60.5906 \" fill=\"#000000\"/>\n",
       "<path class=\"atom-15\" d=\"M 51.4013 73.6622 Q 51.4013 72.6062, 51.8933 72.0542 Q 52.3913 71.4962, 53.3333 71.4962 Q 54.2093 71.4962, 54.6773 72.1142 L 54.2813 72.4382 Q 53.9393 71.9882, 53.3333 71.9882 Q 52.6913 71.9882, 52.3493 72.4202 Q 52.0133 72.8462, 52.0133 73.6622 Q 52.0133 74.5022, 52.3613 74.9342 Q 52.7153 75.3662, 53.3993 75.3662 Q 53.8673 75.3662, 54.4133 75.0842 L 54.5813 75.5342 Q 54.3593 75.6782, 54.0233 75.7622 Q 53.6873 75.8462, 53.3153 75.8462 Q 52.3913 75.8462, 51.8933 75.2822 Q 51.4013 74.7182, 51.4013 73.6622 \" fill=\"#00CC00\"/>\n",
       "<path class=\"atom-15\" d=\"M 55.1933 71.2382 L 55.7453 71.2382 L 55.7453 75.7922 L 55.1933 75.7922 L 55.1933 71.2382 \" fill=\"#00CC00\"/>\n",
       "<path class=\"atom-16\" d=\"M 70.7887 64.1922 Q 70.7887 63.1362, 71.2807 62.5842 Q 71.7787 62.0262, 72.7207 62.0262 Q 73.5967 62.0262, 74.0647 62.6442 L 73.6687 62.9682 Q 73.3267 62.5182, 72.7207 62.5182 Q 72.0787 62.5182, 71.7367 62.9502 Q 71.4007 63.3762, 71.4007 64.1922 Q 71.4007 65.0322, 71.7487 65.4642 Q 72.1027 65.8962, 72.7867 65.8962 Q 73.2547 65.8962, 73.8007 65.6142 L 73.9687 66.0642 Q 73.7467 66.2082, 73.4107 66.2922 Q 73.0747 66.3762, 72.7027 66.3762 Q 71.7787 66.3762, 71.2807 65.8122 Q 70.7887 65.2482, 70.7887 64.1922 \" fill=\"#000000\"/>\n",
       "<path class=\"atom-17\" d=\"M 81.5308 58.0578 Q 81.5308 57.0018, 82.0228 56.4498 Q 82.5208 55.8918, 83.4628 55.8918 Q 84.3388 55.8918, 84.8068 56.5098 L 84.4108 56.8338 Q 84.0688 56.3838, 83.4628 56.3838 Q 82.8208 56.3838, 82.4788 56.8158 Q 82.1428 57.2418, 82.1428 58.0578 Q 82.1428 58.8978, 82.4908 59.3298 Q 82.8448 59.7618, 83.5288 59.7618 Q 83.9968 59.7618, 84.5428 59.4798 L 84.7108 59.9298 Q 84.4888 60.0738, 84.1528 60.1578 Q 83.8168 60.2418, 83.4448 60.2418 Q 82.5208 60.2418, 82.0228 59.6778 Q 81.5308 59.1138, 81.5308 58.0578 \" fill=\"#000000\"/>\n",
       "<path class=\"atom-20\" d=\"M 102.281 65.1293 Q 102.281 64.1093, 102.785 63.5393 Q 103.289 62.9693, 104.231 62.9693 Q 105.173 62.9693, 105.677 63.5393 Q 106.181 64.1093, 106.181 65.1293 Q 106.181 66.1613, 105.671 66.7493 Q 105.161 67.3313, 104.231 67.3313 Q 103.295 67.3313, 102.785 66.7493 Q 102.281 66.1673, 102.281 65.1293 M 104.231 66.8513 Q 104.879 66.8513, 105.227 66.4193 Q 105.581 65.9813, 105.581 65.1293 Q 105.581 64.2953, 105.227 63.8753 Q 104.879 63.4493, 104.231 63.4493 Q 103.583 63.4493, 103.229 63.8693 Q 102.881 64.2893, 102.881 65.1293 Q 102.881 65.9873, 103.229 66.4193 Q 103.583 66.8513, 104.231 66.8513 \" fill=\"#FF0000\"/>\n",
       "<path class=\"atom-20\" d=\"M 106.691 63.0173 L 107.267 63.0173 L 107.267 64.8233 L 109.439 64.8233 L 109.439 63.0173 L 110.015 63.0173 L 110.015 67.2653 L 109.439 67.2653 L 109.439 65.3033 L 107.267 65.3033 L 107.267 67.2653 L 106.691 67.2653 L 106.691 63.0173 \" fill=\"#FF0000\"/>\n",
       "<path class=\"atom-23\" d=\"M 123.154 52.6358 Q 123.154 51.6158, 123.658 51.0458 Q 124.162 50.4758, 125.104 50.4758 Q 126.046 50.4758, 126.55 51.0458 Q 127.054 51.6158, 127.054 52.6358 Q 127.054 53.6678, 126.544 54.2558 Q 126.034 54.8378, 125.104 54.8378 Q 124.168 54.8378, 123.658 54.2558 Q 123.154 53.6738, 123.154 52.6358 M 125.104 54.3578 Q 125.752 54.3578, 126.1 53.9258 Q 126.454 53.4878, 126.454 52.6358 Q 126.454 51.8018, 126.1 51.3818 Q 125.752 50.9558, 125.104 50.9558 Q 124.456 50.9558, 124.102 51.3758 Q 123.754 51.7958, 123.754 52.6358 Q 123.754 53.4938, 124.102 53.9258 Q 124.456 54.3578, 125.104 54.3578 \" fill=\"#FF0000\"/>\n",
       "<path class=\"atom-23\" d=\"M 127.564 50.5238 L 128.14 50.5238 L 128.14 52.3298 L 130.312 52.3298 L 130.312 50.5238 L 130.888 50.5238 L 130.888 54.7718 L 130.312 54.7718 L 130.312 52.8098 L 128.14 52.8098 L 128.14 54.7718 L 127.564 54.7718 L 127.564 50.5238 \" fill=\"#FF0000\"/>\n",
       "<path class=\"atom-24\" d=\"M 118.243 64.3046 L 118.819 64.3046 L 118.819 66.1106 L 120.991 66.1106 L 120.991 64.3046 L 121.567 64.3046 L 121.567 68.5526 L 120.991 68.5526 L 120.991 66.5906 L 118.819 66.5906 L 118.819 68.5526 L 118.243 68.5526 L 118.243 64.3046 \" fill=\"#0000FF\"/>\n",
       "<path class=\"atom-24\" d=\"M 122.737 64.3046 L 124.129 66.5546 Q 124.267 66.7766, 124.489 67.1786 Q 124.711 67.5806, 124.723 67.6046 L 124.723 64.3046 L 125.287 64.3046 L 125.287 68.5526 L 124.705 68.5526 L 123.211 66.0926 Q 123.037 65.8046, 122.851 65.4746 Q 122.671 65.1446, 122.617 65.0426 L 122.617 68.5526 L 122.065 68.5526 L 122.065 64.3046 L 122.737 64.3046 \" fill=\"#0000FF\"/>\n",
       "<path class=\"atom-30\" d=\"M 138.041 113.487 Q 138.089 113.505, 138.287 113.589 Q 138.485 113.673, 138.701 113.727 Q 138.923 113.775, 139.139 113.775 Q 139.541 113.775, 139.775 113.583 Q 140.009 113.385, 140.009 113.043 Q 140.009 112.809, 139.889 112.665 Q 139.775 112.521, 139.595 112.443 Q 139.415 112.365, 139.115 112.275 Q 138.737 112.161, 138.509 112.053 Q 138.287 111.945, 138.125 111.717 Q 137.969 111.489, 137.969 111.105 Q 137.969 110.571, 138.329 110.241 Q 138.695 109.911, 139.415 109.911 Q 139.907 109.911, 140.465 110.145 L 140.327 110.607 Q 139.817 110.397, 139.433 110.397 Q 139.019 110.397, 138.791 110.571 Q 138.563 110.739, 138.569 111.033 Q 138.569 111.261, 138.683 111.399 Q 138.803 111.537, 138.971 111.615 Q 139.145 111.693, 139.433 111.783 Q 139.817 111.903, 140.045 112.023 Q 140.273 112.143, 140.435 112.389 Q 140.603 112.629, 140.603 113.043 Q 140.603 113.631, 140.207 113.949 Q 139.817 114.261, 139.163 114.261 Q 138.785 114.261, 138.497 114.177 Q 138.215 114.099, 137.879 113.961 L 138.041 113.487 \" fill=\"#CCCC00\"/>\n",
       "<path class=\"atom-32\" d=\"M 150.027 114.214 Q 150.027 113.194, 150.531 112.624 Q 151.035 112.054, 151.977 112.054 Q 152.919 112.054, 153.423 112.624 Q 153.927 113.194, 153.927 114.214 Q 153.927 115.246, 153.417 115.834 Q 152.907 116.416, 151.977 116.416 Q 151.041 116.416, 150.531 115.834 Q 150.027 115.252, 150.027 114.214 M 151.977 115.936 Q 152.625 115.936, 152.973 115.504 Q 153.327 115.066, 153.327 114.214 Q 153.327 113.38, 152.973 112.96 Q 152.625 112.534, 151.977 112.534 Q 151.329 112.534, 150.975 112.954 Q 150.627 113.374, 150.627 114.214 Q 150.627 115.072, 150.975 115.504 Q 151.329 115.936, 151.977 115.936 \" fill=\"#FF0000\"/>\n",
       "<path class=\"atom-32\" d=\"M 154.437 112.102 L 155.013 112.102 L 155.013 113.908 L 157.185 113.908 L 157.185 112.102 L 157.761 112.102 L 157.761 116.35 L 157.185 116.35 L 157.185 114.388 L 155.013 114.388 L 155.013 116.35 L 154.437 116.35 L 154.437 112.102 \" fill=\"#FF0000\"/>\n",
       "<path class=\"atom-33\" d=\"M 128.44 120.922 L 129.016 120.922 L 129.016 122.728 L 131.188 122.728 L 131.188 120.922 L 131.764 120.922 L 131.764 125.17 L 131.188 125.17 L 131.188 123.208 L 129.016 123.208 L 129.016 125.17 L 128.44 125.17 L 128.44 120.922 \" fill=\"#FF0000\"/>\n",
       "<path class=\"atom-33\" d=\"M 132.064 123.034 Q 132.064 122.014, 132.568 121.444 Q 133.072 120.874, 134.014 120.874 Q 134.956 120.874, 135.46 121.444 Q 135.964 122.014, 135.964 123.034 Q 135.964 124.066, 135.454 124.654 Q 134.944 125.236, 134.014 125.236 Q 133.078 125.236, 132.568 124.654 Q 132.064 124.072, 132.064 123.034 M 134.014 124.756 Q 134.662 124.756, 135.01 124.324 Q 135.364 123.886, 135.364 123.034 Q 135.364 122.2, 135.01 121.78 Q 134.662 121.354, 134.014 121.354 Q 133.366 121.354, 133.012 121.774 Q 132.664 122.194, 132.664 123.034 Q 132.664 123.892, 133.012 124.324 Q 133.366 124.756, 134.014 124.756 \" fill=\"#FF0000\"/>\n",
       "<path d=\"M 31.4946 182.856 L 38.2306 182.856 L 38.2306 184.152 L 33.0146 184.152 L 33.0146 187.592 L 37.6546 187.592 L 37.6546 188.904 L 33.0146 188.904 L 33.0146 194.184 L 31.4946 194.184 L 31.4946 182.856 \" fill=\"#000000\"/>\n",
       "<path d=\"M 40.8066 185.96 L 40.9826 187.096 Q 41.8466 185.816, 43.2546 185.816 Q 43.7026 185.816, 44.3106 185.976 L 44.0706 187.32 Q 43.3826 187.16, 42.9986 187.16 Q 42.3266 187.16, 41.8786 187.432 Q 41.4466 187.688, 41.0946 188.312 L 41.0946 194.184 L 39.5906 194.184 L 39.5906 185.96 L 40.8066 185.96 \" fill=\"#000000\"/>\n",
       "<path d=\"M 45.0466 190.056 Q 45.0466 188.056, 46.0546 186.936 Q 47.0786 185.816, 48.9506 185.816 Q 50.8226 185.816, 51.8306 186.936 Q 52.8546 188.056, 52.8546 190.056 Q 52.8546 192.056, 51.8306 193.192 Q 50.8226 194.312, 48.9506 194.312 Q 47.0786 194.312, 46.0546 193.192 Q 45.0466 192.056, 45.0466 190.056 M 46.5826 190.056 Q 46.5826 191.56, 47.1906 192.344 Q 47.8146 193.128, 48.9506 193.128 Q 50.0866 193.128, 50.6946 192.344 Q 51.3186 191.56, 51.3186 190.056 Q 51.3186 188.552, 50.6946 187.784 Q 50.0866 187, 48.9506 187 Q 47.8146 187, 47.1906 187.784 Q 46.5826 188.552, 46.5826 190.056 \" fill=\"#000000\"/>\n",
       "<path d=\"M 63.6706 185.816 Q 65.0626 185.816, 65.7666 186.568 Q 66.4706 187.304, 66.4706 188.744 L 66.4706 194.184 L 64.9666 194.184 L 64.9666 188.856 Q 64.9666 187.88, 64.5826 187.448 Q 64.2146 187, 63.3826 187 Q 62.6626 187, 62.0386 187.352 Q 61.4306 187.688, 61.0626 188.296 Q 61.0786 188.44, 61.0786 188.744 L 61.0786 194.184 L 59.5746 194.184 L 59.5746 188.856 Q 59.5746 187.88, 59.1906 187.448 Q 58.8226 187, 57.9906 187 Q 57.2706 187, 56.6626 187.352 Q 56.0546 187.688, 55.6706 188.28 L 55.6706 194.184 L 54.1666 194.184 L 54.1666 185.96 L 55.3986 185.96 L 55.5586 187.08 Q 56.6306 185.816, 58.2786 185.816 Q 60.2146 185.816, 60.8226 187.256 Q 61.9106 185.816, 63.6706 185.816 \" fill=\"#000000\"/>\n",
       "<path d=\"\" fill=\"#000000\"/>\n",
       "<path d=\"M 75.1746 182.856 Q 77.1106 182.856, 78.0866 183.736 Q 79.0626 184.6, 79.0626 186.184 Q 79.0626 187.752, 78.0546 188.648 Q 77.0626 189.528, 75.1746 189.528 L 73.3666 189.528 L 73.3666 194.184 L 71.8306 194.184 L 71.8306 182.856 L 75.1746 182.856 M 75.1746 188.248 Q 76.2786 188.248, 76.8706 187.72 Q 77.4626 187.192, 77.4626 186.184 Q 77.4626 185.176, 76.8706 184.664 Q 76.2946 184.136, 75.1746 184.136 L 73.3666 184.136 L 73.3666 188.248 L 75.1746 188.248 \" fill=\"#000000\"/>\n",
       "<path d=\"M 84.0866 182.856 Q 86.5986 182.856, 87.9426 184.344 Q 89.2866 185.816, 89.2866 188.488 Q 89.2866 191.176, 87.9266 192.68 Q 86.5826 194.184, 84.0866 194.184 L 80.4226 194.184 L 80.4226 182.856 L 84.0866 182.856 M 84.0866 192.904 Q 85.8146 192.904, 86.7426 191.8 Q 87.6866 190.696, 87.6866 188.488 Q 87.6866 186.296, 86.7426 185.224 Q 85.8146 184.136, 84.0866 184.136 L 81.9586 184.136 L 81.9586 192.904 L 84.0866 192.904 \" fill=\"#000000\"/>\n",
       "<path d=\"M 96.1506 188.232 Q 97.2386 188.536, 97.7826 189.208 Q 98.3426 189.864, 98.3426 190.84 Q 98.3426 192.408, 97.3346 193.304 Q 96.3426 194.184, 94.4546 194.184 L 90.6466 194.184 L 90.6466 182.856 L 93.9906 182.856 Q 95.9266 182.856, 96.9026 183.64 Q 97.8786 184.424, 97.8786 185.864 Q 97.8786 187.576, 96.1506 188.232 M 92.1666 184.136 L 92.1666 187.688 L 93.9906 187.688 Q 95.1106 187.688, 95.6866 187.24 Q 96.2786 186.776, 96.2786 185.864 Q 96.2786 184.136, 93.9906 184.136 L 92.1666 184.136 M 94.4546 192.904 Q 95.5586 192.904, 96.1506 192.376 Q 96.7426 191.848, 96.7426 190.84 Q 96.7426 189.912, 96.0866 189.448 Q 95.4466 188.968, 94.2146 188.968 L 92.1666 188.968 L 92.1666 192.904 L 94.4546 192.904 \" fill=\"#000000\"/>\n",
       "<path d=\"\" fill=\"#000000\"/>\n",
       "<path d=\"M 103.751 182.808 L 105.271 182.808 L 105.271 194.184 L 103.751 194.184 L 103.751 182.808 \" fill=\"#000000\"/>\n",
       "<path d=\"M 110.295 182.856 Q 112.807 182.856, 114.151 184.344 Q 115.495 185.816, 115.495 188.488 Q 115.495 191.176, 114.135 192.68 Q 112.791 194.184, 110.295 194.184 L 106.631 194.184 L 106.631 182.856 L 110.295 182.856 M 110.295 192.904 Q 112.023 192.904, 112.951 191.8 Q 113.895 190.696, 113.895 188.488 Q 113.895 186.296, 112.951 185.224 Q 112.023 184.136, 110.295 184.136 L 108.167 184.136 L 108.167 192.904 L 110.295 192.904 \" fill=\"#000000\"/>\n",
       "<path d=\"M 116.695 192.312 L 118.295 192.312 L 118.295 193.912 L 116.695 193.912 L 116.695 192.312 M 116.695 186.808 L 118.295 186.808 L 118.295 188.408 L 116.695 188.408 L 116.695 186.808 \" fill=\"#000000\"/>\n",
       "<path d=\"\" fill=\"#000000\"/>\n",
       "<path d=\"M 127.143 187.096 Q 128.135 187.096, 128.951 187.528 Q 129.767 187.944, 130.231 188.744 Q 130.695 189.528, 130.695 190.6 Q 130.695 191.768, 130.119 192.616 Q 129.559 193.448, 128.631 193.88 Q 127.703 194.312, 126.647 194.312 Q 125.607 194.312, 124.647 193.928 Q 123.687 193.544, 123.031 192.808 L 123.991 191.816 Q 124.519 192.392, 125.239 192.712 Q 125.959 193.016, 126.695 193.016 Q 127.703 193.016, 128.391 192.392 Q 129.095 191.768, 129.095 190.632 Q 129.095 189.432, 128.391 188.872 Q 127.703 188.296, 126.599 188.296 Q 125.607 188.296, 124.503 188.728 L 123.623 188.312 L 124.167 182.856 L 129.991 182.856 L 129.831 184.136 L 125.479 184.136 L 125.143 187.496 Q 126.151 187.096, 127.143 187.096 \" fill=\"#000000\"/>\n",
       "<path d=\"M 139.239 194.184 L 138.055 190.856 L 133.559 190.856 L 132.423 194.184 L 130.887 194.184 L 134.791 182.856 L 136.679 182.856 L 140.727 194.184 L 139.239 194.184 M 134.007 189.576 L 137.591 189.576 L 135.767 184.44 L 134.007 189.576 \" fill=\"#000000\"/>\n",
       "<path d=\"M 147.591 188.232 Q 148.679 188.536, 149.223 189.208 Q 149.783 189.864, 149.783 190.84 Q 149.783 192.408, 148.775 193.304 Q 147.783 194.184, 145.895 194.184 L 142.087 194.184 L 142.087 182.856 L 145.431 182.856 Q 147.367 182.856, 148.343 183.64 Q 149.319 184.424, 149.319 185.864 Q 149.319 187.576, 147.591 188.232 M 143.607 184.136 L 143.607 187.688 L 145.431 187.688 Q 146.551 187.688, 147.127 187.24 Q 147.719 186.776, 147.719 185.864 Q 147.719 184.136, 145.431 184.136 L 143.607 184.136 M 145.895 192.904 Q 146.999 192.904, 147.591 192.376 Q 148.183 191.848, 148.183 190.84 Q 148.183 189.912, 147.527 189.448 Q 146.887 188.968, 145.655 188.968 L 143.607 188.968 L 143.607 192.904 L 145.895 192.904 \" fill=\"#000000\"/>\n",
       "<path d=\"M 164.327 182.872 L 165.863 182.872 L 162.839 194.184 L 160.519 194.184 L 158.055 184.744 L 155.575 194.184 L 153.255 194.184 L 150.231 182.872 L 151.783 182.872 L 154.439 192.776 L 157.047 182.872 L 159.047 182.872 L 161.655 192.808 L 164.327 182.872 \" fill=\"#000000\"/>\n",
       "<path class=\"bond-0\" d=\"M 366.321,156.668 L 375.842,163.997\" style=\"fill:none;fill-rule:evenodd;stroke:#000000;stroke-width:2.0px;stroke-linecap:butt;stroke-linejoin:miter;stroke-opacity:1\"/>\n",
       "<path class=\"bond-1\" d=\"M 366.321,156.668 L 368.341,152.376\" style=\"fill:none;fill-rule:evenodd;stroke:#000000;stroke-width:2.0px;stroke-linecap:butt;stroke-linejoin:miter;stroke-opacity:1\"/>\n",
       "<path class=\"bond-1\" d=\"M 368.341,152.376 L 370.361,148.084\" style=\"fill:none;fill-rule:evenodd;stroke:#0000FF;stroke-width:2.0px;stroke-linecap:butt;stroke-linejoin:miter;stroke-opacity:1\"/>\n",
       "<path class=\"bond-2\" d=\"M 375.842,163.997 L 376.817,162.145\" style=\"fill:none;fill-rule:evenodd;stroke:#000000;stroke-width:2.0px;stroke-linecap:butt;stroke-linejoin:miter;stroke-opacity:1\"/>\n",
       "<path class=\"bond-2\" d=\"M 376.817,162.145 L 377.792,160.293\" style=\"fill:none;fill-rule:evenodd;stroke:#FF0000;stroke-width:2.0px;stroke-linecap:butt;stroke-linejoin:miter;stroke-opacity:1\"/>\n",
       "<path class=\"bond-3\" d=\"M 390.293,162.048 L 385.796,160.392\" style=\"fill:none;fill-rule:evenodd;stroke:#000000;stroke-width:2.0px;stroke-linecap:butt;stroke-linejoin:miter;stroke-opacity:1\"/>\n",
       "<path class=\"bond-3\" d=\"M 385.796,160.392 L 381.298,158.735\" style=\"fill:none;fill-rule:evenodd;stroke:#FF0000;stroke-width:2.0px;stroke-linecap:butt;stroke-linejoin:miter;stroke-opacity:1\"/>\n",
       "<path class=\"bond-4\" d=\"M 390.293,162.048 L 392.638,155.635\" style=\"fill:none;fill-rule:evenodd;stroke:#000000;stroke-width:2.0px;stroke-linecap:butt;stroke-linejoin:miter;stroke-opacity:1\"/>\n",
       "<path class=\"bond-5\" d=\"M 392.638,155.635 L 392.702,150.673\" style=\"fill:none;fill-rule:evenodd;stroke:#000000;stroke-width:2.0px;stroke-linecap:butt;stroke-linejoin:miter;stroke-opacity:1\"/>\n",
       "<path class=\"bond-5\" d=\"M 392.702,150.673 L 392.766,145.711\" style=\"fill:none;fill-rule:evenodd;stroke:#FF0000;stroke-width:2.0px;stroke-linecap:butt;stroke-linejoin:miter;stroke-opacity:1\"/>\n",
       "<path class=\"bond-6\" d=\"M 397.47,136.019 L 396.383,122.6\" style=\"fill:none;fill-rule:evenodd;stroke:#000000;stroke-width:2.0px;stroke-linecap:butt;stroke-linejoin:miter;stroke-opacity:1\"/>\n",
       "<path class=\"bond-7\" d=\"M 397.47,136.019 L 395.904,138.421\" style=\"fill:none;fill-rule:evenodd;stroke:#000000;stroke-width:2.0px;stroke-linecap:butt;stroke-linejoin:miter;stroke-opacity:1\"/>\n",
       "<path class=\"bond-7\" d=\"M 395.904,138.421 L 394.338,140.824\" style=\"fill:none;fill-rule:evenodd;stroke:#FF0000;stroke-width:2.0px;stroke-linecap:butt;stroke-linejoin:miter;stroke-opacity:1\"/>\n",
       "<path class=\"bond-8\" d=\"M 396.383,122.6 L 391.469,120.922\" style=\"fill:none;fill-rule:evenodd;stroke:#000000;stroke-width:2.0px;stroke-linecap:butt;stroke-linejoin:miter;stroke-opacity:1\"/>\n",
       "<path class=\"bond-8\" d=\"M 391.469,120.922 L 386.554,119.244\" style=\"fill:none;fill-rule:evenodd;stroke:#FF0000;stroke-width:2.0px;stroke-linecap:butt;stroke-linejoin:miter;stroke-opacity:1\"/>\n",
       "<path class=\"bond-9\" d=\"M 377.656,117.651 L 378.887,105.499\" style=\"fill:none;fill-rule:evenodd;stroke:#000000;stroke-width:2.0px;stroke-linecap:butt;stroke-linejoin:miter;stroke-opacity:1\"/>\n",
       "<path class=\"bond-10\" d=\"M 377.656,117.651 L 379.912,117.929\" style=\"fill:none;fill-rule:evenodd;stroke:#000000;stroke-width:2.0px;stroke-linecap:butt;stroke-linejoin:miter;stroke-opacity:1\"/>\n",
       "<path class=\"bond-10\" d=\"M 379.912,117.929 L 382.168,118.207\" style=\"fill:none;fill-rule:evenodd;stroke:#FF0000;stroke-width:2.0px;stroke-linecap:butt;stroke-linejoin:miter;stroke-opacity:1\"/>\n",
       "<path class=\"bond-11\" d=\"M 378.887,105.499 L 376.991,102.527\" style=\"fill:none;fill-rule:evenodd;stroke:#000000;stroke-width:2.0px;stroke-linecap:butt;stroke-linejoin:miter;stroke-opacity:1\"/>\n",
       "<path class=\"bond-11\" d=\"M 376.991,102.527 L 375.096,99.5554\" style=\"fill:none;fill-rule:evenodd;stroke:#FF0000;stroke-width:2.0px;stroke-linecap:butt;stroke-linejoin:miter;stroke-opacity:1\"/>\n",
       "<path class=\"bond-12\" d=\"M 376.075,85.2093 L 370.39,76.9642\" style=\"fill:none;fill-rule:evenodd;stroke:#000000;stroke-width:2.0px;stroke-linecap:butt;stroke-linejoin:miter;stroke-opacity:1\"/>\n",
       "<path class=\"bond-13\" d=\"M 376.075,85.2093 L 375.063,89.9248\" style=\"fill:none;fill-rule:evenodd;stroke:#000000;stroke-width:2.0px;stroke-linecap:butt;stroke-linejoin:miter;stroke-opacity:1\"/>\n",
       "<path class=\"bond-13\" d=\"M 375.063,89.9248 L 374.051,94.6403\" style=\"fill:none;fill-rule:evenodd;stroke:#FF0000;stroke-width:2.0px;stroke-linecap:butt;stroke-linejoin:miter;stroke-opacity:1\"/>\n",
       "<path class=\"bond-14\" d=\"M 370.39,76.9642 L 358.894,78.0065\" style=\"fill:none;fill-rule:evenodd;stroke:#000000;stroke-width:2.0px;stroke-linecap:butt;stroke-linejoin:miter;stroke-opacity:1\"/>\n",
       "<path class=\"bond-15\" d=\"M 355.152,77.9564 L 354.527,77.8752\" style=\"fill:none;fill-rule:evenodd;stroke:#000000;stroke-width:2.0px;stroke-linecap:butt;stroke-linejoin:miter;stroke-opacity:1\"/>\n",
       "<path class=\"bond-15\" d=\"M 354.527,77.8752 L 353.902,77.7941\" style=\"fill:none;fill-rule:evenodd;stroke:#FF0000;stroke-width:2.0px;stroke-linecap:butt;stroke-linejoin:miter;stroke-opacity:1\"/>\n",
       "<path class=\"atom-3\" d=\"M 377.098 157.919 Q 377.098 156.899, 377.602 156.329 Q 378.106 155.759, 379.048 155.759 Q 379.99 155.759, 380.494 156.329 Q 380.998 156.899, 380.998 157.919 Q 380.998 158.951, 380.488 159.539 Q 379.978 160.121, 379.048 160.121 Q 378.112 160.121, 377.602 159.539 Q 377.098 158.957, 377.098 157.919 M 379.048 159.641 Q 379.696 159.641, 380.044 159.209 Q 380.398 158.771, 380.398 157.919 Q 380.398 157.085, 380.044 156.665 Q 379.696 156.239, 379.048 156.239 Q 378.4 156.239, 378.046 156.659 Q 377.698 157.079, 377.698 157.919 Q 377.698 158.777, 378.046 159.209 Q 378.4 159.641, 379.048 159.641 \" fill=\"#FF0000\"/>\n",
       "<path class=\"atom-8\" d=\"M 390.849 143.198 Q 390.849 142.178, 391.353 141.608 Q 391.857 141.038, 392.799 141.038 Q 393.741 141.038, 394.245 141.608 Q 394.749 142.178, 394.749 143.198 Q 394.749 144.23, 394.239 144.818 Q 393.729 145.4, 392.799 145.4 Q 391.863 145.4, 391.353 144.818 Q 390.849 144.236, 390.849 143.198 M 392.799 144.92 Q 393.447 144.92, 393.795 144.488 Q 394.149 144.05, 394.149 143.198 Q 394.149 142.364, 393.795 141.944 Q 393.447 141.518, 392.799 141.518 Q 392.151 141.518, 391.797 141.938 Q 391.449 142.358, 391.449 143.198 Q 391.449 144.056, 391.797 144.488 Q 392.151 144.92, 392.799 144.92 \" fill=\"#FF0000\"/>\n",
       "<path class=\"atom-12\" d=\"M 355.279 78.2037 Q 355.279 77.1477, 355.771 76.5957 Q 356.269 76.0377, 357.211 76.0377 Q 358.087 76.0377, 358.555 76.6557 L 358.159 76.9797 Q 357.817 76.5297, 357.211 76.5297 Q 356.569 76.5297, 356.227 76.9617 Q 355.891 77.3877, 355.891 78.2037 Q 355.891 79.0437, 356.239 79.4757 Q 356.593 79.9077, 357.277 79.9077 Q 357.745 79.9077, 358.291 79.6257 L 358.459 80.0757 Q 358.237 80.2197, 357.901 80.3037 Q 357.565 80.3877, 357.193 80.3877 Q 356.269 80.3877, 355.771 79.8237 Q 355.279 79.2597, 355.279 78.2037 \" fill=\"#000000\"/>\n",
       "<path class=\"atom-13\" d=\"M 370.565 143.532 L 371.957 145.782 Q 372.095 146.004, 372.317 146.406 Q 372.539 146.808, 372.551 146.832 L 372.551 143.532 L 373.115 143.532 L 373.115 147.78 L 372.533 147.78 L 371.039 145.32 Q 370.865 145.032, 370.679 144.702 Q 370.499 144.372, 370.445 144.27 L 370.445 147.78 L 369.893 147.78 L 369.893 143.532 L 370.565 143.532 \" fill=\"#0000FF\"/>\n",
       "<path class=\"atom-13\" d=\"M 373.625 143.532 L 374.201 143.532 L 374.201 145.338 L 376.373 145.338 L 376.373 143.532 L 376.949 143.532 L 376.949 147.78 L 376.373 147.78 L 376.373 145.818 L 374.201 145.818 L 374.201 147.78 L 373.625 147.78 L 373.625 143.532 \" fill=\"#0000FF\"/>\n",
       "<path class=\"atom-13\" d=\"M 377.155 147.631 Q 377.258 147.366, 377.503 147.219 Q 377.749 147.069, 378.089 147.069 Q 378.513 147.069, 378.75 147.298 Q 378.988 147.528, 378.988 147.936 Q 378.988 148.352, 378.679 148.74 Q 378.374 149.128, 377.741 149.587 L 379.036 149.587 L 379.036 149.904 L 377.147 149.904 L 377.147 149.639 Q 377.669 149.267, 377.978 148.989 Q 378.291 148.712, 378.442 148.463 Q 378.592 148.213, 378.592 147.956 Q 378.592 147.686, 378.457 147.536 Q 378.323 147.386, 378.089 147.386 Q 377.863 147.386, 377.713 147.477 Q 377.562 147.568, 377.456 147.77 L 377.155 147.631 \" fill=\"#0000FF\"/>\n",
       "<path class=\"atom-14\" d=\"M 382.335 118.481 Q 382.335 117.461, 382.839 116.891 Q 383.343 116.321, 384.285 116.321 Q 385.227 116.321, 385.731 116.891 Q 386.235 117.461, 386.235 118.481 Q 386.235 119.513, 385.725 120.101 Q 385.215 120.683, 384.285 120.683 Q 383.349 120.683, 382.839 120.101 Q 382.335 119.519, 382.335 118.481 M 384.285 120.203 Q 384.933 120.203, 385.281 119.771 Q 385.635 119.333, 385.635 118.481 Q 385.635 117.647, 385.281 117.227 Q 384.933 116.801, 384.285 116.801 Q 383.637 116.801, 383.283 117.221 Q 382.935 117.641, 382.935 118.481 Q 382.935 119.339, 383.283 119.771 Q 383.637 120.203, 384.285 120.203 \" fill=\"#FF0000\"/>\n",
       "<path class=\"atom-15\" d=\"M 371.575 97.1041 Q 371.575 96.0841, 372.079 95.5141 Q 372.583 94.9441, 373.525 94.9441 Q 374.467 94.9441, 374.971 95.5141 Q 375.475 96.0841, 375.475 97.1041 Q 375.475 98.1361, 374.965 98.7241 Q 374.455 99.3061, 373.525 99.3061 Q 372.589 99.3061, 372.079 98.7241 Q 371.575 98.1421, 371.575 97.1041 M 373.525 98.8261 Q 374.173 98.8261, 374.521 98.3941 Q 374.875 97.9561, 374.875 97.1041 Q 374.875 96.2701, 374.521 95.8501 Q 374.173 95.4241, 373.525 95.4241 Q 372.877 95.4241, 372.523 95.8441 Q 372.175 96.2641, 372.175 97.1041 Q 372.175 97.9621, 372.523 98.3941 Q 372.877 98.8261, 373.525 98.8261 \" fill=\"#FF0000\"/>\n",
       "<path class=\"atom-16\" d=\"M 346.296 75.43 L 346.872 75.43 L 346.872 77.236 L 349.044 77.236 L 349.044 75.43 L 349.62 75.43 L 349.62 79.678 L 349.044 79.678 L 349.044 77.716 L 346.872 77.716 L 346.872 79.678 L 346.296 79.678 L 346.296 75.43 \" fill=\"#FF0000\"/>\n",
       "<path class=\"atom-16\" d=\"M 349.92 77.542 Q 349.92 76.522, 350.424 75.952 Q 350.928 75.382, 351.87 75.382 Q 352.812 75.382, 353.316 75.952 Q 353.82 76.522, 353.82 77.542 Q 353.82 78.574, 353.31 79.162 Q 352.8 79.744, 351.87 79.744 Q 350.934 79.744, 350.424 79.162 Q 349.92 78.58, 349.92 77.542 M 351.87 79.264 Q 352.518 79.264, 352.866 78.832 Q 353.22 78.394, 353.22 77.542 Q 353.22 76.708, 352.866 76.288 Q 352.518 75.862, 351.87 75.862 Q 351.222 75.862, 350.868 76.282 Q 350.52 76.702, 350.52 77.542 Q 350.52 78.4, 350.868 78.832 Q 351.222 79.264, 351.87 79.264 \" fill=\"#FF0000\"/>\n",
       "<path d=\"M 229.812 182.856 L 236.548 182.856 L 236.548 184.152 L 231.332 184.152 L 231.332 187.592 L 235.972 187.592 L 235.972 188.904 L 231.332 188.904 L 231.332 194.184 L 229.812 194.184 L 229.812 182.856 \" fill=\"#000000\"/>\n",
       "<path d=\"M 239.124 185.96 L 239.3 187.096 Q 240.164 185.816, 241.572 185.816 Q 242.02 185.816, 242.628 185.976 L 242.388 187.32 Q 241.7 187.16, 241.316 187.16 Q 240.644 187.16, 240.196 187.432 Q 239.764 187.688, 239.412 188.312 L 239.412 194.184 L 237.908 194.184 L 237.908 185.96 L 239.124 185.96 \" fill=\"#000000\"/>\n",
       "<path d=\"M 243.364 190.056 Q 243.364 188.056, 244.372 186.936 Q 245.396 185.816, 247.268 185.816 Q 249.14 185.816, 250.148 186.936 Q 251.172 188.056, 251.172 190.056 Q 251.172 192.056, 250.148 193.192 Q 249.14 194.312, 247.268 194.312 Q 245.396 194.312, 244.372 193.192 Q 243.364 192.056, 243.364 190.056 M 244.9 190.056 Q 244.9 191.56, 245.508 192.344 Q 246.132 193.128, 247.268 193.128 Q 248.404 193.128, 249.012 192.344 Q 249.636 191.56, 249.636 190.056 Q 249.636 188.552, 249.012 187.784 Q 248.404 187, 247.268 187 Q 246.132 187, 245.508 187.784 Q 244.9 188.552, 244.9 190.056 \" fill=\"#000000\"/>\n",
       "<path d=\"M 261.988 185.816 Q 263.38 185.816, 264.084 186.568 Q 264.788 187.304, 264.788 188.744 L 264.788 194.184 L 263.284 194.184 L 263.284 188.856 Q 263.284 187.88, 262.9 187.448 Q 262.532 187, 261.7 187 Q 260.98 187, 260.356 187.352 Q 259.748 187.688, 259.38 188.296 Q 259.396 188.44, 259.396 188.744 L 259.396 194.184 L 257.892 194.184 L 257.892 188.856 Q 257.892 187.88, 257.508 187.448 Q 257.14 187, 256.308 187 Q 255.588 187, 254.98 187.352 Q 254.372 187.688, 253.988 188.28 L 253.988 194.184 L 252.484 194.184 L 252.484 185.96 L 253.716 185.96 L 253.876 187.08 Q 254.948 185.816, 256.596 185.816 Q 258.532 185.816, 259.14 187.256 Q 260.228 185.816, 261.988 185.816 \" fill=\"#000000\"/>\n",
       "<path d=\"\" fill=\"#000000\"/>\n",
       "<path d=\"M 273.492 182.856 Q 275.428 182.856, 276.404 183.736 Q 277.38 184.6, 277.38 186.184 Q 277.38 187.752, 276.372 188.648 Q 275.38 189.528, 273.492 189.528 L 271.684 189.528 L 271.684 194.184 L 270.148 194.184 L 270.148 182.856 L 273.492 182.856 M 273.492 188.248 Q 274.596 188.248, 275.188 187.72 Q 275.78 187.192, 275.78 186.184 Q 275.78 185.176, 275.188 184.664 Q 274.612 184.136, 273.492 184.136 L 271.684 184.136 L 271.684 188.248 L 273.492 188.248 \" fill=\"#000000\"/>\n",
       "<path d=\"M 282.404 182.856 Q 284.916 182.856, 286.26 184.344 Q 287.604 185.816, 287.604 188.488 Q 287.604 191.176, 286.244 192.68 Q 284.9 194.184, 282.404 194.184 L 278.74 194.184 L 278.74 182.856 L 282.404 182.856 M 282.404 192.904 Q 284.132 192.904, 285.06 191.8 Q 286.004 190.696, 286.004 188.488 Q 286.004 186.296, 285.06 185.224 Q 284.132 184.136, 282.404 184.136 L 280.276 184.136 L 280.276 192.904 L 282.404 192.904 \" fill=\"#000000\"/>\n",
       "<path d=\"M 294.468 188.232 Q 295.556 188.536, 296.1 189.208 Q 296.66 189.864, 296.66 190.84 Q 296.66 192.408, 295.652 193.304 Q 294.66 194.184, 292.772 194.184 L 288.964 194.184 L 288.964 182.856 L 292.308 182.856 Q 294.244 182.856, 295.22 183.64 Q 296.196 184.424, 296.196 185.864 Q 296.196 187.576, 294.468 188.232 M 290.484 184.136 L 290.484 187.688 L 292.308 187.688 Q 293.428 187.688, 294.004 187.24 Q 294.596 186.776, 294.596 185.864 Q 294.596 184.136, 292.308 184.136 L 290.484 184.136 M 292.772 192.904 Q 293.876 192.904, 294.468 192.376 Q 295.06 191.848, 295.06 190.84 Q 295.06 189.912, 294.404 189.448 Q 293.764 188.968, 292.532 188.968 L 290.484 188.968 L 290.484 192.904 L 292.772 192.904 \" fill=\"#000000\"/>\n",
       "<path d=\"\" fill=\"#000000\"/>\n",
       "<path d=\"M 302.068 182.808 L 303.588 182.808 L 303.588 194.184 L 302.068 194.184 L 302.068 182.808 \" fill=\"#000000\"/>\n",
       "<path d=\"M 308.612 182.856 Q 311.124 182.856, 312.468 184.344 Q 313.812 185.816, 313.812 188.488 Q 313.812 191.176, 312.452 192.68 Q 311.108 194.184, 308.612 194.184 L 304.948 194.184 L 304.948 182.856 L 308.612 182.856 M 308.612 192.904 Q 310.34 192.904, 311.268 191.8 Q 312.212 190.696, 312.212 188.488 Q 312.212 186.296, 311.268 185.224 Q 310.34 184.136, 308.612 184.136 L 306.484 184.136 L 306.484 192.904 L 308.612 192.904 \" fill=\"#000000\"/>\n",
       "<path d=\"M 315.012 192.312 L 316.612 192.312 L 316.612 193.912 L 315.012 193.912 L 315.012 192.312 M 315.012 186.808 L 316.612 186.808 L 316.612 188.408 L 315.012 188.408 L 315.012 186.808 \" fill=\"#000000\"/>\n",
       "<path d=\"\" fill=\"#000000\"/>\n",
       "<path d=\"M 328.452 190.296 L 329.812 190.296 L 329.812 191.576 L 328.452 191.576 L 328.452 194.184 L 326.948 194.184 L 326.948 191.576 L 321.092 191.576 L 321.092 190.568 L 326.052 182.856 L 328.452 182.856 L 328.452 190.296 M 322.948 190.296 L 326.948 190.296 L 326.948 183.88 L 322.948 190.296 \" fill=\"#000000\"/>\n",
       "<path d=\"M 344.356 182.872 L 345.892 182.872 L 342.868 194.184 L 340.548 194.184 L 338.084 184.744 L 335.604 194.184 L 333.284 194.184 L 330.26 182.872 L 331.812 182.872 L 334.468 192.776 L 337.076 182.872 L 339.076 182.872 L 341.684 192.808 L 344.356 182.872 \" fill=\"#000000\"/>\n",
       "<path d=\"M 354.18 182.856 L 355.668 182.856 L 351.812 194.184 L 349.924 194.184 L 346.212 182.856 L 347.748 182.856 L 350.9 192.52 L 354.18 182.856 \" fill=\"#000000\"/>\n",
       "<path d=\"M 360.372 182.856 Q 362.308 182.856, 363.284 183.736 Q 364.26 184.6, 364.26 186.184 Q 364.26 187.752, 363.252 188.648 Q 362.26 189.528, 360.372 189.528 L 358.564 189.528 L 358.564 194.184 L 357.028 194.184 L 357.028 182.856 L 360.372 182.856 M 360.372 188.248 Q 361.476 188.248, 362.068 187.72 Q 362.66 187.192, 362.66 186.184 Q 362.66 185.176, 362.068 184.664 Q 361.492 184.136, 360.372 184.136 L 358.564 184.136 L 358.564 188.248 L 360.372 188.248 \" fill=\"#000000\"/>\n",
       "<path class=\"bond-0\" d=\"M 451.878,73.6699 L 454.644,74.0192\" style=\"fill:none;fill-rule:evenodd;stroke:#33CCCC;stroke-width:2.0px;stroke-linecap:butt;stroke-linejoin:miter;stroke-opacity:1\"/>\n",
       "<path class=\"bond-0\" d=\"M 454.644,74.0192 L 457.409,74.3685\" style=\"fill:none;fill-rule:evenodd;stroke:#000000;stroke-width:2.0px;stroke-linecap:butt;stroke-linejoin:miter;stroke-opacity:1\"/>\n",
       "<path class=\"bond-1\" d=\"M 457.409,74.3685 L 458.922,78.7497\" style=\"fill:none;fill-rule:evenodd;stroke:#000000;stroke-width:2.0px;stroke-linecap:butt;stroke-linejoin:miter;stroke-opacity:1\"/>\n",
       "<path class=\"bond-1\" d=\"M 458.922,78.7497 L 460.436,83.1309\" style=\"fill:none;fill-rule:evenodd;stroke:#33CCCC;stroke-width:2.0px;stroke-linecap:butt;stroke-linejoin:miter;stroke-opacity:1\"/>\n",
       "<path class=\"bond-2\" d=\"M 457.409,74.3685 L 454.864,73.367\" style=\"fill:none;fill-rule:evenodd;stroke:#000000;stroke-width:2.0px;stroke-linecap:butt;stroke-linejoin:miter;stroke-opacity:1\"/>\n",
       "<path class=\"bond-2\" d=\"M 454.864,73.367 L 452.318,72.3656\" style=\"fill:none;fill-rule:evenodd;stroke:#33CCCC;stroke-width:2.0px;stroke-linecap:butt;stroke-linejoin:miter;stroke-opacity:1\"/>\n",
       "<path class=\"bond-3\" d=\"M 457.409,74.3685 L 468.322,66.0963\" style=\"fill:none;fill-rule:evenodd;stroke:#000000;stroke-width:2.0px;stroke-linecap:butt;stroke-linejoin:miter;stroke-opacity:1\"/>\n",
       "<path class=\"bond-4\" d=\"M 468.322,66.0963 L 471.696,64.4504\" style=\"fill:none;fill-rule:evenodd;stroke:#000000;stroke-width:2.0px;stroke-linecap:butt;stroke-linejoin:miter;stroke-opacity:1\"/>\n",
       "<path class=\"bond-5\" d=\"M 468.322,66.0963 L 471.369,62.9595\" style=\"fill:none;fill-rule:evenodd;stroke:#000000;stroke-width:2.0px;stroke-linecap:butt;stroke-linejoin:miter;stroke-opacity:1\"/>\n",
       "<path class=\"bond-6\" d=\"M 475.428,62.1744 L 481.736,57.625\" style=\"fill:none;fill-rule:evenodd;stroke:#000000;stroke-width:2.0px;stroke-linecap:butt;stroke-linejoin:miter;stroke-opacity:1\"/>\n",
       "<path class=\"bond-7\" d=\"M 485.439,54.5274 L 488.648,51.4562\" style=\"fill:none;fill-rule:evenodd;stroke:#000000;stroke-width:2.0px;stroke-linecap:butt;stroke-linejoin:miter;stroke-opacity:1\"/>\n",
       "<path class=\"bond-8\" d=\"M 488.648,51.4562 L 483.456,53.7106\" style=\"fill:none;fill-rule:evenodd;stroke:#000000;stroke-width:2.0px;stroke-linecap:butt;stroke-linejoin:miter;stroke-opacity:1\"/>\n",
       "<path class=\"bond-9\" d=\"M 475.135,59.6893 L 483.456,53.7106\" style=\"fill:none;fill-rule:evenodd;stroke:#000000;stroke-width:2.0px;stroke-linecap:butt;stroke-linejoin:miter;stroke-opacity:1\"/>\n",
       "<path class=\"bond-10\" d=\"M 483.456,53.7106 L 485.009,52.0693\" style=\"fill:none;fill-rule:evenodd;stroke:#000000;stroke-width:2.0px;stroke-linecap:butt;stroke-linejoin:miter;stroke-opacity:1\"/>\n",
       "<path class=\"bond-10\" d=\"M 485.009,52.0693 L 486.562,50.428\" style=\"fill:none;fill-rule:evenodd;stroke:#0000FF;stroke-width:2.0px;stroke-linecap:butt;stroke-linejoin:miter;stroke-opacity:1\"/>\n",
       "<path class=\"bond-11\" d=\"M 490.242,49.6234 L 494.142,51.8646\" style=\"fill:none;fill-rule:evenodd;stroke:#0000FF;stroke-width:2.0px;stroke-linecap:butt;stroke-linejoin:miter;stroke-opacity:1\"/>\n",
       "<path class=\"bond-11\" d=\"M 494.142,51.8646 L 498.042,54.1058\" style=\"fill:none;fill-rule:evenodd;stroke:#000000;stroke-width:2.0px;stroke-linecap:butt;stroke-linejoin:miter;stroke-opacity:1\"/>\n",
       "<path class=\"bond-12\" d=\"M 487.409,46.1284 L 485.805,42.0291\" style=\"fill:none;fill-rule:evenodd;stroke:#0000FF;stroke-width:2.0px;stroke-linecap:butt;stroke-linejoin:miter;stroke-opacity:1\"/>\n",
       "<path class=\"bond-12\" d=\"M 485.805,42.0291 L 484.202,37.9298\" style=\"fill:none;fill-rule:evenodd;stroke:#000000;stroke-width:2.0px;stroke-linecap:butt;stroke-linejoin:miter;stroke-opacity:1\"/>\n",
       "<path class=\"bond-13\" d=\"M 498.042,54.1058 L 499.5,57.3559\" style=\"fill:none;fill-rule:evenodd;stroke:#000000;stroke-width:2.0px;stroke-linecap:butt;stroke-linejoin:miter;stroke-opacity:1\"/>\n",
       "<path class=\"bond-13\" d=\"M 499.5,57.3559 L 500.958,60.606\" style=\"fill:none;fill-rule:evenodd;stroke:#FF0000;stroke-width:2.0px;stroke-linecap:butt;stroke-linejoin:miter;stroke-opacity:1\"/>\n",
       "<path class=\"bond-14\" d=\"M 498.042,54.1058 L 499.691,52.7138\" style=\"fill:none;fill-rule:evenodd;stroke:#000000;stroke-width:2.0px;stroke-linecap:butt;stroke-linejoin:miter;stroke-opacity:1\"/>\n",
       "<path class=\"bond-14\" d=\"M 499.691,52.7138 L 501.34,51.3218\" style=\"fill:none;fill-rule:evenodd;stroke:#0000FF;stroke-width:2.0px;stroke-linecap:butt;stroke-linejoin:miter;stroke-opacity:1\"/>\n",
       "<path class=\"bond-15\" d=\"M 484.202,37.9298 L 475.588,30.5917\" style=\"fill:none;fill-rule:evenodd;stroke:#000000;stroke-width:2.0px;stroke-linecap:butt;stroke-linejoin:miter;stroke-opacity:1\"/>\n",
       "<path class=\"bond-16\" d=\"M 484.202,37.9298 L 487.803,34.1215\" style=\"fill:none;fill-rule:evenodd;stroke:#000000;stroke-width:2.0px;stroke-linecap:butt;stroke-linejoin:miter;stroke-opacity:1\"/>\n",
       "<path class=\"bond-17\" d=\"M 487.803,34.1215 L 483.977,22.6968\" style=\"fill:none;fill-rule:evenodd;stroke:#000000;stroke-width:2.0px;stroke-linecap:butt;stroke-linejoin:miter;stroke-opacity:1\"/>\n",
       "<path class=\"bond-18\" d=\"M 487.803,34.1215 L 496.309,41.747\" style=\"fill:none;fill-rule:evenodd;stroke:#000000;stroke-width:2.0px;stroke-linecap:butt;stroke-linejoin:miter;stroke-opacity:1\"/>\n",
       "<path class=\"bond-19\" d=\"M 483.977,22.6968 L 482.129,20.0198\" style=\"fill:none;fill-rule:evenodd;stroke:#000000;stroke-width:2.0px;stroke-linecap:butt;stroke-linejoin:miter;stroke-opacity:1\"/>\n",
       "<path class=\"bond-19\" d=\"M 482.129,20.0198 L 480.28,17.3429\" style=\"fill:none;fill-rule:evenodd;stroke:#FF0000;stroke-width:2.0px;stroke-linecap:butt;stroke-linejoin:miter;stroke-opacity:1\"/>\n",
       "<path class=\"bond-20\" d=\"M 483.977,22.6968 L 486.941,20.7209\" style=\"fill:none;fill-rule:evenodd;stroke:#000000;stroke-width:2.0px;stroke-linecap:butt;stroke-linejoin:miter;stroke-opacity:1\"/>\n",
       "<path class=\"bond-21\" d=\"M 496.309,41.747 L 498.776,44.6723\" style=\"fill:none;fill-rule:evenodd;stroke:#000000;stroke-width:2.0px;stroke-linecap:butt;stroke-linejoin:miter;stroke-opacity:1\"/>\n",
       "<path class=\"bond-21\" d=\"M 498.776,44.6723 L 501.242,47.5977\" style=\"fill:none;fill-rule:evenodd;stroke:#0000FF;stroke-width:2.0px;stroke-linecap:butt;stroke-linejoin:miter;stroke-opacity:1\"/>\n",
       "<path class=\"bond-22\" d=\"M 496.309,41.747 L 490.318,49.7586\" style=\"fill:none;fill-rule:evenodd;stroke:#000000;stroke-width:2.0px;stroke-linecap:butt;stroke-linejoin:miter;stroke-opacity:1\"/>\n",
       "<path class=\"bond-23\" d=\"M 490.318,49.7586 L 496.219,52.1657\" style=\"fill:none;fill-rule:evenodd;stroke:#000000;stroke-width:2.0px;stroke-linecap:butt;stroke-linejoin:miter;stroke-opacity:1\"/>\n",
       "<path class=\"bond-24\" d=\"M 490.318,49.7586 L 479.109,55.0309\" style=\"fill:none;fill-rule:evenodd;stroke:#000000;stroke-width:2.0px;stroke-linecap:butt;stroke-linejoin:miter;stroke-opacity:1\"/>\n",
       "<path class=\"bond-25\" d=\"M 496.219,52.1657 L 494.497,54.9085\" style=\"fill:none;fill-rule:evenodd;stroke:#000000;stroke-width:2.0px;stroke-linecap:butt;stroke-linejoin:miter;stroke-opacity:1\"/>\n",
       "<path class=\"bond-25\" d=\"M 494.497,54.9085 L 492.776,57.6513\" style=\"fill:none;fill-rule:evenodd;stroke:#0000FF;stroke-width:2.0px;stroke-linecap:butt;stroke-linejoin:miter;stroke-opacity:1\"/>\n",
       "<path class=\"bond-26\" d=\"M 489.379,60.898 L 484.76,63.0436\" style=\"fill:none;fill-rule:evenodd;stroke:#0000FF;stroke-width:2.0px;stroke-linecap:butt;stroke-linejoin:miter;stroke-opacity:1\"/>\n",
       "<path class=\"bond-26\" d=\"M 484.76,63.0436 L 480.142,65.1892\" style=\"fill:none;fill-rule:evenodd;stroke:#000000;stroke-width:2.0px;stroke-linecap:butt;stroke-linejoin:miter;stroke-opacity:1\"/>\n",
       "<path class=\"bond-27\" d=\"M 480.142,65.1892 L 477.085,69.9786\" style=\"fill:none;fill-rule:evenodd;stroke:#000000;stroke-width:2.0px;stroke-linecap:butt;stroke-linejoin:miter;stroke-opacity:1\"/>\n",
       "<path class=\"bond-28\" d=\"M 480.142,65.1892 L 474.097,62.5935\" style=\"fill:none;fill-rule:evenodd;stroke:#000000;stroke-width:2.0px;stroke-linecap:butt;stroke-linejoin:miter;stroke-opacity:1\"/>\n",
       "<path class=\"bond-29\" d=\"M 474.086,74.7283 L 473.543,75.5968\" style=\"fill:none;fill-rule:evenodd;stroke:#000000;stroke-width:2.0px;stroke-linecap:butt;stroke-linejoin:miter;stroke-opacity:1\"/>\n",
       "<path class=\"bond-29\" d=\"M 473.543,75.5968 L 473.001,76.4653\" style=\"fill:none;fill-rule:evenodd;stroke:#0000FF;stroke-width:2.0px;stroke-linecap:butt;stroke-linejoin:miter;stroke-opacity:1\"/>\n",
       "<path class=\"bond-30\" d=\"M 474.097,62.5935 L 479.109,55.0309\" style=\"fill:none;fill-rule:evenodd;stroke:#000000;stroke-width:2.0px;stroke-linecap:butt;stroke-linejoin:miter;stroke-opacity:1\"/>\n",
       "<path class=\"atom-0\" d=\"M 449.177 71.3643 L 451.703 71.3643 L 451.703 71.8503 L 449.747 71.8503 L 449.747 73.1403 L 451.487 73.1403 L 451.487 73.6323 L 449.747 73.6323 L 449.747 75.6123 L 449.177 75.6123 L 449.177 71.3643 \" fill=\"#33CCCC\"/>\n",
       "<path class=\"atom-2\" d=\"M 460.008 83.4267 L 462.534 83.4267 L 462.534 83.9127 L 460.578 83.9127 L 460.578 85.2027 L 462.318 85.2027 L 462.318 85.6947 L 460.578 85.6947 L 460.578 87.6747 L 460.008 87.6747 L 460.008 83.4267 \" fill=\"#33CCCC\"/>\n",
       "<path class=\"atom-3\" d=\"M 449.617 69.6757 L 452.143 69.6757 L 452.143 70.1617 L 450.187 70.1617 L 450.187 71.4517 L 451.927 71.4517 L 451.927 71.9437 L 450.187 71.9437 L 450.187 73.9237 L 449.617 73.9237 L 449.617 69.6757 \" fill=\"#33CCCC\"/>\n",
       "<path class=\"atom-5\" d=\"M 471.84 63.5995 Q 471.84 62.5435, 472.332 61.9915 Q 472.83 61.4335, 473.772 61.4335 Q 474.648 61.4335, 475.116 62.0515 L 474.72 62.3755 Q 474.378 61.9255, 473.772 61.9255 Q 473.13 61.9255, 472.788 62.3575 Q 472.452 62.7835, 472.452 63.5995 Q 472.452 64.4395, 472.8 64.8715 Q 473.154 65.3035, 473.838 65.3035 Q 474.306 65.3035, 474.852 65.0215 L 475.02 65.4715 Q 474.798 65.6155, 474.462 65.6995 Q 474.126 65.7835, 473.754 65.7835 Q 472.83 65.7835, 472.332 65.2195 Q 471.84 64.6555, 471.84 63.5995 \" fill=\"#000000\"/>\n",
       "<path class=\"atom-6\" d=\"M 481.989 56.2794 Q 481.989 55.2234, 482.481 54.6714 Q 482.979 54.1134, 483.921 54.1134 Q 484.797 54.1134, 485.265 54.7314 L 484.869 55.0554 Q 484.527 54.6054, 483.921 54.6054 Q 483.279 54.6054, 482.937 55.0374 Q 482.601 55.4634, 482.601 56.2794 Q 482.601 57.1194, 482.949 57.5514 Q 483.303 57.9834, 483.987 57.9834 Q 484.455 57.9834, 485.001 57.7014 L 485.169 58.1514 Q 484.947 58.2954, 484.611 58.3794 Q 484.275 58.4634, 483.903 58.4634 Q 482.979 58.4634, 482.481 57.8994 Q 481.989 57.3354, 481.989 56.2794 \" fill=\"#000000\"/>\n",
       "<path class=\"atom-8\" d=\"M 471.543 61.1115 Q 471.543 60.0555, 472.035 59.5035 Q 472.533 58.9455, 473.475 58.9455 Q 474.351 58.9455, 474.819 59.5635 L 474.423 59.8875 Q 474.081 59.4375, 473.475 59.4375 Q 472.833 59.4375, 472.491 59.8695 Q 472.155 60.2955, 472.155 61.1115 Q 472.155 61.9515, 472.503 62.3835 Q 472.857 62.8155, 473.541 62.8155 Q 474.009 62.8155, 474.555 62.5335 L 474.723 62.9835 Q 474.501 63.1275, 474.165 63.2115 Q 473.829 63.2955, 473.457 63.2955 Q 472.533 63.2955, 472.035 62.7315 Q 471.543 62.1675, 471.543 61.1115 \" fill=\"#000000\"/>\n",
       "<path class=\"atom-10\" d=\"M 487.412 46.4131 L 488.804 48.6631 Q 488.942 48.8851, 489.164 49.2871 Q 489.386 49.6891, 489.398 49.7131 L 489.398 46.4131 L 489.962 46.4131 L 489.962 50.6611 L 489.38 50.6611 L 487.886 48.2011 Q 487.712 47.9131, 487.526 47.5831 Q 487.346 47.2531, 487.292 47.1511 L 487.292 50.6611 L 486.74 50.6611 L 486.74 46.4131 L 487.412 46.4131 \" fill=\"#0000FF\"/>\n",
       "<path class=\"atom-12\" d=\"M 500.08 63.0096 Q 500.08 61.9896, 500.584 61.4196 Q 501.088 60.8496, 502.03 60.8496 Q 502.972 60.8496, 503.476 61.4196 Q 503.98 61.9896, 503.98 63.0096 Q 503.98 64.0416, 503.47 64.6296 Q 502.96 65.2116, 502.03 65.2116 Q 501.094 65.2116, 500.584 64.6296 Q 500.08 64.0476, 500.08 63.0096 M 502.03 64.7316 Q 502.678 64.7316, 503.026 64.2996 Q 503.38 63.8616, 503.38 63.0096 Q 503.38 62.1756, 503.026 61.7556 Q 502.678 61.3296, 502.03 61.3296 Q 501.382 61.3296, 501.028 61.7496 Q 500.68 62.1696, 500.68 63.0096 Q 500.68 63.8676, 501.028 64.2996 Q 501.382 64.7316, 502.03 64.7316 \" fill=\"#FF0000\"/>\n",
       "<path class=\"atom-12\" d=\"M 504.49 60.8976 L 505.066 60.8976 L 505.066 62.7036 L 507.238 62.7036 L 507.238 60.8976 L 507.814 60.8976 L 507.814 65.1456 L 507.238 65.1456 L 507.238 63.1836 L 505.066 63.1836 L 505.066 65.1456 L 504.49 65.1456 L 504.49 60.8976 \" fill=\"#FF0000\"/>\n",
       "<path class=\"atom-17\" d=\"M 473.014 12.7917 L 473.59 12.7917 L 473.59 14.5977 L 475.762 14.5977 L 475.762 12.7917 L 476.338 12.7917 L 476.338 17.0397 L 475.762 17.0397 L 475.762 15.0777 L 473.59 15.0777 L 473.59 17.0397 L 473.014 17.0397 L 473.014 12.7917 \" fill=\"#FF0000\"/>\n",
       "<path class=\"atom-17\" d=\"M 476.638 14.9037 Q 476.638 13.8837, 477.142 13.3137 Q 477.646 12.7437, 478.588 12.7437 Q 479.53 12.7437, 480.034 13.3137 Q 480.538 13.8837, 480.538 14.9037 Q 480.538 15.9357, 480.028 16.5237 Q 479.518 17.1057, 478.588 17.1057 Q 477.652 17.1057, 477.142 16.5237 Q 476.638 15.9417, 476.638 14.9037 M 478.588 16.6257 Q 479.236 16.6257, 479.584 16.1937 Q 479.938 15.7557, 479.938 14.9037 Q 479.938 14.0697, 479.584 13.6497 Q 479.236 13.2237, 478.588 13.2237 Q 477.94 13.2237, 477.586 13.6437 Q 477.238 14.0637, 477.238 14.9037 Q 477.238 15.7617, 477.586 16.1937 Q 477.94 16.6257, 478.588 16.6257 \" fill=\"#FF0000\"/>\n",
       "<path class=\"atom-20\" d=\"M 502.178 47.6975 L 503.57 49.9475 Q 503.708 50.1695, 503.93 50.5715 Q 504.152 50.9735, 504.164 50.9975 L 504.164 47.6975 L 504.728 47.6975 L 504.728 51.9455 L 504.146 51.9455 L 502.652 49.4855 Q 502.478 49.1975, 502.292 48.8675 Q 502.112 48.5375, 502.058 48.4355 L 502.058 51.9455 L 501.506 51.9455 L 501.506 47.6975 L 502.178 47.6975 \" fill=\"#0000FF\"/>\n",
       "<path class=\"atom-20\" d=\"M 505.238 47.6975 L 505.814 47.6975 L 505.814 49.5035 L 507.986 49.5035 L 507.986 47.6975 L 508.562 47.6975 L 508.562 51.9455 L 507.986 51.9455 L 507.986 49.9835 L 505.814 49.9835 L 505.814 51.9455 L 505.238 51.9455 L 505.238 47.6975 \" fill=\"#0000FF\"/>\n",
       "<path class=\"atom-23\" d=\"M 490.358 57.8827 L 491.75 60.1327 Q 491.888 60.3547, 492.11 60.7567 Q 492.332 61.1587, 492.344 61.1827 L 492.344 57.8827 L 492.908 57.8827 L 492.908 62.1307 L 492.326 62.1307 L 490.832 59.6707 Q 490.658 59.3827, 490.472 59.0527 Q 490.292 58.7227, 490.238 58.6207 L 490.238 62.1307 L 489.686 62.1307 L 489.686 57.8827 L 490.358 57.8827 \" fill=\"#0000FF\"/>\n",
       "<path class=\"atom-23\" d=\"M 493.418 57.8827 L 493.994 57.8827 L 493.994 59.6887 L 496.166 59.6887 L 496.166 57.8827 L 496.742 57.8827 L 496.742 62.1307 L 496.166 62.1307 L 496.166 60.1687 L 493.994 60.1687 L 493.994 62.1307 L 493.418 62.1307 L 493.418 57.8827 \" fill=\"#0000FF\"/>\n",
       "<path class=\"atom-25\" d=\"M 473.941 72.3566 Q 473.941 71.3006, 474.433 70.7486 Q 474.931 70.1906, 475.873 70.1906 Q 476.749 70.1906, 477.217 70.8086 L 476.821 71.1326 Q 476.479 70.6826, 475.873 70.6826 Q 475.231 70.6826, 474.889 71.1146 Q 474.553 71.5406, 474.553 72.3566 Q 474.553 73.1966, 474.901 73.6286 Q 475.255 74.0606, 475.939 74.0606 Q 476.407 74.0606, 476.953 73.7786 L 477.121 74.2286 Q 476.899 74.3726, 476.563 74.4566 Q 476.227 74.5406, 475.855 74.5406 Q 474.931 74.5406, 474.433 73.9766 Q 473.941 73.4126, 473.941 72.3566 \" fill=\"#000000\"/>\n",
       "<path class=\"atom-26\" d=\"M 464.08 76.5826 L 464.656 76.5826 L 464.656 78.3886 L 466.828 78.3886 L 466.828 76.5826 L 467.404 76.5826 L 467.404 80.8306 L 466.828 80.8306 L 466.828 78.8686 L 464.656 78.8686 L 464.656 80.8306 L 464.08 80.8306 L 464.08 76.5826 \" fill=\"#0000FF\"/>\n",
       "<path class=\"atom-26\" d=\"M 467.61 80.6816 Q 467.713 80.4163, 467.959 80.2697 Q 468.204 80.1193, 468.545 80.1193 Q 468.969 80.1193, 469.206 80.3489 Q 469.444 80.5786, 469.444 80.9865 Q 469.444 81.4023, 469.135 81.7904 Q 468.83 82.1785, 468.196 82.6378 L 469.491 82.6378 L 469.491 82.9546 L 467.602 82.9546 L 467.602 82.6893 Q 468.125 82.3171, 468.434 82.0399 Q 468.747 81.7627, 468.897 81.5132 Q 469.048 81.2637, 469.048 81.0063 Q 469.048 80.737, 468.913 80.5865 Q 468.779 80.4361, 468.545 80.4361 Q 468.319 80.4361, 468.169 80.5271 Q 468.018 80.6182, 467.911 80.8202 L 467.61 80.6816 \" fill=\"#0000FF\"/>\n",
       "<path class=\"atom-26\" d=\"M 470.661 76.5826 L 472.053 78.8326 Q 472.191 79.0546, 472.413 79.4566 Q 472.635 79.8586, 472.647 79.8826 L 472.647 76.5826 L 473.211 76.5826 L 473.211 80.8306 L 472.629 80.8306 L 471.135 78.3706 Q 470.961 78.0826, 470.775 77.7526 Q 470.595 77.4226, 470.541 77.3206 L 470.541 80.8306 L 469.989 80.8306 L 469.989 76.5826 L 470.661 76.5826 \" fill=\"#0000FF\"/>\n",
       "<path d=\"M 449.541,74.3864 L 449.541,72.5901 L 451.338,72.5901 L 451.338,74.3864 L 449.541,74.3864\" style=\"fill:none;stroke:#FF0000;stroke-width:2px;stroke-linecap:butt;stroke-linejoin:miter;stroke-opacity:1;\"/>\n",
       "<path d=\"M 472.579,64.4796 L 472.579,62.6833 L 474.376,62.6833 L 474.376,64.4796 L 472.579,64.4796\" style=\"fill:none;stroke:#FF0000;stroke-width:2px;stroke-linecap:butt;stroke-linejoin:miter;stroke-opacity:1;\"/>\n",
       "<path d=\"M 482.729,57.1596 L 482.729,55.3632 L 484.525,55.3632 L 484.525,57.1596 L 482.729,57.1596\" style=\"fill:none;stroke:#FF0000;stroke-width:2px;stroke-linecap:butt;stroke-linejoin:miter;stroke-opacity:1;\"/>\n",
       "<path d=\"M 487.749,52.3544 L 487.749,50.558 L 489.546,50.558 L 489.546,52.3544 L 487.749,52.3544\" style=\"fill:none;stroke:#FF0000;stroke-width:2px;stroke-linecap:butt;stroke-linejoin:miter;stroke-opacity:1;\"/>\n",
       "<path d=\"M 497.144,55.0039 L 497.144,53.2076 L 498.941,53.2076 L 498.941,55.0039 L 497.144,55.0039\" style=\"fill:none;stroke:#FF0000;stroke-width:2px;stroke-linecap:butt;stroke-linejoin:miter;stroke-opacity:1;\"/>\n",
       "<path d=\"M 433.029 182.816 L 439.765 182.816 L 439.765 184.112 L 434.549 184.112 L 434.549 187.552 L 439.189 187.552 L 439.189 188.864 L 434.549 188.864 L 434.549 194.144 L 433.029 194.144 L 433.029 182.816 \" fill=\"#000000\"/>\n",
       "<path d=\"M 442.341 185.92 L 442.517 187.056 Q 443.381 185.776, 444.789 185.776 Q 445.237 185.776, 445.845 185.936 L 445.605 187.28 Q 444.917 187.12, 444.533 187.12 Q 443.861 187.12, 443.413 187.392 Q 442.981 187.648, 442.629 188.272 L 442.629 194.144 L 441.125 194.144 L 441.125 185.92 L 442.341 185.92 \" fill=\"#000000\"/>\n",
       "<path d=\"M 446.581 190.016 Q 446.581 188.016, 447.589 186.896 Q 448.613 185.776, 450.485 185.776 Q 452.357 185.776, 453.365 186.896 Q 454.389 188.016, 454.389 190.016 Q 454.389 192.016, 453.365 193.152 Q 452.357 194.272, 450.485 194.272 Q 448.613 194.272, 447.589 193.152 Q 446.581 192.016, 446.581 190.016 M 448.117 190.016 Q 448.117 191.52, 448.725 192.304 Q 449.349 193.088, 450.485 193.088 Q 451.621 193.088, 452.229 192.304 Q 452.853 191.52, 452.853 190.016 Q 452.853 188.512, 452.229 187.744 Q 451.621 186.96, 450.485 186.96 Q 449.349 186.96, 448.725 187.744 Q 448.117 188.512, 448.117 190.016 \" fill=\"#000000\"/>\n",
       "<path d=\"M 465.205 185.776 Q 466.597 185.776, 467.301 186.528 Q 468.005 187.264, 468.005 188.704 L 468.005 194.144 L 466.501 194.144 L 466.501 188.816 Q 466.501 187.84, 466.117 187.408 Q 465.749 186.96, 464.917 186.96 Q 464.197 186.96, 463.573 187.312 Q 462.965 187.648, 462.597 188.256 Q 462.613 188.4, 462.613 188.704 L 462.613 194.144 L 461.109 194.144 L 461.109 188.816 Q 461.109 187.84, 460.725 187.408 Q 460.357 186.96, 459.525 186.96 Q 458.805 186.96, 458.197 187.312 Q 457.589 187.648, 457.205 188.24 L 457.205 194.144 L 455.701 194.144 L 455.701 185.92 L 456.933 185.92 L 457.093 187.04 Q 458.165 185.776, 459.813 185.776 Q 461.749 185.776, 462.357 187.216 Q 463.445 185.776, 465.205 185.776 \" fill=\"#000000\"/>\n",
       "<path d=\"\" fill=\"#000000\"/>\n",
       "<path d=\"M 476.709 182.816 Q 478.645 182.816, 479.621 183.696 Q 480.597 184.56, 480.597 186.144 Q 480.597 187.712, 479.589 188.608 Q 478.597 189.488, 476.709 189.488 L 474.901 189.488 L 474.901 194.144 L 473.365 194.144 L 473.365 182.816 L 476.709 182.816 M 476.709 188.208 Q 477.813 188.208, 478.405 187.68 Q 478.997 187.152, 478.997 186.144 Q 478.997 185.136, 478.405 184.624 Q 477.829 184.096, 476.709 184.096 L 474.901 184.096 L 474.901 188.208 L 476.709 188.208 \" fill=\"#000000\"/>\n",
       "<path d=\"M 485.621 182.816 Q 488.133 182.816, 489.477 184.304 Q 490.821 185.776, 490.821 188.448 Q 490.821 191.136, 489.461 192.64 Q 488.117 194.144, 485.621 194.144 L 481.957 194.144 L 481.957 182.816 L 485.621 182.816 M 485.621 192.864 Q 487.349 192.864, 488.277 191.76 Q 489.221 190.656, 489.221 188.448 Q 489.221 186.256, 488.277 185.184 Q 487.349 184.096, 485.621 184.096 L 483.493 184.096 L 483.493 192.864 L 485.621 192.864 \" fill=\"#000000\"/>\n",
       "<path d=\"M 497.685 188.192 Q 498.773 188.496, 499.317 189.168 Q 499.877 189.824, 499.877 190.8 Q 499.877 192.368, 498.869 193.264 Q 497.877 194.144, 495.989 194.144 L 492.181 194.144 L 492.181 182.816 L 495.525 182.816 Q 497.461 182.816, 498.437 183.6 Q 499.413 184.384, 499.413 185.824 Q 499.413 187.536, 497.685 188.192 M 493.701 184.096 L 493.701 187.648 L 495.525 187.648 Q 496.645 187.648, 497.221 187.2 Q 497.813 186.736, 497.813 185.824 Q 497.813 184.096, 495.525 184.096 L 493.701 184.096 M 495.989 192.864 Q 497.093 192.864, 497.685 192.336 Q 498.277 191.808, 498.277 190.8 Q 498.277 189.872, 497.621 189.408 Q 496.981 188.928, 495.749 188.928 L 493.701 188.928 L 493.701 192.864 L 495.989 192.864 \" fill=\"#000000\"/>\n",
       "<path d=\"\" fill=\"#000000\"/>\n",
       "<path d=\"M 505.285 182.768 L 506.805 182.768 L 506.805 194.144 L 505.285 194.144 L 505.285 182.768 \" fill=\"#000000\"/>\n",
       "<path d=\"M 511.829 182.816 Q 514.341 182.816, 515.685 184.304 Q 517.029 185.776, 517.029 188.448 Q 517.029 191.136, 515.669 192.64 Q 514.325 194.144, 511.829 194.144 L 508.165 194.144 L 508.165 182.816 L 511.829 182.816 M 511.829 192.864 Q 513.557 192.864, 514.485 191.76 Q 515.429 190.656, 515.429 188.448 Q 515.429 186.256, 514.485 185.184 Q 513.557 184.096, 511.829 184.096 L 509.701 184.096 L 509.701 192.864 L 511.829 192.864 \" fill=\"#000000\"/>\n",
       "<path d=\"M 518.229 192.272 L 519.829 192.272 L 519.829 193.872 L 518.229 193.872 L 518.229 192.272 M 518.229 186.768 L 519.829 186.768 L 519.829 188.368 L 518.229 188.368 L 518.229 186.768 \" fill=\"#000000\"/>\n",
       "<path d=\"\" fill=\"#000000\"/>\n",
       "<path d=\"M 528.677 187.056 Q 529.669 187.056, 530.485 187.488 Q 531.301 187.904, 531.765 188.704 Q 532.229 189.488, 532.229 190.56 Q 532.229 191.728, 531.653 192.576 Q 531.093 193.408, 530.165 193.84 Q 529.237 194.272, 528.181 194.272 Q 527.141 194.272, 526.181 193.888 Q 525.221 193.504, 524.565 192.768 L 525.525 191.776 Q 526.053 192.352, 526.773 192.672 Q 527.493 192.976, 528.229 192.976 Q 529.237 192.976, 529.925 192.352 Q 530.629 191.728, 530.629 190.592 Q 530.629 189.392, 529.925 188.832 Q 529.237 188.256, 528.133 188.256 Q 527.141 188.256, 526.037 188.688 L 525.157 188.272 L 525.701 182.816 L 531.525 182.816 L 531.365 184.096 L 527.013 184.096 L 526.677 187.456 Q 527.685 187.056, 528.677 187.056 \" fill=\"#000000\"/>\n",
       "<path d=\"M 540.773 194.144 L 539.589 190.816 L 535.093 190.816 L 533.957 194.144 L 532.421 194.144 L 536.325 182.816 L 538.213 182.816 L 542.261 194.144 L 540.773 194.144 M 535.541 189.536 L 539.125 189.536 L 537.301 184.4 L 535.541 189.536 \" fill=\"#000000\"/>\n",
       "<path d=\"M 547.381 194.272 Q 545.301 194.272, 544.261 192.736 Q 543.237 191.2, 543.237 188.464 Q 543.237 185.728, 544.261 184.208 Q 545.285 182.688, 547.381 182.688 Q 549.477 182.688, 550.501 184.208 Q 551.525 185.728, 551.525 188.464 Q 551.525 191.2, 550.485 192.736 Q 549.461 194.272, 547.381 194.272 M 547.381 192.992 Q 548.613 192.992, 549.269 191.856 Q 549.925 190.704, 549.925 188.464 Q 549.925 186.24, 549.269 185.104 Q 548.613 183.968, 547.381 183.968 Q 546.165 183.968, 545.493 185.104 Q 544.837 186.24, 544.837 188.464 Q 544.837 190.704, 545.493 191.856 Q 546.165 192.992, 547.381 192.992 \" fill=\"#000000\"/>\n",
       "<path d=\"M 560.069 194.144 L 558.885 190.816 L 554.389 190.816 L 553.253 194.144 L 551.717 194.144 L 555.621 182.816 L 557.509 182.816 L 561.557 194.144 L 560.069 194.144 M 554.837 189.536 L 558.421 189.536 L 556.597 184.4 L 554.837 189.536 \" fill=\"#000000\"/>\n",
       "<path class=\"bond-0\" d=\"M 629.032,55.4022 L 628.873,55.733\" style=\"fill:none;fill-rule:evenodd;stroke:#0000FF;stroke-width:2.0px;stroke-linecap:butt;stroke-linejoin:miter;stroke-opacity:1\"/>\n",
       "<path class=\"bond-0\" d=\"M 628.873,55.733 L 628.713,56.0638\" style=\"fill:none;fill-rule:evenodd;stroke:#000000;stroke-width:2.0px;stroke-linecap:butt;stroke-linejoin:miter;stroke-opacity:1\"/>\n",
       "<path class=\"bond-1\" d=\"M 628.713,56.0638 L 635.934,47.2977\" style=\"fill:none;fill-rule:evenodd;stroke:#000000;stroke-width:2.0px;stroke-linecap:butt;stroke-linejoin:miter;stroke-opacity:1\"/>\n",
       "<path class=\"bond-2\" d=\"M 628.713,56.0638 L 615.546,55.2644\" style=\"fill:none;fill-rule:evenodd;stroke:#000000;stroke-width:2.0px;stroke-linecap:butt;stroke-linejoin:miter;stroke-opacity:1\"/>\n",
       "<path class=\"bond-3\" d=\"M 635.934,47.2977 L 641.053,48.022\" style=\"fill:none;fill-rule:evenodd;stroke:#000000;stroke-width:2.0px;stroke-linecap:butt;stroke-linejoin:miter;stroke-opacity:1\"/>\n",
       "<path class=\"bond-3\" d=\"M 641.053,48.022 L 646.171,48.7464\" style=\"fill:none;fill-rule:evenodd;stroke:#FF0000;stroke-width:2.0px;stroke-linecap:butt;stroke-linejoin:miter;stroke-opacity:1\"/>\n",
       "<path class=\"bond-4\" d=\"M 650.6,46.8877 L 652.523,44.9505\" style=\"fill:none;fill-rule:evenodd;stroke:#FF0000;stroke-width:2.0px;stroke-linecap:butt;stroke-linejoin:miter;stroke-opacity:1\"/>\n",
       "<path class=\"bond-4\" d=\"M 652.523,44.9505 L 654.445,43.0134\" style=\"fill:none;fill-rule:evenodd;stroke:#000000;stroke-width:2.0px;stroke-linecap:butt;stroke-linejoin:miter;stroke-opacity:1\"/>\n",
       "<path class=\"bond-5\" d=\"M 615.546,55.2644 L 613.347,52.374\" style=\"fill:none;fill-rule:evenodd;stroke:#000000;stroke-width:2.0px;stroke-linecap:butt;stroke-linejoin:miter;stroke-opacity:1\"/>\n",
       "<path class=\"bond-5\" d=\"M 613.347,52.374 L 611.149,49.4835\" style=\"fill:none;fill-rule:evenodd;stroke:#FF0000;stroke-width:2.0px;stroke-linecap:butt;stroke-linejoin:miter;stroke-opacity:1\"/>\n",
       "<path class=\"bond-6\" d=\"M 665.403,75.2666 L 668.947,65.4207\" style=\"fill:none;fill-rule:evenodd;stroke:#000000;stroke-width:2.0px;stroke-linecap:butt;stroke-linejoin:miter;stroke-opacity:1\"/>\n",
       "<path class=\"bond-7\" d=\"M 670.954,60.5468 L 673.163,55.8213\" style=\"fill:none;fill-rule:evenodd;stroke:#000000;stroke-width:2.0px;stroke-linecap:butt;stroke-linejoin:miter;stroke-opacity:1\"/>\n",
       "<path class=\"bond-8\" d=\"M 673.163,55.8213 L 668.178,43.0134\" style=\"fill:none;fill-rule:evenodd;stroke:#000000;stroke-width:2.0px;stroke-linecap:butt;stroke-linejoin:miter;stroke-opacity:1\"/>\n",
       "<path class=\"bond-9\" d=\"M 668.178,43.0134 L 654.445,43.0134\" style=\"fill:none;fill-rule:evenodd;stroke:#000000;stroke-width:2.0px;stroke-linecap:butt;stroke-linejoin:miter;stroke-opacity:1\"/>\n",
       "<path class=\"bond-10\" d=\"M 668.178,43.0134 L 669.837,40.7021\" style=\"fill:none;fill-rule:evenodd;stroke:#000000;stroke-width:2.0px;stroke-linecap:butt;stroke-linejoin:miter;stroke-opacity:1\"/>\n",
       "<path class=\"bond-10\" d=\"M 669.837,40.7021 L 671.495,38.3908\" style=\"fill:none;fill-rule:evenodd;stroke:#0000FF;stroke-width:2.0px;stroke-linecap:butt;stroke-linejoin:miter;stroke-opacity:1\"/>\n",
       "<path class=\"bond-11\" d=\"M 654.445,43.0134 L 652.789,41.2857\" style=\"fill:none;fill-rule:evenodd;stroke:#000000;stroke-width:2.0px;stroke-linecap:butt;stroke-linejoin:miter;stroke-opacity:1\"/>\n",
       "<path class=\"bond-11\" d=\"M 652.789,41.2857 L 651.132,39.5581\" style=\"fill:none;fill-rule:evenodd;stroke:#FF0000;stroke-width:2.0px;stroke-linecap:butt;stroke-linejoin:miter;stroke-opacity:1\"/>\n",
       "<path class=\"bond-12\" d=\"M 668.511,40.5165 L 669.955,39.1332\" style=\"fill:none;fill-rule:evenodd;stroke:#000000;stroke-width:2.0px;stroke-linecap:butt;stroke-linejoin:miter;stroke-opacity:1\"/>\n",
       "<path class=\"bond-12\" d=\"M 669.955,39.1332 L 671.4,37.7498\" style=\"fill:none;fill-rule:evenodd;stroke:#0000FF;stroke-width:2.0px;stroke-linecap:butt;stroke-linejoin:miter;stroke-opacity:1\"/>\n",
       "<path class=\"bond-13\" d=\"M 689.483,21.8526 L 685.67,19.6633\" style=\"fill:none;fill-rule:evenodd;stroke:#000000;stroke-width:2.0px;stroke-linecap:butt;stroke-linejoin:miter;stroke-opacity:1\"/>\n",
       "<path class=\"bond-13\" d=\"M 685.67,19.6633 L 681.856,17.474\" style=\"fill:none;fill-rule:evenodd;stroke:#0000FF;stroke-width:2.0px;stroke-linecap:butt;stroke-linejoin:miter;stroke-opacity:1\"/>\n",
       "<path class=\"bond-14\" d=\"M 672.778,33.5959 L 672.12,29.5054\" style=\"fill:none;fill-rule:evenodd;stroke:#0000FF;stroke-width:2.0px;stroke-linecap:butt;stroke-linejoin:miter;stroke-opacity:1\"/>\n",
       "<path class=\"bond-14\" d=\"M 672.12,29.5054 L 671.463,25.4149\" style=\"fill:none;fill-rule:evenodd;stroke:#CCCC00;stroke-width:2.0px;stroke-linecap:butt;stroke-linejoin:miter;stroke-opacity:1\"/>\n",
       "<path class=\"bond-15\" d=\"M 678.084,17.7727 L 675.363,19.7645\" style=\"fill:none;fill-rule:evenodd;stroke:#0000FF;stroke-width:2.0px;stroke-linecap:butt;stroke-linejoin:miter;stroke-opacity:1\"/>\n",
       "<path class=\"bond-15\" d=\"M 675.363,19.7645 L 672.641,21.7564\" style=\"fill:none;fill-rule:evenodd;stroke:#CCCC00;stroke-width:2.0px;stroke-linecap:butt;stroke-linejoin:miter;stroke-opacity:1\"/>\n",
       "<path class=\"bond-16\" d=\"M 671.516,21.6731 L 671.289,22.2927\" style=\"fill:none;fill-rule:evenodd;stroke:#FF0000;stroke-width:2.0px;stroke-linecap:butt;stroke-linejoin:miter;stroke-opacity:1\"/>\n",
       "<path class=\"bond-16\" d=\"M 671.289,22.2927 L 671.061,22.9124\" style=\"fill:none;fill-rule:evenodd;stroke:#CCCC00;stroke-width:2.0px;stroke-linecap:butt;stroke-linejoin:miter;stroke-opacity:1\"/>\n",
       "<path class=\"bond-17\" d=\"M 660.981,20.2219 L 665.21,21.3506\" style=\"fill:none;fill-rule:evenodd;stroke:#FF0000;stroke-width:2.0px;stroke-linecap:butt;stroke-linejoin:miter;stroke-opacity:1\"/>\n",
       "<path class=\"bond-17\" d=\"M 665.21,21.3506 L 669.439,22.4792\" style=\"fill:none;fill-rule:evenodd;stroke:#CCCC00;stroke-width:2.0px;stroke-linecap:butt;stroke-linejoin:miter;stroke-opacity:1\"/>\n",
       "<path class=\"atom-0\" d=\"M 629.157 51.0746 L 630.549 53.3246 Q 630.687 53.5466, 630.909 53.9486 Q 631.131 54.3506, 631.143 54.3746 L 631.143 51.0746 L 631.707 51.0746 L 631.707 55.3226 L 631.125 55.3226 L 629.631 52.8626 Q 629.457 52.5746, 629.271 52.2446 Q 629.091 51.9146, 629.037 51.8126 L 629.037 55.3226 L 628.485 55.3226 L 628.485 51.0746 L 629.157 51.0746 \" fill=\"#0000FF\"/>\n",
       "<path class=\"atom-0\" d=\"M 632.217 51.0746 L 632.793 51.0746 L 632.793 52.8806 L 634.965 52.8806 L 634.965 51.0746 L 635.541 51.0746 L 635.541 55.3226 L 634.965 55.3226 L 634.965 53.3606 L 632.793 53.3606 L 632.793 55.3226 L 632.217 55.3226 L 632.217 51.0746 \" fill=\"#0000FF\"/>\n",
       "<path class=\"atom-0\" d=\"M 635.747 55.1736 Q 635.85 54.9083, 636.095 54.7617 Q 636.341 54.6113, 636.681 54.6113 Q 637.105 54.6113, 637.343 54.8409 Q 637.58 55.0706, 637.58 55.4785 Q 637.58 55.8943, 637.272 56.2824 Q 636.967 56.6705, 636.333 57.1298 L 637.628 57.1298 L 637.628 57.4466 L 635.739 57.4466 L 635.739 57.1813 Q 636.262 56.8091, 636.571 56.5319 Q 636.883 56.2547, 637.034 56.0052 Q 637.184 55.7557, 637.184 55.4983 Q 637.184 55.229, 637.05 55.0785 Q 636.915 54.9281, 636.681 54.9281 Q 636.456 54.9281, 636.305 55.0191 Q 636.155 55.1102, 636.048 55.3122 L 635.747 55.1736 \" fill=\"#0000FF\"/>\n",
       "<path class=\"atom-3\" d=\"M 646.487 49.0791 Q 646.487 48.0591, 646.991 47.4891 Q 647.495 46.9191, 648.437 46.9191 Q 649.379 46.9191, 649.883 47.4891 Q 650.387 48.0591, 650.387 49.0791 Q 650.387 50.1111, 649.877 50.6991 Q 649.367 51.2811, 648.437 51.2811 Q 647.501 51.2811, 646.991 50.6991 Q 646.487 50.1171, 646.487 49.0791 M 648.437 50.8011 Q 649.085 50.8011, 649.433 50.3691 Q 649.787 49.9311, 649.787 49.0791 Q 649.787 48.2451, 649.433 47.8251 Q 649.085 47.3991, 648.437 47.3991 Q 647.789 47.3991, 647.435 47.8191 Q 647.087 48.2391, 647.087 49.0791 Q 647.087 49.9371, 647.435 50.3691 Q 647.789 50.8011, 648.437 50.8011 \" fill=\"#FF0000\"/>\n",
       "<path class=\"atom-5\" d=\"M 603.693 44.9102 L 604.269 44.9102 L 604.269 46.7162 L 606.441 46.7162 L 606.441 44.9102 L 607.017 44.9102 L 607.017 49.1582 L 606.441 49.1582 L 606.441 47.1962 L 604.269 47.1962 L 604.269 49.1582 L 603.693 49.1582 L 603.693 44.9102 \" fill=\"#FF0000\"/>\n",
       "<path class=\"atom-5\" d=\"M 607.317 47.0222 Q 607.317 46.0022, 607.821 45.4322 Q 608.325 44.8622, 609.267 44.8622 Q 610.209 44.8622, 610.713 45.4322 Q 611.217 46.0022, 611.217 47.0222 Q 611.217 48.0542, 610.707 48.6422 Q 610.197 49.2242, 609.267 49.2242 Q 608.331 49.2242, 607.821 48.6422 Q 607.317 48.0602, 607.317 47.0222 M 609.267 48.7442 Q 609.915 48.7442, 610.263 48.3122 Q 610.617 47.8742, 610.617 47.0222 Q 610.617 46.1882, 610.263 45.7682 Q 609.915 45.3422, 609.267 45.3422 Q 608.619 45.3422, 608.265 45.7622 Q 607.917 46.1822, 607.917 47.0222 Q 607.917 47.8802, 608.265 48.3122 Q 608.619 48.7442, 609.267 48.7442 \" fill=\"#FF0000\"/>\n",
       "<path class=\"atom-7\" d=\"M 668.22 62.9079 Q 668.22 61.8519, 668.712 61.2999 Q 669.21 60.7419, 670.152 60.7419 Q 671.028 60.7419, 671.496 61.3599 L 671.1 61.6839 Q 670.758 61.2339, 670.152 61.2339 Q 669.51 61.2339, 669.168 61.6659 Q 668.832 62.0919, 668.832 62.9079 Q 668.832 63.7479, 669.18 64.1799 Q 669.534 64.6119, 670.218 64.6119 Q 670.686 64.6119, 671.232 64.3299 L 671.4 64.7799 Q 671.178 64.9239, 670.842 65.0079 Q 670.506 65.0919, 670.134 65.0919 Q 669.21 65.0919, 668.712 64.5279 Q 668.22 63.9639, 668.22 62.9079 \" fill=\"#000000\"/>\n",
       "<path class=\"atom-13\" d=\"M 672.233 33.9286 L 673.625 36.1786 Q 673.763 36.4006, 673.985 36.8026 Q 674.207 37.2046, 674.219 37.2286 L 674.219 33.9286 L 674.783 33.9286 L 674.783 38.1766 L 674.201 38.1766 L 672.707 35.7166 Q 672.533 35.4286, 672.347 35.0986 Q 672.167 34.7686, 672.113 34.6666 L 672.113 38.1766 L 671.561 38.1766 L 671.561 33.9286 L 672.233 33.9286 \" fill=\"#0000FF\"/>\n",
       "<path class=\"atom-14\" d=\"M 679.032 14.2677 L 680.424 16.5177 Q 680.562 16.7397, 680.784 17.1417 Q 681.006 17.5437, 681.018 17.5677 L 681.018 14.2677 L 681.582 14.2677 L 681.582 18.5157 L 681 18.5157 L 679.506 16.0557 Q 679.332 15.7677, 679.146 15.4377 Q 678.966 15.1077, 678.912 15.0057 L 678.912 18.5157 L 678.36 18.5157 L 678.36 14.2677 L 679.032 14.2677 \" fill=\"#0000FF\"/>\n",
       "<path class=\"atom-14\" d=\"M 678.309 9.59489 L 678.885 9.59489 L 678.885 11.4009 L 681.057 11.4009 L 681.057 9.59489 L 681.633 9.59489 L 681.633 13.8429 L 681.057 13.8429 L 681.057 11.8809 L 678.885 11.8809 L 678.885 13.8429 L 678.309 13.8429 L 678.309 9.59489 \" fill=\"#0000FF\"/>\n",
       "<path class=\"atom-15\" d=\"M 643.41 35.219 L 643.986 35.219 L 643.986 37.025 L 646.158 37.025 L 646.158 35.219 L 646.734 35.219 L 646.734 39.467 L 646.158 39.467 L 646.158 37.505 L 643.986 37.505 L 643.986 39.467 L 643.41 39.467 L 643.41 35.219 \" fill=\"#FF0000\"/>\n",
       "<path class=\"atom-15\" d=\"M 647.034 37.331 Q 647.034 36.311, 647.538 35.741 Q 648.042 35.171, 648.984 35.171 Q 649.926 35.171, 650.43 35.741 Q 650.934 36.311, 650.934 37.331 Q 650.934 38.363, 650.424 38.951 Q 649.914 39.533, 648.984 39.533 Q 648.048 39.533, 647.538 38.951 Q 647.034 38.369, 647.034 37.331 M 648.984 39.053 Q 649.632 39.053, 649.98 38.621 Q 650.334 38.183, 650.334 37.331 Q 650.334 36.497, 649.98 36.077 Q 649.632 35.651, 648.984 35.651 Q 648.336 35.651, 647.982 36.071 Q 647.634 36.491, 647.634 37.331 Q 647.634 38.189, 647.982 38.621 Q 648.336 39.053, 648.984 39.053 \" fill=\"#FF0000\"/>\n",
       "<path class=\"atom-16\" d=\"M 670.414 19.3766 Q 670.414 18.3566, 670.918 17.7866 Q 671.422 17.2166, 672.364 17.2166 Q 673.306 17.2166, 673.81 17.7866 Q 674.314 18.3566, 674.314 19.3766 Q 674.314 20.4086, 673.804 20.9966 Q 673.294 21.5786, 672.364 21.5786 Q 671.428 21.5786, 670.918 20.9966 Q 670.414 20.4146, 670.414 19.3766 M 672.364 21.0986 Q 673.012 21.0986, 673.36 20.6666 Q 673.714 20.2286, 673.714 19.3766 Q 673.714 18.5426, 673.36 18.1226 Q 673.012 17.6966, 672.364 17.6966 Q 671.716 17.6966, 671.362 18.1166 Q 671.014 18.5366, 671.014 19.3766 Q 671.014 20.2346, 671.362 20.6666 Q 671.716 21.0986, 672.364 21.0986 \" fill=\"#FF0000\"/>\n",
       "<path class=\"atom-16\" d=\"M 674.824 17.2646 L 675.4 17.2646 L 675.4 19.0706 L 677.572 19.0706 L 677.572 17.2646 L 678.148 17.2646 L 678.148 21.5126 L 677.572 21.5126 L 677.572 19.5506 L 675.4 19.5506 L 675.4 21.5126 L 674.824 21.5126 L 674.824 17.2646 \" fill=\"#FF0000\"/>\n",
       "<path class=\"atom-17\" d=\"M 653.138 17.5161 L 653.714 17.5161 L 653.714 19.3221 L 655.886 19.3221 L 655.886 17.5161 L 656.462 17.5161 L 656.462 21.7641 L 655.886 21.7641 L 655.886 19.8021 L 653.714 19.8021 L 653.714 21.7641 L 653.138 21.7641 L 653.138 17.5161 \" fill=\"#FF0000\"/>\n",
       "<path class=\"atom-17\" d=\"M 656.762 19.6281 Q 656.762 18.6081, 657.266 18.0381 Q 657.77 17.4681, 658.712 17.4681 Q 659.654 17.4681, 660.158 18.0381 Q 660.662 18.6081, 660.662 19.6281 Q 660.662 20.6601, 660.152 21.2481 Q 659.642 21.8301, 658.712 21.8301 Q 657.776 21.8301, 657.266 21.2481 Q 656.762 20.6661, 656.762 19.6281 M 658.712 21.3501 Q 659.36 21.3501, 659.708 20.9181 Q 660.062 20.4801, 660.062 19.6281 Q 660.062 18.7941, 659.708 18.3741 Q 659.36 17.9481, 658.712 17.9481 Q 658.064 17.9481, 657.71 18.3681 Q 657.362 18.7881, 657.362 19.6281 Q 657.362 20.4861, 657.71 20.9181 Q 658.064 21.3501, 658.712 21.3501 \" fill=\"#FF0000\"/>\n",
       "<path class=\"atom-18\" d=\"M 669.861 24.3704 Q 669.909 24.3884, 670.107 24.4724 Q 670.305 24.5564, 670.521 24.6104 Q 670.743 24.6584, 670.959 24.6584 Q 671.361 24.6584, 671.595 24.4664 Q 671.829 24.2684, 671.829 23.9264 Q 671.829 23.6924, 671.709 23.5484 Q 671.595 23.4044, 671.415 23.3264 Q 671.235 23.2484, 670.935 23.1584 Q 670.557 23.0444, 670.329 22.9364 Q 670.107 22.8284, 669.945 22.6004 Q 669.789 22.3724, 669.789 21.9884 Q 669.789 21.4544, 670.149 21.1244 Q 670.515 20.7944, 671.235 20.7944 Q 671.727 20.7944, 672.285 21.0284 L 672.147 21.4904 Q 671.637 21.2804, 671.253 21.2804 Q 670.839 21.2804, 670.611 21.4544 Q 670.383 21.6224, 670.389 21.9164 Q 670.389 22.1444, 670.503 22.2824 Q 670.623 22.4204, 670.791 22.4984 Q 670.965 22.5764, 671.253 22.6664 Q 671.637 22.7864, 671.865 22.9064 Q 672.093 23.0264, 672.255 23.2724 Q 672.423 23.5124, 672.423 23.9264 Q 672.423 24.5144, 672.027 24.8324 Q 671.637 25.1444, 670.983 25.1444 Q 670.605 25.1444, 670.317 25.0604 Q 670.035 24.9824, 669.699 24.8444 L 669.861 24.3704 \" fill=\"#CCCC00\"/>\n",
       "<path d=\"M 667.28,43.9116 L 667.28,42.1152 L 669.077,42.1152 L 669.077,43.9116 L 667.28,43.9116\" style=\"fill:none;stroke:#FF0000;stroke-width:2px;stroke-linecap:butt;stroke-linejoin:miter;stroke-opacity:1;\"/>\n",
       "<path d=\"M 633.701 182.784 L 640.437 182.784 L 640.437 184.08 L 635.221 184.08 L 635.221 187.52 L 639.861 187.52 L 639.861 188.832 L 635.221 188.832 L 635.221 194.112 L 633.701 194.112 L 633.701 182.784 \" fill=\"#000000\"/>\n",
       "<path d=\"M 643.013 185.888 L 643.189 187.024 Q 644.053 185.744, 645.461 185.744 Q 645.909 185.744, 646.517 185.904 L 646.277 187.248 Q 645.589 187.088, 645.205 187.088 Q 644.533 187.088, 644.085 187.36 Q 643.653 187.616, 643.301 188.24 L 643.301 194.112 L 641.797 194.112 L 641.797 185.888 L 643.013 185.888 \" fill=\"#000000\"/>\n",
       "<path d=\"M 647.253 189.984 Q 647.253 187.984, 648.261 186.864 Q 649.285 185.744, 651.157 185.744 Q 653.029 185.744, 654.037 186.864 Q 655.061 187.984, 655.061 189.984 Q 655.061 191.984, 654.037 193.12 Q 653.029 194.24, 651.157 194.24 Q 649.285 194.24, 648.261 193.12 Q 647.253 191.984, 647.253 189.984 M 648.789 189.984 Q 648.789 191.488, 649.397 192.272 Q 650.021 193.056, 651.157 193.056 Q 652.293 193.056, 652.901 192.272 Q 653.525 191.488, 653.525 189.984 Q 653.525 188.48, 652.901 187.712 Q 652.293 186.928, 651.157 186.928 Q 650.021 186.928, 649.397 187.712 Q 648.789 188.48, 648.789 189.984 \" fill=\"#000000\"/>\n",
       "<path d=\"M 665.877 185.744 Q 667.269 185.744, 667.973 186.496 Q 668.677 187.232, 668.677 188.672 L 668.677 194.112 L 667.173 194.112 L 667.173 188.784 Q 667.173 187.808, 666.789 187.376 Q 666.421 186.928, 665.589 186.928 Q 664.869 186.928, 664.245 187.28 Q 663.637 187.616, 663.269 188.224 Q 663.285 188.368, 663.285 188.672 L 663.285 194.112 L 661.781 194.112 L 661.781 188.784 Q 661.781 187.808, 661.397 187.376 Q 661.029 186.928, 660.197 186.928 Q 659.477 186.928, 658.869 187.28 Q 658.261 187.616, 657.877 188.208 L 657.877 194.112 L 656.373 194.112 L 656.373 185.888 L 657.605 185.888 L 657.765 187.008 Q 658.837 185.744, 660.485 185.744 Q 662.421 185.744, 663.029 187.184 Q 664.117 185.744, 665.877 185.744 \" fill=\"#000000\"/>\n",
       "<path d=\"\" fill=\"#000000\"/>\n",
       "<path d=\"M 677.381 182.784 Q 679.317 182.784, 680.293 183.664 Q 681.269 184.528, 681.269 186.112 Q 681.269 187.68, 680.261 188.576 Q 679.269 189.456, 677.381 189.456 L 675.573 189.456 L 675.573 194.112 L 674.037 194.112 L 674.037 182.784 L 677.381 182.784 M 677.381 188.176 Q 678.485 188.176, 679.077 187.648 Q 679.669 187.12, 679.669 186.112 Q 679.669 185.104, 679.077 184.592 Q 678.501 184.064, 677.381 184.064 L 675.573 184.064 L 675.573 188.176 L 677.381 188.176 \" fill=\"#000000\"/>\n",
       "<path d=\"M 686.293 182.784 Q 688.805 182.784, 690.149 184.272 Q 691.493 185.744, 691.493 188.416 Q 691.493 191.104, 690.133 192.608 Q 688.789 194.112, 686.293 194.112 L 682.629 194.112 L 682.629 182.784 L 686.293 182.784 M 686.293 192.832 Q 688.021 192.832, 688.949 191.728 Q 689.893 190.624, 689.893 188.416 Q 689.893 186.224, 688.949 185.152 Q 688.021 184.064, 686.293 184.064 L 684.165 184.064 L 684.165 192.832 L 686.293 192.832 \" fill=\"#000000\"/>\n",
       "<path d=\"M 698.357 188.16 Q 699.445 188.464, 699.989 189.136 Q 700.549 189.792, 700.549 190.768 Q 700.549 192.336, 699.541 193.232 Q 698.549 194.112, 696.661 194.112 L 692.853 194.112 L 692.853 182.784 L 696.197 182.784 Q 698.133 182.784, 699.109 183.568 Q 700.085 184.352, 700.085 185.792 Q 700.085 187.504, 698.357 188.16 M 694.373 184.064 L 694.373 187.616 L 696.197 187.616 Q 697.317 187.616, 697.893 187.168 Q 698.485 186.704, 698.485 185.792 Q 698.485 184.064, 696.197 184.064 L 694.373 184.064 M 696.661 192.832 Q 697.765 192.832, 698.357 192.304 Q 698.949 191.776, 698.949 190.768 Q 698.949 189.84, 698.293 189.376 Q 697.653 188.896, 696.421 188.896 L 694.373 188.896 L 694.373 192.832 L 696.661 192.832 \" fill=\"#000000\"/>\n",
       "<path d=\"\" fill=\"#000000\"/>\n",
       "<path d=\"M 705.957 182.736 L 707.477 182.736 L 707.477 194.112 L 705.957 194.112 L 705.957 182.736 \" fill=\"#000000\"/>\n",
       "<path d=\"M 712.501 182.784 Q 715.013 182.784, 716.357 184.272 Q 717.701 185.744, 717.701 188.416 Q 717.701 191.104, 716.341 192.608 Q 714.997 194.112, 712.501 194.112 L 708.837 194.112 L 708.837 182.784 L 712.501 182.784 M 712.501 192.832 Q 714.229 192.832, 715.157 191.728 Q 716.101 190.624, 716.101 188.416 Q 716.101 186.224, 715.157 185.152 Q 714.229 184.064, 712.501 184.064 L 710.373 184.064 L 710.373 192.832 L 712.501 192.832 \" fill=\"#000000\"/>\n",
       "<path d=\"M 718.901 192.24 L 720.501 192.24 L 720.501 193.84 L 718.901 193.84 L 718.901 192.24 M 718.901 186.736 L 720.501 186.736 L 720.501 188.336 L 718.901 188.336 L 718.901 186.736 \" fill=\"#000000\"/>\n",
       "<path d=\"\" fill=\"#000000\"/>\n",
       "<path d=\"M 725.333 184.928 Q 725.749 183.856, 726.741 183.264 Q 727.733 182.656, 729.109 182.656 Q 730.821 182.656, 731.781 183.584 Q 732.741 184.512, 732.741 186.16 Q 732.741 187.84, 731.493 189.408 Q 730.261 190.976, 727.701 192.832 L 732.933 192.832 L 732.933 194.112 L 725.301 194.112 L 725.301 193.04 Q 727.413 191.536, 728.661 190.416 Q 729.925 189.296, 730.533 188.288 Q 731.141 187.28, 731.141 186.24 Q 731.141 185.152, 730.597 184.544 Q 730.053 183.936, 729.109 183.936 Q 728.197 183.936, 727.589 184.304 Q 726.981 184.672, 726.549 185.488 L 725.333 184.928 \" fill=\"#000000\"/>\n",
       "<path d=\"M 740.405 194.112 L 737.669 189.456 L 737.637 189.456 L 735.829 189.456 L 735.829 194.112 L 734.293 194.112 L 734.293 182.784 L 737.637 182.784 Q 739.573 182.784, 740.549 183.664 Q 741.525 184.528, 741.525 186.112 Q 741.525 187.312, 740.933 188.128 Q 740.357 188.928, 739.221 189.248 L 742.085 194.112 L 740.405 194.112 M 735.829 188.176 L 737.637 188.176 Q 738.741 188.176, 739.333 187.648 Q 739.925 187.12, 739.925 186.112 Q 739.925 185.104, 739.333 184.592 Q 738.757 184.064, 737.637 184.064 L 735.829 184.064 L 735.829 188.176 \" fill=\"#000000\"/>\n",
       "<path d=\"M 751.989 188.56 L 751.989 193.344 Q 750.373 194.256, 747.989 194.256 Q 745.525 194.256, 744.197 192.752 Q 742.885 191.248, 742.885 188.432 Q 742.885 185.616, 744.197 184.144 Q 745.525 182.656, 748.037 182.656 Q 749.349 182.656, 750.309 183.072 Q 751.269 183.472, 751.941 184.304 L 750.901 185.168 Q 749.845 183.936, 748.037 183.936 Q 746.325 183.936, 745.413 185.088 Q 744.517 186.24, 744.517 188.432 Q 744.517 190.672, 745.445 191.824 Q 746.389 192.976, 748.213 192.976 Q 749.397 192.976, 750.453 192.592 L 750.453 188.56 L 751.989 188.56 \" fill=\"#000000\"/>\n",
       "<path d=\"M 758.101 188.144 Q 759.205 188.464, 759.733 189.184 Q 760.277 189.888, 760.277 191.008 Q 760.277 191.968, 759.797 192.72 Q 759.317 193.456, 758.437 193.872 Q 757.557 194.272, 756.405 194.272 Q 755.189 194.272, 754.277 193.856 Q 753.381 193.424, 752.661 192.56 L 753.573 191.632 Q 754.277 192.4, 754.869 192.704 Q 755.461 192.992, 756.405 192.992 Q 757.429 192.992, 758.053 192.448 Q 758.677 191.888, 758.677 190.992 Q 758.677 189.84, 758.021 189.328 Q 757.381 188.8, 755.989 188.8 L 755.173 188.8 L 755.173 187.648 L 755.893 187.648 Q 757.125 187.632, 757.781 187.104 Q 758.437 186.56, 758.437 185.552 Q 758.437 184.816, 757.893 184.384 Q 757.349 183.936, 756.421 183.936 Q 755.477 183.936, 754.885 184.272 Q 754.309 184.608, 753.861 185.456 L 752.757 184.864 Q 753.157 183.92, 754.117 183.296 Q 755.077 182.656, 756.421 182.656 Q 758.085 182.656, 759.061 183.44 Q 760.037 184.224, 760.037 185.552 Q 760.037 186.464, 759.541 187.12 Q 759.045 187.776, 758.101 188.144 \" fill=\"#000000\"/>\n",
       "</svg>"
      ],
      "text/plain": [
       "<IPython.core.display.SVG object>"
      ]
     },
     "execution_count": 147,
     "metadata": {},
     "output_type": "execute_result"
    }
   ],
   "source": [
    "Draw.MolsToGridImage(mols, molsPerRow=4, legends=[\"From PDB ID: \"+i for i in pdb_ids])"
   ]
  },
  {
   "cell_type": "code",
   "execution_count": 148,
   "metadata": {},
   "outputs": [],
   "source": [
    "# Load SMILES for PDB ligand structures\n",
    "ligs = pd.read_csv(\"data/PDB_top_ligands.csv\", sep=\"\\t\")\n",
    "\n",
    "# Get SMILES in the same order as in pdb_ids\n",
    "ligs_smiles = [ligs[ligs[\"@structureId\"]==pdb_id][\"smiles\"].values[0] for pdb_id in pdb_ids]\n",
    "\n",
    "# Generate RDKit Mol object from SMILES\n",
    "refmols = [Chem.MolFromSmiles(smiles) for smiles in ligs_smiles]\n",
    "\n",
    "# Assign bond orders to molecules (mols) based on SMILES patterns (refmols)\n",
    "#mols = [AllChem.AssignBondOrdersFromTemplate(refmol, mol) for refmol, mol in zip(refmols, mols)]"
   ]
  },
  {
   "cell_type": "code",
   "execution_count": 149,
   "metadata": {},
   "outputs": [
    {
     "data": {
      "image/svg+xml": [
       "<svg xmlns=\"http://www.w3.org/2000/svg\" xmlns:rdkit=\"http://www.rdkit.org/xml\" xmlns:xlink=\"http://www.w3.org/1999/xlink\" version=\"1.1\" baseProfile=\"full\" xml:space=\"preserve\" width=\"800px\" height=\"200px\" viewBox=\"0 0 800 200\">\n",
       "<!-- END OF HEADER -->\n",
       "<rect style=\"opacity:1.0;fill:#FFFFFF;stroke:none\" width=\"800\" height=\"200\" x=\"0\" y=\"0\"> </rect>\n",
       "<rect style=\"opacity:1.0;fill:#FFFFFF;stroke:none\" width=\"800\" height=\"200\" x=\"0\" y=\"0\"> </rect>\n",
       "<rect style=\"opacity:1.0;fill:#FFFFFF;stroke:none\" width=\"800\" height=\"200\" x=\"0\" y=\"0\"> </rect>\n",
       "<rect style=\"opacity:1.0;fill:#FFFFFF;stroke:none\" width=\"800\" height=\"200\" x=\"0\" y=\"0\"> </rect>\n",
       "<rect style=\"opacity:1.0;fill:#FFFFFF;stroke:none\" width=\"800\" height=\"200\" x=\"0\" y=\"0\"> </rect>\n",
       "<path class=\"bond-0\" d=\"M 86.1327,33.6904 L 87.3453,22.9932\" style=\"fill:none;fill-rule:evenodd;stroke:#000000;stroke-width:2.0px;stroke-linecap:butt;stroke-linejoin:miter;stroke-opacity:1\"/>\n",
       "<path class=\"bond-1\" d=\"M 87.3453,22.9932 L 86.2812,18.4164\" style=\"fill:none;fill-rule:evenodd;stroke:#000000;stroke-width:2.0px;stroke-linecap:butt;stroke-linejoin:miter;stroke-opacity:1\"/>\n",
       "<path class=\"bond-1\" d=\"M 86.2812,18.4164 L 85.2171,13.8395\" style=\"fill:none;fill-rule:evenodd;stroke:#FF0000;stroke-width:2.0px;stroke-linecap:butt;stroke-linejoin:miter;stroke-opacity:1\"/>\n",
       "<path class=\"bond-2\" d=\"M 87.3453,22.9932 L 91.0637,23.2806\" style=\"fill:none;fill-rule:evenodd;stroke:#000000;stroke-width:2.0px;stroke-linecap:butt;stroke-linejoin:miter;stroke-opacity:1\"/>\n",
       "<path class=\"bond-3\" d=\"M 85.3856,8.98672 L 85.8186,7.64123\" style=\"fill:none;fill-rule:evenodd;stroke:#FF0000;stroke-width:2.0px;stroke-linecap:butt;stroke-linejoin:miter;stroke-opacity:1\"/>\n",
       "<path class=\"bond-3\" d=\"M 85.8186,7.64123 L 86.2517,6.29574\" style=\"fill:none;fill-rule:evenodd;stroke:#0000FF;stroke-width:2.0px;stroke-linecap:butt;stroke-linejoin:miter;stroke-opacity:1\"/>\n",
       "<path class=\"bond-4\" d=\"M 88.1204,6.36631 L 89.3181,8.80126\" style=\"fill:none;fill-rule:evenodd;stroke:#0000FF;stroke-width:2.0px;stroke-linecap:butt;stroke-linejoin:miter;stroke-opacity:1\"/>\n",
       "<path class=\"bond-4\" d=\"M 89.3181,8.80126 L 90.5158,11.2362\" style=\"fill:none;fill-rule:evenodd;stroke:#000000;stroke-width:2.0px;stroke-linecap:butt;stroke-linejoin:miter;stroke-opacity:1\"/>\n",
       "<path class=\"bond-5\" d=\"M 90.5158,11.2362 L 93.4708,5.91006\" style=\"fill:none;fill-rule:evenodd;stroke:#000000;stroke-width:2.0px;stroke-linecap:butt;stroke-linejoin:miter;stroke-opacity:1\"/>\n",
       "<path class=\"bond-6\" d=\"M 90.5158,11.2362 L 91.0637,23.2806\" style=\"fill:none;fill-rule:evenodd;stroke:#000000;stroke-width:2.0px;stroke-linecap:butt;stroke-linejoin:miter;stroke-opacity:1\"/>\n",
       "<path class=\"bond-7\" d=\"M 91.0637,23.2806 L 94.3959,33.9599\" style=\"fill:none;fill-rule:evenodd;stroke:#000000;stroke-width:2.0px;stroke-linecap:butt;stroke-linejoin:miter;stroke-opacity:1\"/>\n",
       "<path class=\"bond-8\" d=\"M 94.3959,33.9599 L 104.581,40.4357\" style=\"fill:none;fill-rule:evenodd;stroke:#000000;stroke-width:2.0px;stroke-linecap:butt;stroke-linejoin:miter;stroke-opacity:1\"/>\n",
       "<path class=\"bond-9\" d=\"M 94.3959,33.9599 L 87.8752,38.6573\" style=\"fill:none;fill-rule:evenodd;stroke:#000000;stroke-width:2.0px;stroke-linecap:butt;stroke-linejoin:miter;stroke-opacity:1\"/>\n",
       "<path class=\"bond-10\" d=\"M 104.581,40.4357 L 108.111,51.3574\" style=\"fill:none;fill-rule:evenodd;stroke:#000000;stroke-width:2.0px;stroke-linecap:butt;stroke-linejoin:miter;stroke-opacity:1\"/>\n",
       "<path class=\"bond-11\" d=\"M 87.8752,38.6573 L 76.675,32.433\" style=\"fill:none;fill-rule:evenodd;stroke:#000000;stroke-width:2.0px;stroke-linecap:butt;stroke-linejoin:miter;stroke-opacity:1\"/>\n",
       "<path class=\"bond-12\" d=\"M 87.8752,38.6573 L 89.3296,42.7978\" style=\"fill:none;fill-rule:evenodd;stroke:#000000;stroke-width:2.0px;stroke-linecap:butt;stroke-linejoin:miter;stroke-opacity:1\"/>\n",
       "<path class=\"bond-12\" d=\"M 89.3296,42.7978 L 90.784,46.9383\" style=\"fill:none;fill-rule:evenodd;stroke:#0000FF;stroke-width:2.0px;stroke-linecap:butt;stroke-linejoin:miter;stroke-opacity:1\"/>\n",
       "<path class=\"bond-13\" d=\"M 89.8155,50.7123 L 87.4801,52.4719\" style=\"fill:none;fill-rule:evenodd;stroke:#0000FF;stroke-width:2.0px;stroke-linecap:butt;stroke-linejoin:miter;stroke-opacity:1\"/>\n",
       "<path class=\"bond-13\" d=\"M 87.4801,52.4719 L 85.1447,54.2315\" style=\"fill:none;fill-rule:evenodd;stroke:#000000;stroke-width:2.0px;stroke-linecap:butt;stroke-linejoin:miter;stroke-opacity:1\"/>\n",
       "<path class=\"bond-14\" d=\"M 93.5393,50.5552 L 97.6321,53.1478\" style=\"fill:none;fill-rule:evenodd;stroke:#0000FF;stroke-width:2.0px;stroke-linecap:butt;stroke-linejoin:miter;stroke-opacity:1\"/>\n",
       "<path class=\"bond-14\" d=\"M 97.6321,53.1478 L 101.725,55.7404\" style=\"fill:none;fill-rule:evenodd;stroke:#000000;stroke-width:2.0px;stroke-linecap:butt;stroke-linejoin:miter;stroke-opacity:1\"/>\n",
       "<path class=\"bond-15\" d=\"M 85.1447,54.2315 L 76.6777,59.3892\" style=\"fill:none;fill-rule:evenodd;stroke:#000000;stroke-width:2.0px;stroke-linecap:butt;stroke-linejoin:miter;stroke-opacity:1\"/>\n",
       "<path class=\"bond-16\" d=\"M 85.1447,54.2315 L 89.4829,53.001\" style=\"fill:none;fill-rule:evenodd;stroke:#000000;stroke-width:2.0px;stroke-linecap:butt;stroke-linejoin:miter;stroke-opacity:1\"/>\n",
       "<path class=\"bond-17\" d=\"M 72.8984,61.9637 L 68.4029,65.3688\" style=\"fill:none;fill-rule:evenodd;stroke:#000000;stroke-width:2.0px;stroke-linecap:butt;stroke-linejoin:miter;stroke-opacity:1\"/>\n",
       "<path class=\"bond-18\" d=\"M 68.4029,65.3688 L 62.2651,69.2347\" style=\"fill:none;fill-rule:evenodd;stroke:#000000;stroke-width:2.0px;stroke-linecap:butt;stroke-linejoin:miter;stroke-opacity:1\"/>\n",
       "<path class=\"bond-18\" d=\"M 62.2651,69.2347 L 56.1274,73.1007\" style=\"fill:none;fill-rule:evenodd;stroke:#00CC00;stroke-width:2.0px;stroke-linecap:butt;stroke-linejoin:miter;stroke-opacity:1\"/>\n",
       "<path class=\"bond-19\" d=\"M 68.4029,65.3688 L 70.6837,64.6917\" style=\"fill:none;fill-rule:evenodd;stroke:#000000;stroke-width:2.0px;stroke-linecap:butt;stroke-linejoin:miter;stroke-opacity:1\"/>\n",
       "<path class=\"bond-20\" d=\"M 74.3739,63.0622 L 81.2776,59.1198\" style=\"fill:none;fill-rule:evenodd;stroke:#000000;stroke-width:2.0px;stroke-linecap:butt;stroke-linejoin:miter;stroke-opacity:1\"/>\n",
       "<path class=\"bond-21\" d=\"M 85.0087,56.5715 L 89.4829,53.001\" style=\"fill:none;fill-rule:evenodd;stroke:#000000;stroke-width:2.0px;stroke-linecap:butt;stroke-linejoin:miter;stroke-opacity:1\"/>\n",
       "<path class=\"bond-22\" d=\"M 101.725,55.7404 L 102.658,59.2336\" style=\"fill:none;fill-rule:evenodd;stroke:#000000;stroke-width:2.0px;stroke-linecap:butt;stroke-linejoin:miter;stroke-opacity:1\"/>\n",
       "<path class=\"bond-22\" d=\"M 102.658,59.2336 L 103.592,62.7267\" style=\"fill:none;fill-rule:evenodd;stroke:#FF0000;stroke-width:2.0px;stroke-linecap:butt;stroke-linejoin:miter;stroke-opacity:1\"/>\n",
       "<path class=\"bond-23\" d=\"M 101.725,55.7404 L 108.111,51.3574\" style=\"fill:none;fill-rule:evenodd;stroke:#000000;stroke-width:2.0px;stroke-linecap:butt;stroke-linejoin:miter;stroke-opacity:1\"/>\n",
       "<path class=\"bond-24\" d=\"M 108.111,51.3574 L 119.581,57.0877\" style=\"fill:none;fill-rule:evenodd;stroke:#000000;stroke-width:2.0px;stroke-linecap:butt;stroke-linejoin:miter;stroke-opacity:1\"/>\n",
       "<path class=\"bond-25\" d=\"M 119.581,57.0877 L 121.279,55.7154\" style=\"fill:none;fill-rule:evenodd;stroke:#000000;stroke-width:2.0px;stroke-linecap:butt;stroke-linejoin:miter;stroke-opacity:1\"/>\n",
       "<path class=\"bond-25\" d=\"M 121.279,55.7154 L 122.977,54.3431\" style=\"fill:none;fill-rule:evenodd;stroke:#FF0000;stroke-width:2.0px;stroke-linecap:butt;stroke-linejoin:miter;stroke-opacity:1\"/>\n",
       "<path class=\"bond-26\" d=\"M 119.581,57.0877 L 121.107,60.5687\" style=\"fill:none;fill-rule:evenodd;stroke:#000000;stroke-width:2.0px;stroke-linecap:butt;stroke-linejoin:miter;stroke-opacity:1\"/>\n",
       "<path class=\"bond-26\" d=\"M 121.107,60.5687 L 122.633,64.0497\" style=\"fill:none;fill-rule:evenodd;stroke:#0000FF;stroke-width:2.0px;stroke-linecap:butt;stroke-linejoin:miter;stroke-opacity:1\"/>\n",
       "<path class=\"bond-27\" d=\"M 125.606,67.2702 L 130.479,69.3957\" style=\"fill:none;fill-rule:evenodd;stroke:#0000FF;stroke-width:2.0px;stroke-linecap:butt;stroke-linejoin:miter;stroke-opacity:1\"/>\n",
       "<path class=\"bond-27\" d=\"M 130.479,69.3957 L 135.352,71.5213\" style=\"fill:none;fill-rule:evenodd;stroke:#000000;stroke-width:2.0px;stroke-linecap:butt;stroke-linejoin:miter;stroke-opacity:1\"/>\n",
       "<path class=\"bond-28\" d=\"M 135.352,71.5213 L 135.694,81.5538\" style=\"fill:none;fill-rule:evenodd;stroke:#000000;stroke-width:2.0px;stroke-linecap:butt;stroke-linejoin:miter;stroke-opacity:1\"/>\n",
       "<path class=\"bond-29\" d=\"M 135.694,81.5538 L 125.598,85.892\" style=\"fill:none;fill-rule:evenodd;stroke:#000000;stroke-width:2.0px;stroke-linecap:butt;stroke-linejoin:miter;stroke-opacity:1\"/>\n",
       "<path class=\"bond-30\" d=\"M 135.694,81.5538 L 147.073,86.3141\" style=\"fill:none;fill-rule:evenodd;stroke:#000000;stroke-width:2.0px;stroke-linecap:butt;stroke-linejoin:miter;stroke-opacity:1\"/>\n",
       "<path class=\"bond-31\" d=\"M 125.598,85.892 L 126.901,95.2868\" style=\"fill:none;fill-rule:evenodd;stroke:#000000;stroke-width:2.0px;stroke-linecap:butt;stroke-linejoin:miter;stroke-opacity:1\"/>\n",
       "<path class=\"bond-32\" d=\"M 126.901,95.2868 L 138.191,100.101\" style=\"fill:none;fill-rule:evenodd;stroke:#000000;stroke-width:2.0px;stroke-linecap:butt;stroke-linejoin:miter;stroke-opacity:1\"/>\n",
       "<path class=\"bond-33\" d=\"M 138.191,100.101 L 138.61,104.856\" style=\"fill:none;fill-rule:evenodd;stroke:#000000;stroke-width:2.0px;stroke-linecap:butt;stroke-linejoin:miter;stroke-opacity:1\"/>\n",
       "<path class=\"bond-33\" d=\"M 138.61,104.856 L 139.028,109.611\" style=\"fill:none;fill-rule:evenodd;stroke:#CCCC00;stroke-width:2.0px;stroke-linecap:butt;stroke-linejoin:miter;stroke-opacity:1\"/>\n",
       "<path class=\"bond-34\" d=\"M 138.191,100.101 L 148.322,95.5652\" style=\"fill:none;fill-rule:evenodd;stroke:#000000;stroke-width:2.0px;stroke-linecap:butt;stroke-linejoin:miter;stroke-opacity:1\"/>\n",
       "<path class=\"bond-35\" d=\"M 137.629,111.284 L 133.895,109.559\" style=\"fill:none;fill-rule:evenodd;stroke:#CCCC00;stroke-width:2.0px;stroke-linecap:butt;stroke-linejoin:miter;stroke-opacity:1\"/>\n",
       "<path class=\"bond-35\" d=\"M 133.895,109.559 L 130.161,107.834\" style=\"fill:none;fill-rule:evenodd;stroke:#000000;stroke-width:2.0px;stroke-linecap:butt;stroke-linejoin:miter;stroke-opacity:1\"/>\n",
       "<path class=\"bond-36\" d=\"M 140.926,112.316 L 145.337,113.069\" style=\"fill:none;fill-rule:evenodd;stroke:#CCCC00;stroke-width:2.0px;stroke-linecap:butt;stroke-linejoin:miter;stroke-opacity:1\"/>\n",
       "<path class=\"bond-36\" d=\"M 145.337,113.069 L 149.747,113.822\" style=\"fill:none;fill-rule:evenodd;stroke:#FF0000;stroke-width:2.0px;stroke-linecap:butt;stroke-linejoin:miter;stroke-opacity:1\"/>\n",
       "<path class=\"bond-37\" d=\"M 138.035,114.565 L 136.591,117.603\" style=\"fill:none;fill-rule:evenodd;stroke:#CCCC00;stroke-width:2.0px;stroke-linecap:butt;stroke-linejoin:miter;stroke-opacity:1\"/>\n",
       "<path class=\"bond-37\" d=\"M 136.591,117.603 L 135.147,120.64\" style=\"fill:none;fill-rule:evenodd;stroke:#FF0000;stroke-width:2.0px;stroke-linecap:butt;stroke-linejoin:miter;stroke-opacity:1\"/>\n",
       "<path class=\"bond-38\" d=\"M 148.322,95.5652 L 147.073,86.3141\" style=\"fill:none;fill-rule:evenodd;stroke:#000000;stroke-width:2.0px;stroke-linecap:butt;stroke-linejoin:miter;stroke-opacity:1\"/>\n",
       "<path class=\"atom-2\" d=\"M 82.6828 11.338 Q 82.6828 10.318, 83.1868 9.74802 Q 83.6908 9.17802, 84.6328 9.17802 Q 85.5748 9.17802, 86.0788 9.74802 Q 86.5828 10.318, 86.5828 11.338 Q 86.5828 12.37, 86.0728 12.958 Q 85.5628 13.54, 84.6328 13.54 Q 83.6968 13.54, 83.1868 12.958 Q 82.6828 12.376, 82.6828 11.338 M 84.6328 13.06 Q 85.2808 13.06, 85.6288 12.628 Q 85.9828 12.19, 85.9828 11.338 Q 85.9828 10.504, 85.6288 10.084 Q 85.2808 9.65802, 84.6328 9.65802 Q 83.9848 9.65802, 83.6308 10.078 Q 83.2828 10.498, 83.2828 11.338 Q 83.2828 12.196, 83.6308 12.628 Q 83.9848 13.06, 84.6328 13.06 \" fill=\"#FF0000\"/>\n",
       "<path class=\"atom-3\" d=\"M 86.038 1.91787 L 87.43 4.16787 Q 87.568 4.38987, 87.79 4.79187 Q 88.012 5.19387, 88.024 5.21787 L 88.024 1.91787 L 88.588 1.91787 L 88.588 6.16587 L 88.006 6.16587 L 86.512 3.70587 Q 86.338 3.41787, 86.152 3.08787 Q 85.972 2.75787, 85.918 2.65587 L 85.918 6.16587 L 85.366 6.16587 L 85.366 1.91787 L 86.038 1.91787 \" fill=\"#0000FF\"/>\n",
       "<path class=\"atom-3\" d=\"M 85.315 -2.75493 L 85.891 -2.75493 L 85.891 -0.948926 L 88.063 -0.948926 L 88.063 -2.75493 L 88.639 -2.75493 L 88.639 1.49307 L 88.063 1.49307 L 88.063 -0.468926 L 85.891 -0.468926 L 85.891 1.49307 L 85.315 1.49307 L 85.315 -2.75493 \" fill=\"#0000FF\"/>\n",
       "<path class=\"atom-11\" d=\"M 90.6905 47.2215 L 92.0825 49.4715 Q 92.2205 49.6935, 92.4425 50.0955 Q 92.6645 50.4975, 92.6765 50.5215 L 92.6765 47.2215 L 93.2405 47.2215 L 93.2405 51.4695 L 92.6585 51.4695 L 91.1645 49.0095 Q 90.9905 48.7215, 90.8045 48.3915 Q 90.6245 48.0615, 90.5705 47.9595 L 90.5705 51.4695 L 90.0185 51.4695 L 90.0185 47.2215 L 90.6905 47.2215 \" fill=\"#0000FF\"/>\n",
       "<path class=\"atom-13\" d=\"M 73.097 60.5906 Q 73.097 59.5346, 73.589 58.9826 Q 74.087 58.4246, 75.029 58.4246 Q 75.905 58.4246, 76.373 59.0426 L 75.977 59.3666 Q 75.635 58.9166, 75.029 58.9166 Q 74.387 58.9166, 74.045 59.3486 Q 73.709 59.7746, 73.709 60.5906 Q 73.709 61.4306, 74.057 61.8626 Q 74.411 62.2946, 75.095 62.2946 Q 75.563 62.2946, 76.109 62.0126 L 76.277 62.4626 Q 76.055 62.6066, 75.719 62.6906 Q 75.383 62.7746, 75.011 62.7746 Q 74.087 62.7746, 73.589 62.2106 Q 73.097 61.6466, 73.097 60.5906 \" fill=\"#000000\"/>\n",
       "<path class=\"atom-15\" d=\"M 51.4013 73.6622 Q 51.4013 72.6062, 51.8933 72.0542 Q 52.3913 71.4962, 53.3333 71.4962 Q 54.2093 71.4962, 54.6773 72.1142 L 54.2813 72.4382 Q 53.9393 71.9882, 53.3333 71.9882 Q 52.6913 71.9882, 52.3493 72.4202 Q 52.0133 72.8462, 52.0133 73.6622 Q 52.0133 74.5022, 52.3613 74.9342 Q 52.7153 75.3662, 53.3993 75.3662 Q 53.8673 75.3662, 54.4133 75.0842 L 54.5813 75.5342 Q 54.3593 75.6782, 54.0233 75.7622 Q 53.6873 75.8462, 53.3153 75.8462 Q 52.3913 75.8462, 51.8933 75.2822 Q 51.4013 74.7182, 51.4013 73.6622 \" fill=\"#00CC00\"/>\n",
       "<path class=\"atom-15\" d=\"M 55.1933 71.2382 L 55.7453 71.2382 L 55.7453 75.7922 L 55.1933 75.7922 L 55.1933 71.2382 \" fill=\"#00CC00\"/>\n",
       "<path class=\"atom-16\" d=\"M 70.7887 64.1922 Q 70.7887 63.1362, 71.2807 62.5842 Q 71.7787 62.0262, 72.7207 62.0262 Q 73.5967 62.0262, 74.0647 62.6442 L 73.6687 62.9682 Q 73.3267 62.5182, 72.7207 62.5182 Q 72.0787 62.5182, 71.7367 62.9502 Q 71.4007 63.3762, 71.4007 64.1922 Q 71.4007 65.0322, 71.7487 65.4642 Q 72.1027 65.8962, 72.7867 65.8962 Q 73.2547 65.8962, 73.8007 65.6142 L 73.9687 66.0642 Q 73.7467 66.2082, 73.4107 66.2922 Q 73.0747 66.3762, 72.7027 66.3762 Q 71.7787 66.3762, 71.2807 65.8122 Q 70.7887 65.2482, 70.7887 64.1922 \" fill=\"#000000\"/>\n",
       "<path class=\"atom-17\" d=\"M 81.5308 58.0578 Q 81.5308 57.0018, 82.0228 56.4498 Q 82.5208 55.8918, 83.4628 55.8918 Q 84.3388 55.8918, 84.8068 56.5098 L 84.4108 56.8338 Q 84.0688 56.3838, 83.4628 56.3838 Q 82.8208 56.3838, 82.4788 56.8158 Q 82.1428 57.2418, 82.1428 58.0578 Q 82.1428 58.8978, 82.4908 59.3298 Q 82.8448 59.7618, 83.5288 59.7618 Q 83.9968 59.7618, 84.5428 59.4798 L 84.7108 59.9298 Q 84.4888 60.0738, 84.1528 60.1578 Q 83.8168 60.2418, 83.4448 60.2418 Q 82.5208 60.2418, 82.0228 59.6778 Q 81.5308 59.1138, 81.5308 58.0578 \" fill=\"#000000\"/>\n",
       "<path class=\"atom-20\" d=\"M 102.281 65.1293 Q 102.281 64.1093, 102.785 63.5393 Q 103.289 62.9693, 104.231 62.9693 Q 105.173 62.9693, 105.677 63.5393 Q 106.181 64.1093, 106.181 65.1293 Q 106.181 66.1613, 105.671 66.7493 Q 105.161 67.3313, 104.231 67.3313 Q 103.295 67.3313, 102.785 66.7493 Q 102.281 66.1673, 102.281 65.1293 M 104.231 66.8513 Q 104.879 66.8513, 105.227 66.4193 Q 105.581 65.9813, 105.581 65.1293 Q 105.581 64.2953, 105.227 63.8753 Q 104.879 63.4493, 104.231 63.4493 Q 103.583 63.4493, 103.229 63.8693 Q 102.881 64.2893, 102.881 65.1293 Q 102.881 65.9873, 103.229 66.4193 Q 103.583 66.8513, 104.231 66.8513 \" fill=\"#FF0000\"/>\n",
       "<path class=\"atom-20\" d=\"M 106.691 63.0173 L 107.267 63.0173 L 107.267 64.8233 L 109.439 64.8233 L 109.439 63.0173 L 110.015 63.0173 L 110.015 67.2653 L 109.439 67.2653 L 109.439 65.3033 L 107.267 65.3033 L 107.267 67.2653 L 106.691 67.2653 L 106.691 63.0173 \" fill=\"#FF0000\"/>\n",
       "<path class=\"atom-23\" d=\"M 123.154 52.6358 Q 123.154 51.6158, 123.658 51.0458 Q 124.162 50.4758, 125.104 50.4758 Q 126.046 50.4758, 126.55 51.0458 Q 127.054 51.6158, 127.054 52.6358 Q 127.054 53.6678, 126.544 54.2558 Q 126.034 54.8378, 125.104 54.8378 Q 124.168 54.8378, 123.658 54.2558 Q 123.154 53.6738, 123.154 52.6358 M 125.104 54.3578 Q 125.752 54.3578, 126.1 53.9258 Q 126.454 53.4878, 126.454 52.6358 Q 126.454 51.8018, 126.1 51.3818 Q 125.752 50.9558, 125.104 50.9558 Q 124.456 50.9558, 124.102 51.3758 Q 123.754 51.7958, 123.754 52.6358 Q 123.754 53.4938, 124.102 53.9258 Q 124.456 54.3578, 125.104 54.3578 \" fill=\"#FF0000\"/>\n",
       "<path class=\"atom-23\" d=\"M 127.564 50.5238 L 128.14 50.5238 L 128.14 52.3298 L 130.312 52.3298 L 130.312 50.5238 L 130.888 50.5238 L 130.888 54.7718 L 130.312 54.7718 L 130.312 52.8098 L 128.14 52.8098 L 128.14 54.7718 L 127.564 54.7718 L 127.564 50.5238 \" fill=\"#FF0000\"/>\n",
       "<path class=\"atom-24\" d=\"M 118.243 64.3046 L 118.819 64.3046 L 118.819 66.1106 L 120.991 66.1106 L 120.991 64.3046 L 121.567 64.3046 L 121.567 68.5526 L 120.991 68.5526 L 120.991 66.5906 L 118.819 66.5906 L 118.819 68.5526 L 118.243 68.5526 L 118.243 64.3046 \" fill=\"#0000FF\"/>\n",
       "<path class=\"atom-24\" d=\"M 122.737 64.3046 L 124.129 66.5546 Q 124.267 66.7766, 124.489 67.1786 Q 124.711 67.5806, 124.723 67.6046 L 124.723 64.3046 L 125.287 64.3046 L 125.287 68.5526 L 124.705 68.5526 L 123.211 66.0926 Q 123.037 65.8046, 122.851 65.4746 Q 122.671 65.1446, 122.617 65.0426 L 122.617 68.5526 L 122.065 68.5526 L 122.065 64.3046 L 122.737 64.3046 \" fill=\"#0000FF\"/>\n",
       "<path class=\"atom-30\" d=\"M 138.041 113.487 Q 138.089 113.505, 138.287 113.589 Q 138.485 113.673, 138.701 113.727 Q 138.923 113.775, 139.139 113.775 Q 139.541 113.775, 139.775 113.583 Q 140.009 113.385, 140.009 113.043 Q 140.009 112.809, 139.889 112.665 Q 139.775 112.521, 139.595 112.443 Q 139.415 112.365, 139.115 112.275 Q 138.737 112.161, 138.509 112.053 Q 138.287 111.945, 138.125 111.717 Q 137.969 111.489, 137.969 111.105 Q 137.969 110.571, 138.329 110.241 Q 138.695 109.911, 139.415 109.911 Q 139.907 109.911, 140.465 110.145 L 140.327 110.607 Q 139.817 110.397, 139.433 110.397 Q 139.019 110.397, 138.791 110.571 Q 138.563 110.739, 138.569 111.033 Q 138.569 111.261, 138.683 111.399 Q 138.803 111.537, 138.971 111.615 Q 139.145 111.693, 139.433 111.783 Q 139.817 111.903, 140.045 112.023 Q 140.273 112.143, 140.435 112.389 Q 140.603 112.629, 140.603 113.043 Q 140.603 113.631, 140.207 113.949 Q 139.817 114.261, 139.163 114.261 Q 138.785 114.261, 138.497 114.177 Q 138.215 114.099, 137.879 113.961 L 138.041 113.487 \" fill=\"#CCCC00\"/>\n",
       "<path class=\"atom-32\" d=\"M 150.027 114.214 Q 150.027 113.194, 150.531 112.624 Q 151.035 112.054, 151.977 112.054 Q 152.919 112.054, 153.423 112.624 Q 153.927 113.194, 153.927 114.214 Q 153.927 115.246, 153.417 115.834 Q 152.907 116.416, 151.977 116.416 Q 151.041 116.416, 150.531 115.834 Q 150.027 115.252, 150.027 114.214 M 151.977 115.936 Q 152.625 115.936, 152.973 115.504 Q 153.327 115.066, 153.327 114.214 Q 153.327 113.38, 152.973 112.96 Q 152.625 112.534, 151.977 112.534 Q 151.329 112.534, 150.975 112.954 Q 150.627 113.374, 150.627 114.214 Q 150.627 115.072, 150.975 115.504 Q 151.329 115.936, 151.977 115.936 \" fill=\"#FF0000\"/>\n",
       "<path class=\"atom-32\" d=\"M 154.437 112.102 L 155.013 112.102 L 155.013 113.908 L 157.185 113.908 L 157.185 112.102 L 157.761 112.102 L 157.761 116.35 L 157.185 116.35 L 157.185 114.388 L 155.013 114.388 L 155.013 116.35 L 154.437 116.35 L 154.437 112.102 \" fill=\"#FF0000\"/>\n",
       "<path class=\"atom-33\" d=\"M 128.44 120.922 L 129.016 120.922 L 129.016 122.728 L 131.188 122.728 L 131.188 120.922 L 131.764 120.922 L 131.764 125.17 L 131.188 125.17 L 131.188 123.208 L 129.016 123.208 L 129.016 125.17 L 128.44 125.17 L 128.44 120.922 \" fill=\"#FF0000\"/>\n",
       "<path class=\"atom-33\" d=\"M 132.064 123.034 Q 132.064 122.014, 132.568 121.444 Q 133.072 120.874, 134.014 120.874 Q 134.956 120.874, 135.46 121.444 Q 135.964 122.014, 135.964 123.034 Q 135.964 124.066, 135.454 124.654 Q 134.944 125.236, 134.014 125.236 Q 133.078 125.236, 132.568 124.654 Q 132.064 124.072, 132.064 123.034 M 134.014 124.756 Q 134.662 124.756, 135.01 124.324 Q 135.364 123.886, 135.364 123.034 Q 135.364 122.2, 135.01 121.78 Q 134.662 121.354, 134.014 121.354 Q 133.366 121.354, 133.012 121.774 Q 132.664 122.194, 132.664 123.034 Q 132.664 123.892, 133.012 124.324 Q 133.366 124.756, 134.014 124.756 \" fill=\"#FF0000\"/>\n",
       "<path d=\"M 31.4946 182.856 L 38.2306 182.856 L 38.2306 184.152 L 33.0146 184.152 L 33.0146 187.592 L 37.6546 187.592 L 37.6546 188.904 L 33.0146 188.904 L 33.0146 194.184 L 31.4946 194.184 L 31.4946 182.856 \" fill=\"#000000\"/>\n",
       "<path d=\"M 40.8066 185.96 L 40.9826 187.096 Q 41.8466 185.816, 43.2546 185.816 Q 43.7026 185.816, 44.3106 185.976 L 44.0706 187.32 Q 43.3826 187.16, 42.9986 187.16 Q 42.3266 187.16, 41.8786 187.432 Q 41.4466 187.688, 41.0946 188.312 L 41.0946 194.184 L 39.5906 194.184 L 39.5906 185.96 L 40.8066 185.96 \" fill=\"#000000\"/>\n",
       "<path d=\"M 45.0466 190.056 Q 45.0466 188.056, 46.0546 186.936 Q 47.0786 185.816, 48.9506 185.816 Q 50.8226 185.816, 51.8306 186.936 Q 52.8546 188.056, 52.8546 190.056 Q 52.8546 192.056, 51.8306 193.192 Q 50.8226 194.312, 48.9506 194.312 Q 47.0786 194.312, 46.0546 193.192 Q 45.0466 192.056, 45.0466 190.056 M 46.5826 190.056 Q 46.5826 191.56, 47.1906 192.344 Q 47.8146 193.128, 48.9506 193.128 Q 50.0866 193.128, 50.6946 192.344 Q 51.3186 191.56, 51.3186 190.056 Q 51.3186 188.552, 50.6946 187.784 Q 50.0866 187, 48.9506 187 Q 47.8146 187, 47.1906 187.784 Q 46.5826 188.552, 46.5826 190.056 \" fill=\"#000000\"/>\n",
       "<path d=\"M 63.6706 185.816 Q 65.0626 185.816, 65.7666 186.568 Q 66.4706 187.304, 66.4706 188.744 L 66.4706 194.184 L 64.9666 194.184 L 64.9666 188.856 Q 64.9666 187.88, 64.5826 187.448 Q 64.2146 187, 63.3826 187 Q 62.6626 187, 62.0386 187.352 Q 61.4306 187.688, 61.0626 188.296 Q 61.0786 188.44, 61.0786 188.744 L 61.0786 194.184 L 59.5746 194.184 L 59.5746 188.856 Q 59.5746 187.88, 59.1906 187.448 Q 58.8226 187, 57.9906 187 Q 57.2706 187, 56.6626 187.352 Q 56.0546 187.688, 55.6706 188.28 L 55.6706 194.184 L 54.1666 194.184 L 54.1666 185.96 L 55.3986 185.96 L 55.5586 187.08 Q 56.6306 185.816, 58.2786 185.816 Q 60.2146 185.816, 60.8226 187.256 Q 61.9106 185.816, 63.6706 185.816 \" fill=\"#000000\"/>\n",
       "<path d=\"\" fill=\"#000000\"/>\n",
       "<path d=\"M 75.1746 182.856 Q 77.1106 182.856, 78.0866 183.736 Q 79.0626 184.6, 79.0626 186.184 Q 79.0626 187.752, 78.0546 188.648 Q 77.0626 189.528, 75.1746 189.528 L 73.3666 189.528 L 73.3666 194.184 L 71.8306 194.184 L 71.8306 182.856 L 75.1746 182.856 M 75.1746 188.248 Q 76.2786 188.248, 76.8706 187.72 Q 77.4626 187.192, 77.4626 186.184 Q 77.4626 185.176, 76.8706 184.664 Q 76.2946 184.136, 75.1746 184.136 L 73.3666 184.136 L 73.3666 188.248 L 75.1746 188.248 \" fill=\"#000000\"/>\n",
       "<path d=\"M 84.0866 182.856 Q 86.5986 182.856, 87.9426 184.344 Q 89.2866 185.816, 89.2866 188.488 Q 89.2866 191.176, 87.9266 192.68 Q 86.5826 194.184, 84.0866 194.184 L 80.4226 194.184 L 80.4226 182.856 L 84.0866 182.856 M 84.0866 192.904 Q 85.8146 192.904, 86.7426 191.8 Q 87.6866 190.696, 87.6866 188.488 Q 87.6866 186.296, 86.7426 185.224 Q 85.8146 184.136, 84.0866 184.136 L 81.9586 184.136 L 81.9586 192.904 L 84.0866 192.904 \" fill=\"#000000\"/>\n",
       "<path d=\"M 96.1506 188.232 Q 97.2386 188.536, 97.7826 189.208 Q 98.3426 189.864, 98.3426 190.84 Q 98.3426 192.408, 97.3346 193.304 Q 96.3426 194.184, 94.4546 194.184 L 90.6466 194.184 L 90.6466 182.856 L 93.9906 182.856 Q 95.9266 182.856, 96.9026 183.64 Q 97.8786 184.424, 97.8786 185.864 Q 97.8786 187.576, 96.1506 188.232 M 92.1666 184.136 L 92.1666 187.688 L 93.9906 187.688 Q 95.1106 187.688, 95.6866 187.24 Q 96.2786 186.776, 96.2786 185.864 Q 96.2786 184.136, 93.9906 184.136 L 92.1666 184.136 M 94.4546 192.904 Q 95.5586 192.904, 96.1506 192.376 Q 96.7426 191.848, 96.7426 190.84 Q 96.7426 189.912, 96.0866 189.448 Q 95.4466 188.968, 94.2146 188.968 L 92.1666 188.968 L 92.1666 192.904 L 94.4546 192.904 \" fill=\"#000000\"/>\n",
       "<path d=\"\" fill=\"#000000\"/>\n",
       "<path d=\"M 103.751 182.808 L 105.271 182.808 L 105.271 194.184 L 103.751 194.184 L 103.751 182.808 \" fill=\"#000000\"/>\n",
       "<path d=\"M 110.295 182.856 Q 112.807 182.856, 114.151 184.344 Q 115.495 185.816, 115.495 188.488 Q 115.495 191.176, 114.135 192.68 Q 112.791 194.184, 110.295 194.184 L 106.631 194.184 L 106.631 182.856 L 110.295 182.856 M 110.295 192.904 Q 112.023 192.904, 112.951 191.8 Q 113.895 190.696, 113.895 188.488 Q 113.895 186.296, 112.951 185.224 Q 112.023 184.136, 110.295 184.136 L 108.167 184.136 L 108.167 192.904 L 110.295 192.904 \" fill=\"#000000\"/>\n",
       "<path d=\"M 116.695 192.312 L 118.295 192.312 L 118.295 193.912 L 116.695 193.912 L 116.695 192.312 M 116.695 186.808 L 118.295 186.808 L 118.295 188.408 L 116.695 188.408 L 116.695 186.808 \" fill=\"#000000\"/>\n",
       "<path d=\"\" fill=\"#000000\"/>\n",
       "<path d=\"M 127.143 187.096 Q 128.135 187.096, 128.951 187.528 Q 129.767 187.944, 130.231 188.744 Q 130.695 189.528, 130.695 190.6 Q 130.695 191.768, 130.119 192.616 Q 129.559 193.448, 128.631 193.88 Q 127.703 194.312, 126.647 194.312 Q 125.607 194.312, 124.647 193.928 Q 123.687 193.544, 123.031 192.808 L 123.991 191.816 Q 124.519 192.392, 125.239 192.712 Q 125.959 193.016, 126.695 193.016 Q 127.703 193.016, 128.391 192.392 Q 129.095 191.768, 129.095 190.632 Q 129.095 189.432, 128.391 188.872 Q 127.703 188.296, 126.599 188.296 Q 125.607 188.296, 124.503 188.728 L 123.623 188.312 L 124.167 182.856 L 129.991 182.856 L 129.831 184.136 L 125.479 184.136 L 125.143 187.496 Q 126.151 187.096, 127.143 187.096 \" fill=\"#000000\"/>\n",
       "<path d=\"M 139.239 194.184 L 138.055 190.856 L 133.559 190.856 L 132.423 194.184 L 130.887 194.184 L 134.791 182.856 L 136.679 182.856 L 140.727 194.184 L 139.239 194.184 M 134.007 189.576 L 137.591 189.576 L 135.767 184.44 L 134.007 189.576 \" fill=\"#000000\"/>\n",
       "<path d=\"M 147.591 188.232 Q 148.679 188.536, 149.223 189.208 Q 149.783 189.864, 149.783 190.84 Q 149.783 192.408, 148.775 193.304 Q 147.783 194.184, 145.895 194.184 L 142.087 194.184 L 142.087 182.856 L 145.431 182.856 Q 147.367 182.856, 148.343 183.64 Q 149.319 184.424, 149.319 185.864 Q 149.319 187.576, 147.591 188.232 M 143.607 184.136 L 143.607 187.688 L 145.431 187.688 Q 146.551 187.688, 147.127 187.24 Q 147.719 186.776, 147.719 185.864 Q 147.719 184.136, 145.431 184.136 L 143.607 184.136 M 145.895 192.904 Q 146.999 192.904, 147.591 192.376 Q 148.183 191.848, 148.183 190.84 Q 148.183 189.912, 147.527 189.448 Q 146.887 188.968, 145.655 188.968 L 143.607 188.968 L 143.607 192.904 L 145.895 192.904 \" fill=\"#000000\"/>\n",
       "<path d=\"M 164.327 182.872 L 165.863 182.872 L 162.839 194.184 L 160.519 194.184 L 158.055 184.744 L 155.575 194.184 L 153.255 194.184 L 150.231 182.872 L 151.783 182.872 L 154.439 192.776 L 157.047 182.872 L 159.047 182.872 L 161.655 192.808 L 164.327 182.872 \" fill=\"#000000\"/>\n",
       "<path class=\"bond-0\" d=\"M 366.321,156.668 L 375.842,163.997\" style=\"fill:none;fill-rule:evenodd;stroke:#000000;stroke-width:2.0px;stroke-linecap:butt;stroke-linejoin:miter;stroke-opacity:1\"/>\n",
       "<path class=\"bond-1\" d=\"M 366.321,156.668 L 368.341,152.376\" style=\"fill:none;fill-rule:evenodd;stroke:#000000;stroke-width:2.0px;stroke-linecap:butt;stroke-linejoin:miter;stroke-opacity:1\"/>\n",
       "<path class=\"bond-1\" d=\"M 368.341,152.376 L 370.361,148.084\" style=\"fill:none;fill-rule:evenodd;stroke:#0000FF;stroke-width:2.0px;stroke-linecap:butt;stroke-linejoin:miter;stroke-opacity:1\"/>\n",
       "<path class=\"bond-2\" d=\"M 375.842,163.997 L 376.817,162.145\" style=\"fill:none;fill-rule:evenodd;stroke:#000000;stroke-width:2.0px;stroke-linecap:butt;stroke-linejoin:miter;stroke-opacity:1\"/>\n",
       "<path class=\"bond-2\" d=\"M 376.817,162.145 L 377.792,160.293\" style=\"fill:none;fill-rule:evenodd;stroke:#FF0000;stroke-width:2.0px;stroke-linecap:butt;stroke-linejoin:miter;stroke-opacity:1\"/>\n",
       "<path class=\"bond-3\" d=\"M 390.293,162.048 L 385.796,160.392\" style=\"fill:none;fill-rule:evenodd;stroke:#000000;stroke-width:2.0px;stroke-linecap:butt;stroke-linejoin:miter;stroke-opacity:1\"/>\n",
       "<path class=\"bond-3\" d=\"M 385.796,160.392 L 381.298,158.735\" style=\"fill:none;fill-rule:evenodd;stroke:#FF0000;stroke-width:2.0px;stroke-linecap:butt;stroke-linejoin:miter;stroke-opacity:1\"/>\n",
       "<path class=\"bond-4\" d=\"M 390.293,162.048 L 392.638,155.635\" style=\"fill:none;fill-rule:evenodd;stroke:#000000;stroke-width:2.0px;stroke-linecap:butt;stroke-linejoin:miter;stroke-opacity:1\"/>\n",
       "<path class=\"bond-5\" d=\"M 392.638,155.635 L 392.702,150.673\" style=\"fill:none;fill-rule:evenodd;stroke:#000000;stroke-width:2.0px;stroke-linecap:butt;stroke-linejoin:miter;stroke-opacity:1\"/>\n",
       "<path class=\"bond-5\" d=\"M 392.702,150.673 L 392.766,145.711\" style=\"fill:none;fill-rule:evenodd;stroke:#FF0000;stroke-width:2.0px;stroke-linecap:butt;stroke-linejoin:miter;stroke-opacity:1\"/>\n",
       "<path class=\"bond-6\" d=\"M 397.47,136.019 L 396.383,122.6\" style=\"fill:none;fill-rule:evenodd;stroke:#000000;stroke-width:2.0px;stroke-linecap:butt;stroke-linejoin:miter;stroke-opacity:1\"/>\n",
       "<path class=\"bond-7\" d=\"M 397.47,136.019 L 395.904,138.421\" style=\"fill:none;fill-rule:evenodd;stroke:#000000;stroke-width:2.0px;stroke-linecap:butt;stroke-linejoin:miter;stroke-opacity:1\"/>\n",
       "<path class=\"bond-7\" d=\"M 395.904,138.421 L 394.338,140.824\" style=\"fill:none;fill-rule:evenodd;stroke:#FF0000;stroke-width:2.0px;stroke-linecap:butt;stroke-linejoin:miter;stroke-opacity:1\"/>\n",
       "<path class=\"bond-8\" d=\"M 396.383,122.6 L 391.469,120.922\" style=\"fill:none;fill-rule:evenodd;stroke:#000000;stroke-width:2.0px;stroke-linecap:butt;stroke-linejoin:miter;stroke-opacity:1\"/>\n",
       "<path class=\"bond-8\" d=\"M 391.469,120.922 L 386.554,119.244\" style=\"fill:none;fill-rule:evenodd;stroke:#FF0000;stroke-width:2.0px;stroke-linecap:butt;stroke-linejoin:miter;stroke-opacity:1\"/>\n",
       "<path class=\"bond-9\" d=\"M 377.656,117.651 L 378.887,105.499\" style=\"fill:none;fill-rule:evenodd;stroke:#000000;stroke-width:2.0px;stroke-linecap:butt;stroke-linejoin:miter;stroke-opacity:1\"/>\n",
       "<path class=\"bond-10\" d=\"M 377.656,117.651 L 379.912,117.929\" style=\"fill:none;fill-rule:evenodd;stroke:#000000;stroke-width:2.0px;stroke-linecap:butt;stroke-linejoin:miter;stroke-opacity:1\"/>\n",
       "<path class=\"bond-10\" d=\"M 379.912,117.929 L 382.168,118.207\" style=\"fill:none;fill-rule:evenodd;stroke:#FF0000;stroke-width:2.0px;stroke-linecap:butt;stroke-linejoin:miter;stroke-opacity:1\"/>\n",
       "<path class=\"bond-11\" d=\"M 378.887,105.499 L 376.991,102.527\" style=\"fill:none;fill-rule:evenodd;stroke:#000000;stroke-width:2.0px;stroke-linecap:butt;stroke-linejoin:miter;stroke-opacity:1\"/>\n",
       "<path class=\"bond-11\" d=\"M 376.991,102.527 L 375.096,99.5554\" style=\"fill:none;fill-rule:evenodd;stroke:#FF0000;stroke-width:2.0px;stroke-linecap:butt;stroke-linejoin:miter;stroke-opacity:1\"/>\n",
       "<path class=\"bond-12\" d=\"M 376.075,85.2093 L 370.39,76.9642\" style=\"fill:none;fill-rule:evenodd;stroke:#000000;stroke-width:2.0px;stroke-linecap:butt;stroke-linejoin:miter;stroke-opacity:1\"/>\n",
       "<path class=\"bond-13\" d=\"M 376.075,85.2093 L 375.063,89.9248\" style=\"fill:none;fill-rule:evenodd;stroke:#000000;stroke-width:2.0px;stroke-linecap:butt;stroke-linejoin:miter;stroke-opacity:1\"/>\n",
       "<path class=\"bond-13\" d=\"M 375.063,89.9248 L 374.051,94.6403\" style=\"fill:none;fill-rule:evenodd;stroke:#FF0000;stroke-width:2.0px;stroke-linecap:butt;stroke-linejoin:miter;stroke-opacity:1\"/>\n",
       "<path class=\"bond-14\" d=\"M 370.39,76.9642 L 358.894,78.0065\" style=\"fill:none;fill-rule:evenodd;stroke:#000000;stroke-width:2.0px;stroke-linecap:butt;stroke-linejoin:miter;stroke-opacity:1\"/>\n",
       "<path class=\"bond-15\" d=\"M 355.152,77.9564 L 354.527,77.8752\" style=\"fill:none;fill-rule:evenodd;stroke:#000000;stroke-width:2.0px;stroke-linecap:butt;stroke-linejoin:miter;stroke-opacity:1\"/>\n",
       "<path class=\"bond-15\" d=\"M 354.527,77.8752 L 353.902,77.7941\" style=\"fill:none;fill-rule:evenodd;stroke:#FF0000;stroke-width:2.0px;stroke-linecap:butt;stroke-linejoin:miter;stroke-opacity:1\"/>\n",
       "<path class=\"atom-3\" d=\"M 377.098 157.919 Q 377.098 156.899, 377.602 156.329 Q 378.106 155.759, 379.048 155.759 Q 379.99 155.759, 380.494 156.329 Q 380.998 156.899, 380.998 157.919 Q 380.998 158.951, 380.488 159.539 Q 379.978 160.121, 379.048 160.121 Q 378.112 160.121, 377.602 159.539 Q 377.098 158.957, 377.098 157.919 M 379.048 159.641 Q 379.696 159.641, 380.044 159.209 Q 380.398 158.771, 380.398 157.919 Q 380.398 157.085, 380.044 156.665 Q 379.696 156.239, 379.048 156.239 Q 378.4 156.239, 378.046 156.659 Q 377.698 157.079, 377.698 157.919 Q 377.698 158.777, 378.046 159.209 Q 378.4 159.641, 379.048 159.641 \" fill=\"#FF0000\"/>\n",
       "<path class=\"atom-8\" d=\"M 390.849 143.198 Q 390.849 142.178, 391.353 141.608 Q 391.857 141.038, 392.799 141.038 Q 393.741 141.038, 394.245 141.608 Q 394.749 142.178, 394.749 143.198 Q 394.749 144.23, 394.239 144.818 Q 393.729 145.4, 392.799 145.4 Q 391.863 145.4, 391.353 144.818 Q 390.849 144.236, 390.849 143.198 M 392.799 144.92 Q 393.447 144.92, 393.795 144.488 Q 394.149 144.05, 394.149 143.198 Q 394.149 142.364, 393.795 141.944 Q 393.447 141.518, 392.799 141.518 Q 392.151 141.518, 391.797 141.938 Q 391.449 142.358, 391.449 143.198 Q 391.449 144.056, 391.797 144.488 Q 392.151 144.92, 392.799 144.92 \" fill=\"#FF0000\"/>\n",
       "<path class=\"atom-12\" d=\"M 355.279 78.2037 Q 355.279 77.1477, 355.771 76.5957 Q 356.269 76.0377, 357.211 76.0377 Q 358.087 76.0377, 358.555 76.6557 L 358.159 76.9797 Q 357.817 76.5297, 357.211 76.5297 Q 356.569 76.5297, 356.227 76.9617 Q 355.891 77.3877, 355.891 78.2037 Q 355.891 79.0437, 356.239 79.4757 Q 356.593 79.9077, 357.277 79.9077 Q 357.745 79.9077, 358.291 79.6257 L 358.459 80.0757 Q 358.237 80.2197, 357.901 80.3037 Q 357.565 80.3877, 357.193 80.3877 Q 356.269 80.3877, 355.771 79.8237 Q 355.279 79.2597, 355.279 78.2037 \" fill=\"#000000\"/>\n",
       "<path class=\"atom-13\" d=\"M 370.565 143.532 L 371.957 145.782 Q 372.095 146.004, 372.317 146.406 Q 372.539 146.808, 372.551 146.832 L 372.551 143.532 L 373.115 143.532 L 373.115 147.78 L 372.533 147.78 L 371.039 145.32 Q 370.865 145.032, 370.679 144.702 Q 370.499 144.372, 370.445 144.27 L 370.445 147.78 L 369.893 147.78 L 369.893 143.532 L 370.565 143.532 \" fill=\"#0000FF\"/>\n",
       "<path class=\"atom-13\" d=\"M 373.625 143.532 L 374.201 143.532 L 374.201 145.338 L 376.373 145.338 L 376.373 143.532 L 376.949 143.532 L 376.949 147.78 L 376.373 147.78 L 376.373 145.818 L 374.201 145.818 L 374.201 147.78 L 373.625 147.78 L 373.625 143.532 \" fill=\"#0000FF\"/>\n",
       "<path class=\"atom-13\" d=\"M 377.155 147.631 Q 377.258 147.366, 377.503 147.219 Q 377.749 147.069, 378.089 147.069 Q 378.513 147.069, 378.75 147.298 Q 378.988 147.528, 378.988 147.936 Q 378.988 148.352, 378.679 148.74 Q 378.374 149.128, 377.741 149.587 L 379.036 149.587 L 379.036 149.904 L 377.147 149.904 L 377.147 149.639 Q 377.669 149.267, 377.978 148.989 Q 378.291 148.712, 378.442 148.463 Q 378.592 148.213, 378.592 147.956 Q 378.592 147.686, 378.457 147.536 Q 378.323 147.386, 378.089 147.386 Q 377.863 147.386, 377.713 147.477 Q 377.562 147.568, 377.456 147.77 L 377.155 147.631 \" fill=\"#0000FF\"/>\n",
       "<path class=\"atom-14\" d=\"M 382.335 118.481 Q 382.335 117.461, 382.839 116.891 Q 383.343 116.321, 384.285 116.321 Q 385.227 116.321, 385.731 116.891 Q 386.235 117.461, 386.235 118.481 Q 386.235 119.513, 385.725 120.101 Q 385.215 120.683, 384.285 120.683 Q 383.349 120.683, 382.839 120.101 Q 382.335 119.519, 382.335 118.481 M 384.285 120.203 Q 384.933 120.203, 385.281 119.771 Q 385.635 119.333, 385.635 118.481 Q 385.635 117.647, 385.281 117.227 Q 384.933 116.801, 384.285 116.801 Q 383.637 116.801, 383.283 117.221 Q 382.935 117.641, 382.935 118.481 Q 382.935 119.339, 383.283 119.771 Q 383.637 120.203, 384.285 120.203 \" fill=\"#FF0000\"/>\n",
       "<path class=\"atom-15\" d=\"M 371.575 97.1041 Q 371.575 96.0841, 372.079 95.5141 Q 372.583 94.9441, 373.525 94.9441 Q 374.467 94.9441, 374.971 95.5141 Q 375.475 96.0841, 375.475 97.1041 Q 375.475 98.1361, 374.965 98.7241 Q 374.455 99.3061, 373.525 99.3061 Q 372.589 99.3061, 372.079 98.7241 Q 371.575 98.1421, 371.575 97.1041 M 373.525 98.8261 Q 374.173 98.8261, 374.521 98.3941 Q 374.875 97.9561, 374.875 97.1041 Q 374.875 96.2701, 374.521 95.8501 Q 374.173 95.4241, 373.525 95.4241 Q 372.877 95.4241, 372.523 95.8441 Q 372.175 96.2641, 372.175 97.1041 Q 372.175 97.9621, 372.523 98.3941 Q 372.877 98.8261, 373.525 98.8261 \" fill=\"#FF0000\"/>\n",
       "<path class=\"atom-16\" d=\"M 346.296 75.43 L 346.872 75.43 L 346.872 77.236 L 349.044 77.236 L 349.044 75.43 L 349.62 75.43 L 349.62 79.678 L 349.044 79.678 L 349.044 77.716 L 346.872 77.716 L 346.872 79.678 L 346.296 79.678 L 346.296 75.43 \" fill=\"#FF0000\"/>\n",
       "<path class=\"atom-16\" d=\"M 349.92 77.542 Q 349.92 76.522, 350.424 75.952 Q 350.928 75.382, 351.87 75.382 Q 352.812 75.382, 353.316 75.952 Q 353.82 76.522, 353.82 77.542 Q 353.82 78.574, 353.31 79.162 Q 352.8 79.744, 351.87 79.744 Q 350.934 79.744, 350.424 79.162 Q 349.92 78.58, 349.92 77.542 M 351.87 79.264 Q 352.518 79.264, 352.866 78.832 Q 353.22 78.394, 353.22 77.542 Q 353.22 76.708, 352.866 76.288 Q 352.518 75.862, 351.87 75.862 Q 351.222 75.862, 350.868 76.282 Q 350.52 76.702, 350.52 77.542 Q 350.52 78.4, 350.868 78.832 Q 351.222 79.264, 351.87 79.264 \" fill=\"#FF0000\"/>\n",
       "<path d=\"M 229.812 182.856 L 236.548 182.856 L 236.548 184.152 L 231.332 184.152 L 231.332 187.592 L 235.972 187.592 L 235.972 188.904 L 231.332 188.904 L 231.332 194.184 L 229.812 194.184 L 229.812 182.856 \" fill=\"#000000\"/>\n",
       "<path d=\"M 239.124 185.96 L 239.3 187.096 Q 240.164 185.816, 241.572 185.816 Q 242.02 185.816, 242.628 185.976 L 242.388 187.32 Q 241.7 187.16, 241.316 187.16 Q 240.644 187.16, 240.196 187.432 Q 239.764 187.688, 239.412 188.312 L 239.412 194.184 L 237.908 194.184 L 237.908 185.96 L 239.124 185.96 \" fill=\"#000000\"/>\n",
       "<path d=\"M 243.364 190.056 Q 243.364 188.056, 244.372 186.936 Q 245.396 185.816, 247.268 185.816 Q 249.14 185.816, 250.148 186.936 Q 251.172 188.056, 251.172 190.056 Q 251.172 192.056, 250.148 193.192 Q 249.14 194.312, 247.268 194.312 Q 245.396 194.312, 244.372 193.192 Q 243.364 192.056, 243.364 190.056 M 244.9 190.056 Q 244.9 191.56, 245.508 192.344 Q 246.132 193.128, 247.268 193.128 Q 248.404 193.128, 249.012 192.344 Q 249.636 191.56, 249.636 190.056 Q 249.636 188.552, 249.012 187.784 Q 248.404 187, 247.268 187 Q 246.132 187, 245.508 187.784 Q 244.9 188.552, 244.9 190.056 \" fill=\"#000000\"/>\n",
       "<path d=\"M 261.988 185.816 Q 263.38 185.816, 264.084 186.568 Q 264.788 187.304, 264.788 188.744 L 264.788 194.184 L 263.284 194.184 L 263.284 188.856 Q 263.284 187.88, 262.9 187.448 Q 262.532 187, 261.7 187 Q 260.98 187, 260.356 187.352 Q 259.748 187.688, 259.38 188.296 Q 259.396 188.44, 259.396 188.744 L 259.396 194.184 L 257.892 194.184 L 257.892 188.856 Q 257.892 187.88, 257.508 187.448 Q 257.14 187, 256.308 187 Q 255.588 187, 254.98 187.352 Q 254.372 187.688, 253.988 188.28 L 253.988 194.184 L 252.484 194.184 L 252.484 185.96 L 253.716 185.96 L 253.876 187.08 Q 254.948 185.816, 256.596 185.816 Q 258.532 185.816, 259.14 187.256 Q 260.228 185.816, 261.988 185.816 \" fill=\"#000000\"/>\n",
       "<path d=\"\" fill=\"#000000\"/>\n",
       "<path d=\"M 273.492 182.856 Q 275.428 182.856, 276.404 183.736 Q 277.38 184.6, 277.38 186.184 Q 277.38 187.752, 276.372 188.648 Q 275.38 189.528, 273.492 189.528 L 271.684 189.528 L 271.684 194.184 L 270.148 194.184 L 270.148 182.856 L 273.492 182.856 M 273.492 188.248 Q 274.596 188.248, 275.188 187.72 Q 275.78 187.192, 275.78 186.184 Q 275.78 185.176, 275.188 184.664 Q 274.612 184.136, 273.492 184.136 L 271.684 184.136 L 271.684 188.248 L 273.492 188.248 \" fill=\"#000000\"/>\n",
       "<path d=\"M 282.404 182.856 Q 284.916 182.856, 286.26 184.344 Q 287.604 185.816, 287.604 188.488 Q 287.604 191.176, 286.244 192.68 Q 284.9 194.184, 282.404 194.184 L 278.74 194.184 L 278.74 182.856 L 282.404 182.856 M 282.404 192.904 Q 284.132 192.904, 285.06 191.8 Q 286.004 190.696, 286.004 188.488 Q 286.004 186.296, 285.06 185.224 Q 284.132 184.136, 282.404 184.136 L 280.276 184.136 L 280.276 192.904 L 282.404 192.904 \" fill=\"#000000\"/>\n",
       "<path d=\"M 294.468 188.232 Q 295.556 188.536, 296.1 189.208 Q 296.66 189.864, 296.66 190.84 Q 296.66 192.408, 295.652 193.304 Q 294.66 194.184, 292.772 194.184 L 288.964 194.184 L 288.964 182.856 L 292.308 182.856 Q 294.244 182.856, 295.22 183.64 Q 296.196 184.424, 296.196 185.864 Q 296.196 187.576, 294.468 188.232 M 290.484 184.136 L 290.484 187.688 L 292.308 187.688 Q 293.428 187.688, 294.004 187.24 Q 294.596 186.776, 294.596 185.864 Q 294.596 184.136, 292.308 184.136 L 290.484 184.136 M 292.772 192.904 Q 293.876 192.904, 294.468 192.376 Q 295.06 191.848, 295.06 190.84 Q 295.06 189.912, 294.404 189.448 Q 293.764 188.968, 292.532 188.968 L 290.484 188.968 L 290.484 192.904 L 292.772 192.904 \" fill=\"#000000\"/>\n",
       "<path d=\"\" fill=\"#000000\"/>\n",
       "<path d=\"M 302.068 182.808 L 303.588 182.808 L 303.588 194.184 L 302.068 194.184 L 302.068 182.808 \" fill=\"#000000\"/>\n",
       "<path d=\"M 308.612 182.856 Q 311.124 182.856, 312.468 184.344 Q 313.812 185.816, 313.812 188.488 Q 313.812 191.176, 312.452 192.68 Q 311.108 194.184, 308.612 194.184 L 304.948 194.184 L 304.948 182.856 L 308.612 182.856 M 308.612 192.904 Q 310.34 192.904, 311.268 191.8 Q 312.212 190.696, 312.212 188.488 Q 312.212 186.296, 311.268 185.224 Q 310.34 184.136, 308.612 184.136 L 306.484 184.136 L 306.484 192.904 L 308.612 192.904 \" fill=\"#000000\"/>\n",
       "<path d=\"M 315.012 192.312 L 316.612 192.312 L 316.612 193.912 L 315.012 193.912 L 315.012 192.312 M 315.012 186.808 L 316.612 186.808 L 316.612 188.408 L 315.012 188.408 L 315.012 186.808 \" fill=\"#000000\"/>\n",
       "<path d=\"\" fill=\"#000000\"/>\n",
       "<path d=\"M 328.452 190.296 L 329.812 190.296 L 329.812 191.576 L 328.452 191.576 L 328.452 194.184 L 326.948 194.184 L 326.948 191.576 L 321.092 191.576 L 321.092 190.568 L 326.052 182.856 L 328.452 182.856 L 328.452 190.296 M 322.948 190.296 L 326.948 190.296 L 326.948 183.88 L 322.948 190.296 \" fill=\"#000000\"/>\n",
       "<path d=\"M 344.356 182.872 L 345.892 182.872 L 342.868 194.184 L 340.548 194.184 L 338.084 184.744 L 335.604 194.184 L 333.284 194.184 L 330.26 182.872 L 331.812 182.872 L 334.468 192.776 L 337.076 182.872 L 339.076 182.872 L 341.684 192.808 L 344.356 182.872 \" fill=\"#000000\"/>\n",
       "<path d=\"M 354.18 182.856 L 355.668 182.856 L 351.812 194.184 L 349.924 194.184 L 346.212 182.856 L 347.748 182.856 L 350.9 192.52 L 354.18 182.856 \" fill=\"#000000\"/>\n",
       "<path d=\"M 360.372 182.856 Q 362.308 182.856, 363.284 183.736 Q 364.26 184.6, 364.26 186.184 Q 364.26 187.752, 363.252 188.648 Q 362.26 189.528, 360.372 189.528 L 358.564 189.528 L 358.564 194.184 L 357.028 194.184 L 357.028 182.856 L 360.372 182.856 M 360.372 188.248 Q 361.476 188.248, 362.068 187.72 Q 362.66 187.192, 362.66 186.184 Q 362.66 185.176, 362.068 184.664 Q 361.492 184.136, 360.372 184.136 L 358.564 184.136 L 358.564 188.248 L 360.372 188.248 \" fill=\"#000000\"/>\n",
       "<path class=\"bond-0\" d=\"M 451.878,73.6699 L 454.644,74.0192\" style=\"fill:none;fill-rule:evenodd;stroke:#33CCCC;stroke-width:2.0px;stroke-linecap:butt;stroke-linejoin:miter;stroke-opacity:1\"/>\n",
       "<path class=\"bond-0\" d=\"M 454.644,74.0192 L 457.409,74.3685\" style=\"fill:none;fill-rule:evenodd;stroke:#000000;stroke-width:2.0px;stroke-linecap:butt;stroke-linejoin:miter;stroke-opacity:1\"/>\n",
       "<path class=\"bond-1\" d=\"M 457.409,74.3685 L 458.922,78.7497\" style=\"fill:none;fill-rule:evenodd;stroke:#000000;stroke-width:2.0px;stroke-linecap:butt;stroke-linejoin:miter;stroke-opacity:1\"/>\n",
       "<path class=\"bond-1\" d=\"M 458.922,78.7497 L 460.436,83.1309\" style=\"fill:none;fill-rule:evenodd;stroke:#33CCCC;stroke-width:2.0px;stroke-linecap:butt;stroke-linejoin:miter;stroke-opacity:1\"/>\n",
       "<path class=\"bond-2\" d=\"M 457.409,74.3685 L 454.864,73.367\" style=\"fill:none;fill-rule:evenodd;stroke:#000000;stroke-width:2.0px;stroke-linecap:butt;stroke-linejoin:miter;stroke-opacity:1\"/>\n",
       "<path class=\"bond-2\" d=\"M 454.864,73.367 L 452.318,72.3656\" style=\"fill:none;fill-rule:evenodd;stroke:#33CCCC;stroke-width:2.0px;stroke-linecap:butt;stroke-linejoin:miter;stroke-opacity:1\"/>\n",
       "<path class=\"bond-3\" d=\"M 457.409,74.3685 L 468.322,66.0963\" style=\"fill:none;fill-rule:evenodd;stroke:#000000;stroke-width:2.0px;stroke-linecap:butt;stroke-linejoin:miter;stroke-opacity:1\"/>\n",
       "<path class=\"bond-4\" d=\"M 468.322,66.0963 L 471.696,64.4504\" style=\"fill:none;fill-rule:evenodd;stroke:#000000;stroke-width:2.0px;stroke-linecap:butt;stroke-linejoin:miter;stroke-opacity:1\"/>\n",
       "<path class=\"bond-5\" d=\"M 468.322,66.0963 L 471.369,62.9595\" style=\"fill:none;fill-rule:evenodd;stroke:#000000;stroke-width:2.0px;stroke-linecap:butt;stroke-linejoin:miter;stroke-opacity:1\"/>\n",
       "<path class=\"bond-6\" d=\"M 475.428,62.1744 L 481.736,57.625\" style=\"fill:none;fill-rule:evenodd;stroke:#000000;stroke-width:2.0px;stroke-linecap:butt;stroke-linejoin:miter;stroke-opacity:1\"/>\n",
       "<path class=\"bond-7\" d=\"M 485.439,54.5274 L 488.648,51.4562\" style=\"fill:none;fill-rule:evenodd;stroke:#000000;stroke-width:2.0px;stroke-linecap:butt;stroke-linejoin:miter;stroke-opacity:1\"/>\n",
       "<path class=\"bond-8\" d=\"M 488.648,51.4562 L 483.456,53.7106\" style=\"fill:none;fill-rule:evenodd;stroke:#000000;stroke-width:2.0px;stroke-linecap:butt;stroke-linejoin:miter;stroke-opacity:1\"/>\n",
       "<path class=\"bond-9\" d=\"M 475.135,59.6893 L 483.456,53.7106\" style=\"fill:none;fill-rule:evenodd;stroke:#000000;stroke-width:2.0px;stroke-linecap:butt;stroke-linejoin:miter;stroke-opacity:1\"/>\n",
       "<path class=\"bond-10\" d=\"M 483.456,53.7106 L 485.009,52.0693\" style=\"fill:none;fill-rule:evenodd;stroke:#000000;stroke-width:2.0px;stroke-linecap:butt;stroke-linejoin:miter;stroke-opacity:1\"/>\n",
       "<path class=\"bond-10\" d=\"M 485.009,52.0693 L 486.562,50.428\" style=\"fill:none;fill-rule:evenodd;stroke:#0000FF;stroke-width:2.0px;stroke-linecap:butt;stroke-linejoin:miter;stroke-opacity:1\"/>\n",
       "<path class=\"bond-11\" d=\"M 490.242,49.6234 L 494.142,51.8646\" style=\"fill:none;fill-rule:evenodd;stroke:#0000FF;stroke-width:2.0px;stroke-linecap:butt;stroke-linejoin:miter;stroke-opacity:1\"/>\n",
       "<path class=\"bond-11\" d=\"M 494.142,51.8646 L 498.042,54.1058\" style=\"fill:none;fill-rule:evenodd;stroke:#000000;stroke-width:2.0px;stroke-linecap:butt;stroke-linejoin:miter;stroke-opacity:1\"/>\n",
       "<path class=\"bond-12\" d=\"M 487.409,46.1284 L 485.805,42.0291\" style=\"fill:none;fill-rule:evenodd;stroke:#0000FF;stroke-width:2.0px;stroke-linecap:butt;stroke-linejoin:miter;stroke-opacity:1\"/>\n",
       "<path class=\"bond-12\" d=\"M 485.805,42.0291 L 484.202,37.9298\" style=\"fill:none;fill-rule:evenodd;stroke:#000000;stroke-width:2.0px;stroke-linecap:butt;stroke-linejoin:miter;stroke-opacity:1\"/>\n",
       "<path class=\"bond-13\" d=\"M 498.042,54.1058 L 499.5,57.3559\" style=\"fill:none;fill-rule:evenodd;stroke:#000000;stroke-width:2.0px;stroke-linecap:butt;stroke-linejoin:miter;stroke-opacity:1\"/>\n",
       "<path class=\"bond-13\" d=\"M 499.5,57.3559 L 500.958,60.606\" style=\"fill:none;fill-rule:evenodd;stroke:#FF0000;stroke-width:2.0px;stroke-linecap:butt;stroke-linejoin:miter;stroke-opacity:1\"/>\n",
       "<path class=\"bond-14\" d=\"M 498.042,54.1058 L 499.691,52.7138\" style=\"fill:none;fill-rule:evenodd;stroke:#000000;stroke-width:2.0px;stroke-linecap:butt;stroke-linejoin:miter;stroke-opacity:1\"/>\n",
       "<path class=\"bond-14\" d=\"M 499.691,52.7138 L 501.34,51.3218\" style=\"fill:none;fill-rule:evenodd;stroke:#0000FF;stroke-width:2.0px;stroke-linecap:butt;stroke-linejoin:miter;stroke-opacity:1\"/>\n",
       "<path class=\"bond-15\" d=\"M 484.202,37.9298 L 475.588,30.5917\" style=\"fill:none;fill-rule:evenodd;stroke:#000000;stroke-width:2.0px;stroke-linecap:butt;stroke-linejoin:miter;stroke-opacity:1\"/>\n",
       "<path class=\"bond-16\" d=\"M 484.202,37.9298 L 487.803,34.1215\" style=\"fill:none;fill-rule:evenodd;stroke:#000000;stroke-width:2.0px;stroke-linecap:butt;stroke-linejoin:miter;stroke-opacity:1\"/>\n",
       "<path class=\"bond-17\" d=\"M 487.803,34.1215 L 483.977,22.6968\" style=\"fill:none;fill-rule:evenodd;stroke:#000000;stroke-width:2.0px;stroke-linecap:butt;stroke-linejoin:miter;stroke-opacity:1\"/>\n",
       "<path class=\"bond-18\" d=\"M 487.803,34.1215 L 496.309,41.747\" style=\"fill:none;fill-rule:evenodd;stroke:#000000;stroke-width:2.0px;stroke-linecap:butt;stroke-linejoin:miter;stroke-opacity:1\"/>\n",
       "<path class=\"bond-19\" d=\"M 483.977,22.6968 L 482.129,20.0198\" style=\"fill:none;fill-rule:evenodd;stroke:#000000;stroke-width:2.0px;stroke-linecap:butt;stroke-linejoin:miter;stroke-opacity:1\"/>\n",
       "<path class=\"bond-19\" d=\"M 482.129,20.0198 L 480.28,17.3429\" style=\"fill:none;fill-rule:evenodd;stroke:#FF0000;stroke-width:2.0px;stroke-linecap:butt;stroke-linejoin:miter;stroke-opacity:1\"/>\n",
       "<path class=\"bond-20\" d=\"M 483.977,22.6968 L 486.941,20.7209\" style=\"fill:none;fill-rule:evenodd;stroke:#000000;stroke-width:2.0px;stroke-linecap:butt;stroke-linejoin:miter;stroke-opacity:1\"/>\n",
       "<path class=\"bond-21\" d=\"M 496.309,41.747 L 498.776,44.6723\" style=\"fill:none;fill-rule:evenodd;stroke:#000000;stroke-width:2.0px;stroke-linecap:butt;stroke-linejoin:miter;stroke-opacity:1\"/>\n",
       "<path class=\"bond-21\" d=\"M 498.776,44.6723 L 501.242,47.5977\" style=\"fill:none;fill-rule:evenodd;stroke:#0000FF;stroke-width:2.0px;stroke-linecap:butt;stroke-linejoin:miter;stroke-opacity:1\"/>\n",
       "<path class=\"bond-22\" d=\"M 496.309,41.747 L 490.318,49.7586\" style=\"fill:none;fill-rule:evenodd;stroke:#000000;stroke-width:2.0px;stroke-linecap:butt;stroke-linejoin:miter;stroke-opacity:1\"/>\n",
       "<path class=\"bond-23\" d=\"M 490.318,49.7586 L 496.219,52.1657\" style=\"fill:none;fill-rule:evenodd;stroke:#000000;stroke-width:2.0px;stroke-linecap:butt;stroke-linejoin:miter;stroke-opacity:1\"/>\n",
       "<path class=\"bond-24\" d=\"M 490.318,49.7586 L 479.109,55.0309\" style=\"fill:none;fill-rule:evenodd;stroke:#000000;stroke-width:2.0px;stroke-linecap:butt;stroke-linejoin:miter;stroke-opacity:1\"/>\n",
       "<path class=\"bond-25\" d=\"M 496.219,52.1657 L 494.497,54.9085\" style=\"fill:none;fill-rule:evenodd;stroke:#000000;stroke-width:2.0px;stroke-linecap:butt;stroke-linejoin:miter;stroke-opacity:1\"/>\n",
       "<path class=\"bond-25\" d=\"M 494.497,54.9085 L 492.776,57.6513\" style=\"fill:none;fill-rule:evenodd;stroke:#0000FF;stroke-width:2.0px;stroke-linecap:butt;stroke-linejoin:miter;stroke-opacity:1\"/>\n",
       "<path class=\"bond-26\" d=\"M 489.379,60.898 L 484.76,63.0436\" style=\"fill:none;fill-rule:evenodd;stroke:#0000FF;stroke-width:2.0px;stroke-linecap:butt;stroke-linejoin:miter;stroke-opacity:1\"/>\n",
       "<path class=\"bond-26\" d=\"M 484.76,63.0436 L 480.142,65.1892\" style=\"fill:none;fill-rule:evenodd;stroke:#000000;stroke-width:2.0px;stroke-linecap:butt;stroke-linejoin:miter;stroke-opacity:1\"/>\n",
       "<path class=\"bond-27\" d=\"M 480.142,65.1892 L 477.085,69.9786\" style=\"fill:none;fill-rule:evenodd;stroke:#000000;stroke-width:2.0px;stroke-linecap:butt;stroke-linejoin:miter;stroke-opacity:1\"/>\n",
       "<path class=\"bond-28\" d=\"M 480.142,65.1892 L 474.097,62.5935\" style=\"fill:none;fill-rule:evenodd;stroke:#000000;stroke-width:2.0px;stroke-linecap:butt;stroke-linejoin:miter;stroke-opacity:1\"/>\n",
       "<path class=\"bond-29\" d=\"M 474.086,74.7283 L 473.543,75.5968\" style=\"fill:none;fill-rule:evenodd;stroke:#000000;stroke-width:2.0px;stroke-linecap:butt;stroke-linejoin:miter;stroke-opacity:1\"/>\n",
       "<path class=\"bond-29\" d=\"M 473.543,75.5968 L 473.001,76.4653\" style=\"fill:none;fill-rule:evenodd;stroke:#0000FF;stroke-width:2.0px;stroke-linecap:butt;stroke-linejoin:miter;stroke-opacity:1\"/>\n",
       "<path class=\"bond-30\" d=\"M 474.097,62.5935 L 479.109,55.0309\" style=\"fill:none;fill-rule:evenodd;stroke:#000000;stroke-width:2.0px;stroke-linecap:butt;stroke-linejoin:miter;stroke-opacity:1\"/>\n",
       "<path class=\"atom-0\" d=\"M 449.177 71.3643 L 451.703 71.3643 L 451.703 71.8503 L 449.747 71.8503 L 449.747 73.1403 L 451.487 73.1403 L 451.487 73.6323 L 449.747 73.6323 L 449.747 75.6123 L 449.177 75.6123 L 449.177 71.3643 \" fill=\"#33CCCC\"/>\n",
       "<path class=\"atom-2\" d=\"M 460.008 83.4267 L 462.534 83.4267 L 462.534 83.9127 L 460.578 83.9127 L 460.578 85.2027 L 462.318 85.2027 L 462.318 85.6947 L 460.578 85.6947 L 460.578 87.6747 L 460.008 87.6747 L 460.008 83.4267 \" fill=\"#33CCCC\"/>\n",
       "<path class=\"atom-3\" d=\"M 449.617 69.6757 L 452.143 69.6757 L 452.143 70.1617 L 450.187 70.1617 L 450.187 71.4517 L 451.927 71.4517 L 451.927 71.9437 L 450.187 71.9437 L 450.187 73.9237 L 449.617 73.9237 L 449.617 69.6757 \" fill=\"#33CCCC\"/>\n",
       "<path class=\"atom-5\" d=\"M 471.84 63.5995 Q 471.84 62.5435, 472.332 61.9915 Q 472.83 61.4335, 473.772 61.4335 Q 474.648 61.4335, 475.116 62.0515 L 474.72 62.3755 Q 474.378 61.9255, 473.772 61.9255 Q 473.13 61.9255, 472.788 62.3575 Q 472.452 62.7835, 472.452 63.5995 Q 472.452 64.4395, 472.8 64.8715 Q 473.154 65.3035, 473.838 65.3035 Q 474.306 65.3035, 474.852 65.0215 L 475.02 65.4715 Q 474.798 65.6155, 474.462 65.6995 Q 474.126 65.7835, 473.754 65.7835 Q 472.83 65.7835, 472.332 65.2195 Q 471.84 64.6555, 471.84 63.5995 \" fill=\"#000000\"/>\n",
       "<path class=\"atom-6\" d=\"M 481.989 56.2794 Q 481.989 55.2234, 482.481 54.6714 Q 482.979 54.1134, 483.921 54.1134 Q 484.797 54.1134, 485.265 54.7314 L 484.869 55.0554 Q 484.527 54.6054, 483.921 54.6054 Q 483.279 54.6054, 482.937 55.0374 Q 482.601 55.4634, 482.601 56.2794 Q 482.601 57.1194, 482.949 57.5514 Q 483.303 57.9834, 483.987 57.9834 Q 484.455 57.9834, 485.001 57.7014 L 485.169 58.1514 Q 484.947 58.2954, 484.611 58.3794 Q 484.275 58.4634, 483.903 58.4634 Q 482.979 58.4634, 482.481 57.8994 Q 481.989 57.3354, 481.989 56.2794 \" fill=\"#000000\"/>\n",
       "<path class=\"atom-8\" d=\"M 471.543 61.1115 Q 471.543 60.0555, 472.035 59.5035 Q 472.533 58.9455, 473.475 58.9455 Q 474.351 58.9455, 474.819 59.5635 L 474.423 59.8875 Q 474.081 59.4375, 473.475 59.4375 Q 472.833 59.4375, 472.491 59.8695 Q 472.155 60.2955, 472.155 61.1115 Q 472.155 61.9515, 472.503 62.3835 Q 472.857 62.8155, 473.541 62.8155 Q 474.009 62.8155, 474.555 62.5335 L 474.723 62.9835 Q 474.501 63.1275, 474.165 63.2115 Q 473.829 63.2955, 473.457 63.2955 Q 472.533 63.2955, 472.035 62.7315 Q 471.543 62.1675, 471.543 61.1115 \" fill=\"#000000\"/>\n",
       "<path class=\"atom-10\" d=\"M 487.412 46.4131 L 488.804 48.6631 Q 488.942 48.8851, 489.164 49.2871 Q 489.386 49.6891, 489.398 49.7131 L 489.398 46.4131 L 489.962 46.4131 L 489.962 50.6611 L 489.38 50.6611 L 487.886 48.2011 Q 487.712 47.9131, 487.526 47.5831 Q 487.346 47.2531, 487.292 47.1511 L 487.292 50.6611 L 486.74 50.6611 L 486.74 46.4131 L 487.412 46.4131 \" fill=\"#0000FF\"/>\n",
       "<path class=\"atom-12\" d=\"M 500.08 63.0096 Q 500.08 61.9896, 500.584 61.4196 Q 501.088 60.8496, 502.03 60.8496 Q 502.972 60.8496, 503.476 61.4196 Q 503.98 61.9896, 503.98 63.0096 Q 503.98 64.0416, 503.47 64.6296 Q 502.96 65.2116, 502.03 65.2116 Q 501.094 65.2116, 500.584 64.6296 Q 500.08 64.0476, 500.08 63.0096 M 502.03 64.7316 Q 502.678 64.7316, 503.026 64.2996 Q 503.38 63.8616, 503.38 63.0096 Q 503.38 62.1756, 503.026 61.7556 Q 502.678 61.3296, 502.03 61.3296 Q 501.382 61.3296, 501.028 61.7496 Q 500.68 62.1696, 500.68 63.0096 Q 500.68 63.8676, 501.028 64.2996 Q 501.382 64.7316, 502.03 64.7316 \" fill=\"#FF0000\"/>\n",
       "<path class=\"atom-12\" d=\"M 504.49 60.8976 L 505.066 60.8976 L 505.066 62.7036 L 507.238 62.7036 L 507.238 60.8976 L 507.814 60.8976 L 507.814 65.1456 L 507.238 65.1456 L 507.238 63.1836 L 505.066 63.1836 L 505.066 65.1456 L 504.49 65.1456 L 504.49 60.8976 \" fill=\"#FF0000\"/>\n",
       "<path class=\"atom-17\" d=\"M 473.014 12.7917 L 473.59 12.7917 L 473.59 14.5977 L 475.762 14.5977 L 475.762 12.7917 L 476.338 12.7917 L 476.338 17.0397 L 475.762 17.0397 L 475.762 15.0777 L 473.59 15.0777 L 473.59 17.0397 L 473.014 17.0397 L 473.014 12.7917 \" fill=\"#FF0000\"/>\n",
       "<path class=\"atom-17\" d=\"M 476.638 14.9037 Q 476.638 13.8837, 477.142 13.3137 Q 477.646 12.7437, 478.588 12.7437 Q 479.53 12.7437, 480.034 13.3137 Q 480.538 13.8837, 480.538 14.9037 Q 480.538 15.9357, 480.028 16.5237 Q 479.518 17.1057, 478.588 17.1057 Q 477.652 17.1057, 477.142 16.5237 Q 476.638 15.9417, 476.638 14.9037 M 478.588 16.6257 Q 479.236 16.6257, 479.584 16.1937 Q 479.938 15.7557, 479.938 14.9037 Q 479.938 14.0697, 479.584 13.6497 Q 479.236 13.2237, 478.588 13.2237 Q 477.94 13.2237, 477.586 13.6437 Q 477.238 14.0637, 477.238 14.9037 Q 477.238 15.7617, 477.586 16.1937 Q 477.94 16.6257, 478.588 16.6257 \" fill=\"#FF0000\"/>\n",
       "<path class=\"atom-20\" d=\"M 502.178 47.6975 L 503.57 49.9475 Q 503.708 50.1695, 503.93 50.5715 Q 504.152 50.9735, 504.164 50.9975 L 504.164 47.6975 L 504.728 47.6975 L 504.728 51.9455 L 504.146 51.9455 L 502.652 49.4855 Q 502.478 49.1975, 502.292 48.8675 Q 502.112 48.5375, 502.058 48.4355 L 502.058 51.9455 L 501.506 51.9455 L 501.506 47.6975 L 502.178 47.6975 \" fill=\"#0000FF\"/>\n",
       "<path class=\"atom-20\" d=\"M 505.238 47.6975 L 505.814 47.6975 L 505.814 49.5035 L 507.986 49.5035 L 507.986 47.6975 L 508.562 47.6975 L 508.562 51.9455 L 507.986 51.9455 L 507.986 49.9835 L 505.814 49.9835 L 505.814 51.9455 L 505.238 51.9455 L 505.238 47.6975 \" fill=\"#0000FF\"/>\n",
       "<path class=\"atom-23\" d=\"M 490.358 57.8827 L 491.75 60.1327 Q 491.888 60.3547, 492.11 60.7567 Q 492.332 61.1587, 492.344 61.1827 L 492.344 57.8827 L 492.908 57.8827 L 492.908 62.1307 L 492.326 62.1307 L 490.832 59.6707 Q 490.658 59.3827, 490.472 59.0527 Q 490.292 58.7227, 490.238 58.6207 L 490.238 62.1307 L 489.686 62.1307 L 489.686 57.8827 L 490.358 57.8827 \" fill=\"#0000FF\"/>\n",
       "<path class=\"atom-23\" d=\"M 493.418 57.8827 L 493.994 57.8827 L 493.994 59.6887 L 496.166 59.6887 L 496.166 57.8827 L 496.742 57.8827 L 496.742 62.1307 L 496.166 62.1307 L 496.166 60.1687 L 493.994 60.1687 L 493.994 62.1307 L 493.418 62.1307 L 493.418 57.8827 \" fill=\"#0000FF\"/>\n",
       "<path class=\"atom-25\" d=\"M 473.941 72.3566 Q 473.941 71.3006, 474.433 70.7486 Q 474.931 70.1906, 475.873 70.1906 Q 476.749 70.1906, 477.217 70.8086 L 476.821 71.1326 Q 476.479 70.6826, 475.873 70.6826 Q 475.231 70.6826, 474.889 71.1146 Q 474.553 71.5406, 474.553 72.3566 Q 474.553 73.1966, 474.901 73.6286 Q 475.255 74.0606, 475.939 74.0606 Q 476.407 74.0606, 476.953 73.7786 L 477.121 74.2286 Q 476.899 74.3726, 476.563 74.4566 Q 476.227 74.5406, 475.855 74.5406 Q 474.931 74.5406, 474.433 73.9766 Q 473.941 73.4126, 473.941 72.3566 \" fill=\"#000000\"/>\n",
       "<path class=\"atom-26\" d=\"M 464.08 76.5826 L 464.656 76.5826 L 464.656 78.3886 L 466.828 78.3886 L 466.828 76.5826 L 467.404 76.5826 L 467.404 80.8306 L 466.828 80.8306 L 466.828 78.8686 L 464.656 78.8686 L 464.656 80.8306 L 464.08 80.8306 L 464.08 76.5826 \" fill=\"#0000FF\"/>\n",
       "<path class=\"atom-26\" d=\"M 467.61 80.6816 Q 467.713 80.4163, 467.959 80.2697 Q 468.204 80.1193, 468.545 80.1193 Q 468.969 80.1193, 469.206 80.3489 Q 469.444 80.5786, 469.444 80.9865 Q 469.444 81.4023, 469.135 81.7904 Q 468.83 82.1785, 468.196 82.6378 L 469.491 82.6378 L 469.491 82.9546 L 467.602 82.9546 L 467.602 82.6893 Q 468.125 82.3171, 468.434 82.0399 Q 468.747 81.7627, 468.897 81.5132 Q 469.048 81.2637, 469.048 81.0063 Q 469.048 80.737, 468.913 80.5865 Q 468.779 80.4361, 468.545 80.4361 Q 468.319 80.4361, 468.169 80.5271 Q 468.018 80.6182, 467.911 80.8202 L 467.61 80.6816 \" fill=\"#0000FF\"/>\n",
       "<path class=\"atom-26\" d=\"M 470.661 76.5826 L 472.053 78.8326 Q 472.191 79.0546, 472.413 79.4566 Q 472.635 79.8586, 472.647 79.8826 L 472.647 76.5826 L 473.211 76.5826 L 473.211 80.8306 L 472.629 80.8306 L 471.135 78.3706 Q 470.961 78.0826, 470.775 77.7526 Q 470.595 77.4226, 470.541 77.3206 L 470.541 80.8306 L 469.989 80.8306 L 469.989 76.5826 L 470.661 76.5826 \" fill=\"#0000FF\"/>\n",
       "<path d=\"M 449.541,74.3864 L 449.541,72.5901 L 451.338,72.5901 L 451.338,74.3864 L 449.541,74.3864\" style=\"fill:none;stroke:#FF0000;stroke-width:2px;stroke-linecap:butt;stroke-linejoin:miter;stroke-opacity:1;\"/>\n",
       "<path d=\"M 472.579,64.4796 L 472.579,62.6833 L 474.376,62.6833 L 474.376,64.4796 L 472.579,64.4796\" style=\"fill:none;stroke:#FF0000;stroke-width:2px;stroke-linecap:butt;stroke-linejoin:miter;stroke-opacity:1;\"/>\n",
       "<path d=\"M 482.729,57.1596 L 482.729,55.3632 L 484.525,55.3632 L 484.525,57.1596 L 482.729,57.1596\" style=\"fill:none;stroke:#FF0000;stroke-width:2px;stroke-linecap:butt;stroke-linejoin:miter;stroke-opacity:1;\"/>\n",
       "<path d=\"M 487.749,52.3544 L 487.749,50.558 L 489.546,50.558 L 489.546,52.3544 L 487.749,52.3544\" style=\"fill:none;stroke:#FF0000;stroke-width:2px;stroke-linecap:butt;stroke-linejoin:miter;stroke-opacity:1;\"/>\n",
       "<path d=\"M 497.144,55.0039 L 497.144,53.2076 L 498.941,53.2076 L 498.941,55.0039 L 497.144,55.0039\" style=\"fill:none;stroke:#FF0000;stroke-width:2px;stroke-linecap:butt;stroke-linejoin:miter;stroke-opacity:1;\"/>\n",
       "<path d=\"M 433.029 182.816 L 439.765 182.816 L 439.765 184.112 L 434.549 184.112 L 434.549 187.552 L 439.189 187.552 L 439.189 188.864 L 434.549 188.864 L 434.549 194.144 L 433.029 194.144 L 433.029 182.816 \" fill=\"#000000\"/>\n",
       "<path d=\"M 442.341 185.92 L 442.517 187.056 Q 443.381 185.776, 444.789 185.776 Q 445.237 185.776, 445.845 185.936 L 445.605 187.28 Q 444.917 187.12, 444.533 187.12 Q 443.861 187.12, 443.413 187.392 Q 442.981 187.648, 442.629 188.272 L 442.629 194.144 L 441.125 194.144 L 441.125 185.92 L 442.341 185.92 \" fill=\"#000000\"/>\n",
       "<path d=\"M 446.581 190.016 Q 446.581 188.016, 447.589 186.896 Q 448.613 185.776, 450.485 185.776 Q 452.357 185.776, 453.365 186.896 Q 454.389 188.016, 454.389 190.016 Q 454.389 192.016, 453.365 193.152 Q 452.357 194.272, 450.485 194.272 Q 448.613 194.272, 447.589 193.152 Q 446.581 192.016, 446.581 190.016 M 448.117 190.016 Q 448.117 191.52, 448.725 192.304 Q 449.349 193.088, 450.485 193.088 Q 451.621 193.088, 452.229 192.304 Q 452.853 191.52, 452.853 190.016 Q 452.853 188.512, 452.229 187.744 Q 451.621 186.96, 450.485 186.96 Q 449.349 186.96, 448.725 187.744 Q 448.117 188.512, 448.117 190.016 \" fill=\"#000000\"/>\n",
       "<path d=\"M 465.205 185.776 Q 466.597 185.776, 467.301 186.528 Q 468.005 187.264, 468.005 188.704 L 468.005 194.144 L 466.501 194.144 L 466.501 188.816 Q 466.501 187.84, 466.117 187.408 Q 465.749 186.96, 464.917 186.96 Q 464.197 186.96, 463.573 187.312 Q 462.965 187.648, 462.597 188.256 Q 462.613 188.4, 462.613 188.704 L 462.613 194.144 L 461.109 194.144 L 461.109 188.816 Q 461.109 187.84, 460.725 187.408 Q 460.357 186.96, 459.525 186.96 Q 458.805 186.96, 458.197 187.312 Q 457.589 187.648, 457.205 188.24 L 457.205 194.144 L 455.701 194.144 L 455.701 185.92 L 456.933 185.92 L 457.093 187.04 Q 458.165 185.776, 459.813 185.776 Q 461.749 185.776, 462.357 187.216 Q 463.445 185.776, 465.205 185.776 \" fill=\"#000000\"/>\n",
       "<path d=\"\" fill=\"#000000\"/>\n",
       "<path d=\"M 476.709 182.816 Q 478.645 182.816, 479.621 183.696 Q 480.597 184.56, 480.597 186.144 Q 480.597 187.712, 479.589 188.608 Q 478.597 189.488, 476.709 189.488 L 474.901 189.488 L 474.901 194.144 L 473.365 194.144 L 473.365 182.816 L 476.709 182.816 M 476.709 188.208 Q 477.813 188.208, 478.405 187.68 Q 478.997 187.152, 478.997 186.144 Q 478.997 185.136, 478.405 184.624 Q 477.829 184.096, 476.709 184.096 L 474.901 184.096 L 474.901 188.208 L 476.709 188.208 \" fill=\"#000000\"/>\n",
       "<path d=\"M 485.621 182.816 Q 488.133 182.816, 489.477 184.304 Q 490.821 185.776, 490.821 188.448 Q 490.821 191.136, 489.461 192.64 Q 488.117 194.144, 485.621 194.144 L 481.957 194.144 L 481.957 182.816 L 485.621 182.816 M 485.621 192.864 Q 487.349 192.864, 488.277 191.76 Q 489.221 190.656, 489.221 188.448 Q 489.221 186.256, 488.277 185.184 Q 487.349 184.096, 485.621 184.096 L 483.493 184.096 L 483.493 192.864 L 485.621 192.864 \" fill=\"#000000\"/>\n",
       "<path d=\"M 497.685 188.192 Q 498.773 188.496, 499.317 189.168 Q 499.877 189.824, 499.877 190.8 Q 499.877 192.368, 498.869 193.264 Q 497.877 194.144, 495.989 194.144 L 492.181 194.144 L 492.181 182.816 L 495.525 182.816 Q 497.461 182.816, 498.437 183.6 Q 499.413 184.384, 499.413 185.824 Q 499.413 187.536, 497.685 188.192 M 493.701 184.096 L 493.701 187.648 L 495.525 187.648 Q 496.645 187.648, 497.221 187.2 Q 497.813 186.736, 497.813 185.824 Q 497.813 184.096, 495.525 184.096 L 493.701 184.096 M 495.989 192.864 Q 497.093 192.864, 497.685 192.336 Q 498.277 191.808, 498.277 190.8 Q 498.277 189.872, 497.621 189.408 Q 496.981 188.928, 495.749 188.928 L 493.701 188.928 L 493.701 192.864 L 495.989 192.864 \" fill=\"#000000\"/>\n",
       "<path d=\"\" fill=\"#000000\"/>\n",
       "<path d=\"M 505.285 182.768 L 506.805 182.768 L 506.805 194.144 L 505.285 194.144 L 505.285 182.768 \" fill=\"#000000\"/>\n",
       "<path d=\"M 511.829 182.816 Q 514.341 182.816, 515.685 184.304 Q 517.029 185.776, 517.029 188.448 Q 517.029 191.136, 515.669 192.64 Q 514.325 194.144, 511.829 194.144 L 508.165 194.144 L 508.165 182.816 L 511.829 182.816 M 511.829 192.864 Q 513.557 192.864, 514.485 191.76 Q 515.429 190.656, 515.429 188.448 Q 515.429 186.256, 514.485 185.184 Q 513.557 184.096, 511.829 184.096 L 509.701 184.096 L 509.701 192.864 L 511.829 192.864 \" fill=\"#000000\"/>\n",
       "<path d=\"M 518.229 192.272 L 519.829 192.272 L 519.829 193.872 L 518.229 193.872 L 518.229 192.272 M 518.229 186.768 L 519.829 186.768 L 519.829 188.368 L 518.229 188.368 L 518.229 186.768 \" fill=\"#000000\"/>\n",
       "<path d=\"\" fill=\"#000000\"/>\n",
       "<path d=\"M 528.677 187.056 Q 529.669 187.056, 530.485 187.488 Q 531.301 187.904, 531.765 188.704 Q 532.229 189.488, 532.229 190.56 Q 532.229 191.728, 531.653 192.576 Q 531.093 193.408, 530.165 193.84 Q 529.237 194.272, 528.181 194.272 Q 527.141 194.272, 526.181 193.888 Q 525.221 193.504, 524.565 192.768 L 525.525 191.776 Q 526.053 192.352, 526.773 192.672 Q 527.493 192.976, 528.229 192.976 Q 529.237 192.976, 529.925 192.352 Q 530.629 191.728, 530.629 190.592 Q 530.629 189.392, 529.925 188.832 Q 529.237 188.256, 528.133 188.256 Q 527.141 188.256, 526.037 188.688 L 525.157 188.272 L 525.701 182.816 L 531.525 182.816 L 531.365 184.096 L 527.013 184.096 L 526.677 187.456 Q 527.685 187.056, 528.677 187.056 \" fill=\"#000000\"/>\n",
       "<path d=\"M 540.773 194.144 L 539.589 190.816 L 535.093 190.816 L 533.957 194.144 L 532.421 194.144 L 536.325 182.816 L 538.213 182.816 L 542.261 194.144 L 540.773 194.144 M 535.541 189.536 L 539.125 189.536 L 537.301 184.4 L 535.541 189.536 \" fill=\"#000000\"/>\n",
       "<path d=\"M 547.381 194.272 Q 545.301 194.272, 544.261 192.736 Q 543.237 191.2, 543.237 188.464 Q 543.237 185.728, 544.261 184.208 Q 545.285 182.688, 547.381 182.688 Q 549.477 182.688, 550.501 184.208 Q 551.525 185.728, 551.525 188.464 Q 551.525 191.2, 550.485 192.736 Q 549.461 194.272, 547.381 194.272 M 547.381 192.992 Q 548.613 192.992, 549.269 191.856 Q 549.925 190.704, 549.925 188.464 Q 549.925 186.24, 549.269 185.104 Q 548.613 183.968, 547.381 183.968 Q 546.165 183.968, 545.493 185.104 Q 544.837 186.24, 544.837 188.464 Q 544.837 190.704, 545.493 191.856 Q 546.165 192.992, 547.381 192.992 \" fill=\"#000000\"/>\n",
       "<path d=\"M 560.069 194.144 L 558.885 190.816 L 554.389 190.816 L 553.253 194.144 L 551.717 194.144 L 555.621 182.816 L 557.509 182.816 L 561.557 194.144 L 560.069 194.144 M 554.837 189.536 L 558.421 189.536 L 556.597 184.4 L 554.837 189.536 \" fill=\"#000000\"/>\n",
       "<path class=\"bond-0\" d=\"M 629.032,55.4022 L 628.873,55.733\" style=\"fill:none;fill-rule:evenodd;stroke:#0000FF;stroke-width:2.0px;stroke-linecap:butt;stroke-linejoin:miter;stroke-opacity:1\"/>\n",
       "<path class=\"bond-0\" d=\"M 628.873,55.733 L 628.713,56.0638\" style=\"fill:none;fill-rule:evenodd;stroke:#000000;stroke-width:2.0px;stroke-linecap:butt;stroke-linejoin:miter;stroke-opacity:1\"/>\n",
       "<path class=\"bond-1\" d=\"M 628.713,56.0638 L 635.934,47.2977\" style=\"fill:none;fill-rule:evenodd;stroke:#000000;stroke-width:2.0px;stroke-linecap:butt;stroke-linejoin:miter;stroke-opacity:1\"/>\n",
       "<path class=\"bond-2\" d=\"M 628.713,56.0638 L 615.546,55.2644\" style=\"fill:none;fill-rule:evenodd;stroke:#000000;stroke-width:2.0px;stroke-linecap:butt;stroke-linejoin:miter;stroke-opacity:1\"/>\n",
       "<path class=\"bond-3\" d=\"M 635.934,47.2977 L 641.053,48.022\" style=\"fill:none;fill-rule:evenodd;stroke:#000000;stroke-width:2.0px;stroke-linecap:butt;stroke-linejoin:miter;stroke-opacity:1\"/>\n",
       "<path class=\"bond-3\" d=\"M 641.053,48.022 L 646.171,48.7464\" style=\"fill:none;fill-rule:evenodd;stroke:#FF0000;stroke-width:2.0px;stroke-linecap:butt;stroke-linejoin:miter;stroke-opacity:1\"/>\n",
       "<path class=\"bond-4\" d=\"M 650.6,46.8877 L 652.523,44.9505\" style=\"fill:none;fill-rule:evenodd;stroke:#FF0000;stroke-width:2.0px;stroke-linecap:butt;stroke-linejoin:miter;stroke-opacity:1\"/>\n",
       "<path class=\"bond-4\" d=\"M 652.523,44.9505 L 654.445,43.0134\" style=\"fill:none;fill-rule:evenodd;stroke:#000000;stroke-width:2.0px;stroke-linecap:butt;stroke-linejoin:miter;stroke-opacity:1\"/>\n",
       "<path class=\"bond-5\" d=\"M 615.546,55.2644 L 613.347,52.374\" style=\"fill:none;fill-rule:evenodd;stroke:#000000;stroke-width:2.0px;stroke-linecap:butt;stroke-linejoin:miter;stroke-opacity:1\"/>\n",
       "<path class=\"bond-5\" d=\"M 613.347,52.374 L 611.149,49.4835\" style=\"fill:none;fill-rule:evenodd;stroke:#FF0000;stroke-width:2.0px;stroke-linecap:butt;stroke-linejoin:miter;stroke-opacity:1\"/>\n",
       "<path class=\"bond-6\" d=\"M 665.403,75.2666 L 668.947,65.4207\" style=\"fill:none;fill-rule:evenodd;stroke:#000000;stroke-width:2.0px;stroke-linecap:butt;stroke-linejoin:miter;stroke-opacity:1\"/>\n",
       "<path class=\"bond-7\" d=\"M 670.954,60.5468 L 673.163,55.8213\" style=\"fill:none;fill-rule:evenodd;stroke:#000000;stroke-width:2.0px;stroke-linecap:butt;stroke-linejoin:miter;stroke-opacity:1\"/>\n",
       "<path class=\"bond-8\" d=\"M 673.163,55.8213 L 668.178,43.0134\" style=\"fill:none;fill-rule:evenodd;stroke:#000000;stroke-width:2.0px;stroke-linecap:butt;stroke-linejoin:miter;stroke-opacity:1\"/>\n",
       "<path class=\"bond-9\" d=\"M 668.178,43.0134 L 654.445,43.0134\" style=\"fill:none;fill-rule:evenodd;stroke:#000000;stroke-width:2.0px;stroke-linecap:butt;stroke-linejoin:miter;stroke-opacity:1\"/>\n",
       "<path class=\"bond-10\" d=\"M 668.178,43.0134 L 669.837,40.7021\" style=\"fill:none;fill-rule:evenodd;stroke:#000000;stroke-width:2.0px;stroke-linecap:butt;stroke-linejoin:miter;stroke-opacity:1\"/>\n",
       "<path class=\"bond-10\" d=\"M 669.837,40.7021 L 671.495,38.3908\" style=\"fill:none;fill-rule:evenodd;stroke:#0000FF;stroke-width:2.0px;stroke-linecap:butt;stroke-linejoin:miter;stroke-opacity:1\"/>\n",
       "<path class=\"bond-11\" d=\"M 654.445,43.0134 L 652.789,41.2857\" style=\"fill:none;fill-rule:evenodd;stroke:#000000;stroke-width:2.0px;stroke-linecap:butt;stroke-linejoin:miter;stroke-opacity:1\"/>\n",
       "<path class=\"bond-11\" d=\"M 652.789,41.2857 L 651.132,39.5581\" style=\"fill:none;fill-rule:evenodd;stroke:#FF0000;stroke-width:2.0px;stroke-linecap:butt;stroke-linejoin:miter;stroke-opacity:1\"/>\n",
       "<path class=\"bond-12\" d=\"M 668.511,40.5165 L 669.955,39.1332\" style=\"fill:none;fill-rule:evenodd;stroke:#000000;stroke-width:2.0px;stroke-linecap:butt;stroke-linejoin:miter;stroke-opacity:1\"/>\n",
       "<path class=\"bond-12\" d=\"M 669.955,39.1332 L 671.4,37.7498\" style=\"fill:none;fill-rule:evenodd;stroke:#0000FF;stroke-width:2.0px;stroke-linecap:butt;stroke-linejoin:miter;stroke-opacity:1\"/>\n",
       "<path class=\"bond-13\" d=\"M 689.483,21.8526 L 685.67,19.6633\" style=\"fill:none;fill-rule:evenodd;stroke:#000000;stroke-width:2.0px;stroke-linecap:butt;stroke-linejoin:miter;stroke-opacity:1\"/>\n",
       "<path class=\"bond-13\" d=\"M 685.67,19.6633 L 681.856,17.474\" style=\"fill:none;fill-rule:evenodd;stroke:#0000FF;stroke-width:2.0px;stroke-linecap:butt;stroke-linejoin:miter;stroke-opacity:1\"/>\n",
       "<path class=\"bond-14\" d=\"M 672.778,33.5959 L 672.12,29.5054\" style=\"fill:none;fill-rule:evenodd;stroke:#0000FF;stroke-width:2.0px;stroke-linecap:butt;stroke-linejoin:miter;stroke-opacity:1\"/>\n",
       "<path class=\"bond-14\" d=\"M 672.12,29.5054 L 671.463,25.4149\" style=\"fill:none;fill-rule:evenodd;stroke:#CCCC00;stroke-width:2.0px;stroke-linecap:butt;stroke-linejoin:miter;stroke-opacity:1\"/>\n",
       "<path class=\"bond-15\" d=\"M 678.084,17.7727 L 675.363,19.7645\" style=\"fill:none;fill-rule:evenodd;stroke:#0000FF;stroke-width:2.0px;stroke-linecap:butt;stroke-linejoin:miter;stroke-opacity:1\"/>\n",
       "<path class=\"bond-15\" d=\"M 675.363,19.7645 L 672.641,21.7564\" style=\"fill:none;fill-rule:evenodd;stroke:#CCCC00;stroke-width:2.0px;stroke-linecap:butt;stroke-linejoin:miter;stroke-opacity:1\"/>\n",
       "<path class=\"bond-16\" d=\"M 671.516,21.6731 L 671.289,22.2927\" style=\"fill:none;fill-rule:evenodd;stroke:#FF0000;stroke-width:2.0px;stroke-linecap:butt;stroke-linejoin:miter;stroke-opacity:1\"/>\n",
       "<path class=\"bond-16\" d=\"M 671.289,22.2927 L 671.061,22.9124\" style=\"fill:none;fill-rule:evenodd;stroke:#CCCC00;stroke-width:2.0px;stroke-linecap:butt;stroke-linejoin:miter;stroke-opacity:1\"/>\n",
       "<path class=\"bond-17\" d=\"M 660.981,20.2219 L 665.21,21.3506\" style=\"fill:none;fill-rule:evenodd;stroke:#FF0000;stroke-width:2.0px;stroke-linecap:butt;stroke-linejoin:miter;stroke-opacity:1\"/>\n",
       "<path class=\"bond-17\" d=\"M 665.21,21.3506 L 669.439,22.4792\" style=\"fill:none;fill-rule:evenodd;stroke:#CCCC00;stroke-width:2.0px;stroke-linecap:butt;stroke-linejoin:miter;stroke-opacity:1\"/>\n",
       "<path class=\"atom-0\" d=\"M 629.157 51.0746 L 630.549 53.3246 Q 630.687 53.5466, 630.909 53.9486 Q 631.131 54.3506, 631.143 54.3746 L 631.143 51.0746 L 631.707 51.0746 L 631.707 55.3226 L 631.125 55.3226 L 629.631 52.8626 Q 629.457 52.5746, 629.271 52.2446 Q 629.091 51.9146, 629.037 51.8126 L 629.037 55.3226 L 628.485 55.3226 L 628.485 51.0746 L 629.157 51.0746 \" fill=\"#0000FF\"/>\n",
       "<path class=\"atom-0\" d=\"M 632.217 51.0746 L 632.793 51.0746 L 632.793 52.8806 L 634.965 52.8806 L 634.965 51.0746 L 635.541 51.0746 L 635.541 55.3226 L 634.965 55.3226 L 634.965 53.3606 L 632.793 53.3606 L 632.793 55.3226 L 632.217 55.3226 L 632.217 51.0746 \" fill=\"#0000FF\"/>\n",
       "<path class=\"atom-0\" d=\"M 635.747 55.1736 Q 635.85 54.9083, 636.095 54.7617 Q 636.341 54.6113, 636.681 54.6113 Q 637.105 54.6113, 637.343 54.8409 Q 637.58 55.0706, 637.58 55.4785 Q 637.58 55.8943, 637.272 56.2824 Q 636.967 56.6705, 636.333 57.1298 L 637.628 57.1298 L 637.628 57.4466 L 635.739 57.4466 L 635.739 57.1813 Q 636.262 56.8091, 636.571 56.5319 Q 636.883 56.2547, 637.034 56.0052 Q 637.184 55.7557, 637.184 55.4983 Q 637.184 55.229, 637.05 55.0785 Q 636.915 54.9281, 636.681 54.9281 Q 636.456 54.9281, 636.305 55.0191 Q 636.155 55.1102, 636.048 55.3122 L 635.747 55.1736 \" fill=\"#0000FF\"/>\n",
       "<path class=\"atom-3\" d=\"M 646.487 49.0791 Q 646.487 48.0591, 646.991 47.4891 Q 647.495 46.9191, 648.437 46.9191 Q 649.379 46.9191, 649.883 47.4891 Q 650.387 48.0591, 650.387 49.0791 Q 650.387 50.1111, 649.877 50.6991 Q 649.367 51.2811, 648.437 51.2811 Q 647.501 51.2811, 646.991 50.6991 Q 646.487 50.1171, 646.487 49.0791 M 648.437 50.8011 Q 649.085 50.8011, 649.433 50.3691 Q 649.787 49.9311, 649.787 49.0791 Q 649.787 48.2451, 649.433 47.8251 Q 649.085 47.3991, 648.437 47.3991 Q 647.789 47.3991, 647.435 47.8191 Q 647.087 48.2391, 647.087 49.0791 Q 647.087 49.9371, 647.435 50.3691 Q 647.789 50.8011, 648.437 50.8011 \" fill=\"#FF0000\"/>\n",
       "<path class=\"atom-5\" d=\"M 603.693 44.9102 L 604.269 44.9102 L 604.269 46.7162 L 606.441 46.7162 L 606.441 44.9102 L 607.017 44.9102 L 607.017 49.1582 L 606.441 49.1582 L 606.441 47.1962 L 604.269 47.1962 L 604.269 49.1582 L 603.693 49.1582 L 603.693 44.9102 \" fill=\"#FF0000\"/>\n",
       "<path class=\"atom-5\" d=\"M 607.317 47.0222 Q 607.317 46.0022, 607.821 45.4322 Q 608.325 44.8622, 609.267 44.8622 Q 610.209 44.8622, 610.713 45.4322 Q 611.217 46.0022, 611.217 47.0222 Q 611.217 48.0542, 610.707 48.6422 Q 610.197 49.2242, 609.267 49.2242 Q 608.331 49.2242, 607.821 48.6422 Q 607.317 48.0602, 607.317 47.0222 M 609.267 48.7442 Q 609.915 48.7442, 610.263 48.3122 Q 610.617 47.8742, 610.617 47.0222 Q 610.617 46.1882, 610.263 45.7682 Q 609.915 45.3422, 609.267 45.3422 Q 608.619 45.3422, 608.265 45.7622 Q 607.917 46.1822, 607.917 47.0222 Q 607.917 47.8802, 608.265 48.3122 Q 608.619 48.7442, 609.267 48.7442 \" fill=\"#FF0000\"/>\n",
       "<path class=\"atom-7\" d=\"M 668.22 62.9079 Q 668.22 61.8519, 668.712 61.2999 Q 669.21 60.7419, 670.152 60.7419 Q 671.028 60.7419, 671.496 61.3599 L 671.1 61.6839 Q 670.758 61.2339, 670.152 61.2339 Q 669.51 61.2339, 669.168 61.6659 Q 668.832 62.0919, 668.832 62.9079 Q 668.832 63.7479, 669.18 64.1799 Q 669.534 64.6119, 670.218 64.6119 Q 670.686 64.6119, 671.232 64.3299 L 671.4 64.7799 Q 671.178 64.9239, 670.842 65.0079 Q 670.506 65.0919, 670.134 65.0919 Q 669.21 65.0919, 668.712 64.5279 Q 668.22 63.9639, 668.22 62.9079 \" fill=\"#000000\"/>\n",
       "<path class=\"atom-13\" d=\"M 672.233 33.9286 L 673.625 36.1786 Q 673.763 36.4006, 673.985 36.8026 Q 674.207 37.2046, 674.219 37.2286 L 674.219 33.9286 L 674.783 33.9286 L 674.783 38.1766 L 674.201 38.1766 L 672.707 35.7166 Q 672.533 35.4286, 672.347 35.0986 Q 672.167 34.7686, 672.113 34.6666 L 672.113 38.1766 L 671.561 38.1766 L 671.561 33.9286 L 672.233 33.9286 \" fill=\"#0000FF\"/>\n",
       "<path class=\"atom-14\" d=\"M 679.032 14.2677 L 680.424 16.5177 Q 680.562 16.7397, 680.784 17.1417 Q 681.006 17.5437, 681.018 17.5677 L 681.018 14.2677 L 681.582 14.2677 L 681.582 18.5157 L 681 18.5157 L 679.506 16.0557 Q 679.332 15.7677, 679.146 15.4377 Q 678.966 15.1077, 678.912 15.0057 L 678.912 18.5157 L 678.36 18.5157 L 678.36 14.2677 L 679.032 14.2677 \" fill=\"#0000FF\"/>\n",
       "<path class=\"atom-14\" d=\"M 678.309 9.59489 L 678.885 9.59489 L 678.885 11.4009 L 681.057 11.4009 L 681.057 9.59489 L 681.633 9.59489 L 681.633 13.8429 L 681.057 13.8429 L 681.057 11.8809 L 678.885 11.8809 L 678.885 13.8429 L 678.309 13.8429 L 678.309 9.59489 \" fill=\"#0000FF\"/>\n",
       "<path class=\"atom-15\" d=\"M 643.41 35.219 L 643.986 35.219 L 643.986 37.025 L 646.158 37.025 L 646.158 35.219 L 646.734 35.219 L 646.734 39.467 L 646.158 39.467 L 646.158 37.505 L 643.986 37.505 L 643.986 39.467 L 643.41 39.467 L 643.41 35.219 \" fill=\"#FF0000\"/>\n",
       "<path class=\"atom-15\" d=\"M 647.034 37.331 Q 647.034 36.311, 647.538 35.741 Q 648.042 35.171, 648.984 35.171 Q 649.926 35.171, 650.43 35.741 Q 650.934 36.311, 650.934 37.331 Q 650.934 38.363, 650.424 38.951 Q 649.914 39.533, 648.984 39.533 Q 648.048 39.533, 647.538 38.951 Q 647.034 38.369, 647.034 37.331 M 648.984 39.053 Q 649.632 39.053, 649.98 38.621 Q 650.334 38.183, 650.334 37.331 Q 650.334 36.497, 649.98 36.077 Q 649.632 35.651, 648.984 35.651 Q 648.336 35.651, 647.982 36.071 Q 647.634 36.491, 647.634 37.331 Q 647.634 38.189, 647.982 38.621 Q 648.336 39.053, 648.984 39.053 \" fill=\"#FF0000\"/>\n",
       "<path class=\"atom-16\" d=\"M 670.414 19.3766 Q 670.414 18.3566, 670.918 17.7866 Q 671.422 17.2166, 672.364 17.2166 Q 673.306 17.2166, 673.81 17.7866 Q 674.314 18.3566, 674.314 19.3766 Q 674.314 20.4086, 673.804 20.9966 Q 673.294 21.5786, 672.364 21.5786 Q 671.428 21.5786, 670.918 20.9966 Q 670.414 20.4146, 670.414 19.3766 M 672.364 21.0986 Q 673.012 21.0986, 673.36 20.6666 Q 673.714 20.2286, 673.714 19.3766 Q 673.714 18.5426, 673.36 18.1226 Q 673.012 17.6966, 672.364 17.6966 Q 671.716 17.6966, 671.362 18.1166 Q 671.014 18.5366, 671.014 19.3766 Q 671.014 20.2346, 671.362 20.6666 Q 671.716 21.0986, 672.364 21.0986 \" fill=\"#FF0000\"/>\n",
       "<path class=\"atom-16\" d=\"M 674.824 17.2646 L 675.4 17.2646 L 675.4 19.0706 L 677.572 19.0706 L 677.572 17.2646 L 678.148 17.2646 L 678.148 21.5126 L 677.572 21.5126 L 677.572 19.5506 L 675.4 19.5506 L 675.4 21.5126 L 674.824 21.5126 L 674.824 17.2646 \" fill=\"#FF0000\"/>\n",
       "<path class=\"atom-17\" d=\"M 653.138 17.5161 L 653.714 17.5161 L 653.714 19.3221 L 655.886 19.3221 L 655.886 17.5161 L 656.462 17.5161 L 656.462 21.7641 L 655.886 21.7641 L 655.886 19.8021 L 653.714 19.8021 L 653.714 21.7641 L 653.138 21.7641 L 653.138 17.5161 \" fill=\"#FF0000\"/>\n",
       "<path class=\"atom-17\" d=\"M 656.762 19.6281 Q 656.762 18.6081, 657.266 18.0381 Q 657.77 17.4681, 658.712 17.4681 Q 659.654 17.4681, 660.158 18.0381 Q 660.662 18.6081, 660.662 19.6281 Q 660.662 20.6601, 660.152 21.2481 Q 659.642 21.8301, 658.712 21.8301 Q 657.776 21.8301, 657.266 21.2481 Q 656.762 20.6661, 656.762 19.6281 M 658.712 21.3501 Q 659.36 21.3501, 659.708 20.9181 Q 660.062 20.4801, 660.062 19.6281 Q 660.062 18.7941, 659.708 18.3741 Q 659.36 17.9481, 658.712 17.9481 Q 658.064 17.9481, 657.71 18.3681 Q 657.362 18.7881, 657.362 19.6281 Q 657.362 20.4861, 657.71 20.9181 Q 658.064 21.3501, 658.712 21.3501 \" fill=\"#FF0000\"/>\n",
       "<path class=\"atom-18\" d=\"M 669.861 24.3704 Q 669.909 24.3884, 670.107 24.4724 Q 670.305 24.5564, 670.521 24.6104 Q 670.743 24.6584, 670.959 24.6584 Q 671.361 24.6584, 671.595 24.4664 Q 671.829 24.2684, 671.829 23.9264 Q 671.829 23.6924, 671.709 23.5484 Q 671.595 23.4044, 671.415 23.3264 Q 671.235 23.2484, 670.935 23.1584 Q 670.557 23.0444, 670.329 22.9364 Q 670.107 22.8284, 669.945 22.6004 Q 669.789 22.3724, 669.789 21.9884 Q 669.789 21.4544, 670.149 21.1244 Q 670.515 20.7944, 671.235 20.7944 Q 671.727 20.7944, 672.285 21.0284 L 672.147 21.4904 Q 671.637 21.2804, 671.253 21.2804 Q 670.839 21.2804, 670.611 21.4544 Q 670.383 21.6224, 670.389 21.9164 Q 670.389 22.1444, 670.503 22.2824 Q 670.623 22.4204, 670.791 22.4984 Q 670.965 22.5764, 671.253 22.6664 Q 671.637 22.7864, 671.865 22.9064 Q 672.093 23.0264, 672.255 23.2724 Q 672.423 23.5124, 672.423 23.9264 Q 672.423 24.5144, 672.027 24.8324 Q 671.637 25.1444, 670.983 25.1444 Q 670.605 25.1444, 670.317 25.0604 Q 670.035 24.9824, 669.699 24.8444 L 669.861 24.3704 \" fill=\"#CCCC00\"/>\n",
       "<path d=\"M 667.28,43.9116 L 667.28,42.1152 L 669.077,42.1152 L 669.077,43.9116 L 667.28,43.9116\" style=\"fill:none;stroke:#FF0000;stroke-width:2px;stroke-linecap:butt;stroke-linejoin:miter;stroke-opacity:1;\"/>\n",
       "<path d=\"M 633.701 182.784 L 640.437 182.784 L 640.437 184.08 L 635.221 184.08 L 635.221 187.52 L 639.861 187.52 L 639.861 188.832 L 635.221 188.832 L 635.221 194.112 L 633.701 194.112 L 633.701 182.784 \" fill=\"#000000\"/>\n",
       "<path d=\"M 643.013 185.888 L 643.189 187.024 Q 644.053 185.744, 645.461 185.744 Q 645.909 185.744, 646.517 185.904 L 646.277 187.248 Q 645.589 187.088, 645.205 187.088 Q 644.533 187.088, 644.085 187.36 Q 643.653 187.616, 643.301 188.24 L 643.301 194.112 L 641.797 194.112 L 641.797 185.888 L 643.013 185.888 \" fill=\"#000000\"/>\n",
       "<path d=\"M 647.253 189.984 Q 647.253 187.984, 648.261 186.864 Q 649.285 185.744, 651.157 185.744 Q 653.029 185.744, 654.037 186.864 Q 655.061 187.984, 655.061 189.984 Q 655.061 191.984, 654.037 193.12 Q 653.029 194.24, 651.157 194.24 Q 649.285 194.24, 648.261 193.12 Q 647.253 191.984, 647.253 189.984 M 648.789 189.984 Q 648.789 191.488, 649.397 192.272 Q 650.021 193.056, 651.157 193.056 Q 652.293 193.056, 652.901 192.272 Q 653.525 191.488, 653.525 189.984 Q 653.525 188.48, 652.901 187.712 Q 652.293 186.928, 651.157 186.928 Q 650.021 186.928, 649.397 187.712 Q 648.789 188.48, 648.789 189.984 \" fill=\"#000000\"/>\n",
       "<path d=\"M 665.877 185.744 Q 667.269 185.744, 667.973 186.496 Q 668.677 187.232, 668.677 188.672 L 668.677 194.112 L 667.173 194.112 L 667.173 188.784 Q 667.173 187.808, 666.789 187.376 Q 666.421 186.928, 665.589 186.928 Q 664.869 186.928, 664.245 187.28 Q 663.637 187.616, 663.269 188.224 Q 663.285 188.368, 663.285 188.672 L 663.285 194.112 L 661.781 194.112 L 661.781 188.784 Q 661.781 187.808, 661.397 187.376 Q 661.029 186.928, 660.197 186.928 Q 659.477 186.928, 658.869 187.28 Q 658.261 187.616, 657.877 188.208 L 657.877 194.112 L 656.373 194.112 L 656.373 185.888 L 657.605 185.888 L 657.765 187.008 Q 658.837 185.744, 660.485 185.744 Q 662.421 185.744, 663.029 187.184 Q 664.117 185.744, 665.877 185.744 \" fill=\"#000000\"/>\n",
       "<path d=\"\" fill=\"#000000\"/>\n",
       "<path d=\"M 677.381 182.784 Q 679.317 182.784, 680.293 183.664 Q 681.269 184.528, 681.269 186.112 Q 681.269 187.68, 680.261 188.576 Q 679.269 189.456, 677.381 189.456 L 675.573 189.456 L 675.573 194.112 L 674.037 194.112 L 674.037 182.784 L 677.381 182.784 M 677.381 188.176 Q 678.485 188.176, 679.077 187.648 Q 679.669 187.12, 679.669 186.112 Q 679.669 185.104, 679.077 184.592 Q 678.501 184.064, 677.381 184.064 L 675.573 184.064 L 675.573 188.176 L 677.381 188.176 \" fill=\"#000000\"/>\n",
       "<path d=\"M 686.293 182.784 Q 688.805 182.784, 690.149 184.272 Q 691.493 185.744, 691.493 188.416 Q 691.493 191.104, 690.133 192.608 Q 688.789 194.112, 686.293 194.112 L 682.629 194.112 L 682.629 182.784 L 686.293 182.784 M 686.293 192.832 Q 688.021 192.832, 688.949 191.728 Q 689.893 190.624, 689.893 188.416 Q 689.893 186.224, 688.949 185.152 Q 688.021 184.064, 686.293 184.064 L 684.165 184.064 L 684.165 192.832 L 686.293 192.832 \" fill=\"#000000\"/>\n",
       "<path d=\"M 698.357 188.16 Q 699.445 188.464, 699.989 189.136 Q 700.549 189.792, 700.549 190.768 Q 700.549 192.336, 699.541 193.232 Q 698.549 194.112, 696.661 194.112 L 692.853 194.112 L 692.853 182.784 L 696.197 182.784 Q 698.133 182.784, 699.109 183.568 Q 700.085 184.352, 700.085 185.792 Q 700.085 187.504, 698.357 188.16 M 694.373 184.064 L 694.373 187.616 L 696.197 187.616 Q 697.317 187.616, 697.893 187.168 Q 698.485 186.704, 698.485 185.792 Q 698.485 184.064, 696.197 184.064 L 694.373 184.064 M 696.661 192.832 Q 697.765 192.832, 698.357 192.304 Q 698.949 191.776, 698.949 190.768 Q 698.949 189.84, 698.293 189.376 Q 697.653 188.896, 696.421 188.896 L 694.373 188.896 L 694.373 192.832 L 696.661 192.832 \" fill=\"#000000\"/>\n",
       "<path d=\"\" fill=\"#000000\"/>\n",
       "<path d=\"M 705.957 182.736 L 707.477 182.736 L 707.477 194.112 L 705.957 194.112 L 705.957 182.736 \" fill=\"#000000\"/>\n",
       "<path d=\"M 712.501 182.784 Q 715.013 182.784, 716.357 184.272 Q 717.701 185.744, 717.701 188.416 Q 717.701 191.104, 716.341 192.608 Q 714.997 194.112, 712.501 194.112 L 708.837 194.112 L 708.837 182.784 L 712.501 182.784 M 712.501 192.832 Q 714.229 192.832, 715.157 191.728 Q 716.101 190.624, 716.101 188.416 Q 716.101 186.224, 715.157 185.152 Q 714.229 184.064, 712.501 184.064 L 710.373 184.064 L 710.373 192.832 L 712.501 192.832 \" fill=\"#000000\"/>\n",
       "<path d=\"M 718.901 192.24 L 720.501 192.24 L 720.501 193.84 L 718.901 193.84 L 718.901 192.24 M 718.901 186.736 L 720.501 186.736 L 720.501 188.336 L 718.901 188.336 L 718.901 186.736 \" fill=\"#000000\"/>\n",
       "<path d=\"\" fill=\"#000000\"/>\n",
       "<path d=\"M 725.333 184.928 Q 725.749 183.856, 726.741 183.264 Q 727.733 182.656, 729.109 182.656 Q 730.821 182.656, 731.781 183.584 Q 732.741 184.512, 732.741 186.16 Q 732.741 187.84, 731.493 189.408 Q 730.261 190.976, 727.701 192.832 L 732.933 192.832 L 732.933 194.112 L 725.301 194.112 L 725.301 193.04 Q 727.413 191.536, 728.661 190.416 Q 729.925 189.296, 730.533 188.288 Q 731.141 187.28, 731.141 186.24 Q 731.141 185.152, 730.597 184.544 Q 730.053 183.936, 729.109 183.936 Q 728.197 183.936, 727.589 184.304 Q 726.981 184.672, 726.549 185.488 L 725.333 184.928 \" fill=\"#000000\"/>\n",
       "<path d=\"M 740.405 194.112 L 737.669 189.456 L 737.637 189.456 L 735.829 189.456 L 735.829 194.112 L 734.293 194.112 L 734.293 182.784 L 737.637 182.784 Q 739.573 182.784, 740.549 183.664 Q 741.525 184.528, 741.525 186.112 Q 741.525 187.312, 740.933 188.128 Q 740.357 188.928, 739.221 189.248 L 742.085 194.112 L 740.405 194.112 M 735.829 188.176 L 737.637 188.176 Q 738.741 188.176, 739.333 187.648 Q 739.925 187.12, 739.925 186.112 Q 739.925 185.104, 739.333 184.592 Q 738.757 184.064, 737.637 184.064 L 735.829 184.064 L 735.829 188.176 \" fill=\"#000000\"/>\n",
       "<path d=\"M 751.989 188.56 L 751.989 193.344 Q 750.373 194.256, 747.989 194.256 Q 745.525 194.256, 744.197 192.752 Q 742.885 191.248, 742.885 188.432 Q 742.885 185.616, 744.197 184.144 Q 745.525 182.656, 748.037 182.656 Q 749.349 182.656, 750.309 183.072 Q 751.269 183.472, 751.941 184.304 L 750.901 185.168 Q 749.845 183.936, 748.037 183.936 Q 746.325 183.936, 745.413 185.088 Q 744.517 186.24, 744.517 188.432 Q 744.517 190.672, 745.445 191.824 Q 746.389 192.976, 748.213 192.976 Q 749.397 192.976, 750.453 192.592 L 750.453 188.56 L 751.989 188.56 \" fill=\"#000000\"/>\n",
       "<path d=\"M 758.101 188.144 Q 759.205 188.464, 759.733 189.184 Q 760.277 189.888, 760.277 191.008 Q 760.277 191.968, 759.797 192.72 Q 759.317 193.456, 758.437 193.872 Q 757.557 194.272, 756.405 194.272 Q 755.189 194.272, 754.277 193.856 Q 753.381 193.424, 752.661 192.56 L 753.573 191.632 Q 754.277 192.4, 754.869 192.704 Q 755.461 192.992, 756.405 192.992 Q 757.429 192.992, 758.053 192.448 Q 758.677 191.888, 758.677 190.992 Q 758.677 189.84, 758.021 189.328 Q 757.381 188.8, 755.989 188.8 L 755.173 188.8 L 755.173 187.648 L 755.893 187.648 Q 757.125 187.632, 757.781 187.104 Q 758.437 186.56, 758.437 185.552 Q 758.437 184.816, 757.893 184.384 Q 757.349 183.936, 756.421 183.936 Q 755.477 183.936, 754.885 184.272 Q 754.309 184.608, 753.861 185.456 L 752.757 184.864 Q 753.157 183.92, 754.117 183.296 Q 755.077 182.656, 756.421 182.656 Q 758.085 182.656, 759.061 183.44 Q 760.037 184.224, 760.037 185.552 Q 760.037 186.464, 759.541 187.12 Q 759.045 187.776, 758.101 188.144 \" fill=\"#000000\"/>\n",
       "</svg>"
      ],
      "text/plain": [
       "<IPython.core.display.SVG object>"
      ]
     },
     "execution_count": 149,
     "metadata": {},
     "output_type": "execute_result"
    }
   ],
   "source": [
    "Draw.MolsToGridImage(mols, molsPerRow=4, legends=[\"From PDB ID: \"+i for i in pdb_ids])"
   ]
  },
  {
   "cell_type": "code",
   "execution_count": 150,
   "metadata": {},
   "outputs": [
    {
     "data": {
      "image/svg+xml": [
       "<svg xmlns=\"http://www.w3.org/2000/svg\" xmlns:rdkit=\"http://www.rdkit.org/xml\" xmlns:xlink=\"http://www.w3.org/1999/xlink\" version=\"1.1\" baseProfile=\"full\" xml:space=\"preserve\" width=\"800px\" height=\"200px\" viewBox=\"0 0 800 200\">\n",
       "<!-- END OF HEADER -->\n",
       "<rect style=\"opacity:1.0;fill:#FFFFFF;stroke:none\" width=\"800\" height=\"200\" x=\"0\" y=\"0\"> </rect>\n",
       "<rect style=\"opacity:1.0;fill:#FFFFFF;stroke:none\" width=\"800\" height=\"200\" x=\"0\" y=\"0\"> </rect>\n",
       "<rect style=\"opacity:1.0;fill:#FFFFFF;stroke:none\" width=\"800\" height=\"200\" x=\"0\" y=\"0\"> </rect>\n",
       "<rect style=\"opacity:1.0;fill:#FFFFFF;stroke:none\" width=\"800\" height=\"200\" x=\"0\" y=\"0\"> </rect>\n",
       "<rect style=\"opacity:1.0;fill:#FFFFFF;stroke:none\" width=\"800\" height=\"200\" x=\"0\" y=\"0\"> </rect>\n",
       "<path class=\"bond-0\" d=\"M 66.8293,107.78 L 78.9217,109.753\" style=\"fill:none;fill-rule:evenodd;stroke:#000000;stroke-width:2.0px;stroke-linecap:butt;stroke-linejoin:miter;stroke-opacity:1\"/>\n",
       "<path class=\"bond-1\" d=\"M 78.9217,109.753 L 81.0594,113.997\" style=\"fill:none;fill-rule:evenodd;stroke:#000000;stroke-width:2.0px;stroke-linecap:butt;stroke-linejoin:miter;stroke-opacity:1\"/>\n",
       "<path class=\"bond-1\" d=\"M 81.0594,113.997 L 83.197,118.241\" style=\"fill:none;fill-rule:evenodd;stroke:#FF0000;stroke-width:2.0px;stroke-linecap:butt;stroke-linejoin:miter;stroke-opacity:1\"/>\n",
       "<path class=\"bond-2\" d=\"M 78.9217,109.753 L 87.6259,101.13\" style=\"fill:none;fill-rule:evenodd;stroke:#000000;stroke-width:2.0px;stroke-linecap:butt;stroke-linejoin:miter;stroke-opacity:1\"/>\n",
       "<path class=\"bond-3\" d=\"M 86.6894,120.349 L 90.6863,119.735\" style=\"fill:none;fill-rule:evenodd;stroke:#FF0000;stroke-width:2.0px;stroke-linecap:butt;stroke-linejoin:miter;stroke-opacity:1\"/>\n",
       "<path class=\"bond-3\" d=\"M 90.6863,119.735 L 94.6832,119.121\" style=\"fill:none;fill-rule:evenodd;stroke:#0000FF;stroke-width:2.0px;stroke-linecap:butt;stroke-linejoin:miter;stroke-opacity:1\"/>\n",
       "<path class=\"bond-4\" d=\"M 96.94,116.405 L 97.7284,111.574\" style=\"fill:none;fill-rule:evenodd;stroke:#0000FF;stroke-width:2.0px;stroke-linecap:butt;stroke-linejoin:miter;stroke-opacity:1\"/>\n",
       "<path class=\"bond-4\" d=\"M 97.7284,111.574 L 98.5167,106.743\" style=\"fill:none;fill-rule:evenodd;stroke:#000000;stroke-width:2.0px;stroke-linecap:butt;stroke-linejoin:miter;stroke-opacity:1\"/>\n",
       "<path class=\"bond-5\" d=\"M 98.5167,106.743 L 109.459,101.232\" style=\"fill:none;fill-rule:evenodd;stroke:#000000;stroke-width:2.0px;stroke-linecap:butt;stroke-linejoin:miter;stroke-opacity:1\"/>\n",
       "<path class=\"bond-6\" d=\"M 98.5167,106.743 L 87.6259,101.13\" style=\"fill:none;fill-rule:evenodd;stroke:#000000;stroke-width:2.0px;stroke-linecap:butt;stroke-linejoin:miter;stroke-opacity:1\"/>\n",
       "<path class=\"bond-7\" d=\"M 87.6259,101.13 L 85.7657,89.0195\" style=\"fill:none;fill-rule:evenodd;stroke:#000000;stroke-width:2.0px;stroke-linecap:butt;stroke-linejoin:miter;stroke-opacity:1\"/>\n",
       "<path class=\"bond-8\" d=\"M 85.7657,89.0195 L 95.3235,81.3534\" style=\"fill:none;fill-rule:evenodd;stroke:#000000;stroke-width:2.0px;stroke-linecap:butt;stroke-linejoin:miter;stroke-opacity:1\"/>\n",
       "<path class=\"bond-9\" d=\"M 85.7657,89.0195 L 74.3478,84.5752\" style=\"fill:none;fill-rule:evenodd;stroke:#000000;stroke-width:2.0px;stroke-linecap:butt;stroke-linejoin:miter;stroke-opacity:1\"/>\n",
       "<path class=\"bond-10\" d=\"M 95.3235,81.3534 L 93.4634,69.2431\" style=\"fill:none;fill-rule:evenodd;stroke:#000000;stroke-width:2.0px;stroke-linecap:butt;stroke-linejoin:miter;stroke-opacity:1\"/>\n",
       "<path class=\"bond-11\" d=\"M 74.3478,84.5752 L 64.79,92.2413\" style=\"fill:none;fill-rule:evenodd;stroke:#000000;stroke-width:2.0px;stroke-linecap:butt;stroke-linejoin:miter;stroke-opacity:1\"/>\n",
       "<path class=\"bond-12\" d=\"M 74.3478,84.5752 L 73.6044,79.7352\" style=\"fill:none;fill-rule:evenodd;stroke:#000000;stroke-width:2.0px;stroke-linecap:butt;stroke-linejoin:miter;stroke-opacity:1\"/>\n",
       "<path class=\"bond-12\" d=\"M 73.6044,79.7352 L 72.861,74.8952\" style=\"fill:none;fill-rule:evenodd;stroke:#0000FF;stroke-width:2.0px;stroke-linecap:butt;stroke-linejoin:miter;stroke-opacity:1\"/>\n",
       "<path class=\"bond-13\" d=\"M 70.5704,71.7186 L 65.8201,69.8696\" style=\"fill:none;fill-rule:evenodd;stroke:#0000FF;stroke-width:2.0px;stroke-linecap:butt;stroke-linejoin:miter;stroke-opacity:1\"/>\n",
       "<path class=\"bond-13\" d=\"M 65.8201,69.8696 L 61.0698,68.0206\" style=\"fill:none;fill-rule:evenodd;stroke:#000000;stroke-width:2.0px;stroke-linecap:butt;stroke-linejoin:miter;stroke-opacity:1\"/>\n",
       "<path class=\"bond-14\" d=\"M 74.405,70.9271 L 78.2252,67.8629\" style=\"fill:none;fill-rule:evenodd;stroke:#0000FF;stroke-width:2.0px;stroke-linecap:butt;stroke-linejoin:miter;stroke-opacity:1\"/>\n",
       "<path class=\"bond-14\" d=\"M 78.2252,67.8629 L 82.0455,64.7988\" style=\"fill:none;fill-rule:evenodd;stroke:#000000;stroke-width:2.0px;stroke-linecap:butt;stroke-linejoin:miter;stroke-opacity:1\"/>\n",
       "<path class=\"bond-15\" d=\"M 61.0698,68.0206 L 59.2096,55.9103\" style=\"fill:none;fill-rule:evenodd;stroke:#000000;stroke-width:2.0px;stroke-linecap:butt;stroke-linejoin:miter;stroke-opacity:1\"/>\n",
       "<path class=\"bond-16\" d=\"M 61.0698,68.0206 L 51.512,75.6867\" style=\"fill:none;fill-rule:evenodd;stroke:#000000;stroke-width:2.0px;stroke-linecap:butt;stroke-linejoin:miter;stroke-opacity:1\"/>\n",
       "<path class=\"bond-17\" d=\"M 59.2096,55.9103 L 47.7917,51.466\" style=\"fill:none;fill-rule:evenodd;stroke:#000000;stroke-width:2.0px;stroke-linecap:butt;stroke-linejoin:miter;stroke-opacity:1\"/>\n",
       "<path class=\"bond-18\" d=\"M 47.7917,51.466 L 47.0642,46.7295\" style=\"fill:none;fill-rule:evenodd;stroke:#000000;stroke-width:2.0px;stroke-linecap:butt;stroke-linejoin:miter;stroke-opacity:1\"/>\n",
       "<path class=\"bond-18\" d=\"M 47.0642,46.7295 L 46.3367,41.993\" style=\"fill:none;fill-rule:evenodd;stroke:#00CC00;stroke-width:2.0px;stroke-linecap:butt;stroke-linejoin:miter;stroke-opacity:1\"/>\n",
       "<path class=\"bond-19\" d=\"M 47.7917,51.466 L 38.2339,59.1321\" style=\"fill:none;fill-rule:evenodd;stroke:#000000;stroke-width:2.0px;stroke-linecap:butt;stroke-linejoin:miter;stroke-opacity:1\"/>\n",
       "<path class=\"bond-20\" d=\"M 38.2339,59.1321 L 40.094,71.2425\" style=\"fill:none;fill-rule:evenodd;stroke:#000000;stroke-width:2.0px;stroke-linecap:butt;stroke-linejoin:miter;stroke-opacity:1\"/>\n",
       "<path class=\"bond-21\" d=\"M 40.094,71.2425 L 51.512,75.6867\" style=\"fill:none;fill-rule:evenodd;stroke:#000000;stroke-width:2.0px;stroke-linecap:butt;stroke-linejoin:miter;stroke-opacity:1\"/>\n",
       "<path class=\"bond-22\" d=\"M 82.0455,64.7988 L 81.309,60.0038\" style=\"fill:none;fill-rule:evenodd;stroke:#000000;stroke-width:2.0px;stroke-linecap:butt;stroke-linejoin:miter;stroke-opacity:1\"/>\n",
       "<path class=\"bond-22\" d=\"M 81.309,60.0038 L 80.5725,55.2088\" style=\"fill:none;fill-rule:evenodd;stroke:#FF0000;stroke-width:2.0px;stroke-linecap:butt;stroke-linejoin:miter;stroke-opacity:1\"/>\n",
       "<path class=\"bond-23\" d=\"M 82.0455,64.7988 L 93.4634,69.2431\" style=\"fill:none;fill-rule:evenodd;stroke:#000000;stroke-width:2.0px;stroke-linecap:butt;stroke-linejoin:miter;stroke-opacity:1\"/>\n",
       "<path class=\"bond-24\" d=\"M 93.4634,69.2431 L 103.021,61.577\" style=\"fill:none;fill-rule:evenodd;stroke:#000000;stroke-width:2.0px;stroke-linecap:butt;stroke-linejoin:miter;stroke-opacity:1\"/>\n",
       "<path class=\"bond-25\" d=\"M 103.021,61.577 L 102.285,56.782\" style=\"fill:none;fill-rule:evenodd;stroke:#000000;stroke-width:2.0px;stroke-linecap:butt;stroke-linejoin:miter;stroke-opacity:1\"/>\n",
       "<path class=\"bond-25\" d=\"M 102.285,56.782 L 101.548,51.9869\" style=\"fill:none;fill-rule:evenodd;stroke:#FF0000;stroke-width:2.0px;stroke-linecap:butt;stroke-linejoin:miter;stroke-opacity:1\"/>\n",
       "<path class=\"bond-26\" d=\"M 103.021,61.577 L 107.772,63.426\" style=\"fill:none;fill-rule:evenodd;stroke:#000000;stroke-width:2.0px;stroke-linecap:butt;stroke-linejoin:miter;stroke-opacity:1\"/>\n",
       "<path class=\"bond-26\" d=\"M 107.772,63.426 L 112.522,65.2749\" style=\"fill:none;fill-rule:evenodd;stroke:#0000FF;stroke-width:2.0px;stroke-linecap:butt;stroke-linejoin:miter;stroke-opacity:1\"/>\n",
       "<path class=\"bond-27\" d=\"M 116.356,64.4834 L 120.177,61.4193\" style=\"fill:none;fill-rule:evenodd;stroke:#0000FF;stroke-width:2.0px;stroke-linecap:butt;stroke-linejoin:miter;stroke-opacity:1\"/>\n",
       "<path class=\"bond-27\" d=\"M 120.177,61.4193 L 123.997,58.3551\" style=\"fill:none;fill-rule:evenodd;stroke:#000000;stroke-width:2.0px;stroke-linecap:butt;stroke-linejoin:miter;stroke-opacity:1\"/>\n",
       "<path class=\"bond-28\" d=\"M 123.997,58.3551 L 135.415,62.7994\" style=\"fill:none;fill-rule:evenodd;stroke:#000000;stroke-width:2.0px;stroke-linecap:butt;stroke-linejoin:miter;stroke-opacity:1\"/>\n",
       "<path class=\"bond-29\" d=\"M 135.415,62.7994 L 137.275,74.9097\" style=\"fill:none;fill-rule:evenodd;stroke:#000000;stroke-width:2.0px;stroke-linecap:butt;stroke-linejoin:miter;stroke-opacity:1\"/>\n",
       "<path class=\"bond-30\" d=\"M 135.415,62.7994 L 144.973,55.1333\" style=\"fill:none;fill-rule:evenodd;stroke:#000000;stroke-width:2.0px;stroke-linecap:butt;stroke-linejoin:miter;stroke-opacity:1\"/>\n",
       "<path class=\"bond-31\" d=\"M 137.275,74.9097 L 148.693,79.354\" style=\"fill:none;fill-rule:evenodd;stroke:#000000;stroke-width:2.0px;stroke-linecap:butt;stroke-linejoin:miter;stroke-opacity:1\"/>\n",
       "<path class=\"bond-32\" d=\"M 148.693,79.354 L 158.251,71.6879\" style=\"fill:none;fill-rule:evenodd;stroke:#000000;stroke-width:2.0px;stroke-linecap:butt;stroke-linejoin:miter;stroke-opacity:1\"/>\n",
       "<path class=\"bond-33\" d=\"M 158.251,71.6879 L 163.125,73.5854\" style=\"fill:none;fill-rule:evenodd;stroke:#000000;stroke-width:2.0px;stroke-linecap:butt;stroke-linejoin:miter;stroke-opacity:1\"/>\n",
       "<path class=\"bond-33\" d=\"M 163.125,73.5854 L 168,75.4828\" style=\"fill:none;fill-rule:evenodd;stroke:#CCCC00;stroke-width:2.0px;stroke-linecap:butt;stroke-linejoin:miter;stroke-opacity:1\"/>\n",
       "<path class=\"bond-34\" d=\"M 158.251,71.6879 L 156.391,59.5776\" style=\"fill:none;fill-rule:evenodd;stroke:#000000;stroke-width:2.0px;stroke-linecap:butt;stroke-linejoin:miter;stroke-opacity:1\"/>\n",
       "<path class=\"bond-35\" d=\"M 171.337,76.7815 L 176.212,78.679\" style=\"fill:none;fill-rule:evenodd;stroke:#CCCC00;stroke-width:2.0px;stroke-linecap:butt;stroke-linejoin:miter;stroke-opacity:1\"/>\n",
       "<path class=\"bond-35\" d=\"M 176.212,78.679 L 181.087,80.5764\" style=\"fill:none;fill-rule:evenodd;stroke:#000000;stroke-width:2.0px;stroke-linecap:butt;stroke-linejoin:miter;stroke-opacity:1\"/>\n",
       "<path class=\"bond-36\" d=\"M 170.612,73.7079 L 171.885,70.4387\" style=\"fill:none;fill-rule:evenodd;stroke:#CCCC00;stroke-width:2.0px;stroke-linecap:butt;stroke-linejoin:miter;stroke-opacity:1\"/>\n",
       "<path class=\"bond-36\" d=\"M 171.885,70.4387 L 173.157,67.1695\" style=\"fill:none;fill-rule:evenodd;stroke:#FF0000;stroke-width:2.0px;stroke-linecap:butt;stroke-linejoin:miter;stroke-opacity:1\"/>\n",
       "<path class=\"bond-37\" d=\"M 168.681,78.6705 L 167.417,81.9172\" style=\"fill:none;fill-rule:evenodd;stroke:#CCCC00;stroke-width:2.0px;stroke-linecap:butt;stroke-linejoin:miter;stroke-opacity:1\"/>\n",
       "<path class=\"bond-37\" d=\"M 167.417,81.9172 L 166.153,85.1639\" style=\"fill:none;fill-rule:evenodd;stroke:#FF0000;stroke-width:2.0px;stroke-linecap:butt;stroke-linejoin:miter;stroke-opacity:1\"/>\n",
       "<path class=\"bond-38\" d=\"M 156.391,59.5776 L 144.973,55.1333\" style=\"fill:none;fill-rule:evenodd;stroke:#000000;stroke-width:2.0px;stroke-linecap:butt;stroke-linejoin:miter;stroke-opacity:1\"/>\n",
       "<path class=\"atom-2\" d=\"M 82.4831 120.708 Q 82.4831 119.688, 82.9871 119.118 Q 83.4911 118.548, 84.4331 118.548 Q 85.3751 118.548, 85.8791 119.118 Q 86.3831 119.688, 86.3831 120.708 Q 86.3831 121.74, 85.8731 122.328 Q 85.3631 122.91, 84.4331 122.91 Q 83.4971 122.91, 82.9871 122.328 Q 82.4831 121.746, 82.4831 120.708 M 84.4331 122.43 Q 85.0811 122.43, 85.4291 121.998 Q 85.7831 121.56, 85.7831 120.708 Q 85.7831 119.874, 85.4291 119.454 Q 85.0811 119.028, 84.4331 119.028 Q 83.7851 119.028, 83.4311 119.448 Q 83.0831 119.868, 83.0831 120.708 Q 83.0831 121.566, 83.4311 121.998 Q 83.7851 122.43, 84.4331 122.43 \" fill=\"#FF0000\"/>\n",
       "<path class=\"atom-3\" d=\"M 95.6045 116.712 L 96.9965 118.962 Q 97.1345 119.184, 97.3565 119.586 Q 97.5785 119.988, 97.5905 120.012 L 97.5905 116.712 L 98.1545 116.712 L 98.1545 120.96 L 97.5725 120.96 L 96.0785 118.5 Q 95.9045 118.212, 95.7185 117.882 Q 95.5385 117.552, 95.4845 117.45 L 95.4845 120.96 L 94.9325 120.96 L 94.9325 116.712 L 95.6045 116.712 \" fill=\"#0000FF\"/>\n",
       "<path class=\"atom-3\" d=\"M 98.6645 116.712 L 99.2405 116.712 L 99.2405 118.518 L 101.412 118.518 L 101.412 116.712 L 101.988 116.712 L 101.988 120.96 L 101.412 120.96 L 101.412 118.998 L 99.2405 118.998 L 99.2405 120.96 L 98.6645 120.96 L 98.6645 116.712 \" fill=\"#0000FF\"/>\n",
       "<path class=\"atom-11\" d=\"M 71.5487 70.3409 L 72.9407 72.5909 Q 73.0787 72.8129, 73.3007 73.2149 Q 73.5227 73.6169, 73.5347 73.6409 L 73.5347 70.3409 L 74.0987 70.3409 L 74.0987 74.5889 L 73.5167 74.5889 L 72.0227 72.1289 Q 71.8487 71.8409, 71.6627 71.5109 Q 71.4827 71.1809, 71.4287 71.0789 L 71.4287 74.5889 L 70.8767 74.5889 L 70.8767 70.3409 L 71.5487 70.3409 \" fill=\"#0000FF\"/>\n",
       "<path class=\"atom-15\" d=\"M 44.2936 39.5027 Q 44.2936 38.4467, 44.7856 37.8947 Q 45.2836 37.3367, 46.2256 37.3367 Q 47.1016 37.3367, 47.5696 37.9547 L 47.1736 38.2787 Q 46.8316 37.8287, 46.2256 37.8287 Q 45.5836 37.8287, 45.2416 38.2607 Q 44.9056 38.6867, 44.9056 39.5027 Q 44.9056 40.3427, 45.2536 40.7747 Q 45.6076 41.2067, 46.2916 41.2067 Q 46.7596 41.2067, 47.3056 40.9247 L 47.4736 41.3747 Q 47.2516 41.5187, 46.9156 41.6027 Q 46.5796 41.6867, 46.2076 41.6867 Q 45.2836 41.6867, 44.7856 41.1227 Q 44.2936 40.5587, 44.2936 39.5027 \" fill=\"#00CC00\"/>\n",
       "<path class=\"atom-15\" d=\"M 48.0856 37.0787 L 48.6376 37.0787 L 48.6376 41.6327 L 48.0856 41.6327 L 48.0856 37.0787 \" fill=\"#00CC00\"/>\n",
       "<path class=\"atom-20\" d=\"M 78.2354 52.7005 Q 78.2354 51.6805, 78.7394 51.1105 Q 79.2434 50.5405, 80.1854 50.5405 Q 81.1274 50.5405, 81.6314 51.1105 Q 82.1354 51.6805, 82.1354 52.7005 Q 82.1354 53.7325, 81.6254 54.3205 Q 81.1154 54.9025, 80.1854 54.9025 Q 79.2494 54.9025, 78.7394 54.3205 Q 78.2354 53.7385, 78.2354 52.7005 M 80.1854 54.4225 Q 80.8334 54.4225, 81.1814 53.9905 Q 81.5354 53.5525, 81.5354 52.7005 Q 81.5354 51.8665, 81.1814 51.4465 Q 80.8334 51.0205, 80.1854 51.0205 Q 79.5374 51.0205, 79.1834 51.4405 Q 78.8354 51.8605, 78.8354 52.7005 Q 78.8354 53.5585, 79.1834 53.9905 Q 79.5374 54.4225, 80.1854 54.4225 \" fill=\"#FF0000\"/>\n",
       "<path class=\"atom-20\" d=\"M 82.6454 50.5885 L 83.2214 50.5885 L 83.2214 52.3945 L 85.3934 52.3945 L 85.3934 50.5885 L 85.9694 50.5885 L 85.9694 54.8365 L 85.3934 54.8365 L 85.3934 52.8745 L 83.2214 52.8745 L 83.2214 54.8365 L 82.6454 54.8365 L 82.6454 50.5885 \" fill=\"#FF0000\"/>\n",
       "<path class=\"atom-23\" d=\"M 99.2111 49.4786 Q 99.2111 48.4586, 99.7151 47.8886 Q 100.219 47.3186, 101.161 47.3186 Q 102.103 47.3186, 102.607 47.8886 Q 103.111 48.4586, 103.111 49.4786 Q 103.111 50.5106, 102.601 51.0986 Q 102.091 51.6806, 101.161 51.6806 Q 100.225 51.6806, 99.7151 51.0986 Q 99.2111 50.5166, 99.2111 49.4786 M 101.161 51.2006 Q 101.809 51.2006, 102.157 50.7686 Q 102.511 50.3306, 102.511 49.4786 Q 102.511 48.6446, 102.157 48.2246 Q 101.809 47.7986, 101.161 47.7986 Q 100.513 47.7986, 100.159 48.2186 Q 99.8111 48.6386, 99.8111 49.4786 Q 99.8111 50.3366, 100.159 50.7686 Q 100.513 51.2006, 101.161 51.2006 \" fill=\"#FF0000\"/>\n",
       "<path class=\"atom-23\" d=\"M 103.621 47.3666 L 104.197 47.3666 L 104.197 49.1726 L 106.369 49.1726 L 106.369 47.3666 L 106.945 47.3666 L 106.945 51.6146 L 106.369 51.6146 L 106.369 49.6526 L 104.197 49.6526 L 104.197 51.6146 L 103.621 51.6146 L 103.621 47.3666 \" fill=\"#FF0000\"/>\n",
       "<path class=\"atom-24\" d=\"M 113.5 63.8972 L 114.892 66.1472 Q 115.03 66.3692, 115.252 66.7712 Q 115.474 67.1732, 115.486 67.1972 L 115.486 63.8972 L 116.05 63.8972 L 116.05 68.1452 L 115.468 68.1452 L 113.974 65.6852 Q 113.8 65.3972, 113.614 65.0672 Q 113.434 64.7372, 113.38 64.6352 L 113.38 68.1452 L 112.828 68.1452 L 112.828 63.8972 L 113.5 63.8972 \" fill=\"#0000FF\"/>\n",
       "<path class=\"atom-24\" d=\"M 112.777 68.57 L 113.353 68.57 L 113.353 70.376 L 115.525 70.376 L 115.525 68.57 L 116.101 68.57 L 116.101 72.818 L 115.525 72.818 L 115.525 70.856 L 113.353 70.856 L 113.353 72.818 L 112.777 72.818 L 112.777 68.57 \" fill=\"#0000FF\"/>\n",
       "<path class=\"atom-30\" d=\"M 168.469 77.5902 Q 168.517 77.6082, 168.715 77.6922 Q 168.913 77.7762, 169.129 77.8302 Q 169.351 77.8782, 169.567 77.8782 Q 169.969 77.8782, 170.203 77.6862 Q 170.437 77.4882, 170.437 77.1462 Q 170.437 76.9122, 170.317 76.7682 Q 170.203 76.6242, 170.023 76.5462 Q 169.843 76.4682, 169.543 76.3782 Q 169.165 76.2642, 168.937 76.1562 Q 168.715 76.0482, 168.553 75.8202 Q 168.397 75.5922, 168.397 75.2082 Q 168.397 74.6742, 168.757 74.3442 Q 169.123 74.0142, 169.843 74.0142 Q 170.335 74.0142, 170.893 74.2482 L 170.755 74.7102 Q 170.245 74.5002, 169.861 74.5002 Q 169.447 74.5002, 169.219 74.6742 Q 168.991 74.8422, 168.997 75.1362 Q 168.997 75.3642, 169.111 75.5022 Q 169.231 75.6402, 169.399 75.7182 Q 169.573 75.7962, 169.861 75.8862 Q 170.245 76.0062, 170.473 76.1262 Q 170.701 76.2462, 170.863 76.4922 Q 171.031 76.7322, 171.031 77.1462 Q 171.031 77.7342, 170.635 78.0522 Q 170.245 78.3642, 169.591 78.3642 Q 169.213 78.3642, 168.925 78.2802 Q 168.643 78.2022, 168.307 78.0642 L 168.469 77.5902 \" fill=\"#CCCC00\"/>\n",
       "<path class=\"atom-32\" d=\"M 172.163 64.7262 Q 172.163 63.7062, 172.667 63.1362 Q 173.171 62.5662, 174.113 62.5662 Q 175.055 62.5662, 175.559 63.1362 Q 176.063 63.7062, 176.063 64.7262 Q 176.063 65.7582, 175.553 66.3462 Q 175.043 66.9282, 174.113 66.9282 Q 173.177 66.9282, 172.667 66.3462 Q 172.163 65.7642, 172.163 64.7262 M 174.113 66.4482 Q 174.761 66.4482, 175.109 66.0162 Q 175.463 65.5782, 175.463 64.7262 Q 175.463 63.8922, 175.109 63.4722 Q 174.761 63.0462, 174.113 63.0462 Q 173.465 63.0462, 173.111 63.4662 Q 172.763 63.8862, 172.763 64.7262 Q 172.763 65.5842, 173.111 66.0162 Q 173.465 66.4482, 174.113 66.4482 \" fill=\"#FF0000\"/>\n",
       "<path class=\"atom-32\" d=\"M 176.573 62.6142 L 177.149 62.6142 L 177.149 64.4202 L 179.321 64.4202 L 179.321 62.6142 L 179.897 62.6142 L 179.897 66.8622 L 179.321 66.8622 L 179.321 64.9002 L 177.149 64.9002 L 177.149 66.8622 L 176.573 66.8622 L 176.573 62.6142 \" fill=\"#FF0000\"/>\n",
       "<path class=\"atom-33\" d=\"M 159.65 85.4501 L 160.226 85.4501 L 160.226 87.2561 L 162.398 87.2561 L 162.398 85.4501 L 162.974 85.4501 L 162.974 89.6981 L 162.398 89.6981 L 162.398 87.7361 L 160.226 87.7361 L 160.226 89.6981 L 159.65 89.6981 L 159.65 85.4501 \" fill=\"#FF0000\"/>\n",
       "<path class=\"atom-33\" d=\"M 163.274 87.5621 Q 163.274 86.5421, 163.778 85.9721 Q 164.282 85.4021, 165.224 85.4021 Q 166.166 85.4021, 166.67 85.9721 Q 167.174 86.5421, 167.174 87.5621 Q 167.174 88.5941, 166.664 89.1821 Q 166.154 89.7641, 165.224 89.7641 Q 164.288 89.7641, 163.778 89.1821 Q 163.274 88.6001, 163.274 87.5621 M 165.224 89.2841 Q 165.872 89.2841, 166.22 88.8521 Q 166.574 88.4141, 166.574 87.5621 Q 166.574 86.7281, 166.22 86.3081 Q 165.872 85.8821, 165.224 85.8821 Q 164.576 85.8821, 164.222 86.3021 Q 163.874 86.7221, 163.874 87.5621 Q 163.874 88.4201, 164.222 88.8521 Q 164.576 89.2841, 165.224 89.2841 \" fill=\"#FF0000\"/>\n",
       "<path d=\"M 31.4946 182.856 L 38.2306 182.856 L 38.2306 184.152 L 33.0146 184.152 L 33.0146 187.592 L 37.6546 187.592 L 37.6546 188.904 L 33.0146 188.904 L 33.0146 194.184 L 31.4946 194.184 L 31.4946 182.856 \" fill=\"#000000\"/>\n",
       "<path d=\"M 40.8066 185.96 L 40.9826 187.096 Q 41.8466 185.816, 43.2546 185.816 Q 43.7026 185.816, 44.3106 185.976 L 44.0706 187.32 Q 43.3826 187.16, 42.9986 187.16 Q 42.3266 187.16, 41.8786 187.432 Q 41.4466 187.688, 41.0946 188.312 L 41.0946 194.184 L 39.5906 194.184 L 39.5906 185.96 L 40.8066 185.96 \" fill=\"#000000\"/>\n",
       "<path d=\"M 45.0466 190.056 Q 45.0466 188.056, 46.0546 186.936 Q 47.0786 185.816, 48.9506 185.816 Q 50.8226 185.816, 51.8306 186.936 Q 52.8546 188.056, 52.8546 190.056 Q 52.8546 192.056, 51.8306 193.192 Q 50.8226 194.312, 48.9506 194.312 Q 47.0786 194.312, 46.0546 193.192 Q 45.0466 192.056, 45.0466 190.056 M 46.5826 190.056 Q 46.5826 191.56, 47.1906 192.344 Q 47.8146 193.128, 48.9506 193.128 Q 50.0866 193.128, 50.6946 192.344 Q 51.3186 191.56, 51.3186 190.056 Q 51.3186 188.552, 50.6946 187.784 Q 50.0866 187, 48.9506 187 Q 47.8146 187, 47.1906 187.784 Q 46.5826 188.552, 46.5826 190.056 \" fill=\"#000000\"/>\n",
       "<path d=\"M 63.6706 185.816 Q 65.0626 185.816, 65.7666 186.568 Q 66.4706 187.304, 66.4706 188.744 L 66.4706 194.184 L 64.9666 194.184 L 64.9666 188.856 Q 64.9666 187.88, 64.5826 187.448 Q 64.2146 187, 63.3826 187 Q 62.6626 187, 62.0386 187.352 Q 61.4306 187.688, 61.0626 188.296 Q 61.0786 188.44, 61.0786 188.744 L 61.0786 194.184 L 59.5746 194.184 L 59.5746 188.856 Q 59.5746 187.88, 59.1906 187.448 Q 58.8226 187, 57.9906 187 Q 57.2706 187, 56.6626 187.352 Q 56.0546 187.688, 55.6706 188.28 L 55.6706 194.184 L 54.1666 194.184 L 54.1666 185.96 L 55.3986 185.96 L 55.5586 187.08 Q 56.6306 185.816, 58.2786 185.816 Q 60.2146 185.816, 60.8226 187.256 Q 61.9106 185.816, 63.6706 185.816 \" fill=\"#000000\"/>\n",
       "<path d=\"\" fill=\"#000000\"/>\n",
       "<path d=\"M 75.1746 182.856 Q 77.1106 182.856, 78.0866 183.736 Q 79.0626 184.6, 79.0626 186.184 Q 79.0626 187.752, 78.0546 188.648 Q 77.0626 189.528, 75.1746 189.528 L 73.3666 189.528 L 73.3666 194.184 L 71.8306 194.184 L 71.8306 182.856 L 75.1746 182.856 M 75.1746 188.248 Q 76.2786 188.248, 76.8706 187.72 Q 77.4626 187.192, 77.4626 186.184 Q 77.4626 185.176, 76.8706 184.664 Q 76.2946 184.136, 75.1746 184.136 L 73.3666 184.136 L 73.3666 188.248 L 75.1746 188.248 \" fill=\"#000000\"/>\n",
       "<path d=\"M 84.0866 182.856 Q 86.5986 182.856, 87.9426 184.344 Q 89.2866 185.816, 89.2866 188.488 Q 89.2866 191.176, 87.9266 192.68 Q 86.5826 194.184, 84.0866 194.184 L 80.4226 194.184 L 80.4226 182.856 L 84.0866 182.856 M 84.0866 192.904 Q 85.8146 192.904, 86.7426 191.8 Q 87.6866 190.696, 87.6866 188.488 Q 87.6866 186.296, 86.7426 185.224 Q 85.8146 184.136, 84.0866 184.136 L 81.9586 184.136 L 81.9586 192.904 L 84.0866 192.904 \" fill=\"#000000\"/>\n",
       "<path d=\"M 96.1506 188.232 Q 97.2386 188.536, 97.7826 189.208 Q 98.3426 189.864, 98.3426 190.84 Q 98.3426 192.408, 97.3346 193.304 Q 96.3426 194.184, 94.4546 194.184 L 90.6466 194.184 L 90.6466 182.856 L 93.9906 182.856 Q 95.9266 182.856, 96.9026 183.64 Q 97.8786 184.424, 97.8786 185.864 Q 97.8786 187.576, 96.1506 188.232 M 92.1666 184.136 L 92.1666 187.688 L 93.9906 187.688 Q 95.1106 187.688, 95.6866 187.24 Q 96.2786 186.776, 96.2786 185.864 Q 96.2786 184.136, 93.9906 184.136 L 92.1666 184.136 M 94.4546 192.904 Q 95.5586 192.904, 96.1506 192.376 Q 96.7426 191.848, 96.7426 190.84 Q 96.7426 189.912, 96.0866 189.448 Q 95.4466 188.968, 94.2146 188.968 L 92.1666 188.968 L 92.1666 192.904 L 94.4546 192.904 \" fill=\"#000000\"/>\n",
       "<path d=\"\" fill=\"#000000\"/>\n",
       "<path d=\"M 103.751 182.808 L 105.271 182.808 L 105.271 194.184 L 103.751 194.184 L 103.751 182.808 \" fill=\"#000000\"/>\n",
       "<path d=\"M 110.295 182.856 Q 112.807 182.856, 114.151 184.344 Q 115.495 185.816, 115.495 188.488 Q 115.495 191.176, 114.135 192.68 Q 112.791 194.184, 110.295 194.184 L 106.631 194.184 L 106.631 182.856 L 110.295 182.856 M 110.295 192.904 Q 112.023 192.904, 112.951 191.8 Q 113.895 190.696, 113.895 188.488 Q 113.895 186.296, 112.951 185.224 Q 112.023 184.136, 110.295 184.136 L 108.167 184.136 L 108.167 192.904 L 110.295 192.904 \" fill=\"#000000\"/>\n",
       "<path d=\"M 116.695 192.312 L 118.295 192.312 L 118.295 193.912 L 116.695 193.912 L 116.695 192.312 M 116.695 186.808 L 118.295 186.808 L 118.295 188.408 L 116.695 188.408 L 116.695 186.808 \" fill=\"#000000\"/>\n",
       "<path d=\"\" fill=\"#000000\"/>\n",
       "<path d=\"M 127.143 187.096 Q 128.135 187.096, 128.951 187.528 Q 129.767 187.944, 130.231 188.744 Q 130.695 189.528, 130.695 190.6 Q 130.695 191.768, 130.119 192.616 Q 129.559 193.448, 128.631 193.88 Q 127.703 194.312, 126.647 194.312 Q 125.607 194.312, 124.647 193.928 Q 123.687 193.544, 123.031 192.808 L 123.991 191.816 Q 124.519 192.392, 125.239 192.712 Q 125.959 193.016, 126.695 193.016 Q 127.703 193.016, 128.391 192.392 Q 129.095 191.768, 129.095 190.632 Q 129.095 189.432, 128.391 188.872 Q 127.703 188.296, 126.599 188.296 Q 125.607 188.296, 124.503 188.728 L 123.623 188.312 L 124.167 182.856 L 129.991 182.856 L 129.831 184.136 L 125.479 184.136 L 125.143 187.496 Q 126.151 187.096, 127.143 187.096 \" fill=\"#000000\"/>\n",
       "<path d=\"M 139.239 194.184 L 138.055 190.856 L 133.559 190.856 L 132.423 194.184 L 130.887 194.184 L 134.791 182.856 L 136.679 182.856 L 140.727 194.184 L 139.239 194.184 M 134.007 189.576 L 137.591 189.576 L 135.767 184.44 L 134.007 189.576 \" fill=\"#000000\"/>\n",
       "<path d=\"M 147.591 188.232 Q 148.679 188.536, 149.223 189.208 Q 149.783 189.864, 149.783 190.84 Q 149.783 192.408, 148.775 193.304 Q 147.783 194.184, 145.895 194.184 L 142.087 194.184 L 142.087 182.856 L 145.431 182.856 Q 147.367 182.856, 148.343 183.64 Q 149.319 184.424, 149.319 185.864 Q 149.319 187.576, 147.591 188.232 M 143.607 184.136 L 143.607 187.688 L 145.431 187.688 Q 146.551 187.688, 147.127 187.24 Q 147.719 186.776, 147.719 185.864 Q 147.719 184.136, 145.431 184.136 L 143.607 184.136 M 145.895 192.904 Q 146.999 192.904, 147.591 192.376 Q 148.183 191.848, 148.183 190.84 Q 148.183 189.912, 147.527 189.448 Q 146.887 188.968, 145.655 188.968 L 143.607 188.968 L 143.607 192.904 L 145.895 192.904 \" fill=\"#000000\"/>\n",
       "<path d=\"M 164.327 182.872 L 165.863 182.872 L 162.839 194.184 L 160.519 194.184 L 158.055 184.744 L 155.575 194.184 L 153.255 194.184 L 150.231 182.872 L 151.783 182.872 L 154.439 192.776 L 157.047 182.872 L 159.047 182.872 L 161.655 192.808 L 164.327 182.872 \" fill=\"#000000\"/>\n",
       "<path class=\"bond-0\" d=\"M 226.51,79.3883 L 237.121,73.2622\" style=\"fill:none;fill-rule:evenodd;stroke:#000000;stroke-width:2.0px;stroke-linecap:butt;stroke-linejoin:miter;stroke-opacity:1\"/>\n",
       "<path class=\"bond-1\" d=\"M 226.51,79.3883 L 222.163,76.8787\" style=\"fill:none;fill-rule:evenodd;stroke:#000000;stroke-width:2.0px;stroke-linecap:butt;stroke-linejoin:miter;stroke-opacity:1\"/>\n",
       "<path class=\"bond-1\" d=\"M 222.163,76.8787 L 217.816,74.3691\" style=\"fill:none;fill-rule:evenodd;stroke:#0000FF;stroke-width:2.0px;stroke-linecap:butt;stroke-linejoin:miter;stroke-opacity:1\"/>\n",
       "<path class=\"bond-2\" d=\"M 237.121,73.2622 L 241.298,75.6739\" style=\"fill:none;fill-rule:evenodd;stroke:#000000;stroke-width:2.0px;stroke-linecap:butt;stroke-linejoin:miter;stroke-opacity:1\"/>\n",
       "<path class=\"bond-2\" d=\"M 241.298,75.6739 L 245.475,78.0857\" style=\"fill:none;fill-rule:evenodd;stroke:#FF0000;stroke-width:2.0px;stroke-linecap:butt;stroke-linejoin:miter;stroke-opacity:1\"/>\n",
       "<path class=\"bond-3\" d=\"M 258.342,73.2622 L 254.165,75.6739\" style=\"fill:none;fill-rule:evenodd;stroke:#000000;stroke-width:2.0px;stroke-linecap:butt;stroke-linejoin:miter;stroke-opacity:1\"/>\n",
       "<path class=\"bond-3\" d=\"M 254.165,75.6739 L 249.988,78.0857\" style=\"fill:none;fill-rule:evenodd;stroke:#FF0000;stroke-width:2.0px;stroke-linecap:butt;stroke-linejoin:miter;stroke-opacity:1\"/>\n",
       "<path class=\"bond-4\" d=\"M 258.342,73.2622 L 268.953,79.3883\" style=\"fill:none;fill-rule:evenodd;stroke:#000000;stroke-width:2.0px;stroke-linecap:butt;stroke-linejoin:miter;stroke-opacity:1\"/>\n",
       "<path class=\"bond-5\" d=\"M 268.953,79.3883 L 273.131,76.9766\" style=\"fill:none;fill-rule:evenodd;stroke:#000000;stroke-width:2.0px;stroke-linecap:butt;stroke-linejoin:miter;stroke-opacity:1\"/>\n",
       "<path class=\"bond-5\" d=\"M 273.131,76.9766 L 277.308,74.5648\" style=\"fill:none;fill-rule:evenodd;stroke:#FF0000;stroke-width:2.0px;stroke-linecap:butt;stroke-linejoin:miter;stroke-opacity:1\"/>\n",
       "<path class=\"bond-6\" d=\"M 290.175,79.3883 L 300.786,73.2622\" style=\"fill:none;fill-rule:evenodd;stroke:#000000;stroke-width:2.0px;stroke-linecap:butt;stroke-linejoin:miter;stroke-opacity:1\"/>\n",
       "<path class=\"bond-7\" d=\"M 290.175,79.3883 L 285.998,76.9766\" style=\"fill:none;fill-rule:evenodd;stroke:#000000;stroke-width:2.0px;stroke-linecap:butt;stroke-linejoin:miter;stroke-opacity:1\"/>\n",
       "<path class=\"bond-7\" d=\"M 285.998,76.9766 L 281.82,74.5648\" style=\"fill:none;fill-rule:evenodd;stroke:#FF0000;stroke-width:2.0px;stroke-linecap:butt;stroke-linejoin:miter;stroke-opacity:1\"/>\n",
       "<path class=\"bond-8\" d=\"M 300.786,73.2622 L 304.963,75.6739\" style=\"fill:none;fill-rule:evenodd;stroke:#000000;stroke-width:2.0px;stroke-linecap:butt;stroke-linejoin:miter;stroke-opacity:1\"/>\n",
       "<path class=\"bond-8\" d=\"M 304.963,75.6739 L 309.14,78.0857\" style=\"fill:none;fill-rule:evenodd;stroke:#FF0000;stroke-width:2.0px;stroke-linecap:butt;stroke-linejoin:miter;stroke-opacity:1\"/>\n",
       "<path class=\"bond-9\" d=\"M 322.008,73.2622 L 332.618,79.3883\" style=\"fill:none;fill-rule:evenodd;stroke:#000000;stroke-width:2.0px;stroke-linecap:butt;stroke-linejoin:miter;stroke-opacity:1\"/>\n",
       "<path class=\"bond-10\" d=\"M 322.008,73.2622 L 317.83,75.6739\" style=\"fill:none;fill-rule:evenodd;stroke:#000000;stroke-width:2.0px;stroke-linecap:butt;stroke-linejoin:miter;stroke-opacity:1\"/>\n",
       "<path class=\"bond-10\" d=\"M 317.83,75.6739 L 313.653,78.0857\" style=\"fill:none;fill-rule:evenodd;stroke:#FF0000;stroke-width:2.0px;stroke-linecap:butt;stroke-linejoin:miter;stroke-opacity:1\"/>\n",
       "<path class=\"bond-11\" d=\"M 332.618,79.3883 L 336.796,76.9766\" style=\"fill:none;fill-rule:evenodd;stroke:#000000;stroke-width:2.0px;stroke-linecap:butt;stroke-linejoin:miter;stroke-opacity:1\"/>\n",
       "<path class=\"bond-11\" d=\"M 336.796,76.9766 L 340.973,74.5648\" style=\"fill:none;fill-rule:evenodd;stroke:#FF0000;stroke-width:2.0px;stroke-linecap:butt;stroke-linejoin:miter;stroke-opacity:1\"/>\n",
       "<path class=\"bond-12\" d=\"M 353.84,79.3883 L 364.451,73.2622\" style=\"fill:none;fill-rule:evenodd;stroke:#000000;stroke-width:2.0px;stroke-linecap:butt;stroke-linejoin:miter;stroke-opacity:1\"/>\n",
       "<path class=\"bond-13\" d=\"M 353.84,79.3883 L 349.663,76.9766\" style=\"fill:none;fill-rule:evenodd;stroke:#000000;stroke-width:2.0px;stroke-linecap:butt;stroke-linejoin:miter;stroke-opacity:1\"/>\n",
       "<path class=\"bond-13\" d=\"M 349.663,76.9766 L 345.486,74.5648\" style=\"fill:none;fill-rule:evenodd;stroke:#FF0000;stroke-width:2.0px;stroke-linecap:butt;stroke-linejoin:miter;stroke-opacity:1\"/>\n",
       "<path class=\"bond-14\" d=\"M 364.451,73.2622 L 375.062,79.3883\" style=\"fill:none;fill-rule:evenodd;stroke:#000000;stroke-width:2.0px;stroke-linecap:butt;stroke-linejoin:miter;stroke-opacity:1\"/>\n",
       "<path class=\"bond-15\" d=\"M 375.062,79.3883 L 379.239,76.9766\" style=\"fill:none;fill-rule:evenodd;stroke:#000000;stroke-width:2.0px;stroke-linecap:butt;stroke-linejoin:miter;stroke-opacity:1\"/>\n",
       "<path class=\"bond-15\" d=\"M 379.239,76.9766 L 383.416,74.5648\" style=\"fill:none;fill-rule:evenodd;stroke:#FF0000;stroke-width:2.0px;stroke-linecap:butt;stroke-linejoin:miter;stroke-opacity:1\"/>\n",
       "<path class=\"atom-3\" d=\"M 245.782 79.4003 Q 245.782 78.3803, 246.286 77.8103 Q 246.79 77.2403, 247.732 77.2403 Q 248.674 77.2403, 249.178 77.8103 Q 249.682 78.3803, 249.682 79.4003 Q 249.682 80.4323, 249.172 81.0203 Q 248.662 81.6023, 247.732 81.6023 Q 246.796 81.6023, 246.286 81.0203 Q 245.782 80.4383, 245.782 79.4003 M 247.732 81.1223 Q 248.38 81.1223, 248.728 80.6903 Q 249.082 80.2523, 249.082 79.4003 Q 249.082 78.5663, 248.728 78.1463 Q 248.38 77.7203, 247.732 77.7203 Q 247.084 77.7203, 246.73 78.1403 Q 246.382 78.5603, 246.382 79.4003 Q 246.382 80.2583, 246.73 80.6903 Q 247.084 81.1223, 247.732 81.1223 \" fill=\"#FF0000\"/>\n",
       "<path class=\"atom-8\" d=\"M 277.614 73.2742 Q 277.614 72.2542, 278.118 71.6842 Q 278.622 71.1142, 279.564 71.1142 Q 280.506 71.1142, 281.01 71.6842 Q 281.514 72.2542, 281.514 73.2742 Q 281.514 74.3062, 281.004 74.8942 Q 280.494 75.4762, 279.564 75.4762 Q 278.628 75.4762, 278.118 74.8942 Q 277.614 74.3122, 277.614 73.2742 M 279.564 74.9962 Q 280.212 74.9962, 280.56 74.5642 Q 280.914 74.1262, 280.914 73.2742 Q 280.914 72.4402, 280.56 72.0202 Q 280.212 71.5942, 279.564 71.5942 Q 278.916 71.5942, 278.562 72.0142 Q 278.214 72.4342, 278.214 73.2742 Q 278.214 74.1322, 278.562 74.5642 Q 278.916 74.9962, 279.564 74.9962 \" fill=\"#FF0000\"/>\n",
       "<path class=\"atom-13\" d=\"M 208.379 71.1382 L 208.955 71.1382 L 208.955 72.9442 L 211.127 72.9442 L 211.127 71.1382 L 211.703 71.1382 L 211.703 75.3862 L 211.127 75.3862 L 211.127 73.4242 L 208.955 73.4242 L 208.955 75.3862 L 208.379 75.3862 L 208.379 71.1382 \" fill=\"#0000FF\"/>\n",
       "<path class=\"atom-13\" d=\"M 211.909 75.2371 Q 212.012 74.9718, 212.257 74.8253 Q 212.503 74.6748, 212.844 74.6748 Q 213.267 74.6748, 213.505 74.9045 Q 213.742 75.1342, 213.742 75.542 Q 213.742 75.9578, 213.434 76.3459 Q 213.129 76.734, 212.495 77.1934 L 213.79 77.1934 L 213.79 77.5102 L 211.901 77.5102 L 211.901 77.2448 Q 212.424 76.8726, 212.733 76.5954 Q 213.045 76.3182, 213.196 76.0687 Q 213.346 75.8192, 213.346 75.5618 Q 213.346 75.2926, 213.212 75.1421 Q 213.077 74.9916, 212.844 74.9916 Q 212.618 74.9916, 212.467 75.0827 Q 212.317 75.1738, 212.21 75.3757 L 211.909 75.2371 \" fill=\"#0000FF\"/>\n",
       "<path class=\"atom-13\" d=\"M 214.96 71.1382 L 216.352 73.3882 Q 216.49 73.6102, 216.712 74.0122 Q 216.934 74.4142, 216.946 74.4382 L 216.946 71.1382 L 217.51 71.1382 L 217.51 75.3862 L 216.928 75.3862 L 215.434 72.9262 Q 215.26 72.6382, 215.074 72.3082 Q 214.894 71.9782, 214.84 71.8762 L 214.84 75.3862 L 214.288 75.3862 L 214.288 71.1382 L 214.96 71.1382 \" fill=\"#0000FF\"/>\n",
       "<path class=\"atom-14\" d=\"M 309.447 79.4003 Q 309.447 78.3803, 309.951 77.8103 Q 310.455 77.2403, 311.397 77.2403 Q 312.339 77.2403, 312.843 77.8103 Q 313.347 78.3803, 313.347 79.4003 Q 313.347 80.4323, 312.837 81.0203 Q 312.327 81.6023, 311.397 81.6023 Q 310.461 81.6023, 309.951 81.0203 Q 309.447 80.4383, 309.447 79.4003 M 311.397 81.1223 Q 312.045 81.1223, 312.393 80.6903 Q 312.747 80.2523, 312.747 79.4003 Q 312.747 78.5663, 312.393 78.1463 Q 312.045 77.7203, 311.397 77.7203 Q 310.749 77.7203, 310.395 78.1403 Q 310.047 78.5603, 310.047 79.4003 Q 310.047 80.2583, 310.395 80.6903 Q 310.749 81.1223, 311.397 81.1223 \" fill=\"#FF0000\"/>\n",
       "<path class=\"atom-15\" d=\"M 341.279 73.2742 Q 341.279 72.2542, 341.783 71.6842 Q 342.287 71.1142, 343.229 71.1142 Q 344.171 71.1142, 344.675 71.6842 Q 345.179 72.2542, 345.179 73.2742 Q 345.179 74.3062, 344.669 74.8942 Q 344.159 75.4762, 343.229 75.4762 Q 342.293 75.4762, 341.783 74.8942 Q 341.279 74.3122, 341.279 73.2742 M 343.229 74.9962 Q 343.877 74.9962, 344.225 74.5642 Q 344.579 74.1262, 344.579 73.2742 Q 344.579 72.4402, 344.225 72.0202 Q 343.877 71.5942, 343.229 71.5942 Q 342.581 71.5942, 342.227 72.0142 Q 341.879 72.4342, 341.879 73.2742 Q 341.879 74.1322, 342.227 74.5642 Q 342.581 74.9962, 343.229 74.9962 \" fill=\"#FF0000\"/>\n",
       "<path class=\"atom-16\" d=\"M 383.723 73.2742 Q 383.723 72.2542, 384.227 71.6842 Q 384.731 71.1142, 385.673 71.1142 Q 386.615 71.1142, 387.119 71.6842 Q 387.623 72.2542, 387.623 73.2742 Q 387.623 74.3062, 387.113 74.8942 Q 386.603 75.4762, 385.673 75.4762 Q 384.737 75.4762, 384.227 74.8942 Q 383.723 74.3122, 383.723 73.2742 M 385.673 74.9962 Q 386.321 74.9962, 386.669 74.5642 Q 387.023 74.1262, 387.023 73.2742 Q 387.023 72.4402, 386.669 72.0202 Q 386.321 71.5942, 385.673 71.5942 Q 385.025 71.5942, 384.671 72.0142 Q 384.323 72.4342, 384.323 73.2742 Q 384.323 74.1322, 384.671 74.5642 Q 385.025 74.9962, 385.673 74.9962 \" fill=\"#FF0000\"/>\n",
       "<path class=\"atom-16\" d=\"M 388.133 71.1622 L 388.709 71.1622 L 388.709 72.9682 L 390.881 72.9682 L 390.881 71.1622 L 391.457 71.1622 L 391.457 75.4102 L 390.881 75.4102 L 390.881 73.4482 L 388.709 73.4482 L 388.709 75.4102 L 388.133 75.4102 L 388.133 71.1622 \" fill=\"#FF0000\"/>\n",
       "<path d=\"M 229.812 182.856 L 236.548 182.856 L 236.548 184.152 L 231.332 184.152 L 231.332 187.592 L 235.972 187.592 L 235.972 188.904 L 231.332 188.904 L 231.332 194.184 L 229.812 194.184 L 229.812 182.856 \" fill=\"#000000\"/>\n",
       "<path d=\"M 239.124 185.96 L 239.3 187.096 Q 240.164 185.816, 241.572 185.816 Q 242.02 185.816, 242.628 185.976 L 242.388 187.32 Q 241.7 187.16, 241.316 187.16 Q 240.644 187.16, 240.196 187.432 Q 239.764 187.688, 239.412 188.312 L 239.412 194.184 L 237.908 194.184 L 237.908 185.96 L 239.124 185.96 \" fill=\"#000000\"/>\n",
       "<path d=\"M 243.364 190.056 Q 243.364 188.056, 244.372 186.936 Q 245.396 185.816, 247.268 185.816 Q 249.14 185.816, 250.148 186.936 Q 251.172 188.056, 251.172 190.056 Q 251.172 192.056, 250.148 193.192 Q 249.14 194.312, 247.268 194.312 Q 245.396 194.312, 244.372 193.192 Q 243.364 192.056, 243.364 190.056 M 244.9 190.056 Q 244.9 191.56, 245.508 192.344 Q 246.132 193.128, 247.268 193.128 Q 248.404 193.128, 249.012 192.344 Q 249.636 191.56, 249.636 190.056 Q 249.636 188.552, 249.012 187.784 Q 248.404 187, 247.268 187 Q 246.132 187, 245.508 187.784 Q 244.9 188.552, 244.9 190.056 \" fill=\"#000000\"/>\n",
       "<path d=\"M 261.988 185.816 Q 263.38 185.816, 264.084 186.568 Q 264.788 187.304, 264.788 188.744 L 264.788 194.184 L 263.284 194.184 L 263.284 188.856 Q 263.284 187.88, 262.9 187.448 Q 262.532 187, 261.7 187 Q 260.98 187, 260.356 187.352 Q 259.748 187.688, 259.38 188.296 Q 259.396 188.44, 259.396 188.744 L 259.396 194.184 L 257.892 194.184 L 257.892 188.856 Q 257.892 187.88, 257.508 187.448 Q 257.14 187, 256.308 187 Q 255.588 187, 254.98 187.352 Q 254.372 187.688, 253.988 188.28 L 253.988 194.184 L 252.484 194.184 L 252.484 185.96 L 253.716 185.96 L 253.876 187.08 Q 254.948 185.816, 256.596 185.816 Q 258.532 185.816, 259.14 187.256 Q 260.228 185.816, 261.988 185.816 \" fill=\"#000000\"/>\n",
       "<path d=\"\" fill=\"#000000\"/>\n",
       "<path d=\"M 273.492 182.856 Q 275.428 182.856, 276.404 183.736 Q 277.38 184.6, 277.38 186.184 Q 277.38 187.752, 276.372 188.648 Q 275.38 189.528, 273.492 189.528 L 271.684 189.528 L 271.684 194.184 L 270.148 194.184 L 270.148 182.856 L 273.492 182.856 M 273.492 188.248 Q 274.596 188.248, 275.188 187.72 Q 275.78 187.192, 275.78 186.184 Q 275.78 185.176, 275.188 184.664 Q 274.612 184.136, 273.492 184.136 L 271.684 184.136 L 271.684 188.248 L 273.492 188.248 \" fill=\"#000000\"/>\n",
       "<path d=\"M 282.404 182.856 Q 284.916 182.856, 286.26 184.344 Q 287.604 185.816, 287.604 188.488 Q 287.604 191.176, 286.244 192.68 Q 284.9 194.184, 282.404 194.184 L 278.74 194.184 L 278.74 182.856 L 282.404 182.856 M 282.404 192.904 Q 284.132 192.904, 285.06 191.8 Q 286.004 190.696, 286.004 188.488 Q 286.004 186.296, 285.06 185.224 Q 284.132 184.136, 282.404 184.136 L 280.276 184.136 L 280.276 192.904 L 282.404 192.904 \" fill=\"#000000\"/>\n",
       "<path d=\"M 294.468 188.232 Q 295.556 188.536, 296.1 189.208 Q 296.66 189.864, 296.66 190.84 Q 296.66 192.408, 295.652 193.304 Q 294.66 194.184, 292.772 194.184 L 288.964 194.184 L 288.964 182.856 L 292.308 182.856 Q 294.244 182.856, 295.22 183.64 Q 296.196 184.424, 296.196 185.864 Q 296.196 187.576, 294.468 188.232 M 290.484 184.136 L 290.484 187.688 L 292.308 187.688 Q 293.428 187.688, 294.004 187.24 Q 294.596 186.776, 294.596 185.864 Q 294.596 184.136, 292.308 184.136 L 290.484 184.136 M 292.772 192.904 Q 293.876 192.904, 294.468 192.376 Q 295.06 191.848, 295.06 190.84 Q 295.06 189.912, 294.404 189.448 Q 293.764 188.968, 292.532 188.968 L 290.484 188.968 L 290.484 192.904 L 292.772 192.904 \" fill=\"#000000\"/>\n",
       "<path d=\"\" fill=\"#000000\"/>\n",
       "<path d=\"M 302.068 182.808 L 303.588 182.808 L 303.588 194.184 L 302.068 194.184 L 302.068 182.808 \" fill=\"#000000\"/>\n",
       "<path d=\"M 308.612 182.856 Q 311.124 182.856, 312.468 184.344 Q 313.812 185.816, 313.812 188.488 Q 313.812 191.176, 312.452 192.68 Q 311.108 194.184, 308.612 194.184 L 304.948 194.184 L 304.948 182.856 L 308.612 182.856 M 308.612 192.904 Q 310.34 192.904, 311.268 191.8 Q 312.212 190.696, 312.212 188.488 Q 312.212 186.296, 311.268 185.224 Q 310.34 184.136, 308.612 184.136 L 306.484 184.136 L 306.484 192.904 L 308.612 192.904 \" fill=\"#000000\"/>\n",
       "<path d=\"M 315.012 192.312 L 316.612 192.312 L 316.612 193.912 L 315.012 193.912 L 315.012 192.312 M 315.012 186.808 L 316.612 186.808 L 316.612 188.408 L 315.012 188.408 L 315.012 186.808 \" fill=\"#000000\"/>\n",
       "<path d=\"\" fill=\"#000000\"/>\n",
       "<path d=\"M 328.452 190.296 L 329.812 190.296 L 329.812 191.576 L 328.452 191.576 L 328.452 194.184 L 326.948 194.184 L 326.948 191.576 L 321.092 191.576 L 321.092 190.568 L 326.052 182.856 L 328.452 182.856 L 328.452 190.296 M 322.948 190.296 L 326.948 190.296 L 326.948 183.88 L 322.948 190.296 \" fill=\"#000000\"/>\n",
       "<path d=\"M 344.356 182.872 L 345.892 182.872 L 342.868 194.184 L 340.548 194.184 L 338.084 184.744 L 335.604 194.184 L 333.284 194.184 L 330.26 182.872 L 331.812 182.872 L 334.468 192.776 L 337.076 182.872 L 339.076 182.872 L 341.684 192.808 L 344.356 182.872 \" fill=\"#000000\"/>\n",
       "<path d=\"M 354.18 182.856 L 355.668 182.856 L 351.812 194.184 L 349.924 194.184 L 346.212 182.856 L 347.748 182.856 L 350.9 192.52 L 354.18 182.856 \" fill=\"#000000\"/>\n",
       "<path d=\"M 360.372 182.856 Q 362.308 182.856, 363.284 183.736 Q 364.26 184.6, 364.26 186.184 Q 364.26 187.752, 363.252 188.648 Q 362.26 189.528, 360.372 189.528 L 358.564 189.528 L 358.564 194.184 L 357.028 194.184 L 357.028 182.856 L 360.372 182.856 M 360.372 188.248 Q 361.476 188.248, 362.068 187.72 Q 362.66 187.192, 362.66 186.184 Q 362.66 185.176, 362.068 184.664 Q 361.492 184.136, 360.372 184.136 L 358.564 184.136 L 358.564 188.248 L 360.372 188.248 \" fill=\"#000000\"/>\n",
       "<path class=\"bond-0\" d=\"M 444.989,96.2853 L 448.055,92.4916\" style=\"fill:none;fill-rule:evenodd;stroke:#33CCCC;stroke-width:2.0px;stroke-linecap:butt;stroke-linejoin:miter;stroke-opacity:1\"/>\n",
       "<path class=\"bond-0\" d=\"M 448.055,92.4916 L 451.121,88.6979\" style=\"fill:none;fill-rule:evenodd;stroke:#000000;stroke-width:2.0px;stroke-linecap:butt;stroke-linejoin:miter;stroke-opacity:1\"/>\n",
       "<path class=\"bond-1\" d=\"M 451.121,88.6979 L 447.141,85.4812\" style=\"fill:none;fill-rule:evenodd;stroke:#000000;stroke-width:2.0px;stroke-linecap:butt;stroke-linejoin:miter;stroke-opacity:1\"/>\n",
       "<path class=\"bond-1\" d=\"M 447.141,85.4812 L 443.161,82.2645\" style=\"fill:none;fill-rule:evenodd;stroke:#33CCCC;stroke-width:2.0px;stroke-linecap:butt;stroke-linejoin:miter;stroke-opacity:1\"/>\n",
       "<path class=\"bond-2\" d=\"M 451.121,88.6979 L 455.101,91.9147\" style=\"fill:none;fill-rule:evenodd;stroke:#000000;stroke-width:2.0px;stroke-linecap:butt;stroke-linejoin:miter;stroke-opacity:1\"/>\n",
       "<path class=\"bond-2\" d=\"M 455.101,91.9147 L 459.081,95.1314\" style=\"fill:none;fill-rule:evenodd;stroke:#33CCCC;stroke-width:2.0px;stroke-linecap:butt;stroke-linejoin:miter;stroke-opacity:1\"/>\n",
       "<path class=\"bond-3\" d=\"M 451.121,88.6979 L 458.823,79.1689\" style=\"fill:none;fill-rule:evenodd;stroke:#000000;stroke-width:2.0px;stroke-linecap:butt;stroke-linejoin:miter;stroke-opacity:1\"/>\n",
       "<path class=\"bond-4\" d=\"M 458.823,79.1689 L 454.421,67.7345\" style=\"fill:none;fill-rule:evenodd;stroke:#000000;stroke-width:2.0px;stroke-linecap:butt;stroke-linejoin:miter;stroke-opacity:1\"/>\n",
       "<path class=\"bond-5\" d=\"M 458.823,79.1689 L 470.926,81.0744\" style=\"fill:none;fill-rule:evenodd;stroke:#000000;stroke-width:2.0px;stroke-linecap:butt;stroke-linejoin:miter;stroke-opacity:1\"/>\n",
       "<path class=\"bond-6\" d=\"M 454.421,67.7345 L 462.123,58.2054\" style=\"fill:none;fill-rule:evenodd;stroke:#000000;stroke-width:2.0px;stroke-linecap:butt;stroke-linejoin:miter;stroke-opacity:1\"/>\n",
       "<path class=\"bond-7\" d=\"M 462.123,58.2054 L 474.227,60.1109\" style=\"fill:none;fill-rule:evenodd;stroke:#000000;stroke-width:2.0px;stroke-linecap:butt;stroke-linejoin:miter;stroke-opacity:1\"/>\n",
       "<path class=\"bond-8\" d=\"M 474.227,60.1109 L 478.628,71.5454\" style=\"fill:none;fill-rule:evenodd;stroke:#000000;stroke-width:2.0px;stroke-linecap:butt;stroke-linejoin:miter;stroke-opacity:1\"/>\n",
       "<path class=\"bond-9\" d=\"M 470.926,81.0744 L 478.628,71.5454\" style=\"fill:none;fill-rule:evenodd;stroke:#000000;stroke-width:2.0px;stroke-linecap:butt;stroke-linejoin:miter;stroke-opacity:1\"/>\n",
       "<path class=\"bond-10\" d=\"M 478.628,71.5454 L 483.721,72.3473\" style=\"fill:none;fill-rule:evenodd;stroke:#000000;stroke-width:2.0px;stroke-linecap:butt;stroke-linejoin:miter;stroke-opacity:1\"/>\n",
       "<path class=\"bond-10\" d=\"M 483.721,72.3473 L 488.814,73.1491\" style=\"fill:none;fill-rule:evenodd;stroke:#0000FF;stroke-width:2.0px;stroke-linecap:butt;stroke-linejoin:miter;stroke-opacity:1\"/>\n",
       "<path class=\"bond-11\" d=\"M 491.667,75.8812 L 493.4,80.3833\" style=\"fill:none;fill-rule:evenodd;stroke:#0000FF;stroke-width:2.0px;stroke-linecap:butt;stroke-linejoin:miter;stroke-opacity:1\"/>\n",
       "<path class=\"bond-11\" d=\"M 493.4,80.3833 L 495.133,84.8854\" style=\"fill:none;fill-rule:evenodd;stroke:#000000;stroke-width:2.0px;stroke-linecap:butt;stroke-linejoin:miter;stroke-opacity:1\"/>\n",
       "<path class=\"bond-12\" d=\"M 492.649,71.0788 L 495.541,67.5003\" style=\"fill:none;fill-rule:evenodd;stroke:#0000FF;stroke-width:2.0px;stroke-linecap:butt;stroke-linejoin:miter;stroke-opacity:1\"/>\n",
       "<path class=\"bond-12\" d=\"M 495.541,67.5003 L 498.433,63.9219\" style=\"fill:none;fill-rule:evenodd;stroke:#000000;stroke-width:2.0px;stroke-linecap:butt;stroke-linejoin:miter;stroke-opacity:1\"/>\n",
       "<path class=\"bond-13\" d=\"M 495.133,84.8854 L 492.274,88.4228\" style=\"fill:none;fill-rule:evenodd;stroke:#000000;stroke-width:2.0px;stroke-linecap:butt;stroke-linejoin:miter;stroke-opacity:1\"/>\n",
       "<path class=\"bond-13\" d=\"M 492.274,88.4228 L 489.415,91.9601\" style=\"fill:none;fill-rule:evenodd;stroke:#FF0000;stroke-width:2.0px;stroke-linecap:butt;stroke-linejoin:miter;stroke-opacity:1\"/>\n",
       "<path class=\"bond-14\" d=\"M 495.133,84.8854 L 500.226,85.6872\" style=\"fill:none;fill-rule:evenodd;stroke:#000000;stroke-width:2.0px;stroke-linecap:butt;stroke-linejoin:miter;stroke-opacity:1\"/>\n",
       "<path class=\"bond-14\" d=\"M 500.226,85.6872 L 505.319,86.4891\" style=\"fill:none;fill-rule:evenodd;stroke:#0000FF;stroke-width:2.0px;stroke-linecap:butt;stroke-linejoin:miter;stroke-opacity:1\"/>\n",
       "<path class=\"bond-15\" d=\"M 498.433,63.9219 L 494.032,52.4874\" style=\"fill:none;fill-rule:evenodd;stroke:#000000;stroke-width:2.0px;stroke-linecap:butt;stroke-linejoin:miter;stroke-opacity:1\"/>\n",
       "<path class=\"bond-16\" d=\"M 498.433,63.9219 L 510.536,65.8274\" style=\"fill:none;fill-rule:evenodd;stroke:#000000;stroke-width:2.0px;stroke-linecap:butt;stroke-linejoin:miter;stroke-opacity:1\"/>\n",
       "<path class=\"bond-17\" d=\"M 510.536,65.8274 L 518.238,56.2984\" style=\"fill:none;fill-rule:evenodd;stroke:#000000;stroke-width:2.0px;stroke-linecap:butt;stroke-linejoin:miter;stroke-opacity:1\"/>\n",
       "<path class=\"bond-18\" d=\"M 510.536,65.8274 L 514.938,77.2619\" style=\"fill:none;fill-rule:evenodd;stroke:#000000;stroke-width:2.0px;stroke-linecap:butt;stroke-linejoin:miter;stroke-opacity:1\"/>\n",
       "<path class=\"bond-19\" d=\"M 518.238,56.2984 L 516.523,51.8413\" style=\"fill:none;fill-rule:evenodd;stroke:#000000;stroke-width:2.0px;stroke-linecap:butt;stroke-linejoin:miter;stroke-opacity:1\"/>\n",
       "<path class=\"bond-19\" d=\"M 516.523,51.8413 L 514.807,47.3842\" style=\"fill:none;fill-rule:evenodd;stroke:#FF0000;stroke-width:2.0px;stroke-linecap:butt;stroke-linejoin:miter;stroke-opacity:1\"/>\n",
       "<path class=\"bond-20\" d=\"M 518.238,56.2984 L 530.342,58.2039\" style=\"fill:none;fill-rule:evenodd;stroke:#000000;stroke-width:2.0px;stroke-linecap:butt;stroke-linejoin:miter;stroke-opacity:1\"/>\n",
       "<path class=\"bond-21\" d=\"M 514.938,77.2619 L 512.069,80.8113\" style=\"fill:none;fill-rule:evenodd;stroke:#000000;stroke-width:2.0px;stroke-linecap:butt;stroke-linejoin:miter;stroke-opacity:1\"/>\n",
       "<path class=\"bond-21\" d=\"M 512.069,80.8113 L 509.2,84.3606\" style=\"fill:none;fill-rule:evenodd;stroke:#0000FF;stroke-width:2.0px;stroke-linecap:butt;stroke-linejoin:miter;stroke-opacity:1\"/>\n",
       "<path class=\"bond-22\" d=\"M 514.938,77.2619 L 527.041,79.1674\" style=\"fill:none;fill-rule:evenodd;stroke:#000000;stroke-width:2.0px;stroke-linecap:butt;stroke-linejoin:miter;stroke-opacity:1\"/>\n",
       "<path class=\"bond-23\" d=\"M 527.041,79.1674 L 531.443,90.6019\" style=\"fill:none;fill-rule:evenodd;stroke:#000000;stroke-width:2.0px;stroke-linecap:butt;stroke-linejoin:miter;stroke-opacity:1\"/>\n",
       "<path class=\"bond-24\" d=\"M 527.041,79.1674 L 534.743,69.6384\" style=\"fill:none;fill-rule:evenodd;stroke:#000000;stroke-width:2.0px;stroke-linecap:butt;stroke-linejoin:miter;stroke-opacity:1\"/>\n",
       "<path class=\"bond-25\" d=\"M 531.443,90.6019 L 536.536,91.4037\" style=\"fill:none;fill-rule:evenodd;stroke:#000000;stroke-width:2.0px;stroke-linecap:butt;stroke-linejoin:miter;stroke-opacity:1\"/>\n",
       "<path class=\"bond-25\" d=\"M 536.536,91.4037 L 541.629,92.2056\" style=\"fill:none;fill-rule:evenodd;stroke:#0000FF;stroke-width:2.0px;stroke-linecap:butt;stroke-linejoin:miter;stroke-opacity:1\"/>\n",
       "<path class=\"bond-26\" d=\"M 545.51,90.0771 L 548.379,86.5277\" style=\"fill:none;fill-rule:evenodd;stroke:#0000FF;stroke-width:2.0px;stroke-linecap:butt;stroke-linejoin:miter;stroke-opacity:1\"/>\n",
       "<path class=\"bond-26\" d=\"M 548.379,86.5277 L 551.248,82.9784\" style=\"fill:none;fill-rule:evenodd;stroke:#000000;stroke-width:2.0px;stroke-linecap:butt;stroke-linejoin:miter;stroke-opacity:1\"/>\n",
       "<path class=\"bond-27\" d=\"M 551.248,82.9784 L 563.351,84.8839\" style=\"fill:none;fill-rule:evenodd;stroke:#000000;stroke-width:2.0px;stroke-linecap:butt;stroke-linejoin:miter;stroke-opacity:1\"/>\n",
       "<path class=\"bond-28\" d=\"M 551.248,82.9784 L 546.846,71.5439\" style=\"fill:none;fill-rule:evenodd;stroke:#000000;stroke-width:2.0px;stroke-linecap:butt;stroke-linejoin:miter;stroke-opacity:1\"/>\n",
       "<path class=\"bond-29\" d=\"M 563.351,84.8839 L 565.084,89.386\" style=\"fill:none;fill-rule:evenodd;stroke:#000000;stroke-width:2.0px;stroke-linecap:butt;stroke-linejoin:miter;stroke-opacity:1\"/>\n",
       "<path class=\"bond-29\" d=\"M 565.084,89.386 L 566.817,93.8881\" style=\"fill:none;fill-rule:evenodd;stroke:#0000FF;stroke-width:2.0px;stroke-linecap:butt;stroke-linejoin:miter;stroke-opacity:1\"/>\n",
       "<path class=\"bond-30\" d=\"M 546.846,71.5439 L 534.743,69.6384\" style=\"fill:none;fill-rule:evenodd;stroke:#000000;stroke-width:2.0px;stroke-linecap:butt;stroke-linejoin:miter;stroke-opacity:1\"/>\n",
       "<path class=\"atom-0\" d=\"M 442.156 96.103 L 444.682 96.103 L 444.682 96.589 L 442.726 96.589 L 442.726 97.879 L 444.466 97.879 L 444.466 98.371 L 442.726 98.371 L 442.726 100.351 L 442.156 100.351 L 442.156 96.103 \" fill=\"#33CCCC\"/>\n",
       "<path class=\"atom-2\" d=\"M 440.329 78.8721 L 442.855 78.8721 L 442.855 79.3581 L 440.899 79.3581 L 440.899 80.6481 L 442.639 80.6481 L 442.639 81.1401 L 440.899 81.1401 L 440.899 83.1201 L 440.329 83.1201 L 440.329 78.8721 \" fill=\"#33CCCC\"/>\n",
       "<path class=\"atom-3\" d=\"M 459.387 94.2758 L 461.913 94.2758 L 461.913 94.7618 L 459.957 94.7618 L 459.957 96.0518 L 461.697 96.0518 L 461.697 96.5438 L 459.957 96.5438 L 459.957 98.5238 L 459.387 98.5238 L 459.387 94.2758 \" fill=\"#33CCCC\"/>\n",
       "<path class=\"atom-10\" d=\"M 489.792 71.3269 L 491.184 73.5769 Q 491.322 73.7989, 491.544 74.2009 Q 491.766 74.6029, 491.778 74.6269 L 491.778 71.3269 L 492.342 71.3269 L 492.342 75.5749 L 491.76 75.5749 L 490.266 73.1149 Q 490.092 72.8269, 489.906 72.4969 Q 489.726 72.1669, 489.672 72.0649 L 489.672 75.5749 L 489.12 75.5749 L 489.12 71.3269 L 489.792 71.3269 \" fill=\"#0000FF\"/>\n",
       "<path class=\"atom-12\" d=\"M 481.857 92.3144 L 482.433 92.3144 L 482.433 94.1204 L 484.605 94.1204 L 484.605 92.3144 L 485.181 92.3144 L 485.181 96.5624 L 484.605 96.5624 L 484.605 94.6004 L 482.433 94.6004 L 482.433 96.5624 L 481.857 96.5624 L 481.857 92.3144 \" fill=\"#FF0000\"/>\n",
       "<path class=\"atom-12\" d=\"M 485.481 94.4264 Q 485.481 93.4064, 485.985 92.8364 Q 486.489 92.2664, 487.431 92.2664 Q 488.373 92.2664, 488.877 92.8364 Q 489.381 93.4064, 489.381 94.4264 Q 489.381 95.4584, 488.871 96.0464 Q 488.361 96.6284, 487.431 96.6284 Q 486.495 96.6284, 485.985 96.0464 Q 485.481 95.4644, 485.481 94.4264 M 487.431 96.1484 Q 488.079 96.1484, 488.427 95.7164 Q 488.781 95.2784, 488.781 94.4264 Q 488.781 93.5924, 488.427 93.1724 Q 488.079 92.7464, 487.431 92.7464 Q 486.783 92.7464, 486.429 93.1664 Q 486.081 93.5864, 486.081 94.4264 Q 486.081 95.2844, 486.429 95.7164 Q 486.783 96.1484, 487.431 96.1484 \" fill=\"#FF0000\"/>\n",
       "<path class=\"atom-17\" d=\"M 508.263 42.7639 L 508.839 42.7639 L 508.839 44.5699 L 511.011 44.5699 L 511.011 42.7639 L 511.587 42.7639 L 511.587 47.0119 L 511.011 47.0119 L 511.011 45.0499 L 508.839 45.0499 L 508.839 47.0119 L 508.263 47.0119 L 508.263 42.7639 \" fill=\"#FF0000\"/>\n",
       "<path class=\"atom-17\" d=\"M 511.887 44.8759 Q 511.887 43.8559, 512.391 43.2859 Q 512.895 42.7159, 513.837 42.7159 Q 514.779 42.7159, 515.283 43.2859 Q 515.787 43.8559, 515.787 44.8759 Q 515.787 45.9079, 515.277 46.4959 Q 514.767 47.0779, 513.837 47.0779 Q 512.901 47.0779, 512.391 46.4959 Q 511.887 45.9139, 511.887 44.8759 M 513.837 46.5979 Q 514.485 46.5979, 514.833 46.1659 Q 515.187 45.7279, 515.187 44.8759 Q 515.187 44.0419, 514.833 43.6219 Q 514.485 43.1959, 513.837 43.1959 Q 513.189 43.1959, 512.835 43.6159 Q 512.487 44.0359, 512.487 44.8759 Q 512.487 45.7339, 512.835 46.1659 Q 513.189 46.5979, 513.837 46.5979 \" fill=\"#FF0000\"/>\n",
       "<path class=\"atom-20\" d=\"M 506.297 84.6669 L 507.689 86.9169 Q 507.827 87.1389, 508.049 87.5409 Q 508.271 87.9429, 508.283 87.9669 L 508.283 84.6669 L 508.847 84.6669 L 508.847 88.9149 L 508.265 88.9149 L 506.771 86.4549 Q 506.597 86.1669, 506.411 85.8369 Q 506.231 85.5069, 506.177 85.4049 L 506.177 88.9149 L 505.625 88.9149 L 505.625 84.6669 L 506.297 84.6669 \" fill=\"#0000FF\"/>\n",
       "<path class=\"atom-20\" d=\"M 509.357 84.6669 L 509.933 84.6669 L 509.933 86.4729 L 512.105 86.4729 L 512.105 84.6669 L 512.681 84.6669 L 512.681 88.9149 L 512.105 88.9149 L 512.105 86.9529 L 509.933 86.9529 L 509.933 88.9149 L 509.357 88.9149 L 509.357 84.6669 \" fill=\"#0000FF\"/>\n",
       "<path class=\"atom-23\" d=\"M 542.607 90.3834 L 543.999 92.6334 Q 544.137 92.8554, 544.359 93.2574 Q 544.581 93.6594, 544.593 93.6834 L 544.593 90.3834 L 545.157 90.3834 L 545.157 94.6314 L 544.575 94.6314 L 543.081 92.1714 Q 542.907 91.8834, 542.721 91.5534 Q 542.541 91.2234, 542.487 91.1214 L 542.487 94.6314 L 541.935 94.6314 L 541.935 90.3834 L 542.607 90.3834 \" fill=\"#0000FF\"/>\n",
       "<path class=\"atom-23\" d=\"M 545.667 90.3834 L 546.243 90.3834 L 546.243 92.1894 L 548.415 92.1894 L 548.415 90.3834 L 548.991 90.3834 L 548.991 94.6314 L 548.415 94.6314 L 548.415 92.6694 L 546.243 92.6694 L 546.243 94.6314 L 545.667 94.6314 L 545.667 90.3834 \" fill=\"#0000FF\"/>\n",
       "<path class=\"atom-26\" d=\"M 566.813 94.1944 L 568.205 96.4444 Q 568.343 96.6664, 568.565 97.0684 Q 568.787 97.4704, 568.799 97.4944 L 568.799 94.1944 L 569.363 94.1944 L 569.363 98.4424 L 568.781 98.4424 L 567.287 95.9824 Q 567.113 95.6944, 566.927 95.3644 Q 566.747 95.0344, 566.693 94.9324 L 566.693 98.4424 L 566.141 98.4424 L 566.141 94.1944 L 566.813 94.1944 \" fill=\"#0000FF\"/>\n",
       "<path class=\"atom-26\" d=\"M 569.873 94.1944 L 570.449 94.1944 L 570.449 96.0004 L 572.621 96.0004 L 572.621 94.1944 L 573.197 94.1944 L 573.197 98.4424 L 572.621 98.4424 L 572.621 96.4804 L 570.449 96.4804 L 570.449 98.4424 L 569.873 98.4424 L 569.873 94.1944 \" fill=\"#0000FF\"/>\n",
       "<path class=\"atom-26\" d=\"M 573.403 98.2934 Q 573.506 98.028, 573.752 97.8815 Q 573.997 97.731, 574.338 97.731 Q 574.762 97.731, 574.999 97.9607 Q 575.237 98.1904, 575.237 98.5983 Q 575.237 99.0141, 574.928 99.4022 Q 574.623 99.7902, 573.989 100.25 L 575.284 100.25 L 575.284 100.566 L 573.395 100.566 L 573.395 100.301 Q 573.918 99.9288, 574.227 99.6516 Q 574.54 99.3744, 574.69 99.125 Q 574.841 98.8755, 574.841 98.6181 Q 574.841 98.3488, 574.706 98.1983 Q 574.572 98.0478, 574.338 98.0478 Q 574.112 98.0478, 573.962 98.1389 Q 573.811 98.23, 573.704 98.432 L 573.403 98.2934 \" fill=\"#0000FF\"/>\n",
       "<path d=\"M 433.029 182.816 L 439.765 182.816 L 439.765 184.112 L 434.549 184.112 L 434.549 187.552 L 439.189 187.552 L 439.189 188.864 L 434.549 188.864 L 434.549 194.144 L 433.029 194.144 L 433.029 182.816 \" fill=\"#000000\"/>\n",
       "<path d=\"M 442.341 185.92 L 442.517 187.056 Q 443.381 185.776, 444.789 185.776 Q 445.237 185.776, 445.845 185.936 L 445.605 187.28 Q 444.917 187.12, 444.533 187.12 Q 443.861 187.12, 443.413 187.392 Q 442.981 187.648, 442.629 188.272 L 442.629 194.144 L 441.125 194.144 L 441.125 185.92 L 442.341 185.92 \" fill=\"#000000\"/>\n",
       "<path d=\"M 446.581 190.016 Q 446.581 188.016, 447.589 186.896 Q 448.613 185.776, 450.485 185.776 Q 452.357 185.776, 453.365 186.896 Q 454.389 188.016, 454.389 190.016 Q 454.389 192.016, 453.365 193.152 Q 452.357 194.272, 450.485 194.272 Q 448.613 194.272, 447.589 193.152 Q 446.581 192.016, 446.581 190.016 M 448.117 190.016 Q 448.117 191.52, 448.725 192.304 Q 449.349 193.088, 450.485 193.088 Q 451.621 193.088, 452.229 192.304 Q 452.853 191.52, 452.853 190.016 Q 452.853 188.512, 452.229 187.744 Q 451.621 186.96, 450.485 186.96 Q 449.349 186.96, 448.725 187.744 Q 448.117 188.512, 448.117 190.016 \" fill=\"#000000\"/>\n",
       "<path d=\"M 465.205 185.776 Q 466.597 185.776, 467.301 186.528 Q 468.005 187.264, 468.005 188.704 L 468.005 194.144 L 466.501 194.144 L 466.501 188.816 Q 466.501 187.84, 466.117 187.408 Q 465.749 186.96, 464.917 186.96 Q 464.197 186.96, 463.573 187.312 Q 462.965 187.648, 462.597 188.256 Q 462.613 188.4, 462.613 188.704 L 462.613 194.144 L 461.109 194.144 L 461.109 188.816 Q 461.109 187.84, 460.725 187.408 Q 460.357 186.96, 459.525 186.96 Q 458.805 186.96, 458.197 187.312 Q 457.589 187.648, 457.205 188.24 L 457.205 194.144 L 455.701 194.144 L 455.701 185.92 L 456.933 185.92 L 457.093 187.04 Q 458.165 185.776, 459.813 185.776 Q 461.749 185.776, 462.357 187.216 Q 463.445 185.776, 465.205 185.776 \" fill=\"#000000\"/>\n",
       "<path d=\"\" fill=\"#000000\"/>\n",
       "<path d=\"M 476.709 182.816 Q 478.645 182.816, 479.621 183.696 Q 480.597 184.56, 480.597 186.144 Q 480.597 187.712, 479.589 188.608 Q 478.597 189.488, 476.709 189.488 L 474.901 189.488 L 474.901 194.144 L 473.365 194.144 L 473.365 182.816 L 476.709 182.816 M 476.709 188.208 Q 477.813 188.208, 478.405 187.68 Q 478.997 187.152, 478.997 186.144 Q 478.997 185.136, 478.405 184.624 Q 477.829 184.096, 476.709 184.096 L 474.901 184.096 L 474.901 188.208 L 476.709 188.208 \" fill=\"#000000\"/>\n",
       "<path d=\"M 485.621 182.816 Q 488.133 182.816, 489.477 184.304 Q 490.821 185.776, 490.821 188.448 Q 490.821 191.136, 489.461 192.64 Q 488.117 194.144, 485.621 194.144 L 481.957 194.144 L 481.957 182.816 L 485.621 182.816 M 485.621 192.864 Q 487.349 192.864, 488.277 191.76 Q 489.221 190.656, 489.221 188.448 Q 489.221 186.256, 488.277 185.184 Q 487.349 184.096, 485.621 184.096 L 483.493 184.096 L 483.493 192.864 L 485.621 192.864 \" fill=\"#000000\"/>\n",
       "<path d=\"M 497.685 188.192 Q 498.773 188.496, 499.317 189.168 Q 499.877 189.824, 499.877 190.8 Q 499.877 192.368, 498.869 193.264 Q 497.877 194.144, 495.989 194.144 L 492.181 194.144 L 492.181 182.816 L 495.525 182.816 Q 497.461 182.816, 498.437 183.6 Q 499.413 184.384, 499.413 185.824 Q 499.413 187.536, 497.685 188.192 M 493.701 184.096 L 493.701 187.648 L 495.525 187.648 Q 496.645 187.648, 497.221 187.2 Q 497.813 186.736, 497.813 185.824 Q 497.813 184.096, 495.525 184.096 L 493.701 184.096 M 495.989 192.864 Q 497.093 192.864, 497.685 192.336 Q 498.277 191.808, 498.277 190.8 Q 498.277 189.872, 497.621 189.408 Q 496.981 188.928, 495.749 188.928 L 493.701 188.928 L 493.701 192.864 L 495.989 192.864 \" fill=\"#000000\"/>\n",
       "<path d=\"\" fill=\"#000000\"/>\n",
       "<path d=\"M 505.285 182.768 L 506.805 182.768 L 506.805 194.144 L 505.285 194.144 L 505.285 182.768 \" fill=\"#000000\"/>\n",
       "<path d=\"M 511.829 182.816 Q 514.341 182.816, 515.685 184.304 Q 517.029 185.776, 517.029 188.448 Q 517.029 191.136, 515.669 192.64 Q 514.325 194.144, 511.829 194.144 L 508.165 194.144 L 508.165 182.816 L 511.829 182.816 M 511.829 192.864 Q 513.557 192.864, 514.485 191.76 Q 515.429 190.656, 515.429 188.448 Q 515.429 186.256, 514.485 185.184 Q 513.557 184.096, 511.829 184.096 L 509.701 184.096 L 509.701 192.864 L 511.829 192.864 \" fill=\"#000000\"/>\n",
       "<path d=\"M 518.229 192.272 L 519.829 192.272 L 519.829 193.872 L 518.229 193.872 L 518.229 192.272 M 518.229 186.768 L 519.829 186.768 L 519.829 188.368 L 518.229 188.368 L 518.229 186.768 \" fill=\"#000000\"/>\n",
       "<path d=\"\" fill=\"#000000\"/>\n",
       "<path d=\"M 528.677 187.056 Q 529.669 187.056, 530.485 187.488 Q 531.301 187.904, 531.765 188.704 Q 532.229 189.488, 532.229 190.56 Q 532.229 191.728, 531.653 192.576 Q 531.093 193.408, 530.165 193.84 Q 529.237 194.272, 528.181 194.272 Q 527.141 194.272, 526.181 193.888 Q 525.221 193.504, 524.565 192.768 L 525.525 191.776 Q 526.053 192.352, 526.773 192.672 Q 527.493 192.976, 528.229 192.976 Q 529.237 192.976, 529.925 192.352 Q 530.629 191.728, 530.629 190.592 Q 530.629 189.392, 529.925 188.832 Q 529.237 188.256, 528.133 188.256 Q 527.141 188.256, 526.037 188.688 L 525.157 188.272 L 525.701 182.816 L 531.525 182.816 L 531.365 184.096 L 527.013 184.096 L 526.677 187.456 Q 527.685 187.056, 528.677 187.056 \" fill=\"#000000\"/>\n",
       "<path d=\"M 540.773 194.144 L 539.589 190.816 L 535.093 190.816 L 533.957 194.144 L 532.421 194.144 L 536.325 182.816 L 538.213 182.816 L 542.261 194.144 L 540.773 194.144 M 535.541 189.536 L 539.125 189.536 L 537.301 184.4 L 535.541 189.536 \" fill=\"#000000\"/>\n",
       "<path d=\"M 547.381 194.272 Q 545.301 194.272, 544.261 192.736 Q 543.237 191.2, 543.237 188.464 Q 543.237 185.728, 544.261 184.208 Q 545.285 182.688, 547.381 182.688 Q 549.477 182.688, 550.501 184.208 Q 551.525 185.728, 551.525 188.464 Q 551.525 191.2, 550.485 192.736 Q 549.461 194.272, 547.381 194.272 M 547.381 192.992 Q 548.613 192.992, 549.269 191.856 Q 549.925 190.704, 549.925 188.464 Q 549.925 186.24, 549.269 185.104 Q 548.613 183.968, 547.381 183.968 Q 546.165 183.968, 545.493 185.104 Q 544.837 186.24, 544.837 188.464 Q 544.837 190.704, 545.493 191.856 Q 546.165 192.992, 547.381 192.992 \" fill=\"#000000\"/>\n",
       "<path d=\"M 560.069 194.144 L 558.885 190.816 L 554.389 190.816 L 553.253 194.144 L 551.717 194.144 L 555.621 182.816 L 557.509 182.816 L 561.557 194.144 L 560.069 194.144 M 554.837 189.536 L 558.421 189.536 L 556.597 184.4 L 554.837 189.536 \" fill=\"#000000\"/>\n",
       "<path class=\"bond-0\" d=\"M 663.849,65.4638 L 663.608,70.3674\" style=\"fill:none;fill-rule:evenodd;stroke:#0000FF;stroke-width:2.0px;stroke-linecap:butt;stroke-linejoin:miter;stroke-opacity:1\"/>\n",
       "<path class=\"bond-0\" d=\"M 663.608,70.3674 L 663.366,75.271\" style=\"fill:none;fill-rule:evenodd;stroke:#000000;stroke-width:2.0px;stroke-linecap:butt;stroke-linejoin:miter;stroke-opacity:1\"/>\n",
       "<path class=\"bond-1\" d=\"M 663.366,75.271 L 673.663,81.9116\" style=\"fill:none;fill-rule:evenodd;stroke:#000000;stroke-width:2.0px;stroke-linecap:butt;stroke-linejoin:miter;stroke-opacity:1\"/>\n",
       "<path class=\"bond-2\" d=\"M 663.366,75.271 L 652.467,80.8679\" style=\"fill:none;fill-rule:evenodd;stroke:#000000;stroke-width:2.0px;stroke-linecap:butt;stroke-linejoin:miter;stroke-opacity:1\"/>\n",
       "<path class=\"bond-3\" d=\"M 673.663,81.9116 L 677.985,79.6925\" style=\"fill:none;fill-rule:evenodd;stroke:#000000;stroke-width:2.0px;stroke-linecap:butt;stroke-linejoin:miter;stroke-opacity:1\"/>\n",
       "<path class=\"bond-3\" d=\"M 677.985,79.6925 L 682.306,77.4733\" style=\"fill:none;fill-rule:evenodd;stroke:#FF0000;stroke-width:2.0px;stroke-linecap:butt;stroke-linejoin:miter;stroke-opacity:1\"/>\n",
       "<path class=\"bond-4\" d=\"M 686.819,77.7698 L 690.839,80.3626\" style=\"fill:none;fill-rule:evenodd;stroke:#FF0000;stroke-width:2.0px;stroke-linecap:butt;stroke-linejoin:miter;stroke-opacity:1\"/>\n",
       "<path class=\"bond-4\" d=\"M 690.839,80.3626 L 694.859,82.9553\" style=\"fill:none;fill-rule:evenodd;stroke:#000000;stroke-width:2.0px;stroke-linecap:butt;stroke-linejoin:miter;stroke-opacity:1\"/>\n",
       "<path class=\"bond-5\" d=\"M 652.467,80.8679 L 648.447,78.2752\" style=\"fill:none;fill-rule:evenodd;stroke:#000000;stroke-width:2.0px;stroke-linecap:butt;stroke-linejoin:miter;stroke-opacity:1\"/>\n",
       "<path class=\"bond-5\" d=\"M 648.447,78.2752 L 644.427,75.6825\" style=\"fill:none;fill-rule:evenodd;stroke:#FF0000;stroke-width:2.0px;stroke-linecap:butt;stroke-linejoin:miter;stroke-opacity:1\"/>\n",
       "<path class=\"bond-6\" d=\"M 717.863,47.2864 L 717.26,59.5239\" style=\"fill:none;fill-rule:evenodd;stroke:#000000;stroke-width:2.0px;stroke-linecap:butt;stroke-linejoin:miter;stroke-opacity:1\"/>\n",
       "<path class=\"bond-7\" d=\"M 717.26,59.5239 L 706.361,65.1208\" style=\"fill:none;fill-rule:evenodd;stroke:#000000;stroke-width:2.0px;stroke-linecap:butt;stroke-linejoin:miter;stroke-opacity:1\"/>\n",
       "<path class=\"bond-8\" d=\"M 706.361,65.1208 L 705.758,77.3584\" style=\"fill:none;fill-rule:evenodd;stroke:#000000;stroke-width:2.0px;stroke-linecap:butt;stroke-linejoin:miter;stroke-opacity:1\"/>\n",
       "<path class=\"bond-9\" d=\"M 705.758,77.3584 L 694.859,82.9553\" style=\"fill:none;fill-rule:evenodd;stroke:#000000;stroke-width:2.0px;stroke-linecap:butt;stroke-linejoin:miter;stroke-opacity:1\"/>\n",
       "<path class=\"bond-10\" d=\"M 705.758,77.3584 L 709.948,80.0604\" style=\"fill:none;fill-rule:evenodd;stroke:#000000;stroke-width:2.0px;stroke-linecap:butt;stroke-linejoin:miter;stroke-opacity:1\"/>\n",
       "<path class=\"bond-10\" d=\"M 709.948,80.0604 L 714.138,82.7625\" style=\"fill:none;fill-rule:evenodd;stroke:#0000FF;stroke-width:2.0px;stroke-linecap:butt;stroke-linejoin:miter;stroke-opacity:1\"/>\n",
       "<path class=\"bond-11\" d=\"M 694.859,82.9553 L 694.618,87.8469\" style=\"fill:none;fill-rule:evenodd;stroke:#000000;stroke-width:2.0px;stroke-linecap:butt;stroke-linejoin:miter;stroke-opacity:1\"/>\n",
       "<path class=\"bond-11\" d=\"M 694.618,87.8469 L 694.377,92.7385\" style=\"fill:none;fill-rule:evenodd;stroke:#FF0000;stroke-width:2.0px;stroke-linecap:butt;stroke-linejoin:miter;stroke-opacity:1\"/>\n",
       "<path class=\"bond-12\" d=\"M 715.452,96.2365 L 715.694,91.3329\" style=\"fill:none;fill-rule:evenodd;stroke:#000000;stroke-width:2.0px;stroke-linecap:butt;stroke-linejoin:miter;stroke-opacity:1\"/>\n",
       "<path class=\"bond-12\" d=\"M 715.694,91.3329 L 715.935,86.4293\" style=\"fill:none;fill-rule:evenodd;stroke:#0000FF;stroke-width:2.0px;stroke-linecap:butt;stroke-linejoin:miter;stroke-opacity:1\"/>\n",
       "<path class=\"bond-13\" d=\"M 748.15,79.4457 L 743.961,76.7437\" style=\"fill:none;fill-rule:evenodd;stroke:#000000;stroke-width:2.0px;stroke-linecap:butt;stroke-linejoin:miter;stroke-opacity:1\"/>\n",
       "<path class=\"bond-13\" d=\"M 743.961,76.7437 L 739.771,74.0416\" style=\"fill:none;fill-rule:evenodd;stroke:#0000FF;stroke-width:2.0px;stroke-linecap:butt;stroke-linejoin:miter;stroke-opacity:1\"/>\n",
       "<path class=\"bond-14\" d=\"M 717.972,83.0144 L 721.656,81.1227\" style=\"fill:none;fill-rule:evenodd;stroke:#0000FF;stroke-width:2.0px;stroke-linecap:butt;stroke-linejoin:miter;stroke-opacity:1\"/>\n",
       "<path class=\"bond-14\" d=\"M 721.656,81.1227 L 725.34,79.2311\" style=\"fill:none;fill-rule:evenodd;stroke:#CCCC00;stroke-width:2.0px;stroke-linecap:butt;stroke-linejoin:miter;stroke-opacity:1\"/>\n",
       "<path class=\"bond-15\" d=\"M 735.936,73.7897 L 732.253,75.6814\" style=\"fill:none;fill-rule:evenodd;stroke:#0000FF;stroke-width:2.0px;stroke-linecap:butt;stroke-linejoin:miter;stroke-opacity:1\"/>\n",
       "<path class=\"bond-15\" d=\"M 732.253,75.6814 L 728.569,77.573\" style=\"fill:none;fill-rule:evenodd;stroke:#CCCC00;stroke-width:2.0px;stroke-linecap:butt;stroke-linejoin:miter;stroke-opacity:1\"/>\n",
       "<path class=\"bond-16\" d=\"M 722.652,70.0231 L 724.199,73.0358\" style=\"fill:none;fill-rule:evenodd;stroke:#FF0000;stroke-width:2.0px;stroke-linecap:butt;stroke-linejoin:miter;stroke-opacity:1\"/>\n",
       "<path class=\"bond-16\" d=\"M 724.199,73.0358 L 725.746,76.0486\" style=\"fill:none;fill-rule:evenodd;stroke:#CCCC00;stroke-width:2.0px;stroke-linecap:butt;stroke-linejoin:miter;stroke-opacity:1\"/>\n",
       "<path class=\"bond-17\" d=\"M 731.291,86.847 L 729.757,83.8592\" style=\"fill:none;fill-rule:evenodd;stroke:#FF0000;stroke-width:2.0px;stroke-linecap:butt;stroke-linejoin:miter;stroke-opacity:1\"/>\n",
       "<path class=\"bond-17\" d=\"M 729.757,83.8592 L 728.222,80.8714\" style=\"fill:none;fill-rule:evenodd;stroke:#CCCC00;stroke-width:2.0px;stroke-linecap:butt;stroke-linejoin:miter;stroke-opacity:1\"/>\n",
       "<path class=\"atom-0\" d=\"M 663.03 60.9095 L 664.422 63.1595 Q 664.56 63.3815, 664.782 63.7835 Q 665.004 64.1855, 665.016 64.2095 L 665.016 60.9095 L 665.58 60.9095 L 665.58 65.1575 L 664.998 65.1575 L 663.504 62.6975 Q 663.33 62.4095, 663.144 62.0795 Q 662.964 61.7495, 662.91 61.6475 L 662.91 65.1575 L 662.358 65.1575 L 662.358 60.9095 L 663.03 60.9095 \" fill=\"#0000FF\"/>\n",
       "<path class=\"atom-0\" d=\"M 666.09 60.9095 L 666.666 60.9095 L 666.666 62.7155 L 668.838 62.7155 L 668.838 60.9095 L 669.414 60.9095 L 669.414 65.1575 L 668.838 65.1575 L 668.838 63.1955 L 666.666 63.1955 L 666.666 65.1575 L 666.09 65.1575 L 666.09 60.9095 \" fill=\"#0000FF\"/>\n",
       "<path class=\"atom-0\" d=\"M 669.62 65.0084 Q 669.723 64.7431, 669.968 64.5966 Q 670.214 64.4461, 670.554 64.4461 Q 670.978 64.4461, 671.216 64.6758 Q 671.453 64.9055, 671.453 65.3134 Q 671.453 65.7292, 671.144 66.1172 Q 670.839 66.5053, 670.206 66.9647 L 671.501 66.9647 L 671.501 67.2815 L 669.612 67.2815 L 669.612 67.0162 Q 670.135 66.6439, 670.443 66.3667 Q 670.756 66.0895, 670.907 65.84 Q 671.057 65.5906, 671.057 65.3332 Q 671.057 65.0639, 670.923 64.9134 Q 670.788 64.7629, 670.554 64.7629 Q 670.329 64.7629, 670.178 64.854 Q 670.028 64.9451, 669.921 65.147 L 669.62 65.0084 \" fill=\"#0000FF\"/>\n",
       "<path class=\"atom-3\" d=\"M 682.612 76.3267 Q 682.612 75.3067, 683.116 74.7367 Q 683.62 74.1667, 684.562 74.1667 Q 685.504 74.1667, 686.008 74.7367 Q 686.512 75.3067, 686.512 76.3267 Q 686.512 77.3587, 686.002 77.9467 Q 685.492 78.5287, 684.562 78.5287 Q 683.626 78.5287, 683.116 77.9467 Q 682.612 77.3647, 682.612 76.3267 M 684.562 78.0487 Q 685.21 78.0487, 685.558 77.6167 Q 685.912 77.1787, 685.912 76.3267 Q 685.912 75.4927, 685.558 75.0727 Q 685.21 74.6467, 684.562 74.6467 Q 683.914 74.6467, 683.56 75.0667 Q 683.212 75.4867, 683.212 76.3267 Q 683.212 77.1847, 683.56 77.6167 Q 683.914 78.0487, 684.562 78.0487 \" fill=\"#FF0000\"/>\n",
       "<path class=\"atom-5\" d=\"M 636.596 72.1273 L 637.172 72.1273 L 637.172 73.9333 L 639.344 73.9333 L 639.344 72.1273 L 639.92 72.1273 L 639.92 76.3753 L 639.344 76.3753 L 639.344 74.4133 L 637.172 74.4133 L 637.172 76.3753 L 636.596 76.3753 L 636.596 72.1273 \" fill=\"#FF0000\"/>\n",
       "<path class=\"atom-5\" d=\"M 640.22 74.2393 Q 640.22 73.2193, 640.724 72.6493 Q 641.228 72.0793, 642.17 72.0793 Q 643.112 72.0793, 643.616 72.6493 Q 644.12 73.2193, 644.12 74.2393 Q 644.12 75.2713, 643.61 75.8593 Q 643.1 76.4413, 642.17 76.4413 Q 641.234 76.4413, 640.724 75.8593 Q 640.22 75.2773, 640.22 74.2393 M 642.17 75.9613 Q 642.818 75.9613, 643.166 75.5293 Q 643.52 75.0913, 643.52 74.2393 Q 643.52 73.4053, 643.166 72.9853 Q 642.818 72.5593, 642.17 72.5593 Q 641.522 72.5593, 641.168 72.9793 Q 640.82 73.3993, 640.82 74.2393 Q 640.82 75.0973, 641.168 75.5293 Q 641.522 75.9613, 642.17 75.9613 \" fill=\"#FF0000\"/>\n",
       "<path class=\"atom-13\" d=\"M 715.116 81.875 L 716.508 84.125 Q 716.646 84.347, 716.868 84.749 Q 717.09 85.151, 717.102 85.175 L 717.102 81.875 L 717.666 81.875 L 717.666 86.123 L 717.084 86.123 L 715.59 83.663 Q 715.416 83.375, 715.23 83.045 Q 715.05 82.715, 714.996 82.613 L 714.996 86.123 L 714.444 86.123 L 714.444 81.875 L 715.116 81.875 \" fill=\"#0000FF\"/>\n",
       "<path class=\"atom-14\" d=\"M 736.915 70.6811 L 738.307 72.9311 Q 738.445 73.1531, 738.667 73.5551 Q 738.889 73.9571, 738.901 73.9811 L 738.901 70.6811 L 739.465 70.6811 L 739.465 74.9291 L 738.883 74.9291 L 737.389 72.4691 Q 737.215 72.1811, 737.029 71.8511 Q 736.849 71.5211, 736.795 71.4191 L 736.795 74.9291 L 736.243 74.9291 L 736.243 70.6811 L 736.915 70.6811 \" fill=\"#0000FF\"/>\n",
       "<path class=\"atom-14\" d=\"M 736.192 66.0083 L 736.768 66.0083 L 736.768 67.8143 L 738.94 67.8143 L 738.94 66.0083 L 739.516 66.0083 L 739.516 70.2563 L 738.94 70.2563 L 738.94 68.2943 L 736.768 68.2943 L 736.768 70.2563 L 736.192 70.2563 L 736.192 66.0083 \" fill=\"#0000FF\"/>\n",
       "<path class=\"atom-15\" d=\"M 692.306 95.2048 Q 692.306 94.1848, 692.81 93.6148 Q 693.314 93.0448, 694.256 93.0448 Q 695.198 93.0448, 695.702 93.6148 Q 696.206 94.1848, 696.206 95.2048 Q 696.206 96.2368, 695.696 96.8248 Q 695.186 97.4068, 694.256 97.4068 Q 693.32 97.4068, 692.81 96.8248 Q 692.306 96.2428, 692.306 95.2048 M 694.256 96.9268 Q 694.904 96.9268, 695.252 96.4948 Q 695.606 96.0568, 695.606 95.2048 Q 695.606 94.3708, 695.252 93.9508 Q 694.904 93.5248, 694.256 93.5248 Q 693.608 93.5248, 693.254 93.9448 Q 692.906 94.3648, 692.906 95.2048 Q 692.906 96.0628, 693.254 96.4948 Q 693.608 96.9268, 694.256 96.9268 \" fill=\"#FF0000\"/>\n",
       "<path class=\"atom-15\" d=\"M 696.716 93.0928 L 697.292 93.0928 L 697.292 94.8988 L 699.464 94.8988 L 699.464 93.0928 L 700.04 93.0928 L 700.04 97.3408 L 699.464 97.3408 L 699.464 95.3788 L 697.292 95.3788 L 697.292 97.3408 L 696.716 97.3408 L 696.716 93.0928 \" fill=\"#FF0000\"/>\n",
       "<path class=\"atom-16\" d=\"M 715.783 65.4028 L 716.359 65.4028 L 716.359 67.2088 L 718.531 67.2088 L 718.531 65.4028 L 719.107 65.4028 L 719.107 69.6508 L 718.531 69.6508 L 718.531 67.6888 L 716.359 67.6888 L 716.359 69.6508 L 715.783 69.6508 L 715.783 65.4028 \" fill=\"#FF0000\"/>\n",
       "<path class=\"atom-16\" d=\"M 719.407 67.5148 Q 719.407 66.4948, 719.911 65.9248 Q 720.415 65.3548, 721.357 65.3548 Q 722.299 65.3548, 722.803 65.9248 Q 723.307 66.4948, 723.307 67.5148 Q 723.307 68.5468, 722.797 69.1348 Q 722.287 69.7168, 721.357 69.7168 Q 720.421 69.7168, 719.911 69.1348 Q 719.407 68.5528, 719.407 67.5148 M 721.357 69.2368 Q 722.005 69.2368, 722.353 68.8048 Q 722.707 68.3668, 722.707 67.5148 Q 722.707 66.6808, 722.353 66.2608 Q 722.005 65.8348, 721.357 65.8348 Q 720.709 65.8348, 720.355 66.2548 Q 720.007 66.6748, 720.007 67.5148 Q 720.007 68.3728, 720.355 68.8048 Q 720.709 69.2368, 721.357 69.2368 \" fill=\"#FF0000\"/>\n",
       "<path class=\"atom-17\" d=\"M 730.601 89.3133 Q 730.601 88.2933, 731.105 87.7233 Q 731.609 87.1533, 732.551 87.1533 Q 733.493 87.1533, 733.997 87.7233 Q 734.501 88.2933, 734.501 89.3133 Q 734.501 90.3453, 733.991 90.9333 Q 733.481 91.5153, 732.551 91.5153 Q 731.615 91.5153, 731.105 90.9333 Q 730.601 90.3513, 730.601 89.3133 M 732.551 91.0353 Q 733.199 91.0353, 733.547 90.6033 Q 733.901 90.1653, 733.901 89.3133 Q 733.901 88.4793, 733.547 88.0593 Q 733.199 87.6333, 732.551 87.6333 Q 731.903 87.6333, 731.549 88.0533 Q 731.201 88.4733, 731.201 89.3133 Q 731.201 90.1713, 731.549 90.6033 Q 731.903 91.0353, 732.551 91.0353 \" fill=\"#FF0000\"/>\n",
       "<path class=\"atom-17\" d=\"M 735.011 87.2013 L 735.587 87.2013 L 735.587 89.0073 L 737.759 89.0073 L 737.759 87.2013 L 738.335 87.2013 L 738.335 91.4493 L 737.759 91.4493 L 737.759 89.4873 L 735.587 89.4873 L 735.587 91.4493 L 735.011 91.4493 L 735.011 87.2013 \" fill=\"#FF0000\"/>\n",
       "<path class=\"atom-18\" d=\"M 725.754 79.8601 Q 725.802 79.8781, 726 79.9621 Q 726.198 80.0461, 726.414 80.1001 Q 726.636 80.1481, 726.852 80.1481 Q 727.254 80.1481, 727.488 79.9561 Q 727.722 79.7581, 727.722 79.4161 Q 727.722 79.1821, 727.602 79.0381 Q 727.488 78.8941, 727.308 78.8161 Q 727.128 78.7381, 726.828 78.6481 Q 726.45 78.5341, 726.222 78.4261 Q 726 78.3181, 725.838 78.0901 Q 725.682 77.8621, 725.682 77.4781 Q 725.682 76.9441, 726.042 76.6141 Q 726.408 76.2841, 727.128 76.2841 Q 727.62 76.2841, 728.178 76.5181 L 728.04 76.9801 Q 727.53 76.7701, 727.146 76.7701 Q 726.732 76.7701, 726.504 76.9441 Q 726.276 77.1121, 726.282 77.4061 Q 726.282 77.6341, 726.396 77.7721 Q 726.516 77.9101, 726.684 77.9881 Q 726.858 78.0661, 727.146 78.1561 Q 727.53 78.2761, 727.758 78.3961 Q 727.986 78.5161, 728.148 78.7621 Q 728.316 79.0021, 728.316 79.4161 Q 728.316 80.0041, 727.92 80.3221 Q 727.53 80.6341, 726.876 80.6341 Q 726.498 80.6341, 726.21 80.5501 Q 725.928 80.4721, 725.592 80.3341 L 725.754 79.8601 \" fill=\"#CCCC00\"/>\n",
       "<path d=\"M 633.701 182.784 L 640.437 182.784 L 640.437 184.08 L 635.221 184.08 L 635.221 187.52 L 639.861 187.52 L 639.861 188.832 L 635.221 188.832 L 635.221 194.112 L 633.701 194.112 L 633.701 182.784 \" fill=\"#000000\"/>\n",
       "<path d=\"M 643.013 185.888 L 643.189 187.024 Q 644.053 185.744, 645.461 185.744 Q 645.909 185.744, 646.517 185.904 L 646.277 187.248 Q 645.589 187.088, 645.205 187.088 Q 644.533 187.088, 644.085 187.36 Q 643.653 187.616, 643.301 188.24 L 643.301 194.112 L 641.797 194.112 L 641.797 185.888 L 643.013 185.888 \" fill=\"#000000\"/>\n",
       "<path d=\"M 647.253 189.984 Q 647.253 187.984, 648.261 186.864 Q 649.285 185.744, 651.157 185.744 Q 653.029 185.744, 654.037 186.864 Q 655.061 187.984, 655.061 189.984 Q 655.061 191.984, 654.037 193.12 Q 653.029 194.24, 651.157 194.24 Q 649.285 194.24, 648.261 193.12 Q 647.253 191.984, 647.253 189.984 M 648.789 189.984 Q 648.789 191.488, 649.397 192.272 Q 650.021 193.056, 651.157 193.056 Q 652.293 193.056, 652.901 192.272 Q 653.525 191.488, 653.525 189.984 Q 653.525 188.48, 652.901 187.712 Q 652.293 186.928, 651.157 186.928 Q 650.021 186.928, 649.397 187.712 Q 648.789 188.48, 648.789 189.984 \" fill=\"#000000\"/>\n",
       "<path d=\"M 665.877 185.744 Q 667.269 185.744, 667.973 186.496 Q 668.677 187.232, 668.677 188.672 L 668.677 194.112 L 667.173 194.112 L 667.173 188.784 Q 667.173 187.808, 666.789 187.376 Q 666.421 186.928, 665.589 186.928 Q 664.869 186.928, 664.245 187.28 Q 663.637 187.616, 663.269 188.224 Q 663.285 188.368, 663.285 188.672 L 663.285 194.112 L 661.781 194.112 L 661.781 188.784 Q 661.781 187.808, 661.397 187.376 Q 661.029 186.928, 660.197 186.928 Q 659.477 186.928, 658.869 187.28 Q 658.261 187.616, 657.877 188.208 L 657.877 194.112 L 656.373 194.112 L 656.373 185.888 L 657.605 185.888 L 657.765 187.008 Q 658.837 185.744, 660.485 185.744 Q 662.421 185.744, 663.029 187.184 Q 664.117 185.744, 665.877 185.744 \" fill=\"#000000\"/>\n",
       "<path d=\"\" fill=\"#000000\"/>\n",
       "<path d=\"M 677.381 182.784 Q 679.317 182.784, 680.293 183.664 Q 681.269 184.528, 681.269 186.112 Q 681.269 187.68, 680.261 188.576 Q 679.269 189.456, 677.381 189.456 L 675.573 189.456 L 675.573 194.112 L 674.037 194.112 L 674.037 182.784 L 677.381 182.784 M 677.381 188.176 Q 678.485 188.176, 679.077 187.648 Q 679.669 187.12, 679.669 186.112 Q 679.669 185.104, 679.077 184.592 Q 678.501 184.064, 677.381 184.064 L 675.573 184.064 L 675.573 188.176 L 677.381 188.176 \" fill=\"#000000\"/>\n",
       "<path d=\"M 686.293 182.784 Q 688.805 182.784, 690.149 184.272 Q 691.493 185.744, 691.493 188.416 Q 691.493 191.104, 690.133 192.608 Q 688.789 194.112, 686.293 194.112 L 682.629 194.112 L 682.629 182.784 L 686.293 182.784 M 686.293 192.832 Q 688.021 192.832, 688.949 191.728 Q 689.893 190.624, 689.893 188.416 Q 689.893 186.224, 688.949 185.152 Q 688.021 184.064, 686.293 184.064 L 684.165 184.064 L 684.165 192.832 L 686.293 192.832 \" fill=\"#000000\"/>\n",
       "<path d=\"M 698.357 188.16 Q 699.445 188.464, 699.989 189.136 Q 700.549 189.792, 700.549 190.768 Q 700.549 192.336, 699.541 193.232 Q 698.549 194.112, 696.661 194.112 L 692.853 194.112 L 692.853 182.784 L 696.197 182.784 Q 698.133 182.784, 699.109 183.568 Q 700.085 184.352, 700.085 185.792 Q 700.085 187.504, 698.357 188.16 M 694.373 184.064 L 694.373 187.616 L 696.197 187.616 Q 697.317 187.616, 697.893 187.168 Q 698.485 186.704, 698.485 185.792 Q 698.485 184.064, 696.197 184.064 L 694.373 184.064 M 696.661 192.832 Q 697.765 192.832, 698.357 192.304 Q 698.949 191.776, 698.949 190.768 Q 698.949 189.84, 698.293 189.376 Q 697.653 188.896, 696.421 188.896 L 694.373 188.896 L 694.373 192.832 L 696.661 192.832 \" fill=\"#000000\"/>\n",
       "<path d=\"\" fill=\"#000000\"/>\n",
       "<path d=\"M 705.957 182.736 L 707.477 182.736 L 707.477 194.112 L 705.957 194.112 L 705.957 182.736 \" fill=\"#000000\"/>\n",
       "<path d=\"M 712.501 182.784 Q 715.013 182.784, 716.357 184.272 Q 717.701 185.744, 717.701 188.416 Q 717.701 191.104, 716.341 192.608 Q 714.997 194.112, 712.501 194.112 L 708.837 194.112 L 708.837 182.784 L 712.501 182.784 M 712.501 192.832 Q 714.229 192.832, 715.157 191.728 Q 716.101 190.624, 716.101 188.416 Q 716.101 186.224, 715.157 185.152 Q 714.229 184.064, 712.501 184.064 L 710.373 184.064 L 710.373 192.832 L 712.501 192.832 \" fill=\"#000000\"/>\n",
       "<path d=\"M 718.901 192.24 L 720.501 192.24 L 720.501 193.84 L 718.901 193.84 L 718.901 192.24 M 718.901 186.736 L 720.501 186.736 L 720.501 188.336 L 718.901 188.336 L 718.901 186.736 \" fill=\"#000000\"/>\n",
       "<path d=\"\" fill=\"#000000\"/>\n",
       "<path d=\"M 725.333 184.928 Q 725.749 183.856, 726.741 183.264 Q 727.733 182.656, 729.109 182.656 Q 730.821 182.656, 731.781 183.584 Q 732.741 184.512, 732.741 186.16 Q 732.741 187.84, 731.493 189.408 Q 730.261 190.976, 727.701 192.832 L 732.933 192.832 L 732.933 194.112 L 725.301 194.112 L 725.301 193.04 Q 727.413 191.536, 728.661 190.416 Q 729.925 189.296, 730.533 188.288 Q 731.141 187.28, 731.141 186.24 Q 731.141 185.152, 730.597 184.544 Q 730.053 183.936, 729.109 183.936 Q 728.197 183.936, 727.589 184.304 Q 726.981 184.672, 726.549 185.488 L 725.333 184.928 \" fill=\"#000000\"/>\n",
       "<path d=\"M 740.405 194.112 L 737.669 189.456 L 737.637 189.456 L 735.829 189.456 L 735.829 194.112 L 734.293 194.112 L 734.293 182.784 L 737.637 182.784 Q 739.573 182.784, 740.549 183.664 Q 741.525 184.528, 741.525 186.112 Q 741.525 187.312, 740.933 188.128 Q 740.357 188.928, 739.221 189.248 L 742.085 194.112 L 740.405 194.112 M 735.829 188.176 L 737.637 188.176 Q 738.741 188.176, 739.333 187.648 Q 739.925 187.12, 739.925 186.112 Q 739.925 185.104, 739.333 184.592 Q 738.757 184.064, 737.637 184.064 L 735.829 184.064 L 735.829 188.176 \" fill=\"#000000\"/>\n",
       "<path d=\"M 751.989 188.56 L 751.989 193.344 Q 750.373 194.256, 747.989 194.256 Q 745.525 194.256, 744.197 192.752 Q 742.885 191.248, 742.885 188.432 Q 742.885 185.616, 744.197 184.144 Q 745.525 182.656, 748.037 182.656 Q 749.349 182.656, 750.309 183.072 Q 751.269 183.472, 751.941 184.304 L 750.901 185.168 Q 749.845 183.936, 748.037 183.936 Q 746.325 183.936, 745.413 185.088 Q 744.517 186.24, 744.517 188.432 Q 744.517 190.672, 745.445 191.824 Q 746.389 192.976, 748.213 192.976 Q 749.397 192.976, 750.453 192.592 L 750.453 188.56 L 751.989 188.56 \" fill=\"#000000\"/>\n",
       "<path d=\"M 758.101 188.144 Q 759.205 188.464, 759.733 189.184 Q 760.277 189.888, 760.277 191.008 Q 760.277 191.968, 759.797 192.72 Q 759.317 193.456, 758.437 193.872 Q 757.557 194.272, 756.405 194.272 Q 755.189 194.272, 754.277 193.856 Q 753.381 193.424, 752.661 192.56 L 753.573 191.632 Q 754.277 192.4, 754.869 192.704 Q 755.461 192.992, 756.405 192.992 Q 757.429 192.992, 758.053 192.448 Q 758.677 191.888, 758.677 190.992 Q 758.677 189.84, 758.021 189.328 Q 757.381 188.8, 755.989 188.8 L 755.173 188.8 L 755.173 187.648 L 755.893 187.648 Q 757.125 187.632, 757.781 187.104 Q 758.437 186.56, 758.437 185.552 Q 758.437 184.816, 757.893 184.384 Q 757.349 183.936, 756.421 183.936 Q 755.477 183.936, 754.885 184.272 Q 754.309 184.608, 753.861 185.456 L 752.757 184.864 Q 753.157 183.92, 754.117 183.296 Q 755.077 182.656, 756.421 182.656 Q 758.085 182.656, 759.061 183.44 Q 760.037 184.224, 760.037 185.552 Q 760.037 186.464, 759.541 187.12 Q 759.045 187.776, 758.101 188.144 \" fill=\"#000000\"/>\n",
       "</svg>"
      ],
      "text/plain": [
       "<IPython.core.display.SVG object>"
      ]
     },
     "execution_count": 150,
     "metadata": {},
     "output_type": "execute_result"
    }
   ],
   "source": [
    "mols_2D = [] \n",
    "for mol in mols:\n",
    "    tmp=Chem.Mol(mol)\n",
    "    AllChem.Compute2DCoords(tmp)\n",
    "    mols_2D.append(tmp)\n",
    "Draw.MolsToGridImage(mols_2D, molsPerRow=4, legends=[\"From PDB ID: \"+i for i in pdb_ids])"
   ]
  },
  {
   "cell_type": "markdown",
   "metadata": {},
   "source": [
    "#### Visualize with nglview"
   ]
  },
  {
   "cell_type": "code",
   "execution_count": 151,
   "metadata": {},
   "outputs": [],
   "source": [
    "import nglview as nv"
   ]
  },
  {
   "cell_type": "code",
   "execution_count": 152,
   "metadata": {},
   "outputs": [],
   "source": [
    "import time\n",
    "def show_ligands(rdkit_mols):\n",
    "    v = nv.NGLWidget()\n",
    "    for mol in rdkit_mols:\n",
    "        c = v.add_component(Chem.MolToPDBBlock(mol), ext=\"pdb\")\n",
    "        time.sleep(0.1)\n",
    "        c.clear()\n",
    "        c.add_ball_and_stick(multipleBond=True)\n",
    "    return v"
   ]
  },
  {
   "cell_type": "code",
   "execution_count": 153,
   "metadata": {},
   "outputs": [],
   "source": [
    "v = show_ligands(mols)"
   ]
  },
  {
   "cell_type": "code",
   "execution_count": 154,
   "metadata": {},
   "outputs": [
    {
     "data": {
      "text/plain": [
       "(Image(value=b'', width='99%'),)"
      ]
     },
     "execution_count": 154,
     "metadata": {},
     "output_type": "execute_result"
    }
   ],
   "source": [
    "v.render_image(),"
   ]
  },
  {
   "cell_type": "code",
   "execution_count": 155,
   "metadata": {},
   "outputs": [
    {
     "data": {
      "image/png": "\n",
      "text/plain": [
       "<IPython.core.display.Image object>"
      ]
     },
     "execution_count": 155,
     "metadata": {},
     "output_type": "execute_result"
    }
   ],
   "source": [
    "v._display_image()"
   ]
  },
  {
   "cell_type": "markdown",
   "metadata": {},
   "source": [
    "#### Extract pharmacophore features"
   ]
  },
  {
   "cell_type": "code",
   "execution_count": 156,
   "metadata": {},
   "outputs": [],
   "source": [
    "ffact = AllChem.BuildFeatureFactory(os.path.join(RDConfig.RDDataDir,'BaseFeatures.fdef'))"
   ]
  },
  {
   "cell_type": "code",
   "execution_count": 157,
   "metadata": {},
   "outputs": [
    {
     "data": {
      "text/plain": [
       "['Donor.SingleAtomDonor',\n",
       " 'Acceptor.SingleAtomAcceptor',\n",
       " 'NegIonizable.AcidicGroup',\n",
       " 'PosIonizable.BasicGroup',\n",
       " 'PosIonizable.PosN',\n",
       " 'PosIonizable.Imidazole',\n",
       " 'PosIonizable.Guanidine',\n",
       " 'ZnBinder.ZnBinder1',\n",
       " 'ZnBinder.ZnBinder2',\n",
       " 'ZnBinder.ZnBinder3',\n",
       " 'ZnBinder.ZnBinder4',\n",
       " 'ZnBinder.ZnBinder5',\n",
       " 'ZnBinder.ZnBinder6',\n",
       " 'Aromatic.Arom4',\n",
       " 'Aromatic.Arom5',\n",
       " 'Aromatic.Arom6',\n",
       " 'Aromatic.Arom7',\n",
       " 'Aromatic.Arom8',\n",
       " 'Hydrophobe.ThreeWayAttach',\n",
       " 'Hydrophobe.ChainTwoWayAttach',\n",
       " 'LumpedHydrophobe.Nitro2',\n",
       " 'LumpedHydrophobe.RH6_6',\n",
       " 'LumpedHydrophobe.RH5_5',\n",
       " 'LumpedHydrophobe.RH4_4',\n",
       " 'LumpedHydrophobe.RH3_3',\n",
       " 'LumpedHydrophobe.tButyl',\n",
       " 'LumpedHydrophobe.iPropyl']"
      ]
     },
     "execution_count": 157,
     "metadata": {},
     "output_type": "execute_result"
    }
   ],
   "source": [
    "list(ffact.GetFeatureDefs().keys())"
   ]
  },
  {
   "cell_type": "code",
   "execution_count": 158,
   "metadata": {},
   "outputs": [
    {
     "name": "stdout",
     "output_type": "stream",
     "text": [
      "Number of features found: 21\n"
     ]
    }
   ],
   "source": [
    "# example\n",
    "m1 = mols[0]\n",
    "feats = ffact.GetFeaturesForMol(m1)\n",
    "print('Number of features found:',len(feats))"
   ]
  },
  {
   "cell_type": "code",
   "execution_count": 159,
   "metadata": {},
   "outputs": [
    {
     "data": {
      "text/plain": [
       "'Donor'"
      ]
     },
     "execution_count": 159,
     "metadata": {},
     "output_type": "execute_result"
    }
   ],
   "source": [
    "feats[0].GetFamily() # type of a feature"
   ]
  },
  {
   "cell_type": "code",
   "execution_count": 160,
   "metadata": {},
   "outputs": [
    {
     "data": {
      "text/plain": [
       "Counter({'Donor': 7,\n",
       "         'Acceptor': 5,\n",
       "         'PosIonizable': 2,\n",
       "         'Hydrophobe': 6,\n",
       "         'LumpedHydrophobe': 1})"
      ]
     },
     "execution_count": 160,
     "metadata": {},
     "output_type": "execute_result"
    }
   ],
   "source": [
    "# frequency of feature types in the molecule\n",
    "feats_freq = collections.Counter([x.GetFamily() for x in feats])\n",
    "feats_freq"
   ]
  },
  {
   "cell_type": "code",
   "execution_count": 161,
   "metadata": {},
   "outputs": [
    {
     "data": {
      "text/html": [
       "<div>\n",
       "<style scoped>\n",
       "    .dataframe tbody tr th:only-of-type {\n",
       "        vertical-align: middle;\n",
       "    }\n",
       "\n",
       "    .dataframe tbody tr th {\n",
       "        vertical-align: top;\n",
       "    }\n",
       "\n",
       "    .dataframe thead th {\n",
       "        text-align: right;\n",
       "    }\n",
       "</style>\n",
       "<table border=\"1\" class=\"dataframe\">\n",
       "  <thead>\n",
       "    <tr style=\"text-align: right;\">\n",
       "      <th></th>\n",
       "      <th>m1</th>\n",
       "      <th>m2</th>\n",
       "      <th>m3</th>\n",
       "      <th>m4</th>\n",
       "    </tr>\n",
       "  </thead>\n",
       "  <tbody>\n",
       "    <tr>\n",
       "      <th>Donor</th>\n",
       "      <td>7</td>\n",
       "      <td>2</td>\n",
       "      <td>6</td>\n",
       "      <td>6</td>\n",
       "    </tr>\n",
       "    <tr>\n",
       "      <th>Acceptor</th>\n",
       "      <td>5</td>\n",
       "      <td>5</td>\n",
       "      <td>2</td>\n",
       "      <td>5</td>\n",
       "    </tr>\n",
       "    <tr>\n",
       "      <th>PosIonizable</th>\n",
       "      <td>2</td>\n",
       "      <td>1</td>\n",
       "      <td>4</td>\n",
       "      <td>1</td>\n",
       "    </tr>\n",
       "    <tr>\n",
       "      <th>Hydrophobe</th>\n",
       "      <td>6</td>\n",
       "      <td>1</td>\n",
       "      <td>3</td>\n",
       "      <td>2</td>\n",
       "    </tr>\n",
       "    <tr>\n",
       "      <th>LumpedHydrophobe</th>\n",
       "      <td>1</td>\n",
       "      <td>0</td>\n",
       "      <td>0</td>\n",
       "      <td>0</td>\n",
       "    </tr>\n",
       "  </tbody>\n",
       "</table>\n",
       "</div>"
      ],
      "text/plain": [
       "                  m1  m2  m3  m4\n",
       "Donor              7   2   6   6\n",
       "Acceptor           5   5   2   5\n",
       "PosIonizable       2   1   4   1\n",
       "Hydrophobe         6   1   3   2\n",
       "LumpedHydrophobe   1   0   0   0"
      ]
     },
     "execution_count": 161,
     "metadata": {},
     "output_type": "execute_result"
    }
   ],
   "source": [
    "# Get feature type frequency per molecule\n",
    "mols_feats_freq = []\n",
    "for i in mols:\n",
    "    feats = [x.GetFamily() for x in ffact.GetFeaturesForMol(i)]\n",
    "    feats_freq = collections.Counter(feats)\n",
    "    mols_feats_freq.append(feats_freq)\n",
    "\n",
    "# Show data as DataFrame\n",
    "p = pd.DataFrame(mols_feats_freq, index=[\"m\"+str(i) for i in range(1, len(mols)+1)]).fillna(0).astype(int)\n",
    "p.transpose()"
   ]
  },
  {
   "cell_type": "code",
   "execution_count": 162,
   "metadata": {},
   "outputs": [],
   "source": [
    "acceptors = []\n",
    "donors = []\n",
    "hydrophobics = []\n",
    "\n",
    "for i in mols:\n",
    "    acceptors.append(ffact.GetFeaturesForMol(i, includeOnly='Acceptor'))\n",
    "    donors.append(ffact.GetFeaturesForMol(i, includeOnly='Donor'))\n",
    "    hydrophobics.append(ffact.GetFeaturesForMol(i, includeOnly='Hydrophobe'))\n",
    "    \n",
    "features = {\"donors\": donors,\n",
    "            \"acceptors\": acceptors,\n",
    "            \"hydrophobics\": hydrophobics}"
   ]
  },
  {
   "cell_type": "markdown",
   "metadata": {},
   "source": [
    "#### Show the pharmacophore features of all ligands"
   ]
  },
  {
   "cell_type": "code",
   "execution_count": 163,
   "metadata": {},
   "outputs": [],
   "source": [
    "feature_colors = {\"donors\": (0,0.9,0),  # Green\n",
    "                  \"acceptors\": (0.9,0,0),  # Red \n",
    "                  \"hydrophobics\": (1,0.9,0)}  # Yellow"
   ]
  },
  {
   "cell_type": "code",
   "execution_count": 164,
   "metadata": {},
   "outputs": [],
   "source": [
    "def visualize_features(molecules, feature_type, features, color=\"yellow\", sphere_radius=0.5):\n",
    "    print(\"Number of\", feature_type, \"in all ligands:\", sum([len(i) for i in features]))\n",
    "    v = show_ligands(molecules)\n",
    "    for i, feature in enumerate(features, 1):\n",
    "        for feat in feature:\n",
    "            loc = list(feat.GetPos())\n",
    "            label = f\"{feature_type}_{i}\"\n",
    "            v.shape.add_sphere(loc, color, sphere_radius, label)\n",
    "    return v"
   ]
  },
  {
   "cell_type": "code",
   "execution_count": 165,
   "metadata": {},
   "outputs": [
    {
     "name": "stdout",
     "output_type": "stream",
     "text": [
      "Number of donors in all ligands: 21\n"
     ]
    },
    {
     "data": {
      "application/vnd.jupyter.widget-view+json": {
       "model_id": "acf7e0b4413d4c5f9f6b5173afb025c0",
       "version_major": 2,
       "version_minor": 0
      },
      "text/plain": [
       "NGLWidget()"
      ]
     },
     "metadata": {},
     "output_type": "display_data"
    }
   ],
   "source": [
    "# Hydrogen bond donors\n",
    "feature_type = \"donors\"\n",
    "v = visualize_features(mols, feature_type, features[feature_type], feature_colors[feature_type])\n",
    "v"
   ]
  },
  {
   "cell_type": "code",
   "execution_count": 84,
   "metadata": {},
   "outputs": [
    {
     "data": {
      "text/plain": [
       "(Image(value=b'', width='99%'),)"
      ]
     },
     "execution_count": 84,
     "metadata": {},
     "output_type": "execute_result"
    }
   ],
   "source": [
    "v.render_image(),"
   ]
  },
  {
   "cell_type": "code",
   "execution_count": 85,
   "metadata": {},
   "outputs": [
    {
     "data": {
      "image/png": "\n",
      "text/plain": [
       "<IPython.core.display.Image object>"
      ]
     },
     "execution_count": 85,
     "metadata": {},
     "output_type": "execute_result"
    }
   ],
   "source": [
    "v._display_image()"
   ]
  },
  {
   "cell_type": "code",
   "execution_count": 166,
   "metadata": {},
   "outputs": [
    {
     "name": "stdout",
     "output_type": "stream",
     "text": [
      "Number of acceptors in all ligands: 17\n"
     ]
    },
    {
     "data": {
      "application/vnd.jupyter.widget-view+json": {
       "model_id": "03ea5249661b49bead203b9a55dcb226",
       "version_major": 2,
       "version_minor": 0
      },
      "text/plain": [
       "NGLWidget()"
      ]
     },
     "metadata": {},
     "output_type": "display_data"
    }
   ],
   "source": [
    "# Hydrogen bond acceptors\n",
    "feature_type = \"acceptors\"\n",
    "v = visualize_features(mols, feature_type, features[feature_type], feature_colors[feature_type])\n",
    "v"
   ]
  },
  {
   "cell_type": "code",
   "execution_count": 87,
   "metadata": {},
   "outputs": [
    {
     "data": {
      "text/plain": [
       "(Image(value=b'', width='99%'),)"
      ]
     },
     "execution_count": 87,
     "metadata": {},
     "output_type": "execute_result"
    }
   ],
   "source": [
    "v.render_image(),"
   ]
  },
  {
   "cell_type": "code",
   "execution_count": 88,
   "metadata": {},
   "outputs": [
    {
     "data": {
      "image/png": "\n",
      "text/plain": [
       "<IPython.core.display.Image object>"
      ]
     },
     "execution_count": 88,
     "metadata": {},
     "output_type": "execute_result"
    }
   ],
   "source": [
    "v._display_image()"
   ]
  },
  {
   "cell_type": "code",
   "execution_count": 167,
   "metadata": {},
   "outputs": [
    {
     "name": "stdout",
     "output_type": "stream",
     "text": [
      "Number of hydrophobics in all ligands: 12\n"
     ]
    },
    {
     "data": {
      "application/vnd.jupyter.widget-view+json": {
       "model_id": "14a24533edb046658aff3d9ca55c658a",
       "version_major": 2,
       "version_minor": 0
      },
      "text/plain": [
       "NGLWidget()"
      ]
     },
     "metadata": {},
     "output_type": "display_data"
    }
   ],
   "source": [
    "# Hyrophobic contacts\n",
    "feature_type = \"hydrophobics\"\n",
    "v = visualize_features(mols, feature_type, features[feature_type], feature_colors[feature_type])\n",
    "v"
   ]
  },
  {
   "cell_type": "code",
   "execution_count": 90,
   "metadata": {},
   "outputs": [
    {
     "data": {
      "text/plain": [
       "(Image(value=b'', width='99%'),)"
      ]
     },
     "execution_count": 90,
     "metadata": {},
     "output_type": "execute_result"
    }
   ],
   "source": [
    "v.render_image(),"
   ]
  },
  {
   "cell_type": "code",
   "execution_count": 91,
   "metadata": {},
   "outputs": [
    {
     "data": {
      "image/png": "\n",
      "text/plain": [
       "<IPython.core.display.Image object>"
      ]
     },
     "execution_count": 91,
     "metadata": {},
     "output_type": "execute_result"
    }
   ],
   "source": [
    "v._display_image()"
   ]
  },
  {
   "cell_type": "markdown",
   "metadata": {},
   "source": [
    "#### Collect coordinates of features per feature type"
   ]
  },
  {
   "cell_type": "code",
   "execution_count": 168,
   "metadata": {},
   "outputs": [],
   "source": [
    "features_coord = {\"donors\": [list(item.GetPos()) for sublist in features[\"donors\"] for item in sublist],\n",
    "                  \"acceptors\": [list(item.GetPos()) for sublist in features[\"acceptors\"] for item in sublist],\n",
    "                  \"hydrophobics\": [list(item.GetPos()) for sublist in features[\"hydrophobics\"] for item in sublist]}"
   ]
  },
  {
   "cell_type": "code",
   "execution_count": 169,
   "metadata": {},
   "outputs": [
    {
     "data": {
      "text/plain": [
       "[[27.805, -18.851, 5.953],\n",
       " [29.987, -24.84, 1.657],\n",
       " [32.311, -23.449, 4.857],\n",
       " [35.303, -30.305, 7.995],\n",
       " [33.303, -31.287, 6.967],\n",
       " [38.317, -35.171, 5.355],\n",
       " [39.848, -33.532, 3.839],\n",
       " [38.9, -30.78, 3.13],\n",
       " [37.702, -28.4, 2.208],\n",
       " [35.291, -26.222, 1.738],\n",
       " [29.742, -24.604, 1.841],\n",
       " [27.132, -19.248, 3.635],\n",
       " [23.775, -23.053, 1.24],\n",
       " [19.414, -22.824, 0.525],\n",
       " [23.836, -21.745, -0.532],\n",
       " [26.439, -19.746, -0.054],\n",
       " [24.919, -19.774, 1.783]]"
      ]
     },
     "execution_count": 169,
     "metadata": {},
     "output_type": "execute_result"
    }
   ],
   "source": [
    "features_coord[\"acceptors\"]"
   ]
  },
  {
   "cell_type": "markdown",
   "metadata": {},
   "source": [
    "#### Generate ensemble pharmacophores"
   ]
  },
  {
   "cell_type": "code",
   "execution_count": 94,
   "metadata": {},
   "outputs": [],
   "source": [
    "# set static parameters for kmeans clustering\n",
    "# k quotient (kq) used to determine k in k-means: k = number of feature points / kq\n",
    "# kq should be selected so that k (feature clusters) is for all clusters at least 1 and not larger than 4-5 clusters\n",
    "kq = 7"
   ]
  },
  {
   "cell_type": "code",
   "execution_count": 95,
   "metadata": {},
   "outputs": [],
   "source": [
    "# Threshold for clustering: number = percentage of threshold value\n",
    "min_cluster_size = int(len(mols) * 0.75)\n",
    "\n",
    "# Show only top features\n",
    "top_cluster_number = 4"
   ]
  },
  {
   "cell_type": "code",
   "execution_count": 96,
   "metadata": {},
   "outputs": [],
   "source": [
    "# Define k-means clustering and cluster selection functions \n",
    "def clustering(feature_coord, kd):\n",
    "    '''\n",
    "    This functions computes the k-means clustering of input feature coordinates.\n",
    "    '''\n",
    "    \n",
    "    # Define parameter k as feature number divided by \"k quotient\"\n",
    "    k = math.ceil(len(feature_coord) / kq)\n",
    "    k = 2 if k == 1 else k  # Tailor-made adaption of k for hydrophobics in for the example in this talktorial\n",
    "    print('Clustering: \\nVariable k in k-means: %d of %d points\\n'%(k, len(feature_coord)))\n",
    "    \n",
    "    # Initialize of k-means\n",
    "    k_means = cluster.KMeans(n_clusters=k)\n",
    "    \n",
    "    # Compute the k-means clustering\n",
    "    k_means.fit(feature_coord)\n",
    "    \n",
    "    # Return the clusters\n",
    "    return k_means"
   ]
  },
  {
   "cell_type": "code",
   "execution_count": 97,
   "metadata": {},
   "outputs": [],
   "source": [
    "def get_clusters(k_means, min_cluster_size, top_cluster_number):\n",
    "    '''\n",
    "    This function retrieves information on a input k-means clustering:\n",
    "    * gets cluster label for each feature\n",
    "    * counts cluster sizes and sort cluster indices by cluster size\n",
    "    * selects clusters based on size\n",
    "    * returns selected cluster indices\n",
    "    '''\n",
    "    \n",
    "    # Sort clusters by size and only show largest\n",
    "    feature_labels = k_means.labels_\n",
    "    print('Cluster labels for all features: \\n%s\\n'% feature_labels)\n",
    "\n",
    "    feature_labels_count = Counter(feature_labels)\n",
    "    print('Cluster label counter: \\n%s\\n'% feature_labels_count)\n",
    "\n",
    "    feature_labels_count = sorted(feature_labels_count.items(), \n",
    "                                  key=operator.itemgetter(1), \n",
    "                                  reverse=True)\n",
    "    print('Sorted cluster label counters: \\n%s\\n'% feature_labels_count)\n",
    "\n",
    "    # Get number of the largest clusters, which are larger then the threshold (selected clusters)\n",
    "    cluster_indices_sel = []\n",
    "    \n",
    "    for cluster_index, cluster_size in feature_labels_count:  # feature_labels_count = list of (cluster_index, cluster_size)\n",
    "        if cluster_size >= min_cluster_size and top_cluster_number > 0:\n",
    "            cluster_indices_sel.append(cluster_index)\n",
    "            top_cluster_number -= 1\n",
    "            \n",
    "    print('Cluster indices of selected clusters: \\n%s\\n'% cluster_indices_sel)\n",
    "    \n",
    "    return cluster_indices_sel"
   ]
  },
  {
   "cell_type": "code",
   "execution_count": 98,
   "metadata": {},
   "outputs": [
    {
     "name": "stdout",
     "output_type": "stream",
     "text": [
      "Clustering: \n",
      "Variable k in k-means: 3 of 21 points\n",
      "\n",
      "Clustering: \n",
      "Variable k in k-means: 3 of 17 points\n",
      "\n",
      "Clustering: \n",
      "Variable k in k-means: 2 of 12 points\n",
      "\n"
     ]
    }
   ],
   "source": [
    "# Cluster features\n",
    "k_means = {\"donors\": clustering(features_coord[\"donors\"], kq), \n",
    "           \"acceptors\": clustering(features_coord[\"acceptors\"], kq),\n",
    "           \"hydrophobics\": clustering(features_coord[\"hydrophobics\"], kq)}"
   ]
  },
  {
   "cell_type": "code",
   "execution_count": 99,
   "metadata": {},
   "outputs": [
    {
     "name": "stdout",
     "output_type": "stream",
     "text": [
      "Hydrogen bond donors\n",
      "\n",
      "Cluster labels for all features: \n",
      "[2 0 0 0 0 1 1 1 0 0 0 2 0 0 0 2 2 2 2 2 2]\n",
      "\n",
      "Cluster label counter: \n",
      "Counter({0: 10, 2: 8, 1: 3})\n",
      "\n",
      "Sorted cluster label counters: \n",
      "[(0, 10), (2, 8), (1, 3)]\n",
      "\n",
      "Cluster indices of selected clusters: \n",
      "[0, 2, 1]\n",
      "\n",
      "Hydrogen bond acceptors\n",
      "\n",
      "Cluster labels for all features: \n",
      "[1 0 0 2 2 2 2 2 2 0 0 1 1 1 1 1 1]\n",
      "\n",
      "Cluster label counter: \n",
      "Counter({1: 7, 2: 6, 0: 4})\n",
      "\n",
      "Sorted cluster label counters: \n",
      "[(1, 7), (2, 6), (0, 4)]\n",
      "\n",
      "Cluster indices of selected clusters: \n",
      "[1, 2, 0]\n",
      "\n",
      "Hydrophobic contacts\n",
      "\n",
      "Cluster labels for all features: \n",
      "[0 0 0 0 1 1 1 0 0 0 0 0]\n",
      "\n",
      "Cluster label counter: \n",
      "Counter({0: 9, 1: 3})\n",
      "\n",
      "Sorted cluster label counters: \n",
      "[(0, 9), (1, 3)]\n",
      "\n",
      "Cluster indices of selected clusters: \n",
      "[0, 1]\n",
      "\n"
     ]
    }
   ],
   "source": [
    "# Select relevant clusters\n",
    "print(\"Hydrogen bond donors\\n\")\n",
    "cluster_indices_sel_don = get_clusters(k_means[\"donors\"], min_cluster_size, top_cluster_number)\n",
    "print(\"Hydrogen bond acceptors\\n\")\n",
    "cluster_indices_sel_acc = get_clusters(k_means[\"acceptors\"], min_cluster_size, top_cluster_number)\n",
    "print(\"Hydrophobic contacts\\n\")\n",
    "cluster_indices_sel_h = get_clusters(k_means[\"hydrophobics\"], min_cluster_size, top_cluster_number)"
   ]
  },
  {
   "cell_type": "code",
   "execution_count": 100,
   "metadata": {},
   "outputs": [],
   "source": [
    "cluster_indices_sel = {\"donors\": cluster_indices_sel_don, \n",
    "                       \"acceptors\": cluster_indices_sel_acc, \n",
    "                       \"hydrophobics\": cluster_indices_sel_h}"
   ]
  },
  {
   "cell_type": "code",
   "execution_count": 101,
   "metadata": {},
   "outputs": [],
   "source": [
    "# get cluster coordinates\n",
    "def get_selected_cluster_center_coords(k_means, cluster_indices_sel, feature_type):\n",
    "    '''\n",
    "    This function retrieves cluster center coordinates for selected clusters (by their indices).\n",
    "    '''\n",
    "    \n",
    "    # Get cluster centers for a certain feature type\n",
    "    cluster_centers = k_means[feature_type].cluster_centers_\n",
    "    \n",
    "    # Cast to list and then to pandas Series (for element selection by indices)\n",
    "    cluster_centers = pd.Series(cluster_centers.tolist())\n",
    "    \n",
    "    # Select cluster centers by indices of selected clusters\n",
    "    cluster_centers_sel = cluster_centers[cluster_indices_sel[feature_type]]\n",
    "    \n",
    "    # Cast to list and return\n",
    "    return list(cluster_centers_sel)"
   ]
  },
  {
   "cell_type": "code",
   "execution_count": 102,
   "metadata": {},
   "outputs": [
    {
     "data": {
      "text/plain": [
       "[[24.76, -20.748714285714286, 1.7928571428571427],\n",
       " [37.228833333333334, -31.579166666666666, 4.915666666666667],\n",
       " [31.832749999999997, -24.778750000000002, 2.52325]]"
      ]
     },
     "execution_count": 102,
     "metadata": {},
     "output_type": "execute_result"
    }
   ],
   "source": [
    "cluster_centers_sel = {\"donors\": get_selected_cluster_center_coords(k_means, cluster_indices_sel, \"donors\"),\n",
    "                       \"acceptors\": get_selected_cluster_center_coords(k_means, cluster_indices_sel, \"acceptors\"),\n",
    "                       \"hydrophobics\": get_selected_cluster_center_coords(k_means, cluster_indices_sel, \"hydrophobics\")}\n",
    "cluster_centers_sel[\"acceptors\"]"
   ]
  },
  {
   "cell_type": "markdown",
   "metadata": {},
   "source": [
    "#### Show clusters"
   ]
  },
  {
   "cell_type": "code",
   "execution_count": 103,
   "metadata": {},
   "outputs": [],
   "source": [
    "def visualize_clusters(molecules, feature_type, features, clusters, \n",
    "                       color=\"yellow\", feature_radius=0.5, cluster_radius=1):\n",
    "    v = visualize_features(molecules, feature_type, features, color=color, sphere_radius=feature_radius)\n",
    "    for i, center in enumerate(clusters, 1):\n",
    "        v.shape.add_sphere(list(center), color, cluster_radius, f\"cluster_{feature_type}_{i}\")\n",
    "    return v"
   ]
  },
  {
   "cell_type": "code",
   "execution_count": 104,
   "metadata": {},
   "outputs": [
    {
     "name": "stdout",
     "output_type": "stream",
     "text": [
      "Number of donors in all ligands: 21\n"
     ]
    },
    {
     "data": {
      "application/vnd.jupyter.widget-view+json": {
       "model_id": "84bf6003e74d48ff826d9c7e286daa1b",
       "version_major": 2,
       "version_minor": 0
      },
      "text/plain": [
       "NGLWidget()"
      ]
     },
     "metadata": {},
     "output_type": "display_data"
    }
   ],
   "source": [
    "# Hydrogen bond donors\n",
    "feature_type = \"donors\"\n",
    "v = visualize_clusters(mols, feature_type, features[feature_type], \n",
    "                   cluster_centers_sel[feature_type], \n",
    "                   feature_colors[feature_type])\n",
    "v"
   ]
  },
  {
   "cell_type": "code",
   "execution_count": 105,
   "metadata": {},
   "outputs": [
    {
     "data": {
      "text/plain": [
       "(Image(value=b'', width='99%'),)"
      ]
     },
     "execution_count": 105,
     "metadata": {},
     "output_type": "execute_result"
    }
   ],
   "source": [
    "v.render_image(),"
   ]
  },
  {
   "cell_type": "code",
   "execution_count": 106,
   "metadata": {},
   "outputs": [
    {
     "data": {
      "image/png": "\n",
      "text/plain": [
       "<IPython.core.display.Image object>"
      ]
     },
     "execution_count": 106,
     "metadata": {},
     "output_type": "execute_result"
    }
   ],
   "source": [
    "v._display_image()"
   ]
  },
  {
   "cell_type": "code",
   "execution_count": 107,
   "metadata": {},
   "outputs": [
    {
     "name": "stdout",
     "output_type": "stream",
     "text": [
      "Number of acceptors in all ligands: 17\n"
     ]
    },
    {
     "data": {
      "application/vnd.jupyter.widget-view+json": {
       "model_id": "dd8225a086e74d8eb7d4d7e48abb679c",
       "version_major": 2,
       "version_minor": 0
      },
      "text/plain": [
       "NGLWidget()"
      ]
     },
     "metadata": {},
     "output_type": "display_data"
    }
   ],
   "source": [
    "# Hydrogen bond acceptor\n",
    "feature_type = \"acceptors\"\n",
    "v = visualize_clusters(mols, feature_type, features[feature_type], \n",
    "                   cluster_centers_sel[feature_type],  \n",
    "                   feature_colors[feature_type])\n",
    "v"
   ]
  },
  {
   "cell_type": "code",
   "execution_count": 108,
   "metadata": {},
   "outputs": [
    {
     "data": {
      "text/plain": [
       "(Image(value=b'', width='99%'),)"
      ]
     },
     "execution_count": 108,
     "metadata": {},
     "output_type": "execute_result"
    }
   ],
   "source": [
    "v.render_image(),"
   ]
  },
  {
   "cell_type": "code",
   "execution_count": 109,
   "metadata": {},
   "outputs": [
    {
     "data": {
      "image/png": "\n",
      "text/plain": [
       "<IPython.core.display.Image object>"
      ]
     },
     "execution_count": 109,
     "metadata": {},
     "output_type": "execute_result"
    }
   ],
   "source": [
    "v._display_image()"
   ]
  },
  {
   "cell_type": "code",
   "execution_count": 110,
   "metadata": {},
   "outputs": [
    {
     "name": "stdout",
     "output_type": "stream",
     "text": [
      "Number of hydrophobics in all ligands: 12\n"
     ]
    },
    {
     "data": {
      "application/vnd.jupyter.widget-view+json": {
       "model_id": "33d0dd21e38e40919cb364ba57e74021",
       "version_major": 2,
       "version_minor": 0
      },
      "text/plain": [
       "NGLWidget()"
      ]
     },
     "metadata": {},
     "output_type": "display_data"
    }
   ],
   "source": [
    "# Hydrophobic contacts\n",
    "feature_type = \"hydrophobics\"\n",
    "v = visualize_clusters(mols, feature_type, features[feature_type], \n",
    "                   cluster_centers_sel[feature_type], \n",
    "                   feature_colors[feature_type])\n",
    "v"
   ]
  },
  {
   "cell_type": "code",
   "execution_count": 111,
   "metadata": {},
   "outputs": [
    {
     "data": {
      "text/plain": [
       "(Image(value=b'', width='99%'),)"
      ]
     },
     "execution_count": 111,
     "metadata": {},
     "output_type": "execute_result"
    }
   ],
   "source": [
    "v.render_image(),"
   ]
  },
  {
   "cell_type": "code",
   "execution_count": 112,
   "metadata": {},
   "outputs": [
    {
     "data": {
      "image/png": "\n",
      "text/plain": [
       "<IPython.core.display.Image object>"
      ]
     },
     "execution_count": 112,
     "metadata": {},
     "output_type": "execute_result"
    }
   ],
   "source": [
    "v._display_image()"
   ]
  },
  {
   "cell_type": "markdown",
   "metadata": {},
   "source": [
    "#### Show ensemble pharmacophore"
   ]
  },
  {
   "cell_type": "code",
   "execution_count": 113,
   "metadata": {},
   "outputs": [
    {
     "data": {
      "application/vnd.jupyter.widget-view+json": {
       "model_id": "4cb1b6fb6c584e04b3eb2dfcf57b6a01",
       "version_major": 2,
       "version_minor": 0
      },
      "text/plain": [
       "NGLWidget()"
      ]
     },
     "metadata": {},
     "output_type": "display_data"
    }
   ],
   "source": [
    "v = show_ligands(mols)\n",
    "# Load clusters\n",
    "for feature_type in cluster_indices_sel.keys():\n",
    "    centers = cluster_centers_sel[feature_type]\n",
    "    for i, loc in enumerate(centers):\n",
    "        sphere_radius = 1\n",
    "        feature_color = feature_colors[feature_type]\n",
    "        label = f\"{feature_type}_c{i}\"\n",
    "        v.shape.add_sphere(loc, feature_color, sphere_radius, label)\n",
    "v"
   ]
  },
  {
   "cell_type": "code",
   "execution_count": 114,
   "metadata": {},
   "outputs": [
    {
     "data": {
      "text/plain": [
       "(Image(value=b'', width='99%'),)"
      ]
     },
     "execution_count": 114,
     "metadata": {},
     "output_type": "execute_result"
    }
   ],
   "source": [
    "v.render_image(),"
   ]
  },
  {
   "cell_type": "code",
   "execution_count": 115,
   "metadata": {},
   "outputs": [
    {
     "data": {
      "image/png": "\n",
      "text/plain": [
       "<IPython.core.display.Image object>"
      ]
     },
     "execution_count": 115,
     "metadata": {},
     "output_type": "execute_result"
    }
   ],
   "source": [
    "v._display_image()"
   ]
  },
  {
   "cell_type": "markdown",
   "metadata": {},
   "source": [
    "## perform the screening, i.e. apply the hypothesis on a set of compounds (Exercise 1 and 2)"
   ]
  },
  {
   "cell_type": "markdown",
   "metadata": {},
   "source": [
    "I still don't get how this works now, I know that I found some properties of the ligands and that I need to search for these properties in the compounds to find possible ideas for a new drug.\n",
    "\n",
    "I also did use talktorial 4 to use what I got also on the compounds but I do not see how this now combines my results from talktorial 9.\n",
    "\n",
    "So I changed everywhere the data to my protein (also in your code used here above) but still I don't think that I got that right."
   ]
  },
  {
   "cell_type": "markdown",
   "metadata": {},
   "source": [
    "### According to talktorial 4 I decided to use the first of the extracted ligands to search in the compounds: \n",
    "It is Neutrophil elastase inhibitors for the treatment of (cardio)pulmonary diseases"
   ]
  },
  {
   "cell_type": "code",
   "execution_count": 69,
   "metadata": {},
   "outputs": [],
   "source": [
    "query_comp = 'CC1NOC(C)C1C1CC(C(O)NCC2CCC(S(C)(O)O)CC2)C(O)N(C2CCCC(Cl)C2)C1C'"
   ]
  },
  {
   "cell_type": "code",
   "execution_count": 73,
   "metadata": {},
   "outputs": [],
   "source": [
    "# Import relevant Python packages\n",
    "# The majority of the basic molecular functionality is found in module rdkit.Chem\n",
    "from rdkit import Chem\n",
    "# Drawing related\n",
    "from rdkit.Chem.Draw import IPythonConsole\n",
    "from rdkit.Chem import Draw\n",
    "from rdkit.Chem import Descriptors\n",
    "from rdkit.Chem import AllChem\n",
    "from rdkit.Chem import MACCSkeys\n",
    "from rdkit.Chem import rdFingerprintGenerator\n",
    "from rdkit import DataStructs\n",
    "\n",
    "import math\n",
    "import numpy as np\n",
    "import pandas as pd\n",
    "from rdkit.Chem import PandasTools\n",
    "import matplotlib.pyplot as plt"
   ]
  },
  {
   "cell_type": "code",
   "execution_count": 74,
   "metadata": {
    "scrolled": true
   },
   "outputs": [
    {
     "data": {
      "text/html": [
       "<div>\n",
       "<style scoped>\n",
       "    .dataframe tbody tr th:only-of-type {\n",
       "        vertical-align: middle;\n",
       "    }\n",
       "\n",
       "    .dataframe tbody tr th {\n",
       "        vertical-align: top;\n",
       "    }\n",
       "\n",
       "    .dataframe thead th {\n",
       "        text-align: right;\n",
       "    }\n",
       "</style>\n",
       "<table border=\"1\" class=\"dataframe\">\n",
       "  <thead>\n",
       "    <tr style=\"text-align: right;\">\n",
       "      <th></th>\n",
       "      <th>molecule_chembl_id</th>\n",
       "      <th>smiles</th>\n",
       "      <th>pIC50</th>\n",
       "    </tr>\n",
       "  </thead>\n",
       "  <tbody>\n",
       "    <tr>\n",
       "      <th>0</th>\n",
       "      <td>CHEMBL2367667</td>\n",
       "      <td>C=CC[C@H]1C(=O)N(S(=O)(=O)c2ccc3ccccc3c2)[C@H]...</td>\n",
       "      <td>10.443697</td>\n",
       "    </tr>\n",
       "    <tr>\n",
       "      <th>1</th>\n",
       "      <td>CHEMBL3617973</td>\n",
       "      <td>CC1=C(C#N)[C@@H](c2ccc(C#N)cc2S(C)(=O)=O)N(C)C...</td>\n",
       "      <td>10.187087</td>\n",
       "    </tr>\n",
       "    <tr>\n",
       "      <th>2</th>\n",
       "      <td>CHEMBL293138</td>\n",
       "      <td>CC(SC(=O)c1cccs1)C(=O)NCC(=O)N1CSCC1C(=O)O</td>\n",
       "      <td>10.000000</td>\n",
       "    </tr>\n",
       "    <tr>\n",
       "      <th>3</th>\n",
       "      <td>CHEMBL3617966</td>\n",
       "      <td>CNC(=O)c1cc(-c2ccnn2-c2ccc(C#N)cc2)c(C)n(-c2cc...</td>\n",
       "      <td>9.677781</td>\n",
       "    </tr>\n",
       "    <tr>\n",
       "      <th>4</th>\n",
       "      <td>CHEMBL4110495</td>\n",
       "      <td>[C-]#[N+]C1=C(C)N(c2cccc(C(F)(F)F)c2)C(=O)N[C@...</td>\n",
       "      <td>9.522879</td>\n",
       "    </tr>\n",
       "  </tbody>\n",
       "</table>\n",
       "</div>"
      ],
      "text/plain": [
       "  molecule_chembl_id                                             smiles  \\\n",
       "0      CHEMBL2367667  C=CC[C@H]1C(=O)N(S(=O)(=O)c2ccc3ccccc3c2)[C@H]...   \n",
       "1      CHEMBL3617973  CC1=C(C#N)[C@@H](c2ccc(C#N)cc2S(C)(=O)=O)N(C)C...   \n",
       "2       CHEMBL293138         CC(SC(=O)c1cccs1)C(=O)NCC(=O)N1CSCC1C(=O)O   \n",
       "3      CHEMBL3617966  CNC(=O)c1cc(-c2ccnn2-c2ccc(C#N)cc2)c(C)n(-c2cc...   \n",
       "4      CHEMBL4110495  [C-]#[N+]C1=C(C)N(c2cccc(C(F)(F)F)c2)C(=O)N[C@...   \n",
       "\n",
       "       pIC50  \n",
       "0  10.443697  \n",
       "1  10.187087  \n",
       "2  10.000000  \n",
       "3   9.677781  \n",
       "4   9.522879  "
      ]
     },
     "execution_count": 74,
     "metadata": {},
     "output_type": "execute_result"
    }
   ],
   "source": [
    "# Import data from csv file containing compounds in SMILES format\n",
    "filtered_df = pd.read_csv('data/EGFR_compounds_lipinski.csv', delimiter=';', usecols=['molecule_chembl_id', 'smiles', 'pIC50'])\n",
    "filtered_df.head() "
   ]
  },
  {
   "cell_type": "code",
   "execution_count": 75,
   "metadata": {},
   "outputs": [
    {
     "data": {
      "image/png": "[encoded data removed]",
      "image/svg+xml": [
       "<?xml version='1.0' encoding='iso-8859-1'?>\n",
       "<svg version='1.1' baseProfile='full'\n",
       "              xmlns='http://www.w3.org/2000/svg'\n",
       "                      xmlns:rdkit='http://www.rdkit.org/xml'\n",
       "                      xmlns:xlink='http://www.w3.org/1999/xlink'\n",
       "                  xml:space='preserve'\n",
       "width='450px' height='150px' viewBox='0 0 450 150'>\n",
       "<!-- END OF HEADER -->\n",
       "<rect style='opacity:1.0;fill:#FFFFFF;stroke:none' width='450' height='150' x='0' y='0'> </rect>\n",
       "<path class='bond-0' d='M 153.861,114.7 L 175.99,119.346' style='fill:none;fill-rule:evenodd;stroke:#000000;stroke-width:2.0px;stroke-linecap:butt;stroke-linejoin:miter;stroke-opacity:1' />\n",
       "<path class='bond-1' d='M 175.99,119.346 L 179.77,127.78' style='fill:none;fill-rule:evenodd;stroke:#000000;stroke-width:2.0px;stroke-linecap:butt;stroke-linejoin:miter;stroke-opacity:1' />\n",
       "<path class='bond-1' d='M 179.77,127.78 L 183.55,136.213' style='fill:none;fill-rule:evenodd;stroke:#0000FF;stroke-width:2.0px;stroke-linecap:butt;stroke-linejoin:miter;stroke-opacity:1' />\n",
       "<path class='bond-35' d='M 175.99,119.346 L 192.756,104.174' style='fill:none;fill-rule:evenodd;stroke:#000000;stroke-width:2.0px;stroke-linecap:butt;stroke-linejoin:miter;stroke-opacity:1' />\n",
       "<path class='bond-2' d='M 188.232,139.658 L 196.261,138.794' style='fill:none;fill-rule:evenodd;stroke:#0000FF;stroke-width:2.0px;stroke-linecap:butt;stroke-linejoin:miter;stroke-opacity:1' />\n",
       "<path class='bond-2' d='M 196.261,138.794 L 204.291,137.93' style='fill:none;fill-rule:evenodd;stroke:#FF0000;stroke-width:2.0px;stroke-linecap:butt;stroke-linejoin:miter;stroke-opacity:1' />\n",
       "<path class='bond-3' d='M 208.519,133.757 L 210.442,124.594' style='fill:none;fill-rule:evenodd;stroke:#FF0000;stroke-width:2.0px;stroke-linecap:butt;stroke-linejoin:miter;stroke-opacity:1' />\n",
       "<path class='bond-3' d='M 210.442,124.594 L 212.366,115.431' style='fill:none;fill-rule:evenodd;stroke:#000000;stroke-width:2.0px;stroke-linecap:butt;stroke-linejoin:miter;stroke-opacity:1' />\n",
       "<path class='bond-4' d='M 212.366,115.431 L 233,106.183' style='fill:none;fill-rule:evenodd;stroke:#000000;stroke-width:2.0px;stroke-linecap:butt;stroke-linejoin:miter;stroke-opacity:1' />\n",
       "<path class='bond-5' d='M 212.366,115.431 L 192.756,104.174' style='fill:none;fill-rule:evenodd;stroke:#000000;stroke-width:2.0px;stroke-linecap:butt;stroke-linejoin:miter;stroke-opacity:1' />\n",
       "<path class='bond-6' d='M 192.756,104.174 L 190.336,81.6924' style='fill:none;fill-rule:evenodd;stroke:#000000;stroke-width:2.0px;stroke-linecap:butt;stroke-linejoin:miter;stroke-opacity:1' />\n",
       "<path class='bond-7' d='M 190.336,81.6924 L 208.596,68.3561' style='fill:none;fill-rule:evenodd;stroke:#000000;stroke-width:2.0px;stroke-linecap:butt;stroke-linejoin:miter;stroke-opacity:1' />\n",
       "<path class='bond-36' d='M 190.336,81.6924 L 169.657,72.5469' style='fill:none;fill-rule:evenodd;stroke:#000000;stroke-width:2.0px;stroke-linecap:butt;stroke-linejoin:miter;stroke-opacity:1' />\n",
       "<path class='bond-8' d='M 208.596,68.3561 L 206.177,45.8743' style='fill:none;fill-rule:evenodd;stroke:#000000;stroke-width:2.0px;stroke-linecap:butt;stroke-linejoin:miter;stroke-opacity:1' />\n",
       "<path class='bond-9' d='M 206.177,45.8743 L 224.437,32.538' style='fill:none;fill-rule:evenodd;stroke:#000000;stroke-width:2.0px;stroke-linecap:butt;stroke-linejoin:miter;stroke-opacity:1' />\n",
       "<path class='bond-23' d='M 206.177,45.8743 L 185.497,36.7288' style='fill:none;fill-rule:evenodd;stroke:#000000;stroke-width:2.0px;stroke-linecap:butt;stroke-linejoin:miter;stroke-opacity:1' />\n",
       "<path class='bond-10' d='M 224.437,32.538 L 223.437,23.2485' style='fill:none;fill-rule:evenodd;stroke:#000000;stroke-width:2.0px;stroke-linecap:butt;stroke-linejoin:miter;stroke-opacity:1' />\n",
       "<path class='bond-10' d='M 223.437,23.2485 L 222.437,13.9589' style='fill:none;fill-rule:evenodd;stroke:#FF0000;stroke-width:2.0px;stroke-linecap:butt;stroke-linejoin:miter;stroke-opacity:1' />\n",
       "<path class='bond-11' d='M 224.437,32.538 L 233.28,36.4487' style='fill:none;fill-rule:evenodd;stroke:#000000;stroke-width:2.0px;stroke-linecap:butt;stroke-linejoin:miter;stroke-opacity:1' />\n",
       "<path class='bond-11' d='M 233.28,36.4487 L 242.123,40.3595' style='fill:none;fill-rule:evenodd;stroke:#0000FF;stroke-width:2.0px;stroke-linecap:butt;stroke-linejoin:miter;stroke-opacity:1' />\n",
       "<path class='bond-12' d='M 248.11,39.497 L 255.743,33.9221' style='fill:none;fill-rule:evenodd;stroke:#0000FF;stroke-width:2.0px;stroke-linecap:butt;stroke-linejoin:miter;stroke-opacity:1' />\n",
       "<path class='bond-12' d='M 255.743,33.9221 L 263.376,28.3472' style='fill:none;fill-rule:evenodd;stroke:#000000;stroke-width:2.0px;stroke-linecap:butt;stroke-linejoin:miter;stroke-opacity:1' />\n",
       "<path class='bond-13' d='M 263.376,28.3472 L 284.056,37.4927' style='fill:none;fill-rule:evenodd;stroke:#000000;stroke-width:2.0px;stroke-linecap:butt;stroke-linejoin:miter;stroke-opacity:1' />\n",
       "<path class='bond-14' d='M 284.056,37.4927 L 286.476,59.9745' style='fill:none;fill-rule:evenodd;stroke:#000000;stroke-width:2.0px;stroke-linecap:butt;stroke-linejoin:miter;stroke-opacity:1' />\n",
       "<path class='bond-37' d='M 284.056,37.4927 L 302.316,24.1563' style='fill:none;fill-rule:evenodd;stroke:#000000;stroke-width:2.0px;stroke-linecap:butt;stroke-linejoin:miter;stroke-opacity:1' />\n",
       "<path class='bond-15' d='M 286.476,59.9745 L 307.155,69.12' style='fill:none;fill-rule:evenodd;stroke:#000000;stroke-width:2.0px;stroke-linecap:butt;stroke-linejoin:miter;stroke-opacity:1' />\n",
       "<path class='bond-16' d='M 307.155,69.12 L 325.415,55.7837' style='fill:none;fill-rule:evenodd;stroke:#000000;stroke-width:2.0px;stroke-linecap:butt;stroke-linejoin:miter;stroke-opacity:1' />\n",
       "<path class='bond-17' d='M 325.415,55.7837 L 334.446,59.7774' style='fill:none;fill-rule:evenodd;stroke:#000000;stroke-width:2.0px;stroke-linecap:butt;stroke-linejoin:miter;stroke-opacity:1' />\n",
       "<path class='bond-17' d='M 334.446,59.7774 L 343.476,63.7712' style='fill:none;fill-rule:evenodd;stroke:#CCCC00;stroke-width:2.0px;stroke-linecap:butt;stroke-linejoin:miter;stroke-opacity:1' />\n",
       "<path class='bond-21' d='M 325.415,55.7837 L 322.996,33.3018' style='fill:none;fill-rule:evenodd;stroke:#000000;stroke-width:2.0px;stroke-linecap:butt;stroke-linejoin:miter;stroke-opacity:1' />\n",
       "<path class='bond-18' d='M 348.713,66.0872 L 357.744,70.0809' style='fill:none;fill-rule:evenodd;stroke:#CCCC00;stroke-width:2.0px;stroke-linecap:butt;stroke-linejoin:miter;stroke-opacity:1' />\n",
       "<path class='bond-18' d='M 357.744,70.0809 L 366.774,74.0747' style='fill:none;fill-rule:evenodd;stroke:#000000;stroke-width:2.0px;stroke-linecap:butt;stroke-linejoin:miter;stroke-opacity:1' />\n",
       "<path class='bond-19' d='M 347.757,61.1711 L 350.658,54.6103' style='fill:none;fill-rule:evenodd;stroke:#CCCC00;stroke-width:2.0px;stroke-linecap:butt;stroke-linejoin:miter;stroke-opacity:1' />\n",
       "<path class='bond-19' d='M 350.658,54.6103 L 353.56,48.0496' style='fill:none;fill-rule:evenodd;stroke:#FF0000;stroke-width:2.0px;stroke-linecap:butt;stroke-linejoin:miter;stroke-opacity:1' />\n",
       "<path class='bond-20' d='M 344.357,68.8591 L 341.47,75.386' style='fill:none;fill-rule:evenodd;stroke:#CCCC00;stroke-width:2.0px;stroke-linecap:butt;stroke-linejoin:miter;stroke-opacity:1' />\n",
       "<path class='bond-20' d='M 341.47,75.386 L 338.584,81.9129' style='fill:none;fill-rule:evenodd;stroke:#FF0000;stroke-width:2.0px;stroke-linecap:butt;stroke-linejoin:miter;stroke-opacity:1' />\n",
       "<path class='bond-22' d='M 322.996,33.3018 L 302.316,24.1563' style='fill:none;fill-rule:evenodd;stroke:#000000;stroke-width:2.0px;stroke-linecap:butt;stroke-linejoin:miter;stroke-opacity:1' />\n",
       "<path class='bond-24' d='M 185.497,36.7288 L 184.497,27.4393' style='fill:none;fill-rule:evenodd;stroke:#000000;stroke-width:2.0px;stroke-linecap:butt;stroke-linejoin:miter;stroke-opacity:1' />\n",
       "<path class='bond-24' d='M 184.497,27.4393 L 183.498,18.1498' style='fill:none;fill-rule:evenodd;stroke:#FF0000;stroke-width:2.0px;stroke-linecap:butt;stroke-linejoin:miter;stroke-opacity:1' />\n",
       "<path class='bond-25' d='M 185.497,36.7288 L 177.864,42.3037' style='fill:none;fill-rule:evenodd;stroke:#000000;stroke-width:2.0px;stroke-linecap:butt;stroke-linejoin:miter;stroke-opacity:1' />\n",
       "<path class='bond-25' d='M 177.864,42.3037 L 170.231,47.8786' style='fill:none;fill-rule:evenodd;stroke:#0000FF;stroke-width:2.0px;stroke-linecap:butt;stroke-linejoin:miter;stroke-opacity:1' />\n",
       "<path class='bond-26' d='M 164.243,48.7411 L 155.4,44.8304' style='fill:none;fill-rule:evenodd;stroke:#0000FF;stroke-width:2.0px;stroke-linecap:butt;stroke-linejoin:miter;stroke-opacity:1' />\n",
       "<path class='bond-26' d='M 155.4,44.8304 L 146.557,40.9196' style='fill:none;fill-rule:evenodd;stroke:#000000;stroke-width:2.0px;stroke-linecap:butt;stroke-linejoin:miter;stroke-opacity:1' />\n",
       "<path class='bond-33' d='M 167.643,53.8322 L 168.65,63.1896' style='fill:none;fill-rule:evenodd;stroke:#0000FF;stroke-width:2.0px;stroke-linecap:butt;stroke-linejoin:miter;stroke-opacity:1' />\n",
       "<path class='bond-33' d='M 168.65,63.1896 L 169.657,72.5469' style='fill:none;fill-rule:evenodd;stroke:#000000;stroke-width:2.0px;stroke-linecap:butt;stroke-linejoin:miter;stroke-opacity:1' />\n",
       "<path class='bond-27' d='M 146.557,40.9196 L 144.138,18.4378' style='fill:none;fill-rule:evenodd;stroke:#000000;stroke-width:2.0px;stroke-linecap:butt;stroke-linejoin:miter;stroke-opacity:1' />\n",
       "<path class='bond-38' d='M 146.557,40.9196 L 128.297,54.256' style='fill:none;fill-rule:evenodd;stroke:#000000;stroke-width:2.0px;stroke-linecap:butt;stroke-linejoin:miter;stroke-opacity:1' />\n",
       "<path class='bond-28' d='M 144.138,18.4378 L 123.458,9.29231' style='fill:none;fill-rule:evenodd;stroke:#000000;stroke-width:2.0px;stroke-linecap:butt;stroke-linejoin:miter;stroke-opacity:1' />\n",
       "<path class='bond-29' d='M 123.458,9.29231 L 105.198,22.6286' style='fill:none;fill-rule:evenodd;stroke:#000000;stroke-width:2.0px;stroke-linecap:butt;stroke-linejoin:miter;stroke-opacity:1' />\n",
       "<path class='bond-30' d='M 105.198,22.6286 L 107.618,45.1105' style='fill:none;fill-rule:evenodd;stroke:#000000;stroke-width:2.0px;stroke-linecap:butt;stroke-linejoin:miter;stroke-opacity:1' />\n",
       "<path class='bond-31' d='M 107.618,45.1105 L 98.9785,51.4202' style='fill:none;fill-rule:evenodd;stroke:#000000;stroke-width:2.0px;stroke-linecap:butt;stroke-linejoin:miter;stroke-opacity:1' />\n",
       "<path class='bond-31' d='M 98.9785,51.4202 L 90.3391,57.73' style='fill:none;fill-rule:evenodd;stroke:#00CC00;stroke-width:2.0px;stroke-linecap:butt;stroke-linejoin:miter;stroke-opacity:1' />\n",
       "<path class='bond-32' d='M 107.618,45.1105 L 128.297,54.256' style='fill:none;fill-rule:evenodd;stroke:#000000;stroke-width:2.0px;stroke-linecap:butt;stroke-linejoin:miter;stroke-opacity:1' />\n",
       "<path class='bond-34' d='M 169.657,72.5469 L 151.397,85.8833' style='fill:none;fill-rule:evenodd;stroke:#000000;stroke-width:2.0px;stroke-linecap:butt;stroke-linejoin:miter;stroke-opacity:1' />\n",
       "<path  class='atom-2' d='M 177.048 136.778\n",
       "L 177.917 136.778\n",
       "L 177.917 139.501\n",
       "L 181.191 139.501\n",
       "L 181.191 136.778\n",
       "L 182.059 136.778\n",
       "L 182.059 143.182\n",
       "L 181.191 143.182\n",
       "L 181.191 140.224\n",
       "L 177.917 140.224\n",
       "L 177.917 143.182\n",
       "L 177.048 143.182\n",
       "L 177.048 136.778\n",
       "' fill='#0000FF'/>\n",
       "<path  class='atom-2' d='M 183.823 136.778\n",
       "L 185.921 140.17\n",
       "Q 186.129 140.505, 186.464 141.111\n",
       "Q 186.798 141.717, 186.817 141.753\n",
       "L 186.817 136.778\n",
       "L 187.667 136.778\n",
       "L 187.667 143.182\n",
       "L 186.789 143.182\n",
       "L 184.537 139.474\n",
       "Q 184.275 139.039, 183.995 138.542\n",
       "Q 183.723 138.044, 183.642 137.891\n",
       "L 183.642 143.182\n",
       "L 182.81 143.182\n",
       "L 182.81 136.778\n",
       "L 183.823 136.778\n",
       "' fill='#0000FF'/>\n",
       "<path  class='atom-3' d='M 204.781 137.579\n",
       "Q 204.781 136.041, 205.54 135.182\n",
       "Q 206.3 134.322, 207.72 134.322\n",
       "Q 209.14 134.322, 209.9 135.182\n",
       "Q 210.66 136.041, 210.66 137.579\n",
       "Q 210.66 139.134, 209.891 140.021\n",
       "Q 209.122 140.898, 207.72 140.898\n",
       "Q 206.309 140.898, 205.54 140.021\n",
       "Q 204.781 139.143, 204.781 137.579\n",
       "M 207.72 140.174\n",
       "Q 208.697 140.174, 209.222 139.523\n",
       "Q 209.755 138.863, 209.755 137.579\n",
       "Q 209.755 136.321, 209.222 135.688\n",
       "Q 208.697 135.046, 207.72 135.046\n",
       "Q 206.743 135.046, 206.21 135.679\n",
       "Q 205.685 136.312, 205.685 137.579\n",
       "Q 205.685 138.872, 206.21 139.523\n",
       "Q 206.743 140.174, 207.72 140.174\n",
       "' fill='#FF0000'/>\n",
       "<path  class='atom-11' d='M 219.078 10.0743\n",
       "Q 219.078 8.53667, 219.837 7.67742\n",
       "Q 220.597 6.81818, 222.017 6.81818\n",
       "Q 223.437 6.81818, 224.197 7.67742\n",
       "Q 224.957 8.53667, 224.957 10.0743\n",
       "Q 224.957 11.6299, 224.188 12.5163\n",
       "Q 223.419 13.3936, 222.017 13.3936\n",
       "Q 220.606 13.3936, 219.837 12.5163\n",
       "Q 219.078 11.639, 219.078 10.0743\n",
       "M 222.017 12.6701\n",
       "Q 222.994 12.6701, 223.519 12.0189\n",
       "Q 224.052 11.3586, 224.052 10.0743\n",
       "Q 224.052 8.81705, 223.519 8.18393\n",
       "Q 222.994 7.54175, 222.017 7.54175\n",
       "Q 221.04 7.54175, 220.507 8.17488\n",
       "Q 219.982 8.80801, 219.982 10.0743\n",
       "Q 219.982 11.3676, 220.507 12.0189\n",
       "Q 221.04 12.6701, 222.017 12.6701\n",
       "' fill='#FF0000'/>\n",
       "<path  class='atom-11' d='M 225.726 6.89054\n",
       "L 226.594 6.89054\n",
       "L 226.594 9.61298\n",
       "L 229.868 9.61298\n",
       "L 229.868 6.89054\n",
       "L 230.736 6.89054\n",
       "L 230.736 13.2942\n",
       "L 229.868 13.2942\n",
       "L 229.868 10.3366\n",
       "L 226.594 10.3366\n",
       "L 226.594 13.2942\n",
       "L 225.726 13.2942\n",
       "L 225.726 6.89054\n",
       "' fill='#FF0000'/>\n",
       "<path  class='atom-12' d='M 243.701 38.4817\n",
       "L 245.799 41.8734\n",
       "Q 246.007 42.2081, 246.342 42.8141\n",
       "Q 246.677 43.4201, 246.695 43.4562\n",
       "L 246.695 38.4817\n",
       "L 247.545 38.4817\n",
       "L 247.545 44.8853\n",
       "L 246.668 44.8853\n",
       "L 244.415 41.177\n",
       "Q 244.153 40.7428, 243.873 40.2454\n",
       "Q 243.601 39.7479, 243.52 39.5942\n",
       "L 243.52 44.8853\n",
       "L 242.688 44.8853\n",
       "L 242.688 38.4817\n",
       "L 243.701 38.4817\n",
       "' fill='#0000FF'/>\n",
       "<path  class='atom-12' d='M 242.611 45.5257\n",
       "L 243.479 45.5257\n",
       "L 243.479 48.2481\n",
       "L 246.753 48.2481\n",
       "L 246.753 45.5257\n",
       "L 247.622 45.5257\n",
       "L 247.622 51.9293\n",
       "L 246.753 51.9293\n",
       "L 246.753 48.9717\n",
       "L 243.479 48.9717\n",
       "L 243.479 51.9293\n",
       "L 242.611 51.9293\n",
       "L 242.611 45.5257\n",
       "' fill='#0000FF'/>\n",
       "<path  class='atom-18' d='M 344.286 67.127\n",
       "Q 344.358 67.1541, 344.657 67.2808\n",
       "Q 344.955 67.4074, 345.281 67.4888\n",
       "Q 345.616 67.5612, 345.941 67.5612\n",
       "Q 346.547 67.5612, 346.9 67.2717\n",
       "Q 347.253 66.9733, 347.253 66.4577\n",
       "Q 347.253 66.105, 347.072 65.8879\n",
       "Q 346.9 65.6708, 346.629 65.5532\n",
       "Q 346.357 65.4357, 345.905 65.3\n",
       "Q 345.335 65.1281, 344.991 64.9653\n",
       "Q 344.657 64.8025, 344.413 64.4588\n",
       "Q 344.177 64.1151, 344.177 63.5363\n",
       "Q 344.177 62.7313, 344.72 62.2339\n",
       "Q 345.272 61.7364, 346.357 61.7364\n",
       "Q 347.099 61.7364, 347.94 62.0891\n",
       "L 347.732 62.7856\n",
       "Q 346.963 62.469, 346.384 62.469\n",
       "Q 345.76 62.469, 345.417 62.7313\n",
       "Q 345.073 62.9846, 345.082 63.4277\n",
       "Q 345.082 63.7714, 345.254 63.9795\n",
       "Q 345.435 64.1875, 345.688 64.3051\n",
       "Q 345.95 64.4227, 346.384 64.5583\n",
       "Q 346.963 64.7392, 347.307 64.9201\n",
       "Q 347.651 65.101, 347.895 65.4718\n",
       "Q 348.148 65.8336, 348.148 66.4577\n",
       "Q 348.148 67.3441, 347.551 67.8234\n",
       "Q 346.963 68.2938, 345.977 68.2938\n",
       "Q 345.407 68.2938, 344.973 68.1671\n",
       "Q 344.548 68.0496, 344.042 67.8415\n",
       "L 344.286 67.127\n",
       "' fill='#CCCC00'/>\n",
       "<path  class='atom-20' d='M 352.301 44.2676\n",
       "Q 352.301 42.73, 353.061 41.8708\n",
       "Q 353.82 41.0116, 355.24 41.0116\n",
       "Q 356.66 41.0116, 357.42 41.8708\n",
       "Q 358.18 42.73, 358.18 44.2676\n",
       "Q 358.18 45.8233, 357.411 46.7097\n",
       "Q 356.642 47.587, 355.24 47.587\n",
       "Q 353.829 47.587, 353.061 46.7097\n",
       "Q 352.301 45.8324, 352.301 44.2676\n",
       "M 355.24 46.8635\n",
       "Q 356.217 46.8635, 356.742 46.2122\n",
       "Q 357.275 45.552, 357.275 44.2676\n",
       "Q 357.275 43.0104, 356.742 42.3773\n",
       "Q 356.217 41.7351, 355.24 41.7351\n",
       "Q 354.264 41.7351, 353.73 42.3683\n",
       "Q 353.205 43.0014, 353.205 44.2676\n",
       "Q 353.205 45.561, 353.73 46.2122\n",
       "Q 354.264 46.8635, 355.24 46.8635\n",
       "' fill='#FF0000'/>\n",
       "<path  class='atom-20' d='M 358.949 41.0839\n",
       "L 359.817 41.0839\n",
       "L 359.817 43.8064\n",
       "L 363.091 43.8064\n",
       "L 363.091 41.0839\n",
       "L 363.959 41.0839\n",
       "L 363.959 47.4875\n",
       "L 363.091 47.4875\n",
       "L 363.091 44.5299\n",
       "L 359.817 44.5299\n",
       "L 359.817 47.4875\n",
       "L 358.949 47.4875\n",
       "L 358.949 41.0839\n",
       "' fill='#FF0000'/>\n",
       "<path  class='atom-21' d='M 328.547 82.4431\n",
       "L 329.415 82.4431\n",
       "L 329.415 85.1656\n",
       "L 332.689 85.1656\n",
       "L 332.689 82.4431\n",
       "L 333.558 82.4431\n",
       "L 333.558 88.8468\n",
       "L 332.689 88.8468\n",
       "L 332.689 85.8892\n",
       "L 329.415 85.8892\n",
       "L 329.415 88.8468\n",
       "L 328.547 88.8468\n",
       "L 328.547 82.4431\n",
       "' fill='#FF0000'/>\n",
       "<path  class='atom-21' d='M 334.01 85.6269\n",
       "Q 334.01 84.0893, 334.77 83.23\n",
       "Q 335.529 82.3708, 336.949 82.3708\n",
       "Q 338.369 82.3708, 339.129 83.23\n",
       "Q 339.889 84.0893, 339.889 85.6269\n",
       "Q 339.889 87.1825, 339.12 88.0689\n",
       "Q 338.351 88.9462, 336.949 88.9462\n",
       "Q 335.538 88.9462, 334.77 88.0689\n",
       "Q 334.01 87.1916, 334.01 85.6269\n",
       "M 336.949 88.2227\n",
       "Q 337.926 88.2227, 338.451 87.5715\n",
       "Q 338.984 86.9112, 338.984 85.6269\n",
       "Q 338.984 84.3697, 338.451 83.7365\n",
       "Q 337.926 83.0944, 336.949 83.0944\n",
       "Q 335.973 83.0944, 335.439 83.7275\n",
       "Q 334.914 84.3606, 334.914 85.6269\n",
       "Q 334.914 86.9202, 335.439 87.5715\n",
       "Q 335.973 88.2227, 336.949 88.2227\n",
       "' fill='#FF0000'/>\n",
       "<path  class='atom-25' d='M 180.138 14.2651\n",
       "Q 180.138 12.7275, 180.898 11.8682\n",
       "Q 181.658 11.009, 183.078 11.009\n",
       "Q 184.498 11.009, 185.257 11.8682\n",
       "Q 186.017 12.7275, 186.017 14.2651\n",
       "Q 186.017 15.8208, 185.248 16.7071\n",
       "Q 184.479 17.5845, 183.078 17.5845\n",
       "Q 181.667 17.5845, 180.898 16.7071\n",
       "Q 180.138 15.8298, 180.138 14.2651\n",
       "M 183.078 16.8609\n",
       "Q 184.054 16.8609, 184.579 16.2097\n",
       "Q 185.113 15.5494, 185.113 14.2651\n",
       "Q 185.113 13.0079, 184.579 12.3747\n",
       "Q 184.054 11.7326, 183.078 11.7326\n",
       "Q 182.101 11.7326, 181.567 12.3657\n",
       "Q 181.043 12.9988, 181.043 14.2651\n",
       "Q 181.043 15.5585, 181.567 16.2097\n",
       "Q 182.101 16.8609, 183.078 16.8609\n",
       "' fill='#FF0000'/>\n",
       "<path  class='atom-25' d='M 186.786 11.0814\n",
       "L 187.654 11.0814\n",
       "L 187.654 13.8038\n",
       "L 190.928 13.8038\n",
       "L 190.928 11.0814\n",
       "L 191.797 11.0814\n",
       "L 191.797 17.485\n",
       "L 190.928 17.485\n",
       "L 190.928 14.5274\n",
       "L 187.654 14.5274\n",
       "L 187.654 17.485\n",
       "L 186.786 17.485\n",
       "L 186.786 11.0814\n",
       "' fill='#FF0000'/>\n",
       "<path  class='atom-26' d='M 165.822 46.8633\n",
       "L 167.92 50.2551\n",
       "Q 168.128 50.5897, 168.463 51.1957\n",
       "Q 168.797 51.8017, 168.815 51.8379\n",
       "L 168.815 46.8633\n",
       "L 169.666 46.8633\n",
       "L 169.666 53.2669\n",
       "L 168.788 53.2669\n",
       "L 166.536 49.5586\n",
       "Q 166.274 49.1245, 165.993 48.627\n",
       "Q 165.722 48.1296, 165.641 47.9758\n",
       "L 165.641 53.2669\n",
       "L 164.809 53.2669\n",
       "L 164.809 46.8633\n",
       "L 165.822 46.8633\n",
       "' fill='#0000FF'/>\n",
       "<path  class='atom-32' d='M 83.2255 58.6684\n",
       "Q 83.2255 57.0765, 83.9672 56.2444\n",
       "Q 84.7179 55.4032, 86.1379 55.4032\n",
       "Q 87.4584 55.4032, 88.1639 56.3348\n",
       "L 87.5669 56.8233\n",
       "Q 87.0514 56.1449, 86.1379 56.1449\n",
       "Q 85.1701 56.1449, 84.6546 56.7961\n",
       "Q 84.1481 57.4383, 84.1481 58.6684\n",
       "Q 84.1481 59.9346, 84.6727 60.5858\n",
       "Q 85.2063 61.237, 86.2374 61.237\n",
       "Q 86.9429 61.237, 87.7659 60.8119\n",
       "L 88.0192 61.4903\n",
       "Q 87.6845 61.7074, 87.178 61.834\n",
       "Q 86.6715 61.9606, 86.1108 61.9606\n",
       "Q 84.7179 61.9606, 83.9672 61.1104\n",
       "Q 83.2255 60.2602, 83.2255 58.6684\n",
       "' fill='#00CC00'/>\n",
       "<path  class='atom-32' d='M 88.9417 55.0143\n",
       "L 89.7738 55.0143\n",
       "L 89.7738 61.8792\n",
       "L 88.9417 61.8792\n",
       "L 88.9417 55.0143\n",
       "' fill='#00CC00'/>\n",
       "</svg>\n"
      ],
      "text/plain": [
       "<rdkit.Chem.rdchem.Mol at 0x7f34093fbcb0>"
      ]
     },
     "execution_count": 75,
     "metadata": {},
     "output_type": "execute_result"
    }
   ],
   "source": [
    "# Generate Mol object from SMILES of query compound\n",
    "query = Chem.MolFromSmiles(query_comp); \n",
    "query"
   ]
  },
  {
   "cell_type": "code",
   "execution_count": 76,
   "metadata": {},
   "outputs": [],
   "source": [
    "# Generate MACCS and Morgan fingerprints for query compound\n",
    "maccs_fp_query = MACCSkeys.GenMACCSKeys(query)\n",
    "circ_fp_query = rdFingerprintGenerator.GetCountFPs([query])[0]"
   ]
  },
  {
   "cell_type": "code",
   "execution_count": 77,
   "metadata": {},
   "outputs": [],
   "source": [
    "# Generate MACCS and Morgan fingerprints for all molecules in file\n",
    "ms = [Chem.MolFromSmiles(i) for i in filtered_df.smiles]\n",
    "circ_fp_list = rdFingerprintGenerator.GetCountFPs(ms)\n",
    "maccs_fp_list = [MACCSkeys.GenMACCSKeys(m) for m in ms]"
   ]
  },
  {
   "cell_type": "code",
   "execution_count": 78,
   "metadata": {},
   "outputs": [],
   "source": [
    "# Calculate Tanimoto similarity for query compound and all molecules in file (MACCS, Morgan)\n",
    "tanimoto_maccs = DataStructs.BulkTanimotoSimilarity(maccs_fp_query,maccs_fp_list)\n",
    "tanimoto_circ = DataStructs.BulkTanimotoSimilarity(circ_fp_query,circ_fp_list)"
   ]
  },
  {
   "cell_type": "code",
   "execution_count": 79,
   "metadata": {},
   "outputs": [],
   "source": [
    "# Calculate Dice similarity for query compound and all molecules in file (MACCS, Morgan)\n",
    "dice_maccs = DataStructs.BulkDiceSimilarity(maccs_fp_query,maccs_fp_list)\n",
    "dice_circ = DataStructs.BulkDiceSimilarity(circ_fp_query,circ_fp_list)"
   ]
  },
  {
   "cell_type": "code",
   "execution_count": 80,
   "metadata": {},
   "outputs": [],
   "source": [
    "# Make table with ChEMLB ID, SMILES and Tanimoto similarity of the compounds to Gefitinib\n",
    "similarity_df = pd.DataFrame({'ChEMBL_ID':filtered_df.molecule_chembl_id,\n",
    "                              'bioactivity':filtered_df.pIC50,\n",
    "                              'tanimoto_MACCS': tanimoto_maccs, \n",
    "                              'tanimoto_morgan': tanimoto_circ, \n",
    "                              'dice_MACCS': dice_maccs,\n",
    "                              'dice_morgan': dice_circ,\n",
    "                              'smiles': filtered_df.smiles,})"
   ]
  },
  {
   "cell_type": "code",
   "execution_count": 81,
   "metadata": {},
   "outputs": [
    {
     "data": {
      "text/html": [
       "<div>\n",
       "<style scoped>\n",
       "    .dataframe tbody tr th:only-of-type {\n",
       "        vertical-align: middle;\n",
       "    }\n",
       "\n",
       "    .dataframe tbody tr th {\n",
       "        vertical-align: top;\n",
       "    }\n",
       "\n",
       "    .dataframe thead th {\n",
       "        text-align: right;\n",
       "    }\n",
       "</style>\n",
       "<table border=\"1\" class=\"dataframe\">\n",
       "  <thead>\n",
       "    <tr style=\"text-align: right;\">\n",
       "      <th></th>\n",
       "      <th>ChEMBL_ID</th>\n",
       "      <th>bioactivity</th>\n",
       "      <th>tanimoto_MACCS</th>\n",
       "      <th>tanimoto_morgan</th>\n",
       "      <th>dice_MACCS</th>\n",
       "      <th>dice_morgan</th>\n",
       "      <th>smiles</th>\n",
       "    </tr>\n",
       "  </thead>\n",
       "  <tbody>\n",
       "    <tr>\n",
       "      <th>0</th>\n",
       "      <td>CHEMBL2367667</td>\n",
       "      <td>10.443697</td>\n",
       "      <td>0.510204</td>\n",
       "      <td>0.064171</td>\n",
       "      <td>0.675676</td>\n",
       "      <td>0.120603</td>\n",
       "      <td>C=CC[C@H]1C(=O)N(S(=O)(=O)c2ccc3ccccc3c2)[C@H]...</td>\n",
       "    </tr>\n",
       "    <tr>\n",
       "      <th>1</th>\n",
       "      <td>CHEMBL3617973</td>\n",
       "      <td>10.187087</td>\n",
       "      <td>0.458333</td>\n",
       "      <td>0.038889</td>\n",
       "      <td>0.628571</td>\n",
       "      <td>0.074866</td>\n",
       "      <td>CC1=C(C#N)[C@@H](c2ccc(C#N)cc2S(C)(=O)=O)N(C)C...</td>\n",
       "    </tr>\n",
       "    <tr>\n",
       "      <th>2</th>\n",
       "      <td>CHEMBL293138</td>\n",
       "      <td>10.000000</td>\n",
       "      <td>0.433333</td>\n",
       "      <td>0.085526</td>\n",
       "      <td>0.604651</td>\n",
       "      <td>0.157576</td>\n",
       "      <td>CC(SC(=O)c1cccs1)C(=O)NCC(=O)N1CSCC1C(=O)O</td>\n",
       "    </tr>\n",
       "    <tr>\n",
       "      <th>3</th>\n",
       "      <td>CHEMBL3617966</td>\n",
       "      <td>9.677781</td>\n",
       "      <td>0.433333</td>\n",
       "      <td>0.048128</td>\n",
       "      <td>0.604651</td>\n",
       "      <td>0.091837</td>\n",
       "      <td>CNC(=O)c1cc(-c2ccnn2-c2ccc(C#N)cc2)c(C)n(-c2cc...</td>\n",
       "    </tr>\n",
       "    <tr>\n",
       "      <th>4</th>\n",
       "      <td>CHEMBL4110495</td>\n",
       "      <td>9.522879</td>\n",
       "      <td>0.436170</td>\n",
       "      <td>0.039773</td>\n",
       "      <td>0.607407</td>\n",
       "      <td>0.076503</td>\n",
       "      <td>[C-]#[N+]C1=C(C)N(c2cccc(C(F)(F)F)c2)C(=O)N[C@...</td>\n",
       "    </tr>\n",
       "  </tbody>\n",
       "</table>\n",
       "</div>"
      ],
      "text/plain": [
       "       ChEMBL_ID  bioactivity  tanimoto_MACCS  tanimoto_morgan  dice_MACCS  \\\n",
       "0  CHEMBL2367667    10.443697        0.510204         0.064171    0.675676   \n",
       "1  CHEMBL3617973    10.187087        0.458333         0.038889    0.628571   \n",
       "2   CHEMBL293138    10.000000        0.433333         0.085526    0.604651   \n",
       "3  CHEMBL3617966     9.677781        0.433333         0.048128    0.604651   \n",
       "4  CHEMBL4110495     9.522879        0.436170         0.039773    0.607407   \n",
       "\n",
       "   dice_morgan                                             smiles  \n",
       "0     0.120603  C=CC[C@H]1C(=O)N(S(=O)(=O)c2ccc3ccccc3c2)[C@H]...  \n",
       "1     0.074866  CC1=C(C#N)[C@@H](c2ccc(C#N)cc2S(C)(=O)=O)N(C)C...  \n",
       "2     0.157576         CC(SC(=O)c1cccs1)C(=O)NCC(=O)N1CSCC1C(=O)O  \n",
       "3     0.091837  CNC(=O)c1cc(-c2ccnn2-c2ccc(C#N)cc2)c(C)n(-c2cc...  \n",
       "4     0.076503  [C-]#[N+]C1=C(C)N(c2cccc(C(F)(F)F)c2)C(=O)N[C@...  "
      ]
     },
     "execution_count": 81,
     "metadata": {},
     "output_type": "execute_result"
    }
   ],
   "source": [
    "# Show DataFrame\n",
    "similarity_df.head()"
   ]
  },
  {
   "cell_type": "markdown",
   "metadata": {},
   "source": [
    "So I know that this is just a \"random\" ligand from the list of extracted ligands I used now for the search but I did not find out how to get the smiles code that is then used for the screening, after the extraction of the pharmacophore features but I am sure we will solve that next week."
   ]
  }
 ],
 "metadata": {
  "kernelspec": {
   "display_name": "opencadd",
   "language": "python",
   "name": "opencadd"
  },
  "language_info": {
   "codemirror_mode": {
    "name": "ipython",
    "version": 3
   },
   "file_extension": ".py",
   "mimetype": "text/x-python",
   "name": "python",
   "nbconvert_exporter": "python",
   "pygments_lexer": "ipython3",
   "version": "3.8.6"
  }
 },
 "nbformat": 4,
 "nbformat_minor": 4
}
